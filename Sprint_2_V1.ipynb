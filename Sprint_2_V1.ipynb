{
  "nbformat": 4,
  "nbformat_minor": 0,
  "metadata": {
    "colab": {
      "provenance": [],
      "toc_visible": true
    },
    "kernelspec": {
      "name": "python3",
      "display_name": "Python 3"
    },
    "language_info": {
      "name": "python"
    }
  },
  "cells": [
    {
      "cell_type": "markdown",
      "source": [
        "# **Introduction**\n"
      ],
      "metadata": {
        "id": "guNGR0umC1e9"
      }
    },
    {
      "cell_type": "code",
      "execution_count": null,
      "metadata": {
        "id": "fk2jIKohpfw8"
      },
      "outputs": [],
      "source": [
        "# Make a report on insights and modelling outcomes of the Secondary dataset, which is a dataset of tweets."
      ]
    },
    {
      "cell_type": "code",
      "source": [
        "# this cell contains all packages needed for the analysis\n",
        "import pandas as pd\n",
        "import nltk\n",
        "import re\n",
        "import matplotlib.pyplot as plt\n",
        "import seaborn as sns\n",
        "import plotly.express as px\n",
        "import os\n",
        "import gensim\n",
        "import logging\n",
        "import tempfile\n",
        "\n",
        "!pip install pyLDAvis\n",
        "import pyLDAvis.gensim_models\n",
        "\n",
        "nltk.download('stopwords')\n",
        "nltk.download('wordnet')\n",
        "nltk.download('omw-1.4')\n",
        "nltk.download('punkt')\n",
        "\n",
        "from textblob import TextBlob\n",
        "from nltk.corpus import stopwords\n",
        "from nltk.stem import WordNetLemmatizer\n",
        "from nltk.stem import PorterStemmer\n",
        "from nltk.tokenize import word_tokenize\n",
        "from nltk.util import ngrams\n",
        "from sklearn.feature_extraction.text import CountVectorizer\n",
        "from sklearn.feature_extraction.text import TfidfVectorizer\n",
        "from PIL import Image\n",
        "from wordcloud import WordCloud\n",
        "from gensim import corpora, models, similarities\n",
        "from sklearn.feature_extraction.text import CountVectorizer\n",
        "import pyLDAvis.gensim_models\n",
        "\n"
      ],
      "metadata": {
        "id": "TNaE2zdA8tPR",
        "colab": {
          "base_uri": "https://localhost:8080/",
          "height": 921
        },
        "outputId": "3141f1fa-8aa3-4076-9334-9344c4e63220"
      },
      "execution_count": null,
      "outputs": [
        {
          "output_type": "stream",
          "name": "stdout",
          "text": [
            "Looking in indexes: https://pypi.org/simple, https://us-python.pkg.dev/colab-wheels/public/simple/\n",
            "Collecting pyLDAvis\n",
            "  Downloading pyLDAvis-3.4.1-py3-none-any.whl (2.6 MB)\n",
            "\u001b[2K     \u001b[90m━━━━━━━━━━━━━━━━━━━━━━━━━━━━━━━━━━━━━━━━\u001b[0m \u001b[32m2.6/2.6 MB\u001b[0m \u001b[31m22.8 MB/s\u001b[0m eta \u001b[36m0:00:00\u001b[0m\n",
            "\u001b[?25hCollecting numpy>=1.24.2 (from pyLDAvis)\n",
            "  Downloading numpy-1.24.3-cp310-cp310-manylinux_2_17_x86_64.manylinux2014_x86_64.whl (17.3 MB)\n",
            "\u001b[2K     \u001b[90m━━━━━━━━━━━━━━━━━━━━━━━━━━━━━━━━━━━━━━━━\u001b[0m \u001b[32m17.3/17.3 MB\u001b[0m \u001b[31m39.3 MB/s\u001b[0m eta \u001b[36m0:00:00\u001b[0m\n",
            "\u001b[?25hRequirement already satisfied: scipy in /usr/local/lib/python3.10/dist-packages (from pyLDAvis) (1.10.1)\n",
            "Collecting pandas>=2.0.0 (from pyLDAvis)\n",
            "  Downloading pandas-2.0.1-cp310-cp310-manylinux_2_17_x86_64.manylinux2014_x86_64.whl (12.3 MB)\n",
            "\u001b[2K     \u001b[90m━━━━━━━━━━━━━━━━━━━━━━━━━━━━━━━━━━━━━━━━\u001b[0m \u001b[32m12.3/12.3 MB\u001b[0m \u001b[31m45.7 MB/s\u001b[0m eta \u001b[36m0:00:00\u001b[0m\n",
            "\u001b[?25hRequirement already satisfied: joblib>=1.2.0 in /usr/local/lib/python3.10/dist-packages (from pyLDAvis) (1.2.0)\n",
            "Requirement already satisfied: jinja2 in /usr/local/lib/python3.10/dist-packages (from pyLDAvis) (3.1.2)\n",
            "Requirement already satisfied: numexpr in /usr/local/lib/python3.10/dist-packages (from pyLDAvis) (2.8.4)\n",
            "Collecting funcy (from pyLDAvis)\n",
            "  Downloading funcy-2.0-py2.py3-none-any.whl (30 kB)\n",
            "Requirement already satisfied: scikit-learn>=1.0.0 in /usr/local/lib/python3.10/dist-packages (from pyLDAvis) (1.2.2)\n",
            "Requirement already satisfied: gensim in /usr/local/lib/python3.10/dist-packages (from pyLDAvis) (4.3.1)\n",
            "Requirement already satisfied: setuptools in /usr/local/lib/python3.10/dist-packages (from pyLDAvis) (67.7.2)\n",
            "Requirement already satisfied: python-dateutil>=2.8.2 in /usr/local/lib/python3.10/dist-packages (from pandas>=2.0.0->pyLDAvis) (2.8.2)\n",
            "Requirement already satisfied: pytz>=2020.1 in /usr/local/lib/python3.10/dist-packages (from pandas>=2.0.0->pyLDAvis) (2022.7.1)\n",
            "Requirement already satisfied: tzdata>=2022.1 in /usr/local/lib/python3.10/dist-packages (from pandas>=2.0.0->pyLDAvis) (2023.3)\n",
            "Requirement already satisfied: threadpoolctl>=2.0.0 in /usr/local/lib/python3.10/dist-packages (from scikit-learn>=1.0.0->pyLDAvis) (3.1.0)\n",
            "Requirement already satisfied: smart-open>=1.8.1 in /usr/local/lib/python3.10/dist-packages (from gensim->pyLDAvis) (6.3.0)\n",
            "Requirement already satisfied: MarkupSafe>=2.0 in /usr/local/lib/python3.10/dist-packages (from jinja2->pyLDAvis) (2.1.2)\n",
            "Requirement already satisfied: six>=1.5 in /usr/local/lib/python3.10/dist-packages (from python-dateutil>=2.8.2->pandas>=2.0.0->pyLDAvis) (1.16.0)\n",
            "Installing collected packages: funcy, numpy, pandas, pyLDAvis\n",
            "  Attempting uninstall: numpy\n",
            "    Found existing installation: numpy 1.22.4\n",
            "    Uninstalling numpy-1.22.4:\n",
            "      Successfully uninstalled numpy-1.22.4\n",
            "  Attempting uninstall: pandas\n",
            "    Found existing installation: pandas 1.5.3\n",
            "    Uninstalling pandas-1.5.3:\n",
            "      Successfully uninstalled pandas-1.5.3\n",
            "\u001b[31mERROR: pip's dependency resolver does not currently take into account all the packages that are installed. This behaviour is the source of the following dependency conflicts.\n",
            "google-colab 1.0.0 requires pandas~=1.5.3, but you have pandas 2.0.1 which is incompatible.\n",
            "numba 0.56.4 requires numpy<1.24,>=1.18, but you have numpy 1.24.3 which is incompatible.\n",
            "tensorflow 2.12.0 requires numpy<1.24,>=1.22, but you have numpy 1.24.3 which is incompatible.\u001b[0m\u001b[31m\n",
            "\u001b[0mSuccessfully installed funcy-2.0 numpy-1.24.3 pandas-2.0.1 pyLDAvis-3.4.1\n"
          ]
        },
        {
          "output_type": "display_data",
          "data": {
            "application/vnd.colab-display-data+json": {
              "pip_warning": {
                "packages": [
                  "numpy",
                  "pandas"
                ]
              }
            }
          },
          "metadata": {}
        },
        {
          "output_type": "stream",
          "name": "stderr",
          "text": [
            "[nltk_data] Downloading package stopwords to /root/nltk_data...\n",
            "[nltk_data]   Unzipping corpora/stopwords.zip.\n",
            "[nltk_data] Downloading package wordnet to /root/nltk_data...\n",
            "[nltk_data] Downloading package omw-1.4 to /root/nltk_data...\n",
            "[nltk_data] Downloading package punkt to /root/nltk_data...\n",
            "[nltk_data]   Unzipping tokenizers/punkt.zip.\n"
          ]
        }
      ]
    },
    {
      "cell_type": "code",
      "source": [
        "# import the dataset as a dataframe\n",
        "df = pd.read_csv('Secondary_Dataset.csv')"
      ],
      "metadata": {
        "id": "d0mCNxqP81o6",
        "colab": {
          "base_uri": "https://localhost:8080/"
        },
        "outputId": "72bcadf9-47c3-48e1-cb6c-32fcd60418e9"
      },
      "execution_count": null,
      "outputs": [
        {
          "output_type": "stream",
          "name": "stderr",
          "text": [
            "/usr/local/lib/python3.10/dist-packages/ipykernel/ipkernel.py:283: DeprecationWarning: `should_run_async` will not call `transform_cell` automatically in the future. Please pass the result to `transformed_cell` argument and any exception that happen during thetransform in `preprocessing_exc_tuple` in IPython 7.17 and above.\n",
            "  and should_run_async(code)\n"
          ]
        }
      ]
    },
    {
      "cell_type": "code",
      "source": [
        "df.info()"
      ],
      "metadata": {
        "id": "oQTe2516BU_p",
        "colab": {
          "base_uri": "https://localhost:8080/"
        },
        "outputId": "b18b9e8c-d9aa-405c-8796-705b8adebe21"
      },
      "execution_count": null,
      "outputs": [
        {
          "output_type": "stream",
          "name": "stdout",
          "text": [
            "<class 'pandas.core.frame.DataFrame'>\n",
            "RangeIndex: 23675 entries, 0 to 23674\n",
            "Data columns (total 4 columns):\n",
            " #   Column    Non-Null Count  Dtype  \n",
            "---  ------    --------------  -----  \n",
            " 0   Datetime  23675 non-null  object \n",
            " 1   Tweet Id  23675 non-null  float64\n",
            " 2   Text      23675 non-null  object \n",
            " 3   Username  23674 non-null  object \n",
            "dtypes: float64(1), object(3)\n",
            "memory usage: 740.0+ KB\n"
          ]
        },
        {
          "output_type": "stream",
          "name": "stderr",
          "text": [
            "/usr/local/lib/python3.10/dist-packages/ipykernel/ipkernel.py:283: DeprecationWarning: `should_run_async` will not call `transform_cell` automatically in the future. Please pass the result to `transformed_cell` argument and any exception that happen during thetransform in `preprocessing_exc_tuple` in IPython 7.17 and above.\n",
            "  and should_run_async(code)\n"
          ]
        }
      ]
    },
    {
      "cell_type": "markdown",
      "source": [
        "# **Preliminary Test Cleaning & Processing**"
      ],
      "metadata": {
        "id": "AhAmSToEC80h"
      }
    },
    {
      "cell_type": "markdown",
      "source": [
        "## Duplicate Tweets"
      ],
      "metadata": {
        "id": "pfGvDN9u6Be3"
      }
    },
    {
      "cell_type": "code",
      "source": [
        "# Duplicate tweets should be removed first\n",
        "# Checking how many records are duplicates:\n",
        "duplicate_count = len(df['Text'])-len(df['Text'].drop_duplicates())\n",
        "print('duplicate count:', duplicate_count)"
      ],
      "metadata": {
        "colab": {
          "base_uri": "https://localhost:8080/"
        },
        "id": "5koFteVjy94L",
        "outputId": "89528f85-a270-4eff-d96f-d85f4c915328"
      },
      "execution_count": null,
      "outputs": [
        {
          "output_type": "stream",
          "name": "stdout",
          "text": [
            "duplicate count: 3822\n"
          ]
        },
        {
          "output_type": "stream",
          "name": "stderr",
          "text": [
            "/usr/local/lib/python3.10/dist-packages/ipykernel/ipkernel.py:283: DeprecationWarning: `should_run_async` will not call `transform_cell` automatically in the future. Please pass the result to `transformed_cell` argument and any exception that happen during thetransform in `preprocessing_exc_tuple` in IPython 7.17 and above.\n",
            "  and should_run_async(code)\n"
          ]
        }
      ]
    },
    {
      "cell_type": "markdown",
      "source": [
        "## Duplicate Rows"
      ],
      "metadata": {
        "id": "Ef0bkf4j6Fk0"
      }
    },
    {
      "cell_type": "code",
      "source": [
        "# Dropping the duplicate rows:\n",
        "df = df.drop_duplicates(subset='Text')\n",
        "print('updated record count:', df.shape[0])"
      ],
      "metadata": {
        "colab": {
          "base_uri": "https://localhost:8080/"
        },
        "id": "dKc91_VJzUy-",
        "outputId": "b080f2fc-36ce-4617-d398-2867b0c446fc"
      },
      "execution_count": null,
      "outputs": [
        {
          "output_type": "stream",
          "name": "stdout",
          "text": [
            "updated record count: 19853\n"
          ]
        },
        {
          "output_type": "stream",
          "name": "stderr",
          "text": [
            "/usr/local/lib/python3.10/dist-packages/ipykernel/ipkernel.py:283: DeprecationWarning: `should_run_async` will not call `transform_cell` automatically in the future. Please pass the result to `transformed_cell` argument and any exception that happen during thetransform in `preprocessing_exc_tuple` in IPython 7.17 and above.\n",
            "  and should_run_async(code)\n"
          ]
        }
      ]
    },
    {
      "cell_type": "markdown",
      "source": [
        "## Lower Case"
      ],
      "metadata": {
        "id": "UFczIAon6IXd"
      }
    },
    {
      "cell_type": "code",
      "source": [
        "# change all letters in tweets to lower case\n",
        "df['Text'] = df['Text'].str.lower()\n",
        "#df.head()"
      ],
      "metadata": {
        "id": "tmRbm_vkRL5I",
        "colab": {
          "base_uri": "https://localhost:8080/"
        },
        "outputId": "54ab4eac-9496-47db-c3f5-21b9e8efe4f9"
      },
      "execution_count": null,
      "outputs": [
        {
          "output_type": "stream",
          "name": "stderr",
          "text": [
            "/usr/local/lib/python3.10/dist-packages/ipykernel/ipkernel.py:283: DeprecationWarning: `should_run_async` will not call `transform_cell` automatically in the future. Please pass the result to `transformed_cell` argument and any exception that happen during thetransform in `preprocessing_exc_tuple` in IPython 7.17 and above.\n",
            "  and should_run_async(code)\n",
            "<ipython-input-8-c180c32cb0b5>:2: SettingWithCopyWarning: \n",
            "A value is trying to be set on a copy of a slice from a DataFrame.\n",
            "Try using .loc[row_indexer,col_indexer] = value instead\n",
            "\n",
            "See the caveats in the documentation: https://pandas.pydata.org/pandas-docs/stable/user_guide/indexing.html#returning-a-view-versus-a-copy\n",
            "  df['Text'] = df['Text'].str.lower()\n"
          ]
        }
      ]
    },
    {
      "cell_type": "markdown",
      "source": [
        "## Punctuation Marks"
      ],
      "metadata": {
        "id": "ElhL92EJ6LbU"
      }
    },
    {
      "cell_type": "code",
      "source": [
        "# remove all punctuation marks and keep only words and characters\n",
        "df['Text'] = df['Text'].str.replace('[^\\w\\s]','')\n",
        "#df.head()"
      ],
      "metadata": {
        "colab": {
          "base_uri": "https://localhost:8080/"
        },
        "id": "u1m90KGkR_6d",
        "outputId": "f429ec1e-dc1b-4d32-c3ec-f15c8276a02d"
      },
      "execution_count": null,
      "outputs": [
        {
          "output_type": "stream",
          "name": "stderr",
          "text": [
            "/usr/local/lib/python3.10/dist-packages/ipykernel/ipkernel.py:283: DeprecationWarning: `should_run_async` will not call `transform_cell` automatically in the future. Please pass the result to `transformed_cell` argument and any exception that happen during thetransform in `preprocessing_exc_tuple` in IPython 7.17 and above.\n",
            "  and should_run_async(code)\n",
            "<>:2: DeprecationWarning: invalid escape sequence '\\w'\n",
            "<>:2: DeprecationWarning: invalid escape sequence '\\w'\n",
            "<ipython-input-9-67b8ee384391>:2: DeprecationWarning: invalid escape sequence '\\w'\n",
            "  df['Text'] = df['Text'].str.replace('[^\\w\\s]','')\n",
            "<ipython-input-9-67b8ee384391>:2: FutureWarning: The default value of regex will change from True to False in a future version.\n",
            "  df['Text'] = df['Text'].str.replace('[^\\w\\s]','')\n"
          ]
        }
      ]
    },
    {
      "cell_type": "code",
      "source": [
        "df.sample(10)"
      ],
      "metadata": {
        "colab": {
          "base_uri": "https://localhost:8080/",
          "height": 417
        },
        "id": "5Mz2VQBt7Vsy",
        "outputId": "9c2abe80-5aa3-4edd-a76d-bfd5258dceb2"
      },
      "execution_count": null,
      "outputs": [
        {
          "output_type": "stream",
          "name": "stderr",
          "text": [
            "/usr/local/lib/python3.10/dist-packages/ipykernel/ipkernel.py:283: DeprecationWarning: `should_run_async` will not call `transform_cell` automatically in the future. Please pass the result to `transformed_cell` argument and any exception that happen during thetransform in `preprocessing_exc_tuple` in IPython 7.17 and above.\n",
            "  and should_run_async(code)\n"
          ]
        },
        {
          "output_type": "execute_result",
          "data": {
            "text/plain": [
              "               Datetime      Tweet Id  \\\n",
              "21238   3/07/2021 16:48  1.410000e+18   \n",
              "21340   2/07/2021 13:22  1.410000e+18   \n",
              "9617    19/10/2021 0:44  1.450000e+18   \n",
              "11712   30/09/2021 0:04  1.440000e+18   \n",
              "2155    30/12/2021 9:06  1.480000e+18   \n",
              "962    16/01/2022 12:52  1.480000e+18   \n",
              "1677    6/01/2022 11:22  1.480000e+18   \n",
              "15994  19/08/2021 18:22  1.430000e+18   \n",
              "4308   29/11/2021 13:21  1.470000e+18   \n",
              "12428  23/09/2021 18:51  1.440000e+18   \n",
              "\n",
              "                                                    Text         Username  \n",
              "21238  how did eating become so complicated  publisho...        DFeazelle  \n",
              "21340  new study reveals adding spice to your food ca...         CapoVelo  \n",
              "9617   selfies can make you look  and less attractive...    StayHealthy07  \n",
              "11712  with lifestyle solutions you learn to develop ...    LifestyleSoln  \n",
              "2155   is it wrong for christians to eat meat  via pe...    mishaelawitty  \n",
              "962    easy tasty amp healthy why wouldnt you want to...   BackyardFarmUK  \n",
              "1677   article quantification of the health impacts a...    NatureFoodJnl  \n",
              "15994  parents shouldnt need science degrees to make ...  CenterEnvHealth  \n",
              "4308   howdy as a 40 year old diabetic ive made the d...    lifeissweet40  \n",
              "12428  fitness and nutrition are the flip side of the...       marklesher  "
            ],
            "text/html": [
              "\n",
              "  <div id=\"df-3b85a8c1-7fca-4e11-a371-66031903bd57\">\n",
              "    <div class=\"colab-df-container\">\n",
              "      <div>\n",
              "<style scoped>\n",
              "    .dataframe tbody tr th:only-of-type {\n",
              "        vertical-align: middle;\n",
              "    }\n",
              "\n",
              "    .dataframe tbody tr th {\n",
              "        vertical-align: top;\n",
              "    }\n",
              "\n",
              "    .dataframe thead th {\n",
              "        text-align: right;\n",
              "    }\n",
              "</style>\n",
              "<table border=\"1\" class=\"dataframe\">\n",
              "  <thead>\n",
              "    <tr style=\"text-align: right;\">\n",
              "      <th></th>\n",
              "      <th>Datetime</th>\n",
              "      <th>Tweet Id</th>\n",
              "      <th>Text</th>\n",
              "      <th>Username</th>\n",
              "    </tr>\n",
              "  </thead>\n",
              "  <tbody>\n",
              "    <tr>\n",
              "      <th>21238</th>\n",
              "      <td>3/07/2021 16:48</td>\n",
              "      <td>1.410000e+18</td>\n",
              "      <td>how did eating become so complicated  publisho...</td>\n",
              "      <td>DFeazelle</td>\n",
              "    </tr>\n",
              "    <tr>\n",
              "      <th>21340</th>\n",
              "      <td>2/07/2021 13:22</td>\n",
              "      <td>1.410000e+18</td>\n",
              "      <td>new study reveals adding spice to your food ca...</td>\n",
              "      <td>CapoVelo</td>\n",
              "    </tr>\n",
              "    <tr>\n",
              "      <th>9617</th>\n",
              "      <td>19/10/2021 0:44</td>\n",
              "      <td>1.450000e+18</td>\n",
              "      <td>selfies can make you look  and less attractive...</td>\n",
              "      <td>StayHealthy07</td>\n",
              "    </tr>\n",
              "    <tr>\n",
              "      <th>11712</th>\n",
              "      <td>30/09/2021 0:04</td>\n",
              "      <td>1.440000e+18</td>\n",
              "      <td>with lifestyle solutions you learn to develop ...</td>\n",
              "      <td>LifestyleSoln</td>\n",
              "    </tr>\n",
              "    <tr>\n",
              "      <th>2155</th>\n",
              "      <td>30/12/2021 9:06</td>\n",
              "      <td>1.480000e+18</td>\n",
              "      <td>is it wrong for christians to eat meat  via pe...</td>\n",
              "      <td>mishaelawitty</td>\n",
              "    </tr>\n",
              "    <tr>\n",
              "      <th>962</th>\n",
              "      <td>16/01/2022 12:52</td>\n",
              "      <td>1.480000e+18</td>\n",
              "      <td>easy tasty amp healthy why wouldnt you want to...</td>\n",
              "      <td>BackyardFarmUK</td>\n",
              "    </tr>\n",
              "    <tr>\n",
              "      <th>1677</th>\n",
              "      <td>6/01/2022 11:22</td>\n",
              "      <td>1.480000e+18</td>\n",
              "      <td>article quantification of the health impacts a...</td>\n",
              "      <td>NatureFoodJnl</td>\n",
              "    </tr>\n",
              "    <tr>\n",
              "      <th>15994</th>\n",
              "      <td>19/08/2021 18:22</td>\n",
              "      <td>1.430000e+18</td>\n",
              "      <td>parents shouldnt need science degrees to make ...</td>\n",
              "      <td>CenterEnvHealth</td>\n",
              "    </tr>\n",
              "    <tr>\n",
              "      <th>4308</th>\n",
              "      <td>29/11/2021 13:21</td>\n",
              "      <td>1.470000e+18</td>\n",
              "      <td>howdy as a 40 year old diabetic ive made the d...</td>\n",
              "      <td>lifeissweet40</td>\n",
              "    </tr>\n",
              "    <tr>\n",
              "      <th>12428</th>\n",
              "      <td>23/09/2021 18:51</td>\n",
              "      <td>1.440000e+18</td>\n",
              "      <td>fitness and nutrition are the flip side of the...</td>\n",
              "      <td>marklesher</td>\n",
              "    </tr>\n",
              "  </tbody>\n",
              "</table>\n",
              "</div>\n",
              "      <button class=\"colab-df-convert\" onclick=\"convertToInteractive('df-3b85a8c1-7fca-4e11-a371-66031903bd57')\"\n",
              "              title=\"Convert this dataframe to an interactive table.\"\n",
              "              style=\"display:none;\">\n",
              "        \n",
              "  <svg xmlns=\"http://www.w3.org/2000/svg\" height=\"24px\"viewBox=\"0 0 24 24\"\n",
              "       width=\"24px\">\n",
              "    <path d=\"M0 0h24v24H0V0z\" fill=\"none\"/>\n",
              "    <path d=\"M18.56 5.44l.94 2.06.94-2.06 2.06-.94-2.06-.94-.94-2.06-.94 2.06-2.06.94zm-11 1L8.5 8.5l.94-2.06 2.06-.94-2.06-.94L8.5 2.5l-.94 2.06-2.06.94zm10 10l.94 2.06.94-2.06 2.06-.94-2.06-.94-.94-2.06-.94 2.06-2.06.94z\"/><path d=\"M17.41 7.96l-1.37-1.37c-.4-.4-.92-.59-1.43-.59-.52 0-1.04.2-1.43.59L10.3 9.45l-7.72 7.72c-.78.78-.78 2.05 0 2.83L4 21.41c.39.39.9.59 1.41.59.51 0 1.02-.2 1.41-.59l7.78-7.78 2.81-2.81c.8-.78.8-2.07 0-2.86zM5.41 20L4 18.59l7.72-7.72 1.47 1.35L5.41 20z\"/>\n",
              "  </svg>\n",
              "      </button>\n",
              "      \n",
              "  <style>\n",
              "    .colab-df-container {\n",
              "      display:flex;\n",
              "      flex-wrap:wrap;\n",
              "      gap: 12px;\n",
              "    }\n",
              "\n",
              "    .colab-df-convert {\n",
              "      background-color: #E8F0FE;\n",
              "      border: none;\n",
              "      border-radius: 50%;\n",
              "      cursor: pointer;\n",
              "      display: none;\n",
              "      fill: #1967D2;\n",
              "      height: 32px;\n",
              "      padding: 0 0 0 0;\n",
              "      width: 32px;\n",
              "    }\n",
              "\n",
              "    .colab-df-convert:hover {\n",
              "      background-color: #E2EBFA;\n",
              "      box-shadow: 0px 1px 2px rgba(60, 64, 67, 0.3), 0px 1px 3px 1px rgba(60, 64, 67, 0.15);\n",
              "      fill: #174EA6;\n",
              "    }\n",
              "\n",
              "    [theme=dark] .colab-df-convert {\n",
              "      background-color: #3B4455;\n",
              "      fill: #D2E3FC;\n",
              "    }\n",
              "\n",
              "    [theme=dark] .colab-df-convert:hover {\n",
              "      background-color: #434B5C;\n",
              "      box-shadow: 0px 1px 3px 1px rgba(0, 0, 0, 0.15);\n",
              "      filter: drop-shadow(0px 1px 2px rgba(0, 0, 0, 0.3));\n",
              "      fill: #FFFFFF;\n",
              "    }\n",
              "  </style>\n",
              "\n",
              "      <script>\n",
              "        const buttonEl =\n",
              "          document.querySelector('#df-3b85a8c1-7fca-4e11-a371-66031903bd57 button.colab-df-convert');\n",
              "        buttonEl.style.display =\n",
              "          google.colab.kernel.accessAllowed ? 'block' : 'none';\n",
              "\n",
              "        async function convertToInteractive(key) {\n",
              "          const element = document.querySelector('#df-3b85a8c1-7fca-4e11-a371-66031903bd57');\n",
              "          const dataTable =\n",
              "            await google.colab.kernel.invokeFunction('convertToInteractive',\n",
              "                                                     [key], {});\n",
              "          if (!dataTable) return;\n",
              "\n",
              "          const docLinkHtml = 'Like what you see? Visit the ' +\n",
              "            '<a target=\"_blank\" href=https://colab.research.google.com/notebooks/data_table.ipynb>data table notebook</a>'\n",
              "            + ' to learn more about interactive tables.';\n",
              "          element.innerHTML = '';\n",
              "          dataTable['output_type'] = 'display_data';\n",
              "          await google.colab.output.renderOutput(dataTable, element);\n",
              "          const docLink = document.createElement('div');\n",
              "          docLink.innerHTML = docLinkHtml;\n",
              "          element.appendChild(docLink);\n",
              "        }\n",
              "      </script>\n",
              "    </div>\n",
              "  </div>\n",
              "  "
            ]
          },
          "metadata": {},
          "execution_count": 10
        }
      ]
    },
    {
      "cell_type": "markdown",
      "source": [
        "## Removing Numbers"
      ],
      "metadata": {
        "id": "2g5U86Aq6OUR"
      }
    },
    {
      "cell_type": "code",
      "source": [
        "# removes numbers since they aren't needed for text analysis\n",
        "\n",
        "def remove_digits(sent):\n",
        "  return \" \".join(w for w in sent.split() if not w.isdigit())\n",
        "\n",
        "df['Text'] = df['Text'].apply(remove_digits)\n",
        "\n",
        "# also removes any words containing numbers\n",
        "\n",
        "#df['text'] = df['Text'].replace(to_replace=[1,234567890], regex=True, value='')\n",
        "df['Text'] = df['Text'].str.replace('\\d+', '')"
      ],
      "metadata": {
        "id": "vontHKjLIC24",
        "colab": {
          "base_uri": "https://localhost:8080/"
        },
        "outputId": "398858de-350a-47d8-bc73-a8e4e826fd35"
      },
      "execution_count": null,
      "outputs": [
        {
          "output_type": "stream",
          "name": "stderr",
          "text": [
            "/usr/local/lib/python3.10/dist-packages/ipykernel/ipkernel.py:283: DeprecationWarning: `should_run_async` will not call `transform_cell` automatically in the future. Please pass the result to `transformed_cell` argument and any exception that happen during thetransform in `preprocessing_exc_tuple` in IPython 7.17 and above.\n",
            "  and should_run_async(code)\n",
            "<>:11: DeprecationWarning: invalid escape sequence '\\d'\n",
            "<>:11: DeprecationWarning: invalid escape sequence '\\d'\n",
            "<ipython-input-11-1d8236515f22>:11: DeprecationWarning: invalid escape sequence '\\d'\n",
            "  df['Text'] = df['Text'].str.replace('\\d+', '')\n",
            "<ipython-input-11-1d8236515f22>:11: FutureWarning: The default value of regex will change from True to False in a future version.\n",
            "  df['Text'] = df['Text'].str.replace('\\d+', '')\n"
          ]
        }
      ]
    },
    {
      "cell_type": "code",
      "source": [
        "df.sample(20)"
      ],
      "metadata": {
        "id": "oePxpN65xxlt",
        "colab": {
          "base_uri": "https://localhost:8080/",
          "height": 731
        },
        "outputId": "56fb46a4-f91d-412f-ba70-854b4f269709"
      },
      "execution_count": null,
      "outputs": [
        {
          "output_type": "stream",
          "name": "stderr",
          "text": [
            "/usr/local/lib/python3.10/dist-packages/ipykernel/ipkernel.py:283: DeprecationWarning: `should_run_async` will not call `transform_cell` automatically in the future. Please pass the result to `transformed_cell` argument and any exception that happen during thetransform in `preprocessing_exc_tuple` in IPython 7.17 and above.\n",
            "  and should_run_async(code)\n"
          ]
        },
        {
          "output_type": "execute_result",
          "data": {
            "text/plain": [
              "               Datetime      Tweet Id  \\\n",
              "18498  26/07/2021 18:00  1.420000e+18   \n",
              "16594  13/08/2021 15:04  1.430000e+18   \n",
              "6907   10/11/2021 21:01  1.460000e+18   \n",
              "9826    17/10/2021 4:37  1.450000e+18   \n",
              "7623     5/11/2021 4:13  1.460000e+18   \n",
              "4047     1/12/2021 1:57  1.470000e+18   \n",
              "15032  28/08/2021 22:52  1.430000e+18   \n",
              "20103   13/07/2021 3:04  1.410000e+18   \n",
              "22219  23/06/2021 19:30  1.410000e+18   \n",
              "20960   5/07/2021 17:00  1.410000e+18   \n",
              "11663  30/09/2021 10:49  1.440000e+18   \n",
              "15153  27/08/2021 15:42  1.430000e+18   \n",
              "6945   10/11/2021 14:27  1.460000e+18   \n",
              "7488     6/11/2021 4:26  1.460000e+18   \n",
              "7739     4/11/2021 8:30  1.460000e+18   \n",
              "10933    7/10/2021 6:53  1.450000e+18   \n",
              "12688  21/09/2021 14:23  1.440000e+18   \n",
              "1579    7/01/2022 17:43  1.480000e+18   \n",
              "18610   26/07/2021 0:48  1.420000e+18   \n",
              "15477   25/08/2021 4:30  1.430000e+18   \n",
              "\n",
              "                                                    Text         Username  \n",
              "18498  health benefits of turmeric and curcumin diet ...     HealthBen101  \n",
              "16594  the sardinian diet consists of wholegrain brea...       kipkitchen  \n",
              "6907   faced with a global pandemic most consumers ha...         SKUlocal  \n",
              "9826   garlic juice the elixir of youth httpstcokubzf...  ViataPerfectaRo  \n",
              "7623   most common cause of allergies and their trigg...    StayHealthy07  \n",
              "4047   wethenorth officialharibo nasa fyi for your in...        EmceeSLIM  \n",
              "15032  lutein health benefits and top food sources lu...   paradisefound3  \n",
              "20103  what does your blood type say about your perso...    StayHealthy07  \n",
              "22219  why are you feeling cold after eating httpstco...    StayHealthy07  \n",
              "20960  as part of our healthy life mission we have be...         JonoBone  \n",
              "11663  health wellness lifestyle healing food dates d...   LukeCoutinho17  \n",
              "15153  super cute pancakes our organic amp glutenfree...     TerraPowders  \n",
              "6945   obesity in children find the foods that can he...    StayHealthy07  \n",
              "7488   computer related health problems and how it ca...    StayHealthy07  \n",
              "7739   health benefits of drinking coffee that you mu...    StayHealthy07  \n",
              "10933  enjoy good food for good health benefits veget...  YouTubeFitness3  \n",
              "12688  recipe for a delicious amp healthy life health...  CultureofHlthLd  \n",
              "1579   its diet or liveit i think the choice is obvio...      DrDavidKatz  \n",
              "18610  guess what is representing for day of blackbot...      T_Marie_Wms  \n",
              "15477  five basic food items to treat asthma httpstco...       mytentaran  "
            ],
            "text/html": [
              "\n",
              "  <div id=\"df-a470e350-2542-4d50-936d-0953cc8777d7\">\n",
              "    <div class=\"colab-df-container\">\n",
              "      <div>\n",
              "<style scoped>\n",
              "    .dataframe tbody tr th:only-of-type {\n",
              "        vertical-align: middle;\n",
              "    }\n",
              "\n",
              "    .dataframe tbody tr th {\n",
              "        vertical-align: top;\n",
              "    }\n",
              "\n",
              "    .dataframe thead th {\n",
              "        text-align: right;\n",
              "    }\n",
              "</style>\n",
              "<table border=\"1\" class=\"dataframe\">\n",
              "  <thead>\n",
              "    <tr style=\"text-align: right;\">\n",
              "      <th></th>\n",
              "      <th>Datetime</th>\n",
              "      <th>Tweet Id</th>\n",
              "      <th>Text</th>\n",
              "      <th>Username</th>\n",
              "    </tr>\n",
              "  </thead>\n",
              "  <tbody>\n",
              "    <tr>\n",
              "      <th>18498</th>\n",
              "      <td>26/07/2021 18:00</td>\n",
              "      <td>1.420000e+18</td>\n",
              "      <td>health benefits of turmeric and curcumin diet ...</td>\n",
              "      <td>HealthBen101</td>\n",
              "    </tr>\n",
              "    <tr>\n",
              "      <th>16594</th>\n",
              "      <td>13/08/2021 15:04</td>\n",
              "      <td>1.430000e+18</td>\n",
              "      <td>the sardinian diet consists of wholegrain brea...</td>\n",
              "      <td>kipkitchen</td>\n",
              "    </tr>\n",
              "    <tr>\n",
              "      <th>6907</th>\n",
              "      <td>10/11/2021 21:01</td>\n",
              "      <td>1.460000e+18</td>\n",
              "      <td>faced with a global pandemic most consumers ha...</td>\n",
              "      <td>SKUlocal</td>\n",
              "    </tr>\n",
              "    <tr>\n",
              "      <th>9826</th>\n",
              "      <td>17/10/2021 4:37</td>\n",
              "      <td>1.450000e+18</td>\n",
              "      <td>garlic juice the elixir of youth httpstcokubzf...</td>\n",
              "      <td>ViataPerfectaRo</td>\n",
              "    </tr>\n",
              "    <tr>\n",
              "      <th>7623</th>\n",
              "      <td>5/11/2021 4:13</td>\n",
              "      <td>1.460000e+18</td>\n",
              "      <td>most common cause of allergies and their trigg...</td>\n",
              "      <td>StayHealthy07</td>\n",
              "    </tr>\n",
              "    <tr>\n",
              "      <th>4047</th>\n",
              "      <td>1/12/2021 1:57</td>\n",
              "      <td>1.470000e+18</td>\n",
              "      <td>wethenorth officialharibo nasa fyi for your in...</td>\n",
              "      <td>EmceeSLIM</td>\n",
              "    </tr>\n",
              "    <tr>\n",
              "      <th>15032</th>\n",
              "      <td>28/08/2021 22:52</td>\n",
              "      <td>1.430000e+18</td>\n",
              "      <td>lutein health benefits and top food sources lu...</td>\n",
              "      <td>paradisefound3</td>\n",
              "    </tr>\n",
              "    <tr>\n",
              "      <th>20103</th>\n",
              "      <td>13/07/2021 3:04</td>\n",
              "      <td>1.410000e+18</td>\n",
              "      <td>what does your blood type say about your perso...</td>\n",
              "      <td>StayHealthy07</td>\n",
              "    </tr>\n",
              "    <tr>\n",
              "      <th>22219</th>\n",
              "      <td>23/06/2021 19:30</td>\n",
              "      <td>1.410000e+18</td>\n",
              "      <td>why are you feeling cold after eating httpstco...</td>\n",
              "      <td>StayHealthy07</td>\n",
              "    </tr>\n",
              "    <tr>\n",
              "      <th>20960</th>\n",
              "      <td>5/07/2021 17:00</td>\n",
              "      <td>1.410000e+18</td>\n",
              "      <td>as part of our healthy life mission we have be...</td>\n",
              "      <td>JonoBone</td>\n",
              "    </tr>\n",
              "    <tr>\n",
              "      <th>11663</th>\n",
              "      <td>30/09/2021 10:49</td>\n",
              "      <td>1.440000e+18</td>\n",
              "      <td>health wellness lifestyle healing food dates d...</td>\n",
              "      <td>LukeCoutinho17</td>\n",
              "    </tr>\n",
              "    <tr>\n",
              "      <th>15153</th>\n",
              "      <td>27/08/2021 15:42</td>\n",
              "      <td>1.430000e+18</td>\n",
              "      <td>super cute pancakes our organic amp glutenfree...</td>\n",
              "      <td>TerraPowders</td>\n",
              "    </tr>\n",
              "    <tr>\n",
              "      <th>6945</th>\n",
              "      <td>10/11/2021 14:27</td>\n",
              "      <td>1.460000e+18</td>\n",
              "      <td>obesity in children find the foods that can he...</td>\n",
              "      <td>StayHealthy07</td>\n",
              "    </tr>\n",
              "    <tr>\n",
              "      <th>7488</th>\n",
              "      <td>6/11/2021 4:26</td>\n",
              "      <td>1.460000e+18</td>\n",
              "      <td>computer related health problems and how it ca...</td>\n",
              "      <td>StayHealthy07</td>\n",
              "    </tr>\n",
              "    <tr>\n",
              "      <th>7739</th>\n",
              "      <td>4/11/2021 8:30</td>\n",
              "      <td>1.460000e+18</td>\n",
              "      <td>health benefits of drinking coffee that you mu...</td>\n",
              "      <td>StayHealthy07</td>\n",
              "    </tr>\n",
              "    <tr>\n",
              "      <th>10933</th>\n",
              "      <td>7/10/2021 6:53</td>\n",
              "      <td>1.450000e+18</td>\n",
              "      <td>enjoy good food for good health benefits veget...</td>\n",
              "      <td>YouTubeFitness3</td>\n",
              "    </tr>\n",
              "    <tr>\n",
              "      <th>12688</th>\n",
              "      <td>21/09/2021 14:23</td>\n",
              "      <td>1.440000e+18</td>\n",
              "      <td>recipe for a delicious amp healthy life health...</td>\n",
              "      <td>CultureofHlthLd</td>\n",
              "    </tr>\n",
              "    <tr>\n",
              "      <th>1579</th>\n",
              "      <td>7/01/2022 17:43</td>\n",
              "      <td>1.480000e+18</td>\n",
              "      <td>its diet or liveit i think the choice is obvio...</td>\n",
              "      <td>DrDavidKatz</td>\n",
              "    </tr>\n",
              "    <tr>\n",
              "      <th>18610</th>\n",
              "      <td>26/07/2021 0:48</td>\n",
              "      <td>1.420000e+18</td>\n",
              "      <td>guess what is representing for day of blackbot...</td>\n",
              "      <td>T_Marie_Wms</td>\n",
              "    </tr>\n",
              "    <tr>\n",
              "      <th>15477</th>\n",
              "      <td>25/08/2021 4:30</td>\n",
              "      <td>1.430000e+18</td>\n",
              "      <td>five basic food items to treat asthma httpstco...</td>\n",
              "      <td>mytentaran</td>\n",
              "    </tr>\n",
              "  </tbody>\n",
              "</table>\n",
              "</div>\n",
              "      <button class=\"colab-df-convert\" onclick=\"convertToInteractive('df-a470e350-2542-4d50-936d-0953cc8777d7')\"\n",
              "              title=\"Convert this dataframe to an interactive table.\"\n",
              "              style=\"display:none;\">\n",
              "        \n",
              "  <svg xmlns=\"http://www.w3.org/2000/svg\" height=\"24px\"viewBox=\"0 0 24 24\"\n",
              "       width=\"24px\">\n",
              "    <path d=\"M0 0h24v24H0V0z\" fill=\"none\"/>\n",
              "    <path d=\"M18.56 5.44l.94 2.06.94-2.06 2.06-.94-2.06-.94-.94-2.06-.94 2.06-2.06.94zm-11 1L8.5 8.5l.94-2.06 2.06-.94-2.06-.94L8.5 2.5l-.94 2.06-2.06.94zm10 10l.94 2.06.94-2.06 2.06-.94-2.06-.94-.94-2.06-.94 2.06-2.06.94z\"/><path d=\"M17.41 7.96l-1.37-1.37c-.4-.4-.92-.59-1.43-.59-.52 0-1.04.2-1.43.59L10.3 9.45l-7.72 7.72c-.78.78-.78 2.05 0 2.83L4 21.41c.39.39.9.59 1.41.59.51 0 1.02-.2 1.41-.59l7.78-7.78 2.81-2.81c.8-.78.8-2.07 0-2.86zM5.41 20L4 18.59l7.72-7.72 1.47 1.35L5.41 20z\"/>\n",
              "  </svg>\n",
              "      </button>\n",
              "      \n",
              "  <style>\n",
              "    .colab-df-container {\n",
              "      display:flex;\n",
              "      flex-wrap:wrap;\n",
              "      gap: 12px;\n",
              "    }\n",
              "\n",
              "    .colab-df-convert {\n",
              "      background-color: #E8F0FE;\n",
              "      border: none;\n",
              "      border-radius: 50%;\n",
              "      cursor: pointer;\n",
              "      display: none;\n",
              "      fill: #1967D2;\n",
              "      height: 32px;\n",
              "      padding: 0 0 0 0;\n",
              "      width: 32px;\n",
              "    }\n",
              "\n",
              "    .colab-df-convert:hover {\n",
              "      background-color: #E2EBFA;\n",
              "      box-shadow: 0px 1px 2px rgba(60, 64, 67, 0.3), 0px 1px 3px 1px rgba(60, 64, 67, 0.15);\n",
              "      fill: #174EA6;\n",
              "    }\n",
              "\n",
              "    [theme=dark] .colab-df-convert {\n",
              "      background-color: #3B4455;\n",
              "      fill: #D2E3FC;\n",
              "    }\n",
              "\n",
              "    [theme=dark] .colab-df-convert:hover {\n",
              "      background-color: #434B5C;\n",
              "      box-shadow: 0px 1px 3px 1px rgba(0, 0, 0, 0.15);\n",
              "      filter: drop-shadow(0px 1px 2px rgba(0, 0, 0, 0.3));\n",
              "      fill: #FFFFFF;\n",
              "    }\n",
              "  </style>\n",
              "\n",
              "      <script>\n",
              "        const buttonEl =\n",
              "          document.querySelector('#df-a470e350-2542-4d50-936d-0953cc8777d7 button.colab-df-convert');\n",
              "        buttonEl.style.display =\n",
              "          google.colab.kernel.accessAllowed ? 'block' : 'none';\n",
              "\n",
              "        async function convertToInteractive(key) {\n",
              "          const element = document.querySelector('#df-a470e350-2542-4d50-936d-0953cc8777d7');\n",
              "          const dataTable =\n",
              "            await google.colab.kernel.invokeFunction('convertToInteractive',\n",
              "                                                     [key], {});\n",
              "          if (!dataTable) return;\n",
              "\n",
              "          const docLinkHtml = 'Like what you see? Visit the ' +\n",
              "            '<a target=\"_blank\" href=https://colab.research.google.com/notebooks/data_table.ipynb>data table notebook</a>'\n",
              "            + ' to learn more about interactive tables.';\n",
              "          element.innerHTML = '';\n",
              "          dataTable['output_type'] = 'display_data';\n",
              "          await google.colab.output.renderOutput(dataTable, element);\n",
              "          const docLink = document.createElement('div');\n",
              "          docLink.innerHTML = docLinkHtml;\n",
              "          element.appendChild(docLink);\n",
              "        }\n",
              "      </script>\n",
              "    </div>\n",
              "  </div>\n",
              "  "
            ]
          },
          "metadata": {},
          "execution_count": 12
        }
      ]
    },
    {
      "cell_type": "markdown",
      "source": [
        "## Keeping English Words"
      ],
      "metadata": {
        "id": "-hOrE3HYa2Wr"
      }
    },
    {
      "cell_type": "code",
      "source": [
        "# All words in languages other than english will be removed\n",
        "#def remove_foreign_letters(sent):\n",
        " # return \" \".join(w for w in sent.split() if not w.isalpha())\n",
        "\n",
        "#df['Text'] = df['Text'].apply(remove_foreign_letters)"
      ],
      "metadata": {
        "colab": {
          "base_uri": "https://localhost:8080/"
        },
        "id": "Xt3rVjPAa8yG",
        "outputId": "2301c5a0-4c5b-48e5-c024-f0a7f2c7471b"
      },
      "execution_count": null,
      "outputs": [
        {
          "output_type": "stream",
          "name": "stderr",
          "text": [
            "/usr/local/lib/python3.10/dist-packages/ipykernel/ipkernel.py:283: DeprecationWarning: `should_run_async` will not call `transform_cell` automatically in the future. Please pass the result to `transformed_cell` argument and any exception that happen during thetransform in `preprocessing_exc_tuple` in IPython 7.17 and above.\n",
            "  and should_run_async(code)\n"
          ]
        }
      ]
    },
    {
      "cell_type": "code",
      "source": [
        "df.sample(10)"
      ],
      "metadata": {
        "colab": {
          "base_uri": "https://localhost:8080/",
          "height": 417
        },
        "id": "oHXczX_Miufc",
        "outputId": "c4f86827-be84-473a-d99e-99866063d9a8"
      },
      "execution_count": null,
      "outputs": [
        {
          "output_type": "stream",
          "name": "stderr",
          "text": [
            "/usr/local/lib/python3.10/dist-packages/ipykernel/ipkernel.py:283: DeprecationWarning: `should_run_async` will not call `transform_cell` automatically in the future. Please pass the result to `transformed_cell` argument and any exception that happen during thetransform in `preprocessing_exc_tuple` in IPython 7.17 and above.\n",
            "  and should_run_async(code)\n"
          ]
        },
        {
          "output_type": "execute_result",
          "data": {
            "text/plain": [
              "               Datetime      Tweet Id  \\\n",
              "9384    21/10/2021 0:18  1.450000e+18   \n",
              "16229  17/08/2021 14:35  1.430000e+18   \n",
              "16911  10/08/2021 19:30  1.430000e+18   \n",
              "10036  15/10/2021 17:43  1.450000e+18   \n",
              "15182  27/08/2021 12:46  1.430000e+18   \n",
              "6220   16/11/2021 10:18  1.460000e+18   \n",
              "7509    5/11/2021 20:36  1.460000e+18   \n",
              "21977   26/06/2021 4:44  1.410000e+18   \n",
              "6514   13/11/2021 22:40  1.460000e+18   \n",
              "22229  23/06/2021 17:42  1.410000e+18   \n",
              "\n",
              "                                                    Text         Username  \n",
              "9384   the best gift for your vegan giftvegan plantba...   IamFan37631489  \n",
              "16229  using gps and ai to check plants health could ...     ElyssePoetis  \n",
              "16911  how do you remove a fish bone from your throat...    StayHealthy07  \n",
              "10036  on march th i was writing about the most press...          guido23  \n",
              "15182  the weekend is here what are your plans for it...        Pillboxng  \n",
              "6220   ahmedabad city bans stalls selling nonvegetari...   pavanichandu16  \n",
              "7509   empoligenoa game and sandwich healthy of cours...   healthytasting  \n",
              "21977  tgif cold soba and sake with a side of organic...          k1bakun  \n",
              "6514   healthy eating is not a diet but a way of life...    StayHealthy07  \n",
              "22229  healthy diets mediterranean dash ahei lower ri...  250HealthyFoods  "
            ],
            "text/html": [
              "\n",
              "  <div id=\"df-3a9b360c-768b-47a8-9227-ad03161768cc\">\n",
              "    <div class=\"colab-df-container\">\n",
              "      <div>\n",
              "<style scoped>\n",
              "    .dataframe tbody tr th:only-of-type {\n",
              "        vertical-align: middle;\n",
              "    }\n",
              "\n",
              "    .dataframe tbody tr th {\n",
              "        vertical-align: top;\n",
              "    }\n",
              "\n",
              "    .dataframe thead th {\n",
              "        text-align: right;\n",
              "    }\n",
              "</style>\n",
              "<table border=\"1\" class=\"dataframe\">\n",
              "  <thead>\n",
              "    <tr style=\"text-align: right;\">\n",
              "      <th></th>\n",
              "      <th>Datetime</th>\n",
              "      <th>Tweet Id</th>\n",
              "      <th>Text</th>\n",
              "      <th>Username</th>\n",
              "    </tr>\n",
              "  </thead>\n",
              "  <tbody>\n",
              "    <tr>\n",
              "      <th>9384</th>\n",
              "      <td>21/10/2021 0:18</td>\n",
              "      <td>1.450000e+18</td>\n",
              "      <td>the best gift for your vegan giftvegan plantba...</td>\n",
              "      <td>IamFan37631489</td>\n",
              "    </tr>\n",
              "    <tr>\n",
              "      <th>16229</th>\n",
              "      <td>17/08/2021 14:35</td>\n",
              "      <td>1.430000e+18</td>\n",
              "      <td>using gps and ai to check plants health could ...</td>\n",
              "      <td>ElyssePoetis</td>\n",
              "    </tr>\n",
              "    <tr>\n",
              "      <th>16911</th>\n",
              "      <td>10/08/2021 19:30</td>\n",
              "      <td>1.430000e+18</td>\n",
              "      <td>how do you remove a fish bone from your throat...</td>\n",
              "      <td>StayHealthy07</td>\n",
              "    </tr>\n",
              "    <tr>\n",
              "      <th>10036</th>\n",
              "      <td>15/10/2021 17:43</td>\n",
              "      <td>1.450000e+18</td>\n",
              "      <td>on march th i was writing about the most press...</td>\n",
              "      <td>guido23</td>\n",
              "    </tr>\n",
              "    <tr>\n",
              "      <th>15182</th>\n",
              "      <td>27/08/2021 12:46</td>\n",
              "      <td>1.430000e+18</td>\n",
              "      <td>the weekend is here what are your plans for it...</td>\n",
              "      <td>Pillboxng</td>\n",
              "    </tr>\n",
              "    <tr>\n",
              "      <th>6220</th>\n",
              "      <td>16/11/2021 10:18</td>\n",
              "      <td>1.460000e+18</td>\n",
              "      <td>ahmedabad city bans stalls selling nonvegetari...</td>\n",
              "      <td>pavanichandu16</td>\n",
              "    </tr>\n",
              "    <tr>\n",
              "      <th>7509</th>\n",
              "      <td>5/11/2021 20:36</td>\n",
              "      <td>1.460000e+18</td>\n",
              "      <td>empoligenoa game and sandwich healthy of cours...</td>\n",
              "      <td>healthytasting</td>\n",
              "    </tr>\n",
              "    <tr>\n",
              "      <th>21977</th>\n",
              "      <td>26/06/2021 4:44</td>\n",
              "      <td>1.410000e+18</td>\n",
              "      <td>tgif cold soba and sake with a side of organic...</td>\n",
              "      <td>k1bakun</td>\n",
              "    </tr>\n",
              "    <tr>\n",
              "      <th>6514</th>\n",
              "      <td>13/11/2021 22:40</td>\n",
              "      <td>1.460000e+18</td>\n",
              "      <td>healthy eating is not a diet but a way of life...</td>\n",
              "      <td>StayHealthy07</td>\n",
              "    </tr>\n",
              "    <tr>\n",
              "      <th>22229</th>\n",
              "      <td>23/06/2021 17:42</td>\n",
              "      <td>1.410000e+18</td>\n",
              "      <td>healthy diets mediterranean dash ahei lower ri...</td>\n",
              "      <td>250HealthyFoods</td>\n",
              "    </tr>\n",
              "  </tbody>\n",
              "</table>\n",
              "</div>\n",
              "      <button class=\"colab-df-convert\" onclick=\"convertToInteractive('df-3a9b360c-768b-47a8-9227-ad03161768cc')\"\n",
              "              title=\"Convert this dataframe to an interactive table.\"\n",
              "              style=\"display:none;\">\n",
              "        \n",
              "  <svg xmlns=\"http://www.w3.org/2000/svg\" height=\"24px\"viewBox=\"0 0 24 24\"\n",
              "       width=\"24px\">\n",
              "    <path d=\"M0 0h24v24H0V0z\" fill=\"none\"/>\n",
              "    <path d=\"M18.56 5.44l.94 2.06.94-2.06 2.06-.94-2.06-.94-.94-2.06-.94 2.06-2.06.94zm-11 1L8.5 8.5l.94-2.06 2.06-.94-2.06-.94L8.5 2.5l-.94 2.06-2.06.94zm10 10l.94 2.06.94-2.06 2.06-.94-2.06-.94-.94-2.06-.94 2.06-2.06.94z\"/><path d=\"M17.41 7.96l-1.37-1.37c-.4-.4-.92-.59-1.43-.59-.52 0-1.04.2-1.43.59L10.3 9.45l-7.72 7.72c-.78.78-.78 2.05 0 2.83L4 21.41c.39.39.9.59 1.41.59.51 0 1.02-.2 1.41-.59l7.78-7.78 2.81-2.81c.8-.78.8-2.07 0-2.86zM5.41 20L4 18.59l7.72-7.72 1.47 1.35L5.41 20z\"/>\n",
              "  </svg>\n",
              "      </button>\n",
              "      \n",
              "  <style>\n",
              "    .colab-df-container {\n",
              "      display:flex;\n",
              "      flex-wrap:wrap;\n",
              "      gap: 12px;\n",
              "    }\n",
              "\n",
              "    .colab-df-convert {\n",
              "      background-color: #E8F0FE;\n",
              "      border: none;\n",
              "      border-radius: 50%;\n",
              "      cursor: pointer;\n",
              "      display: none;\n",
              "      fill: #1967D2;\n",
              "      height: 32px;\n",
              "      padding: 0 0 0 0;\n",
              "      width: 32px;\n",
              "    }\n",
              "\n",
              "    .colab-df-convert:hover {\n",
              "      background-color: #E2EBFA;\n",
              "      box-shadow: 0px 1px 2px rgba(60, 64, 67, 0.3), 0px 1px 3px 1px rgba(60, 64, 67, 0.15);\n",
              "      fill: #174EA6;\n",
              "    }\n",
              "\n",
              "    [theme=dark] .colab-df-convert {\n",
              "      background-color: #3B4455;\n",
              "      fill: #D2E3FC;\n",
              "    }\n",
              "\n",
              "    [theme=dark] .colab-df-convert:hover {\n",
              "      background-color: #434B5C;\n",
              "      box-shadow: 0px 1px 3px 1px rgba(0, 0, 0, 0.15);\n",
              "      filter: drop-shadow(0px 1px 2px rgba(0, 0, 0, 0.3));\n",
              "      fill: #FFFFFF;\n",
              "    }\n",
              "  </style>\n",
              "\n",
              "      <script>\n",
              "        const buttonEl =\n",
              "          document.querySelector('#df-3a9b360c-768b-47a8-9227-ad03161768cc button.colab-df-convert');\n",
              "        buttonEl.style.display =\n",
              "          google.colab.kernel.accessAllowed ? 'block' : 'none';\n",
              "\n",
              "        async function convertToInteractive(key) {\n",
              "          const element = document.querySelector('#df-3a9b360c-768b-47a8-9227-ad03161768cc');\n",
              "          const dataTable =\n",
              "            await google.colab.kernel.invokeFunction('convertToInteractive',\n",
              "                                                     [key], {});\n",
              "          if (!dataTable) return;\n",
              "\n",
              "          const docLinkHtml = 'Like what you see? Visit the ' +\n",
              "            '<a target=\"_blank\" href=https://colab.research.google.com/notebooks/data_table.ipynb>data table notebook</a>'\n",
              "            + ' to learn more about interactive tables.';\n",
              "          element.innerHTML = '';\n",
              "          dataTable['output_type'] = 'display_data';\n",
              "          await google.colab.output.renderOutput(dataTable, element);\n",
              "          const docLink = document.createElement('div');\n",
              "          docLink.innerHTML = docLinkHtml;\n",
              "          element.appendChild(docLink);\n",
              "        }\n",
              "      </script>\n",
              "    </div>\n",
              "  </div>\n",
              "  "
            ]
          },
          "metadata": {},
          "execution_count": 14
        }
      ]
    },
    {
      "cell_type": "markdown",
      "source": [
        "## Removing HTTPS"
      ],
      "metadata": {
        "id": "4htRxmbwlV8N"
      }
    },
    {
      "cell_type": "code",
      "source": [
        "# Remove all words beginning with https\n",
        "# There are a significant number of words beginning with this prefix in the text. This does not provide any value in the analysis. So they will be removed.\n",
        "df['Text'] = df['Text'].str.replace(r'\\bhttps\\w*', '', regex=True)"
      ],
      "metadata": {
        "colab": {
          "base_uri": "https://localhost:8080/"
        },
        "id": "7v4oUQfhGagM",
        "outputId": "70cc1484-ef93-497b-d95f-fcf030f1daf2"
      },
      "execution_count": null,
      "outputs": [
        {
          "output_type": "stream",
          "name": "stderr",
          "text": [
            "/usr/local/lib/python3.10/dist-packages/ipykernel/ipkernel.py:283: DeprecationWarning: `should_run_async` will not call `transform_cell` automatically in the future. Please pass the result to `transformed_cell` argument and any exception that happen during thetransform in `preprocessing_exc_tuple` in IPython 7.17 and above.\n",
            "  and should_run_async(code)\n"
          ]
        }
      ]
    },
    {
      "cell_type": "markdown",
      "source": [
        "## Stopwords"
      ],
      "metadata": {
        "id": "bp_kH4od6RtW"
      }
    },
    {
      "cell_type": "code",
      "source": [
        "# remove stopwords\n",
        "# this lets the model focus on important, meaningful words\n",
        "# however we want to keep not and no as negative words can be meaningful\n",
        "stop = stopwords.words('english')\n",
        "stop.remove('no')\n",
        "stop.remove('not')\n",
        "stop.sort()\n",
        "#print(stop)\n",
        "\n",
        "# moving to actual stopword removal from the dataset\n",
        "df['Text'] = df['Text'].apply(lambda x: \" \".join(x for x in x.split() if x not in stop))\n",
        "df.head(5)"
      ],
      "metadata": {
        "id": "thNTBZnvIVPQ",
        "colab": {
          "base_uri": "https://localhost:8080/",
          "height": 261
        },
        "outputId": "3c1f0d49-8b29-4b6c-bd3b-02efdfa38c96"
      },
      "execution_count": null,
      "outputs": [
        {
          "output_type": "stream",
          "name": "stderr",
          "text": [
            "/usr/local/lib/python3.10/dist-packages/ipykernel/ipkernel.py:283: DeprecationWarning: `should_run_async` will not call `transform_cell` automatically in the future. Please pass the result to `transformed_cell` argument and any exception that happen during thetransform in `preprocessing_exc_tuple` in IPython 7.17 and above.\n",
            "  and should_run_async(code)\n"
          ]
        },
        {
          "output_type": "execute_result",
          "data": {
            "text/plain": [
              "           Datetime      Tweet Id  \\\n",
              "0  30/01/2022 22:41  1.490000e+18   \n",
              "1  30/01/2022 22:37  1.490000e+18   \n",
              "2  30/01/2022 20:22  1.490000e+18   \n",
              "3  30/01/2022 20:01  1.490000e+18   \n",
              "4  30/01/2022 19:15  1.490000e+18   \n",
              "\n",
              "                                                Text         Username  \n",
              "0  late breakfast simple easy health inputs sunda...   A1N10M_Logging  \n",
              "1  chicken lettuce wraps shorts ytshorts health l...  nazmulmarketer1  \n",
              "2                                  health humor food   vanillaspice82  \n",
              "3  zone diet balanced meal carb protein blocks ko...   ZHealthyEating  \n",
              "4  experts say top types food eating improve brai...  personalfitnes3  "
            ],
            "text/html": [
              "\n",
              "  <div id=\"df-077a2b21-b36c-4a09-917f-114be463560b\">\n",
              "    <div class=\"colab-df-container\">\n",
              "      <div>\n",
              "<style scoped>\n",
              "    .dataframe tbody tr th:only-of-type {\n",
              "        vertical-align: middle;\n",
              "    }\n",
              "\n",
              "    .dataframe tbody tr th {\n",
              "        vertical-align: top;\n",
              "    }\n",
              "\n",
              "    .dataframe thead th {\n",
              "        text-align: right;\n",
              "    }\n",
              "</style>\n",
              "<table border=\"1\" class=\"dataframe\">\n",
              "  <thead>\n",
              "    <tr style=\"text-align: right;\">\n",
              "      <th></th>\n",
              "      <th>Datetime</th>\n",
              "      <th>Tweet Id</th>\n",
              "      <th>Text</th>\n",
              "      <th>Username</th>\n",
              "    </tr>\n",
              "  </thead>\n",
              "  <tbody>\n",
              "    <tr>\n",
              "      <th>0</th>\n",
              "      <td>30/01/2022 22:41</td>\n",
              "      <td>1.490000e+18</td>\n",
              "      <td>late breakfast simple easy health inputs sunda...</td>\n",
              "      <td>A1N10M_Logging</td>\n",
              "    </tr>\n",
              "    <tr>\n",
              "      <th>1</th>\n",
              "      <td>30/01/2022 22:37</td>\n",
              "      <td>1.490000e+18</td>\n",
              "      <td>chicken lettuce wraps shorts ytshorts health l...</td>\n",
              "      <td>nazmulmarketer1</td>\n",
              "    </tr>\n",
              "    <tr>\n",
              "      <th>2</th>\n",
              "      <td>30/01/2022 20:22</td>\n",
              "      <td>1.490000e+18</td>\n",
              "      <td>health humor food</td>\n",
              "      <td>vanillaspice82</td>\n",
              "    </tr>\n",
              "    <tr>\n",
              "      <th>3</th>\n",
              "      <td>30/01/2022 20:01</td>\n",
              "      <td>1.490000e+18</td>\n",
              "      <td>zone diet balanced meal carb protein blocks ko...</td>\n",
              "      <td>ZHealthyEating</td>\n",
              "    </tr>\n",
              "    <tr>\n",
              "      <th>4</th>\n",
              "      <td>30/01/2022 19:15</td>\n",
              "      <td>1.490000e+18</td>\n",
              "      <td>experts say top types food eating improve brai...</td>\n",
              "      <td>personalfitnes3</td>\n",
              "    </tr>\n",
              "  </tbody>\n",
              "</table>\n",
              "</div>\n",
              "      <button class=\"colab-df-convert\" onclick=\"convertToInteractive('df-077a2b21-b36c-4a09-917f-114be463560b')\"\n",
              "              title=\"Convert this dataframe to an interactive table.\"\n",
              "              style=\"display:none;\">\n",
              "        \n",
              "  <svg xmlns=\"http://www.w3.org/2000/svg\" height=\"24px\"viewBox=\"0 0 24 24\"\n",
              "       width=\"24px\">\n",
              "    <path d=\"M0 0h24v24H0V0z\" fill=\"none\"/>\n",
              "    <path d=\"M18.56 5.44l.94 2.06.94-2.06 2.06-.94-2.06-.94-.94-2.06-.94 2.06-2.06.94zm-11 1L8.5 8.5l.94-2.06 2.06-.94-2.06-.94L8.5 2.5l-.94 2.06-2.06.94zm10 10l.94 2.06.94-2.06 2.06-.94-2.06-.94-.94-2.06-.94 2.06-2.06.94z\"/><path d=\"M17.41 7.96l-1.37-1.37c-.4-.4-.92-.59-1.43-.59-.52 0-1.04.2-1.43.59L10.3 9.45l-7.72 7.72c-.78.78-.78 2.05 0 2.83L4 21.41c.39.39.9.59 1.41.59.51 0 1.02-.2 1.41-.59l7.78-7.78 2.81-2.81c.8-.78.8-2.07 0-2.86zM5.41 20L4 18.59l7.72-7.72 1.47 1.35L5.41 20z\"/>\n",
              "  </svg>\n",
              "      </button>\n",
              "      \n",
              "  <style>\n",
              "    .colab-df-container {\n",
              "      display:flex;\n",
              "      flex-wrap:wrap;\n",
              "      gap: 12px;\n",
              "    }\n",
              "\n",
              "    .colab-df-convert {\n",
              "      background-color: #E8F0FE;\n",
              "      border: none;\n",
              "      border-radius: 50%;\n",
              "      cursor: pointer;\n",
              "      display: none;\n",
              "      fill: #1967D2;\n",
              "      height: 32px;\n",
              "      padding: 0 0 0 0;\n",
              "      width: 32px;\n",
              "    }\n",
              "\n",
              "    .colab-df-convert:hover {\n",
              "      background-color: #E2EBFA;\n",
              "      box-shadow: 0px 1px 2px rgba(60, 64, 67, 0.3), 0px 1px 3px 1px rgba(60, 64, 67, 0.15);\n",
              "      fill: #174EA6;\n",
              "    }\n",
              "\n",
              "    [theme=dark] .colab-df-convert {\n",
              "      background-color: #3B4455;\n",
              "      fill: #D2E3FC;\n",
              "    }\n",
              "\n",
              "    [theme=dark] .colab-df-convert:hover {\n",
              "      background-color: #434B5C;\n",
              "      box-shadow: 0px 1px 3px 1px rgba(0, 0, 0, 0.15);\n",
              "      filter: drop-shadow(0px 1px 2px rgba(0, 0, 0, 0.3));\n",
              "      fill: #FFFFFF;\n",
              "    }\n",
              "  </style>\n",
              "\n",
              "      <script>\n",
              "        const buttonEl =\n",
              "          document.querySelector('#df-077a2b21-b36c-4a09-917f-114be463560b button.colab-df-convert');\n",
              "        buttonEl.style.display =\n",
              "          google.colab.kernel.accessAllowed ? 'block' : 'none';\n",
              "\n",
              "        async function convertToInteractive(key) {\n",
              "          const element = document.querySelector('#df-077a2b21-b36c-4a09-917f-114be463560b');\n",
              "          const dataTable =\n",
              "            await google.colab.kernel.invokeFunction('convertToInteractive',\n",
              "                                                     [key], {});\n",
              "          if (!dataTable) return;\n",
              "\n",
              "          const docLinkHtml = 'Like what you see? Visit the ' +\n",
              "            '<a target=\"_blank\" href=https://colab.research.google.com/notebooks/data_table.ipynb>data table notebook</a>'\n",
              "            + ' to learn more about interactive tables.';\n",
              "          element.innerHTML = '';\n",
              "          dataTable['output_type'] = 'display_data';\n",
              "          await google.colab.output.renderOutput(dataTable, element);\n",
              "          const docLink = document.createElement('div');\n",
              "          docLink.innerHTML = docLinkHtml;\n",
              "          element.appendChild(docLink);\n",
              "        }\n",
              "      </script>\n",
              "    </div>\n",
              "  </div>\n",
              "  "
            ]
          },
          "metadata": {},
          "execution_count": 16
        }
      ]
    },
    {
      "cell_type": "markdown",
      "source": [
        "## Rare Words"
      ],
      "metadata": {
        "id": "yyrS3p2N6Vtg"
      }
    },
    {
      "cell_type": "code",
      "source": [
        "# similar to stopwords, rare words should also be removed. First the least frequent words are listed:\n",
        "rare_words = pd.Series(' '.join(df['Text']).split()).value_counts()[-70:]\n",
        "rare_words = pd.DataFrame({'rare_words':rare_words.index, 'freq':rare_words.values}) # Step 1: Making the rare words from series into df.\n",
        "rare_words_list = rare_words['rare_words'].values.tolist() # Step 2: Taking the column from the df and making a list of rare words.\n",
        "\n",
        "df['Text'] = df['Text'].apply(lambda x: \" \".join(x for x in x.split() if x not in rare_words_list))\n",
        "df.head(5)"
      ],
      "metadata": {
        "id": "m6PUTcyIPBjn",
        "colab": {
          "base_uri": "https://localhost:8080/",
          "height": 261
        },
        "outputId": "75b5e948-c07a-4732-e9ac-036c936df397"
      },
      "execution_count": null,
      "outputs": [
        {
          "output_type": "stream",
          "name": "stderr",
          "text": [
            "/usr/local/lib/python3.10/dist-packages/ipykernel/ipkernel.py:283: DeprecationWarning: `should_run_async` will not call `transform_cell` automatically in the future. Please pass the result to `transformed_cell` argument and any exception that happen during thetransform in `preprocessing_exc_tuple` in IPython 7.17 and above.\n",
            "  and should_run_async(code)\n"
          ]
        },
        {
          "output_type": "execute_result",
          "data": {
            "text/plain": [
              "           Datetime      Tweet Id  \\\n",
              "0  30/01/2022 22:41  1.490000e+18   \n",
              "1  30/01/2022 22:37  1.490000e+18   \n",
              "2  30/01/2022 20:22  1.490000e+18   \n",
              "3  30/01/2022 20:01  1.490000e+18   \n",
              "4  30/01/2022 19:15  1.490000e+18   \n",
              "\n",
              "                                                Text         Username  \n",
              "0  late breakfast simple easy health inputs sunda...   A1N10M_Logging  \n",
              "1  chicken lettuce wraps shorts ytshorts health l...  nazmulmarketer1  \n",
              "2                                  health humor food   vanillaspice82  \n",
              "3  zone diet balanced meal carb protein blocks ko...   ZHealthyEating  \n",
              "4  experts say top types food eating improve brai...  personalfitnes3  "
            ],
            "text/html": [
              "\n",
              "  <div id=\"df-ae8ac9a0-fc02-4db4-8c8a-9e576c5a408e\">\n",
              "    <div class=\"colab-df-container\">\n",
              "      <div>\n",
              "<style scoped>\n",
              "    .dataframe tbody tr th:only-of-type {\n",
              "        vertical-align: middle;\n",
              "    }\n",
              "\n",
              "    .dataframe tbody tr th {\n",
              "        vertical-align: top;\n",
              "    }\n",
              "\n",
              "    .dataframe thead th {\n",
              "        text-align: right;\n",
              "    }\n",
              "</style>\n",
              "<table border=\"1\" class=\"dataframe\">\n",
              "  <thead>\n",
              "    <tr style=\"text-align: right;\">\n",
              "      <th></th>\n",
              "      <th>Datetime</th>\n",
              "      <th>Tweet Id</th>\n",
              "      <th>Text</th>\n",
              "      <th>Username</th>\n",
              "    </tr>\n",
              "  </thead>\n",
              "  <tbody>\n",
              "    <tr>\n",
              "      <th>0</th>\n",
              "      <td>30/01/2022 22:41</td>\n",
              "      <td>1.490000e+18</td>\n",
              "      <td>late breakfast simple easy health inputs sunda...</td>\n",
              "      <td>A1N10M_Logging</td>\n",
              "    </tr>\n",
              "    <tr>\n",
              "      <th>1</th>\n",
              "      <td>30/01/2022 22:37</td>\n",
              "      <td>1.490000e+18</td>\n",
              "      <td>chicken lettuce wraps shorts ytshorts health l...</td>\n",
              "      <td>nazmulmarketer1</td>\n",
              "    </tr>\n",
              "    <tr>\n",
              "      <th>2</th>\n",
              "      <td>30/01/2022 20:22</td>\n",
              "      <td>1.490000e+18</td>\n",
              "      <td>health humor food</td>\n",
              "      <td>vanillaspice82</td>\n",
              "    </tr>\n",
              "    <tr>\n",
              "      <th>3</th>\n",
              "      <td>30/01/2022 20:01</td>\n",
              "      <td>1.490000e+18</td>\n",
              "      <td>zone diet balanced meal carb protein blocks ko...</td>\n",
              "      <td>ZHealthyEating</td>\n",
              "    </tr>\n",
              "    <tr>\n",
              "      <th>4</th>\n",
              "      <td>30/01/2022 19:15</td>\n",
              "      <td>1.490000e+18</td>\n",
              "      <td>experts say top types food eating improve brai...</td>\n",
              "      <td>personalfitnes3</td>\n",
              "    </tr>\n",
              "  </tbody>\n",
              "</table>\n",
              "</div>\n",
              "      <button class=\"colab-df-convert\" onclick=\"convertToInteractive('df-ae8ac9a0-fc02-4db4-8c8a-9e576c5a408e')\"\n",
              "              title=\"Convert this dataframe to an interactive table.\"\n",
              "              style=\"display:none;\">\n",
              "        \n",
              "  <svg xmlns=\"http://www.w3.org/2000/svg\" height=\"24px\"viewBox=\"0 0 24 24\"\n",
              "       width=\"24px\">\n",
              "    <path d=\"M0 0h24v24H0V0z\" fill=\"none\"/>\n",
              "    <path d=\"M18.56 5.44l.94 2.06.94-2.06 2.06-.94-2.06-.94-.94-2.06-.94 2.06-2.06.94zm-11 1L8.5 8.5l.94-2.06 2.06-.94-2.06-.94L8.5 2.5l-.94 2.06-2.06.94zm10 10l.94 2.06.94-2.06 2.06-.94-2.06-.94-.94-2.06-.94 2.06-2.06.94z\"/><path d=\"M17.41 7.96l-1.37-1.37c-.4-.4-.92-.59-1.43-.59-.52 0-1.04.2-1.43.59L10.3 9.45l-7.72 7.72c-.78.78-.78 2.05 0 2.83L4 21.41c.39.39.9.59 1.41.59.51 0 1.02-.2 1.41-.59l7.78-7.78 2.81-2.81c.8-.78.8-2.07 0-2.86zM5.41 20L4 18.59l7.72-7.72 1.47 1.35L5.41 20z\"/>\n",
              "  </svg>\n",
              "      </button>\n",
              "      \n",
              "  <style>\n",
              "    .colab-df-container {\n",
              "      display:flex;\n",
              "      flex-wrap:wrap;\n",
              "      gap: 12px;\n",
              "    }\n",
              "\n",
              "    .colab-df-convert {\n",
              "      background-color: #E8F0FE;\n",
              "      border: none;\n",
              "      border-radius: 50%;\n",
              "      cursor: pointer;\n",
              "      display: none;\n",
              "      fill: #1967D2;\n",
              "      height: 32px;\n",
              "      padding: 0 0 0 0;\n",
              "      width: 32px;\n",
              "    }\n",
              "\n",
              "    .colab-df-convert:hover {\n",
              "      background-color: #E2EBFA;\n",
              "      box-shadow: 0px 1px 2px rgba(60, 64, 67, 0.3), 0px 1px 3px 1px rgba(60, 64, 67, 0.15);\n",
              "      fill: #174EA6;\n",
              "    }\n",
              "\n",
              "    [theme=dark] .colab-df-convert {\n",
              "      background-color: #3B4455;\n",
              "      fill: #D2E3FC;\n",
              "    }\n",
              "\n",
              "    [theme=dark] .colab-df-convert:hover {\n",
              "      background-color: #434B5C;\n",
              "      box-shadow: 0px 1px 3px 1px rgba(0, 0, 0, 0.15);\n",
              "      filter: drop-shadow(0px 1px 2px rgba(0, 0, 0, 0.3));\n",
              "      fill: #FFFFFF;\n",
              "    }\n",
              "  </style>\n",
              "\n",
              "      <script>\n",
              "        const buttonEl =\n",
              "          document.querySelector('#df-ae8ac9a0-fc02-4db4-8c8a-9e576c5a408e button.colab-df-convert');\n",
              "        buttonEl.style.display =\n",
              "          google.colab.kernel.accessAllowed ? 'block' : 'none';\n",
              "\n",
              "        async function convertToInteractive(key) {\n",
              "          const element = document.querySelector('#df-ae8ac9a0-fc02-4db4-8c8a-9e576c5a408e');\n",
              "          const dataTable =\n",
              "            await google.colab.kernel.invokeFunction('convertToInteractive',\n",
              "                                                     [key], {});\n",
              "          if (!dataTable) return;\n",
              "\n",
              "          const docLinkHtml = 'Like what you see? Visit the ' +\n",
              "            '<a target=\"_blank\" href=https://colab.research.google.com/notebooks/data_table.ipynb>data table notebook</a>'\n",
              "            + ' to learn more about interactive tables.';\n",
              "          element.innerHTML = '';\n",
              "          dataTable['output_type'] = 'display_data';\n",
              "          await google.colab.output.renderOutput(dataTable, element);\n",
              "          const docLink = document.createElement('div');\n",
              "          docLink.innerHTML = docLinkHtml;\n",
              "          element.appendChild(docLink);\n",
              "        }\n",
              "      </script>\n",
              "    </div>\n",
              "  </div>\n",
              "  "
            ]
          },
          "metadata": {},
          "execution_count": 17
        }
      ]
    },
    {
      "cell_type": "markdown",
      "source": [
        "## Frequent Words"
      ],
      "metadata": {
        "id": "444gBybw6YKJ"
      }
    },
    {
      "cell_type": "code",
      "source": [
        "# now we look at the most frequent words:\n",
        "common_words = pd.Series(' '.join(df['Text']).split()).value_counts()[:100]\n",
        "common_words = pd.DataFrame({'common_words':common_words.index, 'freq':common_words.values})\n",
        "common_words_list = common_words['common_words'].values.tolist()\n",
        "print(common_words)\n",
        "\n",
        "# removing the most freqeunt words:\n",
        "df['Text'] = df['Text'].apply(lambda x: \" \".join(x for x in x.split() if x not in common_words_list))\n",
        "\n",
        "# a visualisation (word cloud) is made below:\n",
        "wordcloud = WordCloud(background_color='white', max_words=200, max_font_size=50, random_state=42).generate(str(common_words))\n",
        "fig = plt.figure(1)\n",
        "plt.imshow(wordcloud)\n",
        "plt.axis('off')\n",
        "plt.title('Most Frequent Words')\n",
        "plt.show()"
      ],
      "metadata": {
        "id": "uhAc_Pq7_gLL",
        "colab": {
          "base_uri": "https://localhost:8080/",
          "height": 639
        },
        "outputId": "91b2493c-7fd4-4ba1-d69f-c8e241c7ada4"
      },
      "execution_count": null,
      "outputs": [
        {
          "output_type": "stream",
          "name": "stderr",
          "text": [
            "/usr/local/lib/python3.10/dist-packages/ipykernel/ipkernel.py:283: DeprecationWarning: `should_run_async` will not call `transform_cell` automatically in the future. Please pass the result to `transformed_cell` argument and any exception that happen during thetransform in `preprocessing_exc_tuple` in IPython 7.17 and above.\n",
            "  and should_run_async(code)\n"
          ]
        },
        {
          "output_type": "stream",
          "name": "stdout",
          "text": [
            "   common_words   freq\n",
            "0          food  22809\n",
            "1        health  21712\n",
            "2       healthy   5512\n",
            "3     nutrition   5490\n",
            "4          diet   5444\n",
            "..          ...    ...\n",
            "95     novembre    453\n",
            "96       coffee    446\n",
            "97          one    444\n",
            "98         news    437\n",
            "99      natural    420\n",
            "\n",
            "[100 rows x 2 columns]\n"
          ]
        },
        {
          "output_type": "stream",
          "name": "stderr",
          "text": [
            "/usr/local/lib/python3.10/dist-packages/wordcloud/wordcloud.py:106: MatplotlibDeprecationWarning: The get_cmap function was deprecated in Matplotlib 3.7 and will be removed two minor releases later. Use ``matplotlib.colormaps[name]`` or ``matplotlib.colormaps.get_cmap(obj)`` instead.\n",
            "  self.colormap = plt.cm.get_cmap(colormap)\n"
          ]
        },
        {
          "output_type": "display_data",
          "data": {
            "text/plain": [
              "<Figure size 640x480 with 1 Axes>"
            ],
            "image/png": "[encoded data removed]"
          },
          "metadata": {}
        }
      ]
    },
    {
      "cell_type": "markdown",
      "source": [
        "## Lemmatisation"
      ],
      "metadata": {
        "id": "ImJoJyo_6aXP"
      }
    },
    {
      "cell_type": "code",
      "source": [
        "# the text will be lemmatised\n",
        "lemmtizer = WordNetLemmatizer()\n",
        "def lemmatize_function(sent):\n",
        "  word_list = sent.split()\n",
        "  lemma_word_list = [lemmtizer.lemmatize(word) for word in word_list]\n",
        "  lemma_sentence = \" \".join(lemma_word_list)\n",
        "  return lemma_sentence\n",
        "\n",
        "df['Text_lemmatised'] = df['Text'].apply(lemmatize_function)\n",
        "#df.head()"
      ],
      "metadata": {
        "id": "rE5QLXtWSzzH",
        "colab": {
          "base_uri": "https://localhost:8080/"
        },
        "outputId": "24f4dc6b-8045-43d1-e869-01f7f6f3d85d"
      },
      "execution_count": null,
      "outputs": [
        {
          "output_type": "stream",
          "name": "stderr",
          "text": [
            "/usr/local/lib/python3.10/dist-packages/ipykernel/ipkernel.py:283: DeprecationWarning: `should_run_async` will not call `transform_cell` automatically in the future. Please pass the result to `transformed_cell` argument and any exception that happen during thetransform in `preprocessing_exc_tuple` in IPython 7.17 and above.\n",
            "  and should_run_async(code)\n"
          ]
        }
      ]
    },
    {
      "cell_type": "markdown",
      "source": [
        "## Stemming"
      ],
      "metadata": {
        "id": "0ruYvfF76cUS"
      }
    },
    {
      "cell_type": "code",
      "source": [
        "# the text will be stemmed\n",
        "stemmer = PorterStemmer()\n",
        "def stemming_function(sent):\n",
        "  word_list = sent.split()\n",
        "  stemmed_word_list = [stemmer.stem(word) for word in word_list]\n",
        "  stemmed_sentence = \" \".join(stemmed_word_list)\n",
        "  return stemmed_sentence\n",
        "\n",
        "df['Text_stemmed'] = df['Text'].apply(stemming_function)\n",
        "\n",
        "# make a seperate column where text has been both stemmed and lemmatised\n",
        "df['Text_both'] = df['Text_lemmatised'].apply(stemming_function)\n",
        "df.head()"
      ],
      "metadata": {
        "colab": {
          "base_uri": "https://localhost:8080/",
          "height": 409
        },
        "id": "XIvtps-kThdZ",
        "outputId": "2bb60914-53f6-494d-e28d-ca7693f2c8c9"
      },
      "execution_count": null,
      "outputs": [
        {
          "output_type": "stream",
          "name": "stderr",
          "text": [
            "/usr/local/lib/python3.10/dist-packages/ipykernel/ipkernel.py:283: DeprecationWarning: `should_run_async` will not call `transform_cell` automatically in the future. Please pass the result to `transformed_cell` argument and any exception that happen during thetransform in `preprocessing_exc_tuple` in IPython 7.17 and above.\n",
            "  and should_run_async(code)\n"
          ]
        },
        {
          "output_type": "execute_result",
          "data": {
            "text/plain": [
              "           Datetime      Tweet Id  \\\n",
              "0  30/01/2022 22:41  1.490000e+18   \n",
              "1  30/01/2022 22:37  1.490000e+18   \n",
              "2  30/01/2022 20:22  1.490000e+18   \n",
              "3  30/01/2022 20:01  1.490000e+18   \n",
              "4  30/01/2022 19:15  1.490000e+18   \n",
              "\n",
              "                                                Text         Username  \\\n",
              "0          late simple easy inputs sunday vibes mood   A1N10M_Logging   \n",
              "1                lettuce wraps shorts ytshorts lunch  nazmulmarketer1   \n",
              "2                                              humor   vanillaspice82   \n",
              "3  zone balanced meal carb blocks kodiak pancakes...   ZHealthyEating   \n",
              "4  experts say top types improve brain prevent de...  personalfitnes3   \n",
              "\n",
              "                                     Text_lemmatised  \\\n",
              "0            late simple easy input sunday vibe mood   \n",
              "1                  lettuce wrap short ytshorts lunch   \n",
              "2                                              humor   \n",
              "3  zone balanced meal carb block kodiak pancake e...   \n",
              "4  expert say top type improve brain prevent deme...   \n",
              "\n",
              "                                        Text_stemmed  \\\n",
              "0             late simpl easi input sunday vibe mood   \n",
              "1                    lettuc wrap short ytshort lunch   \n",
              "2                                              humor   \n",
              "3  zone balanc meal carb block kodiak pancak egg ...   \n",
              "4  expert say top type improv brain prevent demen...   \n",
              "\n",
              "                                           Text_both  \n",
              "0             late simpl easi input sunday vibe mood  \n",
              "1                    lettuc wrap short ytshort lunch  \n",
              "2                                              humor  \n",
              "3  zone balanc meal carb block kodiak pancak egg ...  \n",
              "4  expert say top type improv brain prevent demen...  "
            ],
            "text/html": [
              "\n",
              "  <div id=\"df-4edf6a64-6c94-41fb-b69c-baf04f8e6145\">\n",
              "    <div class=\"colab-df-container\">\n",
              "      <div>\n",
              "<style scoped>\n",
              "    .dataframe tbody tr th:only-of-type {\n",
              "        vertical-align: middle;\n",
              "    }\n",
              "\n",
              "    .dataframe tbody tr th {\n",
              "        vertical-align: top;\n",
              "    }\n",
              "\n",
              "    .dataframe thead th {\n",
              "        text-align: right;\n",
              "    }\n",
              "</style>\n",
              "<table border=\"1\" class=\"dataframe\">\n",
              "  <thead>\n",
              "    <tr style=\"text-align: right;\">\n",
              "      <th></th>\n",
              "      <th>Datetime</th>\n",
              "      <th>Tweet Id</th>\n",
              "      <th>Text</th>\n",
              "      <th>Username</th>\n",
              "      <th>Text_lemmatised</th>\n",
              "      <th>Text_stemmed</th>\n",
              "      <th>Text_both</th>\n",
              "    </tr>\n",
              "  </thead>\n",
              "  <tbody>\n",
              "    <tr>\n",
              "      <th>0</th>\n",
              "      <td>30/01/2022 22:41</td>\n",
              "      <td>1.490000e+18</td>\n",
              "      <td>late simple easy inputs sunday vibes mood</td>\n",
              "      <td>A1N10M_Logging</td>\n",
              "      <td>late simple easy input sunday vibe mood</td>\n",
              "      <td>late simpl easi input sunday vibe mood</td>\n",
              "      <td>late simpl easi input sunday vibe mood</td>\n",
              "    </tr>\n",
              "    <tr>\n",
              "      <th>1</th>\n",
              "      <td>30/01/2022 22:37</td>\n",
              "      <td>1.490000e+18</td>\n",
              "      <td>lettuce wraps shorts ytshorts lunch</td>\n",
              "      <td>nazmulmarketer1</td>\n",
              "      <td>lettuce wrap short ytshorts lunch</td>\n",
              "      <td>lettuc wrap short ytshort lunch</td>\n",
              "      <td>lettuc wrap short ytshort lunch</td>\n",
              "    </tr>\n",
              "    <tr>\n",
              "      <th>2</th>\n",
              "      <td>30/01/2022 20:22</td>\n",
              "      <td>1.490000e+18</td>\n",
              "      <td>humor</td>\n",
              "      <td>vanillaspice82</td>\n",
              "      <td>humor</td>\n",
              "      <td>humor</td>\n",
              "      <td>humor</td>\n",
              "    </tr>\n",
              "    <tr>\n",
              "      <th>3</th>\n",
              "      <td>30/01/2022 20:01</td>\n",
              "      <td>1.490000e+18</td>\n",
              "      <td>zone balanced meal carb blocks kodiak pancakes...</td>\n",
              "      <td>ZHealthyEating</td>\n",
              "      <td>zone balanced meal carb block kodiak pancake e...</td>\n",
              "      <td>zone balanc meal carb block kodiak pancak egg ...</td>\n",
              "      <td>zone balanc meal carb block kodiak pancak egg ...</td>\n",
              "    </tr>\n",
              "    <tr>\n",
              "      <th>4</th>\n",
              "      <td>30/01/2022 19:15</td>\n",
              "      <td>1.490000e+18</td>\n",
              "      <td>experts say top types improve brain prevent de...</td>\n",
              "      <td>personalfitnes3</td>\n",
              "      <td>expert say top type improve brain prevent deme...</td>\n",
              "      <td>expert say top type improv brain prevent demen...</td>\n",
              "      <td>expert say top type improv brain prevent demen...</td>\n",
              "    </tr>\n",
              "  </tbody>\n",
              "</table>\n",
              "</div>\n",
              "      <button class=\"colab-df-convert\" onclick=\"convertToInteractive('df-4edf6a64-6c94-41fb-b69c-baf04f8e6145')\"\n",
              "              title=\"Convert this dataframe to an interactive table.\"\n",
              "              style=\"display:none;\">\n",
              "        \n",
              "  <svg xmlns=\"http://www.w3.org/2000/svg\" height=\"24px\"viewBox=\"0 0 24 24\"\n",
              "       width=\"24px\">\n",
              "    <path d=\"M0 0h24v24H0V0z\" fill=\"none\"/>\n",
              "    <path d=\"M18.56 5.44l.94 2.06.94-2.06 2.06-.94-2.06-.94-.94-2.06-.94 2.06-2.06.94zm-11 1L8.5 8.5l.94-2.06 2.06-.94-2.06-.94L8.5 2.5l-.94 2.06-2.06.94zm10 10l.94 2.06.94-2.06 2.06-.94-2.06-.94-.94-2.06-.94 2.06-2.06.94z\"/><path d=\"M17.41 7.96l-1.37-1.37c-.4-.4-.92-.59-1.43-.59-.52 0-1.04.2-1.43.59L10.3 9.45l-7.72 7.72c-.78.78-.78 2.05 0 2.83L4 21.41c.39.39.9.59 1.41.59.51 0 1.02-.2 1.41-.59l7.78-7.78 2.81-2.81c.8-.78.8-2.07 0-2.86zM5.41 20L4 18.59l7.72-7.72 1.47 1.35L5.41 20z\"/>\n",
              "  </svg>\n",
              "      </button>\n",
              "      \n",
              "  <style>\n",
              "    .colab-df-container {\n",
              "      display:flex;\n",
              "      flex-wrap:wrap;\n",
              "      gap: 12px;\n",
              "    }\n",
              "\n",
              "    .colab-df-convert {\n",
              "      background-color: #E8F0FE;\n",
              "      border: none;\n",
              "      border-radius: 50%;\n",
              "      cursor: pointer;\n",
              "      display: none;\n",
              "      fill: #1967D2;\n",
              "      height: 32px;\n",
              "      padding: 0 0 0 0;\n",
              "      width: 32px;\n",
              "    }\n",
              "\n",
              "    .colab-df-convert:hover {\n",
              "      background-color: #E2EBFA;\n",
              "      box-shadow: 0px 1px 2px rgba(60, 64, 67, 0.3), 0px 1px 3px 1px rgba(60, 64, 67, 0.15);\n",
              "      fill: #174EA6;\n",
              "    }\n",
              "\n",
              "    [theme=dark] .colab-df-convert {\n",
              "      background-color: #3B4455;\n",
              "      fill: #D2E3FC;\n",
              "    }\n",
              "\n",
              "    [theme=dark] .colab-df-convert:hover {\n",
              "      background-color: #434B5C;\n",
              "      box-shadow: 0px 1px 3px 1px rgba(0, 0, 0, 0.15);\n",
              "      filter: drop-shadow(0px 1px 2px rgba(0, 0, 0, 0.3));\n",
              "      fill: #FFFFFF;\n",
              "    }\n",
              "  </style>\n",
              "\n",
              "      <script>\n",
              "        const buttonEl =\n",
              "          document.querySelector('#df-4edf6a64-6c94-41fb-b69c-baf04f8e6145 button.colab-df-convert');\n",
              "        buttonEl.style.display =\n",
              "          google.colab.kernel.accessAllowed ? 'block' : 'none';\n",
              "\n",
              "        async function convertToInteractive(key) {\n",
              "          const element = document.querySelector('#df-4edf6a64-6c94-41fb-b69c-baf04f8e6145');\n",
              "          const dataTable =\n",
              "            await google.colab.kernel.invokeFunction('convertToInteractive',\n",
              "                                                     [key], {});\n",
              "          if (!dataTable) return;\n",
              "\n",
              "          const docLinkHtml = 'Like what you see? Visit the ' +\n",
              "            '<a target=\"_blank\" href=https://colab.research.google.com/notebooks/data_table.ipynb>data table notebook</a>'\n",
              "            + ' to learn more about interactive tables.';\n",
              "          element.innerHTML = '';\n",
              "          dataTable['output_type'] = 'display_data';\n",
              "          await google.colab.output.renderOutput(dataTable, element);\n",
              "          const docLink = document.createElement('div');\n",
              "          docLink.innerHTML = docLinkHtml;\n",
              "          element.appendChild(docLink);\n",
              "        }\n",
              "      </script>\n",
              "    </div>\n",
              "  </div>\n",
              "  "
            ]
          },
          "metadata": {},
          "execution_count": 20
        }
      ]
    },
    {
      "cell_type": "code",
      "source": [
        "df.sample(10)"
      ],
      "metadata": {
        "colab": {
          "base_uri": "https://localhost:8080/",
          "height": 704
        },
        "id": "AB0SjufmG37l",
        "outputId": "694cf69f-a2d7-4bd4-a032-e924359a25c0"
      },
      "execution_count": null,
      "outputs": [
        {
          "output_type": "stream",
          "name": "stderr",
          "text": [
            "/usr/local/lib/python3.10/dist-packages/ipykernel/ipkernel.py:283: DeprecationWarning: `should_run_async` will not call `transform_cell` automatically in the future. Please pass the result to `transformed_cell` argument and any exception that happen during thetransform in `preprocessing_exc_tuple` in IPython 7.17 and above.\n",
            "  and should_run_async(code)\n"
          ]
        },
        {
          "output_type": "execute_result",
          "data": {
            "text/plain": [
              "               Datetime      Tweet Id  \\\n",
              "19047  21/07/2021 19:35  1.420000e+18   \n",
              "4257   29/11/2021 19:45  1.470000e+18   \n",
              "16037  19/08/2021 11:00  1.430000e+18   \n",
              "23357  12/06/2021 23:12  1.400000e+18   \n",
              "22531  20/06/2021 20:48  1.410000e+18   \n",
              "19514  17/07/2021 13:42  1.420000e+18   \n",
              "15949   20/08/2021 7:06  1.430000e+18   \n",
              "14911  30/08/2021 12:57  1.430000e+18   \n",
              "1023   15/01/2022 11:42  1.480000e+18   \n",
              "7425    6/11/2021 17:57  1.460000e+18   \n",
              "\n",
              "                                                    Text         Username  \\\n",
              "19047  mango milkshake ice cream jugaadrasoi jugaad d...      jugaadrasoi   \n",
              "4257   become complicated publishous medium firstworl...        DFeazelle   \n",
              "16037  no added no grains easy amazing paleo banana b...      natltriblog   \n",
              "23357                        fault youre selfimprovement    Proofpositive   \n",
              "22531  strange chocolate coming straight trees chocol...   CarbonCraftLtd   \n",
              "19514  nurturing essential custom meal plans biju wor...      gym_spokane   \n",
              "15949  roasted nuts seeds youtube middleeast blogger ...    organicdishes   \n",
              "14911  easily chop fresh herbs without ripping blemis...          Yittzy2   \n",
              "1023   never fasteat slowly reduse cause takes recive...  Fitness1forlife   \n",
              "7425   broccoli carrots bell peppers brussels sprouts...  YouTubeFitness3   \n",
              "\n",
              "                                         Text_lemmatised  \\\n",
              "19047  mango milkshake ice cream jugaadrasoi jugaad d...   \n",
              "4257   become complicated publishous medium firstworl...   \n",
              "16037  no added no grain easy amazing paleo banana br...   \n",
              "23357                        fault youre selfimprovement   \n",
              "22531  strange chocolate coming straight tree chocola...   \n",
              "19514  nurturing essential custom meal plan biju work...   \n",
              "15949  roasted nut seed youtube middleeast blogger so...   \n",
              "14911  easily chop fresh herb without ripping blemish...   \n",
              "1023   never fasteat slowly reduse cause take recive ...   \n",
              "7425   broccoli carrot bell pepper brussels sprout fa...   \n",
              "\n",
              "                                            Text_stemmed  \\\n",
              "19047  mango milkshak ice cream jugaadrasoi jugaad dr...   \n",
              "4257      becom complic publish medium firstworldproblem   \n",
              "16037  no ad no grain easi amaz paleo banana bread ho...   \n",
              "23357                              fault your selfimprov   \n",
              "22531  strang chocol come straight tree chocol sicili...   \n",
              "19514  nurtur essenti custom meal plan biju work meal...   \n",
              "15949  roast nut seed youtub middleeast blogger soup ...   \n",
              "14911  easili chop fresh herb without rip blemish sho...   \n",
              "1023   never fasteat slowli redus caus take reciv sig...   \n",
              "7425   broccoli carrot bell pepper brussel sprout fav...   \n",
              "\n",
              "                                               Text_both  \n",
              "19047  mango milkshak ice cream jugaadrasoi jugaad dr...  \n",
              "4257      becom complic publish medium firstworldproblem  \n",
              "16037  no ad no grain easi amaz paleo banana bread ho...  \n",
              "23357                              fault your selfimprov  \n",
              "22531  strang chocol come straight tree chocol sicili...  \n",
              "19514  nurtur essenti custom meal plan biju work meal...  \n",
              "15949  roast nut seed youtub middleeast blogger soup ...  \n",
              "14911  easili chop fresh herb without rip blemish sho...  \n",
              "1023   never fasteat slowli redus caus take reciv sig...  \n",
              "7425   broccoli carrot bell pepper brussel sprout fav...  "
            ],
            "text/html": [
              "\n",
              "  <div id=\"df-6e7a7679-87fd-45ca-99db-289c911532ed\">\n",
              "    <div class=\"colab-df-container\">\n",
              "      <div>\n",
              "<style scoped>\n",
              "    .dataframe tbody tr th:only-of-type {\n",
              "        vertical-align: middle;\n",
              "    }\n",
              "\n",
              "    .dataframe tbody tr th {\n",
              "        vertical-align: top;\n",
              "    }\n",
              "\n",
              "    .dataframe thead th {\n",
              "        text-align: right;\n",
              "    }\n",
              "</style>\n",
              "<table border=\"1\" class=\"dataframe\">\n",
              "  <thead>\n",
              "    <tr style=\"text-align: right;\">\n",
              "      <th></th>\n",
              "      <th>Datetime</th>\n",
              "      <th>Tweet Id</th>\n",
              "      <th>Text</th>\n",
              "      <th>Username</th>\n",
              "      <th>Text_lemmatised</th>\n",
              "      <th>Text_stemmed</th>\n",
              "      <th>Text_both</th>\n",
              "    </tr>\n",
              "  </thead>\n",
              "  <tbody>\n",
              "    <tr>\n",
              "      <th>19047</th>\n",
              "      <td>21/07/2021 19:35</td>\n",
              "      <td>1.420000e+18</td>\n",
              "      <td>mango milkshake ice cream jugaadrasoi jugaad d...</td>\n",
              "      <td>jugaadrasoi</td>\n",
              "      <td>mango milkshake ice cream jugaadrasoi jugaad d...</td>\n",
              "      <td>mango milkshak ice cream jugaadrasoi jugaad dr...</td>\n",
              "      <td>mango milkshak ice cream jugaadrasoi jugaad dr...</td>\n",
              "    </tr>\n",
              "    <tr>\n",
              "      <th>4257</th>\n",
              "      <td>29/11/2021 19:45</td>\n",
              "      <td>1.470000e+18</td>\n",
              "      <td>become complicated publishous medium firstworl...</td>\n",
              "      <td>DFeazelle</td>\n",
              "      <td>become complicated publishous medium firstworl...</td>\n",
              "      <td>becom complic publish medium firstworldproblem</td>\n",
              "      <td>becom complic publish medium firstworldproblem</td>\n",
              "    </tr>\n",
              "    <tr>\n",
              "      <th>16037</th>\n",
              "      <td>19/08/2021 11:00</td>\n",
              "      <td>1.430000e+18</td>\n",
              "      <td>no added no grains easy amazing paleo banana b...</td>\n",
              "      <td>natltriblog</td>\n",
              "      <td>no added no grain easy amazing paleo banana br...</td>\n",
              "      <td>no ad no grain easi amaz paleo banana bread ho...</td>\n",
              "      <td>no ad no grain easi amaz paleo banana bread ho...</td>\n",
              "    </tr>\n",
              "    <tr>\n",
              "      <th>23357</th>\n",
              "      <td>12/06/2021 23:12</td>\n",
              "      <td>1.400000e+18</td>\n",
              "      <td>fault youre selfimprovement</td>\n",
              "      <td>Proofpositive</td>\n",
              "      <td>fault youre selfimprovement</td>\n",
              "      <td>fault your selfimprov</td>\n",
              "      <td>fault your selfimprov</td>\n",
              "    </tr>\n",
              "    <tr>\n",
              "      <th>22531</th>\n",
              "      <td>20/06/2021 20:48</td>\n",
              "      <td>1.410000e+18</td>\n",
              "      <td>strange chocolate coming straight trees chocol...</td>\n",
              "      <td>CarbonCraftLtd</td>\n",
              "      <td>strange chocolate coming straight tree chocola...</td>\n",
              "      <td>strang chocol come straight tree chocol sicili...</td>\n",
              "      <td>strang chocol come straight tree chocol sicili...</td>\n",
              "    </tr>\n",
              "    <tr>\n",
              "      <th>19514</th>\n",
              "      <td>17/07/2021 13:42</td>\n",
              "      <td>1.420000e+18</td>\n",
              "      <td>nurturing essential custom meal plans biju wor...</td>\n",
              "      <td>gym_spokane</td>\n",
              "      <td>nurturing essential custom meal plan biju work...</td>\n",
              "      <td>nurtur essenti custom meal plan biju work meal...</td>\n",
              "      <td>nurtur essenti custom meal plan biju work meal...</td>\n",
              "    </tr>\n",
              "    <tr>\n",
              "      <th>15949</th>\n",
              "      <td>20/08/2021 7:06</td>\n",
              "      <td>1.430000e+18</td>\n",
              "      <td>roasted nuts seeds youtube middleeast blogger ...</td>\n",
              "      <td>organicdishes</td>\n",
              "      <td>roasted nut seed youtube middleeast blogger so...</td>\n",
              "      <td>roast nut seed youtub middleeast blogger soup ...</td>\n",
              "      <td>roast nut seed youtub middleeast blogger soup ...</td>\n",
              "    </tr>\n",
              "    <tr>\n",
              "      <th>14911</th>\n",
              "      <td>30/08/2021 12:57</td>\n",
              "      <td>1.430000e+18</td>\n",
              "      <td>easily chop fresh herbs without ripping blemis...</td>\n",
              "      <td>Yittzy2</td>\n",
              "      <td>easily chop fresh herb without ripping blemish...</td>\n",
              "      <td>easili chop fresh herb without rip blemish sho...</td>\n",
              "      <td>easili chop fresh herb without rip blemish sho...</td>\n",
              "    </tr>\n",
              "    <tr>\n",
              "      <th>1023</th>\n",
              "      <td>15/01/2022 11:42</td>\n",
              "      <td>1.480000e+18</td>\n",
              "      <td>never fasteat slowly reduse cause takes recive...</td>\n",
              "      <td>Fitness1forlife</td>\n",
              "      <td>never fasteat slowly reduse cause take recive ...</td>\n",
              "      <td>never fasteat slowli redus caus take reciv sig...</td>\n",
              "      <td>never fasteat slowli redus caus take reciv sig...</td>\n",
              "    </tr>\n",
              "    <tr>\n",
              "      <th>7425</th>\n",
              "      <td>6/11/2021 17:57</td>\n",
              "      <td>1.460000e+18</td>\n",
              "      <td>broccoli carrots bell peppers brussels sprouts...</td>\n",
              "      <td>YouTubeFitness3</td>\n",
              "      <td>broccoli carrot bell pepper brussels sprout fa...</td>\n",
              "      <td>broccoli carrot bell pepper brussel sprout fav...</td>\n",
              "      <td>broccoli carrot bell pepper brussel sprout fav...</td>\n",
              "    </tr>\n",
              "  </tbody>\n",
              "</table>\n",
              "</div>\n",
              "      <button class=\"colab-df-convert\" onclick=\"convertToInteractive('df-6e7a7679-87fd-45ca-99db-289c911532ed')\"\n",
              "              title=\"Convert this dataframe to an interactive table.\"\n",
              "              style=\"display:none;\">\n",
              "        \n",
              "  <svg xmlns=\"http://www.w3.org/2000/svg\" height=\"24px\"viewBox=\"0 0 24 24\"\n",
              "       width=\"24px\">\n",
              "    <path d=\"M0 0h24v24H0V0z\" fill=\"none\"/>\n",
              "    <path d=\"M18.56 5.44l.94 2.06.94-2.06 2.06-.94-2.06-.94-.94-2.06-.94 2.06-2.06.94zm-11 1L8.5 8.5l.94-2.06 2.06-.94-2.06-.94L8.5 2.5l-.94 2.06-2.06.94zm10 10l.94 2.06.94-2.06 2.06-.94-2.06-.94-.94-2.06-.94 2.06-2.06.94z\"/><path d=\"M17.41 7.96l-1.37-1.37c-.4-.4-.92-.59-1.43-.59-.52 0-1.04.2-1.43.59L10.3 9.45l-7.72 7.72c-.78.78-.78 2.05 0 2.83L4 21.41c.39.39.9.59 1.41.59.51 0 1.02-.2 1.41-.59l7.78-7.78 2.81-2.81c.8-.78.8-2.07 0-2.86zM5.41 20L4 18.59l7.72-7.72 1.47 1.35L5.41 20z\"/>\n",
              "  </svg>\n",
              "      </button>\n",
              "      \n",
              "  <style>\n",
              "    .colab-df-container {\n",
              "      display:flex;\n",
              "      flex-wrap:wrap;\n",
              "      gap: 12px;\n",
              "    }\n",
              "\n",
              "    .colab-df-convert {\n",
              "      background-color: #E8F0FE;\n",
              "      border: none;\n",
              "      border-radius: 50%;\n",
              "      cursor: pointer;\n",
              "      display: none;\n",
              "      fill: #1967D2;\n",
              "      height: 32px;\n",
              "      padding: 0 0 0 0;\n",
              "      width: 32px;\n",
              "    }\n",
              "\n",
              "    .colab-df-convert:hover {\n",
              "      background-color: #E2EBFA;\n",
              "      box-shadow: 0px 1px 2px rgba(60, 64, 67, 0.3), 0px 1px 3px 1px rgba(60, 64, 67, 0.15);\n",
              "      fill: #174EA6;\n",
              "    }\n",
              "\n",
              "    [theme=dark] .colab-df-convert {\n",
              "      background-color: #3B4455;\n",
              "      fill: #D2E3FC;\n",
              "    }\n",
              "\n",
              "    [theme=dark] .colab-df-convert:hover {\n",
              "      background-color: #434B5C;\n",
              "      box-shadow: 0px 1px 3px 1px rgba(0, 0, 0, 0.15);\n",
              "      filter: drop-shadow(0px 1px 2px rgba(0, 0, 0, 0.3));\n",
              "      fill: #FFFFFF;\n",
              "    }\n",
              "  </style>\n",
              "\n",
              "      <script>\n",
              "        const buttonEl =\n",
              "          document.querySelector('#df-6e7a7679-87fd-45ca-99db-289c911532ed button.colab-df-convert');\n",
              "        buttonEl.style.display =\n",
              "          google.colab.kernel.accessAllowed ? 'block' : 'none';\n",
              "\n",
              "        async function convertToInteractive(key) {\n",
              "          const element = document.querySelector('#df-6e7a7679-87fd-45ca-99db-289c911532ed');\n",
              "          const dataTable =\n",
              "            await google.colab.kernel.invokeFunction('convertToInteractive',\n",
              "                                                     [key], {});\n",
              "          if (!dataTable) return;\n",
              "\n",
              "          const docLinkHtml = 'Like what you see? Visit the ' +\n",
              "            '<a target=\"_blank\" href=https://colab.research.google.com/notebooks/data_table.ipynb>data table notebook</a>'\n",
              "            + ' to learn more about interactive tables.';\n",
              "          element.innerHTML = '';\n",
              "          dataTable['output_type'] = 'display_data';\n",
              "          await google.colab.output.renderOutput(dataTable, element);\n",
              "          const docLink = document.createElement('div');\n",
              "          docLink.innerHTML = docLinkHtml;\n",
              "          element.appendChild(docLink);\n",
              "        }\n",
              "      </script>\n",
              "    </div>\n",
              "  </div>\n",
              "  "
            ]
          },
          "metadata": {},
          "execution_count": 21
        }
      ]
    },
    {
      "cell_type": "markdown",
      "source": [
        "# **Feature Extraction from Text**"
      ],
      "metadata": {
        "id": "jSKDgsV2WRIp"
      }
    },
    {
      "cell_type": "markdown",
      "source": [
        "## N-grams"
      ],
      "metadata": {
        "id": "EYPW_aq15MgF"
      }
    },
    {
      "cell_type": "code",
      "source": [
        "# making n-grams\n",
        "n = 3\n",
        "def n_grams(text):\n",
        "  if len(word_tokenize(text)) < 3:\n",
        "    return []\n",
        "  n_grams = ngrams(word_tokenize(text), n)\n",
        "  return [' '.join(grams) for grams in n_grams]\n",
        "\n",
        "df['n_grams'] = df['Text_both'].apply(lambda x: n_grams(x))\n",
        "#df.head()"
      ],
      "metadata": {
        "id": "sH6nD0IXWcI1",
        "colab": {
          "base_uri": "https://localhost:8080/"
        },
        "outputId": "dfc1ecd5-52c0-405d-b28c-6fa2c4437500"
      },
      "execution_count": null,
      "outputs": [
        {
          "output_type": "stream",
          "name": "stderr",
          "text": [
            "/usr/local/lib/python3.10/dist-packages/ipykernel/ipkernel.py:283: DeprecationWarning: `should_run_async` will not call `transform_cell` automatically in the future. Please pass the result to `transformed_cell` argument and any exception that happen during thetransform in `preprocessing_exc_tuple` in IPython 7.17 and above.\n",
            "  and should_run_async(code)\n"
          ]
        }
      ]
    },
    {
      "cell_type": "markdown",
      "source": [
        "## Bag of Words "
      ],
      "metadata": {
        "id": "ahPv72xx5Um4"
      }
    },
    {
      "cell_type": "code",
      "source": [
        "# bag of words model\n",
        "bow = CountVectorizer(max_features=1000, lowercase=True, ngram_range=(1,1), analyzer = \"word\")\n",
        "X_bow = bow.fit_transform(df['Text_stemmed'])\n",
        "print(X_bow)"
      ],
      "metadata": {
        "id": "weYsaVDeqc_G",
        "colab": {
          "base_uri": "https://localhost:8080/"
        },
        "outputId": "7ca1c383-0e0a-403c-ff21-c8542dd85aed"
      },
      "execution_count": null,
      "outputs": [
        {
          "output_type": "stream",
          "name": "stderr",
          "text": [
            "/usr/local/lib/python3.10/dist-packages/ipykernel/ipkernel.py:283: DeprecationWarning: `should_run_async` will not call `transform_cell` automatically in the future. Please pass the result to `transformed_cell` argument and any exception that happen during thetransform in `preprocessing_exc_tuple` in IPython 7.17 and above.\n",
            "  and should_run_async(code)\n"
          ]
        },
        {
          "output_type": "stream",
          "name": "stdout",
          "text": [
            "  (0, 808)\t1\n",
            "  (0, 268)\t1\n",
            "  (0, 858)\t1\n",
            "  (0, 591)\t1\n",
            "  (1, 516)\t1\n",
            "  (1, 803)\t1\n",
            "  (1, 542)\t1\n",
            "  (3, 998)\t2\n",
            "  (3, 64)\t1\n",
            "  (3, 557)\t1\n",
            "  (3, 130)\t1\n",
            "  (3, 91)\t1\n",
            "  (3, 274)\t1\n",
            "  (4, 296)\t1\n",
            "  (4, 782)\t1\n",
            "  (4, 904)\t1\n",
            "  (4, 929)\t1\n",
            "  (4, 454)\t1\n",
            "  (4, 103)\t1\n",
            "  (4, 702)\t1\n",
            "  (4, 801)\t1\n",
            "  (5, 976)\t2\n",
            "  (5, 408)\t1\n",
            "  (5, 96)\t1\n",
            "  (5, 355)\t1\n",
            "  :\t:\n",
            "  (19848, 997)\t1\n",
            "  (19848, 869)\t1\n",
            "  (19848, 269)\t1\n",
            "  (19848, 584)\t1\n",
            "  (19848, 92)\t1\n",
            "  (19848, 849)\t1\n",
            "  (19848, 689)\t1\n",
            "  (19848, 240)\t1\n",
            "  (19848, 857)\t1\n",
            "  (19849, 126)\t1\n",
            "  (19849, 451)\t1\n",
            "  (19849, 232)\t1\n",
            "  (19850, 322)\t1\n",
            "  (19850, 92)\t1\n",
            "  (19850, 320)\t1\n",
            "  (19851, 454)\t1\n",
            "  (19851, 255)\t1\n",
            "  (19851, 424)\t1\n",
            "  (19851, 161)\t1\n",
            "  (19851, 750)\t1\n",
            "  (19851, 509)\t1\n",
            "  (19851, 245)\t1\n",
            "  (19851, 555)\t1\n",
            "  (19851, 459)\t2\n",
            "  (19851, 348)\t1\n"
          ]
        }
      ]
    },
    {
      "cell_type": "markdown",
      "source": [
        "## Inverse Document Frequency"
      ],
      "metadata": {
        "id": "N56Uowh15cOE"
      }
    },
    {
      "cell_type": "code",
      "source": [
        "# Inverse Document Frequency\n",
        "vectorizer = TfidfVectorizer()\n",
        "tf_idf = vectorizer.fit_transform(df['Text_stemmed'])\n",
        "print(tf_idf[:30])"
      ],
      "metadata": {
        "id": "SBWk27kcYLcW",
        "colab": {
          "base_uri": "https://localhost:8080/"
        },
        "outputId": "ca3a8a3c-500d-4370-9590-655a26eb968c"
      },
      "execution_count": null,
      "outputs": [
        {
          "output_type": "stream",
          "name": "stderr",
          "text": [
            "/usr/local/lib/python3.10/dist-packages/ipykernel/ipkernel.py:283: DeprecationWarning: `should_run_async` will not call `transform_cell` automatically in the future. Please pass the result to `transformed_cell` argument and any exception that happen during thetransform in `preprocessing_exc_tuple` in IPython 7.17 and above.\n",
            "  and should_run_async(code)\n"
          ]
        },
        {
          "output_type": "stream",
          "name": "stdout",
          "text": [
            "  (0, 16618)\t0.31295871029519323\n",
            "  (0, 26558)\t0.43760925233850495\n",
            "  (0, 24009)\t0.35851852524231603\n",
            "  (0, 12841)\t0.48576683875265053\n",
            "  (0, 7173)\t0.2930254864743183\n",
            "  (0, 22715)\t0.3077566481544721\n",
            "  (0, 14414)\t0.40678242727242864\n",
            "  (1, 15208)\t0.32222018843067296\n",
            "  (1, 27944)\t0.6112280191790583\n",
            "  (1, 22594)\t0.40648357861312145\n",
            "  (1, 27655)\t0.4830238969711683\n",
            "  (1, 14642)\t0.3521838639273567\n",
            "  (2, 12198)\t1.0\n",
            "  (3, 7452)\t0.24028994099345666\n",
            "  (3, 18729)\t0.3185841105257519\n",
            "  (3, 14185)\t0.42353159700126236\n",
            "  (3, 2673)\t0.29779246868756565\n",
            "  (3, 3647)\t0.24926584265582108\n",
            "  (3, 15805)\t0.20093034504194657\n",
            "  (3, 1801)\t0.25962116971910426\n",
            "  (3, 28067)\t0.6346620558001667\n",
            "  (4, 22472)\t0.2815726016163862\n",
            "  (4, 6126)\t0.43845370043453247\n",
            "  (4, 19998)\t0.32394826864857634\n",
            "  (4, 2994)\t0.3204768418429743\n",
            "  :\t:\n",
            "  (27, 23315)\t0.3025487902109057\n",
            "  (27, 4741)\t0.25794855593009186\n",
            "  (27, 14519)\t0.3025487902109057\n",
            "  (27, 8988)\t0.3025487902109057\n",
            "  (27, 26585)\t0.15753582924151294\n",
            "  (27, 25310)\t0.20373931262422487\n",
            "  (28, 20972)\t0.17068945061869492\n",
            "  (28, 1484)\t0.28761737688907135\n",
            "  (28, 26768)\t0.3004264355926508\n",
            "  (28, 5057)\t0.20277723360568004\n",
            "  (28, 8082)\t0.24657169457638564\n",
            "  (28, 5027)\t0.24958264092848614\n",
            "  (28, 1630)\t0.20035925405224597\n",
            "  (28, 16495)\t0.30951460737442416\n",
            "  (28, 10017)\t0.4092503775638808\n",
            "  (28, 16292)\t0.2748083181854918\n",
            "  (28, 838)\t0.22467446409103284\n",
            "  (28, 21197)\t0.23677358222490663\n",
            "  (28, 27786)\t0.16413803639151325\n",
            "  (28, 19695)\t0.2138404875997778\n",
            "  (28, 24215)\t0.2748083181854918\n",
            "  (29, 14857)\t0.4362862645433038\n",
            "  (29, 10010)\t0.5472885737811756\n",
            "  (29, 1509)\t0.5414084343014224\n",
            "  (29, 24009)\t0.46583947841150114\n"
          ]
        }
      ]
    },
    {
      "cell_type": "markdown",
      "source": [
        "## Temporal Analysis"
      ],
      "metadata": {
        "id": "W9Dg1InY5hfw"
      }
    },
    {
      "cell_type": "code",
      "source": [
        "df['Datetime'].dtype"
      ],
      "metadata": {
        "id": "Y9L_JxIPKo4H",
        "colab": {
          "base_uri": "https://localhost:8080/"
        },
        "outputId": "5f6a9071-8a7d-4e81-ed90-9a79f9652fd4"
      },
      "execution_count": null,
      "outputs": [
        {
          "output_type": "stream",
          "name": "stderr",
          "text": [
            "/usr/local/lib/python3.10/dist-packages/ipykernel/ipkernel.py:283: DeprecationWarning: `should_run_async` will not call `transform_cell` automatically in the future. Please pass the result to `transformed_cell` argument and any exception that happen during thetransform in `preprocessing_exc_tuple` in IPython 7.17 and above.\n",
            "  and should_run_async(code)\n"
          ]
        },
        {
          "output_type": "execute_result",
          "data": {
            "text/plain": [
              "dtype('O')"
            ]
          },
          "metadata": {},
          "execution_count": 25
        }
      ]
    },
    {
      "cell_type": "code",
      "source": [
        "# Time-based analysis\n",
        "# Grouping the reviews by day:\n",
        "# Step 1, making the datetime column into Datetime type\n",
        "df['Datetime'] = pd.to_datetime(df['Datetime'])\n",
        "# Step 2: Keeping only the date from the Datetime column in a new column called 'Date'\n",
        "df['Day'] = df['Datetime'].dt.date\n",
        "df['Month'] = df['Datetime'].dt.month\n",
        "df['Year'] = df['Datetime'].dt.year\n",
        "# Grouping by the Date column\n",
        "df_date_wise = df.groupby(['Day'])['Text_stemmed'].count().reset_index(name='tweet_count').set_index('Day')\n",
        "#df_date_wise.sample"
      ],
      "metadata": {
        "id": "KGmBIuCs6iU7",
        "colab": {
          "base_uri": "https://localhost:8080/"
        },
        "outputId": "1558183f-6bb0-488c-e8fa-7152b2f3151d"
      },
      "execution_count": null,
      "outputs": [
        {
          "output_type": "stream",
          "name": "stderr",
          "text": [
            "/usr/local/lib/python3.10/dist-packages/ipykernel/ipkernel.py:283: DeprecationWarning: `should_run_async` will not call `transform_cell` automatically in the future. Please pass the result to `transformed_cell` argument and any exception that happen during thetransform in `preprocessing_exc_tuple` in IPython 7.17 and above.\n",
            "  and should_run_async(code)\n"
          ]
        }
      ]
    },
    {
      "cell_type": "code",
      "source": [
        "# now to make a chart showing frequency by time:\n",
        "fig = px.line(df_date_wise, y='tweet_count')\n",
        "fig.show()"
      ],
      "metadata": {
        "colab": {
          "base_uri": "https://localhost:8080/",
          "height": 597
        },
        "id": "Jn6m-UbrLgmq",
        "outputId": "81caed93-7104-4c93-a4b3-f8edc1f60e2b"
      },
      "execution_count": null,
      "outputs": [
        {
          "output_type": "stream",
          "name": "stderr",
          "text": [
            "/usr/local/lib/python3.10/dist-packages/ipykernel/ipkernel.py:283: DeprecationWarning: `should_run_async` will not call `transform_cell` automatically in the future. Please pass the result to `transformed_cell` argument and any exception that happen during thetransform in `preprocessing_exc_tuple` in IPython 7.17 and above.\n",
            "  and should_run_async(code)\n"
          ]
        },
        {
          "output_type": "display_data",
          "data": {
            "text/html": [
              "<html>\n",
              "<head><meta charset=\"utf-8\" /></head>\n",
              "<body>\n",
              "    <div>            <script src=\"https://cdnjs.cloudflare.com/ajax/libs/mathjax/2.7.5/MathJax.js?config=TeX-AMS-MML_SVG\"></script><script type=\"text/javascript\">if (window.MathJax && window.MathJax.Hub && window.MathJax.Hub.Config) {window.MathJax.Hub.Config({SVG: {font: \"STIX-Web\"}});}</script>                <script type=\"text/javascript\">window.PlotlyConfig = {MathJaxConfig: 'local'};</script>\n",
              "        <script src=\"https://cdn.plot.ly/plotly-2.18.2.min.js\"></script>                <div id=\"90e1e0f2-aef2-44f2-b74b-e089ca8343bc\" class=\"plotly-graph-div\" style=\"height:525px; width:100%;\"></div>            <script type=\"text/javascript\">                                    window.PLOTLYENV=window.PLOTLYENV || {};                                    if (document.getElementById(\"90e1e0f2-aef2-44f2-b74b-e089ca8343bc\")) {                    Plotly.newPlot(                        \"90e1e0f2-aef2-44f2-b74b-e089ca8343bc\",                        [{\"hovertemplate\":\"Day=%{x}<br>tweet_count=%{y}<extra></extra>\",\"legendgroup\":\"\",\"line\":{\"color\":\"#636efa\",\"dash\":\"solid\"},\"marker\":{\"symbol\":\"circle\"},\"mode\":\"lines\",\"name\":\"\",\"orientation\":\"v\",\"showlegend\":false,\"x\":[\"2021-01-07\",\"2021-01-08\",\"2021-01-09\",\"2021-01-10\",\"2021-01-11\",\"2021-01-12\",\"2021-02-07\",\"2021-02-08\",\"2021-02-09\",\"2021-02-10\",\"2021-02-11\",\"2021-02-12\",\"2021-03-07\",\"2021-03-08\",\"2021-03-09\",\"2021-03-10\",\"2021-03-11\",\"2021-03-12\",\"2021-04-07\",\"2021-04-08\",\"2021-04-09\",\"2021-04-10\",\"2021-04-11\",\"2021-04-12\",\"2021-05-07\",\"2021-05-08\",\"2021-05-09\",\"2021-05-10\",\"2021-05-11\",\"2021-05-12\",\"2021-06-07\",\"2021-06-08\",\"2021-06-09\",\"2021-06-10\",\"2021-06-11\",\"2021-06-12\",\"2021-06-13\",\"2021-06-14\",\"2021-06-15\",\"2021-06-16\",\"2021-06-17\",\"2021-06-18\",\"2021-06-19\",\"2021-06-20\",\"2021-06-21\",\"2021-06-22\",\"2021-06-23\",\"2021-06-24\",\"2021-06-25\",\"2021-06-26\",\"2021-06-27\",\"2021-06-28\",\"2021-06-29\",\"2021-06-30\",\"2021-07-07\",\"2021-07-08\",\"2021-07-09\",\"2021-07-10\",\"2021-07-11\",\"2021-07-12\",\"2021-07-13\",\"2021-07-14\",\"2021-07-15\",\"2021-07-16\",\"2021-07-17\",\"2021-07-18\",\"2021-07-19\",\"2021-07-20\",\"2021-07-21\",\"2021-07-22\",\"2021-07-23\",\"2021-07-24\",\"2021-07-25\",\"2021-07-26\",\"2021-07-27\",\"2021-07-28\",\"2021-07-29\",\"2021-07-30\",\"2021-07-31\",\"2021-08-07\",\"2021-08-08\",\"2021-08-09\",\"2021-08-10\",\"2021-08-11\",\"2021-08-12\",\"2021-08-13\",\"2021-08-14\",\"2021-08-15\",\"2021-08-16\",\"2021-08-17\",\"2021-08-18\",\"2021-08-19\",\"2021-08-20\",\"2021-08-21\",\"2021-08-22\",\"2021-08-23\",\"2021-08-24\",\"2021-08-25\",\"2021-08-26\",\"2021-08-27\",\"2021-08-28\",\"2021-08-29\",\"2021-08-30\",\"2021-08-31\",\"2021-09-06\",\"2021-09-07\",\"2021-09-08\",\"2021-09-09\",\"2021-09-10\",\"2021-09-11\",\"2021-09-12\",\"2021-09-13\",\"2021-09-14\",\"2021-09-15\",\"2021-09-16\",\"2021-09-17\",\"2021-09-18\",\"2021-09-19\",\"2021-09-20\",\"2021-09-21\",\"2021-09-22\",\"2021-09-23\",\"2021-09-24\",\"2021-09-25\",\"2021-09-26\",\"2021-09-27\",\"2021-09-28\",\"2021-09-29\",\"2021-09-30\",\"2021-10-06\",\"2021-10-07\",\"2021-10-08\",\"2021-10-09\",\"2021-10-10\",\"2021-10-11\",\"2021-10-12\",\"2021-10-13\",\"2021-10-14\",\"2021-10-15\",\"2021-10-16\",\"2021-10-17\",\"2021-10-18\",\"2021-10-19\",\"2021-10-20\",\"2021-10-21\",\"2021-10-22\",\"2021-10-23\",\"2021-10-24\",\"2021-10-25\",\"2021-10-26\",\"2021-10-27\",\"2021-10-28\",\"2021-10-29\",\"2021-10-30\",\"2021-10-31\",\"2021-11-06\",\"2021-11-07\",\"2021-11-08\",\"2021-11-09\",\"2021-11-10\",\"2021-11-11\",\"2021-11-12\",\"2021-11-13\",\"2021-11-14\",\"2021-11-15\",\"2021-11-16\",\"2021-11-17\",\"2021-11-18\",\"2021-11-19\",\"2021-11-20\",\"2021-11-21\",\"2021-11-22\",\"2021-11-23\",\"2021-11-24\",\"2021-11-25\",\"2021-11-26\",\"2021-11-27\",\"2021-11-28\",\"2021-11-29\",\"2021-11-30\",\"2021-12-06\",\"2021-12-07\",\"2021-12-08\",\"2021-12-09\",\"2021-12-10\",\"2021-12-11\",\"2021-12-12\",\"2021-12-13\",\"2021-12-14\",\"2021-12-15\",\"2021-12-16\",\"2021-12-17\",\"2021-12-18\",\"2021-12-19\",\"2021-12-20\",\"2021-12-21\",\"2021-12-22\",\"2021-12-23\",\"2021-12-24\",\"2021-12-25\",\"2021-12-26\",\"2021-12-27\",\"2021-12-28\",\"2021-12-29\",\"2021-12-30\",\"2021-12-31\",\"2022-01-01\",\"2022-01-13\",\"2022-01-14\",\"2022-01-15\",\"2022-01-16\",\"2022-01-17\",\"2022-01-18\",\"2022-01-19\",\"2022-01-20\",\"2022-01-21\",\"2022-01-22\",\"2022-01-23\",\"2022-01-24\",\"2022-01-25\",\"2022-01-26\",\"2022-01-27\",\"2022-01-28\",\"2022-01-29\",\"2022-01-30\",\"2022-02-01\",\"2022-03-01\",\"2022-04-01\",\"2022-05-01\",\"2022-06-01\",\"2022-07-01\",\"2022-08-01\",\"2022-09-01\",\"2022-10-01\",\"2022-11-01\",\"2022-12-01\"],\"xaxis\":\"x\",\"y\":[87,63,97,96,103,106,78,92,85,68,89,103,71,93,107,50,104,98,148,82,63,86,100,80,145,91,55,94,116,69,104,84,100,113,73,91,61,113,119,116,103,110,59,68,100,94,93,99,96,76,65,108,99,104,91,64,89,74,69,70,108,95,128,99,64,74,85,90,86,92,100,72,66,109,106,103,101,78,52,84,59,92,83,129,58,84,64,52,83,93,81,89,76,72,63,97,85,109,111,105,73,57,93,81,31,115,95,88,64,111,69,89,81,80,95,84,72,64,97,98,97,98,87,74,62,108,106,109,98,97,87,90,76,62,100,52,88,102,97,129,76,110,112,80,79,88,67,68,76,109,108,97,106,77,75,88,66,101,67,86,93,41,97,88,119,141,102,160,107,129,131,137,170,112,154,114,106,78,138,164,70,114,87,57,66,113,40,53,51,57,51,52,31,41,51,51,49,64,48,27,31,47,48,65,54,51,36,82,61,43,53,62,57,73,63,63,50,31,74,85,72,68,78,56,51,57,67,70,87,76,58,65,46,67,84,75],\"yaxis\":\"y\",\"type\":\"scatter\"}],                        {\"template\":{\"data\":{\"histogram2dcontour\":[{\"type\":\"histogram2dcontour\",\"colorbar\":{\"outlinewidth\":0,\"ticks\":\"\"},\"colorscale\":[[0.0,\"#0d0887\"],[0.1111111111111111,\"#46039f\"],[0.2222222222222222,\"#7201a8\"],[0.3333333333333333,\"#9c179e\"],[0.4444444444444444,\"#bd3786\"],[0.5555555555555556,\"#d8576b\"],[0.6666666666666666,\"#ed7953\"],[0.7777777777777778,\"#fb9f3a\"],[0.8888888888888888,\"#fdca26\"],[1.0,\"#f0f921\"]]}],\"choropleth\":[{\"type\":\"choropleth\",\"colorbar\":{\"outlinewidth\":0,\"ticks\":\"\"}}],\"histogram2d\":[{\"type\":\"histogram2d\",\"colorbar\":{\"outlinewidth\":0,\"ticks\":\"\"},\"colorscale\":[[0.0,\"#0d0887\"],[0.1111111111111111,\"#46039f\"],[0.2222222222222222,\"#7201a8\"],[0.3333333333333333,\"#9c179e\"],[0.4444444444444444,\"#bd3786\"],[0.5555555555555556,\"#d8576b\"],[0.6666666666666666,\"#ed7953\"],[0.7777777777777778,\"#fb9f3a\"],[0.8888888888888888,\"#fdca26\"],[1.0,\"#f0f921\"]]}],\"heatmap\":[{\"type\":\"heatmap\",\"colorbar\":{\"outlinewidth\":0,\"ticks\":\"\"},\"colorscale\":[[0.0,\"#0d0887\"],[0.1111111111111111,\"#46039f\"],[0.2222222222222222,\"#7201a8\"],[0.3333333333333333,\"#9c179e\"],[0.4444444444444444,\"#bd3786\"],[0.5555555555555556,\"#d8576b\"],[0.6666666666666666,\"#ed7953\"],[0.7777777777777778,\"#fb9f3a\"],[0.8888888888888888,\"#fdca26\"],[1.0,\"#f0f921\"]]}],\"heatmapgl\":[{\"type\":\"heatmapgl\",\"colorbar\":{\"outlinewidth\":0,\"ticks\":\"\"},\"colorscale\":[[0.0,\"#0d0887\"],[0.1111111111111111,\"#46039f\"],[0.2222222222222222,\"#7201a8\"],[0.3333333333333333,\"#9c179e\"],[0.4444444444444444,\"#bd3786\"],[0.5555555555555556,\"#d8576b\"],[0.6666666666666666,\"#ed7953\"],[0.7777777777777778,\"#fb9f3a\"],[0.8888888888888888,\"#fdca26\"],[1.0,\"#f0f921\"]]}],\"contourcarpet\":[{\"type\":\"contourcarpet\",\"colorbar\":{\"outlinewidth\":0,\"ticks\":\"\"}}],\"contour\":[{\"type\":\"contour\",\"colorbar\":{\"outlinewidth\":0,\"ticks\":\"\"},\"colorscale\":[[0.0,\"#0d0887\"],[0.1111111111111111,\"#46039f\"],[0.2222222222222222,\"#7201a8\"],[0.3333333333333333,\"#9c179e\"],[0.4444444444444444,\"#bd3786\"],[0.5555555555555556,\"#d8576b\"],[0.6666666666666666,\"#ed7953\"],[0.7777777777777778,\"#fb9f3a\"],[0.8888888888888888,\"#fdca26\"],[1.0,\"#f0f921\"]]}],\"surface\":[{\"type\":\"surface\",\"colorbar\":{\"outlinewidth\":0,\"ticks\":\"\"},\"colorscale\":[[0.0,\"#0d0887\"],[0.1111111111111111,\"#46039f\"],[0.2222222222222222,\"#7201a8\"],[0.3333333333333333,\"#9c179e\"],[0.4444444444444444,\"#bd3786\"],[0.5555555555555556,\"#d8576b\"],[0.6666666666666666,\"#ed7953\"],[0.7777777777777778,\"#fb9f3a\"],[0.8888888888888888,\"#fdca26\"],[1.0,\"#f0f921\"]]}],\"mesh3d\":[{\"type\":\"mesh3d\",\"colorbar\":{\"outlinewidth\":0,\"ticks\":\"\"}}],\"scatter\":[{\"fillpattern\":{\"fillmode\":\"overlay\",\"size\":10,\"solidity\":0.2},\"type\":\"scatter\"}],\"parcoords\":[{\"type\":\"parcoords\",\"line\":{\"colorbar\":{\"outlinewidth\":0,\"ticks\":\"\"}}}],\"scatterpolargl\":[{\"type\":\"scatterpolargl\",\"marker\":{\"colorbar\":{\"outlinewidth\":0,\"ticks\":\"\"}}}],\"bar\":[{\"error_x\":{\"color\":\"#2a3f5f\"},\"error_y\":{\"color\":\"#2a3f5f\"},\"marker\":{\"line\":{\"color\":\"#E5ECF6\",\"width\":0.5},\"pattern\":{\"fillmode\":\"overlay\",\"size\":10,\"solidity\":0.2}},\"type\":\"bar\"}],\"scattergeo\":[{\"type\":\"scattergeo\",\"marker\":{\"colorbar\":{\"outlinewidth\":0,\"ticks\":\"\"}}}],\"scatterpolar\":[{\"type\":\"scatterpolar\",\"marker\":{\"colorbar\":{\"outlinewidth\":0,\"ticks\":\"\"}}}],\"histogram\":[{\"marker\":{\"pattern\":{\"fillmode\":\"overlay\",\"size\":10,\"solidity\":0.2}},\"type\":\"histogram\"}],\"scattergl\":[{\"type\":\"scattergl\",\"marker\":{\"colorbar\":{\"outlinewidth\":0,\"ticks\":\"\"}}}],\"scatter3d\":[{\"type\":\"scatter3d\",\"line\":{\"colorbar\":{\"outlinewidth\":0,\"ticks\":\"\"}},\"marker\":{\"colorbar\":{\"outlinewidth\":0,\"ticks\":\"\"}}}],\"scattermapbox\":[{\"type\":\"scattermapbox\",\"marker\":{\"colorbar\":{\"outlinewidth\":0,\"ticks\":\"\"}}}],\"scatterternary\":[{\"type\":\"scatterternary\",\"marker\":{\"colorbar\":{\"outlinewidth\":0,\"ticks\":\"\"}}}],\"scattercarpet\":[{\"type\":\"scattercarpet\",\"marker\":{\"colorbar\":{\"outlinewidth\":0,\"ticks\":\"\"}}}],\"carpet\":[{\"aaxis\":{\"endlinecolor\":\"#2a3f5f\",\"gridcolor\":\"white\",\"linecolor\":\"white\",\"minorgridcolor\":\"white\",\"startlinecolor\":\"#2a3f5f\"},\"baxis\":{\"endlinecolor\":\"#2a3f5f\",\"gridcolor\":\"white\",\"linecolor\":\"white\",\"minorgridcolor\":\"white\",\"startlinecolor\":\"#2a3f5f\"},\"type\":\"carpet\"}],\"table\":[{\"cells\":{\"fill\":{\"color\":\"#EBF0F8\"},\"line\":{\"color\":\"white\"}},\"header\":{\"fill\":{\"color\":\"#C8D4E3\"},\"line\":{\"color\":\"white\"}},\"type\":\"table\"}],\"barpolar\":[{\"marker\":{\"line\":{\"color\":\"#E5ECF6\",\"width\":0.5},\"pattern\":{\"fillmode\":\"overlay\",\"size\":10,\"solidity\":0.2}},\"type\":\"barpolar\"}],\"pie\":[{\"automargin\":true,\"type\":\"pie\"}]},\"layout\":{\"autotypenumbers\":\"strict\",\"colorway\":[\"#636efa\",\"#EF553B\",\"#00cc96\",\"#ab63fa\",\"#FFA15A\",\"#19d3f3\",\"#FF6692\",\"#B6E880\",\"#FF97FF\",\"#FECB52\"],\"font\":{\"color\":\"#2a3f5f\"},\"hovermode\":\"closest\",\"hoverlabel\":{\"align\":\"left\"},\"paper_bgcolor\":\"white\",\"plot_bgcolor\":\"#E5ECF6\",\"polar\":{\"bgcolor\":\"#E5ECF6\",\"angularaxis\":{\"gridcolor\":\"white\",\"linecolor\":\"white\",\"ticks\":\"\"},\"radialaxis\":{\"gridcolor\":\"white\",\"linecolor\":\"white\",\"ticks\":\"\"}},\"ternary\":{\"bgcolor\":\"#E5ECF6\",\"aaxis\":{\"gridcolor\":\"white\",\"linecolor\":\"white\",\"ticks\":\"\"},\"baxis\":{\"gridcolor\":\"white\",\"linecolor\":\"white\",\"ticks\":\"\"},\"caxis\":{\"gridcolor\":\"white\",\"linecolor\":\"white\",\"ticks\":\"\"}},\"coloraxis\":{\"colorbar\":{\"outlinewidth\":0,\"ticks\":\"\"}},\"colorscale\":{\"sequential\":[[0.0,\"#0d0887\"],[0.1111111111111111,\"#46039f\"],[0.2222222222222222,\"#7201a8\"],[0.3333333333333333,\"#9c179e\"],[0.4444444444444444,\"#bd3786\"],[0.5555555555555556,\"#d8576b\"],[0.6666666666666666,\"#ed7953\"],[0.7777777777777778,\"#fb9f3a\"],[0.8888888888888888,\"#fdca26\"],[1.0,\"#f0f921\"]],\"sequentialminus\":[[0.0,\"#0d0887\"],[0.1111111111111111,\"#46039f\"],[0.2222222222222222,\"#7201a8\"],[0.3333333333333333,\"#9c179e\"],[0.4444444444444444,\"#bd3786\"],[0.5555555555555556,\"#d8576b\"],[0.6666666666666666,\"#ed7953\"],[0.7777777777777778,\"#fb9f3a\"],[0.8888888888888888,\"#fdca26\"],[1.0,\"#f0f921\"]],\"diverging\":[[0,\"#8e0152\"],[0.1,\"#c51b7d\"],[0.2,\"#de77ae\"],[0.3,\"#f1b6da\"],[0.4,\"#fde0ef\"],[0.5,\"#f7f7f7\"],[0.6,\"#e6f5d0\"],[0.7,\"#b8e186\"],[0.8,\"#7fbc41\"],[0.9,\"#4d9221\"],[1,\"#276419\"]]},\"xaxis\":{\"gridcolor\":\"white\",\"linecolor\":\"white\",\"ticks\":\"\",\"title\":{\"standoff\":15},\"zerolinecolor\":\"white\",\"automargin\":true,\"zerolinewidth\":2},\"yaxis\":{\"gridcolor\":\"white\",\"linecolor\":\"white\",\"ticks\":\"\",\"title\":{\"standoff\":15},\"zerolinecolor\":\"white\",\"automargin\":true,\"zerolinewidth\":2},\"scene\":{\"xaxis\":{\"backgroundcolor\":\"#E5ECF6\",\"gridcolor\":\"white\",\"linecolor\":\"white\",\"showbackground\":true,\"ticks\":\"\",\"zerolinecolor\":\"white\",\"gridwidth\":2},\"yaxis\":{\"backgroundcolor\":\"#E5ECF6\",\"gridcolor\":\"white\",\"linecolor\":\"white\",\"showbackground\":true,\"ticks\":\"\",\"zerolinecolor\":\"white\",\"gridwidth\":2},\"zaxis\":{\"backgroundcolor\":\"#E5ECF6\",\"gridcolor\":\"white\",\"linecolor\":\"white\",\"showbackground\":true,\"ticks\":\"\",\"zerolinecolor\":\"white\",\"gridwidth\":2}},\"shapedefaults\":{\"line\":{\"color\":\"#2a3f5f\"}},\"annotationdefaults\":{\"arrowcolor\":\"#2a3f5f\",\"arrowhead\":0,\"arrowwidth\":1},\"geo\":{\"bgcolor\":\"white\",\"landcolor\":\"#E5ECF6\",\"subunitcolor\":\"white\",\"showland\":true,\"showlakes\":true,\"lakecolor\":\"white\"},\"title\":{\"x\":0.05},\"mapbox\":{\"style\":\"light\"}}},\"xaxis\":{\"anchor\":\"y\",\"domain\":[0.0,1.0],\"title\":{\"text\":\"Day\"}},\"yaxis\":{\"anchor\":\"x\",\"domain\":[0.0,1.0],\"title\":{\"text\":\"tweet_count\"}},\"legend\":{\"tracegroupgap\":0},\"margin\":{\"t\":60}},                        {\"responsive\": true}                    ).then(function(){\n",
              "                            \n",
              "var gd = document.getElementById('90e1e0f2-aef2-44f2-b74b-e089ca8343bc');\n",
              "var x = new MutationObserver(function (mutations, observer) {{\n",
              "        var display = window.getComputedStyle(gd).display;\n",
              "        if (!display || display === 'none') {{\n",
              "            console.log([gd, 'removed!']);\n",
              "            Plotly.purge(gd);\n",
              "            observer.disconnect();\n",
              "        }}\n",
              "}});\n",
              "\n",
              "// Listen for the removal of the full notebook cells\n",
              "var notebookContainer = gd.closest('#notebook-container');\n",
              "if (notebookContainer) {{\n",
              "    x.observe(notebookContainer, {childList: true});\n",
              "}}\n",
              "\n",
              "// Listen for the clearing of the current output cell\n",
              "var outputEl = gd.closest('.output');\n",
              "if (outputEl) {{\n",
              "    x.observe(outputEl, {childList: true});\n",
              "}}\n",
              "\n",
              "                        })                };                            </script>        </div>\n",
              "</body>\n",
              "</html>"
            ]
          },
          "metadata": {}
        }
      ]
    },
    {
      "cell_type": "markdown",
      "source": [
        "## Sentiment Analysis"
      ],
      "metadata": {
        "id": "VKlc3Jwm6i1F"
      }
    },
    {
      "cell_type": "code",
      "source": [
        "# Extracting sentiment from the tweets\n",
        "# Only run this cell once since it takes a long time to complete\n",
        "from textblob import TextBlob\n",
        "df['sentiment'] = df['Text_both'].apply(lambda x: TextBlob(x).sentiment.polarity)"
      ],
      "metadata": {
        "id": "R-nqQXlj6lcx",
        "colab": {
          "base_uri": "https://localhost:8080/"
        },
        "outputId": "7ed8bd51-ed5d-4531-d6d7-d6860e54143c"
      },
      "execution_count": null,
      "outputs": [
        {
          "output_type": "stream",
          "name": "stderr",
          "text": [
            "/usr/local/lib/python3.10/dist-packages/ipykernel/ipkernel.py:283: DeprecationWarning:\n",
            "\n",
            "`should_run_async` will not call `transform_cell` automatically in the future. Please pass the result to `transformed_cell` argument and any exception that happen during thetransform in `preprocessing_exc_tuple` in IPython 7.17 and above.\n",
            "\n"
          ]
        }
      ]
    },
    {
      "cell_type": "code",
      "source": [
        "df.head()"
      ],
      "metadata": {
        "id": "rTBIDmOhNX6f",
        "colab": {
          "base_uri": "https://localhost:8080/",
          "height": 686
        },
        "outputId": "0a7b2766-6087-4397-e4b2-64883a79d9f9"
      },
      "execution_count": null,
      "outputs": [
        {
          "output_type": "stream",
          "name": "stderr",
          "text": [
            "/usr/local/lib/python3.10/dist-packages/ipykernel/ipkernel.py:283: DeprecationWarning:\n",
            "\n",
            "`should_run_async` will not call `transform_cell` automatically in the future. Please pass the result to `transformed_cell` argument and any exception that happen during thetransform in `preprocessing_exc_tuple` in IPython 7.17 and above.\n",
            "\n"
          ]
        },
        {
          "output_type": "execute_result",
          "data": {
            "text/plain": [
              "             Datetime      Tweet Id  \\\n",
              "0 2022-01-30 22:41:00  1.490000e+18   \n",
              "1 2022-01-30 22:37:00  1.490000e+18   \n",
              "2 2022-01-30 20:22:00  1.490000e+18   \n",
              "3 2022-01-30 20:01:00  1.490000e+18   \n",
              "4 2022-01-30 19:15:00  1.490000e+18   \n",
              "\n",
              "                                                Text         Username  \\\n",
              "0          late simple easy inputs sunday vibes mood   A1N10M_Logging   \n",
              "1                lettuce wraps shorts ytshorts lunch  nazmulmarketer1   \n",
              "2                                              humor   vanillaspice82   \n",
              "3  zone balanced meal carb blocks kodiak pancakes...   ZHealthyEating   \n",
              "4  experts say top types improve brain prevent de...  personalfitnes3   \n",
              "\n",
              "                                     Text_lemmatised  \\\n",
              "0            late simple easy input sunday vibe mood   \n",
              "1                  lettuce wrap short ytshorts lunch   \n",
              "2                                              humor   \n",
              "3  zone balanced meal carb block kodiak pancake e...   \n",
              "4  expert say top type improve brain prevent deme...   \n",
              "\n",
              "                                        Text_stemmed  \\\n",
              "0             late simpl easi input sunday vibe mood   \n",
              "1                    lettuc wrap short ytshort lunch   \n",
              "2                                              humor   \n",
              "3  zone balanc meal carb block kodiak pancak egg ...   \n",
              "4  expert say top type improv brain prevent demen...   \n",
              "\n",
              "                                           Text_both  \\\n",
              "0             late simpl easi input sunday vibe mood   \n",
              "1                    lettuc wrap short ytshort lunch   \n",
              "2                                              humor   \n",
              "3  zone balanc meal carb block kodiak pancak egg ...   \n",
              "4  expert say top type improv brain prevent demen...   \n",
              "\n",
              "                                             n_grams         Day  Month  Year  \\\n",
              "0  [late simpl easi, simpl easi input, easi input...  2022-01-30      1  2022   \n",
              "1  [lettuc wrap short, wrap short ytshort, short ...  2022-01-30      1  2022   \n",
              "2                                                 []  2022-01-30      1  2022   \n",
              "3  [zone balanc meal, balanc meal carb, meal carb...  2022-01-30      1  2022   \n",
              "4  [expert say top, say top type, top type improv...  2022-01-30      1  2022   \n",
              "\n",
              "   sentiment  \n",
              "0       -0.3  \n",
              "1        0.0  \n",
              "2        0.0  \n",
              "3        0.0  \n",
              "4        0.5  "
            ],
            "text/html": [
              "\n",
              "  <div id=\"df-0d90bdfb-c53b-478b-aa3c-3422f1b79c87\">\n",
              "    <div class=\"colab-df-container\">\n",
              "      <div>\n",
              "<style scoped>\n",
              "    .dataframe tbody tr th:only-of-type {\n",
              "        vertical-align: middle;\n",
              "    }\n",
              "\n",
              "    .dataframe tbody tr th {\n",
              "        vertical-align: top;\n",
              "    }\n",
              "\n",
              "    .dataframe thead th {\n",
              "        text-align: right;\n",
              "    }\n",
              "</style>\n",
              "<table border=\"1\" class=\"dataframe\">\n",
              "  <thead>\n",
              "    <tr style=\"text-align: right;\">\n",
              "      <th></th>\n",
              "      <th>Datetime</th>\n",
              "      <th>Tweet Id</th>\n",
              "      <th>Text</th>\n",
              "      <th>Username</th>\n",
              "      <th>Text_lemmatised</th>\n",
              "      <th>Text_stemmed</th>\n",
              "      <th>Text_both</th>\n",
              "      <th>n_grams</th>\n",
              "      <th>Day</th>\n",
              "      <th>Month</th>\n",
              "      <th>Year</th>\n",
              "      <th>sentiment</th>\n",
              "    </tr>\n",
              "  </thead>\n",
              "  <tbody>\n",
              "    <tr>\n",
              "      <th>0</th>\n",
              "      <td>2022-01-30 22:41:00</td>\n",
              "      <td>1.490000e+18</td>\n",
              "      <td>late simple easy inputs sunday vibes mood</td>\n",
              "      <td>A1N10M_Logging</td>\n",
              "      <td>late simple easy input sunday vibe mood</td>\n",
              "      <td>late simpl easi input sunday vibe mood</td>\n",
              "      <td>late simpl easi input sunday vibe mood</td>\n",
              "      <td>[late simpl easi, simpl easi input, easi input...</td>\n",
              "      <td>2022-01-30</td>\n",
              "      <td>1</td>\n",
              "      <td>2022</td>\n",
              "      <td>-0.3</td>\n",
              "    </tr>\n",
              "    <tr>\n",
              "      <th>1</th>\n",
              "      <td>2022-01-30 22:37:00</td>\n",
              "      <td>1.490000e+18</td>\n",
              "      <td>lettuce wraps shorts ytshorts lunch</td>\n",
              "      <td>nazmulmarketer1</td>\n",
              "      <td>lettuce wrap short ytshorts lunch</td>\n",
              "      <td>lettuc wrap short ytshort lunch</td>\n",
              "      <td>lettuc wrap short ytshort lunch</td>\n",
              "      <td>[lettuc wrap short, wrap short ytshort, short ...</td>\n",
              "      <td>2022-01-30</td>\n",
              "      <td>1</td>\n",
              "      <td>2022</td>\n",
              "      <td>0.0</td>\n",
              "    </tr>\n",
              "    <tr>\n",
              "      <th>2</th>\n",
              "      <td>2022-01-30 20:22:00</td>\n",
              "      <td>1.490000e+18</td>\n",
              "      <td>humor</td>\n",
              "      <td>vanillaspice82</td>\n",
              "      <td>humor</td>\n",
              "      <td>humor</td>\n",
              "      <td>humor</td>\n",
              "      <td>[]</td>\n",
              "      <td>2022-01-30</td>\n",
              "      <td>1</td>\n",
              "      <td>2022</td>\n",
              "      <td>0.0</td>\n",
              "    </tr>\n",
              "    <tr>\n",
              "      <th>3</th>\n",
              "      <td>2022-01-30 20:01:00</td>\n",
              "      <td>1.490000e+18</td>\n",
              "      <td>zone balanced meal carb blocks kodiak pancakes...</td>\n",
              "      <td>ZHealthyEating</td>\n",
              "      <td>zone balanced meal carb block kodiak pancake e...</td>\n",
              "      <td>zone balanc meal carb block kodiak pancak egg ...</td>\n",
              "      <td>zone balanc meal carb block kodiak pancak egg ...</td>\n",
              "      <td>[zone balanc meal, balanc meal carb, meal carb...</td>\n",
              "      <td>2022-01-30</td>\n",
              "      <td>1</td>\n",
              "      <td>2022</td>\n",
              "      <td>0.0</td>\n",
              "    </tr>\n",
              "    <tr>\n",
              "      <th>4</th>\n",
              "      <td>2022-01-30 19:15:00</td>\n",
              "      <td>1.490000e+18</td>\n",
              "      <td>experts say top types improve brain prevent de...</td>\n",
              "      <td>personalfitnes3</td>\n",
              "      <td>expert say top type improve brain prevent deme...</td>\n",
              "      <td>expert say top type improv brain prevent demen...</td>\n",
              "      <td>expert say top type improv brain prevent demen...</td>\n",
              "      <td>[expert say top, say top type, top type improv...</td>\n",
              "      <td>2022-01-30</td>\n",
              "      <td>1</td>\n",
              "      <td>2022</td>\n",
              "      <td>0.5</td>\n",
              "    </tr>\n",
              "  </tbody>\n",
              "</table>\n",
              "</div>\n",
              "      <button class=\"colab-df-convert\" onclick=\"convertToInteractive('df-0d90bdfb-c53b-478b-aa3c-3422f1b79c87')\"\n",
              "              title=\"Convert this dataframe to an interactive table.\"\n",
              "              style=\"display:none;\">\n",
              "        \n",
              "  <svg xmlns=\"http://www.w3.org/2000/svg\" height=\"24px\"viewBox=\"0 0 24 24\"\n",
              "       width=\"24px\">\n",
              "    <path d=\"M0 0h24v24H0V0z\" fill=\"none\"/>\n",
              "    <path d=\"M18.56 5.44l.94 2.06.94-2.06 2.06-.94-2.06-.94-.94-2.06-.94 2.06-2.06.94zm-11 1L8.5 8.5l.94-2.06 2.06-.94-2.06-.94L8.5 2.5l-.94 2.06-2.06.94zm10 10l.94 2.06.94-2.06 2.06-.94-2.06-.94-.94-2.06-.94 2.06-2.06.94z\"/><path d=\"M17.41 7.96l-1.37-1.37c-.4-.4-.92-.59-1.43-.59-.52 0-1.04.2-1.43.59L10.3 9.45l-7.72 7.72c-.78.78-.78 2.05 0 2.83L4 21.41c.39.39.9.59 1.41.59.51 0 1.02-.2 1.41-.59l7.78-7.78 2.81-2.81c.8-.78.8-2.07 0-2.86zM5.41 20L4 18.59l7.72-7.72 1.47 1.35L5.41 20z\"/>\n",
              "  </svg>\n",
              "      </button>\n",
              "      \n",
              "  <style>\n",
              "    .colab-df-container {\n",
              "      display:flex;\n",
              "      flex-wrap:wrap;\n",
              "      gap: 12px;\n",
              "    }\n",
              "\n",
              "    .colab-df-convert {\n",
              "      background-color: #E8F0FE;\n",
              "      border: none;\n",
              "      border-radius: 50%;\n",
              "      cursor: pointer;\n",
              "      display: none;\n",
              "      fill: #1967D2;\n",
              "      height: 32px;\n",
              "      padding: 0 0 0 0;\n",
              "      width: 32px;\n",
              "    }\n",
              "\n",
              "    .colab-df-convert:hover {\n",
              "      background-color: #E2EBFA;\n",
              "      box-shadow: 0px 1px 2px rgba(60, 64, 67, 0.3), 0px 1px 3px 1px rgba(60, 64, 67, 0.15);\n",
              "      fill: #174EA6;\n",
              "    }\n",
              "\n",
              "    [theme=dark] .colab-df-convert {\n",
              "      background-color: #3B4455;\n",
              "      fill: #D2E3FC;\n",
              "    }\n",
              "\n",
              "    [theme=dark] .colab-df-convert:hover {\n",
              "      background-color: #434B5C;\n",
              "      box-shadow: 0px 1px 3px 1px rgba(0, 0, 0, 0.15);\n",
              "      filter: drop-shadow(0px 1px 2px rgba(0, 0, 0, 0.3));\n",
              "      fill: #FFFFFF;\n",
              "    }\n",
              "  </style>\n",
              "\n",
              "      <script>\n",
              "        const buttonEl =\n",
              "          document.querySelector('#df-0d90bdfb-c53b-478b-aa3c-3422f1b79c87 button.colab-df-convert');\n",
              "        buttonEl.style.display =\n",
              "          google.colab.kernel.accessAllowed ? 'block' : 'none';\n",
              "\n",
              "        async function convertToInteractive(key) {\n",
              "          const element = document.querySelector('#df-0d90bdfb-c53b-478b-aa3c-3422f1b79c87');\n",
              "          const dataTable =\n",
              "            await google.colab.kernel.invokeFunction('convertToInteractive',\n",
              "                                                     [key], {});\n",
              "          if (!dataTable) return;\n",
              "\n",
              "          const docLinkHtml = 'Like what you see? Visit the ' +\n",
              "            '<a target=\"_blank\" href=https://colab.research.google.com/notebooks/data_table.ipynb>data table notebook</a>'\n",
              "            + ' to learn more about interactive tables.';\n",
              "          element.innerHTML = '';\n",
              "          dataTable['output_type'] = 'display_data';\n",
              "          await google.colab.output.renderOutput(dataTable, element);\n",
              "          const docLink = document.createElement('div');\n",
              "          docLink.innerHTML = docLinkHtml;\n",
              "          element.appendChild(docLink);\n",
              "        }\n",
              "      </script>\n",
              "    </div>\n",
              "  </div>\n",
              "  "
            ]
          },
          "metadata": {},
          "execution_count": 29
        }
      ]
    },
    {
      "cell_type": "code",
      "source": [
        "df_date_wise.head()"
      ],
      "metadata": {
        "id": "6M4prk0bSbdT",
        "colab": {
          "base_uri": "https://localhost:8080/",
          "height": 327
        },
        "outputId": "c58602df-e4f2-4aff-80b1-c93bb14eb97a"
      },
      "execution_count": null,
      "outputs": [
        {
          "output_type": "stream",
          "name": "stderr",
          "text": [
            "/usr/local/lib/python3.10/dist-packages/ipykernel/ipkernel.py:283: DeprecationWarning:\n",
            "\n",
            "`should_run_async` will not call `transform_cell` automatically in the future. Please pass the result to `transformed_cell` argument and any exception that happen during thetransform in `preprocessing_exc_tuple` in IPython 7.17 and above.\n",
            "\n"
          ]
        },
        {
          "output_type": "execute_result",
          "data": {
            "text/plain": [
              "            tweet_count\n",
              "Day                    \n",
              "2021-01-07           87\n",
              "2021-01-08           63\n",
              "2021-01-09           97\n",
              "2021-01-10           96\n",
              "2021-01-11          103"
            ],
            "text/html": [
              "\n",
              "  <div id=\"df-d2f07462-f23a-4554-8022-a12ce268cc0f\">\n",
              "    <div class=\"colab-df-container\">\n",
              "      <div>\n",
              "<style scoped>\n",
              "    .dataframe tbody tr th:only-of-type {\n",
              "        vertical-align: middle;\n",
              "    }\n",
              "\n",
              "    .dataframe tbody tr th {\n",
              "        vertical-align: top;\n",
              "    }\n",
              "\n",
              "    .dataframe thead th {\n",
              "        text-align: right;\n",
              "    }\n",
              "</style>\n",
              "<table border=\"1\" class=\"dataframe\">\n",
              "  <thead>\n",
              "    <tr style=\"text-align: right;\">\n",
              "      <th></th>\n",
              "      <th>tweet_count</th>\n",
              "    </tr>\n",
              "    <tr>\n",
              "      <th>Day</th>\n",
              "      <th></th>\n",
              "    </tr>\n",
              "  </thead>\n",
              "  <tbody>\n",
              "    <tr>\n",
              "      <th>2021-01-07</th>\n",
              "      <td>87</td>\n",
              "    </tr>\n",
              "    <tr>\n",
              "      <th>2021-01-08</th>\n",
              "      <td>63</td>\n",
              "    </tr>\n",
              "    <tr>\n",
              "      <th>2021-01-09</th>\n",
              "      <td>97</td>\n",
              "    </tr>\n",
              "    <tr>\n",
              "      <th>2021-01-10</th>\n",
              "      <td>96</td>\n",
              "    </tr>\n",
              "    <tr>\n",
              "      <th>2021-01-11</th>\n",
              "      <td>103</td>\n",
              "    </tr>\n",
              "  </tbody>\n",
              "</table>\n",
              "</div>\n",
              "      <button class=\"colab-df-convert\" onclick=\"convertToInteractive('df-d2f07462-f23a-4554-8022-a12ce268cc0f')\"\n",
              "              title=\"Convert this dataframe to an interactive table.\"\n",
              "              style=\"display:none;\">\n",
              "        \n",
              "  <svg xmlns=\"http://www.w3.org/2000/svg\" height=\"24px\"viewBox=\"0 0 24 24\"\n",
              "       width=\"24px\">\n",
              "    <path d=\"M0 0h24v24H0V0z\" fill=\"none\"/>\n",
              "    <path d=\"M18.56 5.44l.94 2.06.94-2.06 2.06-.94-2.06-.94-.94-2.06-.94 2.06-2.06.94zm-11 1L8.5 8.5l.94-2.06 2.06-.94-2.06-.94L8.5 2.5l-.94 2.06-2.06.94zm10 10l.94 2.06.94-2.06 2.06-.94-2.06-.94-.94-2.06-.94 2.06-2.06.94z\"/><path d=\"M17.41 7.96l-1.37-1.37c-.4-.4-.92-.59-1.43-.59-.52 0-1.04.2-1.43.59L10.3 9.45l-7.72 7.72c-.78.78-.78 2.05 0 2.83L4 21.41c.39.39.9.59 1.41.59.51 0 1.02-.2 1.41-.59l7.78-7.78 2.81-2.81c.8-.78.8-2.07 0-2.86zM5.41 20L4 18.59l7.72-7.72 1.47 1.35L5.41 20z\"/>\n",
              "  </svg>\n",
              "      </button>\n",
              "      \n",
              "  <style>\n",
              "    .colab-df-container {\n",
              "      display:flex;\n",
              "      flex-wrap:wrap;\n",
              "      gap: 12px;\n",
              "    }\n",
              "\n",
              "    .colab-df-convert {\n",
              "      background-color: #E8F0FE;\n",
              "      border: none;\n",
              "      border-radius: 50%;\n",
              "      cursor: pointer;\n",
              "      display: none;\n",
              "      fill: #1967D2;\n",
              "      height: 32px;\n",
              "      padding: 0 0 0 0;\n",
              "      width: 32px;\n",
              "    }\n",
              "\n",
              "    .colab-df-convert:hover {\n",
              "      background-color: #E2EBFA;\n",
              "      box-shadow: 0px 1px 2px rgba(60, 64, 67, 0.3), 0px 1px 3px 1px rgba(60, 64, 67, 0.15);\n",
              "      fill: #174EA6;\n",
              "    }\n",
              "\n",
              "    [theme=dark] .colab-df-convert {\n",
              "      background-color: #3B4455;\n",
              "      fill: #D2E3FC;\n",
              "    }\n",
              "\n",
              "    [theme=dark] .colab-df-convert:hover {\n",
              "      background-color: #434B5C;\n",
              "      box-shadow: 0px 1px 3px 1px rgba(0, 0, 0, 0.15);\n",
              "      filter: drop-shadow(0px 1px 2px rgba(0, 0, 0, 0.3));\n",
              "      fill: #FFFFFF;\n",
              "    }\n",
              "  </style>\n",
              "\n",
              "      <script>\n",
              "        const buttonEl =\n",
              "          document.querySelector('#df-d2f07462-f23a-4554-8022-a12ce268cc0f button.colab-df-convert');\n",
              "        buttonEl.style.display =\n",
              "          google.colab.kernel.accessAllowed ? 'block' : 'none';\n",
              "\n",
              "        async function convertToInteractive(key) {\n",
              "          const element = document.querySelector('#df-d2f07462-f23a-4554-8022-a12ce268cc0f');\n",
              "          const dataTable =\n",
              "            await google.colab.kernel.invokeFunction('convertToInteractive',\n",
              "                                                     [key], {});\n",
              "          if (!dataTable) return;\n",
              "\n",
              "          const docLinkHtml = 'Like what you see? Visit the ' +\n",
              "            '<a target=\"_blank\" href=https://colab.research.google.com/notebooks/data_table.ipynb>data table notebook</a>'\n",
              "            + ' to learn more about interactive tables.';\n",
              "          element.innerHTML = '';\n",
              "          dataTable['output_type'] = 'display_data';\n",
              "          await google.colab.output.renderOutput(dataTable, element);\n",
              "          const docLink = document.createElement('div');\n",
              "          docLink.innerHTML = docLinkHtml;\n",
              "          element.appendChild(docLink);\n",
              "        }\n",
              "      </script>\n",
              "    </div>\n",
              "  </div>\n",
              "  "
            ]
          },
          "metadata": {},
          "execution_count": 30
        }
      ]
    },
    {
      "cell_type": "code",
      "source": [
        "# See the tweets with the highest sentiment\n",
        "high_sentiment_df = df.sort_values('sentiment', ascending=False)\n",
        "high_sentiment_df = high_sentiment_df[['sentiment', 'Text_both']]\n",
        "high_sentiment_df.head(10)"
      ],
      "metadata": {
        "colab": {
          "base_uri": "https://localhost:8080/",
          "height": 452
        },
        "id": "9wY6FRdB5w8W",
        "outputId": "5380a6dd-023b-4ad6-bf14-79cc4a2e6cbc"
      },
      "execution_count": null,
      "outputs": [
        {
          "output_type": "stream",
          "name": "stderr",
          "text": [
            "/usr/local/lib/python3.10/dist-packages/ipykernel/ipkernel.py:283: DeprecationWarning:\n",
            "\n",
            "`should_run_async` will not call `transform_cell` automatically in the future. Please pass the result to `transformed_cell` argument and any exception that happen during thetransform in `preprocessing_exc_tuple` in IPython 7.17 and above.\n",
            "\n"
          ]
        },
        {
          "output_type": "execute_result",
          "data": {
            "text/plain": [
              "       sentiment                                          Text_both\n",
              "15712        1.0  guy import gain gener dont depriv nutrient req...\n",
              "4131         1.0  veget minestron perfect winter nov novemb tues...\n",
              "19818        1.0  doesnt look perfect gold deal togeth veganfood...\n",
              "203          1.0  perfect effort bring effort everi singl that t...\n",
              "14991        1.0  bread glutenfre homemad chef diabet blood home...\n",
              "10003        1.0  perfect midmealsnack carb plantprotein veggi l...\n",
              "4702         1.0  wasa turkey mushroom perfect lunch ever tri fr...\n",
              "18593        1.0  perfect basmati rice youtub guitar delhi uk us...\n",
              "18592        1.0  perfect basmati rice youtub guitar delhi uk us...\n",
              "4612         1.0  lunchtim creami butternut squash soup baresnac..."
            ],
            "text/html": [
              "\n",
              "  <div id=\"df-d00c09d0-72c8-4d58-aeff-6670c0f25216\">\n",
              "    <div class=\"colab-df-container\">\n",
              "      <div>\n",
              "<style scoped>\n",
              "    .dataframe tbody tr th:only-of-type {\n",
              "        vertical-align: middle;\n",
              "    }\n",
              "\n",
              "    .dataframe tbody tr th {\n",
              "        vertical-align: top;\n",
              "    }\n",
              "\n",
              "    .dataframe thead th {\n",
              "        text-align: right;\n",
              "    }\n",
              "</style>\n",
              "<table border=\"1\" class=\"dataframe\">\n",
              "  <thead>\n",
              "    <tr style=\"text-align: right;\">\n",
              "      <th></th>\n",
              "      <th>sentiment</th>\n",
              "      <th>Text_both</th>\n",
              "    </tr>\n",
              "  </thead>\n",
              "  <tbody>\n",
              "    <tr>\n",
              "      <th>15712</th>\n",
              "      <td>1.0</td>\n",
              "      <td>guy import gain gener dont depriv nutrient req...</td>\n",
              "    </tr>\n",
              "    <tr>\n",
              "      <th>4131</th>\n",
              "      <td>1.0</td>\n",
              "      <td>veget minestron perfect winter nov novemb tues...</td>\n",
              "    </tr>\n",
              "    <tr>\n",
              "      <th>19818</th>\n",
              "      <td>1.0</td>\n",
              "      <td>doesnt look perfect gold deal togeth veganfood...</td>\n",
              "    </tr>\n",
              "    <tr>\n",
              "      <th>203</th>\n",
              "      <td>1.0</td>\n",
              "      <td>perfect effort bring effort everi singl that t...</td>\n",
              "    </tr>\n",
              "    <tr>\n",
              "      <th>14991</th>\n",
              "      <td>1.0</td>\n",
              "      <td>bread glutenfre homemad chef diabet blood home...</td>\n",
              "    </tr>\n",
              "    <tr>\n",
              "      <th>10003</th>\n",
              "      <td>1.0</td>\n",
              "      <td>perfect midmealsnack carb plantprotein veggi l...</td>\n",
              "    </tr>\n",
              "    <tr>\n",
              "      <th>4702</th>\n",
              "      <td>1.0</td>\n",
              "      <td>wasa turkey mushroom perfect lunch ever tri fr...</td>\n",
              "    </tr>\n",
              "    <tr>\n",
              "      <th>18593</th>\n",
              "      <td>1.0</td>\n",
              "      <td>perfect basmati rice youtub guitar delhi uk us...</td>\n",
              "    </tr>\n",
              "    <tr>\n",
              "      <th>18592</th>\n",
              "      <td>1.0</td>\n",
              "      <td>perfect basmati rice youtub guitar delhi uk us...</td>\n",
              "    </tr>\n",
              "    <tr>\n",
              "      <th>4612</th>\n",
              "      <td>1.0</td>\n",
              "      <td>lunchtim creami butternut squash soup baresnac...</td>\n",
              "    </tr>\n",
              "  </tbody>\n",
              "</table>\n",
              "</div>\n",
              "      <button class=\"colab-df-convert\" onclick=\"convertToInteractive('df-d00c09d0-72c8-4d58-aeff-6670c0f25216')\"\n",
              "              title=\"Convert this dataframe to an interactive table.\"\n",
              "              style=\"display:none;\">\n",
              "        \n",
              "  <svg xmlns=\"http://www.w3.org/2000/svg\" height=\"24px\"viewBox=\"0 0 24 24\"\n",
              "       width=\"24px\">\n",
              "    <path d=\"M0 0h24v24H0V0z\" fill=\"none\"/>\n",
              "    <path d=\"M18.56 5.44l.94 2.06.94-2.06 2.06-.94-2.06-.94-.94-2.06-.94 2.06-2.06.94zm-11 1L8.5 8.5l.94-2.06 2.06-.94-2.06-.94L8.5 2.5l-.94 2.06-2.06.94zm10 10l.94 2.06.94-2.06 2.06-.94-2.06-.94-.94-2.06-.94 2.06-2.06.94z\"/><path d=\"M17.41 7.96l-1.37-1.37c-.4-.4-.92-.59-1.43-.59-.52 0-1.04.2-1.43.59L10.3 9.45l-7.72 7.72c-.78.78-.78 2.05 0 2.83L4 21.41c.39.39.9.59 1.41.59.51 0 1.02-.2 1.41-.59l7.78-7.78 2.81-2.81c.8-.78.8-2.07 0-2.86zM5.41 20L4 18.59l7.72-7.72 1.47 1.35L5.41 20z\"/>\n",
              "  </svg>\n",
              "      </button>\n",
              "      \n",
              "  <style>\n",
              "    .colab-df-container {\n",
              "      display:flex;\n",
              "      flex-wrap:wrap;\n",
              "      gap: 12px;\n",
              "    }\n",
              "\n",
              "    .colab-df-convert {\n",
              "      background-color: #E8F0FE;\n",
              "      border: none;\n",
              "      border-radius: 50%;\n",
              "      cursor: pointer;\n",
              "      display: none;\n",
              "      fill: #1967D2;\n",
              "      height: 32px;\n",
              "      padding: 0 0 0 0;\n",
              "      width: 32px;\n",
              "    }\n",
              "\n",
              "    .colab-df-convert:hover {\n",
              "      background-color: #E2EBFA;\n",
              "      box-shadow: 0px 1px 2px rgba(60, 64, 67, 0.3), 0px 1px 3px 1px rgba(60, 64, 67, 0.15);\n",
              "      fill: #174EA6;\n",
              "    }\n",
              "\n",
              "    [theme=dark] .colab-df-convert {\n",
              "      background-color: #3B4455;\n",
              "      fill: #D2E3FC;\n",
              "    }\n",
              "\n",
              "    [theme=dark] .colab-df-convert:hover {\n",
              "      background-color: #434B5C;\n",
              "      box-shadow: 0px 1px 3px 1px rgba(0, 0, 0, 0.15);\n",
              "      filter: drop-shadow(0px 1px 2px rgba(0, 0, 0, 0.3));\n",
              "      fill: #FFFFFF;\n",
              "    }\n",
              "  </style>\n",
              "\n",
              "      <script>\n",
              "        const buttonEl =\n",
              "          document.querySelector('#df-d00c09d0-72c8-4d58-aeff-6670c0f25216 button.colab-df-convert');\n",
              "        buttonEl.style.display =\n",
              "          google.colab.kernel.accessAllowed ? 'block' : 'none';\n",
              "\n",
              "        async function convertToInteractive(key) {\n",
              "          const element = document.querySelector('#df-d00c09d0-72c8-4d58-aeff-6670c0f25216');\n",
              "          const dataTable =\n",
              "            await google.colab.kernel.invokeFunction('convertToInteractive',\n",
              "                                                     [key], {});\n",
              "          if (!dataTable) return;\n",
              "\n",
              "          const docLinkHtml = 'Like what you see? Visit the ' +\n",
              "            '<a target=\"_blank\" href=https://colab.research.google.com/notebooks/data_table.ipynb>data table notebook</a>'\n",
              "            + ' to learn more about interactive tables.';\n",
              "          element.innerHTML = '';\n",
              "          dataTable['output_type'] = 'display_data';\n",
              "          await google.colab.output.renderOutput(dataTable, element);\n",
              "          const docLink = document.createElement('div');\n",
              "          docLink.innerHTML = docLinkHtml;\n",
              "          element.appendChild(docLink);\n",
              "        }\n",
              "      </script>\n",
              "    </div>\n",
              "  </div>\n",
              "  "
            ]
          },
          "metadata": {},
          "execution_count": 31
        }
      ]
    },
    {
      "cell_type": "code",
      "source": [
        "# See the tweets with the lowest sentiment\n",
        "low_sentiment_df = df.sort_values('sentiment')\n",
        "low_sentiment_df = low_sentiment_df[['sentiment', 'Text_both']]\n",
        "low_sentiment_df.head(10)"
      ],
      "metadata": {
        "colab": {
          "base_uri": "https://localhost:8080/",
          "height": 452
        },
        "id": "L7-qNKj6-iDr",
        "outputId": "c30bc19e-4568-4b6e-d1f2-7b23b990a177"
      },
      "execution_count": null,
      "outputs": [
        {
          "output_type": "stream",
          "name": "stderr",
          "text": [
            "/usr/local/lib/python3.10/dist-packages/ipykernel/ipkernel.py:283: DeprecationWarning:\n",
            "\n",
            "`should_run_async` will not call `transform_cell` automatically in the future. Please pass the result to `transformed_cell` argument and any exception that happen during thetransform in `preprocessing_exc_tuple` in IPython 7.17 and above.\n",
            "\n"
          ]
        },
        {
          "output_type": "execute_result",
          "data": {
            "text/plain": [
              "       sentiment                                          Text_both\n",
              "2272        -1.0                   today blog today worst recommend\n",
              "5943        -1.0  burger besid cruel disgust made suffer ever so...\n",
              "21433       -1.0  shouldnt sleep worst bed lamuscl beforesleep s...\n",
              "41          -1.0                      worst expert say dine groceri\n",
              "13194       -1.0                                       worst bedtim\n",
              "12041       -1.0                                    worst enemi one\n",
              "678         -1.0      worst child brain say studi brain child child\n",
              "16463       -1.0  everyth els veget oil worst fitnessmotiv bodyb...\n",
              "241         -1.0  guidelin choos avoid worst choic matter lot yo...\n",
              "16280       -1.0              worst habit inflamm say scienc feedli"
            ],
            "text/html": [
              "\n",
              "  <div id=\"df-a99fd753-c4e1-497a-bbd0-d0222c5a002e\">\n",
              "    <div class=\"colab-df-container\">\n",
              "      <div>\n",
              "<style scoped>\n",
              "    .dataframe tbody tr th:only-of-type {\n",
              "        vertical-align: middle;\n",
              "    }\n",
              "\n",
              "    .dataframe tbody tr th {\n",
              "        vertical-align: top;\n",
              "    }\n",
              "\n",
              "    .dataframe thead th {\n",
              "        text-align: right;\n",
              "    }\n",
              "</style>\n",
              "<table border=\"1\" class=\"dataframe\">\n",
              "  <thead>\n",
              "    <tr style=\"text-align: right;\">\n",
              "      <th></th>\n",
              "      <th>sentiment</th>\n",
              "      <th>Text_both</th>\n",
              "    </tr>\n",
              "  </thead>\n",
              "  <tbody>\n",
              "    <tr>\n",
              "      <th>2272</th>\n",
              "      <td>-1.0</td>\n",
              "      <td>today blog today worst recommend</td>\n",
              "    </tr>\n",
              "    <tr>\n",
              "      <th>5943</th>\n",
              "      <td>-1.0</td>\n",
              "      <td>burger besid cruel disgust made suffer ever so...</td>\n",
              "    </tr>\n",
              "    <tr>\n",
              "      <th>21433</th>\n",
              "      <td>-1.0</td>\n",
              "      <td>shouldnt sleep worst bed lamuscl beforesleep s...</td>\n",
              "    </tr>\n",
              "    <tr>\n",
              "      <th>41</th>\n",
              "      <td>-1.0</td>\n",
              "      <td>worst expert say dine groceri</td>\n",
              "    </tr>\n",
              "    <tr>\n",
              "      <th>13194</th>\n",
              "      <td>-1.0</td>\n",
              "      <td>worst bedtim</td>\n",
              "    </tr>\n",
              "    <tr>\n",
              "      <th>12041</th>\n",
              "      <td>-1.0</td>\n",
              "      <td>worst enemi one</td>\n",
              "    </tr>\n",
              "    <tr>\n",
              "      <th>678</th>\n",
              "      <td>-1.0</td>\n",
              "      <td>worst child brain say studi brain child child</td>\n",
              "    </tr>\n",
              "    <tr>\n",
              "      <th>16463</th>\n",
              "      <td>-1.0</td>\n",
              "      <td>everyth els veget oil worst fitnessmotiv bodyb...</td>\n",
              "    </tr>\n",
              "    <tr>\n",
              "      <th>241</th>\n",
              "      <td>-1.0</td>\n",
              "      <td>guidelin choos avoid worst choic matter lot yo...</td>\n",
              "    </tr>\n",
              "    <tr>\n",
              "      <th>16280</th>\n",
              "      <td>-1.0</td>\n",
              "      <td>worst habit inflamm say scienc feedli</td>\n",
              "    </tr>\n",
              "  </tbody>\n",
              "</table>\n",
              "</div>\n",
              "      <button class=\"colab-df-convert\" onclick=\"convertToInteractive('df-a99fd753-c4e1-497a-bbd0-d0222c5a002e')\"\n",
              "              title=\"Convert this dataframe to an interactive table.\"\n",
              "              style=\"display:none;\">\n",
              "        \n",
              "  <svg xmlns=\"http://www.w3.org/2000/svg\" height=\"24px\"viewBox=\"0 0 24 24\"\n",
              "       width=\"24px\">\n",
              "    <path d=\"M0 0h24v24H0V0z\" fill=\"none\"/>\n",
              "    <path d=\"M18.56 5.44l.94 2.06.94-2.06 2.06-.94-2.06-.94-.94-2.06-.94 2.06-2.06.94zm-11 1L8.5 8.5l.94-2.06 2.06-.94-2.06-.94L8.5 2.5l-.94 2.06-2.06.94zm10 10l.94 2.06.94-2.06 2.06-.94-2.06-.94-.94-2.06-.94 2.06-2.06.94z\"/><path d=\"M17.41 7.96l-1.37-1.37c-.4-.4-.92-.59-1.43-.59-.52 0-1.04.2-1.43.59L10.3 9.45l-7.72 7.72c-.78.78-.78 2.05 0 2.83L4 21.41c.39.39.9.59 1.41.59.51 0 1.02-.2 1.41-.59l7.78-7.78 2.81-2.81c.8-.78.8-2.07 0-2.86zM5.41 20L4 18.59l7.72-7.72 1.47 1.35L5.41 20z\"/>\n",
              "  </svg>\n",
              "      </button>\n",
              "      \n",
              "  <style>\n",
              "    .colab-df-container {\n",
              "      display:flex;\n",
              "      flex-wrap:wrap;\n",
              "      gap: 12px;\n",
              "    }\n",
              "\n",
              "    .colab-df-convert {\n",
              "      background-color: #E8F0FE;\n",
              "      border: none;\n",
              "      border-radius: 50%;\n",
              "      cursor: pointer;\n",
              "      display: none;\n",
              "      fill: #1967D2;\n",
              "      height: 32px;\n",
              "      padding: 0 0 0 0;\n",
              "      width: 32px;\n",
              "    }\n",
              "\n",
              "    .colab-df-convert:hover {\n",
              "      background-color: #E2EBFA;\n",
              "      box-shadow: 0px 1px 2px rgba(60, 64, 67, 0.3), 0px 1px 3px 1px rgba(60, 64, 67, 0.15);\n",
              "      fill: #174EA6;\n",
              "    }\n",
              "\n",
              "    [theme=dark] .colab-df-convert {\n",
              "      background-color: #3B4455;\n",
              "      fill: #D2E3FC;\n",
              "    }\n",
              "\n",
              "    [theme=dark] .colab-df-convert:hover {\n",
              "      background-color: #434B5C;\n",
              "      box-shadow: 0px 1px 3px 1px rgba(0, 0, 0, 0.15);\n",
              "      filter: drop-shadow(0px 1px 2px rgba(0, 0, 0, 0.3));\n",
              "      fill: #FFFFFF;\n",
              "    }\n",
              "  </style>\n",
              "\n",
              "      <script>\n",
              "        const buttonEl =\n",
              "          document.querySelector('#df-a99fd753-c4e1-497a-bbd0-d0222c5a002e button.colab-df-convert');\n",
              "        buttonEl.style.display =\n",
              "          google.colab.kernel.accessAllowed ? 'block' : 'none';\n",
              "\n",
              "        async function convertToInteractive(key) {\n",
              "          const element = document.querySelector('#df-a99fd753-c4e1-497a-bbd0-d0222c5a002e');\n",
              "          const dataTable =\n",
              "            await google.colab.kernel.invokeFunction('convertToInteractive',\n",
              "                                                     [key], {});\n",
              "          if (!dataTable) return;\n",
              "\n",
              "          const docLinkHtml = 'Like what you see? Visit the ' +\n",
              "            '<a target=\"_blank\" href=https://colab.research.google.com/notebooks/data_table.ipynb>data table notebook</a>'\n",
              "            + ' to learn more about interactive tables.';\n",
              "          element.innerHTML = '';\n",
              "          dataTable['output_type'] = 'display_data';\n",
              "          await google.colab.output.renderOutput(dataTable, element);\n",
              "          const docLink = document.createElement('div');\n",
              "          docLink.innerHTML = docLinkHtml;\n",
              "          element.appendChild(docLink);\n",
              "        }\n",
              "      </script>\n",
              "    </div>\n",
              "  </div>\n",
              "  "
            ]
          },
          "metadata": {},
          "execution_count": 32
        }
      ]
    },
    {
      "cell_type": "code",
      "source": [
        "# Plotting sentiment over time (using mean):\n",
        "\n",
        "# Grouping by date\n",
        "df_date_wise = df.groupby(['Day'])['sentiment'].mean().reset_index(name='sentiment').set_index('Day')\n",
        "\n",
        "# Plotting the line graph\n",
        "fig1 = px.line(df_date_wise, y='sentiment')\n",
        "fig1.show()"
      ],
      "metadata": {
        "colab": {
          "base_uri": "https://localhost:8080/",
          "height": 631
        },
        "id": "hl80HGIXSO-e",
        "outputId": "0ee37b94-e3b1-4d6c-db66-193802a7390e"
      },
      "execution_count": null,
      "outputs": [
        {
          "output_type": "stream",
          "name": "stderr",
          "text": [
            "/usr/local/lib/python3.10/dist-packages/ipykernel/ipkernel.py:283: DeprecationWarning:\n",
            "\n",
            "`should_run_async` will not call `transform_cell` automatically in the future. Please pass the result to `transformed_cell` argument and any exception that happen during thetransform in `preprocessing_exc_tuple` in IPython 7.17 and above.\n",
            "\n"
          ]
        },
        {
          "output_type": "display_data",
          "data": {
            "text/html": [
              "<html>\n",
              "<head><meta charset=\"utf-8\" /></head>\n",
              "<body>\n",
              "    <div>            <script src=\"https://cdnjs.cloudflare.com/ajax/libs/mathjax/2.7.5/MathJax.js?config=TeX-AMS-MML_SVG\"></script><script type=\"text/javascript\">if (window.MathJax && window.MathJax.Hub && window.MathJax.Hub.Config) {window.MathJax.Hub.Config({SVG: {font: \"STIX-Web\"}});}</script>                <script type=\"text/javascript\">window.PlotlyConfig = {MathJaxConfig: 'local'};</script>\n",
              "        <script src=\"https://cdn.plot.ly/plotly-2.18.2.min.js\"></script>                <div id=\"2b57de17-1078-4eb8-8b9b-2649280b2911\" class=\"plotly-graph-div\" style=\"height:525px; width:100%;\"></div>            <script type=\"text/javascript\">                                    window.PLOTLYENV=window.PLOTLYENV || {};                                    if (document.getElementById(\"2b57de17-1078-4eb8-8b9b-2649280b2911\")) {                    Plotly.newPlot(                        \"2b57de17-1078-4eb8-8b9b-2649280b2911\",                        [{\"hovertemplate\":\"Day=%{x}<br>sentiment=%{y}<extra></extra>\",\"legendgroup\":\"\",\"line\":{\"color\":\"#636efa\",\"dash\":\"solid\"},\"marker\":{\"symbol\":\"circle\"},\"mode\":\"lines\",\"name\":\"\",\"orientation\":\"v\",\"showlegend\":false,\"x\":[\"2021-01-07\",\"2021-01-08\",\"2021-01-09\",\"2021-01-10\",\"2021-01-11\",\"2021-01-12\",\"2021-02-07\",\"2021-02-08\",\"2021-02-09\",\"2021-02-10\",\"2021-02-11\",\"2021-02-12\",\"2021-03-07\",\"2021-03-08\",\"2021-03-09\",\"2021-03-10\",\"2021-03-11\",\"2021-03-12\",\"2021-04-07\",\"2021-04-08\",\"2021-04-09\",\"2021-04-10\",\"2021-04-11\",\"2021-04-12\",\"2021-05-07\",\"2021-05-08\",\"2021-05-09\",\"2021-05-10\",\"2021-05-11\",\"2021-05-12\",\"2021-06-07\",\"2021-06-08\",\"2021-06-09\",\"2021-06-10\",\"2021-06-11\",\"2021-06-12\",\"2021-06-13\",\"2021-06-14\",\"2021-06-15\",\"2021-06-16\",\"2021-06-17\",\"2021-06-18\",\"2021-06-19\",\"2021-06-20\",\"2021-06-21\",\"2021-06-22\",\"2021-06-23\",\"2021-06-24\",\"2021-06-25\",\"2021-06-26\",\"2021-06-27\",\"2021-06-28\",\"2021-06-29\",\"2021-06-30\",\"2021-07-07\",\"2021-07-08\",\"2021-07-09\",\"2021-07-10\",\"2021-07-11\",\"2021-07-12\",\"2021-07-13\",\"2021-07-14\",\"2021-07-15\",\"2021-07-16\",\"2021-07-17\",\"2021-07-18\",\"2021-07-19\",\"2021-07-20\",\"2021-07-21\",\"2021-07-22\",\"2021-07-23\",\"2021-07-24\",\"2021-07-25\",\"2021-07-26\",\"2021-07-27\",\"2021-07-28\",\"2021-07-29\",\"2021-07-30\",\"2021-07-31\",\"2021-08-07\",\"2021-08-08\",\"2021-08-09\",\"2021-08-10\",\"2021-08-11\",\"2021-08-12\",\"2021-08-13\",\"2021-08-14\",\"2021-08-15\",\"2021-08-16\",\"2021-08-17\",\"2021-08-18\",\"2021-08-19\",\"2021-08-20\",\"2021-08-21\",\"2021-08-22\",\"2021-08-23\",\"2021-08-24\",\"2021-08-25\",\"2021-08-26\",\"2021-08-27\",\"2021-08-28\",\"2021-08-29\",\"2021-08-30\",\"2021-08-31\",\"2021-09-06\",\"2021-09-07\",\"2021-09-08\",\"2021-09-09\",\"2021-09-10\",\"2021-09-11\",\"2021-09-12\",\"2021-09-13\",\"2021-09-14\",\"2021-09-15\",\"2021-09-16\",\"2021-09-17\",\"2021-09-18\",\"2021-09-19\",\"2021-09-20\",\"2021-09-21\",\"2021-09-22\",\"2021-09-23\",\"2021-09-24\",\"2021-09-25\",\"2021-09-26\",\"2021-09-27\",\"2021-09-28\",\"2021-09-29\",\"2021-09-30\",\"2021-10-06\",\"2021-10-07\",\"2021-10-08\",\"2021-10-09\",\"2021-10-10\",\"2021-10-11\",\"2021-10-12\",\"2021-10-13\",\"2021-10-14\",\"2021-10-15\",\"2021-10-16\",\"2021-10-17\",\"2021-10-18\",\"2021-10-19\",\"2021-10-20\",\"2021-10-21\",\"2021-10-22\",\"2021-10-23\",\"2021-10-24\",\"2021-10-25\",\"2021-10-26\",\"2021-10-27\",\"2021-10-28\",\"2021-10-29\",\"2021-10-30\",\"2021-10-31\",\"2021-11-06\",\"2021-11-07\",\"2021-11-08\",\"2021-11-09\",\"2021-11-10\",\"2021-11-11\",\"2021-11-12\",\"2021-11-13\",\"2021-11-14\",\"2021-11-15\",\"2021-11-16\",\"2021-11-17\",\"2021-11-18\",\"2021-11-19\",\"2021-11-20\",\"2021-11-21\",\"2021-11-22\",\"2021-11-23\",\"2021-11-24\",\"2021-11-25\",\"2021-11-26\",\"2021-11-27\",\"2021-11-28\",\"2021-11-29\",\"2021-11-30\",\"2021-12-06\",\"2021-12-07\",\"2021-12-08\",\"2021-12-09\",\"2021-12-10\",\"2021-12-11\",\"2021-12-12\",\"2021-12-13\",\"2021-12-14\",\"2021-12-15\",\"2021-12-16\",\"2021-12-17\",\"2021-12-18\",\"2021-12-19\",\"2021-12-20\",\"2021-12-21\",\"2021-12-22\",\"2021-12-23\",\"2021-12-24\",\"2021-12-25\",\"2021-12-26\",\"2021-12-27\",\"2021-12-28\",\"2021-12-29\",\"2021-12-30\",\"2021-12-31\",\"2022-01-01\",\"2022-01-13\",\"2022-01-14\",\"2022-01-15\",\"2022-01-16\",\"2022-01-17\",\"2022-01-18\",\"2022-01-19\",\"2022-01-20\",\"2022-01-21\",\"2022-01-22\",\"2022-01-23\",\"2022-01-24\",\"2022-01-25\",\"2022-01-26\",\"2022-01-27\",\"2022-01-28\",\"2022-01-29\",\"2022-01-30\",\"2022-02-01\",\"2022-03-01\",\"2022-04-01\",\"2022-05-01\",\"2022-06-01\",\"2022-07-01\",\"2022-08-01\",\"2022-09-01\",\"2022-10-01\",\"2022-11-01\",\"2022-12-01\"],\"xaxis\":\"x\",\"y\":[0.055430744223847674,0.05565576398909732,0.053097506731527355,0.01740940483127983,0.06755802719394953,0.04677461951046857,0.10029449183295337,0.09299365942028985,0.06158946935417523,0.0761624649859944,0.07024870572623382,0.07820156380835994,0.07180882497783907,0.0392393985942373,0.10185296790436978,0.07282727272727273,0.0667254446941947,0.073368272883579,0.335368720993721,0.07296690267726853,0.020748299319727895,0.04803535773012517,0.10375823412698412,0.03108382936507937,0.15133163962474308,0.10205825920111636,0.047767308449126626,0.09671642335206165,0.07240695128626164,0.06537538950582429,0.04670572483072483,0.020425587144337145,0.04691608946608947,0.03533830721883819,0.03843987823439879,-0.0036671661671661584,0.036668618266978925,0.1147064439984794,0.061282422059732986,0.06836332848186297,0.06557674526121128,0.05111277863550591,0.06984493848900629,0.07966494290023703,0.08838852813852814,0.04130070727145195,0.0464868643900902,0.03953196354711506,0.04170084545084546,0.022859166992155715,-0.02067713483098098,0.07227838904922239,0.025517727782879297,0.08170430264180265,0.05501137751137751,0.02988424336080586,0.06398222875750965,0.015617100617100615,0.09160701215049043,0.04530555555555555,0.017748361463639242,0.05613928834323571,0.09344289716360028,0.05163139329805996,0.036567841880341886,0.02863825363825364,0.04507883456412868,0.051277577360910695,0.10329142433793596,0.0930373611895351,0.040502867965367964,0.09923445767195767,0.08623737373737375,0.09277602367051908,0.08820331136368872,0.05205148815585709,0.04171387674481733,0.07881003256003256,0.013125747116131735,0.07055208515029944,0.08073568615941497,0.08808209906035992,0.03803093874952739,0.08038893922614852,0.05340016544757924,0.052199159967017114,0.0730143511002886,0.03962721306471306,0.05867087397207879,0.06763188722866141,0.061969786043860116,0.05706780423072558,0.05269610579479001,0.07534100544517212,0.056489254792826224,0.03943339878906889,0.04531269710681476,0.0791691290361015,0.03766786266786267,0.04947521988593417,0.07546225464033683,0.09343371053897369,0.07182112988564601,0.037637174211248285,0.030152329749103944,0.051221522438913744,0.06340498682603946,0.06923627508854781,0.010745654085497835,0.03803715803715804,0.05516726228682751,0.04463981711172722,0.04436182815812445,0.03748895202020202,0.02859831396673502,0.027384130419844704,0.01824799428966096,0.05218098958333334,0.11511469630026332,0.03623226759068596,0.03971102208215611,0.053449222262997774,0.08972769567597154,0.05849503724503725,0.040451636177442636,0.04199280400669289,0.07797627555882272,0.07215575708694974,0.04948028020732102,0.0759461400569648,0.032448413655310204,0.06172340005673339,0.03404258752942964,0.0585279057859703,0.04895760767010767,0.07239862167746783,0.07305592450478814,0.06709006679594914,0.02737127420117111,0.0888965513384118,0.05183913308913309,0.0268610619178801,0.06265290017522161,0.008547931235431235,0.09089557418671343,0.06578093229371638,0.0894282914432168,0.07356994312876666,0.035808265929976456,0.08290390801858692,0.05341615303420859,0.09157237951052384,0.06136469138827629,0.053565238873680435,0.09582153846153846,0.059548294193180556,0.05858328540146722,0.061402046798086404,0.08136015725567965,0.03494253162857814,0.020222420948227408,0.06365704079118713,0.08767702801207956,0.04983974358974359,0.050761758083186656,0.04365669791201706,0.034728252412075944,0.06229118190836941,0.06902809807015414,0.07433465436372413,0.07940542388061472,0.06283038332308405,0.07014517018928784,0.06367965367965368,0.04677734603059278,0.10057696324143693,0.05448395681886248,0.025538987365910443,0.07519036116862204,0.055048950033706134,0.057903834260977116,0.07640943973180815,0.0716388018112156,0.03845978582820688,0.05819366660275751,0.04415427738436588,0.11367613636363635,0.07507936507936508,0.07031024531024531,0.11224067112225007,0.0763686055230173,0.04024655899655898,0.09742587161942001,0.06260848907190371,0.11895269218798632,0.040461017740429504,0.015980320699708454,0.05229096207611833,0.12090788840788841,0.05584950029394475,0.12146697388632872,0.025236406619385345,0.10760141478891479,0.07610708735708736,0.1146050400217067,0.1574469131086778,0.05818602693602694,0.07917942491113222,0.022714149087099907,0.09386892177589852,0.08361648833346946,0.047446760229018295,0.04425649886176202,0.08950912747830557,0.0750858929430358,0.08866873866873867,0.09544191919191919,0.08632872503840247,0.09125653250653251,0.07655835667600373,0.06680217352092352,0.07993206140264963,0.11003127392550469,0.07565865929705216,0.0446472264119323,0.082724974830238,0.07755011572175752,0.10076247165532881,0.05206155913052465,0.0851999791144528,0.08786914713638852,0.09290910478410479,0.07197312801932366,0.06752724472873728,0.06647076633683777,0.026755868205868213],\"yaxis\":\"y\",\"type\":\"scatter\"}],                        {\"template\":{\"data\":{\"histogram2dcontour\":[{\"type\":\"histogram2dcontour\",\"colorbar\":{\"outlinewidth\":0,\"ticks\":\"\"},\"colorscale\":[[0.0,\"#0d0887\"],[0.1111111111111111,\"#46039f\"],[0.2222222222222222,\"#7201a8\"],[0.3333333333333333,\"#9c179e\"],[0.4444444444444444,\"#bd3786\"],[0.5555555555555556,\"#d8576b\"],[0.6666666666666666,\"#ed7953\"],[0.7777777777777778,\"#fb9f3a\"],[0.8888888888888888,\"#fdca26\"],[1.0,\"#f0f921\"]]}],\"choropleth\":[{\"type\":\"choropleth\",\"colorbar\":{\"outlinewidth\":0,\"ticks\":\"\"}}],\"histogram2d\":[{\"type\":\"histogram2d\",\"colorbar\":{\"outlinewidth\":0,\"ticks\":\"\"},\"colorscale\":[[0.0,\"#0d0887\"],[0.1111111111111111,\"#46039f\"],[0.2222222222222222,\"#7201a8\"],[0.3333333333333333,\"#9c179e\"],[0.4444444444444444,\"#bd3786\"],[0.5555555555555556,\"#d8576b\"],[0.6666666666666666,\"#ed7953\"],[0.7777777777777778,\"#fb9f3a\"],[0.8888888888888888,\"#fdca26\"],[1.0,\"#f0f921\"]]}],\"heatmap\":[{\"type\":\"heatmap\",\"colorbar\":{\"outlinewidth\":0,\"ticks\":\"\"},\"colorscale\":[[0.0,\"#0d0887\"],[0.1111111111111111,\"#46039f\"],[0.2222222222222222,\"#7201a8\"],[0.3333333333333333,\"#9c179e\"],[0.4444444444444444,\"#bd3786\"],[0.5555555555555556,\"#d8576b\"],[0.6666666666666666,\"#ed7953\"],[0.7777777777777778,\"#fb9f3a\"],[0.8888888888888888,\"#fdca26\"],[1.0,\"#f0f921\"]]}],\"heatmapgl\":[{\"type\":\"heatmapgl\",\"colorbar\":{\"outlinewidth\":0,\"ticks\":\"\"},\"colorscale\":[[0.0,\"#0d0887\"],[0.1111111111111111,\"#46039f\"],[0.2222222222222222,\"#7201a8\"],[0.3333333333333333,\"#9c179e\"],[0.4444444444444444,\"#bd3786\"],[0.5555555555555556,\"#d8576b\"],[0.6666666666666666,\"#ed7953\"],[0.7777777777777778,\"#fb9f3a\"],[0.8888888888888888,\"#fdca26\"],[1.0,\"#f0f921\"]]}],\"contourcarpet\":[{\"type\":\"contourcarpet\",\"colorbar\":{\"outlinewidth\":0,\"ticks\":\"\"}}],\"contour\":[{\"type\":\"contour\",\"colorbar\":{\"outlinewidth\":0,\"ticks\":\"\"},\"colorscale\":[[0.0,\"#0d0887\"],[0.1111111111111111,\"#46039f\"],[0.2222222222222222,\"#7201a8\"],[0.3333333333333333,\"#9c179e\"],[0.4444444444444444,\"#bd3786\"],[0.5555555555555556,\"#d8576b\"],[0.6666666666666666,\"#ed7953\"],[0.7777777777777778,\"#fb9f3a\"],[0.8888888888888888,\"#fdca26\"],[1.0,\"#f0f921\"]]}],\"surface\":[{\"type\":\"surface\",\"colorbar\":{\"outlinewidth\":0,\"ticks\":\"\"},\"colorscale\":[[0.0,\"#0d0887\"],[0.1111111111111111,\"#46039f\"],[0.2222222222222222,\"#7201a8\"],[0.3333333333333333,\"#9c179e\"],[0.4444444444444444,\"#bd3786\"],[0.5555555555555556,\"#d8576b\"],[0.6666666666666666,\"#ed7953\"],[0.7777777777777778,\"#fb9f3a\"],[0.8888888888888888,\"#fdca26\"],[1.0,\"#f0f921\"]]}],\"mesh3d\":[{\"type\":\"mesh3d\",\"colorbar\":{\"outlinewidth\":0,\"ticks\":\"\"}}],\"scatter\":[{\"fillpattern\":{\"fillmode\":\"overlay\",\"size\":10,\"solidity\":0.2},\"type\":\"scatter\"}],\"parcoords\":[{\"type\":\"parcoords\",\"line\":{\"colorbar\":{\"outlinewidth\":0,\"ticks\":\"\"}}}],\"scatterpolargl\":[{\"type\":\"scatterpolargl\",\"marker\":{\"colorbar\":{\"outlinewidth\":0,\"ticks\":\"\"}}}],\"bar\":[{\"error_x\":{\"color\":\"#2a3f5f\"},\"error_y\":{\"color\":\"#2a3f5f\"},\"marker\":{\"line\":{\"color\":\"#E5ECF6\",\"width\":0.5},\"pattern\":{\"fillmode\":\"overlay\",\"size\":10,\"solidity\":0.2}},\"type\":\"bar\"}],\"scattergeo\":[{\"type\":\"scattergeo\",\"marker\":{\"colorbar\":{\"outlinewidth\":0,\"ticks\":\"\"}}}],\"scatterpolar\":[{\"type\":\"scatterpolar\",\"marker\":{\"colorbar\":{\"outlinewidth\":0,\"ticks\":\"\"}}}],\"histogram\":[{\"marker\":{\"pattern\":{\"fillmode\":\"overlay\",\"size\":10,\"solidity\":0.2}},\"type\":\"histogram\"}],\"scattergl\":[{\"type\":\"scattergl\",\"marker\":{\"colorbar\":{\"outlinewidth\":0,\"ticks\":\"\"}}}],\"scatter3d\":[{\"type\":\"scatter3d\",\"line\":{\"colorbar\":{\"outlinewidth\":0,\"ticks\":\"\"}},\"marker\":{\"colorbar\":{\"outlinewidth\":0,\"ticks\":\"\"}}}],\"scattermapbox\":[{\"type\":\"scattermapbox\",\"marker\":{\"colorbar\":{\"outlinewidth\":0,\"ticks\":\"\"}}}],\"scatterternary\":[{\"type\":\"scatterternary\",\"marker\":{\"colorbar\":{\"outlinewidth\":0,\"ticks\":\"\"}}}],\"scattercarpet\":[{\"type\":\"scattercarpet\",\"marker\":{\"colorbar\":{\"outlinewidth\":0,\"ticks\":\"\"}}}],\"carpet\":[{\"aaxis\":{\"endlinecolor\":\"#2a3f5f\",\"gridcolor\":\"white\",\"linecolor\":\"white\",\"minorgridcolor\":\"white\",\"startlinecolor\":\"#2a3f5f\"},\"baxis\":{\"endlinecolor\":\"#2a3f5f\",\"gridcolor\":\"white\",\"linecolor\":\"white\",\"minorgridcolor\":\"white\",\"startlinecolor\":\"#2a3f5f\"},\"type\":\"carpet\"}],\"table\":[{\"cells\":{\"fill\":{\"color\":\"#EBF0F8\"},\"line\":{\"color\":\"white\"}},\"header\":{\"fill\":{\"color\":\"#C8D4E3\"},\"line\":{\"color\":\"white\"}},\"type\":\"table\"}],\"barpolar\":[{\"marker\":{\"line\":{\"color\":\"#E5ECF6\",\"width\":0.5},\"pattern\":{\"fillmode\":\"overlay\",\"size\":10,\"solidity\":0.2}},\"type\":\"barpolar\"}],\"pie\":[{\"automargin\":true,\"type\":\"pie\"}]},\"layout\":{\"autotypenumbers\":\"strict\",\"colorway\":[\"#636efa\",\"#EF553B\",\"#00cc96\",\"#ab63fa\",\"#FFA15A\",\"#19d3f3\",\"#FF6692\",\"#B6E880\",\"#FF97FF\",\"#FECB52\"],\"font\":{\"color\":\"#2a3f5f\"},\"hovermode\":\"closest\",\"hoverlabel\":{\"align\":\"left\"},\"paper_bgcolor\":\"white\",\"plot_bgcolor\":\"#E5ECF6\",\"polar\":{\"bgcolor\":\"#E5ECF6\",\"angularaxis\":{\"gridcolor\":\"white\",\"linecolor\":\"white\",\"ticks\":\"\"},\"radialaxis\":{\"gridcolor\":\"white\",\"linecolor\":\"white\",\"ticks\":\"\"}},\"ternary\":{\"bgcolor\":\"#E5ECF6\",\"aaxis\":{\"gridcolor\":\"white\",\"linecolor\":\"white\",\"ticks\":\"\"},\"baxis\":{\"gridcolor\":\"white\",\"linecolor\":\"white\",\"ticks\":\"\"},\"caxis\":{\"gridcolor\":\"white\",\"linecolor\":\"white\",\"ticks\":\"\"}},\"coloraxis\":{\"colorbar\":{\"outlinewidth\":0,\"ticks\":\"\"}},\"colorscale\":{\"sequential\":[[0.0,\"#0d0887\"],[0.1111111111111111,\"#46039f\"],[0.2222222222222222,\"#7201a8\"],[0.3333333333333333,\"#9c179e\"],[0.4444444444444444,\"#bd3786\"],[0.5555555555555556,\"#d8576b\"],[0.6666666666666666,\"#ed7953\"],[0.7777777777777778,\"#fb9f3a\"],[0.8888888888888888,\"#fdca26\"],[1.0,\"#f0f921\"]],\"sequentialminus\":[[0.0,\"#0d0887\"],[0.1111111111111111,\"#46039f\"],[0.2222222222222222,\"#7201a8\"],[0.3333333333333333,\"#9c179e\"],[0.4444444444444444,\"#bd3786\"],[0.5555555555555556,\"#d8576b\"],[0.6666666666666666,\"#ed7953\"],[0.7777777777777778,\"#fb9f3a\"],[0.8888888888888888,\"#fdca26\"],[1.0,\"#f0f921\"]],\"diverging\":[[0,\"#8e0152\"],[0.1,\"#c51b7d\"],[0.2,\"#de77ae\"],[0.3,\"#f1b6da\"],[0.4,\"#fde0ef\"],[0.5,\"#f7f7f7\"],[0.6,\"#e6f5d0\"],[0.7,\"#b8e186\"],[0.8,\"#7fbc41\"],[0.9,\"#4d9221\"],[1,\"#276419\"]]},\"xaxis\":{\"gridcolor\":\"white\",\"linecolor\":\"white\",\"ticks\":\"\",\"title\":{\"standoff\":15},\"zerolinecolor\":\"white\",\"automargin\":true,\"zerolinewidth\":2},\"yaxis\":{\"gridcolor\":\"white\",\"linecolor\":\"white\",\"ticks\":\"\",\"title\":{\"standoff\":15},\"zerolinecolor\":\"white\",\"automargin\":true,\"zerolinewidth\":2},\"scene\":{\"xaxis\":{\"backgroundcolor\":\"#E5ECF6\",\"gridcolor\":\"white\",\"linecolor\":\"white\",\"showbackground\":true,\"ticks\":\"\",\"zerolinecolor\":\"white\",\"gridwidth\":2},\"yaxis\":{\"backgroundcolor\":\"#E5ECF6\",\"gridcolor\":\"white\",\"linecolor\":\"white\",\"showbackground\":true,\"ticks\":\"\",\"zerolinecolor\":\"white\",\"gridwidth\":2},\"zaxis\":{\"backgroundcolor\":\"#E5ECF6\",\"gridcolor\":\"white\",\"linecolor\":\"white\",\"showbackground\":true,\"ticks\":\"\",\"zerolinecolor\":\"white\",\"gridwidth\":2}},\"shapedefaults\":{\"line\":{\"color\":\"#2a3f5f\"}},\"annotationdefaults\":{\"arrowcolor\":\"#2a3f5f\",\"arrowhead\":0,\"arrowwidth\":1},\"geo\":{\"bgcolor\":\"white\",\"landcolor\":\"#E5ECF6\",\"subunitcolor\":\"white\",\"showland\":true,\"showlakes\":true,\"lakecolor\":\"white\"},\"title\":{\"x\":0.05},\"mapbox\":{\"style\":\"light\"}}},\"xaxis\":{\"anchor\":\"y\",\"domain\":[0.0,1.0],\"title\":{\"text\":\"Day\"}},\"yaxis\":{\"anchor\":\"x\",\"domain\":[0.0,1.0],\"title\":{\"text\":\"sentiment\"}},\"legend\":{\"tracegroupgap\":0},\"margin\":{\"t\":60}},                        {\"responsive\": true}                    ).then(function(){\n",
              "                            \n",
              "var gd = document.getElementById('2b57de17-1078-4eb8-8b9b-2649280b2911');\n",
              "var x = new MutationObserver(function (mutations, observer) {{\n",
              "        var display = window.getComputedStyle(gd).display;\n",
              "        if (!display || display === 'none') {{\n",
              "            console.log([gd, 'removed!']);\n",
              "            Plotly.purge(gd);\n",
              "            observer.disconnect();\n",
              "        }}\n",
              "}});\n",
              "\n",
              "// Listen for the removal of the full notebook cells\n",
              "var notebookContainer = gd.closest('#notebook-container');\n",
              "if (notebookContainer) {{\n",
              "    x.observe(notebookContainer, {childList: true});\n",
              "}}\n",
              "\n",
              "// Listen for the clearing of the current output cell\n",
              "var outputEl = gd.closest('.output');\n",
              "if (outputEl) {{\n",
              "    x.observe(outputEl, {childList: true});\n",
              "}}\n",
              "\n",
              "                        })                };                            </script>        </div>\n",
              "</body>\n",
              "</html>"
            ]
          },
          "metadata": {}
        }
      ]
    },
    {
      "cell_type": "code",
      "source": [
        "# See what caused the high sentiment (0.4528) spike on July 4, 2021\n",
        "df['Day'] = pd.to_datetime(df['Day'])   # converting Day column to Datetime format first\n",
        "df_sentiment_spike = df[df['Day'] == '2021-07-04']    # seeing which tweets occurred on that day\n",
        "df_sentiment_spike.sort_values('sentiment', ascending=False)"
      ],
      "metadata": {
        "id": "6HyHQMSUTWav",
        "colab": {
          "base_uri": "https://localhost:8080/",
          "height": 139
        },
        "outputId": "ab3a2f72-cfec-4966-fc4b-607456fbca14"
      },
      "execution_count": null,
      "outputs": [
        {
          "output_type": "stream",
          "name": "stderr",
          "text": [
            "/usr/local/lib/python3.10/dist-packages/ipykernel/ipkernel.py:283: DeprecationWarning:\n",
            "\n",
            "`should_run_async` will not call `transform_cell` automatically in the future. Please pass the result to `transformed_cell` argument and any exception that happen during thetransform in `preprocessing_exc_tuple` in IPython 7.17 and above.\n",
            "\n"
          ]
        },
        {
          "output_type": "execute_result",
          "data": {
            "text/plain": [
              "Empty DataFrame\n",
              "Columns: [Datetime, Tweet Id, Text, Username, Text_lemmatised, Text_stemmed, Text_both, n_grams, Day, Month, Year, sentiment]\n",
              "Index: []"
            ],
            "text/html": [
              "\n",
              "  <div id=\"df-4485c0cb-720d-44e4-8a7c-19bdc7b85d7e\">\n",
              "    <div class=\"colab-df-container\">\n",
              "      <div>\n",
              "<style scoped>\n",
              "    .dataframe tbody tr th:only-of-type {\n",
              "        vertical-align: middle;\n",
              "    }\n",
              "\n",
              "    .dataframe tbody tr th {\n",
              "        vertical-align: top;\n",
              "    }\n",
              "\n",
              "    .dataframe thead th {\n",
              "        text-align: right;\n",
              "    }\n",
              "</style>\n",
              "<table border=\"1\" class=\"dataframe\">\n",
              "  <thead>\n",
              "    <tr style=\"text-align: right;\">\n",
              "      <th></th>\n",
              "      <th>Datetime</th>\n",
              "      <th>Tweet Id</th>\n",
              "      <th>Text</th>\n",
              "      <th>Username</th>\n",
              "      <th>Text_lemmatised</th>\n",
              "      <th>Text_stemmed</th>\n",
              "      <th>Text_both</th>\n",
              "      <th>n_grams</th>\n",
              "      <th>Day</th>\n",
              "      <th>Month</th>\n",
              "      <th>Year</th>\n",
              "      <th>sentiment</th>\n",
              "    </tr>\n",
              "  </thead>\n",
              "  <tbody>\n",
              "  </tbody>\n",
              "</table>\n",
              "</div>\n",
              "      <button class=\"colab-df-convert\" onclick=\"convertToInteractive('df-4485c0cb-720d-44e4-8a7c-19bdc7b85d7e')\"\n",
              "              title=\"Convert this dataframe to an interactive table.\"\n",
              "              style=\"display:none;\">\n",
              "        \n",
              "  <svg xmlns=\"http://www.w3.org/2000/svg\" height=\"24px\"viewBox=\"0 0 24 24\"\n",
              "       width=\"24px\">\n",
              "    <path d=\"M0 0h24v24H0V0z\" fill=\"none\"/>\n",
              "    <path d=\"M18.56 5.44l.94 2.06.94-2.06 2.06-.94-2.06-.94-.94-2.06-.94 2.06-2.06.94zm-11 1L8.5 8.5l.94-2.06 2.06-.94-2.06-.94L8.5 2.5l-.94 2.06-2.06.94zm10 10l.94 2.06.94-2.06 2.06-.94-2.06-.94-.94-2.06-.94 2.06-2.06.94z\"/><path d=\"M17.41 7.96l-1.37-1.37c-.4-.4-.92-.59-1.43-.59-.52 0-1.04.2-1.43.59L10.3 9.45l-7.72 7.72c-.78.78-.78 2.05 0 2.83L4 21.41c.39.39.9.59 1.41.59.51 0 1.02-.2 1.41-.59l7.78-7.78 2.81-2.81c.8-.78.8-2.07 0-2.86zM5.41 20L4 18.59l7.72-7.72 1.47 1.35L5.41 20z\"/>\n",
              "  </svg>\n",
              "      </button>\n",
              "      \n",
              "  <style>\n",
              "    .colab-df-container {\n",
              "      display:flex;\n",
              "      flex-wrap:wrap;\n",
              "      gap: 12px;\n",
              "    }\n",
              "\n",
              "    .colab-df-convert {\n",
              "      background-color: #E8F0FE;\n",
              "      border: none;\n",
              "      border-radius: 50%;\n",
              "      cursor: pointer;\n",
              "      display: none;\n",
              "      fill: #1967D2;\n",
              "      height: 32px;\n",
              "      padding: 0 0 0 0;\n",
              "      width: 32px;\n",
              "    }\n",
              "\n",
              "    .colab-df-convert:hover {\n",
              "      background-color: #E2EBFA;\n",
              "      box-shadow: 0px 1px 2px rgba(60, 64, 67, 0.3), 0px 1px 3px 1px rgba(60, 64, 67, 0.15);\n",
              "      fill: #174EA6;\n",
              "    }\n",
              "\n",
              "    [theme=dark] .colab-df-convert {\n",
              "      background-color: #3B4455;\n",
              "      fill: #D2E3FC;\n",
              "    }\n",
              "\n",
              "    [theme=dark] .colab-df-convert:hover {\n",
              "      background-color: #434B5C;\n",
              "      box-shadow: 0px 1px 3px 1px rgba(0, 0, 0, 0.15);\n",
              "      filter: drop-shadow(0px 1px 2px rgba(0, 0, 0, 0.3));\n",
              "      fill: #FFFFFF;\n",
              "    }\n",
              "  </style>\n",
              "\n",
              "      <script>\n",
              "        const buttonEl =\n",
              "          document.querySelector('#df-4485c0cb-720d-44e4-8a7c-19bdc7b85d7e button.colab-df-convert');\n",
              "        buttonEl.style.display =\n",
              "          google.colab.kernel.accessAllowed ? 'block' : 'none';\n",
              "\n",
              "        async function convertToInteractive(key) {\n",
              "          const element = document.querySelector('#df-4485c0cb-720d-44e4-8a7c-19bdc7b85d7e');\n",
              "          const dataTable =\n",
              "            await google.colab.kernel.invokeFunction('convertToInteractive',\n",
              "                                                     [key], {});\n",
              "          if (!dataTable) return;\n",
              "\n",
              "          const docLinkHtml = 'Like what you see? Visit the ' +\n",
              "            '<a target=\"_blank\" href=https://colab.research.google.com/notebooks/data_table.ipynb>data table notebook</a>'\n",
              "            + ' to learn more about interactive tables.';\n",
              "          element.innerHTML = '';\n",
              "          dataTable['output_type'] = 'display_data';\n",
              "          await google.colab.output.renderOutput(dataTable, element);\n",
              "          const docLink = document.createElement('div');\n",
              "          docLink.innerHTML = docLinkHtml;\n",
              "          element.appendChild(docLink);\n",
              "        }\n",
              "      </script>\n",
              "    </div>\n",
              "  </div>\n",
              "  "
            ]
          },
          "metadata": {},
          "execution_count": 34
        }
      ]
    },
    {
      "cell_type": "code",
      "source": [
        "# See what caused the low sentiment spike on Nov 22, 2020 (0.06), and on June 27, 2021 (0.06).\n",
        "df_sentiment_spike = df[df['Day'] == '2020-11-22']    # seeing which tweets occurred on that day\n",
        "df_sentiment_spike.sort_values('sentiment')"
      ],
      "metadata": {
        "id": "dcBAqo0XZuNz",
        "colab": {
          "base_uri": "https://localhost:8080/",
          "height": 139
        },
        "outputId": "fd549461-6463-45e0-fdb1-98703a029217"
      },
      "execution_count": null,
      "outputs": [
        {
          "output_type": "stream",
          "name": "stderr",
          "text": [
            "/usr/local/lib/python3.10/dist-packages/ipykernel/ipkernel.py:283: DeprecationWarning:\n",
            "\n",
            "`should_run_async` will not call `transform_cell` automatically in the future. Please pass the result to `transformed_cell` argument and any exception that happen during thetransform in `preprocessing_exc_tuple` in IPython 7.17 and above.\n",
            "\n"
          ]
        },
        {
          "output_type": "execute_result",
          "data": {
            "text/plain": [
              "Empty DataFrame\n",
              "Columns: [Datetime, Tweet Id, Text, Username, Text_lemmatised, Text_stemmed, Text_both, n_grams, Day, Month, Year, sentiment]\n",
              "Index: []"
            ],
            "text/html": [
              "\n",
              "  <div id=\"df-931e9884-389c-45a4-b759-3eaa9ba6b486\">\n",
              "    <div class=\"colab-df-container\">\n",
              "      <div>\n",
              "<style scoped>\n",
              "    .dataframe tbody tr th:only-of-type {\n",
              "        vertical-align: middle;\n",
              "    }\n",
              "\n",
              "    .dataframe tbody tr th {\n",
              "        vertical-align: top;\n",
              "    }\n",
              "\n",
              "    .dataframe thead th {\n",
              "        text-align: right;\n",
              "    }\n",
              "</style>\n",
              "<table border=\"1\" class=\"dataframe\">\n",
              "  <thead>\n",
              "    <tr style=\"text-align: right;\">\n",
              "      <th></th>\n",
              "      <th>Datetime</th>\n",
              "      <th>Tweet Id</th>\n",
              "      <th>Text</th>\n",
              "      <th>Username</th>\n",
              "      <th>Text_lemmatised</th>\n",
              "      <th>Text_stemmed</th>\n",
              "      <th>Text_both</th>\n",
              "      <th>n_grams</th>\n",
              "      <th>Day</th>\n",
              "      <th>Month</th>\n",
              "      <th>Year</th>\n",
              "      <th>sentiment</th>\n",
              "    </tr>\n",
              "  </thead>\n",
              "  <tbody>\n",
              "  </tbody>\n",
              "</table>\n",
              "</div>\n",
              "      <button class=\"colab-df-convert\" onclick=\"convertToInteractive('df-931e9884-389c-45a4-b759-3eaa9ba6b486')\"\n",
              "              title=\"Convert this dataframe to an interactive table.\"\n",
              "              style=\"display:none;\">\n",
              "        \n",
              "  <svg xmlns=\"http://www.w3.org/2000/svg\" height=\"24px\"viewBox=\"0 0 24 24\"\n",
              "       width=\"24px\">\n",
              "    <path d=\"M0 0h24v24H0V0z\" fill=\"none\"/>\n",
              "    <path d=\"M18.56 5.44l.94 2.06.94-2.06 2.06-.94-2.06-.94-.94-2.06-.94 2.06-2.06.94zm-11 1L8.5 8.5l.94-2.06 2.06-.94-2.06-.94L8.5 2.5l-.94 2.06-2.06.94zm10 10l.94 2.06.94-2.06 2.06-.94-2.06-.94-.94-2.06-.94 2.06-2.06.94z\"/><path d=\"M17.41 7.96l-1.37-1.37c-.4-.4-.92-.59-1.43-.59-.52 0-1.04.2-1.43.59L10.3 9.45l-7.72 7.72c-.78.78-.78 2.05 0 2.83L4 21.41c.39.39.9.59 1.41.59.51 0 1.02-.2 1.41-.59l7.78-7.78 2.81-2.81c.8-.78.8-2.07 0-2.86zM5.41 20L4 18.59l7.72-7.72 1.47 1.35L5.41 20z\"/>\n",
              "  </svg>\n",
              "      </button>\n",
              "      \n",
              "  <style>\n",
              "    .colab-df-container {\n",
              "      display:flex;\n",
              "      flex-wrap:wrap;\n",
              "      gap: 12px;\n",
              "    }\n",
              "\n",
              "    .colab-df-convert {\n",
              "      background-color: #E8F0FE;\n",
              "      border: none;\n",
              "      border-radius: 50%;\n",
              "      cursor: pointer;\n",
              "      display: none;\n",
              "      fill: #1967D2;\n",
              "      height: 32px;\n",
              "      padding: 0 0 0 0;\n",
              "      width: 32px;\n",
              "    }\n",
              "\n",
              "    .colab-df-convert:hover {\n",
              "      background-color: #E2EBFA;\n",
              "      box-shadow: 0px 1px 2px rgba(60, 64, 67, 0.3), 0px 1px 3px 1px rgba(60, 64, 67, 0.15);\n",
              "      fill: #174EA6;\n",
              "    }\n",
              "\n",
              "    [theme=dark] .colab-df-convert {\n",
              "      background-color: #3B4455;\n",
              "      fill: #D2E3FC;\n",
              "    }\n",
              "\n",
              "    [theme=dark] .colab-df-convert:hover {\n",
              "      background-color: #434B5C;\n",
              "      box-shadow: 0px 1px 3px 1px rgba(0, 0, 0, 0.15);\n",
              "      filter: drop-shadow(0px 1px 2px rgba(0, 0, 0, 0.3));\n",
              "      fill: #FFFFFF;\n",
              "    }\n",
              "  </style>\n",
              "\n",
              "      <script>\n",
              "        const buttonEl =\n",
              "          document.querySelector('#df-931e9884-389c-45a4-b759-3eaa9ba6b486 button.colab-df-convert');\n",
              "        buttonEl.style.display =\n",
              "          google.colab.kernel.accessAllowed ? 'block' : 'none';\n",
              "\n",
              "        async function convertToInteractive(key) {\n",
              "          const element = document.querySelector('#df-931e9884-389c-45a4-b759-3eaa9ba6b486');\n",
              "          const dataTable =\n",
              "            await google.colab.kernel.invokeFunction('convertToInteractive',\n",
              "                                                     [key], {});\n",
              "          if (!dataTable) return;\n",
              "\n",
              "          const docLinkHtml = 'Like what you see? Visit the ' +\n",
              "            '<a target=\"_blank\" href=https://colab.research.google.com/notebooks/data_table.ipynb>data table notebook</a>'\n",
              "            + ' to learn more about interactive tables.';\n",
              "          element.innerHTML = '';\n",
              "          dataTable['output_type'] = 'display_data';\n",
              "          await google.colab.output.renderOutput(dataTable, element);\n",
              "          const docLink = document.createElement('div');\n",
              "          docLink.innerHTML = docLinkHtml;\n",
              "          element.appendChild(docLink);\n",
              "        }\n",
              "      </script>\n",
              "    </div>\n",
              "  </div>\n",
              "  "
            ]
          },
          "metadata": {},
          "execution_count": 35
        }
      ]
    },
    {
      "cell_type": "code",
      "source": [
        "# and on June 27, 2021:\n",
        "df_sentiment_spike = df[df['Day'] == '2021-06-27']    # seeing which tweets occurred on that day\n",
        "df_sentiment_spike.sort_values('sentiment')"
      ],
      "metadata": {
        "colab": {
          "base_uri": "https://localhost:8080/",
          "height": 1000
        },
        "id": "9ofqTyoTViHk",
        "outputId": "c38f7722-9e26-43c8-cc05-56b42d128296"
      },
      "execution_count": null,
      "outputs": [
        {
          "output_type": "stream",
          "name": "stderr",
          "text": [
            "/usr/local/lib/python3.10/dist-packages/ipykernel/ipkernel.py:283: DeprecationWarning:\n",
            "\n",
            "`should_run_async` will not call `transform_cell` automatically in the future. Please pass the result to `transformed_cell` argument and any exception that happen during thetransform in `preprocessing_exc_tuple` in IPython 7.17 and above.\n",
            "\n"
          ]
        },
        {
          "output_type": "execute_result",
          "data": {
            "text/plain": [
              "                 Datetime      Tweet Id  \\\n",
              "21880 2021-06-27 07:20:00  1.410000e+18   \n",
              "21865 2021-06-27 11:18:00  1.410000e+18   \n",
              "21852 2021-06-27 15:03:00  1.410000e+18   \n",
              "21889 2021-06-27 04:00:00  1.410000e+18   \n",
              "21857 2021-06-27 13:10:00  1.410000e+18   \n",
              "...                   ...           ...   \n",
              "21883 2021-06-27 06:17:00  1.410000e+18   \n",
              "21874 2021-06-27 08:47:00  1.410000e+18   \n",
              "21853 2021-06-27 15:01:00  1.410000e+18   \n",
              "21825 2021-06-27 21:39:00  1.410000e+18   \n",
              "21871 2021-06-27 10:03:00  1.410000e+18   \n",
              "\n",
              "                                                    Text        Username  \\\n",
              "21880  book well researched sought loads information ...     storizenmag   \n",
              "21865  repost sadhguru make_repost bad sadhguru inspi...    VickyRatnani   \n",
              "21852  enriched flour hfcs need drastically reduced g...  AutonomousHoag   \n",
              "21889  question evolution evolutionary mean webster d...      EvolEatsLu   \n",
              "21857  ruha nutrivolutionsit disease nothing conseque...      sg_insider   \n",
              "...                                                  ...             ...   \n",
              "21883  kids pure keep em stop feeding bs feeding trai...   AceBoogieeBMW   \n",
              "21874  matcha tea special form green tea leaves finel...       GloryDey1   \n",
              "21853  cook low carb rice mins part lighter curry faj...         MrRands   \n",
              "21825  packaging full toxic chemicals heres could aff...     stevebaynes   \n",
              "21871  menlu_ri g great moral responsibility build pe...        jogjanet   \n",
              "\n",
              "                                         Text_lemmatised  \\\n",
              "21880  book well researched sought load information p...   \n",
              "21865  repost sadhguru make_repost bad sadhguru inspi...   \n",
              "21852  enriched flour hfc need drastically reduced ga...   \n",
              "21889  question evolution evolutionary mean webster d...   \n",
              "21857  ruha nutrivolutionsit disease nothing conseque...   \n",
              "...                                                  ...   \n",
              "21883  kid pure keep em stop feeding b feeding traine...   \n",
              "21874  matcha tea special form green tea leaf finely ...   \n",
              "21853  cook low carb rice min part lighter curry faji...   \n",
              "21825  packaging full toxic chemical here could affec...   \n",
              "21871  menlu_ri g great moral responsibility build pe...   \n",
              "\n",
              "                                            Text_stemmed  \\\n",
              "21880  book well research sought load inform practic ...   \n",
              "21865  repost sadhguru make_repost bad sadhguru inspi...   \n",
              "21852  enrich flour hfc need drastic reduc garbag got...   \n",
              "21889  question evolut evolutionari mean webster defi...   \n",
              "21857  ruha nutrivolutionsit diseas noth consequ habi...   \n",
              "...                                                  ...   \n",
              "21883  kid pure keep em stop feed bs feed train kid t...   \n",
              "21874  matcha tea special form green tea leav fine po...   \n",
              "21853  cook low carb rice min part lighter curri faji...   \n",
              "21825  packag full toxic chemic here could affect car...   \n",
              "21871  menlu_ri g great moral respons build peac appr...   \n",
              "\n",
              "                                               Text_both  \\\n",
              "21880  book well research sought load inform practic ...   \n",
              "21865  repost sadhguru make_repost bad sadhguru inspi...   \n",
              "21852  enrich flour hfc need drastic reduc garbag got...   \n",
              "21889  question evolut evolutionari mean webster defi...   \n",
              "21857  ruha nutrivolutionsit diseas noth consequ habi...   \n",
              "...                                                  ...   \n",
              "21883  kid pure keep em stop feed b feed train kid tr...   \n",
              "21874  matcha tea special form green tea leaf fine po...   \n",
              "21853  cook low carb rice min part lighter curri faji...   \n",
              "21825  packag full toxic chemic here could affect car...   \n",
              "21871  menlu_ri g great moral respons build peac appr...   \n",
              "\n",
              "                                                 n_grams        Day  Month  \\\n",
              "21880  [book well research, well research sought, res... 2021-06-27      6   \n",
              "21865  [repost sadhguru make_repost, sadhguru make_re... 2021-06-27      6   \n",
              "21852  [enrich flour hfc, flour hfc need, hfc need dr... 2021-06-27      6   \n",
              "21889  [question evolut evolutionari, evolut evolutio... 2021-06-27      6   \n",
              "21857  [ruha nutrivolutionsit diseas, nutrivolutionsi... 2021-06-27      6   \n",
              "...                                                  ...        ...    ...   \n",
              "21883  [kid pure keep, pure keep em, keep em stop, em... 2021-06-27      6   \n",
              "21874  [matcha tea special, tea special form, special... 2021-06-27      6   \n",
              "21853  [cook low carb, low carb rice, carb rice min, ... 2021-06-27      6   \n",
              "21825  [packag full toxic, full toxic chemic, toxic c... 2021-06-27      6   \n",
              "21871  [menlu_ri g great, g great moral, great moral ... 2021-06-27      6   \n",
              "\n",
              "       Year  sentiment  \n",
              "21880  2021  -1.000000  \n",
              "21865  2021  -0.700000  \n",
              "21852  2021  -0.333333  \n",
              "21889  2021  -0.306250  \n",
              "21857  2021  -0.300000  \n",
              "...     ...        ...  \n",
              "21883  2021   0.214286  \n",
              "21874  2021   0.237202  \n",
              "21853  2021   0.244444  \n",
              "21825  2021   0.350000  \n",
              "21871  2021   0.375000  \n",
              "\n",
              "[65 rows x 12 columns]"
            ],
            "text/html": [
              "\n",
              "  <div id=\"df-9e0a53f5-7280-4328-a0dc-9a1f0e4d4902\">\n",
              "    <div class=\"colab-df-container\">\n",
              "      <div>\n",
              "<style scoped>\n",
              "    .dataframe tbody tr th:only-of-type {\n",
              "        vertical-align: middle;\n",
              "    }\n",
              "\n",
              "    .dataframe tbody tr th {\n",
              "        vertical-align: top;\n",
              "    }\n",
              "\n",
              "    .dataframe thead th {\n",
              "        text-align: right;\n",
              "    }\n",
              "</style>\n",
              "<table border=\"1\" class=\"dataframe\">\n",
              "  <thead>\n",
              "    <tr style=\"text-align: right;\">\n",
              "      <th></th>\n",
              "      <th>Datetime</th>\n",
              "      <th>Tweet Id</th>\n",
              "      <th>Text</th>\n",
              "      <th>Username</th>\n",
              "      <th>Text_lemmatised</th>\n",
              "      <th>Text_stemmed</th>\n",
              "      <th>Text_both</th>\n",
              "      <th>n_grams</th>\n",
              "      <th>Day</th>\n",
              "      <th>Month</th>\n",
              "      <th>Year</th>\n",
              "      <th>sentiment</th>\n",
              "    </tr>\n",
              "  </thead>\n",
              "  <tbody>\n",
              "    <tr>\n",
              "      <th>21880</th>\n",
              "      <td>2021-06-27 07:20:00</td>\n",
              "      <td>1.410000e+18</td>\n",
              "      <td>book well researched sought loads information ...</td>\n",
              "      <td>storizenmag</td>\n",
              "      <td>book well researched sought load information p...</td>\n",
              "      <td>book well research sought load inform practic ...</td>\n",
              "      <td>book well research sought load inform practic ...</td>\n",
              "      <td>[book well research, well research sought, res...</td>\n",
              "      <td>2021-06-27</td>\n",
              "      <td>6</td>\n",
              "      <td>2021</td>\n",
              "      <td>-1.000000</td>\n",
              "    </tr>\n",
              "    <tr>\n",
              "      <th>21865</th>\n",
              "      <td>2021-06-27 11:18:00</td>\n",
              "      <td>1.410000e+18</td>\n",
              "      <td>repost sadhguru make_repost bad sadhguru inspi...</td>\n",
              "      <td>VickyRatnani</td>\n",
              "      <td>repost sadhguru make_repost bad sadhguru inspi...</td>\n",
              "      <td>repost sadhguru make_repost bad sadhguru inspi...</td>\n",
              "      <td>repost sadhguru make_repost bad sadhguru inspi...</td>\n",
              "      <td>[repost sadhguru make_repost, sadhguru make_re...</td>\n",
              "      <td>2021-06-27</td>\n",
              "      <td>6</td>\n",
              "      <td>2021</td>\n",
              "      <td>-0.700000</td>\n",
              "    </tr>\n",
              "    <tr>\n",
              "      <th>21852</th>\n",
              "      <td>2021-06-27 15:03:00</td>\n",
              "      <td>1.410000e+18</td>\n",
              "      <td>enriched flour hfcs need drastically reduced g...</td>\n",
              "      <td>AutonomousHoag</td>\n",
              "      <td>enriched flour hfc need drastically reduced ga...</td>\n",
              "      <td>enrich flour hfc need drastic reduc garbag got...</td>\n",
              "      <td>enrich flour hfc need drastic reduc garbag got...</td>\n",
              "      <td>[enrich flour hfc, flour hfc need, hfc need dr...</td>\n",
              "      <td>2021-06-27</td>\n",
              "      <td>6</td>\n",
              "      <td>2021</td>\n",
              "      <td>-0.333333</td>\n",
              "    </tr>\n",
              "    <tr>\n",
              "      <th>21889</th>\n",
              "      <td>2021-06-27 04:00:00</td>\n",
              "      <td>1.410000e+18</td>\n",
              "      <td>question evolution evolutionary mean webster d...</td>\n",
              "      <td>EvolEatsLu</td>\n",
              "      <td>question evolution evolutionary mean webster d...</td>\n",
              "      <td>question evolut evolutionari mean webster defi...</td>\n",
              "      <td>question evolut evolutionari mean webster defi...</td>\n",
              "      <td>[question evolut evolutionari, evolut evolutio...</td>\n",
              "      <td>2021-06-27</td>\n",
              "      <td>6</td>\n",
              "      <td>2021</td>\n",
              "      <td>-0.306250</td>\n",
              "    </tr>\n",
              "    <tr>\n",
              "      <th>21857</th>\n",
              "      <td>2021-06-27 13:10:00</td>\n",
              "      <td>1.410000e+18</td>\n",
              "      <td>ruha nutrivolutionsit disease nothing conseque...</td>\n",
              "      <td>sg_insider</td>\n",
              "      <td>ruha nutrivolutionsit disease nothing conseque...</td>\n",
              "      <td>ruha nutrivolutionsit diseas noth consequ habi...</td>\n",
              "      <td>ruha nutrivolutionsit diseas noth consequ habi...</td>\n",
              "      <td>[ruha nutrivolutionsit diseas, nutrivolutionsi...</td>\n",
              "      <td>2021-06-27</td>\n",
              "      <td>6</td>\n",
              "      <td>2021</td>\n",
              "      <td>-0.300000</td>\n",
              "    </tr>\n",
              "    <tr>\n",
              "      <th>...</th>\n",
              "      <td>...</td>\n",
              "      <td>...</td>\n",
              "      <td>...</td>\n",
              "      <td>...</td>\n",
              "      <td>...</td>\n",
              "      <td>...</td>\n",
              "      <td>...</td>\n",
              "      <td>...</td>\n",
              "      <td>...</td>\n",
              "      <td>...</td>\n",
              "      <td>...</td>\n",
              "      <td>...</td>\n",
              "    </tr>\n",
              "    <tr>\n",
              "      <th>21883</th>\n",
              "      <td>2021-06-27 06:17:00</td>\n",
              "      <td>1.410000e+18</td>\n",
              "      <td>kids pure keep em stop feeding bs feeding trai...</td>\n",
              "      <td>AceBoogieeBMW</td>\n",
              "      <td>kid pure keep em stop feeding b feeding traine...</td>\n",
              "      <td>kid pure keep em stop feed bs feed train kid t...</td>\n",
              "      <td>kid pure keep em stop feed b feed train kid tr...</td>\n",
              "      <td>[kid pure keep, pure keep em, keep em stop, em...</td>\n",
              "      <td>2021-06-27</td>\n",
              "      <td>6</td>\n",
              "      <td>2021</td>\n",
              "      <td>0.214286</td>\n",
              "    </tr>\n",
              "    <tr>\n",
              "      <th>21874</th>\n",
              "      <td>2021-06-27 08:47:00</td>\n",
              "      <td>1.410000e+18</td>\n",
              "      <td>matcha tea special form green tea leaves finel...</td>\n",
              "      <td>GloryDey1</td>\n",
              "      <td>matcha tea special form green tea leaf finely ...</td>\n",
              "      <td>matcha tea special form green tea leav fine po...</td>\n",
              "      <td>matcha tea special form green tea leaf fine po...</td>\n",
              "      <td>[matcha tea special, tea special form, special...</td>\n",
              "      <td>2021-06-27</td>\n",
              "      <td>6</td>\n",
              "      <td>2021</td>\n",
              "      <td>0.237202</td>\n",
              "    </tr>\n",
              "    <tr>\n",
              "      <th>21853</th>\n",
              "      <td>2021-06-27 15:01:00</td>\n",
              "      <td>1.410000e+18</td>\n",
              "      <td>cook low carb rice mins part lighter curry faj...</td>\n",
              "      <td>MrRands</td>\n",
              "      <td>cook low carb rice min part lighter curry faji...</td>\n",
              "      <td>cook low carb rice min part lighter curri faji...</td>\n",
              "      <td>cook low carb rice min part lighter curri faji...</td>\n",
              "      <td>[cook low carb, low carb rice, carb rice min, ...</td>\n",
              "      <td>2021-06-27</td>\n",
              "      <td>6</td>\n",
              "      <td>2021</td>\n",
              "      <td>0.244444</td>\n",
              "    </tr>\n",
              "    <tr>\n",
              "      <th>21825</th>\n",
              "      <td>2021-06-27 21:39:00</td>\n",
              "      <td>1.410000e+18</td>\n",
              "      <td>packaging full toxic chemicals heres could aff...</td>\n",
              "      <td>stevebaynes</td>\n",
              "      <td>packaging full toxic chemical here could affec...</td>\n",
              "      <td>packag full toxic chemic here could affect car...</td>\n",
              "      <td>packag full toxic chemic here could affect car...</td>\n",
              "      <td>[packag full toxic, full toxic chemic, toxic c...</td>\n",
              "      <td>2021-06-27</td>\n",
              "      <td>6</td>\n",
              "      <td>2021</td>\n",
              "      <td>0.350000</td>\n",
              "    </tr>\n",
              "    <tr>\n",
              "      <th>21871</th>\n",
              "      <td>2021-06-27 10:03:00</td>\n",
              "      <td>1.410000e+18</td>\n",
              "      <td>menlu_ri g great moral responsibility build pe...</td>\n",
              "      <td>jogjanet</td>\n",
              "      <td>menlu_ri g great moral responsibility build pe...</td>\n",
              "      <td>menlu_ri g great moral respons build peac appr...</td>\n",
              "      <td>menlu_ri g great moral respons build peac appr...</td>\n",
              "      <td>[menlu_ri g great, g great moral, great moral ...</td>\n",
              "      <td>2021-06-27</td>\n",
              "      <td>6</td>\n",
              "      <td>2021</td>\n",
              "      <td>0.375000</td>\n",
              "    </tr>\n",
              "  </tbody>\n",
              "</table>\n",
              "<p>65 rows × 12 columns</p>\n",
              "</div>\n",
              "      <button class=\"colab-df-convert\" onclick=\"convertToInteractive('df-9e0a53f5-7280-4328-a0dc-9a1f0e4d4902')\"\n",
              "              title=\"Convert this dataframe to an interactive table.\"\n",
              "              style=\"display:none;\">\n",
              "        \n",
              "  <svg xmlns=\"http://www.w3.org/2000/svg\" height=\"24px\"viewBox=\"0 0 24 24\"\n",
              "       width=\"24px\">\n",
              "    <path d=\"M0 0h24v24H0V0z\" fill=\"none\"/>\n",
              "    <path d=\"M18.56 5.44l.94 2.06.94-2.06 2.06-.94-2.06-.94-.94-2.06-.94 2.06-2.06.94zm-11 1L8.5 8.5l.94-2.06 2.06-.94-2.06-.94L8.5 2.5l-.94 2.06-2.06.94zm10 10l.94 2.06.94-2.06 2.06-.94-2.06-.94-.94-2.06-.94 2.06-2.06.94z\"/><path d=\"M17.41 7.96l-1.37-1.37c-.4-.4-.92-.59-1.43-.59-.52 0-1.04.2-1.43.59L10.3 9.45l-7.72 7.72c-.78.78-.78 2.05 0 2.83L4 21.41c.39.39.9.59 1.41.59.51 0 1.02-.2 1.41-.59l7.78-7.78 2.81-2.81c.8-.78.8-2.07 0-2.86zM5.41 20L4 18.59l7.72-7.72 1.47 1.35L5.41 20z\"/>\n",
              "  </svg>\n",
              "      </button>\n",
              "      \n",
              "  <style>\n",
              "    .colab-df-container {\n",
              "      display:flex;\n",
              "      flex-wrap:wrap;\n",
              "      gap: 12px;\n",
              "    }\n",
              "\n",
              "    .colab-df-convert {\n",
              "      background-color: #E8F0FE;\n",
              "      border: none;\n",
              "      border-radius: 50%;\n",
              "      cursor: pointer;\n",
              "      display: none;\n",
              "      fill: #1967D2;\n",
              "      height: 32px;\n",
              "      padding: 0 0 0 0;\n",
              "      width: 32px;\n",
              "    }\n",
              "\n",
              "    .colab-df-convert:hover {\n",
              "      background-color: #E2EBFA;\n",
              "      box-shadow: 0px 1px 2px rgba(60, 64, 67, 0.3), 0px 1px 3px 1px rgba(60, 64, 67, 0.15);\n",
              "      fill: #174EA6;\n",
              "    }\n",
              "\n",
              "    [theme=dark] .colab-df-convert {\n",
              "      background-color: #3B4455;\n",
              "      fill: #D2E3FC;\n",
              "    }\n",
              "\n",
              "    [theme=dark] .colab-df-convert:hover {\n",
              "      background-color: #434B5C;\n",
              "      box-shadow: 0px 1px 3px 1px rgba(0, 0, 0, 0.15);\n",
              "      filter: drop-shadow(0px 1px 2px rgba(0, 0, 0, 0.3));\n",
              "      fill: #FFFFFF;\n",
              "    }\n",
              "  </style>\n",
              "\n",
              "      <script>\n",
              "        const buttonEl =\n",
              "          document.querySelector('#df-9e0a53f5-7280-4328-a0dc-9a1f0e4d4902 button.colab-df-convert');\n",
              "        buttonEl.style.display =\n",
              "          google.colab.kernel.accessAllowed ? 'block' : 'none';\n",
              "\n",
              "        async function convertToInteractive(key) {\n",
              "          const element = document.querySelector('#df-9e0a53f5-7280-4328-a0dc-9a1f0e4d4902');\n",
              "          const dataTable =\n",
              "            await google.colab.kernel.invokeFunction('convertToInteractive',\n",
              "                                                     [key], {});\n",
              "          if (!dataTable) return;\n",
              "\n",
              "          const docLinkHtml = 'Like what you see? Visit the ' +\n",
              "            '<a target=\"_blank\" href=https://colab.research.google.com/notebooks/data_table.ipynb>data table notebook</a>'\n",
              "            + ' to learn more about interactive tables.';\n",
              "          element.innerHTML = '';\n",
              "          dataTable['output_type'] = 'display_data';\n",
              "          await google.colab.output.renderOutput(dataTable, element);\n",
              "          const docLink = document.createElement('div');\n",
              "          docLink.innerHTML = docLinkHtml;\n",
              "          element.appendChild(docLink);\n",
              "        }\n",
              "      </script>\n",
              "    </div>\n",
              "  </div>\n",
              "  "
            ]
          },
          "metadata": {},
          "execution_count": 36
        }
      ]
    },
    {
      "cell_type": "markdown",
      "source": [
        "## Topic Modelling"
      ],
      "metadata": {
        "id": "1yCtxM_H6lxn"
      }
    },
    {
      "cell_type": "markdown",
      "source": [
        "### Pre-preprocessing"
      ],
      "metadata": {
        "id": "tvcNgiBELEsY"
      }
    },
    {
      "cell_type": "code",
      "source": [
        "# Topic modelling will be done with LDA algorithm\n",
        "# Setting up the environment for LDA algorithm.\n",
        "\n",
        "TEMP_FOLDER = tempfile.gettempdir()\n",
        "print('Folder \"{}\" will be used to save temporary dictionary and corpus.'.format(TEMP_FOLDER))\n",
        "logging.basicConfig(format='%(asctime)s : %(levelname)s : %(message)s', level=logging.INFO)"
      ],
      "metadata": {
        "id": "a_hlzwDxbkXL",
        "colab": {
          "base_uri": "https://localhost:8080/"
        },
        "outputId": "b2183851-ba52-49e9-80b4-42d9999dd882"
      },
      "execution_count": null,
      "outputs": [
        {
          "output_type": "stream",
          "name": "stdout",
          "text": [
            "Folder \"/tmp\" will be used to save temporary dictionary and corpus.\n"
          ]
        },
        {
          "output_type": "stream",
          "name": "stderr",
          "text": [
            "/usr/local/lib/python3.10/dist-packages/ipykernel/ipkernel.py:283: DeprecationWarning:\n",
            "\n",
            "`should_run_async` will not call `transform_cell` automatically in the future. Please pass the result to `transformed_cell` argument and any exception that happen during thetransform in `preprocessing_exc_tuple` in IPython 7.17 and above.\n",
            "\n"
          ]
        }
      ]
    },
    {
      "cell_type": "code",
      "source": [
        "# Convert the tweets as the text corpus.\n",
        "# For this, the stemmed tweets will be used.\n",
        "corpus = list(df['Text_stemmed'])\n",
        "\n",
        "# Alphabetically sort each tweet before making the dictionary\n",
        "df['Text_stemmed'] = df['Text_stemmed'].apply(lambda x: ' '.join(sorted(x.split())))"
      ],
      "metadata": {
        "colab": {
          "base_uri": "https://localhost:8080/"
        },
        "id": "-sFjsInQY1kZ",
        "outputId": "6670c41e-d9f4-490c-96b9-17bdcb59af7f"
      },
      "execution_count": null,
      "outputs": [
        {
          "output_type": "stream",
          "name": "stderr",
          "text": [
            "/usr/local/lib/python3.10/dist-packages/ipykernel/ipkernel.py:283: DeprecationWarning:\n",
            "\n",
            "`should_run_async` will not call `transform_cell` automatically in the future. Please pass the result to `transformed_cell` argument and any exception that happen during thetransform in `preprocessing_exc_tuple` in IPython 7.17 and above.\n",
            "\n"
          ]
        }
      ]
    },
    {
      "cell_type": "code",
      "source": [
        "corpus[:5]"
      ],
      "metadata": {
        "colab": {
          "base_uri": "https://localhost:8080/"
        },
        "id": "02rB34qTZJ2G",
        "outputId": "256d13d9-397d-4441-ff11-024d46075b45"
      },
      "execution_count": null,
      "outputs": [
        {
          "output_type": "stream",
          "name": "stderr",
          "text": [
            "/usr/local/lib/python3.10/dist-packages/ipykernel/ipkernel.py:283: DeprecationWarning:\n",
            "\n",
            "`should_run_async` will not call `transform_cell` automatically in the future. Please pass the result to `transformed_cell` argument and any exception that happen during thetransform in `preprocessing_exc_tuple` in IPython 7.17 and above.\n",
            "\n"
          ]
        },
        {
          "output_type": "execute_result",
          "data": {
            "text/plain": [
              "['late simpl easi input sunday vibe mood',\n",
              " 'lettuc wrap short ytshort lunch',\n",
              " 'humor',\n",
              " 'zone balanc meal carb block kodiak pancak egg zone',\n",
              " 'expert say top type improv brain prevent dementia share']"
            ]
          },
          "metadata": {},
          "execution_count": 39
        }
      ]
    },
    {
      "cell_type": "code",
      "source": [
        "# Tokenization\n",
        "tweets = [[word for word in str(document).split()] for document in corpus]"
      ],
      "metadata": {
        "colab": {
          "base_uri": "https://localhost:8080/"
        },
        "id": "at09ExUDZUcU",
        "outputId": "33f62c22-00c2-492f-8b6d-2d217d9af56b"
      },
      "execution_count": null,
      "outputs": [
        {
          "output_type": "stream",
          "name": "stderr",
          "text": [
            "/usr/local/lib/python3.10/dist-packages/ipykernel/ipkernel.py:283: DeprecationWarning:\n",
            "\n",
            "`should_run_async` will not call `transform_cell` automatically in the future. Please pass the result to `transformed_cell` argument and any exception that happen during thetransform in `preprocessing_exc_tuple` in IPython 7.17 and above.\n",
            "\n"
          ]
        }
      ]
    },
    {
      "cell_type": "code",
      "source": [
        "tweets[:5]"
      ],
      "metadata": {
        "colab": {
          "base_uri": "https://localhost:8080/"
        },
        "id": "Kmlj3h9qZbDd",
        "outputId": "4d170250-1fa9-42dd-9e86-f358521d05a5"
      },
      "execution_count": null,
      "outputs": [
        {
          "output_type": "stream",
          "name": "stderr",
          "text": [
            "/usr/local/lib/python3.10/dist-packages/ipykernel/ipkernel.py:283: DeprecationWarning:\n",
            "\n",
            "`should_run_async` will not call `transform_cell` automatically in the future. Please pass the result to `transformed_cell` argument and any exception that happen during thetransform in `preprocessing_exc_tuple` in IPython 7.17 and above.\n",
            "\n"
          ]
        },
        {
          "output_type": "execute_result",
          "data": {
            "text/plain": [
              "[['late', 'simpl', 'easi', 'input', 'sunday', 'vibe', 'mood'],\n",
              " ['lettuc', 'wrap', 'short', 'ytshort', 'lunch'],\n",
              " ['humor'],\n",
              " ['zone',\n",
              "  'balanc',\n",
              "  'meal',\n",
              "  'carb',\n",
              "  'block',\n",
              "  'kodiak',\n",
              "  'pancak',\n",
              "  'egg',\n",
              "  'zone'],\n",
              " ['expert',\n",
              "  'say',\n",
              "  'top',\n",
              "  'type',\n",
              "  'improv',\n",
              "  'brain',\n",
              "  'prevent',\n",
              "  'dementia',\n",
              "  'share']]"
            ]
          },
          "metadata": {},
          "execution_count": 41
        }
      ]
    },
    {
      "cell_type": "code",
      "source": [
        "# Create a dictionary based on the tokenized words of all the tweets.\n",
        "dictionary = corpora.Dictionary(tweets)\n",
        "\n",
        "# Save the above dictionary as a local file for LDA model to access.\n",
        "dictionary.save(os.path.join(TEMP_FOLDER, 'tweets.dict'))"
      ],
      "metadata": {
        "colab": {
          "base_uri": "https://localhost:8080/"
        },
        "id": "QK5vo96AZgU6",
        "outputId": "80461a6c-c896-4523-a433-3783ac130980"
      },
      "execution_count": null,
      "outputs": [
        {
          "output_type": "stream",
          "name": "stderr",
          "text": [
            "/usr/local/lib/python3.10/dist-packages/ipykernel/ipkernel.py:283: DeprecationWarning:\n",
            "\n",
            "`should_run_async` will not call `transform_cell` automatically in the future. Please pass the result to `transformed_cell` argument and any exception that happen during thetransform in `preprocessing_exc_tuple` in IPython 7.17 and above.\n",
            "\n"
          ]
        }
      ]
    },
    {
      "cell_type": "code",
      "source": [
        "# Print the dictionary\n",
        "print(dictionary.token2id)"
      ],
      "metadata": {
        "colab": {
          "base_uri": "https://localhost:8080/"
        },
        "id": "nNhdykBLZvIb",
        "outputId": "313bb63b-f835-4c7d-9daa-9e4af8628a56"
      },
      "execution_count": null,
      "outputs": [
        {
          "output_type": "stream",
          "name": "stdout",
          "text": [
            "{'easi': 0, 'input': 1, 'late': 2, 'mood': 3, 'simpl': 4, 'sunday': 5, 'vibe': 6, 'lettuc': 7, 'lunch': 8, 'short': 9, 'wrap': 10, 'ytshort': 11, 'humor': 12, 'balanc': 13, 'block': 14, 'carb': 15, 'egg': 16, 'kodiak': 17, 'meal': 18, 'pancak': 19, 'zone': 20, 'brain': 21, 'dementia': 22, 'expert': 23, 'improv': 24, 'prevent': 25, 'say': 26, 'share': 27, 'top': 28, 'type': 29, 'bodi': 30, 'fuel': 31, 'hard': 32, 'immun': 33, 'support': 34, 'system': 35, 'winter': 36, 'alreadi': 37, 'chef': 38, 'excit': 39, 'garden': 40, 'lescargotbleu': 41, 'look': 42, 'next': 43, 'nodig': 44, 'progress': 45, 'season': 46, 'sustain': 47, 'check': 48, 'dietplan': 49, 'got': 50, 'healthtip': 51, 'mealprep': 52, 'statu': 53, 'step': 54, 'vitamin': 55, 'vitamind': 56, 'what': 57, 'anim': 58, 'animalcruelti': 59, 'bangmo': 60, 'bowel': 61, 'diseas': 62, 'endfactoryfarm': 63, 'fed': 64, 'gmo': 65, 'govern': 66, 'haemorrhag': 67, 'intestin': 68, 'involv': 69, 'kept': 70, 'knowledg': 71, 'outsid': 72, 'pig': 73, 'pork': 74, 'problemsstomach': 75, 'show': 76, 'studi': 77, 'think': 78, 'ulcer': 79, 'view': 80, 'empti': 81, 'keep': 82, 'shelv': 83, 'thing': 84, 'deuteronomi': 85, 'everyday': 86, 'foodbytheword': 87, 'option': 88, 'provid': 89, 'qualiti': 90, 'age': 91, 'foodblogg': 92, 'practic': 93, 'raw': 94, 'start': 95, 'thrive': 96, 'yearround': 97, 'common': 98, 'eaten': 99, 'healthiest': 100, 'world': 101, 'build': 102, 'cleanair': 103, 'cleanenergi': 104, 'done': 105, 'emiss': 106, 'healthmatt': 107, 'home': 108, 'insid': 109, 'littl': 110, 'methan': 111, 'postmet': 112, 'socal': 113, 'work': 114, 'car': 115, 'faith': 116, 'gratitud': 117, 'light': 118, 'medit': 119, 'peac': 120, 'realest': 121, 'space': 122, 'webdesign': 123, 'websit': 124, 'wethenorth': 125, 'analyt': 126, 'bark': 127, 'beta': 128, 'cinnamon': 129, 'dietarysuppl': 130, 'differ': 131, 'explain': 132, 'gershon': 133, 'haley': 134, 'naturalproduct': 135, 'oil': 136, 'synthet': 137, 'tell': 138, 'test': 139, 'audio': 140, 'gem': 141, 'listen': 142, 'berri': 143, 'dont': 144, 'goji': 145, 'ill': 146, 'much': 147, 'need': 148, 'offer': 149, 'realli': 150, 'spirulina': 151, 'delici': 152, 'eden': 153, 'essenti': 154, 'fat': 155, 'glutenfre': 156, 'kosher': 157, 'macrobiot': 158, 'nongmo': 159, 'nutrient': 160, 'tasti': 161, 'unadulter': 162, 'veget': 163, 'antioxidantsluteinzeaxanthin': 164, 'bonesrich': 165, 'bp': 166, 'c': 167, 'cancer': 168, 'chilli': 169, 'collagen': 170, 'control': 171, 'drkristieleong': 172, 'eye': 173, 'green': 174, 'hair': 175, 'help': 176, 'high': 177, 'kristenjakobitz': 178, 'lorishemek': 179, 'lower': 180, 'n': 181, 'organiclivefood': 182, 'phosphorusfor': 183, 'potassium': 184, 'risk': 185, 'skin': 186, 'spice': 187, 'creat': 188, 'eatinghabit': 189, 'medicalcondit': 190, 'onlin': 191, 'particip': 192, 'person': 193, 'survey': 194, 'surveycircl': 195, 'topic': 196, 'track': 197, 'clean': 198, 'drmaran': 199, 'frozen': 200, 'long': 201, 'often': 202, 'refriger': 203, 'springfieldwellnesscentr': 204, 'store': 205, 'becom': 206, 'complic': 207, 'firstworldproblem': 208, 'medium': 209, 'publish': 210, 'amymcgorri': 211, 'bossbabetweet': 212, 'daili': 213, 'global': 214, 'latest': 215, 'thank': 216, 'thevegspac': 217, 'clam': 218, 'crab': 219, 'crawfish': 220, 'crayfish': 221, 'lobster': 222, 'mackerel': 223, 'mussel': 224, 'oyster': 225, 'salmon': 226, 'sardin': 227, 'scallop': 228, 'tuna': 229, 'al': 230, 'café': 231, 'coffeelov': 232, 'cuerpo': 233, 'el': 234, 'foodampdrinkhealth': 235, 'hace': 236, 'learnspanish': 237, 'no': 238, 'qué': 239, 'spanishspeak': 240, 'spanishteach': 241, 'video': 242, 'among': 243, 'attempt': 244, 'awar': 245, 'consequ': 246, 'consumpt': 247, 'excess': 248, 'gener': 249, 'millenni': 250, 'modernday': 251, 'popular': 252, 'reduc': 253, 'resolut': 254, 'swear': 255, 'voluntarili': 256, 'year': 257, 'z': 258, 'function': 259, 'import': 260, 'nutrit': 261, 'protein': 262, 'qualti': 263, 'role': 264, 'everi': 265, 'tomato': 266, 'treasureblogland': 267, 'fresh': 268, 'ingredi': 269, 'kitchen': 270, 'savvi': 271, 'spend': 272, 'addit': 273, 'almond': 274, 'cacao': 275, 'eatloc': 276, 'go': 277, 'granola': 278, 'instafood': 279, 'nomnom': 280, 'parfait': 281, 'quick': 282, 'roast': 283, 'salad': 284, 'smoothi': 285, 'snack': 286, 'ummm': 287, 'champion': 288, 'chilternsaonb': 289, 'citi': 290, 'fruit': 291, 'great': 292, 'link': 293, 'manag': 294, 'natur': 295, 'orchard': 296, 'orchardmitcham': 297, 'recognis': 298, 'restor': 299, 'tradit': 300, 'valu': 301, 'volunt': 302, 'whilst': 303, 'appam': 304, 'bing': 305, 'breakfaststori': 306, 'homecook': 307, 'affect': 308, 'gleanwel': 309, 'lifestylemedicin': 310, 'longev': 311, 'mental': 312, 'advertis': 313, 'amaz': 314, 'australia': 315, 'brainwash': 316, 'collus': 317, 'confirm': 318, 'cover': 319, 'dairi': 320, 'empathi': 321, 'excus': 322, 'industri': 323, 'lack': 324, 'masculin': 325, 'media': 326, 'men': 327, 'cook': 328, 'dish': 329, 'final': 330, 'foodi': 331, 'healthi': 332, 'healthycook': 333, 'see': 334, 'spaghetti': 335, 'spaghettisauc': 336, 'yummi': 337, 'artichok': 338, 'asparagu': 339, 'bean': 340, 'beet': 341, 'bell': 342, 'broccoli': 343, 'brussel': 344, 'cabbag': 345, 'carrot': 346, 'celeri': 347, 'fava': 348, 'fennel': 349, 'garlic': 350, 'kale': 351, 'leek': 352, 'mushroom': 353, 'onion': 354, 'pea': 355, 'pepper': 356, 'potato': 357, 'radicchio': 358, 'red': 359, 'spinach': 360, 'sprout': 361, 'sweet': 362, 'dine': 363, 'groceri': 364, 'worst': 365, 'minut': 366, 'nut': 367, 'oat': 368, 'youtub': 369, 'arm': 370, 'bare': 371, 'lift': 372, 'deal': 373, 'insomnia': 374, 'insomniac': 375, 'night': 376, 'take': 377, 'burger': 378, 'foodtruck': 379, 'fri': 380, 'gta': 381, 'hotdog': 382, 'poutin': 383, 'shout': 384, 'smilintom': 385, 'toronto': 386, 'town': 387, 'truck': 388, 'agricultur': 389, 'conserv': 390, 'environ': 391, 'foodsecur': 392, 'ht': 393, 'insect': 394, 'letstalksci': 395, 'scienc': 396, 'soon': 397, 'stem': 398, 'steme': 399, 'stemeduc': 400, 'theeconomist': 401, 'rule': 402, 'brainsurgerysuvivor': 403, 'call': 404, 'cant': 405, 'eatclean': 406, 'eatingright': 407, 'fake': 408, 'holistich': 409, 'holistichealth': 410, 'organicif': 411, 'reproduc': 412, 'seed': 413, 'stop': 414, 'want': 415, 'blood': 416, 'guid': 417, 'healthier': 418, 'heart': 419, 'institut': 420, 'kid': 421, 'lung': 422, 'nation': 423, 'part': 424, 'right': 425, 'slow': 426, 'suggest': 427, 'tap': 428, 'use': 429, 'whoa': 430, 'effect': 431, 'moringa': 432, 'oleifera': 433, 'review': 434, 'scholaralert': 435, 'therapeut': 436, 'alway': 437, 'certifi': 438, 'degre': 439, 'here': 440, 'loseweight': 441, 'nutritionist': 442, 'without': 443, 'youv': 444, 'recal': 445, 'st': 446, 'subscrib': 447, 'banana': 448, 'benzinga': 449, 'comedi': 450, 'deadli': 451, 'diet': 452, 'dietcultur': 453, 'dietician': 454, 'dinner': 455, 'foodporn': 456, 'includ': 457, 'one': 458, 'spi': 459, 'weirdest': 460, 'also': 461, 'asthma': 462, 'cardiovascular': 463, 'cholesterol': 464, 'chronic': 465, 'citru': 466, 'flavonoid': 467, 'foodandbeverag': 468, 'foodanddrink': 469, 'healthyheart': 470, 'ii': 471, 'major': 472, 'oxiblast': 473, 'safe': 474, 'activ': 475, 'choic': 476, 'choos': 477, 'coach': 478, 'come': 479, 'drink': 480, 'feel': 481, 'highest': 482, 'level': 483, 'mind': 484, 'movement': 485, 'reach': 486, 'sleep': 487, 'social': 488, 'wellnesslifecoach': 489, 'saturday': 490, 'brainhealth': 491, 'optim': 492, 'physic': 493, 'saturdaymotiv': 494, 'saturdaythought': 495, 'ur': 496, 'eattherich': 497, 'heck': 498, 'weedlov': 499, 'weekend': 500, 'big': 501, 'constantli': 502, 'crave': 503, 'grow': 504, 'ignor': 505, 'lead': 506, 'make': 507, 'monster': 508, 'munipul': 509, 'tastebud': 510, 'teach': 511, 'wealth': 512, 'yumbotspic': 513, 'back': 514, 'cognit': 515, 'growth': 516, 'insight': 517, 'mainstream': 518, 'market': 519, 'research': 520, 'spinsllc': 521, 'strong': 522, 'trend': 523, 'amount': 524, 'gram': 525, 'greek': 526, 'less': 527, 'sweeten': 528, 'x': 529, 'yogurt': 530, 'fact': 531, 'gather': 532, 'healthiknow': 533, 'iknow': 534, 'integrativehealth': 535, 'ketogen': 536, 'ketosi': 537, 'myth': 538, 'partner': 539, 'weampxv': 540, 'alcohol': 541, 'articl': 542, 'ask': 543, 'blogger': 544, 'dynt': 545, 'give': 546, 'he': 547, 'head': 548, 'neat': 549, 'particularli': 550, 'pictureoftheday': 551, 'pungent': 552, 'someth': 553, 'canneri': 554, 'delish': 555, 'heat': 556, 'hungri': 557, 'indiana': 558, 'overnight': 559, 'real': 560, 'saturdaymorn': 561, 'soak': 562, 'thoroughli': 563, 'cooker': 564, 'csgood': 565, 'made': 566, 'obsolet': 567, 'rice': 568, 'ricecook': 569, 'favorit': 570, 'favoritem': 571, 'question': 572, 'questionoftheday': 573, 'beverag': 574, 'beyond': 575, 'direct': 576, 'goe': 577, 'habit': 578, 'impact': 579, 'overal': 580, 'promot': 581, 'properti': 582, 'chocol': 583, 'dark': 584, 'depress': 585, 'devis': 586, 'dr': 587, 'mantra': 588, 'nytim': 589, 'patient': 590, 'ramsey': 591, 'rememb': 592, 'seafood': 593, 'caser': 594, 'coronavirusupd': 595, 'immunesystem': 596, 'k': 597, 'map': 598, 'naijaloveinfo': 599, 'nonvaccin': 600, 'per': 601, 'term': 602, 'vaccin': 603, 'cheap': 604, 'process': 605, 'takeaway': 606, 'digest': 607, 'fiber': 608, 'rich': 609, 'uttarakhand': 610, 'dash': 611, 'wed': 612, 'angri': 613, 'bar': 614, 'better': 615, 'cab': 616, 'ceo': 617, 'cost': 618, 'cut': 619, 'greatgam': 620, 'grr': 621, 'idea': 622, 'ipo': 623, 'key': 624, 'leadership': 625, 'mile': 626, 'pinw': 627, 'plotinword': 628, 'reject': 629, 'restaur': 630, 'snore': 631, 'startup': 632, 'walk': 633, 'cheat': 634, 'counteract': 635, 'fatti': 636, 'five': 637, 'lipid': 638, 'sugari': 639, 'unhealthi': 640, 'that': 641, 'babydiet': 642, 'खऊपऊ': 643, 'घलतन': 644, 'चक': 645, 'टळ': 646, 'बळल': 647, 'य': 648, 'boil': 649, 'british': 650, 'crispi': 651, 'pleas': 652, 'retweet': 653, 'risotto': 654, 'soft': 655, 'book': 656, 'find': 657, 'addict': 658, 'almost': 659, 'avoid': 660, 'basi': 661, 'bettertogeth': 662, 'everyon': 663, 'fast': 664, 'human': 665, 'meant': 666, 'regular': 667, 'soul': 668, 'thinkingl': 669, 'bottl': 670, 'cityscopeofpeopleandplac': 671, 'compani': 672, 'fruitsandveget': 673, 'limit': 674, 'miss': 675, 'niyya': 676, 'premium': 677, 'soulreliev': 678, 'tast': 679, 'today': 680, 'biotin': 681, 'biotinhair': 682, 'biotinloss': 683, 'haircar': 684, 'haircaretip': 685, 'healthyhair': 686, 'issu': 687, 'loss': 688, 'medplusonetv': 689, 'might': 690, 'reason': 691, 'suffer': 692, 'watch': 693, 'couldnt': 694, 'logo': 695, 'morganfreeman': 696, 'said': 697, 'humbl': 698, 'belief': 699, 'bodypositv': 700, 'break': 701, 'cultur': 702, 'let': 703, 'nurtur': 704, 'period': 705, 'phobia': 706, 'propag': 707, 'societi': 708, 'stigma': 709, 'toxic': 710, 'compass': 711, 'thegodfath': 712, 'blog': 713, 'g': 714, 'antioxid': 715, 'caper': 716, 'delay': 717, 'desalt': 718, 'enrich': 719, 'preserv': 720, 'salt': 721, 'vegan': 722, 'veganuari': 723, 'well': 724, 'lose': 725, 'dirt': 726, 'factori': 727, 'grew': 728, 'moran': 729, 'victoria': 730, 'calori': 731, 'medicin': 732, 'pioppi': 733, 'read': 734, 'recommend': 735, 'acid': 736, 'adrenalin': 737, 'amino': 738, 'cortisol': 739, 'enough': 740, 'glycogen': 741, 'heal': 742, 'liver': 743, 'muscl': 744, 'pull': 745, 'releas': 746, 'themoreyouknow': 747, 'thymu': 748, 'confus': 749, 'difficult': 750, 'harvardchansph': 751, 'nononsens': 752, 'recent': 753, 'soy': 754, 'definit': 755, 'duplicit': 756, 'infam': 757, 'label': 758, 'legal': 759, 'lesson': 760, 'phrase': 761, 'shop': 762, 'fault': 763, 'selfimprov': 764, 'your': 765, 'gliadin': 766, 'gluten': 767, 'learn': 768, 'wheat': 769, 'feb': 770, 'jan': 771, 'plan': 772, 'appl': 773, 'apricot': 774, 'avocado': 775, 'blackberri': 776, 'blueberri': 777, 'cherri': 778, 'cranberri': 779, 'fig': 780, 'grape': 781, 'grapefruit': 782, 'lemon': 783, 'mango': 784, 'melon': 785, 'orang': 786, 'papaya': 787, 'pear': 788, 'pineappl': 789, 'plum': 790, 'raspberri': 791, 'strawberri': 792, 'watermelon': 793, 'zujgikkiwsi': 794, 'decis': 795, 'liter': 796, 'number': 797, 'bbc': 798, 'cookeri': 799, 'note': 800, 'place': 801, 'programm': 802, 'seen': 803, 'bone': 804, 'chang': 805, 'cross': 806, 'especi': 807, 'extrem': 808, 'howev': 809, 'posit': 810, 'result': 811, 'way': 812, 'birthfact': 813, 'enlighten': 814, 'eyessinc': 815, 'glass': 816, 'ferment': 817, 'honey': 818, 'manuka': 819, 'manukahoney': 820, 'sure': 821, 'anyon': 822, 'bigoil': 823, 'corpor': 824, 'delusion': 825, 'dictat': 826, 'drive': 827, 'free': 828, 'ga': 829, 'live': 830, 'pay': 831, 'price': 832, 'wage': 833, 'aba': 834, 'abia': 835, 'detox': 836, 'detoxif': 837, 'easili': 838, 'forget': 839, 'reboot': 840, 'rescu': 841, 'seem': 842, 'women': 843, 'channel': 844, 'whattoeatforbeautyandhealth': 845, 'candida': 846, 'theorganicview': 847, 'accept': 848, 'bioaccumul': 849, 'biomagnif': 850, 'cmpascal': 851, 'contamin': 852, 'countri': 853, 'dialog': 854, 'edibl': 855, 'exposur': 856, 'foodchain': 857, 'fulli': 858, 'intern': 859, 'japanes': 860, 'multipl': 861, 'particl': 862, 'secur': 863, 'yepper': 864, 'california': 865, 'grit': 866, 'insur': 867, 'losangel': 868, 'shrimp': 869, 'southern': 870, 'week': 871, 'cooki': 872, 'move': 873, 'nighttim': 874, 'nighttimeninja': 875, 'ninja': 876, 'pursuit': 877, 'self': 878, 'smartwatch': 879, 'surround': 880, 'tech': 881, 'black': 882, 'brown': 883, 'chickpea': 884, 'grain': 885, 'kidney': 886, 'lentil': 887, 'navi': 888, 'soybean': 889, 'split': 890, 'whole': 891, 'lifecoach': 892, 'maintain': 893, 'nourish': 894, 'purifi': 895, 'reshapeyourlif': 896, 'supplement': 897, 'add': 898, 'calcium': 899, 'boatload': 900, 'coogan': 901, 'foodcod': 902, 'healtyeat': 903, 'ramuzeghiza': 904, 'samantha': 905, 'useless': 906, 'youll': 907, 'run': 908, 'spectacular': 909, 'guardian': 910, 'magazin': 911, 'name': 912, 'notic': 913, 'sainsburi': 914, 'soup': 915, 'tempt': 916, 'connect': 917, 'contact': 918, 'lite': 919, 'socialmedia': 920, 'cerascreen': 921, 'lost': 922, 'mean': 923, 'method': 924, 'miner': 925, 'prepar': 926, 'veg': 927, 'wrong': 928, 'could': 929, 'david': 930, 'h': 931, 'junk': 932, 'mani': 933, 'murdock': 934, 'obes': 935, 'friday': 936, 'letsgo': 937, 'mathemat': 938, 'still': 939, 'indigochild': 940, 'christian': 941, 'genesi': 942, 'associ': 943, 'dietari': 944, 'evid': 945, 'mortal': 946, 'nutrreview': 947, 'pattern': 948, 'survivor': 949, 'concern': 950, 'continu': 951, 'fight': 952, 'incorrect': 953, 'nonutriscor': 954, 'nutriscor': 955, 'offici': 956, 'order': 957, 'spread': 958, 'unfair': 959, 'voic': 960, 'weekli': 961, 'abudhabi': 962, 'chili': 963, 'inabudhabi': 964, 'serv': 965, 'uae': 966, 'weather': 967, 'biodivers': 968, 'climateposit': 969, 'countrysid': 970, 'farm': 971, 'lof': 972, 'regist': 973, 'showcas': 974, 'togeth': 975, 'befit': 976, 'consist': 977, 'defeatncd': 978, 'fish': 979, 'supportlocalbusi': 980, 'teamfiji': 981, 'ad': 982, 'bit': 983, 'bottom': 984, 'box': 985, 'content': 986, 'finish': 987, 'interest': 988, 'iti': 989, 'manufactur': 990, 'packag': 991, 'pizza': 992, 'product': 993, 'respons': 994, 'there': 995, 'warn': 996, 'warningsfood': 997, 'would': 998, 'wouldnt': 999, 'burn': 1000, 'howtoloseweight': 1001, 'insulin': 1002, 'insulinfood': 1003, 'insulinresist': 1004, 'insulinresistancediet': 1005, 'resist': 1006, 'revers': 1007, 'weightlossdiet': 1008, 'assess': 1009, 'colead': 1010, 'congrat': 1011, 'consider': 1012, 'cordioea': 1013, 'dobura': 1014, 'econom': 1015, 'environment': 1016, 'glac': 1017, 'inform': 1018, 'interlinkag': 1019, 'ipb': 1020, 'member': 1021, 'network': 1022, 'synergi': 1023, 'tradeoff': 1024, 'allow': 1025, 'compromis': 1026, 'homechef': 1027, 'perfect': 1028, 'revitalis': 1029, 'time': 1030, 'turn': 1031, 'uncertain': 1032, 'care': 1033, 'keto': 1034, 'ketodiet': 1035, 'singapor': 1036, 'singaporehealth': 1037, 'adma': 1038, 'biscuit': 1039, 'milk': 1040, 'rio': 1041, 'treat': 1042, 'benefit': 1043, 'click': 1044, 'contain': 1045, 'iron': 1046, 'manganes': 1047, 'athlet': 1048, 'vegandiet': 1049, 'boost': 1050, 'coronapandemi': 1051, 'coronaposit': 1052, 'coronaupd': 1053, 'coronaviru': 1054, 'covaxin': 1055, 'covidtest': 1056, 'covishield': 1057, 'faster': 1058, 'full': 1059, 'getvaccin': 1060, 'omicron': 1061, 'recov': 1062, 'diettip': 1063, 'longer': 1064, 'may': 1065, 'parkinson': 1066, 'wine': 1067, 'chronicil': 1068, 'excel': 1069, 'gut': 1070, 'guthealth': 1071, 'lean': 1072, 'anoth': 1073, 'commun': 1074, 'discuss': 1075, 'educ': 1076, 'equiti': 1077, 'globalhealth': 1078, 'guest': 1079, 'join': 1080, 'justic': 1081, 'ourfuturea': 1082, 'save': 1083, 'soil': 1084, 'timefood': 1085, 'blackcolour': 1086, 'compound': 1087, 'healthpromot': 1088, 'load': 1089, 'photo': 1090, 'pictur': 1091, 'ableist': 1092, 'classist': 1093, 'fatphob': 1094, 'properli': 1095, 'racist': 1096, 'hiphop': 1097, 'maryjblig': 1098, 'music': 1099, 'celebr': 1100, 'januari': 1101, 'th': 1102, 'timeoutinafrica': 1103, 'aliv': 1104, 'bud': 1105, 'childhood': 1106, 'immedi': 1107, 'leav': 1108, 'longterm': 1109, 'ndari': 1110, 'parent': 1111, 'poverti': 1112, 'prime': 1113, 'tri': 1114, 'butter': 1115, 'collard': 1116, 'holi': 1117, 'honest': 1118, 'insert': 1119, 'lima': 1120, 'minim': 1121, 'okra': 1122, 'plain': 1123, 'saltedseason': 1124, 'squash': 1125, 'steam': 1126, 'wordidea': 1127, 'panel': 1128, 'upcom': 1129, 'aquafaba': 1130, 'attract': 1131, 'follow': 1132, 'foodtrend': 1133, 'meta': 1134, 'believ': 1135, 'comeatm': 1136, 'day': 1137, 'im': 1138, 'imonon': 1139, 'ive': 1140, 'mess': 1141, 'oasi': 1142, 'oasisl': 1143, 'slack': 1144, 'sogood': 1145, 'spici': 1146, 'tonight': 1147, 'answer': 1148, 'cruel': 1149, 'frogsht': 1150, 'fruitveglegum': 1151, 'isnt': 1152, 'sensibl': 1153, 'bed': 1154, 'benefitsand': 1155, 'eatthisnotthat': 1156, 'explor': 1157, 'greater': 1158, 'list': 1159, 'pose': 1160, 'rank': 1161, 'uniqu': 1162, 'ami': 1163, 'behemoth': 1164, 'complaint': 1165, 'divis': 1166, 'file': 1167, 'formal': 1168, 'interven': 1169, 'occup': 1170, 'plant': 1171, 'regul': 1172, 'rosa': 1173, 'safeti': 1174, 'santa': 1175, 'usa': 1176, 'veganfood': 1177, 'worker': 1178, 'workersafeti': 1179, 'dystopian': 1180, 'permacultur': 1181, 'prepper': 1182, 'surviv': 1183, 'advisori': 1184, 'board': 1185, 'editori': 1186, 'esteem': 1187, 'outlook': 1188, 'predict': 1189, 'agenc': 1190, 'boston': 1191, 'embrac': 1192, 'enter': 1193, 'pr': 1194, 'prplu': 1195, 'veganrestaur': 1196, 'stay': 1197, 'arriv': 1198, 'brilliant': 1199, 'famili': 1200, 'forth': 1201, 'initi': 1202, 'prison': 1203, 'three': 1204, 'train': 1205, 'valley': 1206, 'visitor': 1207, 'wholesom': 1208, 'allergi': 1209, 'certain': 1210, 'condit': 1211, 'gastrointestin': 1212, 'inabl': 1213, 'intoler': 1214, 'problem': 1215, 'refer': 1216, 'subsequ': 1217, 'cuisin': 1218, 'deserv': 1219, 'fastfoodiescheatday': 1220, 'get': 1221, 'lb': 1222, 'reward': 1223, 'savingmylif': 1224, 'slice': 1225, 'splurg': 1226, 'thursdayvib': 1227, 'weightlossjourney': 1228, 'icu': 1229, 'livingfitandwel': 1230, 'matthew': 1231, 'mindful': 1232, 'quickli': 1233, 'bring': 1234, 'effort': 1235, 'happen': 1236, 'jillian': 1237, 'michael': 1238, 'singl': 1239, 'transform': 1240, 'carbohydr': 1241, 'four': 1242, 'access': 1243, 'brand': 1244, 'cam': 1245, 'goplantx': 1246, 'increas': 1247, 'invest': 1248, 'newton': 1249, 'nfl': 1250, 'plantx': 1251, 'star': 1252, 'vega': 1253, 'bpa': 1254, 'profession': 1255, 'cobbcounti': 1256, 'restaurantr': 1257, 'fatburn': 1258, 'fatloss': 1259, 'ever': 1260, 'exercis': 1261, 'healthylif': 1262, 'mealtim': 1263, 'aday': 1264, 'decid': 1265, 'earlyyear': 1266, 'eyf': 1267, 'healthandfit': 1268, 'like': 1269, 'post': 1270, 'tbt': 1271, 'touch': 1272, 'weve': 1273, 'bien': 1274, 'caitlynlola': 1275, 'comida': 1276, 'espero': 1277, 'photooftheday': 1278, 'picoftheday': 1279, 'que': 1280, 'queso': 1281, 'salud': 1282, 'sepan': 1283, 'sinmireflexconmimovil': 1284, 'te': 1285, 'uva': 1286, 'biju': 1287, 'bodybybiju': 1288, 'custom': 1289, 'personaltrain': 1290, 'spokan': 1291, 'success': 1292, 'weightgain': 1293, 'eg': 1294, 'etc': 1295, 'foodsystem': 1296, 'goal': 1297, 'healthyc': 1298, 'hospit': 1299, 'locallysourc': 1300, 'meet': 1301, 'public': 1302, 'school': 1303, 'state': 1304, 'workplac': 1305, 'attack': 1306, 'eatingwel': 1307, 'foodrecip': 1308, 'satisfi': 1309, 'snackattack': 1310, 'snackrecip': 1311, 'energydrink': 1312, 'healthandwel': 1313, 'isotonix': 1314, 'noth': 1315, 'packet': 1316, 'aspect': 1317, 'bacteria': 1318, 'behavior': 1319, 'influenc': 1320, 'mouth': 1321, 'award': 1322, 'ecommerc': 1323, 'edit': 1324, 'em': 1325, 'emhma': 1326, 'marcom': 1327, 'nomin': 1328, 'platform': 1329, 'rd': 1330, 'innov': 1331, 'newslett': 1332, 'technolog': 1333, 'balanceddiet': 1334, 'sehatnama': 1335, 'theinquilab': 1336, 'بھوکا': 1337, 'رہنا': 1338, 'ضروری': 1339, 'لیے': 1340, 'موٹاپا': 1341, 'کرنے': 1342, 'کم': 1343, 'کیا': 1344, 'کے': 1345, 'ہے': 1346, 'fruitsvegyear': 1347, 'iyfv': 1348, 'actress': 1349, 'celebritydiet': 1350, 'celebrityfit': 1351, 'eat': 1352, 'etimeslifestyl': 1353, 'malvimalhotra': 1354, 'mealplan': 1355, 'open': 1356, 'pandora': 1357, 'whatieatinaday': 1358, 'close': 1359, 'droplet': 1360, 'macro': 1361, 'shot': 1362, 'sprink': 1363, 'bodybuild': 1364, 'enquir': 1365, 'first': 1366, 'fitnessjourney': 1367, 'fitnessmodel': 1368, 'fuelsmart': 1369, 'introductori': 1370, 'love': 1371, 'smart': 1372, 'visit': 1373, 'acr': 1374, 'chemic': 1375, 'export': 1376, 'fli': 1377, 'last': 1378, 'novel': 1379, 'spray': 1380, 'uganda': 1381, 'kick': 1382, 'metro': 1383, 'charlesfr': 1384, 'frizemedia': 1385, 'functionalmedicin': 1386, 'healthfood': 1387, 'healthyeat': 1388, 'healthyeati': 1389, 'healthyeatingtip': 1390, 'lifestyleandleisur': 1391, 'nutritioneduc': 1392, 'design': 1393, 'fflresourc': 1394, 'licenc': 1395, 'pupil': 1396, 'resourc': 1397, 'secondari': 1398, 'drinker': 1399, 'inflamm': 1400, 'inflammatori': 1401, 'mbgsupplement': 1402, 'mistak': 1403, 'trigger': 1404, 'cureado': 1405, 'diabetesawar': 1406, 'diabetescontrol': 1407, 'diabetestyp': 1408, 'guidelin': 1409, 'lot': 1410, 'matter': 1411, 'fill': 1412, 'good': 1413, 'oliv': 1414, 'sandwich': 1415, 'tapenad': 1416, 'tofu': 1417, 'lifediet': 1418, 'experienc': 1419, 'kenya': 1420, 'kierkegaard': 1421, 'nairobi': 1422, 'preengineeredsteelbuildingsolut': 1423, 'realiti': 1424, 'safbuild': 1425, 'solv': 1426, 'soren': 1427, 'steel': 1428, 'steelstructur': 1429, 'foodiebeauti': 1430, 'hormon': 1431, 'imbal': 1432, 'jimrohn': 1433, 'punkquest': 1434, 'readmor': 1435, 'fix': 1436, 'morn': 1437, 'nutritionpack': 1438, 'quickandeasybreakfast': 1439, 'rawfood': 1440, 'chronicdiseas': 1441, 'economi': 1442, 'jetstarairway': 1443, 'paradox': 1444, 'protect': 1445, 'publichealth': 1446, 'typediabet': 1447, 'badpar': 1448, 'lunchabl': 1449, 'send': 1450, 'beef': 1451, 'curri': 1452, 'drunken': 1453, 'noodl': 1454, 'thai': 1455, 'w': 1456, 'album': 1457, 'data': 1458, 'dolc': 1459, 'japan': 1460, 'la': 1461, 'old': 1462, 'sampl': 1463, 'vita': 1464, 'woman': 1465, 'case': 1466, 'caus': 1467, 'even': 1468, 'indigest': 1469, 'leftov': 1470, 'poison': 1471, 'reheat': 1472, 'sever': 1473, 'rttank': 1474, 'crime': 1475, 'detect': 1476, 'effici': 1477, 'evermor': 1478, 'flow': 1479, 'provis': 1480, 'tnatureofc': 1481, 'traffic': 1482, 'util': 1483, 'wellbeinggreeninfrastructur': 1484, 'wildlif': 1485, 'bellletstalkday': 1486, 'consciousplanet': 1487, 'covid_': 1488, 'covidab': 1489, 'feed': 1490, 'fitnessgirl': 1491, 'wednesdaythought': 1492, 'headlight': 1493, 'hid': 1494, 'instal': 1495, 'xenon': 1496, 'xeon': 1497, 'homemad': 1498, 'ketchup': 1499, 'beat': 1500, 'itのパロディ遺伝子組み換えは食べちゃ駄目': 1501, 'march': 1502, 'monsanto': 1503, 'swami': 1504, 'canadianwildbb': 1505, 'clever': 1506, 'dalhousieu': 1507, 'educationnewsca': 1508, 'foodscienc': 1509, 'partnership': 1510, 'wildbberri': 1511, 'wildblueberri': 1512, 'accord': 1513, 'decreas': 1514, 'dietitian': 1515, 'ieat': 1516, 'australiaday': 1517, 'histori': 1518, 'infohttpstcongdhytlcq': 1519, 'medic': 1520, 'militari': 1521, 'vegemit': 1522, 'gross': 1523, 'journey': 1524, 'bread': 1525, 'ground': 1526, 'rye': 1527, 'heel': 1528, 'scari': 1529, 'shoe': 1530, 'accur': 1531, 'humour': 1532, 'junkfood': 1533, 'compost': 1534, 'dip': 1535, 'melbourn': 1536, 'nuffin': 1537, 'paper': 1538, 'rang': 1539, 'tub': 1540, 'herbalifenutrit': 1541, 'calf': 1542, 'cell': 1543, 'cellcultur': 1544, 'cellculturedmeat': 1545, 'cfstruefood': 1546, 'dyk': 1547, 'fetal': 1548, 'known': 1549, 'produc': 1550, 'serum': 1551, 'usda': 1552, 'vat': 1553, 'weaken': 1554, 'bigpharma': 1555, 'califf': 1556, 'commission': 1557, 'commit': 1558, 'fda': 1559, 'fdacommission': 1560, 'joebiden': 1561, 'polici': 1562, 'presidentbiden': 1563, 'prioriti': 1564, 'robertcaliff': 1565, 'safer': 1566, 'urg': 1567, 'ago': 1568, 'estim': 1569, 'foodsafeti': 1570, 'gm': 1571, 'sound': 1572, 'soya': 1573, 'uk': 1574, 'american': 1575, 'chosen': 1576, 'creatur': 1577, 'doesnt': 1578, 'dwell': 1579, 'fin': 1580, 'hispan': 1581, 'israelit': 1582, 'law': 1583, 'nativ': 1584, 'scale': 1585, 'caribbeanfood': 1586, 'flavour': 1587, 'hassl': 1588, 'hungryeyesvegan': 1589, 'menu': 1590, 'quickrecip': 1591, 'veganrecip': 1592, 'veggi': 1593, 'dothatwel': 1594, 'dothatwellpodcast': 1595, 'emot': 1596, 'emotional': 1597, 'episod': 1598, 'peek': 1599, 'podcast': 1600, 'sneak': 1601, 'tomorrow': 1602, 'broker': 1603, 'develop': 1604, 'group': 1605, 'hold': 1606, 'personaldevelop': 1607, 'schedul': 1608, 'rel': 1609, 'actual': 1610, 'breakfast': 1611, 'highprotein': 1612, 'color': 1613, 'diversifi': 1614, 'eattherainbow': 1615, 'intak': 1616, 'primewel': 1617, 'rainbow': 1618, 'sandiego': 1619, 'bloat': 1620, 'foodsensit': 1621, 'healthright': 1622, 'ib': 1623, 'instor': 1624, 'joint': 1625, 'nutritionaltherapi': 1626, 'pain': 1627, 'ring': 1628, 'sensit': 1629, 'bodyintellig': 1630, 'hear': 1631, 'tune': 1632, 'regularlywhich': 1633, 'vari': 1634, 'bore': 1635, 'chop': 1636, 'lamb': 1637, 'dog': 1638, 'inutrit': 1639, 'thediabesityexpert': 1640, 'honour': 1641, 'karnataka': 1642, 'millet': 1643, 'ragi': 1644, 'chew': 1645, 'gain': 1646, 'weightmanag': 1647, 'administ': 1648, 'amplifi': 1649, 'challeng': 1650, 'deepspacefood': 1651, 'extend': 1652, 'icymi': 1653, 'phase': 1654, 'span': 1655, 'mediterranean': 1656, 'row': 1657, 'fertil': 1658, 'folic': 1659, 'pregnanc': 1660, 'autoimmun': 1661, 'betwn': 1662, 'biomark': 1663, 'blame': 1664, 'million': 1665, 'scientist': 1666, 'spike': 1667, 'surpris': 1668, 'children': 1669, 'diabet': 1670, 'gaza': 1671, 'wakeel': 1672, 'overindulg': 1673, 'prolifer': 1674, 'tmall': 1675, 'twice': 1676, 'western': 1677, 'ash': 1678, 'coal': 1679, 'med': 1680, 'nuclear': 1681, 'peerreview': 1682, 'rad': 1683, 'radiat': 1684, 'stat': 1685, 'vax': 1686, 'affili': 1687, 'low': 1688, 'lowcarb': 1689, 'pasta': 1690, 'rotini': 1691, 'wednesdaymotiv': 1692, 'plantforward': 1693, 'hack': 1694, 'futur': 1695, 'metabol': 1696, 'fascin': 1697, 'circadian': 1698, 'clock': 1699, 'dna': 1700, 'enzym': 1701, 'factor': 1702, 'predomin': 1703, 'reset': 1704, 'secret': 1705, 'wake': 1706, 'calorieconsci': 1707, 'richer': 1708, 'substitut': 1709, 'elena': 1710, 'immuneboost': 1711, 'microgreen': 1712, 'sunshin': 1713, 'round': 1714, 'two': 1715, 'wast': 1716, 'wasteless': 1717, 'struggl': 1718, 'understand': 1719, 'kerala': 1720, 'malayalam': 1721, 'matern': 1722, 'nammudearogyam': 1723, 'pregnentwomen': 1724, 'എങങനയകണ': 1725, 'ഗർഭണയട': 1726, 'ഭകഷണശല': 1727, 'disguis': 1728, 'flour': 1729, 'destroy': 1730, 'either': 1731, 'everyth': 1732, 'fork': 1733, 'messag': 1734, 'outrun': 1735, 'rather': 1736, 'stronger': 1737, 'drake': 1738, 'feat': 1739, 'goin': 1740, 'jeezi': 1741, 'liltunechi': 1742, 'version': 1743, 'expens': 1744, 'item': 1745, 'abus': 1746, 'cherish': 1747, 'lightli': 1748, 'materialist': 1749, 'sit': 1750, 'ultim': 1751, 'wont': 1752, 'bakeri': 1753, 'cake': 1754, 'deepfri': 1755, 'eathealthi': 1756, 'hydrogen': 1757, 'nepal': 1758, 'overwhelmingli': 1759, 'present': 1760, 'tran': 1761, 'transfat': 1762, 'citizen': 1763, 'lobbi': 1764, 'regen': 1765, 'regener': 1766, 'ccot': 1767, 'gop': 1768, 'maga': 1769, 'tcot': 1770, 'bacon': 1771, 'button': 1772, 'collect': 1773, 'deep': 1774, 'els': 1775, 'fridg': 1776, 'know': 1777, 'mug': 1778, 'peel': 1779, 'rag': 1780, 'rug': 1781, 'soap': 1782, 'supplychain': 1783, 'taught': 1784, 'unwrap': 1785, 'brainfood': 1786, 'empoweryourbrain': 1787, 'foodresourc': 1788, 'foodtip': 1789, 'atkin': 1790, 'hcg': 1791, 'miracl': 1792, 'readi': 1793, 'shirataki': 1794, 'appli': 1795, 'eujob': 1796, 'european': 1797, 'hand': 1798, 'hire': 1799, 'physicalact': 1800, 'scientif': 1801, 'shape': 1802, 'skill': 1803, 'team': 1804, 'child': 1805, 'spot': 1806, 'benefici': 1807, 'phytonutri': 1808, 'plate': 1809, 'purpl': 1810, 'wellnesstip': 1811, 'yellow': 1812, 'convent': 1813, 'growyourown': 1814, 'janfeb': 1815, 'mark': 1816, 'oca': 1817, 'peatfre': 1818, 'plasticwast': 1819, 'recycl': 1820, 'set': 1821, 'blackontheris': 1822, 'creativ': 1823, 'fashion': 1824, 'financ': 1825, 'pivot': 1826, 'point': 1827, 'roundtabl': 1828, 'spotlight': 1829, 'ezekiel': 1830, 'healthlin': 1831, 'bre': 1832, 'charm': 1833, 'legend': 1834, 'leprechaun': 1835, 'lucki': 1836, 'nb_origin': 1837, 'newsbreak': 1838, 'patrick': 1839, 'power': 1840, 'writingcommun': 1841, 'anymor': 1842, 'chip': 1843, 'doc': 1844, 'sprinkl': 1845, 'told': 1846, 'voila': 1847, 'complet': 1848, 'machin': 1849, 'master': 1850, 'cleanwat': 1851, 'cloth': 1852, 'defin': 1853, 'shelter': 1854, 'theleastofu': 1855, 'dehydr': 1856, 'diy': 1857, 'howto': 1858, 'trimmer': 1859, 'u': 1860, 'adag': 1861, 'clich': 1862, 'lifestylemedi': 1863, 'myprimewel': 1864, 'nowher': 1865, 'theyr': 1866, 'true': 1867, 'inspir': 1868, 'spreaker': 1869, 'cambodian': 1870, 'consum': 1871, 'remain': 1872, 'rfakhmer': 1873, 'threaten': 1874, 'franc': 1875, 'glyphos': 1876, 'pesticid': 1877, 'proof': 1878, 'brit': 1879, 'chees': 1880, 'half': 1881, 'planet': 1882, 'artifici': 1883, 'cancerawar': 1884, 'circumst': 1885, 'focu': 1886, 'foodasmedicin': 1887, 'potent': 1888, 'select': 1889, 'somewhat': 1890, 'bodyshap': 1891, 'healthymindmentalhealth': 1892, 'physicalhealth': 1893, 'put': 1894, 'quot': 1895, 'stomach': 1896, 'tuesday': 1897, 'combo': 1898, 'conveni': 1899, 'entrepreneurship': 1900, 'win': 1901, 'annova': 1902, 'coat': 1903, 'cookwar': 1904, 'durabl': 1905, 'electron': 1906, 'ensur': 1907, 'harm': 1908, 'kitchenappli': 1909, 'omega': 1910, 'plu': 1911, 'smartkitchen': 1912, 'bio': 1913, 'blackownedbusi': 1914, 'blacktwitt': 1915, 'businessown': 1916, 'friendli': 1917, 'gel': 1918, 'moss': 1919, 'powder': 1920, 'regret': 1921, 'sea': 1922, 'seamoss': 1923, 'sunlight': 1924, 'avail': 1925, 'deliveri': 1926, 'estat': 1927, 'extra': 1928, 'frai': 1929, 'ginger': 1930, 'ikota': 1931, 'lago': 1932, 'lekki': 1933, 'pickup': 1934, 'pressur': 1935, 'road': 1936, 'supermarket': 1937, 'villa': 1938, 'zobo': 1939, 'action': 1940, 'climat': 1941, 'climateact': 1942, 'climatecrisi': 1943, 'energi': 1944, 'powerofvoic': 1945, 'due': 1946, 'hygaard': 1947, 'listeria': 1948, 'arent': 1949, 'cannot': 1950, 'correctli': 1951, 'earth': 1952, 'nowaday': 1953, 'dainikgomantak': 1954, 'dainikgomantknew': 1955, 'healthcaretip': 1956, 'असडटवर': 1957, 'उपय': 1958, 'कणत': 1959, 'घय': 1960, 'घरगत': 1961, 'जणन': 1962, 'ban': 1963, 'ml': 1964, 'nafdac': 1965, 'ndlea': 1966, 'registr': 1967, 'sachet': 1968, 'confectionari': 1969, 'gourmet': 1970, 'india': 1971, 'opportun': 1972, 'vast': 1973, 'animaldefencemx': 1974, 'hs': 1975, 'livekindlyco': 1976, 'antihypertens': 1977, 'date': 1978, 'foodgov': 1979, 'ok': 1980, 'reliabl': 1981, 'remind': 1982, 'sick': 1983, 'sniff': 1984, 'dream': 1985, 'fitnessgo': 1986, 'fitnesslifestyl': 1987, 'indiautm_sourcetwitt': 1988, 'throughout': 1989, 'youth': 1990, 'mass': 1991, 'regain': 1992, 'wonder': 1993, 'cauliflow': 1994, 'instead': 1995, 'past': 1996, 'swap': 1997, 'white': 1998, 'bethani': 1999, 'eu': 2000, 'event': 2001, 'gmt': 2002, 'hope': 2003, 'pack': 2004, 'personalizednutrit': 2005, 'roger': 2006, 'speaker': 2007, 'chocopro': 2008, 'pie': 2009, 'rollo': 2010, 'rollon': 2011, 'food_info_': 2012, 'instagram': 2013, 'tweet': 2014, 'beginn': 2015, 'nutriti': 2016, 'oper': 2017, 'p': 2018, 'smooth': 2019, 'tuesdaymotiv': 2020, 'cri': 2021, 'alkalin': 2022, 'cleaneat': 2023, 'liveyourlight': 2024, 'eatingdisord': 2025, 'poornutrit': 2026, 'ppt': 2027, 'council': 2028, 'greeninfrastructur': 2029, 'greenspac': 2030, 'park': 2031, 'uksustain': 2032, 'jennifergarn': 2033, 'kevinhart': 2034, 'kevinhartr': 2035, 'lolnetwork': 2036, 'water': 2037, 'youtubecr': 2038, 'alert': 2039, 'glow': 2040, 'rehydr': 2041, 'documentari': 2042, 'anyth': 2043, 'brunch': 2044, 'cafe': 2045, 'local': 2046, 'manli': 2047, 'relat': 2048, 'enjoy': 2049, 'virus': 2050, 'dessert': 2051, 'knowyouringredi': 2052, 'left': 2053, 'livehealthi': 2054, 'savori': 2055, 'stayfit': 2056, 'swipe': 2057, 'swipeleft': 2058, 'hffrt': 2059, 'fantast': 2060, 'callforabstract': 2061, 'felicit': 2062, 'nutrifood': 2063, 'burden': 2064, 'satiat': 2065, 'comment': 2066, 'halo': 2067, 'haloeffect': 2068, 'receiv': 2069, 'bingeeat': 2070, 'cbt': 2071, 'hae': 2072, 'inner': 2073, 'intuitive': 2074, 'sanjos': 2075, 'cow': 2076, 'cup': 2077, 'macca': 2078, 'mp': 2079, 'shake': 2080, 'sml': 2081, 'tsp': 2082, 'tumer': 2083, 'yoghurt': 2084, 'foodchoic': 2085, 'center': 2086, 'clinic': 2087, 'grant': 2088, 'monitor': 2089, 'reli': 2090, 'ucdavi': 2091, 'uncov': 2092, 'grill': 2093, 'mahi': 2094, 'current': 2095, 'dalla': 2096, 'eatwel': 2097, 'foodismedicin': 2098, 'headquart': 2099, 'host': 2100, 'program': 2101, 'seedssoilroot': 2102, 'bathurst': 2103, 'bloor': 2104, 'canada': 2105, 'coloss': 2106, 'corner': 2107, 'herb': 2108, 'jame': 2109, 'near': 2110, 'ontario': 2111, 'pecan': 2112, 'rowan': 2113, 'size': 2114, 'street': 2115, 'west': 2116, 'absolut': 2117, 'drain': 2118, 'letharg': 2119, 'tip': 2120, 'trick': 2121, 'caloriedeficit': 2122, 'deficit': 2123, 'ig': 2124, 'meatlessmeat': 2125, 'realfood': 2126, 'veganmeat': 2127, 'wholefood': 2128, 'colada': 2129, 'cold': 2130, 'pina': 2131, 'ramen': 2132, 'ramennoodl': 2133, 'bbcidea': 2134, 'behind': 2135, 'doughnut': 2136, 'around': 2137, 'nationalpeanutbutterday': 2138, 'peanut': 2139, 'protien': 2140, 'sourc': 2141, 'usual': 2142, 'cancersurvivor': 2143, 'allinon': 2144, 'app': 2145, 'approach': 2146, 'featur': 2147, 'identifi': 2148, 'mit': 2149, 'quantifi': 2150, 'treatment': 2151, 'must': 2152, 'budget': 2153, 'buy': 2154, 'exampl': 2155, 'fitindia': 2156, 'freejuic': 2157, 'producegluten': 2158, 'thought': 2159, 'worri': 2160, 'craze': 2161, 'fad': 2162, 'microchip': 2163, 'mrt': 2164, 'proofposit': 2165, 'annual': 2166, 'jab': 2167, 'mondaythought': 2168, 'other': 2169, 'doctor': 2170, 'experi': 2171, 'healthynutrit': 2172, 'sign': 2173, 'symptom': 2174, 'здоровье': 2175, 'питание': 2176, 'twothird': 2177, 'expir': 2178, 'franchis': 2179, 'shelf': 2180, 'sold': 2181, 'bioengin': 2182, 'cornel': 2183, 'crop': 2184, 'fka': 2185, 'mandatori': 2186, 'prefer': 2187, 'probabl': 2188, 'went': 2189, 'wellbalanc': 2190, 'shower': 2191, 'ashtonunderlyn': 2192, 'foodprep': 2193, 'thursday': 2194, 'crunchi': 2195, 'eleg': 2196, 'piec': 2197, 'babi': 2198, 'formula': 2199, 'grandpar': 2200, 'medicalnutrit': 2201, 'werent': 2202, 'leyfonlin': 2203, 'greenchilli': 2204, 'healthbenefitsofgreenchilli': 2205, 'khatangkhobor': 2206, 'আচৰত': 2207, 'আছ': 2208, 'আপন': 2209, 'আহক': 2210, 'ইযত': 2211, 'ক': 2212, 'খৱৰ': 2213, 'জন': 2214, 'জলকয': 2215, 'পঢল': 2216, 'লভলভবৰ': 2217, 'হব': 2218, 'justaddscott': 2219, 'materialbe': 2220, 'ndtvfood': 2221, 'face': 2222, 'fastfood': 2223, 'polloftheday': 2224, 'qsr': 2225, 'nutn': 2226, 'foodindustri': 2227, 'foodmanufactur': 2228, 'retail': 2229, 'leafi': 2230, 'lisa': 2231, 'mosconi': 2232, 'neuroscientist': 2233, 'ten': 2234, 'turmer': 2235, 'walnut': 2236, 'dietaryfib': 2237, 'variou': 2238, 'dainikgomantaknew': 2239, 'fitnesstip': 2240, 'कम': 2241, 'कलयन': 2242, 'फट': 2243, 'वययम': 2244, 'ह': 2245, 'हईल': 2246, 'हपस': 2247, 'sale': 2248, 'peytonprincipl': 2249, 'aim': 2250, 'clearchanneluk': 2251, 'goustocook': 2252, 'kineticwwuk': 2253, 'monday': 2254, 'mondaymotiv': 2255, 'ooh': 2256, 'thestar': 2257, 'fampb': 2258, 'unlimitlif': 2259, 'zeezest': 2260, 'zestread': 2261, 'fevercough': 2262, 'ailment': 2263, 'altern': 2264, 'eczema': 2265, 'found': 2266, 'hep': 2267, 'psoriasi': 2268, 'ratanayurved': 2269, 'superb': 2270, 'vegetarian': 2271, 'ahead': 2272, 'eastafrica': 2273, 'energet': 2274, 'lover': 2275, 'madeinrwanda': 2276, 'mondayvib': 2277, 'newweek': 2278, 'shortcak': 2279, 'wish': 2280, 'disciplin': 2281, 'drjasonfung': 2282, 'magnesium': 2283, 'marikasboro': 2284, 'proftimnoak': 2285, 'utmost': 2286, 'alimentariu': 2287, 'approv': 2288, 'codex': 2289, 'framework': 2290, 'glycosid': 2291, 'stevia': 2292, 'steviol': 2293, 'unveil': 2294, 'cereal': 2295, 'fibr': 2296, 'nutrif': 2297, 'play': 2298, 'southafrica': 2299, 'super': 2300, 'vital': 2301, 'blend': 2302, 'flavor': 2303, 'karamel': 2304, 'truffl': 2305, 'awak': 2306, 'makeup': 2307, 'onlineshop': 2308, 'bethedrivingforc': 2309, 'continuegd': 2310, 'coz': 2311, 'dedic': 2312, 'keepthefireon': 2313, 'modif': 2314, 'shd': 2315, 'somen': 2316, 'somewher': 2317, 'bang': 2318, 'biolog': 2319, 'buck': 2320, 'carrier': 2321, 'insul': 2322, 'thailand': 2323, 'delight': 2324, 'drown': 2325, 'freshth': 2326, 'indulg': 2327, 'punish': 2328, 'realiz': 2329, 'bellyfat': 2330, 'weightlosstip': 2331, 'incorpor': 2332, 'sheet': 2333, 'discov': 2334, 'freestylediabet': 2335, 'garmin': 2336, 'metric': 2337, 'sundaymorn': 2338, 'chia': 2339, 'dalric': 2340, 'flax': 2341, 'mix': 2342, 'pumpkin': 2343, 'quinoa': 2344, 'sesam': 2345, 'sunflow': 2346, 'teaspoon': 2347, 'intermitt': 2348, 'sundaybrunch': 2349, 'sundayvib': 2350, 'cottag': 2351, 'pine': 2352, 'e': 2353, 'flexitarian': 2354, 'jennycraig': 2355, 'ktknutrit': 2356, 'rate': 2357, 'alzheim': 2358, 'antibacteri': 2359, 'antibiot': 2360, 'coconut': 2361, 'coconutjuic': 2362, 'coconutmeat': 2363, 'coconutwat': 2364, 'knife': 2365, 'larg': 2366, 'satur': 2367, 'superfood': 2368, 'fillet': 2369, 'hour': 2370, 'pair': 2371, 'prep': 2372, 'stew': 2373, 'eater': 2374, 'absurd': 2375, 'relationship': 2376, 'tobe': 2377, 'thread': 2378, 'ultraprocessedfood': 2379, 'enhanc': 2380, 'male': 2381, 'reproduct': 2382, 'favourit': 2383, 'pomegran': 2384, 'prais': 2385, 'daily_express': 2386, 'mediterraneandiet': 2387, 'realmediterraneandiet': 2388, 'intermittentfast': 2389, 'timerestricted': 2390, 'carnivor': 2391, 'ketocarnivor': 2392, 'ketolifestyl': 2393, 'td': 2394, 'annoy': 2395, 'garbag': 2396, 'handl': 2397, 'meme': 2398, 'saw': 2399, 'side': 2400, 'toss': 2401, 'leaki': 2402, 'anaemia': 2403, 'beetroot': 2404, 'irondefici': 2405, 'ironrich': 2406, 'legum': 2407, 'accru': 2408, 'airqual': 2409, 'decad': 2410, 'doubl': 2411, 'ghg': 2412, 'intervent': 2413, 'manifest': 2414, 'mitig': 2415, 'outdoor': 2416, 'pollut': 2417, 'solut': 2418, 'allerg': 2419, 'desensit': 2420, 'highli': 2421, 'immunotherapi': 2422, 'young': 2423, '𝒟𝒾𝑒𝒷𝒪': 2424, 'boat': 2425, 'caught': 2426, 'freethinkmedia': 2427, 'illeg': 2428, 'nightmar': 2429, 'ocean': 2430, 'oceanrobot': 2431, 'poacher': 2432, 'robot': 2433, 'thigh': 2434, 'basic': 2435, 'distort': 2436, 'portion': 2437, 'almondcrust': 2438, 'root': 2439, 'infertil': 2440, 'gujsciencec': 2441, 'incur': 2442, 'infogujcost': 2443, 'naturefood': 2444, 'outsiz': 2445, 'shift': 2446, 'small': 2447, 'dietchalleng': 2448, 'dietfood': 2449, 'gene': 2450, 'genet': 2451, 'healthyrecip': 2452, 'clothingfabr': 2453, 'dust': 2454, 'ibd': 2455, 'microplast': 2456, 'plastic': 2457, 'asian': 2458, 'cookbook': 2459, 'donatelif': 2460, 'giftoflif': 2461, 'hearttranspl': 2462, 'organdon': 2463, 'organtranspl': 2464, 'pen': 2465, 'teen': 2466, 'transplant': 2467, 'transplantnew': 2468, 'ann': 2469, 'carol': 2470, 'computertech': 2471, 'dummi': 2472, 'ebay': 2473, 'fordummi': 2474, 'rinzler': 2475, 'civil': 2476, 'collaps': 2477, 'foodsuppli': 2478, 'tucker': 2479, 'tuckercarlson': 2480, 'tea': 2481, 'advic': 2482, 'lovefood': 2483, 'tastyrecip': 2484, 'titl': 2485, 'whether': 2486, 'gold': 2487, 'silver': 2488, 'decod': 2489, 'foodforhealth': 2490, 'oh_women': 2491, 'ohwomen': 2492, 'polit': 2493, 'savetheplanet': 2494, 'urban': 2495, 'bbsrreport': 2496, 'l': 2497, 'ଆବଶୟକ': 2498, 'କଉ': 2499, 'ଖଇବ': 2500, 'ଖଦୟ': 2501, 'ଜଣ': 2502, 'ପଢନତ': 2503, 'ଲକଷଣ': 2504, 'hlagro': 2505, 'sesamese': 2506, 'beauti': 2507, 'bless': 2508, 'entir': 2509, 'friend': 2510, 'healingyourself': 2511, 'kind': 2512, 'presenc': 2513, 'rare': 2514, 'rest': 2515, 'thankyou': 2516, 'thichnhathahn': 2517, 'univers': 2518, 'whatev': 2519, 'coc': 2520, 'combin': 2521, 'dietcok': 2522, 'mhsouq': 2523, 'nutritionrobot': 2524, 'strength': 2525, 'total': 2526, 'cocacola': 2527, 'hanh': 2528, 'incompar': 2529, 'nhat': 2530, 'tich': 2531, 'press': 2532, 'return': 2533, 'stori': 2534, 'boutiqu': 2535, 'bright': 2536, 'nearest': 2537, 'amazon': 2538, 'amazonnew': 2539, 'beardfound': 2540, 'bryan': 2541, 'bryanquocl': 2542, 'emonosson': 2543, 'ift': 2544, 'le': 2545, 'lifehack': 2546, 'quoc': 2547, 'scholar': 2548, 'smarter': 2549, 'uw_deptfoodsci': 2550, 'account': 2551, 'bite': 2552, 'mindset': 2553, 'moder': 2554, 'relaxingbut': 2555, 'ruin': 2556, 'commerci': 2557, 'element': 2558, 'formalin': 2559, 'huge': 2560, 'manur': 2561, 'massiv': 2562, 'residu': 2563, 'threat': 2564, 'wakeup': 2565, 'anjali': 2566, 'karela': 2567, 'mehta': 2568, 'preassum': 2569, 'someon': 2570, 'soyabean': 2571, 'tikki': 2572, 'deni': 2573, 'equip': 2574, 'microwav': 2575, 'worm': 2576, 'bestsel': 2577, 'expos': 2578, 'fraud': 2579, 'quackeri': 2580, 'adult': 2581, 'assist': 2582, 'autumn': 2583, 'distribut': 2584, 'donat': 2585, 'facil': 2586, 'hygien': 2587, 'invit': 2588, 'nonprofit': 2589, 'oakstreethealth': 2590, 'older': 2591, 'resid': 2592, 'servic': 2593, 'shelton': 2594, 'functionalnutrit': 2595, 'amidst': 2596, 'covidimpactalert': 2597, 'informationagainstcovid': 2598, 'pandem': 2599, 'regard': 2600, 'rise': 2601, 'sport': 2602, 'toast': 2603, 'foam': 2604, 'certainli': 2605, 'empow': 2606, 'infuri': 2607, 'lie': 2608, 'pseudosci': 2609, 'woo': 2610, 'bake': 2611, 'cumin': 2612, 'momma': 2613, 'sauc': 2614, 'equal': 2615, 'film': 2616, 'foodlov': 2617, 'movi': 2618, 'naturebeauti': 2619, 'planetearth': 2620, 'mdg': 2621, 'freeschoolm': 2622, 'schoolsweek': 2623, 'updat': 2624, 'act': 2625, 'calmer': 2626, 'focus': 2627, 'happier': 2628, 'neurotransmitt': 2629, 'normal': 2630, 'serotonin': 2631, 'stabl': 2632, 'fittam': 2633, 'nutit': 2634, 'cookingyour': 2635, 'girl': 2636, 'grandma': 2637, 'cheflif': 2638, 'cobb': 2639, 'smoke': 2640, 'cuban': 2641, 'author': 2642, 'awardwin': 2643, 'childnutrit': 2644, 'met': 2645, 'billion': 2646, 'academ': 2647, 'algorithm': 2648, 'artificialintellig': 2649, 'fund': 2650, 'individu': 2651, 'lab': 2652, 'nih': 2653, 'precisionmedicin': 2654, 'digit': 2655, 'drarungarg': 2656, 'integr': 2657, 'librari': 2658, 'princeton': 2659, 'thecin': 2660, 'dayth': 2661, 'figur': 2662, 'nice': 2663, 'radio': 2664, 'ampl': 2665, 'didyouknow': 2666, 'area': 2667, 'disadvantag': 2668, 'higher': 2669, 'inequ': 2670, 'itali': 2671, 'milan': 2672, 'neighbourhood': 2673, 'poli': 2674, 'potenti': 2675, 'socioeconom': 2676, 'walkabl': 2677, 'nine': 2678, 'truli': 2679, 'guava': 2680, 'proteinrich': 2681, 'probiot': 2682, 'advis': 2683, 'azbuka': 2684, 'russian': 2685, 'vkusa': 2686, 'grate': 2687, 'greatest': 2688, 'honor': 2689, 'iin': 2690, 'incred': 2691, 'man': 2692, 'nutritionschool': 2693, 'multidisciplinari': 2694, 'popsci_italia': 2695, 'snsb': 2696, 'bloodpressur': 2697, 'upload': 2698, 'vlog': 2699, 'array': 2700, 'breastfeed': 2701, 'personalis': 2702, 'record': 2703, 'webinar': 2704, 'wide': 2705, 'confid': 2706, 'jorg': 2707, 'qampa': 2708, 'strengthen': 2709, 'wijnen': 2710, 'write': 2711, 'microbiota': 2712, 'navybean': 2713, 'ratio': 2714, 'غذا': 2715, 'متوازن': 2716, 'adapt': 2717, 'climatechang': 2718, 'ecosystem': 2719, 'insecur': 2720, 'measur': 2721, 'morbid': 2722, 'popul': 2723, 'recogn': 2724, 'seriou': 2725, 'frequent': 2726, 'hse': 2727, 'wash': 2728, 'fitov': 2729, 'menopaus': 2730, 'menopauseweightloss': 2731, 'mom': 2732, 'plateau': 2733, 'clacifiednew': 2734, 'semichealth': 2735, 'across': 2736, 'biggest': 2737, 'everywher': 2738, 'plaintain': 2739, 'applic': 2740, 'detail': 2741, 'nucleotid': 2742, 'pharmaceut': 2743, 'premix': 2744, 'chini': 2745, 'farmer': 2746, 'jaggeri': 2747, 'lifestyl': 2748, 'livelihood': 2749, 'sugarcan': 2750, 'getgreengetgrow': 2751, 'gngagritech': 2752, 'gnghagritech': 2753, 'greenstori': 2754, 'lesser': 2755, 'cheeseloversday': 2756, 'joyoung': 2757, 'king': 2758, 'mac': 2759, 'marvel': 2760, 'ton': 2761, 'whop': 2762, 'b': 2763, 'fridayfit': 2764, 'recoveri': 2765, 'scrape': 2766, 'speed': 2767, 'surgeri': 2768, 'wound': 2769, 'conscious': 2770, 'katherin': 2771, 'philosophi': 2772, 'pollan': 2773, 'psychedel': 2774, 'trauma': 2775, 'busi': 2776, 'father': 2777, 'lovedon': 2778, 'page': 2779, 'tough': 2780, 'end': 2781, 'jami': 2782, 'jamiedotst': 2783, 'photographi': 2784, 'summer': 2785, 'bubbl': 2786, 'bubbletea': 2787, 'playstat': 2788, 'ps': 2789, 'rfbubbletea': 2790, 'extravag': 2791, 'seek': 2792, 'wisdom': 2793, 'corn': 2794, 'greenmedicin': 2795, 'greenwitch': 2796, 'greenwitchtea': 2797, 'jose': 2798, 'min': 2799, 'naturalbeauti': 2800, 'organictea': 2801, 'witch': 2802, 'witchcraft': 2803, 'bowl': 2804, 'longestliv': 2805, 'okinawa': 2806, 'stapl': 2807, 'oliveoil': 2808, 'benstephan': 2809, 'mission': 2810, 'apart': 2811, 'claim': 2812, 'everclean': 2813, 'sanit': 2814, 'ul': 2815, 'verifi': 2816, 'goodhealth': 2817, 'healthydiet': 2818, 'heard': 2819, 'winterfood': 2820, 'chickenprepar': 2821, 'convers': 2822, 'pescatarian': 2823, 'grandmoth': 2824, 'michaelpollan': 2825, 'overwhelm': 2826, 'second': 2827, 'thumb': 2828, 'bad': 2829, 'foodstagram': 2830, 'guthealthi': 2831, 'microbiom': 2832, 'sugar': 2833, 'wellfunct': 2834, 'count': 2835, 'overli': 2836, 'restrict': 2837, 'smartli': 2838, 'truth': 2839, 'written': 2840, 'arsha': 2841, 'astrolog': 2842, 'ayurveda': 2843, 'conduct': 2844, 'cours': 2845, 'jyotish': 2846, 'vedicastrolog': 2847, 'aloo': 2848, 'curd': 2849, 'palak': 2850, 'parantha': 2851, 'pl': 2852, 'thursdaymorn': 2853, 'videovir': 2854, 'mayoclin': 2855, 'stuff': 2856, 'labgrown': 2857, 'lehighu': 2858, 'pave': 2859, 'buenosdia': 2860, 'de': 2861, 'desayuno': 2862, 'día': 2863, 'fácile': 2864, 'goodmorn': 2865, 'healthlov': 2866, 'iniciar': 2867, 'ligero': 2868, 'nutisha': 2869, 'nutriologa': 2870, 'para': 2871, 'preparar': 2872, 'pued': 2873, 'tu': 2874, 'depth': 2875, 'neg': 2876, 'suddenli': 2877, 'сон': 2878, 'coin': 2879, 'drip': 2880, 'dunkin': 2881, 'moneytalk': 2882, 'neither': 2883, 'smartmoney': 2884, 'starbuck': 2885, 'accid': 2886, 'dynam': 2887, 'fairewind': 2888, 'foreststream': 2889, 'fukushima': 2890, 'habitat': 2891, 'radiocesium': 2892, 'sinc': 2893, 'aka': 2894, 'fetu': 2895, 'folat': 2896, 'ie': 2897, 'unborn': 2898, 'anna': 2899, 'jone': 2900, 'lifelesson': 2901, 'cannabi': 2902, 'deliv': 2903, 'expand': 2904, 'fortino': 2905, 'holycraptm': 2906, 'locat': 2907, 'plantampco': 2908, 'plantbasedco': 2909, 'vegnca': 2910, 'vganf': 2911, 'foodinc': 2912, 'selfawar': 2913, 'selfcar': 2914, 'stand': 2915, 'weapon': 2916, 'actiononsalt': 2917, 'saltawar': 2918, 'sodium': 2919, 'washsalt': 2920, 'nutricion': 2921, 'thursdaymotiv': 2922, 'thursdaythought': 2923, 'balticstudiescentr': 2924, 'eet': 2925, 'elb': 2926, 'foodhub': 2927, 'humancentredc': 2928, 'inhabit': 2929, 'riga': 2930, 'seminar': 2931, 'āgenskalnsmarket': 2932, 'biohack': 2933, 'brainfog': 2934, 'interview': 2935, 'rogersnip': 2936, 'upgrad': 2937, 'amyloliquefacien': 2938, 'bacillu': 2939, 'bioactiv': 2940, 'engin': 2941, 'physicochem': 2942, 'alic': 2943, 'john': 2944, 'kg': 2945, 'testimoni': 2946, 'workout': 2947, 'healthifym': 2948, 'encapsul': 2949, 'choke': 2950, 'correct': 2951, 'httweet': 2952, 'insist': 2953, 'kickstart': 2954, 'slowli': 2955, 'waseda_univ': 2956, 'forecast': 2957, 'nutrut': 2958, 'ownership': 2959, 'clip': 2960, 'credit': 2961, 'dontolman': 2962, 'mindblow': 2963, 'naturalh': 2964, 'speak': 2965, 'tiktok': 2966, 'tolman': 2967, 'tricktalksagain': 2968, 'wow': 2969, 'mere': 2970, 'smith': 2971, 'asset': 2972, 'forum': 2973, 'held': 2974, 'ngo': 2975, 'oneday': 2976, 'symposium': 2977, 'taipei': 2978, 'desert': 2979, 'dri': 2980, 'flower': 2981, 'plantnot': 2982, 'polyphenol': 2983, 'reddish': 2984, 'chain': 2985, 'cloud': 2986, 'frozenfood': 2987, 'knew': 2988, 'scare': 2989, 'wednesday': 2990, 'foodjustic': 2991, 'globe': 2992, 'livestock': 2993, 'nifa': 2994, 'stakehold': 2995, 'gofundm': 2996, 'jivin': 2997, 'projectgaia': 2998, 'resili': 2999, 'revolutionari': 3000, 'seven': 3001, 'goodhairdaypasta': 3002, 'konkin': 3003, 'nikita': 3004, 'adolesc': 3005, 'thepositiveproject': 3006, 'flesh': 3007, 'woodpeck': 3008, 'recipeoftheday': 3009, 'folk': 3010, 'foodquiz': 3011, 'standard': 3012, 'suit': 3013, 'coast': 3014, 'declin': 3015, 'drastic': 3016, 'east': 3017, 'recipeforsurviv': 3018, 'hypertens': 3019, 'erica': 3020, 'meaning': 3021, 'safeguard': 3022, 'colour': 3023, 'colourfulfood': 3024, 'dive': 3025, 'foodgroup': 3026, 'gonna': 3027, 'goodfood': 3028, 'possibl': 3029, 'tomdaley': 3030, 'crise': 3031, 'diseaseprevent': 3032, 'word': 3033, 'mamp': 3034, 'marksandspenc': 3035, 'nutritionistapprov': 3036, 'organ': 3037, 'organicfood': 3038, 'along': 3039, 'complex': 3040, 'glutenin': 3041, 'mainli': 3042, 'mixtur': 3043, 'starch': 3044, 'ayurved': 3045, 'breakout': 3046, 'chines': 3047, 'circl': 3048, 'larger': 3049, 'underey': 3050, 'largest': 3051, 'gender': 3052, 'pretti': 3053, 'sort': 3054, 'anthocyanin': 3055, 'healthbenefit': 3056, 'eatyourbreakfast': 3057, 'hate': 3058, 'healthykid': 3059, 'kidlif': 3060, 'momlif': 3061, 'scrambl': 3062, 'yo': 3063, 'can': 3064, 'canning': 3065, 'dad': 3066, 'pleasur': 3067, 'rewrit': 3068, 'shorten': 3069, 'simplifi': 3070, 'bloggerlif': 3071, 'guilt': 3072, 'arthropod': 3073, 'influx': 3074, 'pest': 3075, 'earli': 3076, 'indic': 3077, 'profil': 3078, 'tool': 3079, 'favor': 3080, 'fyp': 3081, 'fypシ': 3082, 'healthiswealth': 3083, 'switch': 3084, 'afternoon': 3085, 'naija': 3086, 'twitter': 3087, 'humpdaaaaaayyyi': 3088, 'aris': 3089, 'fishi': 3090, 'oxid': 3091, 'rancid': 3092, 'rotten': 3093, 'smell': 3094, 'comfort': 3095, 'fail': 3096, 'newcastlefood': 3097, 'ny': 3098, 'quickmeal': 3099, 'europ': 3100, 'infohttpstcofwbajguyci': 3101, 'quark': 3102, 'anima': 3103, 'exist': 3104, 'hommer': 3105, 'instruct': 3106, 'manual': 3107, 'odyssey': 3108, 'overcom': 3109, 'within': 3110, 'charg': 3111, 'nutrispic': 3112, 'costli': 3113, 'death': 3114, 'ebel': 3115, 'kill': 3116, 'paul': 3117, 'peopl': 3118, 'acn': 3119, 'skincar': 3120, 'cheaper': 3121, 'consid': 3122, 'evoo': 3123, 'healer': 3124, 'hippocr': 3125, 'homer': 3126, 'liquid': 3127, 'poet': 3128, 'bionic': 3129, 'biorobot': 3130, 'ciuti_sssa': 3131, 'foodservic': 3132, 'longitudin': 3133, 'lowimpact': 3134, 'managementprocess': 3135, 'paradigm': 3136, 'senior': 3137, 'traceabl': 3138, 'strategi': 3139, 'suppli': 3140, 'dailymashriq': 3141, 'بیسن': 3142, 'پراٹھا': 3143, 'کا': 3144, 'کاپراٹھا': 3145, 'juic': 3146, 'rotat': 3147, 'besaf': 3148, 'faddiet': 3149, 'feelgood': 3150, 'kcal': 3151, 'copi': 3152, 'dalal_rup': 3153, 'fear': 3154, 'pure': 3155, 'megaciph': 3156, 'abl': 3157, 'capabl': 3158, 'bridg': 3159, 'humanright': 3160, 'jeff': 3161, 'kasaf': 3162, 'sdg': 3163, 'un': 3164, 'tcm': 3165, 'antiatherogen': 3166, 'guard': 3167, 'netflix': 3168, 'oldguardmovi': 3169, 'theoldguard': 3170, 'antiinflammatori': 3171, 'basil': 3172, 'condiment': 3173, 'oregano': 3174, 'paisley': 3175, 'sage': 3176, 'infus': 3177, 'line': 3178, 'portabello': 3179, 'cchealthcar': 3180, 'communicar': 3181, 'edyekuyp': 3182, 'healthcarework': 3183, 'staff': 3184, 'lethargi': 3185, 'away': 3186, 'fade': 3187, 'heartattack': 3188, 'heartdiseas': 3189, 'insta': 3190, 'johnomeintj': 3191, 'steak': 3192, 'cancel': 3193, 'depriv': 3194, 'disast': 3195, 'fan': 3196, 'hyperacid': 3197, 'ag': 3198, 'airpollut': 3199, 'amitav': 3200, 'chemtrail': 3201, 'coalit': 3202, 'geoengin': 3203, 'ghosh': 3204, 'letter': 3205, 'sci': 3206, 'signatori': 3207, 'solar': 3208, 'wx': 3209, 'alli': 3210, 'microb': 3211, 'bimonthli': 3212, 'chariti': 3213, 'project': 3214, 'uptod': 3215, 'cadburyuk': 3216, 'duo': 3217, 'encourag': 3218, 'intent': 3219, 'later': 3220, 'mdlz': 3221, 'seal': 3222, 'twist': 3223, 'enemi': 3224, 'messeng': 3225, 'sacr': 3226, 'hunger': 3227, 'beyourself': 3228, 'tuesdayvib': 3229, 'psychiatri': 3230, 'elenasunshinemagazin': 3231, 'seedl': 3232, 'chat': 3233, 'ist': 3234, 'letsgettalk': 3235, 'mentzacircl': 3236, 'pm': 3237, 'thenidunno': 3238, 'govegan': 3239, 'inexpens': 3240, 'easyrecip': 3241, 'fanci': 3242, 'korean': 3243, 'michigan': 3244, 'synergist': 3245, 'tart': 3246, 'brighamwomen': 3247, 'glucos': 3248, 'drug': 3249, 'lotu': 3250, 'برسنڈے': 3251, 'پرانی': 3252, 'پشاوری': 3253, 'پیں': 3254, 'ڈش': 3255, 'vs': 3256, 'skinonlin': 3257, 'skinonlineblog': 3258, 'unprocess': 3259, 'crow': 3260, 'crux': 3261, 'existencedo': 3262, 'hinabeg': 3263, 'mindsetmatt': 3264, 'neglect': 3265, 'newyearresolut': 3266, 'stick': 3267, 'tightrop': 3268, 'treatyourself': 3269, 'chila': 3270, 'fitnessfreak': 3271, 'porridg': 3272, 'ragibenefit': 3273, 'bloom': 3274, 'never': 3275, 'toward': 3276, 'animalag': 3277, 'biofuel': 3278, 'cdnpoli': 3279, 'justintrudeau': 3280, 'liberal_parti': 3281, 'mclaudebibeau': 3282, 'chuggingwat': 3283, 'chugwat': 3284, 'familiar': 3285, 'gyro': 3286, 'recipi': 3287, 'sugarfre': 3288, 'sugarfreelif': 3289, 'suncakemom': 3290, 'mine': 3291, 'mend': 3292, 'cert': 3293, 'class': 3294, 'cnhp': 3295, 'foodcombin': 3296, 'hasnt': 3297, 'mention': 3298, 'naturalhealth': 3299, 'obviou': 3300, 'proven': 3301, 'theori': 3302, 'triniti': 3303, 'audibl': 3304, 'code': 3305, 'dm': 3306, 'download': 3307, 'memoir': 3308, 'site': 3309, 'slide': 3310, 'booster': 3311, 'hindi': 3312, 'immunityboost': 3313, 'masala': 3314, 'इमयनट': 3315, 'ओमकरन': 3316, 'कर': 3317, 'बच': 3318, 'बसट': 3319, 'म': 3320, 'मजद': 3321, 'मसल': 3322, 'रसई': 3323, 'स': 3324, 'सकत': 3325, 'esp': 3326, 'harder': 3327, 'hr': 3328, 'lt': 3329, 'roll': 3330, 'sushi': 3331, 'tiger': 3332, 'steril': 3333, 'bald': 3334, 'remedi': 3335, 'abund': 3336, 'almacuerpoment': 3337, 'cartilag': 3338, 'glue': 3339, 'nail': 3340, 'structur': 3341, 'tissu': 3342, 'android': 3343, 'base': 3344, 'calcul': 3345, 'calor': 3346, 'diari': 3347, 'io': 3348, 'ui': 3349, 'bewel': 3350, 'wearamask': 3351, 'adher': 3352, 'havent': 3353, 'ai': 3354, 'cheapest': 3355, 'unit': 3356, 'bewar': 3357, 'compar': 3358, 'euvsu': 3359, 'useurop': 3360, 'armynew': 3361, 'britisharmi': 3362, 'britisharmychef': 3363, 'canteen': 3364, 'co_fstw': 3365, 'fdarmycomdsm': 3366, 'forvcesnew': 3367, 'pilot': 3368, 'scheme': 3369, 'plung': 3370, 'tank': 3371, 'temperatur': 3372, 'bbcnew': 3373, 'bee': 3374, 'beeharm': 3375, 'despit': 3376, 'england': 3377, 'ethci': 3378, 'sugarbeet': 3379, 'thiamethoxam': 3380, 'heavi': 3381, 'metal': 3382, 'achiev': 3383, 'christma': 3384, 'desper': 3385, 'gtgt': 3386, 'healthybodi': 3387, 'natashaiswideey': 3388, 'payasyougo': 3389, 'imagin': 3390, 'pkilgoredrpaulkilgorecom': 3391, 'remov': 3392, 'leader': 3393, 'prune': 3394, 'surpass': 3395, 'wellknown': 3396, 'februari': 3397, 'noxid': 3398, 'tmao': 3399, 'trimethylamin': 3400, 'calm': 3401, 'clear': 3402, 'workingfromhom': 3403, 'epigenet': 3404, 'methyl': 3405, 'younger': 3406, 'hammersmith': 3407, 'leonrestaur': 3408, 'privilegecard': 3409, 'whi': 3410, 'morsel': 3411, 'climateemerg': 3412, 'denial': 3413, 'devil': 3414, 'govt': 3415, 'didnt': 3416, 'pound': 3417, 'asleep': 3418, 'bedtim': 3419, 'fall': 3420, 'differentcolor': 3421, 'built': 3422, 'climateactionnow': 3423, 'netzero': 3424, 'planetari': 3425, 'ship': 3426, 'streetcub': 3427, 'suitabl': 3428, 'allergicfood': 3429, 'allergicreact': 3430, 'allergictrigg': 3431, 'foodallergi': 3432, 'itch': 3433, 'reaction': 3434, 'auspol': 3435, 'enabl': 3436, 'focuss': 3437, 'immigr': 3438, 'incom': 3439, 'interact': 3440, 'prosper': 3441, 'fettuccin': 3442, 'italia': 3443, 'italian': 3444, 'positivethought': 3445, 'ricotta': 3446, 'crucial': 3447, 'cub': 3448, 'door': 3449, 'mlb': 3450, 'peak': 3451, 'perform': 3452, 'solan': 3453, 'f': 3454, 'macronutri': 3455, 'micronutri': 3456, 'aggreg': 3457, 'antiplatelet': 3458, 'holist': 3459, 'biss': 3460, 'broken': 3461, 'capit': 3462, 'cbcfifth': 3463, 'deliber': 3464, 'profit': 3465, 'san': 3466, 'foodmatt': 3467, 'irradi': 3468, 'nonorgan': 3469, 'sector': 3470, 'asapsci': 3471, 'caloriecount': 3472, 'scam': 3473, 'eventu': 3474, 'norm': 3475, 'straight': 3476, 'meat': 3477, 'organmeat': 3478, 'pasturerais': 3479, 'regularli': 3480, 'bananacrop': 3481, 'extinct': 3482, 'tremend': 3483, 'appetit': 3484, 'bookstor': 3485, 'spring': 3486, 'tame': 3487, 'tameyourappetit': 3488, 'sundaythought': 3489, 'depend': 3490, 'facebook': 3491, 'psycholog': 3492, 'yngqangash': 3493, 'entrepreneur': 3494, 'gt': 3495, 'hero': 3496, 'zero': 3497, 'healthydiethabit': 3498, 'lifestylesolut': 3499, 'ancient': 3500, 'breakthrough': 3501, 'carotenoid': 3502, 'extraordinari': 3503, 'phisquarelab': 3504, 'processedfood': 3505, 'ultraprocess': 3506, 'diabes': 3507, 'fb': 3508, 'inst': 3509, 'li': 3510, 'eco': 3511, 'growyourownfood': 3512, 'raisin': 3513, 'usebi': 3514, 'usebyd': 3515, 'wintercaretip': 3516, 'आण': 3517, 'आहरत': 3518, 'करणयसठ': 3519, 'करव': 3520, 'नरग': 3521, 'बचव': 3522, 'रहणयसठ': 3523, 'सपरफडच': 3524, 'समवश': 3525, 'ससरगपसन': 3526, 'हवळयत': 3527, 'stigmabas': 3528, 'verdantsquar': 3529, 'hatfield': 3530, 'hatfieldheath': 3531, 'hertford': 3532, 'hertfordshir': 3533, 'hertfordshirebusi': 3534, 'hertfordshiremum': 3535, 'hertscommunityf': 3536, 'month': 3537, 'subsid': 3538, 'welwyngardenc': 3539, 'whwr': 3540, 'festivalit': 3541, 'foodtrivia': 3542, 'foodtriviaamplifestyl': 3543, 'healthchang': 3544, 'practicesawesom': 3545, 'trivia': 3546, 'doorstep': 3547, 'surveil': 3548, 'goatlegsteamroast': 3549, 'raanroast': 3550, 'ترکیب': 3551, 'ران': 3552, 'روسٹڈ': 3553, 'کی': 3554, 'jackfruit': 3555, 'mercuri': 3556, 'artdesignz_co': 3557, 'functionalfood': 3558, 'fungi': 3559, 'inflammat': 3560, 'dangerif': 3561, 'fitnessmotiv': 3562, 'foodbut': 3563, 'nutriot': 3564, 'angelinaxseptemb': 3565, 'hydrat': 3566, 'redpotatoflour': 3567, 'wholewheat': 3568, '這次我連糖都沒有加只有水鹽麵粉和白神酵母但有另外加有機紅心地瓜粉所以外殼原麥色內心紫色不加糖味道更好也更美': 3569, 'dramorsantiago': 3570, 'bodycar': 3571, 'animalright': 3572, 'chickennugget': 3573, 'goodnew': 3574, 'nugget': 3575, 'omnivor': 3576, 'r': 3577, 'tastetest': 3578, 'baselin': 3579, 'jamanetworkopen': 3580, 'yr': 3581, 'escapingtothecountrysid': 3582, 'naturalmedicin': 3583, 'doctok': 3584, 'tiktok_u': 3585, 'lifestylechang': 3586, 'creami': 3587, 'drop': 3588, 'tomoato': 3589, 'antimammalian': 3590, 'redcabbag': 3591, 'foddblog': 3592, 'unrealistictrend': 3593, 'chaat': 3594, 'chole': 3595, 'esg': 3596, 'esgstockrocket': 3597, 'moment': 3598, 'rocket': 3599, 'stock': 3600, 'eight': 3601, 'foodintak': 3602, 'broth': 3603, 'bubba': 3604, 'farmersmarket': 3605, 'marrow': 3606, 'pick': 3607, 'saturdaykitchen': 3608, 'sip': 3609, 'independ': 3610, 'meatfre': 3611, 'onplantbas': 3612, 'commiss': 3613, 'eatlancet': 3614, 'report': 3615, 'situat': 3616, 'foodjourn': 3617, 'foodlog': 3618, 'nutritiontip': 3619, 'object': 3620, 'portions': 3621, 'typic': 3622, 'dsilva': 3623, 'neil': 3624, 'obsess': 3625, 'corona': 3626, 'आवशयक': 3627, 'आह': 3628, 'करण': 3629, 'घटकच': 3630, 'पषक': 3631, 'रगपरतकरशकत': 3632, 'वढवणयसठ': 3633, 'सवन': 3634, 'eatslowli': 3635, 'fasteat': 3636, 'reciv': 3637, 'redus': 3638, 'signal': 3639, 'greekreport': 3640, 'amaica': 3641, 'particular': 3642, 'phone': 3643, 'tembeakenya': 3644, 'westland': 3645, 'healthandwellb': 3646, 'liniapatel': 3647, 'mccormack': 3648, 'mrjosephvalent': 3649, 'pet': 3650, 'sean': 3651, 'talk': 3652, 'qeema': 3653, 'بنانے': 3654, 'قیمہ': 3655, 'لذیذ': 3656, 'pantothen': 3657, 'trace': 3658, 'ye': 3659, 'buyloc': 3660, 'livewel': 3661, 'supportloc': 3662, 'cream': 3663, 'whip': 3664, 'vanillaweb': 3665, 'bocaratonobserv': 3666, 'bolay': 3667, 'carrotexpress': 3668, 'consciou': 3669, 'jbandc': 3670, 'juicebar': 3671, 'newyear': 3672, 'observerboca': 3673, 'rawjuc': 3674, 'burnfat': 3675, 'eatright': 3676, 'getinshap': 3677, 'livelong': 3678, 'looseweight': 3679, 'beget': 3680, 'cpp': 3681, 'disabl': 3682, 'exacerb': 3683, 'hous': 3684, 'itd': 3685, 'mo': 3686, 'nejsnav': 3687, 'justegg': 3688, 'miyokoschinn': 3689, 'veganegg': 3690, 'breeder': 3691, 'fao': 3692, 'itallstartswiththese': 3693, 'planttreati': 3694, 'policymak': 3695, 'world_foodforum': 3696, 'perimet': 3697, 'primarili': 3698, 'adequ': 3699, 'chocolatecocoa': 3700, 'intellig': 3701, 'agat': 3702, 'agrifood': 3703, 'analysi': 3704, 'canadian': 3705, 'fullservic': 3706, 'laboratori': 3707, 'laboratoryservic': 3708, 'shelflif': 3709, 'animalfre': 3710, 'cheesi': 3711, 'yeast': 3712, 'angel': 3713, 'chinesenewyear': 3714, 'lo': 3715, 'luck': 3716, 'slowfoodusa': 3717, 'controlbloodsugar': 3718, 'healthygut': 3719, 'lowerbloodpressur': 3720, 'paleo': 3721, 'paleodiet': 3722, 'paleolithicdiet': 3723, 'background': 3724, 'iphon': 3725, 'wallnut': 3726, 'ewg': 3727, 'foodansw': 3728, 'score': 3729, 'academi': 3730, 'accra': 3731, 'classroom': 3732, 'crisi': 3733, 'devast': 3734, 'impactyouthmatt': 3735, 'institutionalis': 3736, 'necessari': 3737, 'scarciti': 3738, 'appoint': 3739, 'foodpantri': 3740, 'pantri': 3741, 'announc': 3742, 'breath': 3743, 'editorialillustr': 3744, 'illustr': 3745, 'lancet': 3746, 'lancetrespirm': 3747, 'respiratori': 3748, 'foodfriday': 3749, 'client': 3750, 'consult': 3751, 'entertain': 3752, 'har': 3753, 'mlshaw': 3754, 'born': 3755, 'healthal': 3756, 'inherit': 3757, 'nobodi': 3758, 'predisposit': 3759, 'significantli': 3760, 'cometom': 3761, 'diddi': 3762, 'nicolescherzi': 3763, 'nicolescherzing': 3764, '_atanas_': 3765, 'biofungicid': 3766, 'biopesticid': 3767, 'botan': 3768, 'curcuma': 3769, 'insecticid': 3770, 'protector': 3771, 'enhttpstcotdcwrftsvj': 3772, 'guiso': 3773, 'marinera': 3774, 'patata': 3775, 'recera': 3776, 'receta': 3777, 'region': 3778, 'respect': 3779, 'discontinu': 3780, 'fewer': 3781, 'jama_curr': 3782, 'liraglutid': 3783, 'reimburs': 3784, 'semaglutid': 3785, 'beach': 3786, 'localfood': 3787, 'palm': 3788, 'palmbeach': 3789, 'thingstodo': 3790, 'अपन': 3791, 'अमरद': 3792, 'आज': 3793, 'आहर': 3794, 'क': 3795, 'बनन': 3796, 'मजबत': 3797, 'लए': 3798, 'शमल': 3799, 'fl': 3800, 'messhal': 3801, 'nosh': 3802, 'shaver': 3803, 'whatsforbreakfast': 3804, 'concept': 3805, 'directli': 3806, 'organicproduct': 3807, 'plantbasedfood': 3808, 'tabl': 3809, 'baker': 3810, 'dress': 3811, 'impart': 3812, 'titaniumdioxid': 3813, 'zarda': 3814, 'اور': 3815, 'خوش': 3816, 'ذائقہ': 3817, 'زردہ': 3818, 'چاولوں': 3819, 'mbabazisusana': 3820, 'overweight': 3821, 'teksportsrcf': 3822, 'wealthsecret': 3823, 'chikemd': 3824, 'healthtech': 3825, 'seri': 3826, 'stayhealthi': 3827, 'geopolit': 3828, 'graphic': 3829, 'amr': 3830, 'greenhous': 3831, 'wef': 3832, 'thyroid': 3833, 'weightlossfood': 3834, 'yearold': 3835, 'fridayvib': 3836, 'globalcrisi': 3837, 'sometim': 3838, 'radish': 3839, 'boom': 3840, 'foodaddit': 3841, 'wit': 3842, 'sleepi': 3843, 'afghanistan': 3844, 'cash': 3845, 'cent': 3846, 'displac': 3847, 'vulner': 3848, 'attent': 3849, 'crispr': 3850, 'pfizer': 3851, 'main': 3852, 'seneca': 3853, 'introduct': 3854, 'muscular': 3855, 'proper': 3856, 'pickl': 3857, 'reconnect': 3858, 'ab': 3859, 'stabil': 3860, 'dietrel': 3861, 'dramat': 3862, 'oatmeal': 3863, 'chronicapp': 3864, 'chronichealthcondit': 3865, 'fiberrich': 3866, 'knowyourm': 3867, 'janedumm': 3868, 'navig': 3869, 'transpar': 3870, 'die': 3871, 'cardiolog': 3872, 'counter': 3873, 'failur': 3874, 'redprocess': 3875, 'replac': 3876, 'servingday': 3877, 'tracker': 3878, 'viru': 3879, 'dieta': 3880, 'equat': 3881, 'диета': 3882, 'еда': 3883, 'highhistamin': 3884, 'histamin': 3885, 'naturesbal': 3886, 'regim': 3887, 'far': 3888, 'simplest': 3889, 'yet': 3890, 'drawback': 3891, 'celeb': 3892, 'freeli': 3893, 'medpag': 3894, 'model': 3895, 'shill': 3896, 'barnaba': 3897, 'ecsphilli': 3898, 'generoc': 3899, 'hub': 3900, 'philli': 3901, 'wphilabund': 3902, 'hurray': 3903, 'petit': 3904, 'america': 3905, 'aspartam': 3906, 'danger': 3907, 'substanc': 3908, 'deriv': 3909, 'describ': 3910, 'extens': 3911, 'guler': 3912, 'imper': 3913, 'nutraceut': 3914, 'devic': 3915, 'discomfort': 3916, 'sent': 3917, 'simpli': 3918, 'healthyfood': 3919, 'primavera': 3920, 'acceler': 3921, 'acquir': 3922, 'acquisit': 3923, 'belgian': 3924, 'puratosgroup': 3925, 'tht': 3926, 'address': 3927, 'determin': 3928, 'dispar': 3929, 'genuin': 3930, 'screen': 3931, 'securityand': 3932, 'adventur': 3933, 'bigkidfound': 3934, 'brixton': 3935, 'dexter': 3936, 'hl': 3937, 'playground': 3938, 'railton': 3939, 'se': 3940, 'chocolatemuesli': 3941, 'cookingrecip': 3942, 'erryyoghurtparfait': 3943, 'cbd': 3944, 'dropsheal': 3945, 'ife': 3946, 'healthcoach': 3947, 'optavia': 3948, 'flu': 3949, 'naturaldef': 3950, 'metavers': 3951, 'motherfuka': 3952, 'antifung': 3953, 'phaseolu': 3954, 'pinto': 3955, 'african': 3956, 'indiadotcom': 3957, 'viralvideo': 3958, 'staycalm': 3959, 'aid': 3960, 'cbdoil': 3961, 'convert': 3962, 'disord': 3963, 'smartcbdhub': 3964, 'weightrel': 3965, 'worthi': 3966, 'accessm': 3967, 'clearli': 3968, 'feder': 3969, 'sallymcmanu': 3970, 'trade': 3971, 'transport': 3972, 'unionsaustralia': 3973, 'authent': 3974, 'implement': 3975, '_ashwanitiwari': 3976, 'dairytasti': 3977, 'festiv': 3978, 'lohri': 3979, 'mask': 3980, 'sankranticontest': 3981, 'swaggerrahul': 3982, 'tastydairi': 3983, 'tilkut': 3984, 'ujjwalghe': 3985, 'verifresh': 3986, 'brighten': 3987, 'chamber': 3988, 'harvest': 3989, 'indian': 3990, 'lohrifestiv': 3991, 'contest': 3992, 'ranchikuldeep': 3993, 'ravikum': 3994, 'upcycl': 3995, 'poor': 3996, 'unknown': 3997, 'variabl': 3998, 'harvard': 3999, 'shedefin': 4000, 'emotionalintellig': 4001, 'motivationalquot': 4002, 'quoteoftheday': 4003, 'mayaangel': 4004, 'bobmarley': 4005, 'gmblife': 4006, 'opera': 4007, 'pari': 4008, 'distract': 4009, 'infrastructur': 4010, 'lnp': 4011, 'procur': 4012, 'shortag': 4013, 'wreck': 4014, 'chroniclif': 4015, 'spooni': 4016, 'billionair': 4017, 'philanthropi': 4018, 'buffalo': 4019, 'mozzarella': 4020, 'pita': 4021, 'shakshuka': 4022, 'zaatar': 4023, 'attitud': 4024, 'dam': 4025, 'library_group': 4026, 'polyunsatur': 4027, 'shown': 4028, 'thefitnesswhisp': 4029, 'bamboo': 4030, 'keepfit': 4031, 'welland': 4032, 'cabaret': 4033, 'costco': 4034, 'domino': 4035, 'extraordinarili': 4036, 'giantfood': 4037, 'harristeet': 4038, 'hostess_snack': 4039, 'kelloggsu': 4040, 'kroger': 4041, 'nurs': 4042, 'pillsburi': 4043, 'wegman': 4044, 'frozenpizza': 4045, 'agrega': 4046, 'como': 4047, 'fuent': 4048, 'pollo': 4049, 'proteina': 4050, 'vegetal': 4051, 'food_suppl': 4052, 'patent': 4053, 'print': 4054, 'vegan_nutrit': 4055, 'defundthepolic': 4056, 'drsdefundpolic': 4057, 'employ': 4058, 'fordnat': 4059, 'johntori': 4060, 'margin': 4061, 'oppress': 4062, 'tpsoper': 4063, 'conversationca': 4064, 'gobbl': 4065, 'redirect': 4066, 'reform': 4067, 'subsidi': 4068, 'worldwid': 4069, 'disposableglov': 4070, 'glove': 4071, 'mandat': 4072, 'necess': 4073, 'thousand': 4074, 'abil': 4075, 'bug': 4076, 'defens': 4077, 'game': 4078, 'herbal': 4079, 'infect': 4080, 'nasti': 4081, 'superboost': 4082, 'gors': 4083, 'invas': 4084, 'prickli': 4085, 'scotland': 4086, 'foodtysonmultimedia': 4087, 'wellnesswednesday': 4088, 'bisognano': 4089, 'cwcc': 4090, 'umichmedicin': 4091, 'uofm': 4092, 'relaps': 4093, 'bigsliceoflif': 4094, 'healtheat': 4095, 'natasha': 4096, 'varieti': 4097, 'cajun': 4098, 'establish': 4099, 'routin': 4100, 'losefat': 4101, 'carcinogen': 4102, 'cdc': 4103, 'document': 4104, 'hazard': 4105, 'histor': 4106, 'organophosph': 4107, 'biosens': 4108, 'dec': 4109, 'onspot': 4110, 'brought': 4111, 'heavier': 4112, 'gone': 4113, 'huffpostuklif': 4114, 'thatll': 4115, 'italianfood': 4116, 'slender': 4117, 'tourist': 4118, 'cnn': 4119, 'margarin': 4120, 'popularfit': 4121, 'cookingfromscratch': 4122, 'newcastl': 4123, 'newcastlefoodi': 4124, 'proteinpod': 4125, 'prototyp': 4126, 'fulfil': 4127, 'unlik': 4128, 'employe': 4129, 'caffein': 4130, 'compens': 4131, 'sugardrink': 4132, 'teenhealth': 4133, 'discount': 4134, 'leon': 4135, 'healhtyfood': 4136, 'brownfield': 4137, 'getfit': 4138, 'rejuven': 4139, 'slim': 4140, 'healthytip': 4141, 'करनच': 4142, 'कळज': 4143, 'घतलयनतर': 4144, 'घयव': 4145, 'लस': 4146, 'cuzz': 4147, 'special': 4148, 'alternetconfer': 4149, 'ecolog': 4150, 'session': 4151, 'portug': 4152, 'awaken': 4153, 'bryant': 4154, 'fluorid': 4155, 'juliett': 4156, 'rais': 4157, 'toxin': 4158, 'elixir': 4159, 'lifeenhanc': 4160, 'lowerdeathrisk': 4161, 'usatoday': 4162, 'cameroon': 4163, 'colleagu': 4164, 'eyeopen': 4165, 'refuge': 4166, 'wfp_cameroon': 4167, 'foodphotographi': 4168, 'accident': 4169, 'gmfood': 4170, 'lightnet': 4171, 'eathealthystayfit': 4172, 'fitbitrajasthan': 4173, 'healthishlif': 4174, 'healthyfoodhealthybodi': 4175, 'rajasthan': 4176, 'vlogger': 4177, 'nutri': 4178, 'nutrih': 4179, 'chickenno': 4180, 'coconutoil': 4181, 'flourno': 4182, 'kfc': 4183, 'kfcaustralia': 4184, 'msgand': 4185, 'seeglutenfre': 4186, 'toomuch': 4187, 'adjust': 4188, 'belli': 4189, 'dear': 4190, 'footbal': 4191, 'refere': 4192, 'resistance_exercis': 4193, 'admabiscuit': 4194, 'finest': 4195, 'anorexia': 4196, 'tonightvmtv': 4197, 'dietaryexposom': 4198, 'crack': 4199, 'knuckl': 4200, 'increasemetabol': 4201, 'letsdiskuss': 4202, 'expect': 4203, 'mighti': 4204, 'nonvegetarian': 4205, 'vivekananda': 4206, 'manish_nigam': 4207, 'medicalsci': 4208, 'healthylifemari': 4209, 'refin': 4210, 'treasur': 4211, 'specif': 4212, 'aphrodisiac': 4213, 'sr': 4214, 'dadlif': 4215, 'decept': 4216, 'hilari': 4217, 'mumlif': 4218, 'parentingtip': 4219, 'pickyeat': 4220, 'tactic': 4221, 'cannabinoid': 4222, 'coauthor': 4223, 'endocannabinoid': 4224, 'energ': 4225, 'feuerstein': 4226, 'joseph': 4227, 'thecannabinoidcookbook': 4228, 'finger': 4229, 'lazi': 4230, 'lickingand': 4231, 'travel': 4232, 'guilti': 4233, 'peakwel': 4234, 'wildcaught': 4235, 'wildsalmon': 4236, 'driveup': 4237, 'foxnew': 4238, 'medtwitt': 4239, 'preval': 4240, 'window': 4241, 'worth': 4242, 'hmm': 4243, 'bail': 4244, 'dump': 4245, 'entrant': 4246, 'newer': 4247, 'ppe': 4248, 'purchas': 4249, 'delishkitchen': 4250, 'eatingout': 4251, 'sauerkraut': 4252, 'tastytuesday': 4253, 'testkitchen': 4254, 'vegitarian': 4255, 'bulli': 4256, 'hurt': 4257, 'cure': 4258, 'diagnosi': 4259, 'fyi': 4260, 'purpos': 4261, 'dleonhardt': 4262, 'macandchees': 4263, 'cite': 4264, 'foundat': 4265, 'lossmainten': 4266, 'fool': 4267, 'ge': 4268, 'vigil': 4269, 'hearthealth': 4270, 'abstract': 4271, 'academictwitt': 4272, 'advanc': 4273, 'agronomi': 4274, 'frontplantsci': 4275, 'nd': 4276, 'nitrat': 4277, 'submiss': 4278, 'volum': 4279, 'coffe': 4280, 'desertfarmsmilk': 4281, 'gallon': 4282, 'mostli': 4283, 'bloggingcommun': 4284, 'blogginggener': 4285, 'do': 4286, 'info': 4287, 'yeah': 4288, 'breakdown': 4289, 'eatingherout': 4290, 'receipt': 4291, 'visual': 4292, 'growfood': 4293, 'indoor': 4294, 'kit': 4295, 'starter': 4296, 'drcateshanahan': 4297, 'imposs': 4298, 'mark_sisson': 4299, 'maxlugaver': 4300, 'robbwolf': 4301, 'sustainabledish': 4302, 'trust': 4303, 'feelageless': 4304, 'percent': 4305, 'basicshttpstcovrzefzjd': 4306, 'homeremedi': 4307, 'hottoddyday': 4308, 'nonalcohol': 4309, 'toddi': 4310, 'temp': 4311, 'regimefoodwithzach': 4312, 'brampton': 4313, 'kheer': 4314, 'kikkomankitchen': 4315, 'tamari': 4316, 'teriyaki': 4317, 'bonehealth': 4318, 'dulwich': 4319, 'dulwichvillag': 4320, 'london': 4321, 'cardiotwitt': 4322, 'fair': 4323, 'geneticallymodifi': 4324, 'inelig': 4325, 'pigheart': 4326, 'pighearttranspl': 4327, 'ummedschool': 4328, 'appeal': 4329, 'culinari': 4330, 'distinct': 4331, 'grown': 4332, 'churchil': 4333, 'finer': 4334, 'nationalmilkday': 4335, 'tuesdaythought': 4336, 'winston': 4337, 'coorganis': 4338, 'intl': 4339, 'nutritionsoc': 4340, 'sfnutrition_fr': 4341, 'obesogen': 4342, 'halloumi': 4343, 'sim': 4344, 'edibleoil': 4345, 'compliment': 4346, 'delishfood': 4347, 'hearti': 4348, 'nutrientrich': 4349, 'perfectli': 4350, 'bespok': 4351, 'custommad': 4352, 'poem': 4353, 'poetic': 4354, 'amongst': 4355, 'challengerbrand': 4356, 'icon': 4357, 'smb': 4358, 'smbstori': 4359, 'snackamor': 4360, 'amlaindian': 4361, 'copper': 4362, 'gastro': 4363, 'gooseberri': 4364, 'osteoporosi': 4365, 'vit': 4366, 'colon': 4367, 'express': 4368, 'marker': 4369, 'metabolit': 4370, 'avirtualvegan': 4371, 'stockmarketfi': 4372, 'themanualguid': 4373, 'hello': 4374, 'louis': 4375, 'amiyaa': 4376, 'amiyaa_cook': 4377, 'covid': 4378, 'knock': 4379, 'third': 4380, 'wave': 4381, 'avid': 4382, 'proport': 4383, 'sonal': 4384, 'earthi': 4385, 'marinad': 4386, 'parti': 4387, 'makar': 4388, 'sankranthi': 4389, 'grainoat': 4390, 'meatpatti': 4391, 'eighttreasur': 4392, 'launch': 4393, 'mooncak': 4394, 'shanghai': 4395, 'springfestiv': 4396, 'geographi': 4397, 'microbi': 4398, 'pdf': 4399, 'wood': 4400, 'erc_research': 4401, 'francescryoem': 4402, 'humantechnopol': 4403, 'impair': 4404, 'brexit': 4405, 'steer': 4406, 'anthicid': 4407, 'flavanol': 4408, 'pearsar': 4409, 'vessel': 4410, 'boiledegg': 4411, 'eategg': 4412, 'eatingegg': 4413, 'eggsexpress': 4414, 'indor': 4415, 'monthli': 4416, 'subscript': 4417, 'materi': 4418, 'coupon': 4419, 'instant': 4420, 'quaker': 4421, 'breastcanc': 4422, 'ebook': 4423, 'nbcf': 4424, 'honestli': 4425, 'none': 4426, 'dietandweightloss': 4427, 'christina': 4428, 'miller': 4429, 'pbtelehealth': 4430, 'physician': 4431, 'triathlet': 4432, 'except': 4433, 'efx': 4434, 'fx': 4435, 'grownup': 4436, 'instrument': 4437, 'laughter': 4438, 'song': 4439, 'studio': 4440, 'fundament': 4441, 'obtain': 4442, 'unnot': 4443, 'bbu': 4444, 'bebett': 4445, 'bjthompson': 4446, 'goodread': 4447, 'motiv': 4448, 'spiritualhealth': 4449, 'standintheg': 4450, 'marbl': 4451, 'mortarandpestl': 4452, 'keynot': 4453, 'led': 4454, 'maniupl': 4455, 'upend': 4456, 'bureau': 4457, 'collabor': 4458, 'competit': 4459, 'organicbeauti': 4460, 'dole': 4461, 'foodrecal': 4462, 'marketplac': 4463, 'monocytogen': 4464, 'presidentschoic': 4465, 'cummin': 4466, 'fatemperor': 4467, 'ivor': 4468, 'robertlustigmd': 4469, 'toxicsugar': 4470, 'mash': 4471, 'oz': 4472, 'scoop': 4473, 'sunni': 4474, 'amid': 4475, 'unilev': 4476, 'melt': 4477, 'pepperjack': 4478, 'sauté': 4479, 'turkey': 4480, 'acaiberri': 4481, 'businesstip': 4482, 'contentmarket': 4483, 'digitalmarket': 4484, 'digitalmarketingservic': 4485, 'onlineadvertis': 4486, 'seo': 4487, 'callforpap': 4488, 'ressourc': 4489, 'growwithgoogl': 4490, 'net': 4491, 'buddi': 4492, 'disscoprepar': 4493, 'divers': 4494, 'eu_env': 4495, 'race': 4496, 'speci': 4497, 'ercstg': 4498, 'synthesi': 4499, 'dimblebi': 4500, 'henri': 4501, 'sour': 4502, 'text': 4503, 'vinegar': 4504, 'theinquilabepap': 4505, 'اپنائیں': 4506, 'بیماریوں': 4507, 'دور': 4508, 'رکھیں': 4509, 'میڈیٹیرین': 4510, 'پلان': 4511, 'ڈائٹ': 4512, 'کو': 4513, 'diaspora': 4514, 'hongkong': 4515, 'spotifi': 4516, 'unexpect': 4517, 'widespread': 4518, 'betterself': 4519, 'cheesecak': 4520, 'fitter': 4521, 'rossedgley': 4522, 'wait': 4523, 'worldsfittest': 4524, 'worldsfittestbook': 4525, 'complement': 4526, 'deliciousfood': 4527, 'guiltfre': 4528, 'tfg': 4529, 'warm': 4530, 'seduc': 4531, 'healthyfodd': 4532, 'reveal': 4533, 'todaynew': 4534, 'comic': 4535, 'lane': 4536, 'constip': 4537, 'digestivesystem': 4538, 'करय': 4539, 'चलण': 4540, 'पचणससथच': 4541, 'सरळत': 4542, 'faithfultonatur': 4543, 'ftn': 4544, 'summersal': 4545, 'tampc': 4546, 'forev': 4547, 'kareenakapoor': 4548, 'doubt': 4549, 'eateri': 4550, 'id': 4551, 'killjoy': 4552, 'stuck': 4553, 'milkshak': 4554, 'zhealthyeat': 4555, 'zishanov': 4556, 'dailydeliveri': 4557, 'frost': 4558, 'gatorad': 4559, 'quencher': 4560, 'thirst': 4561, 'covidisairborn': 4562, 'covidv': 4563, 'girlofmydream': 4564, 'imm': 4565, 'quest': 4566, 'asia': 4567, 'asiapacif': 4568, 'cagr': 4569, 'douglaslab': 4570, 'naturesuppli': 4571, 'pacif': 4572, 'raresugar': 4573, 'advantag': 4574, 'wise': 4575, 'planner': 4576, 'precis': 4577, 'cucumb': 4578, 'garnish': 4579, 'lloyd': 4580, 'milanes': 4581, 'parsley': 4582, 'spinacharugula': 4583, 'easytoread': 4584, 'field': 4585, 'poorli': 4586, 'sleeplett': 4587, 'wors': 4588, 'bu': 4589, 'perspect': 4590, 'plantbasedmeat': 4591, 'feloni': 4592, 'roommat': 4593, 'tamper': 4594, 'atreja': 4595, 'compon': 4596, 'confer': 4597, 'cpegusmd': 4598, 'sdoh': 4599, 'ucdavishealth': 4600, 'walmart': 4601, 'wmt': 4602, 'exactli': 4603, 'keyword': 4604, 'proactiv': 4605, 'anyway': 4606, 'livestrong_com': 4607, 'receptor': 4608, 'subtl': 4609, 'tend': 4610, 'defenc': 4611, 'invad': 4612, 'mechan': 4613, 'microorgan': 4614, 'foreverychild': 4615, 'duti': 4616, 'vitaminc': 4617, 'astonish': 4618, 'gave': 4619, 'goto': 4620, 'havebbett': 4621, 'therefor': 4622, 'tonic': 4623, 'westerndiet': 4624, 'languag': 4625, 'nutritio': 4626, 'surplu': 4627, 'troubl': 4628, 'bev': 4629, 'hike': 4630, 'mountainbik': 4631, 'trailrun': 4632, 'triathlon': 4633, 'boosterdos': 4634, 'boosterprik': 4635, 'mandarin': 4636, 'autoimmunediseas': 4637, 'advoc': 4638, 'mislead': 4639, 'tout': 4640, 'foodforthought': 4641, 'foodstofeelgood': 4642, 'front': 4643, 'koons': 4644, 'labor': 4645, 'soldier': 4646, 'tia': 4647, 'ucla': 4648, 'leakygut': 4649, 'dew': 4650, 'mountain': 4651, 'nearli': 4652, 'urgentipcc_ch': 4653, 'baigana': 4654, 'dahi': 4655, 'dahih': 4656, 'eggplant': 4657, 'yogurtbas': 4658, 'camposolsac': 4659, 'grab': 4660, 'qr': 4661, 'scan': 4662, 'hail': 4663, 'musthav': 4664, 'girlstalkza': 4665, 'gourmetgirl': 4666, 'sapien': 4667, 'talkfood': 4668, 'yum': 4669, 'disneyworld': 4670, 'holiday': 4671, 'saturdayvib': 4672, 'vacat': 4673, 'naturalremedi': 4674, 'allcaus': 4675, 'cancerrel': 4676, 'antibloatington': 4677, 'descript': 4678, 'purblack': 4679, 'shilajit': 4680, 'atriskkid': 4681, 'shaniatwain': 4682, 'skc': 4683, 'dentist': 4684, 'gap': 4685, 'fitnesspow': 4686, 'gymgirl': 4687, 'carbonemiss': 4688, 'degrad': 4689, 'ecofootprint': 4690, 'foodbas': 4691, 'aero': 4692, 'jimmyjohn': 4693, 'mensjourn': 4694, 'mountaindew': 4695, 'shut': 4696, 'pc': 4697, 'blood_glucos': 4698, 'kayawel': 4699, 'newcoffe': 4700, 'storag': 4701, 'uric': 4702, 'maldiv': 4703, 'bunch': 4704, 'chacrita': 4705, 'foodforest': 4706, 'hang': 4707, 'polycultur': 4708, 'urbanfarm': 4709, 'sadhguru': 4710, 'yogic': 4711, 'wellgood': 4712, 'colleg': 4713, 'student': 4714, 'fitfam': 4715, 'fitpro': 4716, 'fitspo': 4717, 'oh': 4718, 'stone': 4719, 'lynnemctaggart': 4720, 'ಇಳಸಕ': 4721, 'ತಕ': 4722, 'ತರಹವರ': 4723, 'cucinanook': 4724, 'desi': 4725, 'lahor': 4726, 'lahori': 4727, 'pakistan': 4728, 'punjabi': 4729, 'daytrial': 4730, 'getter': 4731, 'goalgett': 4732, 'healthgoal': 4733, 'longlif': 4734, 'nostress': 4735, 'peoplepow': 4736, 'sardinia': 4737, 'traveldiari': 4738, 'opt': 4739, 'afford': 4740, 'bother': 4741, 'bought': 4742, 'enbrown': 4743, 'inde': 4744, 'us_fda': 4745, 'relianc': 4746, 'darrian': 4747, 'drinkreview': 4748, 'foodreview': 4749, 'kefir': 4750, 'kefirwat': 4751, 'freshoutseri': 4752, 'throw': 4753, 'anti_inflammatory_diet': 4754, 'cabinet': 4755, 'organichealthplanet': 4756, 'themhttpstcozvkuokqw': 4757, 'exclus': 4758, 'girlsway': 4759, 'con': 4760, 'outweigh': 4761, 'pro': 4762, 'roof': 4763, 'breadth': 4764, 'dental': 4765, 'selfi': 4766, 'covidindia': 4767, 'covidvari': 4768, 'mcgradymodel': 4769, 'motheri': 4770, 'bajra': 4771, 'fayd': 4772, 'ke': 4773, 'roti': 4774, 'sardiyon': 4775, 'villag': 4776, 'derail': 4777, 'illus': 4778, 'progressweek': 4779, 'shopcom': 4780, 'hypothyroid': 4781, 'appear': 4782, 'sell': 4783, 'amc': 4784, 'amcsnack': 4785, 'impossiblenugget': 4786, 'vegeterian': 4787, 'air': 4788, 'damag': 4789, 'occur': 4790, 'plasticpollut': 4791, 'bodyposit': 4792, 'dinnertim': 4793, 'loveit': 4794, 'behaviour': 4795, 'surprisingli': 4796, 'tastier': 4797, 'increasingli': 4798, 'health': 4799, 'abc': 4800, 'eatbett': 4801, 'rid': 4802, 'combat': 4803, 'ondemand': 4804, 'pcrm': 4805, 'excercis': 4806, 'freedom': 4807, 'vibrat': 4808, 'contribut': 4809, 'deadlin': 4810, 'molecul': 4811, 'septemb': 4812, 'submit': 4813, 'uquhttpstcodffkwc': 4814, 'welcom': 4815, 'aclifem': 4816, 'bestdiet': 4817, 'liveit': 4818, 'mydietid': 4819, 'truehealthinit': 4820, 'usnewshealth': 4821, 'af': 4822, 'dishearten': 4823, 'frustrat': 4824, 'henc': 4825, 'quack': 4826, 'quit': 4827, 'scienceadjac': 4828, 'fivesecond': 4829, 'tract': 4830, 'foodvib': 4831, 'lamuscl': 4832, 'lowcalori': 4833, 'lunchtim': 4834, 'musclegainz': 4835, 'salsa': 4836, 'skewer': 4837, 'flaxse': 4838, 'healthprofession': 4839, 'powerhous': 4840, 'theneedforse': 4841, 'tini': 4842, 'nowi': 4843, 'jinglecommerci': 4844, 'mexico': 4845, 'sock': 4846, 'drpunamkrishan': 4847, 'mentalwellb': 4848, 'tweak': 4849, 'allopath': 4850, 'appreci': 4851, 'eas': 4852, 'gastric': 4853, 'glabra': 4854, 'glycyrrhiza': 4855, 'licoric': 4856, 'peptic': 4857, 'relief': 4858, 'upset': 4859, 'animalwelfar': 4860, 'carbonregenerativeagricultur': 4861, 'fossilfuelderiv': 4862, 'sens': 4863, 'soilhealth': 4864, 'therapi': 4865, 'therapist': 4866, 'northumberland': 4867, 'ongo': 4868, 'snow': 4869, 'sun': 4870, 'dalma': 4871, 'lau': 4872, 'mooga': 4873, 'odia': 4874, 'burrito': 4875, 'cheff': 4876, 'foodgloriousfood': 4877, 'nott': 4878, 'nottingham': 4879, 'nottinghamfood': 4880, 'nottsfood': 4881, 'biodiversitydestroy': 4882, 'evolv': 4883, 'fructoseno': 4884, 'joannablythman': 4885, 'laden': 4886, 'technofood': 4887, 'weightloss': 4888, 'luci': 4889, 'mckinna': 4890, 'noochypoochi': 4891, 'pawfect': 4892, 'petfood': 4893, 'thevegankind': 4894, 'apollofory': 4895, 'apollohospit': 4896, 'wecar': 4897, 'dare': 4898, 'chemicalfre': 4899, 'dairyproduct': 4900, 'demand': 4901, 'lactosefre': 4902, 'marketanalysi': 4903, 'milkproduct': 4904, 'bangla': 4905, 'camp': 4906, 'dusib_shelt': 4907, 'mahavir': 4908, 'midhopeforlight': 4909, 'mohfw_india': 4910, 'msjegoi': 4911, 'sahib': 4912, 'satyendarjain': 4913, 'spym': 4914, 'allevi': 4915, 'extern': 4916, 'factsmatt': 4917, 'magic': 4918, 'swell': 4919, 'unless': 4920, 'craft': 4921, 'dh': 4922, 'rovsun': 4923, 'solid': 4924, 'caulsgasalrgfevinfetc': 4925, 'disz': 4926, 'diszsegg': 4927, 'exempt': 4928, 'fisheggsetc': 4929, 'grp': 4930, 'ppletc': 4931, 'pplsome': 4932, 'problemsq': 4933, 'whouno': 4934, 'workersrich': 4935, 'dprotimaan': 4936, 'gymlif': 4937, 'piipharma': 4938, 'unfit': 4939, 'modern': 4940, 'crunch': 4941, 'flat': 4942, 'tone': 4943, 'six': 4944, 'supercharg': 4945, 'beer': 4946, 'billgat': 4947, 'puls': 4948, 'mayb': 4949, 'realdailywir': 4950, 'theview': 4951, 'cst': 4952, 'dietlearn': 4953, 'workshop': 4954, 'eatinganim': 4955, 'foodtech': 4956, 'petersing': 4957, 'forag': 4958, 'wilder': 4959, 'eatwelltofeelwel': 4960, 'freewebinar': 4961, 'theme': 4962, 'compuls': 4963, 'notion': 4964, 'someday': 4965, 'willpow': 4966, 'fitlif': 4967, 'fooddiari': 4968, 'myfitnessp': 4969, 'djokov': 4970, 'ernaehrungfoodnutritionaliment': 4971, 'europeansportsmen': 4972, 'gesundheithealth': 4973, 'grand': 4974, 'midmatch': 4975, 'replic': 4976, 'slam': 4977, 'sportsport': 4978, 'streak': 4979, 'carbon': 4980, 'climatarian': 4981, 'footprint': 4982, 'foodisfuel': 4983, 'fuelyourbodi': 4984, 'planningso': 4985, 'romeoathlet': 4986, 'acut': 4987, 'agc_robot': 4988, 'businessfr': 4989, 'ce': 4990, 'dexcit': 4991, 'disrupt': 4992, 'revolution': 4993, 'smartteem_fr': 4994, 'vr': 4995, 'conflict': 4996, 'greentea': 4997, 'dispel': 4998, 'shouldnt': 4999, 'broadway': 5000, 'card': 5001, 'privileg': 5002, 'karma': 5003, 'plantain': 5004, 'pregnant': 5005, 'unrip': 5006, 'mayo': 5007, 'hoop': 5008, 'hula': 5009, 'roadmap': 5010, 'safeoper': 5011, 'summari': 5012, 'urbanarea': 5013, 'centenarian': 5014, 'foodnew': 5015, 'uknew': 5016, 'job': 5017, 'ournakedbrain': 5018, 'bakeryingredi': 5019, 'bakeryproduct': 5020, 'marketresearch': 5021, 'glenisk': 5022, 'schoolsreopen': 5023, 'shoploc': 5024, 'gonzalez': 5025, 'fiberful': 5026, 'seasalt': 5027, 'ammonia': 5028, 'china': 5029, 'format': 5030, 'mechanist': 5031, 'particul': 5032, 'quantif': 5033, 'bihar': 5034, 'delhi': 5035, 'delhifightscorona': 5036, 'himachalpradesh': 5037, 'mumbai': 5038, 'omicronindia': 5039, 'mcg': 5040, 'till': 5041, 'evolut': 5042, 'innerhuman': 5043, 'invent': 5044, 'stage': 5045, 'unnatur': 5046, 'nooch': 5047, 'nutritionalyeast': 5048, 'adhoc': 5049, 'curriculum': 5050, 'embed': 5051, 'firmli': 5052, 'literaci': 5053, 'saveyourfood': 5054, 'zerowast': 5055, 'jama': 5056, 'masjid': 5057, 'mindlessli': 5058, 'weightcontrol': 5059, 'customis': 5060, 'fold': 5061, 'kinda': 5062, 'omelett': 5063, 'stuf': 5064, 'fine': 5065, 'grater': 5066, 'albert': 5067, 'einstein': 5068, 'tie': 5069, 'chiku': 5070, 'localforvoc': 5071, 'namah': 5072, 'om': 5073, 'shivay': 5074, 'askdrfatima': 5075, 'medpagetoday': 5076, 'bird': 5077, 'birdtwitt': 5078, 'endors': 5079, 'heartili': 5080, 'incometutor': 5081, 'onthego': 5082, 'twitch': 5083, 'twitchgirl': 5084, 'wednesdayfeel': 5085, 'dialysi': 5086, 'examin': 5087, 'highbloodpressur': 5088, 'mmhg': 5089, 'chemistri': 5090, 'carri': 5091, 'healthymind': 5092, 'howyourbodywork': 5093, 'freshstart': 5094, 'lidl': 5095, 'lidl_ireland': 5096, 'mag': 5097, 'nationwid': 5098, 'affair': 5099, 'bittersweet': 5100, 'cater': 5101, 'cheeki': 5102, 'domain': 5103, 'ediblevers': 5104, 'aint': 5105, 'bison': 5106, 'highlight': 5107, 'schnuckmarket': 5108, 'non': 5109, 'symphoni': 5110, 'weigh': 5111, 'crucifer': 5112, 'detoxifyfood': 5113, 'therealjuliabradburi': 5114, 'thi': 5115, 'farmtot': 5116, 'labtot': 5117, 'empower': 5118, 'chicago': 5119, 'communityaffair': 5120, 'itkradiomagshow': 5121, 'relax': 5122, 'absorb': 5123, 'anybodi': 5124, 'forgiv': 5125, 'healthyvib': 5126, 'buildup': 5127, 'earwax': 5128, 'hearingloss': 5129, 'wednesdaywisdom': 5130, 'crystal': 5131, 'mike': 5132, 'earth_changers_': 5133, 'madagascar': 5134, 'admit': 5135, 'becam': 5136, 'meatless': 5137, 'rollout': 5138, 'voxdotcom': 5139, 'bigger': 5140, 'easysolut': 5141, 'logic': 5142, 'midlif': 5143, 'womenshealth': 5144, 'handi': 5145, 'restart': 5146, 'edtech': 5147, 'gutsupport': 5148, 'maxim': 5149, 'plenti': 5150, 'caramelparsley': 5151, 'classif': 5152, 'nova': 5153, 'inperson': 5154, 'tc_africa': 5155, 'climater': 5156, 'letsgetr': 5157, 'absorpt': 5158, 'physicalchem': 5159, 'refrain': 5160, 'tangibl': 5161, 'tigray': 5162, 'bhfyp': 5163, 'instagood': 5164, 'healhtyeat': 5165, 'guidanc': 5166, 'bullshitteri': 5167, 'quackwatch': 5168, 'fuhrman': 5169, 'joel': 5170, 'nutritarian': 5171, 'sciencebas': 5172, 'immunsystem': 5173, 'mentalhealthmatt': 5174, 'workbook': 5175, 'epilepsi': 5176, 'seizur': 5177, 'creation': 5178, 'ekhaga': 5179, 'asana': 5180, 'maximis': 5181, 'mickeym': 5182, 'optimis': 5183, 'montmor': 5184, 'specialist': 5185, 'superfruit': 5186, 'promis': 5187, 'dragon': 5188, 'dragonfruit': 5189, 'loyalti': 5190, 'calabash': 5191, 'foo': 5192, 'gourd': 5193, 'कधह': 5194, 'खऊ': 5195, 'गषट': 5196, 'दधसबत': 5197, 'नक': 5198, 'शकत': 5199, 'शररल': 5200, 'हऊ': 5201, 'हन': 5202, 'bakerskitchenua': 5203, 'patti': 5204, 'clarifi': 5205, 'ghee': 5206, 'leg': 5207, 'pastur': 5208, 'brace': 5209, 'bridgetheproteingap': 5210, 'ds': 5211, 'preventivemedicin': 5212, 'alon': 5213, 'countless': 5214, 'hesit': 5215, 'instanc': 5216, 'enterpris': 5217, 'fitnessequip': 5218, 'gear': 5219, 'ppl': 5220, 'websitedesign': 5221, 'weight': 5222, 'joeharaszti': 5223, 'pasadena': 5224, 'arctic': 5225, 'hurrican': 5226, 'intensifi': 5227, 'northwest': 5228, 'permafrost': 5229, 'thaw': 5230, 'typhoon': 5231, 'rethink': 5232, 'sequestr': 5233, 'topsoil': 5234, 'conversationuk': 5235, 'healthili': 5236, 'sallet': 5237, 'healthifi': 5238, 'nutrisnapp': 5239, 'listento': 5240, 'podcastandchil': 5241, 'podnat': 5242, 'tidbit': 5243, 'introduc': 5244, 'spontan': 5245, 'fruselva': 5246, 'globalfruselva': 5247, 'jungl': 5248, 'pinterest': 5249, 'atheist': 5250, 'atheistforum': 5251, 'christ': 5252, 'colocasia': 5253, 'colossian': 5254, 'jesu': 5255, 'sin': 5256, 'supper': 5257, 'french': 5258, 'feet': 5259, 'goodtuesday': 5260, 'tuesdaytreat': 5261, 'tuesdaytrivia': 5262, 'hint': 5263, 'journal': 5264, 'pointless': 5265, 'trainertiptuesday': 5266, 'andi': 5267, 'avraham': 5268, 'blumenth': 5269, 'frenchfri': 5270, 'guy': 5271, 'cleanjuic': 5272, 'connecticut': 5273, 'mccusker': 5274, 'meagen': 5275, 'susandunn': 5276, 'fullvegan': 5277, 'gi': 5278, 'anorexiarecoveri': 5279, 'battl': 5280, 'forc': 5281, 'lara': 5282, 'quantiti': 5283, 'spiritu': 5284, 'ssrf': 5285, 'bbc_futur': 5286, 'badli': 5287, 'microscop': 5288, 'rife': 5289, 'djdredanim': 5290, 'haitianhealth': 5291, 'haitiantwitt': 5292, 'convinc': 5293, 'foodharkecom': 5294, 'harkefood': 5295, 'fearless': 5296, 'ironman': 5297, 'tonystark': 5298, 'centenari': 5299, 'chemengevolut': 5300, 'ichem': 5301, 'atheism': 5302, 'christmasruin': 5303, 'islam': 5304, 'mashablesea': 5305, 'easier': 5306, 'efsa': 5307, 'efsa_eu': 5308, 'remit': 5309, 'revamp': 5310, 'centuri': 5311, 'miracul': 5312, 'mosaica': 5313, 'bbcfoodprog': 5314, 'dollythei': 5315, 'iii': 5316, 'qn': 5317, 'tx': 5318, 'wider': 5319, 'agric': 5320, 'agroecologywork': 5321, 'earn': 5322, 'regenerativeag': 5323, 'reinvest': 5324, 'smallhold': 5325, 'sustainableag': 5326, 'sustainableagricultur': 5327, 'africa': 5328, 'cassava': 5329, 'drjdrooghaag': 5330, 'garri': 5331, 'goget': 5332, 'isafetykid': 5333, 'jd_publish': 5334, 'lifesav': 5335, 'nigeria': 5336, 'grind': 5337, 'happynewyear': 5338, 'hit': 5339, 'theguiltygrap': 5340, 'trainer': 5341, 'biryani': 5342, 'bodytyp': 5343, 'vitsupp': 5344, 'vitsupphealth': 5345, 'eu_eurostat': 5346, 'covidw': 5347, 'omicronviru': 5348, '𝗱𝗶𝗲𝘁𝘀': 5349, '𝗽𝗹𝗮𝗻𝘁𝗯𝗮𝘀𝗲𝗱': 5350, 'nutrion': 5351, 'nutritionjewel': 5352, 'gheebutt': 5353, 'gheerecip': 5354, 'manifold': 5355, 'recipehttpstcolbvqldmd': 5356, 'azur': 5357, 'bulk': 5358, 'homestead': 5359, 'prepared': 5360, 'beneficiari': 5361, 'pmgkay': 5362, 'tamilnadu': 5363, 'tn': 5364, 'misfit': 5365, 'monthlyweightlosschalleng': 5366, 'begin': 5367, 'brother': 5368, 'comparison': 5369, 'debat': 5370, 'meantim': 5371, 'medmyth': 5372, 'propositionwhich': 5373, 'soonth': 5374, 'appstor': 5375, 'delet': 5376, 'internet': 5377, 'screenshot': 5378, 'hairgrowth': 5379, 'naturalfood': 5380, 'whattoeat': 5381, 'lbsstonekg': 5382, 'turnip': 5383, 'newyearsresolut': 5384, 'ssptv': 5385, 'tv': 5386, 'antiinflamm': 5387, 'brainmuffin': 5388, 'crème': 5389, 'powercrunchbar': 5390, 'wild': 5391, 'gogreen': 5392, 'mobi': 5393, 'trvst': 5394, 'veganlif': 5395, 'vegetarianfriendli': 5396, 'az': 5397, 'bessem': 5398, 'fdanew': 5399, 'nc': 5400, 'voluntari': 5401, 'yuma': 5402, 'cet': 5403, 'egu': 5404, 'egu_h': 5405, 'hydrolog': 5406, 'nexu': 5407, 'vpico': 5408, 'wefe': 5409, 'cafo': 5410, 'encount': 5411, 'roadblock': 5412, 'rural': 5413, 'srap': 5414, 'valuabl': 5415, 'afraid': 5416, 'irishfitfam': 5417, 'selfish': 5418, 'flatter': 5419, 'healthc': 5420, 'tummi': 5421, 'foodbehind': 5422, 'popularfood': 5423, 'goodnight': 5424, 'halwa': 5425, 'kesari': 5426, 'breast': 5427, 'nakednutrit': 5428, 'reevalu': 5429, 'lookafteryourself': 5430, 'relev': 5431, 'danforthcent': 5432, 'postdoc': 5433, 'andor': 5434, 'hi': 5435, 'frontlin': 5436, 'discrimin': 5437, 'engbiorc': 5438, 'jamesbond': 5439, 'wustl': 5440, 'veganvegetarian': 5441, 'chant': 5442, 'happylif': 5443, 'retelecast': 5444, 'satsang': 5445, 'sattvik': 5446, 'household': 5447, 'oppos': 5448, 'sportsmonday': 5449, 'vaibhavgarg': 5450, 'perhap': 5451, 'welfar': 5452, 'elixinolsa': 5453, 'faithfulnatur': 5454, 'litchi': 5455, 'titch': 5456, 'jessica': 5457, 'kratom': 5458, 'linkbuild': 5459, 'amam': 5460, 'fab': 5461, 'pmpm': 5462, 'stroud': 5463, 'असन': 5464, 'आरगयसठ': 5465, 'चवल': 5466, 'मशरम': 5467, 'लभदय': 5468, 'सवदषट': 5469, 'healthresolut': 5470, 'kripajalan': 5471, 'watchdog': 5472, 'companion': 5473, 'elimin': 5474, 'fruitsbasket': 5475, 'radic': 5476, 'epitheli': 5477, 'layer': 5478, 'tear': 5479, 'aaj': 5480, 'acl': 5481, 'bombay': 5482, 'boy': 5483, 'chomp': 5484, 'faux': 5485, 'fi': 5486, 'kal': 5487, 'kar': 5488, 'kare': 5489, 'lug': 5490, 'thud': 5491, 'waist': 5492, 'wall': 5493, 'xma': 5494, 'hk': 5495, 'mingpao': 5496, 'trap': 5497, '健康': 5498, '無糖朱古力乳酪飲品豆漿等一般人以為是健康的食物原來是健康陷阱': 5499, '食品': 5500, 'anthropocenem': 5501, 'antioxidantrich': 5502, 'canuckcogniz': 5503, 'feelsyoung': 5504, 'hal': 5505, 'ioncorrupt': 5506, 'jamest': 5507, 'lorjayze': 5508, 'mariadeliasofia': 5509, 'thcobbphc': 5510, 'thunderbird': 5511, 'wgarnew': 5512, 'xzpwedvhhhic': 5513, 'mcdonald': 5514, 'goat': 5515, 'genz': 5516, 'iri': 5517, 'cfbnj': 5518, 'endhung': 5519, 'feedingamerica': 5520, 'forward': 5521, 'hopeisher': 5522, 'nj': 5523, 'snap': 5524, 'snape': 5525, 'tue': 5526, 'automat': 5527, 'foss': 5528, 'fossil': 5529, 'donampxt': 5530, 'balcktea': 5531, 'edamam': 5532, 'kabab': 5533, 'outcom': 5534, 'pharmacolog': 5535, 'cancerfight': 5536, 'iamwellandgood': 5537, 'shed': 5538, 'electrolyt': 5539, 'epidem': 5540, 'lemondefr': 5541, 'primari': 5542, 'apesar': 5543, 'causa': 5544, 'ciencia': 5545, 'descobriu': 5546, 'ele': 5547, 'estudo': 5548, 'noticia': 5549, 'não': 5550, 'resultado': 5551, 'saud': 5552, 'munch': 5553, 'ofdaili': 5554, 'rambutan': 5555, 'requir': 5556, 'teeth': 5557, 'gloriou': 5558, 'gland': 5559, 'salivari': 5560, 'grog': 5561, 'kayjay': 5562, 'oldmonk': 5563, 'pune': 5564, 'samarjeet_n': 5565, 'simply_mixed_up': 5566, 'veteran': 5567, 'writer': 5568, 'writerslift': 5569, 'carer': 5570, 'engag': 5571, 'beautytip': 5572, 'bei': 5573, 'biogena': 5574, 'blogpost': 5575, 'ernährung': 5576, 'gesundheit': 5577, 'declutt': 5578, 'skinrenewalsa': 5579, 'expertback': 5580, 'hangov': 5581, 'bekind': 5582, 'deforest': 5583, 'waterscarc': 5584, 'familymeet': 5585, 'inocul': 5586, 'kajolislam': 5587, 'seventh': 5588, 'salsamexico': 5589, 'deadliest': 5590, 'writeup': 5591, 'christin': 5592, 'dens': 5593, 'frm': 5594, 'heidihmoretti': 5595, 'shashiiyengar': 5596, 'tdiabet': 5597, 'untamp': 5598, 'bitter': 5599, 'catalan': 5600, 'mirema': 5601, 'proverb': 5602, 'fitroski': 5603, 'ketofood': 5604, 'kito': 5605, 'kitogen': 5606, 'agre': 5607, 'coronaviruspandem': 5608, 'ryanfan': 5609, 'hino': 5610, 'apexランク': 5611, 'contentcr': 5612, 'kefkaspawn': 5613, 'menshealth': 5614, 'theglutenfrenewfi': 5615, 'mutant': 5616, 'vanilla': 5617, 'weighttrain': 5618, 'whey': 5619, 'tasteofsouthsud': 5620, 'gmocorn': 5621, 'sober': 5622, 'beachahol': 5623, 'ccgevirtz': 5624, 'cynblogg': 5625, 'daisycatnin': 5626, 'dalekanzl': 5627, 'jssbl': 5628, 'literaturepost': 5629, 'pattyteambiden': 5630, 'procm': 5631, 'suebanski': 5632, 'vwheato': 5633, 'yogini': 5634, 'delicasa': 5635, 'internationald': 5636, 'yourcareplan': 5637, 'cheer': 5638, 'joy': 5639, 'menusano': 5640, 'nutritionlabel': 5641, 'nutritiontech': 5642, 'adulter': 5643, 'biggov': 5644, 'evil': 5645, 'incompet': 5646, 'onthetak': 5647, 'kombucha': 5648, 'goodvibesonli': 5649, 'fallaci': 5650, 'hive': 5651, 'hivesport': 5652, 'myworkoutarena': 5653, 'posh': 5654, 'rmsbodybuild': 5655, 'weightlift': 5656, 'altar': 5657, 'worship': 5658, 'felicityplu': 5659, 'customsign': 5660, 'engrav': 5661, 'ft': 5662, 'furnitur': 5663, 'grade': 5664, 'hardwood': 5665, 'tall': 5666, 'woodwork': 5667, 'करणयस': 5668, 'करत': 5669, 'करन': 5670, 'चट': 5671, 'फरट': 5672, 'मदत': 5673, 'वजन': 5674, 'mala': 5675, 'math': 5676, 'mmxxii': 5677, 'sichuan': 5678, 'incomesorgan': 5679, 'risen': 5680, 'abcnew': 5681, 'emerg': 5682, 'outag': 5683, 'politician': 5684, 'smallbiz': 5685, 'stategov': 5686, 'wa': 5687, 'wapol': 5688, 'westaustralian': 5689, 'westernpowerwa': 5690, 'friendship': 5691, 'laugh': 5692, 'chapter': 5693, 'lgbtq': 5694, 'proud': 5695, 'proudnutrit': 5696, 'everytrailconnect': 5697, 'fitnesss': 5698, 'florida': 5699, 'georgia': 5700, 'north': 5701, 'optoutsid': 5702, 'bibliographi': 5703, 'came': 5704, 'covidpandem': 5705, 'covidresearch': 5706, 'metaanalysi': 5707, 'drinkbest': 5708, 'infopreneur': 5709, 'landingpag': 5710, 'landingpagedesign': 5711, 'leadpag': 5712, 'baguett': 5713, 'brioch': 5714, 'cigogn': 5715, 'et': 5716, 'pâtisseri': 5717, 'happyhealthyy': 5718, 'kj': 5719, 'kjlandi': 5720, 'landi': 5721, 'superiorself': 5722, 'ate': 5723, 'fam': 5724, 'liberti': 5725, 'coffeetim': 5726, 'healthyhabit': 5727, 'oven': 5728, 'traderjoeslist': 5729, 'preorder': 5730, 'vinnietortorich': 5731, 'brightfarm': 5732, 'inflat': 5733, 'iriworldwid': 5734, 'jpgresourc': 5735, 'npdgroup': 5736, 'upsidefood': 5737, 'hush': 5738, 'impress': 5739, 'measuresnot': 5740, 'scalemor': 5741, 'theplanethealthtv': 5742, 'tphtv': 5743, 'mindsjourn': 5744, 'themindsjourn': 5745, 'basicswithlaura': 5746, 'hop': 5747, 'steve': 5748, 'invari': 5749, 'inward': 5750, 'farminggeorg': 5751, 'orgresc': 5752, 'papabeareir': 5753, 'conclus': 5754, 'land': 5755, 'bblue': 5756, 'bbluedrink': 5757, 'eve': 5758, 'pleasant': 5759, 'spirulin': 5760, 'conditionshealth': 5761, 'stressmanag': 5762, 'lighter': 5763, 'rohananthoni': 5764, 'whenev': 5765, 'god': 5766, 'hindu': 5767, 'lifetru': 5768, 'path': 5769, 'responsibleq': 5770, 'systemsamp': 5771, 'systemsbesttru': 5772, 'asyousow': 5773, 'cocoa': 5774, 'consumerlab': 5775, 'paid': 5776, 'similar': 5777, 'neoliber': 5778, 'repair': 5779, 'devot': 5780, 'dieter': 5781, 'ℹ': 5782, 'gestat': 5783, 'unsatur': 5784, 'wholegrain': 5785, 'christmasfood': 5786, 'ketorecip': 5787, 'festivefood': 5788, 'holidayswhil': 5789, 'partyfood': 5790, 'stubborn': 5791, 'airfri': 5792, 'bagel': 5793, 'sausag': 5794, 'welcomeadventur': 5795, 'roguefp': 5796, 'dynamicfr': 5797, 'frizefriedo': 5798, 'decemb': 5799, 'smile': 5800, 'wellabsorb': 5801, 'ampchild': 5802, 'brickkiln': 5803, 'brickkilnwork': 5804, 'cecindia': 5805, 'centr': 5806, 'clra_india': 5807, 'digniti': 5808, 'funampeduc': 5809, 'haqcrc': 5810, 'mathura': 5811, 'sovereignti': 5812, 'tdh': 5813, 'cod': 5814, 'coriand': 5815, 'heaven': 5816, 'roundup': 5817, 'merit': 5818, 'budgetconsci': 5819, 'inhibit': 5820, 'taken': 5821, 'healthresearch': 5822, 'oncolog': 5823, 'request': 5824, 'blink': 5825, 'giggl': 5826, 'joke': 5827, 'dollop': 5828, 'parmesan': 5829, 'spirit': 5830, 'cooper': 5831, 'endofyear': 5832, 'honbl': 5833, 'minist': 5834, 'pillar': 5835, 'realbrajapaksa': 5836, 'recept': 5837, 'securitycurr': 5838, 'securityenergi': 5839, 'yesterday': 5840, 'blackpepp': 5841, 'कळ': 5842, 'खव': 5843, 'मर': 5844, 'marketingstrategi': 5845, 'daysofchristma': 5846, 'permiss': 5847, 'thebhf': 5848, 'dimens': 5849, 'gile': 5850, 'mudder': 5851, 'plant_bas': 5852, 'talkradio': 5853, 'bet': 5854, 'starv': 5855, 'drmickeymehtagmailcom': 5856, 'email': 5857, 'harmoni': 5858, 'mpowermind': 5859, 'naturalis': 5860, 'tweakindia': 5861, 'chefmela': 5862, 'quesadilla': 5863, 'healthforal': 5864, 'memori': 5865, 'reliv': 5866, 'zinc': 5867, 'trustnewskannada': 5868, 'ಈ': 5869, 'ಮನಮದದ': 5870, 'ಮಲಬದಧತ': 5871, 'ರಮಬಣ': 5872, 'ಸಮಸಯಗ': 5873, 'fixitwithfood': 5874, 'doordash': 5875, 'grubhub': 5876, 'ubereat': 5877, 'crazi': 5878, 'wantresult': 5879, 'bbcrtoday': 5880, 'guestedit': 5881, 'herdyshepherd': 5882, 'rurbanrev': 5883, 'bike': 5884, 'garner': 5885, 'ride': 5886, 'viral': 5887, 'alternativemedicin': 5888, 'enterprisingwomennigeria': 5889, 'wat': 5890, 'ts': 5891, 'wellnesstest': 5892, 'autoplay_video': 5893, 'beefburg': 5894, 'howtolivelong': 5895, 'pud': 5896, 'inclin': 5897, 'nootrop': 5898, 'covidnsw': 5899, 'dietitia': 5900, 'trinbagonian': 5901, 'chalk': 5902, 'exercisebik': 5903, 'tweetasm': 5904, 'doglov': 5905, 'gift': 5906, 'hundsfutt': 5907, 'toy': 5908, '的一切都是純素食健康可持續公平環保和氣候友好的它是用很多愛製作的因為那樣更好對於每個人和一切': 5909, 'climatefriendli': 5910, 'adword': 5911, 'googlead': 5912, 'smm': 5913, 'dermatran': 5914, 'funfact': 5915, 'halfway': 5916, 'unyt': 5917, 'whatthefact': 5918, 'crudité': 5919, 'spare': 5920, '_healthresult': 5921, 'bennett': 5922, 'seedoil': 5923, 'sicken': 5924, 'vegetableoil': 5925, 'togo': 5926, 'familyfriendli': 5927, 'cruelti': 5928, 'latin': 5929, 'vegand': 5930, 'alexandria': 5931, 'fruiti': 5932, 'magicspoon': 5933, 'spoon': 5934, 'wednesdayvib': 5935, 'muffin': 5936, 'assur': 5937, 'lifelong': 5938, 'agil': 5939, 'headwind': 5940, 'ice': 5941, 'schuldensuehn': 5942, 'thin': 5943, 'uncertainti': 5944, 'variant': 5945, 'dancinginlif': 5946, 'pjdunleavi': 5947, 'uwmedicin': 5948, 'decent': 5949, 'ifad': 5950, 'ideal': 5951, 'flavinoid': 5952, 'helpfulheart': 5953, 'phenol': 5954, 'thrill': 5955, 'thewatchdognew': 5956, 'candi': 5957, 'birthday': 5958, 'goqii': 5959, 'mrsfunnybon': 5960, 'bioethic': 5961, 'edmund': 5962, 'ethic': 5963, 'impakt': 5964, 'weisberg': 5965, 'socialsecur': 5966, 'dawn': 5967, 'drool': 5968, 'injuri': 5969, 'intens': 5970, 'km': 5971, 'knee': 5972, 'rehab': 5973, 'raptor': 5974, 'lipas': 5975, 'mecf': 5976, 'ageless': 5977, 'dubrow': 5978, 'interv': 5979, 'glorious': 5980, 'tree': 5981, 'torontoraptor': 5982, 'freerang': 5983, 'poultri': 5984, 'hcmc': 5985, 'saigon': 5986, 'vietnam': 5987, 'judg': 5988, 'goodal': 5989, 'jane': 5990, 'oversea': 5991, 'wfpb': 5992, 'yep': 5993, 'circulareconomi': 5994, 'greenenergi': 5995, 'vow': 5996, 'beast': 5997, 'burgersburg': 5998, 'johnrich': 5999, 'district': 6000, 'elderli': 6001, 'hongkou': 6002, 'nicknam': 6003, 'cholin': 6004, 'doghealth': 6005, 'dosag': 6006, 'petindustri': 6007, 'veterinari': 6008, 'alexa': 6009, 'hai': 6010, 'icecream': 6011, 'qki': 6012, 'winteriscom': 6013, 'feedtheneedi': 6014, 'safetyfirst': 6015, 'servethen': 6016, 'callemail': 6017, 'humm': 6018, 'sing': 6019, 'kashmirvilla': 6020, 'cosmet': 6021, 'lubric': 6022, 'oilse': 6023, 'floor': 6024, 'isol': 6025, 'quarantin': 6026, 'staf': 6027, 'rightli': 6028, 'sixweek': 6029, 'allnatur': 6030, 'activist': 6031, 'mommygreenest': 6032, 'nogmo': 6033, 'org': 6034, 'pesticidefre': 6035, 'pfa': 6036, 'rei': 6037, 'feast': 6038, 'grassf': 6039, 'lchf': 6040, 'whoismad': 6041, 'anjahoffmann': 6042, 'interlink': 6043, 'overlap': 6044, 'dem': 6045, 'uniteblu': 6046, 'christmasdinn': 6047, 'getvaccinatednow': 6048, 'sooo': 6049, 'wellington': 6050, 'अस': 6051, 'गषटत': 6052, 'डळब': 6053, 'डळबच': 6054, 'परयत': 6055, 'पसन': 6056, 'फयदशर': 6057, 'सरवच': 6058, 'audit': 6059, 'co': 6060, 'crueltyfre': 6061, 'emit': 6062, 'notco': 6063, 'vegnew': 6064, 'pimpl': 6065, 'damm': 6066, 'excusen': 6067, 'fruitsand': 6068, 'proteinget': 6069, 'ensu': 6070, 'fossilfuel': 6071, 'strict': 6072, 'unemploy': 6073, 'unicef': 6074, 'union': 6075, 'blingg': 6076, 'blinggbox': 6077, 'giveaway': 6078, 'lets_eat_mumbai': 6079, 'repost': 6080, 'wellnessbeautylifestyl': 6081, 'diabetesfriendli': 6082, 'adolescentfriendli': 6083, 'qayyumnaina': 6084, 'backpack': 6085, 'bariatr': 6086, 'الكمية': 6087, 'المافين': 6088, 'الواحدة': 6089, 'تحتوي': 6090, 'تكفي': 6091, 'على': 6092, 'لتحضير': 6093, 'من': 6094, 'منها': 6095, 'هذه': 6096, 'selfdiscipl': 6097, 'meetthemeatless': 6098, 'plantsanim': 6099, 'ampamp': 6100, 'buzzi': 6101, 'given': 6102, 'brownric': 6103, 'whiteric': 6104, '𝑪𝒓𝒆𝒂𝒕𝒆': 6105, '𝑫𝒆𝒔𝒄𝒓𝒊𝒑𝒕𝒊𝒐𝒏': 6106, '𝑰𝒏': 6107, '𝑴𝒆𝒂𝒍': 6108, '𝑶𝒘𝒏': 6109, '𝑷𝒍𝒂𝒏': 6110, '𝑹𝒆𝒄𝒊𝒑𝒆': 6111, '𝒀𝒐𝒖𝒓': 6112, 'cracker': 6113, 'glutensensit': 6114, 'gur': 6115, 'indianexpress': 6116, 'salti': 6117, 'til': 6118, 'groundbreak': 6119, 'perman': 6120, 'perth': 6121, 'perthnow': 6122, 'smallbusi': 6123, 'suburb': 6124, 'thrown': 6125, 'wanew': 6126, 'chr_hansen': 6127, 'datassenti': 6128, 'horvath': 6129, '_phaa_': 6130, 'australiaihm': 6131, 'eatin': 6132, 'musician': 6133, 'darze': 6134, 'holidayseason': 6135, 'pile': 6136, 'bangladesh': 6137, 'kalerkantho': 6138, 'kalerkanthonew': 6139, 'newsalert': 6140, 'newsupd': 6141, 'thekalerkantho': 6142, 'কন': 6143, 'কলরকণঠ': 6144, 'খবন': 6145, 'পযর': 6146, 'বলদশ': 6147, 'শতকল': 6148, 'উপয': 6149, 'কশ': 6150, 'খশখশ': 6151, 'ঘরয': 6152, 'থক': 6153, 'মকতর': 6154, 'b_ed': 6155, 'bednot': 6156, 'constitu': 6157, 'dele': 6158, 'delednot': 6159, 'foodconstitu': 6160, 'healtheduc': 6161, 'healtheducationnot': 6162, 'physicaleduc': 6163, 'pupilstutor': 6164, 'tutor': 6165, 'maximum': 6166, 'ray': 6167, 'reserch': 6168, 'thu': 6169, 'undernutrit': 6170, 'unlimit': 6171, 'walford': 6172, 'তরর': 6173, 'দধপল': 6174, 'মজদর': 6175, 'রসপ': 6176, 'গরম': 6177, 'জনয': 6178, 'ঠণড': 6179, 'ন': 6180, 'পন': 6181, 'ভল': 6182, 'শত': 6183, 'শররর': 6184, 'glori': 6185, 'groundnutpeanut': 6186, 'pyramid': 6187, 'পওযর': 6188, 'বতর': 6189, 'বযথ': 6190, 'মকত': 6191, 'dietitianswo': 6192, 'expertis': 6193, 'prescript': 6194, 'prof': 6195, 'protocol': 6196, 'spfc': 6197, 'standardis': 6198, 'rapid': 6199, 'dalat': 6200, 'danang': 6201, 'hue': 6202, 'christmastre': 6203, 'costum': 6204, 'musclefood': 6205, 'voucher': 6206, 'escap': 6207, 'nlp': 6208, 'slave': 6209, 'target': 6210, 'covidrecoveri': 6211, 'immunityboostertip': 6212, 'island': 6213, 'merri': 6214, 'nft': 6215, 'princip': 6216, 'ketomasterr': 6217, 'wanna': 6218, '𝐂𝐥𝐢𝐜𝐤': 6219, '𝐅𝐨𝐫': 6220, '𝐅𝐫𝐞𝐞': 6221, '𝐇𝐞𝐫𝐞': 6222, '𝐞𝐁𝐨𝐨𝐤': 6223, 'tackl': 6224, 'aduwa': 6225, 'thornytre': 6226, 'naini': 6227, 'setalvad': 6228, 'ticker': 6229, 'tiptop': 6230, 'handmad': 6231, 'dread': 6232, 'slump': 6233, 'workday': 6234, 'dual': 6235, 'groov': 6236, 'kitchenstyl': 6237, 'spiderman': 6238, 'farreach': 6239, 'marketgrowth': 6240, 'marketreport': 6241, 'markets': 6242, 'technavio': 6243, 'fizzi': 6244, 'bodyimag': 6245, 'mania': 6246, 'omagazinesa': 6247, 'optimyzmag': 6248, 'buckinghamshirebusi': 6249, 'christmasev': 6250, 'cosi': 6251, 'templ': 6252, 'visitaylesburi': 6253, 'winebar': 6254, 'dumb': 6255, 'vape': 6256, 'joyastug': 6257, 'bonni': 6258, 'director': 6259, 'eatsaf': 6260, 'gainalli': 6261, 'mcclafferti': 6262, 'sidelin': 6263, 'rebound': 6264, 'over': 6265, 'healthclaim': 6266, 'unpack': 6267, 'culturez': 6268, 'gopersi': 6269, 'persian': 6270, 'saladshirazi': 6271, 'shiraz': 6272, 'shirazi': 6273, 'shirazisalad': 6274, 'climateenergi': 6275, 'funder': 6276, 'cleans': 6277, 'buildbackbett': 6278, 'manchin': 6279, 'marin': 6280, 'morbidli': 6281, 'virginia': 6282, 'opinion': 6283, 'crush': 6284, 'felt': 6285, 'myvoic': 6286, 'nauseou': 6287, 'shaki': 6288, 'weak': 6289, 'bloodtest': 6290, 'universityofwageningen': 6291, 'peptan': 6292, 'lengthen': 6293, 'wear': 6294, 'wind': 6295, 'chanc': 6296, 'handout': 6297, 'backtonatur': 6298, 'dawakhana': 6299, 'gondal': 6300, 'hakeem': 6301, 'maharu': 6302, 'nasarullah': 6303, 'pray': 6304, 'ma': 6305, 'pulao': 6306, 'besara': 6307, 'macha': 6308, 'mustard': 6309, 'tilapia': 6310, 'oprah': 6311, 'undervalu': 6312, 'winfrey': 6313, 'arrest': 6314, 'carnivorediet': 6315, 'newyork': 6316, 'nyc': 6317, 'queen': 6318, 'redmeat': 6319, 'sitin': 6320, 'surfandturf': 6321, 'kilogram': 6322, 'sedentari': 6323, 'andrew': 6324, 'andrewngyyc': 6325, 'bc': 6326, 'carlson': 6327, 'cfc': 6328, 'chiang': 6329, 'citizenship': 6330, 'execut': 6331, 'homegrownleadership': 6332, 'junussov': 6333, 'kim': 6334, 'nerlap': 6335, 'ng': 6336, 'nickolai': 6337, 'sidhu': 6338, 'thickson': 6339, 'tito': 6340, 'willow': 6341, 'giveback': 6342, 'manchest': 6343, 'manchesternewhampshir': 6344, 'nashuanewhampshir': 6345, 'newhampshir': 6346, 'nh': 6347, 'awesom': 6348, 'eastsid': 6349, 'fosho': 6350, 'indianapoli': 6351, 'martin': 6352, 'mineralwat': 6353, 'difficulti': 6354, 'thursdayfeel': 6355, 'bipolar': 6356, 'aesthet': 6357, 'chlorid': 6358, 'chlorin': 6359, 'granul': 6360, 'chachdi': 6361, 'forgot': 6362, 'thirtydaygratitud': 6363, 'winterseason': 6364, 'استعمال': 6365, 'سردیوں': 6366, 'غذاؤں': 6367, 'میں': 6368, 'کریں': 6369, 'کن': 6370, 'arhar': 6371, 'dal': 6372, 'toor': 6373, 'aguaclan': 6374, 'backbon': 6375, 'adopt': 6376, 'electronicnos': 6377, 'propel': 6378, 'stringent': 6379, 'fryer': 6380, 'loos': 6381, 'morningmotiv': 6382, 'chickenbiryani': 6383, 'yearend': 6384, 'ambimgp': 6385, 'childtarget': 6386, 'lowermiddl': 6387, 'sir': 6388, 'bag': 6389, 'benzen': 6390, 'condition': 6391, 'gambl': 6392, 'procter': 6393, 'shampoo': 6394, 'wowofortwayn': 6395, 'glutenfreefood': 6396, 'log': 6397, 'bajri': 6398, 'flake': 6399, 'joannakp': 6400, 'jowar': 6401, 'loner': 6402, 'nachani': 6403, 'rotityp': 6404, 'ss': 6405, 'broadband': 6406, 'forgotten': 6407, 'jon_trickett': 6408, 'happychristma': 6409, 'marlenemclara': 6410, 'meridianfood': 6411, 'crown': 6412, 'yam': 6413, 'cleansingtip': 6414, 'telugu': 6415, 'ఆహర': 6416, 'ఇద': 6417, 'తలవతటలన': 6418, 'పచ': 6419, 'fire': 6420, 'germ': 6421, 'respond': 6422, 'robust': 6423, 'di': 6424, 'jawanjay': 6425, 'jay': 6426, 'kishan': 6427, 'nationalfarmersday': 6428, 'wellnessquoti': 6429, 'wqcommun': 6430, 'multicultur': 6431, 'william': 6432, 'sciencesyumi': 6433, 'dreamboard': 6434, 'happyholiday': 6435, 'metim': 6436, 'catturd': 6437, 'doctorfishbon': 6438, 'issuesinstead': 6439, 'pharmaceuticalsforev': 6440, 'whose': 6441, 'kimchi': 6442, 'koreanfood': 6443, 'ayush': 6444, 'oxford': 6445, 'reinforc': 6446, 'zindagirahekhush': 6447, 'delizia': 6448, 'swiggi': 6449, 'sarscov': 6450, 'triterpenoid': 6451, 'lumifoodblog': 6452, 'clinicalnutrit': 6453, 'densiti': 6454, 'grasp': 6455, 'biscu': 6456, 'brew': 6457, 'hibiscu': 6458, 'lusciou': 6459, 'wayn': 6460, 'ergot': 6461, 'classi': 6462, 'embodi': 6463, 'reflect': 6464, 'dettydecemb': 6465, 'healthadvocaci': 6466, 'hee': 6467, 'blackcoffe': 6468, 'आप': 6469, 'इसतमल': 6470, 'atxfoodblog': 6471, 'boggycreekfarm': 6472, 'friendsof': 6473, 'lenoiratx': 6474, 'membership': 6475, 'venu': 6476, 'bargain': 6477, 'bridal': 6478, 'realist': 6479, 'factsdaili': 6480, 'factswow': 6481, 'interestingfact': 6482, 'wowfact': 6483, 'afghan': 6484, 'alkhidmat': 6485, 'gadget': 6486, 'kitchengadget': 6487, 'kitchenwar': 6488, 'eatfit': 6489, 'shah': 6490, 'shweta': 6491, 'task': 6492, 'tediou': 6493, 'directori': 6494, 'lumpyfood': 6495, 'lunchbox': 6496, 'warmer': 6497, 'wellbeingwednesday': 6498, 'priorit': 6499, 'covidnurs': 6500, 'nolockdown': 6501, 'nomorelockdown': 6502, 'bscg': 6503, 'dubai': 6504, 'extract': 6505, 'himalayan': 6506, 'mountainsour': 6507, 'pass': 6508, 'sweeter': 6509, 'crappi': 6510, 'kashmir': 6511, 'kashmiripandit': 6512, 'wintervac': 6513, 'gp': 6514, 'sad': 6515, 'shame': 6516, 'venezuela': 6517, 'critic': 6518, 'crowdfund': 6519, 'jaschon': 6520, 'legaci': 6521, 'phd': 6522, 'proctor': 6523, 'vision': 6524, 'hildon': 6525, 'campaign': 6526, 'globalhealthbmj': 6527, 'spell': 6528, 'tobaccostyl': 6529, 'ultra': 6530, 'amwrit': 6531, 'construct': 6532, 'poptart': 6533, 'sentenc': 6534, 'communityhealth': 6535, 'teamfflex': 6536, 'aziz': 6537, 'shaista': 6538, 'growthproduct': 6539, 'homeland': 6540, 'patriot': 6541, 'pnwliver': 6542, 'vote': 6543, 'voter': 6544, 'webmd': 6545, 'backyard': 6546, 'healthysoup': 6547, 'kevinshealthykitchen': 6548, 'soupforthesoul': 6549, 'welldesign': 6550, 'tour': 6551, 'cardamom': 6552, 'ecogreentoday': 6553, 'h_h_h_live': 6554, 'plantbasedg': 6555, 'booksonachardharma': 6556, 'sanskār': 6557, 'sāttvik': 6558, 'classifi': 6559, 'rajasik': 6560, 'stimul': 6561, 'tamasik': 6562, 'leaf': 6563, 'scent': 6564, 'fandoro': 6565, 'urbnarea': 6566, 'debt': 6567, 'dolar': 6568, 'famin': 6569, 'itv': 6570, 'omicronvari': 6571, 'propaganda': 6572, 'royal': 6573, 'skynew': 6574, 'spilt': 6575, 'starvat': 6576, 'sycoph': 6577, 'advisor': 6578, 'christmasrecip': 6579, 'hollyschristmasrecip': 6580, 'kingsrec': 6581, '𝘊𝘩𝘳𝘪𝘴𝘵𝘮𝘢𝘴': 6582, '𝘏𝘰𝘭𝘭𝘺𝘴': 6583, '𝘙𝘦𝘤𝘪𝘱𝘦𝘴': 6584, 'wirh': 6585, 'bill': 6586, 'dietforchildren': 6587, 'neharanglani_': 6588, 'spill': 6589, 'agtech': 6590, 'barri': 6591, 'barrypalt': 6592, 'eqcapitalpartn': 6593, 'impactinvest': 6594, 'itwiretv': 6595, 'palt': 6596, 'socialimpact': 6597, 'socialinvest': 6598, 'brainpow': 6599, 'concentr': 6600, 'drvishwanath': 6601, 'boon': 6602, 'maker': 6603, 'soar': 6604, 'beliv': 6605, 'cowmilk': 6606, 'desir': 6607, 'lifestylediseas': 6608, 'nutritionfact': 6609, 'dyspepsia': 6610, 'stomax': 6611, 'alberta': 6612, 'animaloftheday': 6613, 'bovin': 6614, 'encephalopathi': 6615, 'factoryfarm': 6616, 'mad': 6617, 'madcow': 6618, 'spongiform': 6619, 'blue': 6620, 'orphan': 6621, 'branch': 6622, 'capsul': 6623, 'cfu': 6624, 'healthtylifestyl': 6625, 'livecultur': 6626, 'naturesbranch': 6627, 'prebiot': 6628, 'dukan': 6629, 'yolk': 6630, 'healthybrain': 6631, 'medical_xpress': 6632, 'breathtak': 6633, 'dinnerimposs': 6634, 'heavyrain': 6635, 'ketofriendli': 6636, 'goodeat': 6637, 'somebodi': 6638, 'nettl': 6639, 'northernireland': 6640, 'moon': 6641, 'mukbang': 6642, 'now_nizi': 6643, 'parasit': 6644, 'buddhism': 6645, 'buddhist': 6646, 'disgust': 6647, 'mindfulmonday': 6648, 'clau': 6649, 'paunch': 6650, 'portli': 6651, 'tastyyethealth': 6652, 'vegancooki': 6653, 'malnutrit': 6654, 'summit': 6655, 'tokyo': 6656, 'agingwel': 6657, 'eightysometh': 6658, 'downer': 6659, 'putitdown': 6660, 'channeltri': 6661, 'healtheveri': 6662, 'immunemak': 6663, 'laddoo': 6664, 'procedur': 6665, 'energymlif': 6666, 'ladi': 6667, 'physiqu': 6668, 'prove': 6669, 'search': 6670, 'reclaim': 6671, 'unsurprisingli': 6672, 'attain': 6673, 'glucorp': 6674, 'plantbasedbusi': 6675, 'sustainablefarm': 6676, 'techniqu': 6677, 'healilng': 6678, 'elderberri': 6679, 'kiwi': 6680, 'naturesmedicin': 6681, 'kilo': 6682, 'sum': 6683, 'betterm': 6684, 'fave': 6685, 'giscor': 6686, 'glycemicindex': 6687, 'glycemicscor': 6688, 'lowgi': 6689, 'freshfood': 6690, 'freshjuic': 6691, 'freshjuicesandsmoothi': 6692, 'muscle_fit': 6693, 'organicfarmingb': 6694, 'premier': 6695, 'cando': 6696, 'passion': 6697, 'salatin': 6698, 'soliloqui': 6699, 'emptystomach': 6700, 'अश': 6701, 'आमह': 6702, 'आरगय': 6703, 'आहत': 6704, 'खलयन': 6705, 'ज': 6706, 'तमहल': 6707, 'पदरथनबददल': 6708, 'रहत': 6709, 'सगणर': 6710, 'thankafarm': 6711, 'wamafugroup': 6712, 'driven': 6713, 'spices_board': 6714, 'knowablemag': 6715, 'salmonella': 6716, 'scichat': 6717, 'freezer': 6718, 'wewantyouhealthi': 6719, 'mobil': 6720, 'momtob': 6721, 'ttcsupport': 6722, 'gaba': 6723, 'gabaif': 6724, 'benefitstamil': 6725, 'sundal': 6726, 'tamilhealthprim': 6727, 'api': 6728, 'backend': 6729, 'fitnessapp': 6730, 'foodfold': 6731, 'foodfolderapp': 6732, 'foxandfriend': 6733, 'wellintent': 6734, 'cdcfoodsafeti': 6735, 'ilsi': 6736, 'microbiolog': 6737, 'career': 6738, 'conscienhealth': 6739, 'healthmessag': 6740, 'oversimplif': 6741, 'upf': 6742, 'feedback': 6743, 'awhil': 6744, 'optomitahealthysunday': 6745, 'emptycalori': 6746, 'bowman': 6747, 'catdeeley': 6748, 'dj': 6749, 'edibow': 6750, 'edith': 6751, 'edithbowman': 6752, 'baobab': 6753, 'owe': 6754, 'pinnacl': 6755, 'dayswithoutsugar': 6756, 'fetchyourbodi': 6757, 'hybrid': 6758, 'sow': 6759, 'v': 6760, 'vineyard': 6761, 'businessnew': 6762, 'deeplearn': 6763, 'digitalbrand': 6764, 'surya': 6765, 'lycopen': 6766, 'prostatecanc': 6767, 'tomatosalad': 6768, 'cftoeatoncentr': 6769, 'belliev': 6770, 'demonstr': 6771, 'hinder': 6772, 'homi': 6773, 'prospect': 6774, 'youd': 6775, 'puml': 6776, 'pumlbetterhealth': 6777, 'stayact': 6778, 'saudável': 6779, 'synonym': 6780, 'electr': 6781, 'voterindividualorganis': 6782, 'boredom': 6783, 'flexibl': 6784, 'overeateri': 6785, 'thechristishow': 6786, 'cont': 6787, 'beyou': 6788, 'capetown': 6789, 'decor': 6790, 'organicfarm': 6791, 'ozcfarm': 6792, 'ablinken': 6793, 'callitagenocid': 6794, 'caringthemselv': 6795, 'displacementdestruct': 6796, 'facilitieswidespread': 6797, 'foodwateramp': 6798, 'jeremy_hunt': 6799, 'ofpillageforc': 6800, 'potu': 6801, 'tigraycrisi': 6802, 'tigraygenocid': 6803, 'usaid': 6804, 'culprit': 6805, 'dopamin': 6806, 'neuron': 6807, 'pump': 6808, 'virtu': 6809, 'mednis': 6810, 'substanti': 6811, 'dora': 6812, 'baromet': 6813, 'edenr': 6814, 'foodwast': 6815, 'glycem': 6816, 'index': 6817, 'mediumlow': 6818, 'pocket': 6819, 'audienc': 6820, 'gino': 6821, 'nowhttpstcodoigjorfol': 6822, 'prevailnewhealth': 6823, 'wellnessengin': 6824, 'ani': 6825, 'dainikbhaskar': 6826, 'fest': 6827, 'jaipur': 6828, 'jaipurmom': 6829, 'munilokesh': 6830, 'pti_new': 6831, 'rachnakaushik': 6832, 'rpbreakingnew': 6833, 'hotwat': 6834, 'airport': 6835, 'bttrhuman': 6836, 'citizenread': 6837, 'easiest': 6838, 'hadnt': 6839, 'foodsafetynew': 6840, 'ilsi_europ': 6841, 'outbreak': 6842, 'betterfory': 6843, 'confect': 6844, 'krawiec': 6845, 'sebastian': 6846, 'highend': 6847, 'interior': 6848, 'fridayfeel': 6849, 'alongsid': 6850, 'cateringmanag': 6851, 'crew': 6852, 'seafar': 6853, 'alexand': 6854, 'ham': 6855, 'hornung': 6856, 'pepperoni': 6857, 'alter': 6858, 'fermentedfood': 6859, 'gutbug': 6860, 'gutmicrobiom': 6861, 'inflam': 6862, 'bay': 6863, 'medicircl': 6864, 'signific': 6865, 'smitakumar': 6866, 'hidden': 6867, 'categori': 6868, 'haccp': 6869, 'handler': 6870, 'ministri': 6871, 'principl': 6872, 'certif': 6873, 'rout': 6874, 'aspkom': 6875, 'vecura': 6876, 'chondroitin': 6877, 'gvr': 6878, 'renew': 6879, 'sulfat': 6880, 'tnt': 6881, 'ball': 6882, 'eyebal': 6883, 'macrotrack': 6884, 'multigrain': 6885, 'adndotcom': 6886, 'alaska': 6887, 'climateimpact': 6888, 'kelp': 6889, 'lawmak': 6890, 'marinelif': 6891, 'preciou': 6892, 'booz': 6893, 'hmchotnew': 6894, 'sacrif': 6895, 'stressfre': 6896, 'wc': 6897, 'wo': 6898, 'horribl': 6899, 'cpg': 6900, 'cx': 6901, 'fmcg': 6902, 'merchandis': 6903, 'range_m': 6904, 'spark': 6905, 'repostshandasbl': 6906, 'anoreksia': 6907, 'celineoffici': 6908, 'medtech': 6909, 'drallenmcmillan': 6910, 'drjb__': 6911, 'go_veget': 6912, 'njpcsa': 6913, 'sj_program': 6914, 'sj_school': 6915, 'unitychart': 6916, 'vegedreamgagnoa': 6917, 'vegsoc': 6918, 'vegtim': 6919, 'fatigu': 6920, 'mistial': 6921, 'ionova': 6922, 'lancetcountdown': 6923, 'greattast': 6924, 'radiantgirl': 6925, 'stepbystep': 6926, 'virtual': 6927, 'fabul': 6928, 'monopoli': 6929, 'owner': 6930, 'trolley': 6931, 'usersfood': 6932, 'web': 6933, 'barley': 6934, 'malt': 6935, 'bouvier': 6936, 'dictionari': 6937, 'nak': 6938, 'constipationhealthylifestyl': 6939, 'winterisher': 6940, 'irish': 6941, 'assort': 6942, 'cashew': 6943, 'inquiri': 6944, 'senthamilon': 6945, 'dtutweet': 6946, 'fellow': 6947, 'mda': 6948, 'robbeflo': 6949, 'skylab_foodlab': 6950, 'who_europ': 6951, 'allemagn': 6952, 'allemand': 6953, 'beurr': 6954, 'bistchef': 6955, 'cest': 6956, 'deutschland': 6957, 'farin': 6958, 'germani': 6959, 'lait': 6960, 'noel': 6961, 'patron': 6962, 'produit': 6963, 'qui': 6964, 'recett': 6965, 'œuf': 6966, 'juici': 6967, 'marinatechicken': 6968, 'healthyeath': 6969, 'rujutadiwekar': 6970, 'plabtbas': 6971, 'takeyourcu': 6972, 'bhavnaharchandrai': 6973, 'edutain': 6974, 'frolic': 6975, 'specialis': 6976, 'terrif': 6977, 'beverageindustri': 6978, 'taiwanes': 6979, 'teamarket': 6980, 'fodmap': 6981, 'kfibr': 6982, 'advers': 6983, 'thursdaywel': 6984, 'factsfirst': 6985, 'teatim': 6986, 'longawait': 6987, 'obamaera': 6988, 'stall': 6989, 'superbug': 6990, 'uspoli': 6991, 'wire': 6992, 'restaurant': 6993, 'serian': 6994, 'twitterunivers': 6995, 'anticanc': 6996, 'pegan': 6997, 'déguster': 6998, 'à': 6999, 'honeyhealthi': 7000, 'mint': 7001, 'reintroduc': 7002, 'wastefreewednesday': 7003, 'drgundri': 7004, 'gundrymd': 7005, 'lurk': 7006, 'underestim': 7007, 'foodnextdoor': 7008, 'postworkout': 7009, 'anthem': 7010, 'candidatez': 7011, 'incub': 7012, 'preventcarelab': 7013, 'preventionsanté': 7014, 'sur': 7015, 'applianc': 7016, 'domest': 7017, 'fastest': 7018, 'mm': 7019, 'motor': 7020, 'nov': 7021, 'vehicl': 7022, 'yy': 7023, 'adob': 7024, 'offic': 7025, 'paypal': 7026, 'twitchrecap': 7027, 'localgovern': 7028, 'organis': 7029, 'metabolicsyndrom': 7030, 'drahmadmd': 7031, 'foodrul': 7032, 'leahbarrett': 7033, 'yourhealthmatt': 7034, 'financi': 7035, 'bhagavadgita': 7036, 'basmati': 7037, 'benifit': 7038, 'checkout': 7039, 'chose': 7040, 'jasmin': 7041, 'anniversari': 7042, 'husband': 7043, 'yield': 7044, 'biocontrol': 7045, 'eugreend': 7046, 'leenanairhr': 7047, 'womanhood': 7048, 'aah': 7049, 'exxotiqu': 7050, 'wellontheris': 7051, 'aberdeencc': 7052, 'healthierscot': 7053, 'hscaberdeen': 7054, 'peoplehelpingpeopl': 7055, 'povertyalli': 7056, 'shmuorg': 7057, 'analyst': 7058, 'beyondmeat': 7059, 'corp': 7060, 'expans': 7061, 'inc': 7062, 'fritter': 7063, 'indianfood': 7064, 'instafoodi': 7065, 'kadhi': 7066, 'pakoda': 7067, 'sanjeevkapoor': 7068, 'superchef': 7069, 'closer': 7070, 'healthcoachtip': 7071, 'progressnotperfect': 7072, 'omgthat': 7073, 'खस': 7074, 'गरमगरम': 7075, 'झटपट': 7076, 'बनव': 7077, 'रसप': 7078, 'सप': 7079, 'cardi': 7080, 'gotta': 7081, 'opposit': 7082, 'dub': 7083, 'jampack': 7084, 'seawe': 7085, 'though': 7086, 'pub': 7087, 'omincron': 7088, 'outlet': 7089, 'dose': 7090, 'dukecenterforeatingdisord': 7091, 'artisan': 7092, 'highlevel': 7093, 'ontheground': 7094, 'sandym_thoma': 7095, 'guess': 7096, 'narr': 7097, 'dig': 7098, 'governor': 7099, 'grave': 7100, 'ఏరసతననర': 7101, 'తనపపడ': 7102, 'పచచమరచ': 7103, 'bust': 7104, 'dollar': 7105, 'trillion': 7106, 'childright': 7107, 'aros': 7108, 'injusic': 7109, 'lrbasicne': 7110, 'worsen': 7111, 'foodprintorg': 7112, 'tommmoor': 7113, 'allergyreadi': 7114, 'diessever': 7115, 'epipen': 7116, 'healthinsur': 7117, 'joemanchin': 7118, 'medicalapartheid': 7119, 'medicalholocaust': 7120, 'medicar': 7121, 'medicareforal': 7122, 'pakyearold': 7123, 'sluggish': 7124, 'azelisgroup': 7125, 'kens': 7126, 'strateg': 7127, 'alum': 7128, 'foodtechnolog': 7129, 'startlif': 7130, 'swapmeal': 7131, 'verdifi': 7132, 'accumul': 7133, 'asham': 7134, 'importantli': 7135, 'mirror': 7136, 'receip': 7137, 'gham': 7138, 'kabhi': 7139, 'khushi': 7140, 'narcissist': 7141, 'rambl': 7142, 'war': 7143, 'chikki': 7144, 'deccanherald': 7145, 'groundnutjaggeri': 7146, 'malnourish': 7147, 'midday': 7148, 'regardless': 7149, 'stiff': 7150, 'festivetip': 7151, 'medshieldmov': 7152, 'medshieldsa': 7153, 'आरगयदय': 7154, 'कह': 7155, 'तमह': 7156, 'दवसच': 7157, 'पदरथन': 7158, 'सरवत': 7159, 'airvistara': 7160, 'bw': 7161, 'bwbusinessworld': 7162, 'gaurgopald': 7163, 'ranveerbrar': 7164, 'theimperialdc': 7165, 'capac': 7166, 'socrat': 7167, 'cdfa': 7168, 'pod': 7169, 'foodpoverti': 7170, 'offgrid': 7171, 'webpag': 7172, 'mealtimemonday': 7173, 'preworkoutm': 7174, 'privat': 7175, 'innovatrend': 7176, 'maltproduct': 7177, 'wearekerri': 7178, 'carniv': 7179, 'platter': 7180, 'attribut': 7181, 'mbozukova': 7182, 'scicomm': 7183, 'sciencebitesblog': 7184, 'textur': 7185, 'cyber': 7186, 'cyberattack': 7187, 'emergencyprepared': 7188, 'imf': 7189, 'simul': 7190, 'zombi': 7191, 'iamkalena': 7192, 'kalenabow': 7193, 'feminaindia': 7194, 'thinner': 7195, 'cardiologist': 7196, 'debunk': 7197, 'enewslett': 7198, 'inbox': 7199, 'novdec': 7200, 'previou': 7201, 'septoct': 7202, 'lundunivers': 7203, 'byproduct': 7204, 'disinfect': 7205, 'pharma': 7206, 'room': 7207, 'surfac': 7208, 'coffeehousew': 7209, 'coffeehousewrit': 7210, 'costsspend': 7211, 'mount': 7212, 'purdueagecon': 7213, 'purdueextens': 7214, 'xyz': 7215, '_cnipt': 7216, 'cniel': 7217, 'franceua': 7218, 'interfel': 7219, 'tastefrance_en': 7220, 'aldi': 7221, 'borisjohnson': 7222, 'mini': 7223, 'honemad': 7224, 'jazz': 7225, 'diannewenz': 7226, 'johnrush': 7227, 'sharonkolenda': 7228, 'reliev': 7229, 'आहरच': 7230, 'थकव': 7231, 'दर': 7232, 'दवसभर': 7233, 'फरश': 7234, 'सकस': 7235, 'colorect': 7236, 'connectingdna': 7237, 'killer': 7238, 'bandag': 7239, 'deepli': 7240, 'drmikeryan': 7241, 'inequit': 7242, 'rip': 7243, 'aeroc': 7244, 'courtesi': 7245, 'gofirst': 7246, 'pullmanhotel': 7247, 'simplic': 7248, 'warmth': 7249, 'glm': 7250, 'healthierl': 7251, 'openaccess': 7252, 'natural_herb': 7253, 'organic_farm': 7254, 'organic_food': 7255, 'sakura_egypt': 7256, 'antiag': 7257, 'gumroad': 7258, 'vixawel': 7259, 'amala': 7260, 'chai': 7261, 'cress': 7262, 'halim': 7263, 'raggi': 7264, 'sattu': 7265, 'tulsi': 7266, 'admalion': 7267, 'lion': 7268, 'isotopedilut': 7269, 'chutney': 7270, 'kancha': 7271, 'focaccia': 7272, 'hors': 7273, 'pesto': 7274, 'sourdought': 7275, 'squat': 7276, 'trainingday': 7277, 'bonifi': 7278, 'pier': 7279, 'allicin': 7280, 'cryptothanxin': 7281, 'healthycanc': 7282, 'isocyan': 7283, 'medley': 7284, 'orangeyellow': 7285, 'sulforaphan': 7286, 'enchilada': 7287, 'exfatsingledad': 7288, 'llama': 7289, 'adhd': 7290, 'bear': 7291, 'crock': 7292, 'glad': 7293, 'mommi': 7294, 'quart': 7295, 'zehnder': 7296, 'adelaid': 7297, 'motoquip': 7298, 'californiasgold': 7299, 'politicsl': 7300, 'powerbal': 7301, 'seller': 7302, 'vintag': 7303, 'saffron': 7304, 'bodycheck': 7305, 'least': 7306, 'altprotein': 7307, 'rebalancelifestyl': 7308, 'selfcarematt': 7309, 'smilemor': 7310, 'curat': 7311, 'nomnomnom': 7312, 'deliciouslysavv': 7313, 'justm': 7314, 'vegtalk': 7315, 'ought': 7316, 'thanksgiv': 7317, 'flavoursom': 7318, 'goodpeopl': 7319, 'qrghospit': 7320, 'spicyfood': 7321, 'stomachhealth': 7322, 'toler': 7323, 'torontofood': 7324, 'vancouverfoodi': 7325, 'chaula': 7326, 'eatinghealthi': 7327, 'kheeri': 7328, 'relievestress': 7329, 'चत': 7330, 'तणव': 7331, 'पदरथच': 7332, 'frequenc': 7333, 'cosmo': 7334, 'comfortfood': 7335, 'unim': 7336, 'gundri': 7337, 'waistlin': 7338, 'balsam': 7339, 'batch': 7340, 'concoct': 7341, 'lord': 7342, 'mydog': 7343, 'myhom': 7344, 'mywif': 7345, 'asap': 7346, 'foodpoison': 7347, 'amend': 7348, 'btw': 7349, 'otoh': 7350, 'somehow': 7351, 'blanca': 7352, 'dietitiannutritionist': 7353, 'díez': 7354, 'hashtag': 7355, 'purelif': 7356, 'tcrn': 7357, 'thecrnew': 7358, 'nontox': 7359, 'signup': 7360, 'acquaint': 7361, 'newyou': 7362, 'steadi': 7363, 'artwork': 7364, 'gritandgrac': 7365, 'healthfit': 7366, 'letsconnect': 7367, 'random': 7368, 'tipsamp': 7369, 'momentsindia': 7370, 'twitterindia': 7371, 'youtubeindia': 7372, 'malta': 7373, 'luxuri': 7374, 'healthiacynthia': 7375, 'oceancitydent': 7376, 'wecsmx': 7377, 'alik': 7378, 'caregiv': 7379, '__________': 7380, 'chapati': 7381, 'justask': 7382, 'paratha': 7383, 'containfol': 7384, 'healthybon': 7385, 'phosphoru': 7386, 'siddha': 7387, 'coodl': 7388, 'fastforward': 7389, 'nutribowl': 7390, 'peppercorn': 7391, 'initialis': 7392, 'zeroth': 7393, 'donor': 7394, 'transfer': 7395, 'kabul': 7396, 'drmandel': 7397, 'kitchensadia': 7398, 'unclogarteri': 7399, 'foodsmart': 7400, 'indica': 7401, 'japonica': 7402, 'cheddar': 7403, 'omelet': 7404, 'rib': 7405, 'scrambledegg': 7406, 'biotech': 7407, 'positivemantra': 7408, 'statist': 7409, 'festiveseason': 7410, 'tab': 7411, 'frugivor': 7412, 'fruitarian': 7413, 'herbivor': 7414, 'primat': 7415, 'vegandiscov': 7416, 'fmcgguru': 7417, 'glanbianutri': 7418, 'spoonshotx': 7419, 'thatsit': 7420, 'climatejustic': 7421, 'climatestrik': 7422, 'sanfrancisco': 7423, 'seattl': 7424, 'wlargest': 7425, 'aisl': 7426, 'healthconsci': 7427, 'soughtaft': 7428, 'inspirefoodbusi': 7429, 'ownthechang': 7430, 'regulatori': 7431, 'sialpari': 7432, 'microbes': 7433, 'crisp': 7434, 'gorcom': 7435, 'robert': 7436, 'trusttalk': 7437, 'van': 7438, 'wageningen': 7439, 'toe': 7440, 'visibl': 7441, 'bank': 7442, 'helthytip': 7443, 'जत': 7444, 'फळच': 7445, 'मनल': 7446, 'anshuldav': 7447, 'jaihindesumit': 7448, 'sat': 7449, 'shrinathv': 7450, 'voicevision_in': 7451, 'wadhwaniai': 7452, 'wadhwanif': 7453, 'zoom': 7454, 'eu_echo': 7455, 'ngsummit': 7456, 'specifi': 7457, 'tokyocompact': 7458, 'ghost': 7459, 'homesclasseslibrari': 7460, 'munchi': 7461, 'strike': 7462, 'weightlossnutrit': 7463, 'carrageenan': 7464, 'healthstriv': 7465, 'heathydiet': 7466, 'elev': 7467, 'maharani': 7468, 'vegbiryani': 7469, 'heartburn': 7470, 'mild': 7471, 'painmanag': 7472, 'reflux': 7473, 'extractor': 7474, 'harmless': 7475, 'juicer': 7476, 'voteform': 7477, 'hallucinogen': 7478, 'psilocybin': 7479, 'industrynew': 7480, 'lausann': 7481, 'lip': 7482, 'sustainablefutur': 7483, 'urin': 7484, 'south': 7485, 'synthes': 7486, 'blackyoutub': 7487, 'brittani': 7488, 'meetnewyoutub': 7489, 'throwbackthursday': 7490, 'coverag': 7491, 'holidayparti': 7492, 'chive': 7493, 'dumpl': 7494, 'ponzu': 7495, 'ravioli': 7496, 'charli': 7497, 'nicol': 7498, 'took': 7499, 'fluseason': 7500, 'fortifi': 7501, 'linwoodshealthfood': 7502, 'netheri': 7503, 'sp': 7504, 'aggress': 7505, 'discours': 7506, 'modifi': 7507, 'outburst': 7508, 'wellnourish': 7509, 'withstand': 7510, 'flown': 7511, 'juliefgauthor': 7512, 'mileston': 7513, 'oakbaybeach': 7514, 'ontheblog': 7515, 'sialcanada': 7516, 'deliveroo': 7517, 'skyrocket': 7518, 'fightl': 7519, 'hartlessberen': 7520, 'timspector': 7521, 'britishcolumbia': 7522, 'cbcnew': 7523, 'off': 7524, 'tax': 7525, 'academicchatt': 7526, 'gla_nutrit': 7527, 'glanutrit': 7528, 'msc_nutri_gla': 7529, 'phdvoic': 7530, 'recruit': 7531, 'yearsold': 7532, 'armstrong': 7533, 'givewithlov': 7534, 'helppoor': 7535, 'karen': 7536, 'sanctiti': 7537, 'beautyconnectspeopl': 7538, 'expo': 7539, 'expodubai': 7540, 'italyexpo': 7541, 'logist': 7542, 'composit': 7543, 'formic': 7544, 'korea': 7545, 'parolatoppat': 7546, 'assum': 7547, 'beard': 7548, 'biodom': 7549, 'huh': 7550, 'comprehens': 7551, 'fourth': 7552, 'although': 7553, 'foodforlifeservedher': 7554, 'interconnect': 7555, 'localauthor': 7556, 'morehttpstcogpvekimng': 7557, 'schoolmeal': 7558, 'bodyfirst': 7559, 'fit': 7560, 'healthfirst': 7561, 'jar': 7562, 'madeformor': 7563, 'peanutbutt': 7564, 'spreadinghealth': 7565, 'daylong': 7566, 'migrain': 7567, 'prescrib': 7568, 'vanish': 7569, 'homework': 7570, 'healthampnutrit': 7571, 'morehttpstcopkpyrsadbb': 7572, 'profshaukat': 7573, 'zambia': 7574, 'halt': 7575, 'glutenfreediet': 7576, 'neha': 7577, 'ranglani': 7578, 'segment': 7579, 'dietsthi': 7580, 'foodhealth': 7581, 'youlet': 7582, 'msg': 7583, 'kumar': 7584, 'prewellab': 7585, 'shyam': 7586, 'crash': 7587, 'donut': 7588, 'organicsausag': 7589, 'tire': 7590, 'forefront': 7591, 'infin': 7592, 'jp': 7593, 'wedg': 7594, 'beij': 7595, 'foe': 7596, 'jiangsu': 7597, 'machineri': 7598, 'thth': 7599, 'brainboost': 7600, 'nutritioncoach': 7601, 'agent': 7602, 'cancerresearch': 7603, 'dioxid': 7604, 'form': 7605, 'nanoparticl': 7606, 'profound': 7607, 'sdiscov': 7608, 'titanium': 7609, 'sparkl': 7610, 'intuit': 7611, 'realsimpl': 7612, 'bucket': 7613, 'yorkpeppermint': 7614, 'drtedro': 7615, 'breakfastidea': 7616, 'coachmywellness_cmw': 7617, 'veganhour': 7618, 'illumin': 7619, 'professor': 7620, 'rea': 7621, 'healthcomesfirst': 7622, 'ricemilk': 7623, 'riceprotein': 7624, 'au': 7625, 'carolcookstwo': 7626, 'cronin': 7627, 'gratin': 7628, 'rewind': 7629, 'salli': 7630, 'scratch': 7631, 'sgc': 7632, 'smorgasbord': 7633, 'taylor': 7634, 'housemad': 7635, 'superafford': 7636, 'ae': 7637, 'algaecongresss': 7638, 'attend': 7639, 'microalga': 7640, 'foodforbrain': 7641, 'pumpkinse': 7642, 'wednesdaywel': 7643, 'pervas': 7644, 'humanitarian': 7645, 'polio': 7646, 'singlecountri': 7647, 'roe': 7648, 'samps': 7649, 'sweet_h': 7650, 'authour': 7651, 'nutritionalist': 7652, 'sb': 7653, 'healthawar': 7654, 'psintellig': 7655, 'sooth': 7656, 'admaloversquot': 7657, 'biradushimisha': 7658, 'ko': 7659, 'kumva': 7660, 'mukunda': 7661, 'murabagaciro': 7662, 'zacu': 7663, 'glutam': 7664, 'monosodium': 7665, 'cricketprotein': 7666, 'insectbas': 7667, 'khloro': 7668, 'musclegrowth': 7669, 'peaprotein': 7670, 'proteinrebel': 7671, 'sustainableliv': 7672, 'disastr': 7673, 'tonn': 7674, 'adamo': 7675, 'hill': 7676, 'matheran': 7677, 'mtdc': 7678, 'toytrain': 7679, 'ambula': 7680, 'bhendi': 7681, 'bhubaneswar': 7682, 'sorisa': 7683, 'j': 7684, 'rowl': 7685, 'humanhealth': 7686, 'keee': 7687, 'towww': 7688, 'catch': 7689, 'jack': 7690, 'mensfit': 7691, 'swanfit': 7692, 'swanfitchalleng': 7693, 'alpha': 7694, 'kinesiolog': 7695, 'videotip': 7696, 'gooba': 7697, 'leeteel': 7698, 'na': 7699, 'inulin': 7700, 'lime': 7701, 'chroniccondit': 7702, 'eatingdiord': 7703, 'gethelp': 7704, 'hehalthandwel': 7705, 'medicalexpress': 7706, 'permcultur': 7707, 'plot': 7708, 'chestnut': 7709, 'nutritional': 7710, 'waterchestnut': 7711, 'dirti': 7712, 'fountain': 7713, 'phenomenon': 7714, 'rush': 7715, 'soda': 7716, 'temperanceera': 7717, 'jbfit': 7718, 'palmetto': 7719, 'veganlunch': 7720, 'vinaigrett': 7721, 'hypomagnesemia': 7722, 'furthermor': 7723, 'inadvert': 7724, 'inclus': 7725, 'undoubtedli': 7726, 'dietmatt': 7727, 'fog': 7728, 'mariaxcross': 7729, 'psychosi': 7730, 'nutritionhttpsbufflyvmzwp': 7731, 'octob': 7732, 'sam': 7733, 'trueweightjourney': 7734, 'morehttpstcohqdmzrsi': 7735, 'antimicrobi': 7736, 'antimicrobialresist': 7737, 'foodbornezoonos': 7738, 'foodsaftey': 7739, 'onehealth': 7740, 'onehealthal': 7741, 'behalf': 7742, 'cycl': 7743, 'eparticip': 7744, 'feedthefutur': 7745, 'prosperityforal': 7746, 'usaidhingawez': 7747, 'healthynexercis': 7748, 'foodgoal': 7749, 'goodfat': 7750, 'goodhair': 7751, 'goodskin': 7752, 'tuesdaytip': 7753, 'tuesdaytipswithb': 7754, 'maplesyrup': 7755, 'syrup': 7756, 'brainnutrit': 7757, 'cattl': 7758, 'investinnutrit': 7759, 'nutritionallybalanc': 7760, 'shokuiku': 7761, '食育': 7762, 'jayrobb': 7763, 'redbanana': 7764, 'अनक': 7765, 'घटक': 7766, 'नहत': 7767, 'पण': 7768, 'भरतत': 7769, 'यत': 7770, 'लकपरय': 7771, 'लल': 7772, 'stylistmagazin': 7773, 'intersector': 7774, 'medwaterforum': 7775, 'morenododson': 7776, 'elsewher': 7777, 'resolv': 7778, 'soakedalmondsandraisin': 7779, 'उततम': 7780, 'ख': 7781, 'जदई': 7782, 'दररज': 7783, 'फयद': 7784, 'बदम': 7785, 'भजवलल': 7786, 'मनक': 7787, 'मळव': 7788, 'nystrip': 7789, 'photograph': 7790, 'steakhous': 7791, 'stripsteak': 7792, 'thickcut': 7793, 'thickcutbacon': 7794, 'discharg': 7795, 'glacier': 7796, 'rain': 7797, 'cookingcompanion': 7798, 'masterchef': 7799, 'petal': 7800, 'poppi': 7801, 'rose': 7802, 'stress': 7803, 'antitoxin': 7804, 'businessstrategi': 7805, 'onlinemarketingtopeurop': 7806, 'newsstor': 7807, 'healthform': 7808, 'potenc': 7809, 'fitgoal': 7810, 'getlean': 7811, 'ಅತ': 7812, 'ಬಜಜ': 7813, 'ಬದದ': 7814, 'ಬಸರಬಡ': 7815, 'ಮಡ': 7816, 'ಸಕ': 7817, 'ಹಗ': 7818, 'crohn': 7819, 'googl': 7820, 'indigen': 7821, 'jeremi': 7822, 'joerogan': 7823, 'push': 7824, 'highfat': 7825, 'highfib': 7826, 'canibu': 7827, 'cilantro': 7828, 'meh': 7829, 'moonrock': 7830, 'shittin': 7831, 'witchu': 7832, 'transit': 7833, 'jnutritionorg': 7834, 'nutriton': 7835, 'followm': 7836, 'hiccup': 7837, 'instantli': 7838, 'kidstheseday': 7839, 'mother': 7840, 'lowfodmap': 7841, 'lowfoodmap': 7842, 'motion': 7843, 'prone': 7844, 'leptin': 7845, 'instantlydiet': 7846, 'meatlessmonday': 7847, 'iannotti': 7848, 'lora': 7849, 'springernatur': 7850, 'cholesterolldland': 7851, 'fattybazar': 7852, 'কচ': 7853, 'বদম': 7854, 'ভইরল': 7855, 'fungilov': 7856, 'gomushroomhunt': 7857, 'bye': 7858, 'freemedicalcamp': 7859, 'resourcescoalitionsocieti': 7860, 'deeptanagp': 7861, 'fitbharat': 7862, 'fitbit': 7863, 'flex': 7864, 'iamshajansamuel': 7865, 'ladoo': 7866, 'priyankajshukla': 7867, 'buggin': 7868, 'foodshortag': 7869, 'spoilag': 7870, 'fatlos': 7871, 'ketolif': 7872, 'chefparminderbrar': 7873, 'dishoftheday': 7874, 'eathealti': 7875, 'mouss': 7876, 'sorghum': 7877, 'staytun': 7878, 'healthierhappenstogeth': 7879, 'healthypeoplehealthyn': 7880, 'actonclim': 7881, 'cop': 7882, 'globalwarm': 7883, 'nationaltrust': 7884, 'racetozero': 7885, 'carbonsink': 7886, 'sianiagri': 7887, 'worldsoilday': 7888, 'deterg': 7889, 'fillingmachin': 7890, 'istanbul': 7891, 'manifactur': 7892, 'packaging_solut': 7893, 'packaginmachineri': 7894, 'quadro': 7895, 'taiba': 7896, 'taibapm': 7897, 'invivo': 7898, 'planetaryhealth': 7899, 'danpoyourow': 7900, 'junebugmalarkey': 7901, 'dailyreflect': 7902, 'impos': 7903, 'pahowho': 7904, 'positivemessag': 7905, 'choudhuri': 7906, 'linkhttpstcoolbljqdyi': 7907, 'roma': 7908, 'roy': 7909, 'cwtfood': 7910, 'mynutriweb': 7911, 'tanyahaffnerrd': 7912, 'zg_nutrit': 7913, 'ylmsportscienc': 7914, 'fastenoffy': 7915, 'lure': 7916, 'suresh': 7917, 'voidfastfood': 7918, 'aerob': 7919, 'aerobicfit': 7920, 'anemia': 7921, 'cardio': 7922, 'follobackforfolloback': 7923, 'loveyourself': 7924, 'nakedfun': 7925, 'farmersday': 7926, 'iamorganifi': 7927, 'ukwomenshealth': 7928, 'bcpoli': 7929, 'rafanewsgh': 7930, 'cookingtip': 7931, 'myfoodfantasi': 7932, 'pickyfork': 7933, 'spoke': 7934, 'euhealth': 7935, 'hadea': 7936, 'horizoneu': 7937, 'eyesight': 7938, 'behappi': 7939, 'bloodsugar': 7940, 'foodandnutrit': 7941, 'berkshir': 7942, 'fatlossdiet': 7943, 'lockdown': 7944, 'newburi': 7945, 'resistancetrain': 7946, 'height': 7947, 'chiase': 7948, 'diabetescar': 7949, 'diabeticfriendli': 7950, 'chana': 7951, 'soakedchanabenefit': 7952, 'अतयत': 7953, 'खण': 7954, 'चण': 7955, 'पट': 7956, 'रकमय': 7957, 'सकळ': 7958, 'cutlet': 7959, 'sooji': 7960, 'yawn': 7961, 'blackbean': 7962, 'blackbeansandric': 7963, 'distanc': 7964, 'gargl': 7965, 'plaqu': 7966, 'tartar': 7967, 'nausea': 7968, 'vomit': 7969, 'grey': 7970, 'prematur': 7971, 'sand': 7972, 'fend': 7973, 'foodborn': 7974, 'qld': 7975, 'queensland': 7976, 'townsvil': 7977, 'townsvillecitycouncil': 7978, 'hugo': 7979, 'totalitarian': 7980, 'commut': 7981, 'veg_md': 7982, 'exhaust': 7983, 'sadli': 7984, 'developingcountri': 7985, 'mobileapp': 7986, 'dispens': 7987, 'philipswat': 7988, 'smarthom': 7989, 'station': 7990, 'buckwheat': 7991, 'tripl': 7992, 'nose': 7993, 'stuffi': 7994, 'defici': 7995, 'ketoaf': 7996, 'fooddiet': 7997, 'nutridietinfo': 7998, 'nutrientdens': 7999, 'blanco': 8000, 'enhttpstcozukdhpx': 8001, 'gofr': 8002, 'lesfrrebel': 8003, 'onepan': 8004, 'pan': 8005, 'weeknight': 8006, 'nftartist': 8007, 'tutori': 8008, 'ana': 8009, 'ed': 8010, 'edsheeraneh': 8011, 'edtwitt': 8012, 'tag': 8013, 'kashmirvalley': 8014, 'twitterfood': 8015, 'followfollow': 8016, 'novak': 8017, 'player': 8018, 'protest': 8019, 'serbian': 8020, 'tenni': 8021, 'one_angry_chef': 8022, 'ukbas': 8023, 'birdflu': 8024, 'chicken': 8025, 'duck': 8026, 'hn': 8027, 'ireland': 8028, 'ni': 8029, 'buonappetito': 8030, 'wur': 8031, 'geno': 8032, 'glycan': 8033, 'physiolog': 8034, 'vitiligo': 8035, 'nois': 8036, 'bestoftheday': 8037, 'takeoffpost': 8038, 'mentalhealt': 8039, 'menstrual': 8040, 'ingrown': 8041, 'toenail': 8042, 'appko': 8043, 'fitoor': 8044, 'foodcomadream': 8045, 'ka': 8046, 'kons': 8047, 'advent': 8048, 'changinglivesmalawi': 8049, 'nhsscotland': 8050, 'teamwork': 8051, 'kitchentip': 8052, 'likeforfollow': 8053, 'likeforlik': 8054, 'marketingdigit': 8055, 'socialdistanc': 8056, 'drsubhasre': 8057, 'fpjweekendjourn': 8058, 'prediabet': 8059, 'sundayread': 8060, 'chillin': 8061, 'aspirin': 8062, 'jk': 8063, 'portioncontrol': 8064, 'smaller': 8065, 'healthyfaith': 8066, 'skull': 8067, 'strainer': 8068, 'tbone': 8069, 'fijianfood': 8070, 'plantat': 8071, 'rourou': 8072, 'bonappétit': 8073, 'dolcevita': 8074, 'fruta': 8075, 'goodday': 8076, 'nicecak': 8077, 'pastel': 8078, 'postr': 8079, 'sabor': 8080, 'sundaymotiv': 8081, 'sweetdream': 8082, 'sweetliv': 8083, 'tarta': 8084, 'vidasana': 8085, 'fuell': 8086, 'snacki': 8087, 'hcgdiet': 8088, 'hcgdietplan': 8089, 'weightlossdrop': 8090, 'weightlossproduct': 8091, 'actuallyautist': 8092, 'autismawar': 8093, 'casserol': 8094, 'tattertot': 8095, 'arthriti': 8096, 'osteoarthr': 8097, 'rheumatoid': 8098, 'healthyfit': 8099, 'misconcept': 8100, 'bt': 8101, 'inhal': 8102, 'childrenisourfutur': 8103, 'childrenmiseryha': 8104, 'humanitarianhelp': 8105, 'kamalaharri': 8106, 'speakerpelosi': 8107, 'bidenwantstodestroythehealthi': 8108, 'dontdodrug': 8109, 'saynotodrug': 8110, 'anywher': 8111, 'circumstanceshealth': 8112, 'fiveaday': 8113, 'richardegr': 8114, 'barren': 8115, 'cultiv': 8116, 'saudiarabiangp': 8117, 'healthwebmagazin': 8118, 'hwm': 8119, 'cookwithchildren': 8120, 'inspector': 8121, 'harken': 8122, 'maintainingbuild': 8123, 'bookstoread': 8124, 'etpacd': 8125, 'flavorsom': 8126, 'lafonceur': 8127, 'wellnessguid': 8128, 'dryfruit': 8129, 'figtre': 8130, 'figtreeindia': 8131, 'nutrición': 8132, 'roastednut': 8133, 'betheuproar': 8134, 'edrecoveri': 8135, 'emotionalhealth': 8136, 'healingtrauma': 8137, 'selfiesaturday': 8138, 'selflov': 8139, 'speakout': 8140, 'speakup': 8141, 'supportgroup': 8142, 'gutflora': 8143, 'limelight': 8144, 'marilynflow': 8145, 'collectortuti': 8146, 'eatrightthoothukudi': 8147, 'tuticorin': 8148, 'psyblog': 8149, 'riskmanag': 8150, 'laktkel': 8151, 'latk': 8152, 'latkel': 8153, 'lox': 8154, 'waffl': 8155, 'anxietydisord': 8156, 'ocd': 8157, 'headach': 8158, 'weddingseason': 8159, 'faq': 8160, 'hey': 8161, 'laze': 8162, 'worldwidefoodservicesafetymonth': 8163, 'dietsehat': 8164, 'guarante': 8165, 'botani': 8166, 'buckthorn': 8167, 'flora': 8168, 'floweringpl': 8169, 'hippopha': 8170, 'landplant': 8171, 'macrophotographi': 8172, 'photoofsea': 8173, 'shrub': 8174, 'thistl': 8175, 'paneer': 8176, 'paneerrecip': 8177, 'च': 8178, 'पकड': 8179, 'पनर': 8180, 'बरड': 8181, 'diethelp': 8182, 'fatlosstip': 8183, 'flattummi': 8184, 'organichealth': 8185, 'drvijaykumarman': 8186, 'homeopathi': 8187, 'jagrutinew': 8188, 'jagrutinewschannel': 8189, 'livercirrhosi': 8190, 'livercirrhosistreat': 8191, 'modernhomeopathi': 8192, 'pancreat': 8193, 'tvshow': 8194, 'avacado': 8195, 'triglycerid': 8196, 'admachocobit': 8197, 'chocobit': 8198, 'financialeduc': 8199, 'financialhealth': 8200, 'kitchenlif': 8201, 'carbonfootprint': 8202, 'ecofriendli': 8203, 'mankind': 8204, 'weekendmotiv': 8205, 'bigbasket': 8206, 'inspear': 8207, 'minimum': 8208, 'usapear': 8209, 'worldpearday': 8210, 'cadburyworld': 8211, 'drpepper': 8212, 'fritolay': 8213, 'heartandstrok': 8214, 'michaelmossc': 8215, 'court': 8216, 'foodmart': 8217, 'safeway': 8218, 'sicko': 8219, 'studyspo': 8220, 'subway': 8221, 'kofta': 8222, 'subj': 8223, 'giantswelfar': 8224, 'shainanc': 8225, 'adkgt': 8226, 'gtsnap': 8227, 'juicewrld': 8228, 'ligo': 8229, 'refresh': 8230, 'viber': 8231, 'ariatupr': 8232, 'babatok': 8233, 'caribbean': 8234, 'chrisimafidon': 8235, 'djabass': 8236, 'mikeabiola': 8237, 'pkmedia': 8238, 'rotimijaiyesimi': 8239, 'ruthoshikanlu': 8240, 'sfajanathoma': 8241, 'sunnylamb': 8242, 'tropic': 8243, 'wendyolayiwola': 8244, 'shell': 8245, 'skirtsteak': 8246, 'zerocarb': 8247, 'commonsensecoach': 8248, 'digestivehealth': 8249, 'guthealthforlif': 8250, 'pic': 8251, 'painkil': 8252, 'losebellyfat': 8253, 'weightlosstransform': 8254, 'foodsit': 8255, 'optimum': 8256, 'stroke': 8257, 'comedian': 8258, 'horror': 8259, 'sketch': 8260, 'standup': 8261, 'standupcomedi': 8262, 'distilleri': 8263, 'distillerydistrict': 8264, 'distilleryto': 8265, 'distillerydistricttoronto': 8266, 'carn': 8267, 'mastercheftheprofession': 8268, 'paulmaccartney': 8269, 'fm': 8270, 'kentonphysicaltherapi': 8271, 'pt': 8272, 'stream': 8273, 'wdcxradio': 8274, 'adobemax': 8275, 'dart': 8276, 'dmodel': 8277, 'drender': 8278, 'graphicdesign': 8279, 'photoshop': 8280, 'shotfoto': 8281, 'biodegrad': 8282, 'essentialoil': 8283, 'ete': 8284, 'foodwrap': 8285, 'reusabl': 8286, 'ff': 8287, 'contin': 8288, 'foodfit': 8289, 'incontin': 8290, 'novamedpad': 8291, 'adnutrix': 8292, 'solbrah': 8293, 'trainingfood': 8294, 'aaaa': 8295, 'amazonprim': 8296, 'bangalor': 8297, 'dilli': 8298, 'hyderabad': 8299, 'nutvideo': 8300, 'purani': 8301, 'picki': 8302, 'ya': 8303, 'traderlo': 8304, 'crossfit': 8305, 'highcalor': 8306, 'mygoodnez': 8307, 'nez': 8308, 'stretchyourlimit': 8309, 'orangejuic': 8310, 'tropicana': 8311, 'tropicanajuic': 8312, 'eatsowhat': 8313, 'googlebook': 8314, 'mayor': 8315, 'okay': 8316, 'popsavvypol': 8317, 'halitosi': 8318, 'ah': 8319, 'impossibleburg': 8320, 'rage': 8321, 'seeker': 8322, 'spoken': 8323, 'vegannugget': 8324, 'dasar': 8325, 'fitnessroutin': 8326, 'goalset': 8327, 'marathon': 8328, 'stitcher': 8329, 'tunein': 8330, 'coachneharanglani_': 8331, 'glutenfact': 8332, 'shock': 8333, 'antonioguterr': 8334, 'gilmour_wendi': 8335, 'payer': 8336, 'profithealth': 8337, 'rterdogan': 8338, 'selenium': 8339, 'versatil': 8340, 'hmmm': 8341, 'brocoli': 8342, 'fridaymotiv': 8343, 'lori': 8344, 'cafedripskabalagala': 8345, 'kabalagala': 8346, 'pilat': 8347, 'runni': 8348, 'sneez': 8349, 'otherwis': 8350, 'chart': 8351, 'unsur': 8352, 'breakingnew': 8353, 'clickherenow': 8354, 'heraldtribun': 8355, 'horoscop': 8356, 'newsyoucanus': 8357, 'newsyouneedtoknow': 8358, 'sundaycom': 8359, 'sundayplu': 8360, 'supportlocaljourn': 8361, 'ticket': 8362, 'childnutritionist': 8363, 'mythandfact': 8364, 'eit': 8365, 'shttpstcoavdemhax': 8366, 'foodori': 8367, 'antivax': 8368, 'church': 8369, 'cnft': 8370, 'delta': 8371, 'faucili': 8372, 'ipadair': 8373, 'ladyboy': 8374, 'lgbt': 8375, 'marijuana': 8376, 'poll': 8377, 'spokesman': 8378, 'twitterpol': 8379, 'getgreengetrow': 8380, 'rajma': 8381, 'inculc': 8382, 'eatrealfood': 8383, 'appropri': 8384, 'cide': 8385, 'fungu': 8386, 'akaeserg': 8387, 'driver': 8388, 'hellotmrc': 8389, 'htsummit': 8390, 'jblefevr': 8391, 'jbonnel': 8392, 'kalydeoo': 8393, 'pierrecappelli': 8394, 'tewoz': 8395, 'ym': 8396, 'teamdairi': 8397, 'aahar': 8398, 'aditi': 8399, 'aditi_': 8400, 'founder': 8401, 'fridaymorn': 8402, 'panelist': 8403, 'antioxidantsthi': 8404, 'irresist': 8405, 'loaf': 8406, 'becauselifematt': 8407, 'sterlinghospit': 8408, 'sterlingspecialityclinicsandcancercent': 8409, 'water_chestnut': 8410, 'sizabl': 8411, 'jewelleri': 8412, 'wearer': 8413, 'suppos': 8414, 'celebratefit': 8415, 'daykadai': 8416, 'fitnessmana': 8417, 'instagramdown': 8418, 'questiontim': 8419, 'yogagirl': 8420, 'lactos': 8421, 'abi': 8422, 'abislaziz': 8423, 'chickenlov': 8424, 'chickenprotein': 8425, 'dept_of_ahd': 8426, 'gulrez_alam_': 8427, 'homedeliveri': 8428, 'ibgroup': 8429, 'juiciest': 8430, 'lazizabi': 8431, 'nagpur': 8432, 'nagpurc': 8433, 'superpow': 8434, 'tsemtulku': 8435, 'camel': 8436, 'camelmilk': 8437, 'healthybreakfast': 8438, 'healthym': 8439, 'proteinbar': 8440, 'proteindiet': 8441, 'snackstim': 8442, 'beriberi': 8443, 'chesnut': 8444, 'diuret': 8445, 'dulci': 8446, 'eleochari': 8447, 'autom': 8448, 'cvd': 8449, 'kidneydiseas': 8450, 'wellbeingeconomi': 8451, 'airfryer': 8452, 'castiron': 8453, 'crableg': 8454, 'delux': 8455, 'instapot': 8456, 'ribey': 8457, 'sear': 8458, 'homegrown': 8459, 'untidi': 8460, 'canaan': 8461, 'ct': 8462, 'healthfoodbusi': 8463, 'newcanaan': 8464, 'himalayansalt': 8465, 'himalayansaltlamp': 8466, 'lahorinamak': 8467, 'pinkgoldhimalyansalt': 8468, 'pinksalt': 8469, 'pinksalted': 8470, 'rbkinternationalsalt': 8471, 'rocksalt': 8472, 'saltmin': 8473, 'urdu': 8474, 'فوائد': 8475, 'نمک': 8476, 'ہمالین': 8477, 'domainforsal': 8478, 'domainnam': 8479, 'domainsforsal': 8480, 'hotel': 8481, 'travelblogtip': 8482, 'prior': 8483, 'trial': 8484, 'unpronounc': 8485, 'dibb': 8486, 'dovetail': 8487, 'layman': 8488, 'mcauliff': 8489, 'js': 8490, 'kotlin': 8491, 'recod': 8492, '_inpst': 8493, 'askthedentist': 8494, 'attn': 8495, 'dhpsp': 8496, 'drstevenlin': 8497, 'kevinstock': 8498, 'sciencecommuni': 8499, 'jamomag': 8500, 'bloghttpstcozvuqyzrw': 8501, 'match': 8502, 'milenesa': 8503, 'troll': 8504, 'wut': 8505, 'delhidarbar': 8506, 'entre': 8507, 'friedfood': 8508, 'pomp': 8509, 'indirect': 8510, 'delicaci': 8511, 'bloggingtip': 8512, 'bookreview': 8513, 'videomarket': 8514, 'environmentallyfriendli': 8515, 'environmentawar': 8516, 'wtop': 8517, 'andr': 8518, 'bezo': 8519, 'letsdothi': 8520, 'unhealthyhttpstcoihlwnror': 8521, 'careworldtv': 8522, 'makanansehat': 8523, 'appet': 8524, 'stun': 8525, 'wholiday': 8526, 'cucurbitacea': 8527, 'kobeu_glob': 8528, 'futureoffood': 8529, 'healthori': 8530, 'iftjourn': 8531, 'authorlif': 8532, 'writerslif': 8533, 'writingmotiv': 8534, 'va': 8535, 'vanutrit': 8536, 'belgium': 8537, 'francophon': 8538, 'francophoni': 8539, 'merci': 8540, 'namast': 8541, 'naturel': 8542, 'naturelov': 8543, 'quebec': 8544, 'sant': 8545, 'santemental': 8546, 'swiss': 8547, 'commonli': 8548, 'aidhigh': 8549, 'americamust': 8550, 'archivebiden': 8551, 'assumedimposs': 8552, 'coordin': 8553, 'costsamp': 8554, 'deploy': 8555, 'healthandcarebil': 8556, 'scrap': 8557, 'trump': 8558, 'aliment': 8559, 'bleue': 8560, 'naturopathi': 8561, 'suiss': 8562, 'utm_mediumcopy_link': 8563, 'rtif': 8564, 'anat': 8565, 'binur': 8566, 'cofound': 8567, 'emphas': 8568, 'merg': 8569, 'ukko': 8570, 'lighten': 8571, 'sunburn': 8572, 'fermentedmilk': 8573, 'foodandbeverageindustri': 8574, 'researchreport': 8575, 'bcanteen': 8576, 'biocanteen': 8577, 'gavà': 8578, 'od': 8579, 'urbact': 8580, 'foodstrategi': 8581, 'municip': 8582, 'kamalaja': 8583, 'ఇమమయనట': 8584, 'తసకవలసన': 8585, 'పచకవడనక': 8586, 'carbcount': 8587, 'diabeteseduc': 8588, 'organicfooddeliveri': 8589, 'organicfoodproduct': 8590, 'organicmixd': 8591, 'organicshop': 8592, 'ldl': 8593, 'learndevelopl': 8594, 'entrust': 8595, 'eu_health': 8596, 'spoonfe': 8597, 'fopl': 8598, 'जयत': 8599, 'तदश': 8600, 'परज': 8601, 'भकषयननतय': 8602, 'यदनन': 8603, 'abandon': 8604, 'gruhine': 8605, 'gruhineefamili': 8606, 'gruhineefood': 8607, 'gruhineehalth': 8608, 'gruhineehomemad': 8609, 'homemadefood': 8610, 'recipeblog': 8611, 'artist': 8612, 'brokenlink': 8613, 'champagn': 8614, 'fintech': 8615, 'gamespeopleplay': 8616, 'ideaism': 8617, 'rendang': 8618, 'schoolofchocol': 8619, 'teammcm': 8620, 'tesla': 8621, 'alisonnoble_': 8622, 'kaustresearch': 8623, 'ultrasound': 8624, 'uniofoxford': 8625, 'nourishourfutur': 8626, 'dipeshdutt': 8627, 'finelychop': 8628, 'pramilamundra': 8629, 'rbawri': 8630, 'ujjwalabaxi': 8631, 'cayenn': 8632, 'breastcancerawar': 8633, 'tripleneg': 8634, 'uuexpect': 8635, 'section': 8636, 'greecania': 8637, 'greekcuisin': 8638, 'greekinindia': 8639, 'असडटच': 8640, 'समसय': 8641, 'edobo': 8642, 'edobo_groceri': 8643, 'justedobo': 8644, 'alison': 8645, 'birkeland': 8646, 'charl': 8647, 'hawaii': 8648, 'mclarenf': 8649, 'mãnoa': 8650, 'nobl': 8651, 'oneonon': 8652, 'uhmanoa': 8653, 'zak': 8654, 'conejoclim': 8655, 'earth_grey': 8656, 'evacu': 8657, 'mega': 8658, 'nationalsecur': 8659, 'auditorium': 8660, 'bldg': 8661, 'blindli': 8662, 'selfworth': 8663, 'walkaway': 8664, 'wife': 8665, 'yogapos': 8666, 'अधक': 8667, 'नयमत': 8668, 'पचनससथसठ': 8669, 'यगसन': 8670, 'वच': 8671, 'dhaba': 8672, 'tadka': 8673, 'tadkad': 8674, 'annapoli': 8675, 'butternutsquash': 8676, 'lowfat': 8677, 'maryland': 8678, 'soupseason': 8679, 'healthrel': 8680, 'overlycook': 8681, 'runningwithtumisol': 8682, 'binachhedasamrutcentr': 8683, 'dietexercis': 8684, 'gynaechealth': 8685, 'pco': 8686, 'testimonialthursday': 8687, 'multivitamin': 8688, 'hummu': 8689, 'nextlevel': 8690, 'pecorino': 8691, 'sydney': 8692, 'vegansofig': 8693, 'vegofoodshar': 8694, 'whatveganseat': 8695, 'aprof': 8696, 'brimblecomb': 8697, 'foodforalljuli': 8698, 'healthystor': 8699, 'juli': 8700, 'nsau': 8701, 'plenari': 8702, 'biriyani': 8703, 'naan': 8704, 'gordon': 8705, 'investig': 8706, 'kingston': 8707, 'mr': 8708, 'slaterandgordon': 8709, 'victim': 8710, 'ancestor': 8711, 'fooditalian': 8712, 'keeper': 8713, 'piccata': 8714, 'hypertes': 8715, 'healthylifestyl': 8716, 'callforstori': 8717, 'frsthand': 8718, 'kidneybean': 8719, 'openfoodi': 8720, 'balancediet': 8721, 'energylevel': 8722, 'pmslump': 8723, 'vitaminec': 8724, 'thyme': 8725, 'tooth': 8726, 'spotifywrap': 8727, 'reserv': 8728, 'bibl': 8729, 'childrenministri': 8730, 'fundrais': 8731, 'savehuman': 8732, 'sundayschool': 8733, 'sundayservic': 8734, 'supportpray': 8735, 'atgrandmashous': 8736, 'blackgarl': 8737, 'blackgarlicmag': 8738, 'blackgarlicoil': 8739, 'decemberst': 8740, 'exercisedaili': 8741, 'exercisedailymagazin': 8742, 'mapoli': 8743, 'probowlvot': 8744, 'scotu': 8745, 'hamburg': 8746, 'motorcycl': 8747, 'perfectseek': 8748, 'rode': 8749, 'allianc': 8750, 'brazil': 8751, 'secretari': 8752, 'snub': 8753, 'vilsack': 8754, 'withth': 8755, 'kinder': 8756, 'newfoodmag': 8757, 'holidaypoison': 8758, 'poisoncontrol': 8759, 'poisonhelp': 8760, 'preventpoison': 8761, 'spiritualintegr': 8762, 'suprem': 8763, 'blacktot': 8764, 'gautaamm': 8765, 'gunpowd': 8766, 'kde': 8767, 'liquor': 8768, 'manishmank': 8769, 'nitinweld': 8770, 'pusser': 8771, 'ration': 8772, 'sailor': 8773, 'sandeepghanekar': 8774, 'tot': 8775, 'mickey': 8776, 'agedcar': 8777, 'agedefi': 8778, 'agefight': 8779, 'journalist': 8780, 'recallssafeti': 8781, 'boast': 8782, 'sharpen': 8783, 'saamnew': 8784, 'saamtv': 8785, 'parenthood': 8786, 'lake': 8787, 'novadairi': 8788, 'novadairyproduct': 8789, 'puriti': 8790, 'deli': 8791, 'trail': 8792, 'weath': 8793, 'pastri': 8794, 'sadhgurujv': 8795, 'sg': 8796, 'selfhelp': 8797, 'shortcut': 8798, 'sorri': 8799, 'cough': 8800, 'eggdiet': 8801, 'isefood': 8802, 'isefoodsindia': 8803, 'foodwar': 8804, 'justeat': 8805, 'redbean': 8806, 'veggiesbasket': 8807, 'consumerresearch': 8808, 'yorkshir': 8809, 'fopnl': 8810, 'stephanpetersnl': 8811, 'weird': 8812, 'hype': 8813, 'art': 8814, 'brows': 8815, 'businessandmanag': 8816, 'onlinemarketingghana': 8817, 'propertybusi': 8818, 'realestatebusi': 8819, 'travelandtour': 8820, 'sustainablefood': 8821, 'satisfact': 8822, 'snicker': 8823, 'herbalif': 8824, 'chard': 8825, 'ekadashi': 8826, 'hinduism': 8827, 'methi': 8828, 'saute': 8829, 'anchorlaterlif': 8830, 'consumersafeti': 8831, 'decodinglabel': 8832, 'enumb': 8833, 'foodisgood': 8834, 'foodvcso': 8835, 'ingredientsafeti': 8836, 'nontoxicskincar': 8837, 'productsafeti': 8838, 'selfcarethread': 8839, 'selfcaretip': 8840, 'sourceapp': 8841, 'faoeagricultur': 8842, 'foodpric': 8843, 'gtgtgt': 8844, 'handpick': 8845, 'infant': 8846, 'newindianxpress': 8847, 'ogmo': 8848, 'ogmojr': 8849, 'readhttpstcoafvmjakdjc': 8850, 'vaishaliv_kumar': 8851, 'xpresstn': 8852, 'deepika_fitt': 8853, 'deepikalalwani': 8854, 'makeitsimpl': 8855, 'euro': 8856, 'greenpeac': 8857, 'tide': 8858, 'childhoodobes': 8859, 'childrensfood': 8860, 'foodstartup': 8861, 'shauravimalik': 8862, 'slurrpfarm': 8863, 'tishtashtalk': 8864, 'zerojunkpromis': 8865, 'filipino': 8866, 'bajaj': 8867, 'lesserknown': 8868, 'meenakshi': 8869, 'sahanaiy': 8870, 'sesameoil': 8871, 'theoilaisl': 8872, 'energis': 8873, 'cancercaus': 8874, 'deltaco': 8875, 'pesticideridden': 8876, 'taco': 8877, 'tacotuesday': 8878, 'alkal': 8879, 'arugula': 8880, 'credibl': 8881, 'void': 8882, 'depressioni': 8883, 'bg': 8884, 'diff': 8885, 'noonesizefitsal': 8886, 'recheck': 8887, 'saynotoblanketprescript': 8888, 'gummi': 8889, 'gummybear': 8890, 'officialharibo': 8891, 'kuru': 8892, 'foodintoler': 8893, 'colorado': 8894, 'decolon': 8895, 'ietef': 8896, 'givingtuesday': 8897, 'bestlif': 8898, 'gratefulforeveryth': 8899, 'youngmen': 8900, 'kebab': 8901, 'kitchenbe': 8902, 'urgent': 8903, 'counti': 8904, 'gaston': 8905, 'gazett': 8906, 'teacher': 8907, 'overlook': 8908, 'nam': 8909, 'paso': 8910, 'prohibit': 8911, 'reduct': 8912, 'texa': 8913, 'viet': 8914, 'elephantjourn': 8915, 'farmtoschool': 8916, 'natgeo': 8917, 'bitcoin': 8918, 'deathstyl': 8919, 'curtisston': 8920, 'eatsmart': 8921, 'foodstorag': 8922, 'homemadem': 8923, 'marthastewart': 8924, 'ubiquit': 8925, 'retweetpleas': 8926, 'novemb': 8927, 'tuesdaymotivaton': 8928, 'fishinglif': 8929, 'gfvip': 8930, 'gfvipparti': 8931, 'salmona': 8932, 'venison': 8933, 'zucchini': 8934, 'natal': 8935, 'culurgion': 8936, 'sardegna': 8937, 'pistachio': 8938, 'hawaiian': 8939, 'squid': 8940, 'barbecu': 8941, 'spatzl': 8942, 'caesar': 8943, 'saladday': 8944, 'humu': 8945, 'meatbal': 8946, 'readymad': 8947, 'ragout': 8948, 'rustic': 8949, 'minestron': 8950, 'cantones': 8951, 'altro': 8952, 'codmobil': 8953, 'controllar': 8954, 'freelanc': 8955, 'il': 8956, 'livorno': 8957, 'peso': 8958, 'squidgam': 8959, 'tuo': 8960, 'vedi': 8961, 'oop': 8962, 'indiancounselli': 8963, 'linkedin': 8964, 'mentalhealthawar': 8965, 'psychologystud': 8966, 'earlier': 8967, 'eitfood': 8968, 'resourceeffici': 8969, 'alimentacion': 8970, 'alimento': 8971, 'bemestar': 8972, 'cerebrai': 8973, 'demencia': 8974, 'depressao': 8975, 'est': 8976, 'evit': 8977, 'evitar': 8978, 'outro': 8979, 'problema': 8980, 'quiser': 8981, 'ben_stein': 8982, 'cali': 8983, 'commonbondcaf': 8984, 'latt': 8985, 'matcha': 8986, 'nomaddragon': 8987, 'yukarisakamoto': 8988, '風真いろは初配信でござる': 8989, 'confectioneri': 8990, 'datacollect': 8991, 'inventor': 8992, 'marketresearchreport': 8993, 'sugarindustri': 8994, 'valuat': 8995, 'bynd': 8996, 'nasdaqbynd': 8997, 'pleasefollowu': 8998, 'bellevuehosp': 8999, 'lilyc_chefrd': 9000, 'nychealthsystem': 9001, 'fav': 9002, 'heavenli': 9003, 'orient': 9004, 'pansear': 9005, 'leenamahtani': 9006, 'fiberantioxidantslow': 9007, 'workoutmotiv': 9008, 'empir': 9009, 'empirefamili': 9010, 'employeemotiv': 9011, 'mouthwat': 9012, 'pizzaday': 9013, 'pizzalov': 9014, 'pizzaparti': 9015, 'pizzatim': 9016, '𝗔': 9017, '𝗙𝗮𝗺𝗶𝗹𝘆': 9018, '𝗟𝗮': 9019, '𝗠𝗼𝘁𝘁𝗲': 9020, '𝗪𝗶𝗻𝗲': 9021, '𝗲𝗮𝘁𝘀': 9022, '𝘀𝘁𝗮𝘆𝘀': 9023, '𝘁𝗼𝗴𝗲𝘁𝗵𝗲𝗿': 9024, '𝘄𝗵𝗼': 9025, 'geograph': 9026, 'gastroenterolog': 9027, 'gastroenterologist': 9028, 'herbsforhealth': 9029, 'superherb': 9030, 'wart': 9031, 'ecowel': 9032, 'tedx': 9033, 'aha': 9034, 'curios': 9035, 'piqu': 9036, 'shelovestech': 9037, 'shetechscharg': 9038, 'womenintechnolog': 9039, 'wmrmusicgroup': 9040, 'worldofvegan': 9041, 'zyitegadget': 9042, 'amnesti': 9043, 'clean_wat': 9044, 'ethiopia': 9045, 'ethnic': 9046, 'tragic': 9047, 'alex': 9048, 'betterdaili': 9049, 'vanhouten': 9050, 'append': 9051, 'echowhatson': 9052, 'livechonew': 9053, 'liverpool': 9054, 'beaunikorgan': 9055, 'gauteng': 9056, 'kempton': 9057, 'triptophin': 9058, 'ওটস': 9059, 'খন': 9060, 'নশভজ': 9061, 'litoncu': 9062, 'cellbas': 9063, 'elonmusk': 9064, 'interplanatari': 9065, 'mrc_microbiom': 9066, 'naturebiotech': 9067, 'unswmedicin': 9068, 'campu': 9069, 'kaust': 9070, 'nutrev': 9071, 'preferenti': 9072, 'columnist': 9073, 'cubanladi': 9074, 'doorsal': 9075, 'latina': 9076, 'madam': 9077, 'streetphotographi': 9078, 'dietmumrepeat': 9079, 'langs': 9080, 'oneonediet': 9081, 'commentari': 9082, 'minireview': 9083, 'whatsapp': 9084, 'bahria': 9085, 'bahriadastarkhwan': 9086, 'bahriat': 9087, 'corporatesocialrespons': 9088, 'loop': 9089, 'dulc': 9090, 'graciela': 9091, 'housofthi': 9092, 'seekingsolut': 9093, 'soundcloud': 9094, 'bahriatown': 9095, 'blackrock': 9096, 'cay': 9097, 'dublin': 9098, 'dublinrestaur': 9099, 'galway': 9100, 'halfirish': 9101, 'horeca': 9102, 'instaireland': 9103, 'lovindublin': 9104, 'frank': 9105, 'wright': 9106, 'businessworld': 9107, 'humananatomi': 9108, 'ovarian': 9109, 'polycyst': 9110, 'syndrom': 9111, 'cheeseburg': 9112, 'businesswomen': 9113, 'grilledchicken': 9114, 'smoki': 9115, 'streetfood': 9116, 'vendor': 9117, 'businesscasu': 9118, 'businesswoman': 9119, 'indianapoliswel': 9120, 'saratoga': 9121, 'topochico': 9122, 'wasnt': 9123, 'besan': 9124, 'bhajiya': 9125, 'cheela': 9126, 'dhokla': 9127, 'indiandessert': 9128, 'lipsmack': 9129, 'mysor': 9130, 'pak': 9131, 'sarojagro': 9132, 'vijay': 9133, 'vijayfood': 9134, 'gujarat': 9135, 'gujarati': 9136, 'mail': 9137, 'minor': 9138, 'thalassamia': 9139, 'thalassemia': 9140, 'slower': 9141, 'toningbyteddi': 9142, 'heathcar': 9143, 'menstur': 9144, 'swing': 9145, 'environmentalprotect': 9146, 'phthalat': 9147, 'doingit': 9148, 'doit': 9149, 'sexykitchen': 9150, 'foodillustr': 9151, 'paint': 9152, 'tropicalfruit': 9153, 'snacktim': 9154, 'rawvegan': 9155, 'youfruit': 9156, 'biolet': 9157, 'storya': 9158, 'storyshar': 9159, 'giveawayalert': 9160, 'midnight': 9161, 'sweepstak': 9162, 'winmetawin': 9163, 'winner': 9164, 'nejm': 9165, 'reduction': 9166, 'schmodium': 9167, 'schpotassium': 9168, 'cybermondayoffmineralwat': 9169, 'promo': 9170, 'accomod': 9171, 'beforey': 9172, 'confront': 9173, 'democraci': 9174, 'everybodi': 9175, 'fgoloobamutebi': 9176, 'instabl': 9177, 'accommod': 9178, 'energyhom': 9179, 'westafrican': 9180, 'argan': 9181, 'arganoil': 9182, 'famou': 9183, 'lisbon': 9184, 'portugues': 9185, 'dishi': 9186, 'goingnorth': 9187, 'groux': 9188, 'holisticliv': 9189, 'risa': 9190, 'slowest': 9191, 'dg': 9192, 'flammarion': 9193, 'inra': 9194, 'inraeaward': 9195, 'jeannemari': 9196, 'membré': 9197, 'dietet': 9198, 'heavymet': 9199, 'origin': 9200, 'toxicolog': 9201, 'funday': 9202, 'gamer': 9203, 'grateful': 9204, 'jongeoud': 9205, 'limeandging': 9206, 'minecraft': 9207, 'thee': 9208, 'aperitif': 9209, 'coupl': 9210, 'loneli': 9211, 'yahoo': 9212, 'foodscienceandtechnolog': 9213, 'newbook': 9214, 'overview': 9215, 'michelemonday': 9216, 'cnbc': 9217, 'googlenew': 9218, 'changemak': 9219, 'dailymealsprogramm': 9220, 'underprivileg': 9221, 'wbcare': 9222, 'june': 9223, 'mariann': 9224, 'bora': 9225, 'borabora': 9226, 'polynesia': 9227, 'antivir': 9228, 'vulgari': 9229, 'blackfriday': 9230, 'depart': 9231, 'gcuf': 9232, 'nutrifactor': 9233, 'ecnom': 9234, 'faisalabad': 9235, 'redbubbl': 9236, 'redbubbleshop': 9237, 'bussin': 9238, 'prevail': 9239, 'oldag': 9240, 'থযলসময': 9241, 'রগ': 9242, 'হয': 9243, 'sectorshttpstcovnxjazdu': 9244, 'coursesonlin': 9245, 'practition': 9246, 'almuerzo': 9247, 'delicioso': 9248, 'forti': 9249, 'howdi': 9250, 'succeed': 9251, 'environmentalawar': 9252, 'salesglucorpcom': 9253, 'attapadi': 9254, 'cmokerala': 9255, 'inckerala': 9256, 'pathet': 9257, 'sudhakaraninc': 9258, 'vdsatheesan': 9259, 'justhungry': 9260, 'shirleygf': 9261, 'ttelegraph': 9262, 'follobackinstantli': 9263, 'follofolloback': 9264, 'folloforfolloback': 9265, 'followu': 9266, 'chiaraferragni': 9267, 'fedez': 9268, 'ferragnez': 9269, 'margherita': 9270, 'theferragnez': 9271, 'geniu': 9272, 'greenpass': 9273, 'bri': 9274, 'bryoni': 9275, 'jackfruitbas': 9276, 'linkhttpstcoxqixwibzg': 9277, 'ocado': 9278, 'sourcevegconomist': 9279, 'tinndisburi': 9280, 'mondaymotivaton': 9281, 'skinhealth': 9282, 'bst': 9283, 'enviro': 9284, 'legisl': 9285, 'max': 9286, 'superstor': 9287, 'lowercholesterol': 9288, 'zerocalori': 9289, 'ejlif': 9290, 'meati': 9291, 'colourcod': 9292, 'euwid': 9293, 'mull': 9294, 'auster': 9295, 'firstev': 9296, 'linkhttpstcotxzspagy': 9297, 'schnitzel': 9298, 'sourceadobo': 9299, 'tripepp': 9300, 'fitnesspass': 9301, 'bestfood': 9302, 'foodsforwint': 9303, 'officialchsf': 9304, 'omlet': 9305, 'omlett': 9306, 'uncomfort': 9307, 'असत': 9308, 'आवशयकत': 9309, 'इतर': 9310, 'घटकसह': 9311, 'दखल': 9312, 'लहच': 9313, 'naturalga': 9314, 'unsaf': 9315, 'foul': 9316, 'sardesairajdeep': 9317, 'tyi_offici': 9318, 'elast': 9319, 'tighten': 9320, 'juicecleans': 9321, 'vietnames': 9322, 'getsetgo': 9323, 'letsdoit': 9324, 'polycysticovariansyndrom': 9325, 'serenawilliam': 9326, 'intro': 9327, 'recap': 9328, 'enoughisenough': 9329, 'cat': 9330, 'brainbodyinteract': 9331, 'felicejacka': 9332, 'gutbrainaxi': 9333, 'veganfoodshar': 9334, 'vegano': 9335, 'animaljustic': 9336, 'animallaw': 9337, 'natashalennard': 9338, 'noviembr': 9339, 'dandruff': 9340, 'fenugreek': 9341, 'jamun': 9342, 'puré': 9343, 'pizzaiola': 9344, 'ricett': 9345, 'carbonara': 9346, 'cull': 9347, 'portray': 9348, 'subject': 9349, 'addictionrecoveri': 9350, 'edrecoverychat': 9351, 'joytrain': 9352, 'selfcaresunday': 9353, 'sundayshar': 9354, 'hing': 9355, 'micromov': 9356, 'positivevib': 9357, 'mindless': 9358, 'trivial': 9359, 'goodvib': 9360, 'monk': 9361, 'nickkeomahavong': 9362, 'carehom': 9363, 'chegworth': 9364, 'nursinghom': 9365, 'leadssureexpert': 9366, 'healthychoic': 9367, 'scmpnew': 9368, 'daughter': 9369, 'zonza': 9370, 'peacock': 9371, 'who': 9372, 'physiologyx': 9373, 'truthout': 9374, 'tudortweep': 9375, 'peoplepowerourpow': 9376, 'wfpchief': 9377, 'nationalnutritionpolici': 9378, 'opmuganda': 9379, 'tokyojapan': 9380, 'ug': 9381, 'valid': 9382, 'compet': 9383, 'archaeolog': 9384, 'drbillschindl': 9385, 'exarc': 9386, 'experiment': 9387, 'separ': 9388, 'canton': 9389, 'pancit': 9390, 'sundaymood': 9391, 'authors_ol': 9392, 'golakehavasu': 9393, 'nowyoungfem': 9394, 'rawchees': 9395, 'rawdairi': 9396, 'swisschees': 9397, 'activit': 9398, 'foodetc': 9399, 'gean': 9400, 'healthamp': 9401, 'identifyq': 9402, 'politicianssecyshodsofcl': 9403, 'pplcrl': 9404, 'pplcrlsfruad': 9405, 'pplghost': 9406, 'prayeri': 9407, 'relgn': 9408, 'systemsno': 9409, 'yogano': 9410, 'explorewel': 9411, 'healthinsta': 9412, 'agrcl': 9413, 'anml': 9414, 'foodmilk': 9415, 'horsecamel': 9416, 'indiaua': 9417, 'lifepakistan': 9418, 'meatamp': 9419, 'meatbeefcowbufbul': 9420, 'meatetcr': 9421, 'q': 9422, 'sankefrogetcsaltystor': 9423, 'usaukwhouno': 9424, 'poetri': 9425, 'shakespear': 9426, 'shakespearesunday': 9427, 'burningfat': 9428, 'femal': 9429, 'exerciseroutin': 9430, 'gastronterolog': 9431, 'campania': 9432, 'napoli': 9433, 'neapolitan': 9434, 'cina': 9435, 'tramezzini': 9436, 'abitu': 9437, 'alley': 9438, 'homelesswithout': 9439, 'protectionpleas': 9440, 'zainab': 9441, 'sixpack': 9442, 'sixpacksaturday': 9443, 'arvindpadhe': 9444, 'breed': 9445, 'dbtindia': 9446, 'genom': 9447, 'hihyderabadwith': 9448, 'indiadst': 9449, 'naturepl': 9450, 'plantscienc': 9451, 'revolut': 9452, 'sequenc': 9453, 'breaddessert': 9454, 'melaleuca': 9455, 'sellingcont': 9456, 'northcarolina': 9457, 'southcarolina': 9458, 'yogalif': 9459, 'atlanta': 9460, 'auction': 9461, 'miami': 9462, 'polic': 9463, 'basket': 9464, 'bellpepp': 9465, 'couplego': 9466, 'saturdaz': 9467, 'alien': 9468, 'aoc': 9469, 'bier': 9470, 'bièr': 9471, 'communist': 9472, 'gracia': 9473, 'melbourne_': 9474, 'nono': 9475, 'señorita': 9476, 'shh': 9477, 'trotskyit': 9478, 'loveonetoday': 9479, 'weightlossmotiv': 9480, 'float': 9481, 'sink': 9482, 'wherea': 9483, 'sportsnutrit': 9484, 'draw': 9485, 'pictionari': 9486, 'healthhack': 9487, 'skip': 9488, 'tipoftheweek': 9489, 'ph': 9490, 'ageless_u': 9491, 'aiadvocatur': 9492, 'aicostar': 9493, 'aikidistar': 9494, 'cofo': 9495, 'futureeurop': 9496, 'lobe': 9497, 'sweetcorn': 9498, 'chkn': 9499, 'foodtwitt': 9500, 'healthyliciouskitchen': 9501, 'meanplan': 9502, 'weekendvib': 9503, 'taboo': 9504, 'admario': 9505, 'obesityfreeindia': 9506, 'uttapam': 9507, 'citco': 9508, 'blacklivesmatt': 9509, 'wishesandbless': 9510, 'marathi': 9511, 'marathinew': 9512, 'marathitwitt': 9513, 'करणयत': 9514, 'करतल': 9515, 'घर': 9516, 'तमचय': 9517, 'पटच': 9518, 'पदरथ': 9519, 'मरठ': 9520, 'nutritionsci': 9521, 'plant_proof': 9522, 'edward': 9523, 'sooner': 9524, 'stanley': 9525, 'chawal': 9526, 'khichdi': 9527, 'ls': 9528, 'sabzi': 9529, 'sarcasticsaturday': 9530, 'twoindia': 9531, 'weekendkavaar': 9532, 'gf': 9533, 'vegancook': 9534, 'en': 9535, 'jesú': 9536, 'nombr': 9537, 'padr': 9538, 'withlov': 9539, 'glucofort': 9540, 'agribusi': 9541, 'fructos': 9542, 'hfc': 9543, 'pink': 9544, 'hiveblogshar': 9545, 'maracuyá': 9546, 'bracket': 9547, 'conduc': 9548, 'deleg': 9549, 'fisheriessubsidi': 9550, 'jsi': 9551, 'ministeri': 9552, 'sympathi': 9553, 'wtoreform': 9554, 'bresciaprof': 9555, 'bresciauc': 9556, 'dean': 9557, 'indieauthor': 9558, 'peri': 9559, 'reader': 9560, 'throat': 9561, 'cartoon': 9562, 'gun': 9563, 'noir': 9564, 'prank': 9565, 'scifi': 9566, 'autumnvib': 9567, 'baresnack': 9568, 'butternut': 9569, 'chipsth': 9570, 'fallfriday': 9571, 'boknow': 9572, 'dietjp': 9573, 'fursuitfriday': 9574, 'husker': 9575, 'ticketmast': 9576, 'destini': 9577, 'betaglucan': 9578, 'indirectli': 9579, 'calderagreen': 9580, 'faithnotfear': 9581, 'kalama': 9582, 'lemonwat': 9583, 'lemonwaterdetox': 9584, 'washington': 9585, 'martini': 9586, 'radiant': 9587, 'tina': 9588, 'cellfood': 9589, 'follo': 9590, 'follom': 9591, 'fridaythought': 9592, 'healthday': 9593, 'highperform': 9594, 'oxygen': 9595, 'breakupwithsalt': 9596, 'lesssalt': 9597, 'lesssaltpleas': 9598, 'unpackthesalt': 9599, 'affirm': 9600, 'blackfridayamazon': 9601, 'freeiphon': 9602, 'lavanyat': 9603, 'machinelearninginterview': 9604, 'ultramarathon': 9605, 'cargil': 9606, 'eatanim': 9607, 'dairyfre': 9608, 'kaju': 9609, 'organicmix': 9610, 'antidepress': 9611, 'ampheartbreak': 9612, 'ampthi': 9613, 'deterior': 9614, 'uniceflebanon': 9615, 'influencermarket': 9616, 'mondaymotivati': 9617, 'uncategor': 9618, 'caregiversamerica': 9619, 'modivcar': 9620, 'modivcarem': 9621, 'phil': 9622, 'svp': 9623, 'wearether': 9624, 'wilkin': 9625, 'aamctoday': 9626, 'amamedstud': 9627, 'brainhealthi': 9628, 'buddiesspac': 9629, 'inside_thematch': 9630, 'sharp': 9631, 'virusvariant': 9632, 'epidemiolog': 9633, 'veganthanksgiv': 9634, 'ecoday': 9635, 'ecoschoolswal': 9636, 'laburnum': 9637, 'missultana': 9638, 'somertonecoschool': 9639, 'devour': 9640, 'meatlov': 9641, 'mycoprotein': 9642, 'quiz': 9643, 'brahmi': 9644, 'contestalert': 9645, 'everydayhealth': 9646, 'foodnetwork': 9647, 'foodnetwork_uk': 9648, 'foodnetworkca': 9649, 'goodfoodal': 9650, 'harvardhealth': 9651, 'healthmagazin': 9652, 'soupherb__': 9653, 'tipsandtrick': 9654, 'unwfp_india': 9655, 'wfp': 9656, 'worldhealthsmt': 9657, 'cerelia': 9658, 'dough': 9659, 'mill': 9660, 'pittockjon': 9661, 'readytobak': 9662, 'menstrualcycl': 9663, 'overthink': 9664, 'inspireoth': 9665, 'perfectlif': 9666, 'viataperfecta': 9667, 'viataperfectaro': 9668, 'altcoin': 9669, 'everygoodthinginmylif': 9670, 'girlgone_crypto': 9671, 'replenish': 9672, 'sportdrink': 9673, 'sweat': 9674, 'agnutrit': 9675, 'agnutritionscotland': 9676, 'hypnotherapi': 9677, 'ideasbrainfoodhealthknowledgemedicineideamillidea': 9678, 'alla': 9679, 'genoves': 9680, 'gnocchi': 9681, 'frittata': 9682, 'orecchiett': 9683, 'roman': 9684, 'polenta': 9685, 'meatloaf': 9686, 'blossom': 9687, 'tempura': 9688, 'tellin': 9689, 'foodss': 9690, 'formul': 9691, 'healthytast': 9692, 'penguin': 9693, 'ink': 9694, 'xf': 9695, 'xfactor': 9696, 'wasa': 9697, 'philadelphia': 9698, 'reap': 9699, 'plantbreed': 9700, 'yieldgap': 9701, 'abisgoldsoyabeanoil': 9702, 'aminoacid': 9703, 'seaof_india': 9704, 'soyam': 9705, 'soyaproduct': 9706, 'hodg': 9707, 'qualifi': 9708, 'wheatgerm': 9709, 'ketchup_': 9710, 'mon': 9711, 'dukungmui': 9712, 'nomor': 9713, 'shamitashetti': 9714, 'txt': 9715, 'exrrcis': 9716, 'ti': 9717, 'ovenhealth': 9718, 'berlinbas': 9719, 'eustartup': 9720, 'perfeggt': 9721, 'libertybooks_': 9722, 'btc': 9723, 'decentr': 9724, 'doge': 9725, 'dogecoin': 9726, 'farmlawsrep': 9727, 'countdowntochristma': 9728, 'gratefulthankfulbless': 9729, 'mediterraneanfood': 9730, 'osmow': 9731, 'choyot': 9732, 'eatgreen': 9733, 'blackhead': 9734, 'golden': 9735, 'anthoni': 9736, 'commercialroof': 9737, 'familydinn': 9738, 'happythanksgiv': 9739, 'instacoat': 9740, 'instacoatp': 9741, 'ipp': 9742, 'miriani': 9743, 'nbcnew': 9744, 'hearthealthi': 9745, 'gunkan': 9746, 'unprofessor': 9747, 'hardboil': 9748, 'thanksgivingday': 9749, 'baconcheeseburg': 9750, 'activelifestyl': 9751, 'jobelyn': 9752, 'bullet': 9753, 'morgan': 9754, 'spurlock': 9755, 'thereâ': 9756, 'freeiphonei': 9757, 'houstonparx': 9758, 'couscou': 9759, 'datebookstor': 9760, 'balacynwyd': 9761, 'buckscounti': 9762, 'buckscountypa': 9763, 'core': 9764, 'haddonfield': 9765, 'lowermerion': 9766, 'macysdayparad': 9767, 'moorestown': 9768, 'warrington': 9769, 'workoutroutin': 9770, 'cranberrysauc': 9771, 'foryou': 9772, 'monterrey': 9773, 'parati': 9774, 'organicchemistri': 9775, 'tealov': 9776, 'thaitea': 9777, 'burst': 9778, 'diabetesawarenessmonth': 9779, 'dorrington': 9780, 'dorringtonoldhal': 9781, 'foodfact': 9782, 'naturalimmun': 9783, 'shropshir': 9784, 'actor': 9785, 'sux': 9786, 'greenwash': 9787, 'plantbasedmilk': 9788, 'tiredearth': 9789, 'saver': 9790, 'analys': 9791, 'foodguidetofit': 9792, 'nutritionnetwrk': 9793, 'sheela__singh': 9794, 'musicislif': 9795, 'reunit': 9796, 'gummibear': 9797, 'asianmedicin': 9798, 'healthysnack': 9799, 'traditionalmedicin': 9800, 'northamerica': 9801, 'allergen': 9802, 'délifranc': 9803, 'breasthealth': 9804, 'gobblegobbl': 9805, 'pinnaclebreasthealth': 9806, 'pinnaclebreastsurgeri': 9807, 'jesuschrist': 9808, 'buddhasuniversalchurch': 9809, 'lectur': 9810, 'linkinbio': 9811, 'bff': 9812, 'blueski': 9813, 'goodfriend': 9814, 'mice': 9815, 'circuit': 9816, 'rwandasynbio': 9817, 'synbioafrica': 9818, 'syntheticbiolog': 9819, 'fluctuat': 9820, 'hyman': 9821, 'microparticl': 9822, 'teabag': 9823, 'forgingthefutur': 9824, 'goodwish': 9825, 'loyal': 9826, 'craftsman': 9827, 'oath': 9828, 'democraticrepublicofcongo': 9829, 'drc': 9830, 'save_children': 9831, 'surg': 9832, 'violat': 9833, 'violenc': 9834, 'curiou': 9835, 'realis': 9836, 'studentlif': 9837, 'bonecanc': 9838, 'bonediseas': 9839, 'bonehealthawar': 9840, 'choco': 9841, 'abha_mishra': 9842, 'itspriynkam': 9843, 'fitwithlmnt': 9844, 'freshvegit': 9845, 'lmntfitnessclub': 9846, 'nutritionplan': 9847, 'istyl': 9848, 'poster': 9849, 'fifteen': 9850, 'khiggins_pi': 9851, 'petersburgv': 9852, 'tpzm_beer': 9853, 'foodstj': 9854, 'psychiatrist': 9855, 'wellnesstj': 9856, 'amitmehta': 9857, 'foodcompani': 9858, 'ltfood': 9859, 'ahlind': 9860, 'hahlin': 9861, 'kerri': 9862, 'russia': 9863, 'thoma': 9864, 'wellbeingmatt': 9865, 'cebas_cs': 9866, 'chare': 9867, 'dearest': 9868, 'flabfa': 9869, 'pmenaparreno': 9870, 'valencia': 9871, 'answerthink': 9872, 'dunnsolut': 9873, 'illum': 9874, 'themself': 9875, 'aaron': 9876, 'arancini': 9877, '_beneo': 9878, 'accompani': 9879, 'beneo': 9880, 'relentless': 9881, 'givethank': 9882, 'bowlfoodforbal': 9883, 'healthyeatinghabit': 9884, 'penguinbookssa': 9885, 'wholecookbook': 9886, 'badi': 9887, 'santula': 9888, 'deworm': 9889, 'aflatoxin': 9890, 'ap': 9891, 'crop_protect': 9892, 'cropprotect': 9893, 'deseas': 9894, 'ipm': 9895, 'phytopatholog': 9896, 'plantdiseas': 9897, 'zoho': 9898, 'talktomethursdaylearnwithlinanutritionfitnesshealthhealthylifestylehealthyhealthyfoodweightlossdietmotivationfoodwellnessfitfitnessmotivationlifestylehealthylivinghealthyeatingveganfitfamexercisenutritionistweightlossjourneyfoodi': 9899, 'buttermilk': 9900, 'vitaminb': 9901, 'aw': 9902, 'unfortun': 9903, 'weightlossgo': 9904, 'asafoetida': 9905, 'cuminse': 9906, 'atleticomilan': 9907, 'blackfridayups': 9908, 'crypto': 9909, 'foodtravelchat': 9910, 'mrbeastsquidgam': 9911, 'singyourdialect': 9912, 'etsi': 9913, 'she': 9914, 'jamaica': 9915, 'rejoic': 9916, 'thessalonian': 9917, 'bruce': 9918, 'lee': 9919, 'an': 9920, 'anubhavavash': 9921, 'fooddarze': 9922, 'itspalak': 9923, 'kumarivaishali': 9924, 'lifeonjupit': 9925, 'vinisaabha': 9926, 'drank': 9927, 'muckbang': 9928, 'pander': 9929, 'sub': 9930, 'fitnessquot': 9931, 'madnessffit': 9932, 'madnessforfit': 9933, 'और': 9934, 'कछ': 9935, 'खरच': 9936, 'घट': 9937, 'दव': 9938, 'व': 9939, 'हसपटल': 9940, 'alzheimersdiseas': 9941, 'gourmetfood': 9942, 'satay': 9943, 'dirtyseecret': 9944, 'ditchingdairi': 9945, 'nondairi': 9946, 'recordbreak': 9947, 'clove': 9948, 'kitchentool': 9949, 'peeler': 9950, 'silicon': 9951, 'talent': 9952, 'acupunctur': 9953, 'yingyang': 9954, 'strapparelungoibordi': 9955, 'zerocalcar': 9956, 'flockchip': 9957, 'jerki': 9958, 'uncur': 9959, 'collett': 9960, 'haw': 9961, 'marefuori': 9962, 'vegetablenov': 9963, 'allot': 9964, 'freshair': 9965, 'quiet': 9966, 'knight': 9967, 'ucf': 9968, 'mommoth': 9969, 'thoughtlead': 9970, 'endless': 9971, 'michutravel': 9972, 'detfoodacademi': 9973, 'detroitfoodacademi': 9974, 'translat': 9975, 'aromatherapi': 9976, 'bathandbodywork': 9977, 'cope': 9978, 'destress': 9979, 'innoventurist': 9980, 'makeithappen': 9981, 'wordpress': 9982, 'gout': 9983, 'pushup': 9984, 'regrow': 9985, 'awsom': 9986, 'besid': 9987, 'fighter': 9988, 'layahheilpern': 9989, 'markmoss': 9990, 'bodioffici': 9991, 'bodyfitoffici': 9992, 'nutrightt': 9993, 'techbas': 9994, 'babbl': 9995, 'ere': 9996, 'homrbrew': 9997, 'kapi': 9998, 'madra': 9999, 'midweek': 10000, 'minu': 10001, 'repeat': 10002, 'unwind': 10003, 'yer': 10004, 'globesyhttpstcotjmakmjuif': 10005, 'capitalist': 10006, 'commod': 10007, 'intermit': 10008, 'domainnameforsal': 10009, 'softwar': 10010, 'dharwad': 10011, 'justin': 10012, 'kalyana': 10013, 'davepperlmutt': 10014, 'zecohealth': 10015, 'crowd': 10016, 'unintent': 10017, 'bronx': 10018, 'bronxeconomi': 10019, 'brooklyn': 10020, 'newyorkc': 10021, 'poorest': 10022, 'unhealthiest': 10023, 'york': 10024, 'bloodglucos': 10025, 'gullibl': 10026, 'lifestylemodif': 10027, 'qdn': 10028, 'qol': 10029, 'tidm': 10030, 'adm': 10031, 'central': 10032, 'favoursfresh': 10033, 'aggarw': 10034, 'drkkliveson': 10035, 'healthcheckup': 10036, 'kk': 10037, 'lifestyleandhealth': 10038, 'pitta': 10039, 'prakarti': 10040, 'vaat': 10041, 'mhl': 10042, 'vacanc': 10043, 'expedit': 10044, 'kamalbrar': 10045, 'rachnarestor': 10046, 'vacationmod': 10047, 'serious': 10048, 'strang': 10049, 'coldpressedjuic': 10050, 'lactogen': 10051, 'tateandlyleplc': 10052, 'booklet': 10053, 'nanotechnologybas': 10054, 'sessionregulatori': 10055, 'onionpeppergarl': 10056, 'simmer': 10057, 'sourdough': 10058, 'spicestomatoeschees': 10059, 'biggboss': 10060, 'dhanush': 10061, 'jersey': 10062, 'wayv': 10063, '𝐏𝐞𝐚': 10064, '𝐓𝐫𝐲': 10065, '𝐡𝐞𝐚𝐥𝐭𝐡𝐲': 10066, '𝐬𝐨𝐮𝐩': 10067, '𝐯𝐞𝐠𝐚𝐧': 10068, '𝘊𝘰𝘭𝘥': 10069, '𝘢𝘭𝘭': 10070, '𝘢𝘯𝘥': 10071, '𝘪𝘴': 10072, '𝘯𝘦𝘦𝘥': 10073, '𝘯𝘪𝘨𝘩𝘵𝘴𝘭𝘢𝘳𝘨𝘦': 10074, '𝘴𝘰𝘶𝘱': 10075, '𝘴𝘸𝘦𝘢𝘵𝘦𝘳𝘴': 10076, '𝘵𝘰': 10077, '𝘸𝘢𝘳𝘮': 10078, '𝘸𝘦': 10079, '𝘸𝘦𝘭𝘤𝘰𝘮𝘦': 10080, '𝘸𝘪𝘯𝘵𝘦𝘳𝘴': 10081, 'ahm': 10082, 'drakhlaq': 10083, 'exhonyphysician': 10084, 'presid': 10085, 'unani': 10086, 'curb': 10087, 'greekyogurt': 10088, 'miso': 10089, 'nutrifact': 10090, 'fonceur': 10091, 'kobo': 10092, 'kobocanada': 10093, 'pre': 10094, 'admabuttercookiesbiscuit': 10095, 'buttercooki': 10096, 'contributor': 10097, 'dispos': 10098, 'chaman': 10099, 'dhabastyl': 10100, 'photoshoot': 10101, 'participantsneed': 10102, 'toprank': 10103, 'greenhousega': 10104, 'quarter': 10105, 'gitapok_': 10106, 'goldqueeni': 10107, 'harshkasana': 10108, 'hemoglobin': 10109, 'karan_solanki_': 10110, 'sj_': 10111, 'blackcod': 10112, 'donab': 10113, 'hickori': 10114, 'iceberg': 10115, 'kibaskitchen': 10116, 'exot': 10117, 'freshli': 10118, 'happymorn': 10119, 'impud': 10120, 'valamudan': 10121, 'vazhgaa': 10122, 'makeov': 10123, 'builder': 10124, 'bigfood': 10125, 'expenditur': 10126, 'foodandwat': 10127, 'publicsafeti': 10128, 'schoolchildren': 10129, 'schoolkid': 10130, 'theactionnet': 10131, 'करयच': 10132, 'झपणयपरव': 10133, 'टपस': 10134, 'नकक': 10135, 'फल': 10136, 'मग': 10137, 'रतर': 10138, 'eatingoilyfood': 10139, 'homehealthbeauti': 10140, 'oili': 10141, 'oilyfood': 10142, 'recoverfromoilfood': 10143, 'cookedh': 10144, 'turkeyleg': 10145, 'dutyotherwis': 10146, 'shall': 10147, 'usdt': 10148, 'detoxil': 10149, 'rewardbas': 10150, 'glasgow': 10151, 'scottish': 10152, 'canna': 10153, 'cannabischef': 10154, 'cannabiscook': 10155, 'catchi': 10156, 'easytorememb': 10157, 'fooddeliveri': 10158, 'kush': 10159, 'scream': 10160, 'sunflowerdomain': 10161, 'sake': 10162, 'trash': 10163, 'firecod': 10164, 'propan': 10165, 'historyinbook': 10166, 'indiebooksourc': 10167, 'umoreai': 10168, 'urbanremedi': 10169, 'deposit': 10170, 'healthproblem': 10171, 'usfood': 10172, 'clubhous': 10173, 'hamilton': 10174, 'turkeyday': 10175, 'gillian_rd': 10176, 'lbnutr': 10177, 'rd_catherin': 10178, 'heavili': 10179, 'comput': 10180, 'aritri_': 10181, 'avanparihar': 10182, 'gopidevi': 10183, 'rajeshhegdeblr': 10184, 'shaiti': 10185, 'tuaa': 10186, 'facesofhung': 10187, 'mane': 10188, 'portobello': 10189, 'shiitak': 10190, 'diarrhea': 10191, 'display': 10192, 'reastaur': 10193, 'infinit': 10194, 'viciou': 10195, 'fitmencook': 10196, 'lowcarstyl': 10197, 'menshealthmag': 10198, 'popsugarfit': 10199, 'preventionmag': 10200, 'womenshealthmag': 10201, 'bicep': 10202, 'amiyaghos': 10203, 'chatterjeefamil': 10204, 'mamber': 10205, 'mithunchatt': 10206, 'om_shivam': 10207, 'urs_preet': 10208, 'sassi': 10209, 'banner': 10210, 'photogaphi': 10211, 'foodstamp': 10212, 'stamp': 10213, 'unhealthyfood': 10214, 'iartg': 10215, 'topten': 10216, 'allthoseblog': 10217, 'bblogrt': 10218, 'bloggergain': 10219, 'bloggershutrt': 10220, 'bloggerstrib': 10221, 'bloggingbeesrt': 10222, 'bloglov': 10223, 'cosyblogclub': 10224, 'creatorzrt': 10225, 'ispyablog': 10226, 'lovingblog': 10227, 'tbgww': 10228, 'usbloggerrt': 10229, 'worldbloggersrt': 10230, 'cardboard': 10231, 'kristi': 10232, 'solubl': 10233, 'vitaminsad': 10234, 'besar': 10235, 'boomer': 10236, 'clay': 10237, 'eben': 10238, 'urbanmoniqu': 10239, 'binhai': 10240, 'kingdom': 10241, 'tianjin': 10242, 'explos': 10243, 'guru': 10244, 'scientificsound': 10245, 'admupd': 10246, 'meritprotein': 10247, 'blackfridaymediamarkt': 10248, 'desighe': 10249, 'vocalforloc': 10250, 'dietdiet': 10251, 'azchef': 10252, 'azmealdeliveri': 10253, 'azmealprep': 10254, 'ifym': 10255, 'scottsdal': 10256, 'bran': 10257, 'pakvsau': 10258, 'happytuesday': 10259, 'bijgepraat': 10260, 'dag': 10261, 'digita': 10262, 'happ': 10263, 'helema': 10264, 'één': 10265, 'branndonnft': 10266, 'dogelon': 10267, 'elitedogeclub': 10268, 'kindkong': 10269, 'nftart': 10270, 'upper': 10271, 'congest': 10272, 'reducereliev': 10273, 'dentalplan': 10274, 'dp': 10275, 'ownthesmil': 10276, 'sweetpotato': 10277, 'thanksgivingdinn': 10278, 'foodbusi': 10279, 'marmakush': 10280, 'needi': 10281, '_tanwar': 10282, 'immeet': 10283, 'sourav': 10284, 'pang': 10285, 'stave': 10286, 'clinton': 10287, 'cybermonday': 10288, 'holidaysarecom': 10289, 'armi': 10290, 'globeandmail': 10291, 'inspect': 10292, 'taxat': 10293, 'underground': 10294, 'impurbanhealth': 10295, 'matt': 10296, 'reshap': 10297, 'towner': 10298, 'wintertim': 10299, 'me_angel': 10300, 'mysterioussu': 10301, 'sonalisbera': 10302, 'onset': 10303, 'palsgaard': 10304, 'barrier': 10305, 'inadequ': 10306, 'nowgtgthttpstcoaihobbeti': 10307, 'dinesh_the_star': 10308, 'kajal': 10309, 'kinjal__': 10310, 'jayshreemehta': 10311, 'julietsajeesh': 10312, 'nirmalabantiya': 10313, 'witty_vish': 10314, 'earthforceholist': 10315, 'needfood': 10316, 'plantpow': 10317, 'novemberdecemb': 10318, 'shire': 10319, 'deki': 10320, 'foodblog': 10321, 'foodforchang': 10322, 'foodforthesoul': 10323, 'foodpass': 10324, 'lal': 10325, 'dialogu': 10326, 'farmeurop': 10327, 'nutritioneateuropeeu': 10328, 'healthhttpstcovnxjazdu': 10329, 'ashar_moideen': 10330, 'dhanbah': 10331, 'iamsyam': 10332, 'jeetu': 10333, 'mayert_ashley': 10334, 'nandinigoel': 10335, 'pranali': 10336, 'tazyfarzana': 10337, 'completeprotein': 10338, 'cool_bindra': 10339, 'mahendran': 10340, 'pallabioffici': 10341, 'smohan': 10342, 'varsha': 10343, 'fitgirl': 10344, 'gymmotiv': 10345, 'gymtim': 10346, 'healthcarehero': 10347, 'dayalojha_': 10348, 'deepak': 10349, 'khemka_nidhi': 10350, 'mumnishi': 10351, 'sandhya': 10352, 'satyapaljain_': 10353, 'nyerradla': 10354, 'subramoniam': 10355, 'chennai': 10356, 'forksnspoon': 10357, 'hyderabadiiiiii': 10358, 'lemonad': 10359, 'nehathegreat': 10360, 'sandeep_': 10361, 'expertapprov': 10362, 'theyv': 10363, 'jainusha': 10364, 'p_pinki': 10365, 'pinkydholakia': 10366, 'prernaj': 10367, 'theprernaa': 10368, 'richa': 10369, 'richapintoi': 10370, 'sahoogangadhar': 10371, 'happyladjam': 10372, 'yesss': 10373, 'cohost': 10374, 'dbioprint': 10375, 'drmiawoodruff': 10376, 'pancakeswap': 10377, 'chezgiorgia': 10378, 'recipegoodmorn': 10379, 'jam': 10380, 'cupcak': 10381, 'foodda': 10382, 'mrrajput': 10383, 'pavansmehta': 10384, 'ujjawalkumar': 10385, 'ansiron': 10386, 'balliapinki': 10387, 'hemraj_bku': 10388, 'lovelyq': 10389, 'officialneha': 10390, 'omji': 10391, 'paevend': 10392, 'vickyja': 10393, 'ihiruroy': 10394, 'ratnapatil': 10395, 'sensible_mona': 10396, 'shah_himanshu': 10397, 'shivani': 10398, 'envior': 10399, 'reaso': 10400, 'btsxama': 10401, 'nobluetickneed': 10402, 'ashwagandha': 10403, 'heartofbbumar': 10404, 'pakinsit': 10405, 'precaut': 10406, 'researchbas': 10407, 'thevoic': 10408, 'transawarenessweek': 10409, 'twittermaliciousdmca': 10410, 'gtgttfg': 10411, 'proteinpack': 10412, 'overcam': 10413, 'rawmilk': 10414, 'strongli': 10415, 'crutch': 10416, 'eggfact': 10417, 'eggmyth': 10418, 'crema': 10419, 'pwwb': 10420, 'consumerreport': 10421, 'cradvocaci': 10422, 'drsanjaygupta': 10423, 'lisa_l_gil': 10424, 'votingright': 10425, 'bethenni': 10426, 'frankel': 10427, 'healthrisk': 10428, 'whocar': 10429, 'animalsaotearoa': 10430, 'newzealand': 10431, 'nzpol': 10432, 'zealand': 10433, 'chanderparvesh': 10434, 'contestjoin': 10435, 'digesh_nanda': 10436, 'giveway': 10437, 'himanshubangia': 10438, 'kamalgr': 10439, 'krishan': 10440, 'chipotl': 10441, 'drove': 10442, 'dietip': 10443, 'uvdamag': 10444, 'gutbacteria': 10445, 'morehttpstcodtxxlqnpi': 10446, 'nurtit': 10447, 'ditchdairi': 10448, 'gari': 10449, 'meatfreemonday': 10450, 'penn': 10451, 'mondaymood': 10452, 'persimmon': 10453, 'amsterdam': 10454, 'blm': 10455, 'goldsgym': 10456, 'imaceleb': 10457, 'marktuan': 10458, 'poshmark': 10459, 'xrp': 10460, 'zonauang': 10461, 'directsubsidyforunderprivileg': 10462, 'directtaxsystem': 10463, 'lowinterestr': 10464, 'sensand': 10465, 'socialeconomi': 10466, 'socialjustic': 10467, 'socialreform': 10468, 'subsidizeecofriendlyproduct': 10469, 'taxbillionair': 10470, 'taxphysicalproperti': 10471, 'taxproperti': 10472, 'taxvirtualproperti': 10473, 'rosemari': 10474, 'payhip': 10475, 'fajita': 10476, 'multiethn': 10477, 'amaretti': 10478, 'peach': 10479, 'guacamol': 10480, 'tigel': 10481, 'boniatolesfrrebel': 10482, 'enhttpstcouowiixakq': 10483, 'zanahoria': 10484, 'linguin': 10485, 'tartat': 10486, 'classic': 10487, 'ethiopian': 10488, 'genocid': 10489, 'gov': 10490, 'incit': 10491, 'peterboneuk': 10492, 'traffick': 10493, 'beinggfoodi': 10494, 'homefood': 10495, 'jholo': 10496, 'potatocurri': 10497, 'angrynuwupotato': 10498, 'cashapp': 10499, 'divin': 10500, 'droz': 10501, 'tiredoflife': 10502, 'locust': 10503, 'plagu': 10504, 'allotmentuk': 10505, 'inger': 10506, 'seat': 10507, 'urbanfoodspac': 10508, 'nosugar': 10509, 'fitfor': 10510, 'foodwelov': 10511, 'woodlandtrust': 10512, 'eatrightohio': 10513, 'oand': 10514, 'adam': 10515, 'eric': 10516, 'mayorelect': 10517, 'harvestinspir': 10518, 'pointer': 10519, 'bcflood': 10520, 'earthquak': 10521, 'emergencykit': 10522, 'sobrieti': 10523, 'bold': 10524, 'nutritiongrowth': 10525, 'own': 10526, 'sun_mov': 10527, 'happythanksgivingday': 10528, 'happythanksgivingyal': 10529, 'thanksgivingdiettip': 10530, 'rajeshw': 10531, 'aliada': 10532, 'além': 10533, 'beneficiar': 10534, 'geral': 10535, 'homen': 10536, 'planta': 10537, 'são': 10538, 'manjeet_madam': 10539, 'mondaymorn': 10540, 'vegalta': 10541, 'dogsoftwitt': 10542, 'atleast': 10543, 'gsmokeswe': 10544, 'lhan': 10545, 'letfoodbeyourmedicin': 10546, 'grocer': 10547, 'longerterm': 10548, 'gujaratnew': 10549, 'healtharticl': 10550, 'lattestnew': 10551, 'nutansaurashtra': 10552, 'todaysnew': 10553, 'ગજરતસમચર': 10554, 'જ': 10555, 'જતશ': 10556, 'ત': 10557, 'તજસમચર': 10558, 'તમમ': 10559, 'ફટ': 10560, 'બજ': 10561, 'રહશ': 10562, 'constipatiom': 10563, 'insolubl': 10564, 'lax': 10565, 'sorbitol': 10566, 'biodetox': 10567, 'aucoin': 10568, 'sourcefood': 10569, 'unilab': 10570, 'unpleas': 10571, 'ox': 10572, 'pangocciol': 10573, 'heartshap': 10574, 'subtract': 10575, 'darkchocol': 10576, 'herbaltea': 10577, 'rawveggi': 10578, 'cluster': 10579, 'ocha': 10580, 'delven': 10581, 'foodislif': 10582, 'industryexpert': 10583, 'syntheticmeat': 10584, 'trendsett': 10585, 'weforschen': 10586, 'monounsatur': 10587, 'ailsaforshaw': 10588, 'halloween': 10589, 'vitaminshttpstcoskgywohpk': 10590, 'admabourbonbiscuit': 10591, 'bourbon': 10592, 'dainikgomantk': 10593, 'पनरपसन': 10594, 'बनवललय': 10595, 'मधय': 10596, 'brandabl': 10597, 'cloudkitchen': 10598, 'dotcom': 10599, 'stayathom': 10600, 'cuteushakumari': 10601, 'fotokiran': 10602, 'thnovemb': 10603, 'jhal': 10604, 'matar': 10605, 'puri': 10606, 'cube': 10607, 'malai': 10608, 'milkymistindia': 10609, 'precut': 10610, 'wealthi': 10611, 'overload': 10612, 'thoughtconflict': 10613, 'aaharonlin': 10614, 'queri': 10615, 'yogir': 10616, '𝘼𝙖𝙝𝙖𝙧': 10617, '𝙊𝙣𝙡𝙞𝙣𝙚': 10618, '𝙎𝙝𝙖𝙧𝙞𝙣𝙜𝙨': 10619, '𝙥𝙧𝙤𝙜𝙧𝙖𝙢': 10620, 'lsm': 10621, 'thetimetostartisnow': 10622, 'tomatobath': 10623, 'ಇಲಲದ': 10624, 'ಟಮಯಟ': 10625, 'ದಢರ': 10626, 'ನಡ': 10627, 'ಬತ': 10628, 'ಮಡದ': 10629, 'evewin': 10630, 'lakra': 10631, 'crunchmax': 10632, 'foodissu': 10633, 'fssaiindia': 10634, 'moong': 10635, 'nagpurhaldiram': 10636, 'namkeen': 10637, 'qualitycheck': 10638, 'subramanian_ma': 10639, 'tasteoftradit': 10640, 'departmentofhealth': 10641, 'goldcoast': 10642, 'ipswich': 10643, 'kiosk': 10644, 'rockhampton': 10645, 'springbrook': 10646, 'withcott': 10647, 'ahealthfood': 10648, 'healthfoodag': 10649, 'healthfoodaisl': 10650, 'healthfoodi': 10651, 'healthfoodstor': 10652, 'buffet': 10653, 'fooddisplay': 10654, 'overs': 10655, 'tendenc': 10656, 'micro': 10657, 'aedt': 10658, 'bhandari': 10659, 'bhesh': 10660, 'bioprint': 10661, 'chair': 10662, 'gordongwallac': 10663, 'icathalo': 10664, 'payal_au': 10665, 'chinaexpos': 10666, 'chinafood': 10667, 'chinatown': 10668, 'shockin': 10669, 'wuhanlableak': 10670, 'birth': 10671, 'forhealthntruth': 10672, 'myplat': 10673, 'chunmun': 10674, 'nitinpanch': 10675, 'prateekfrequ': 10676, 'crouton': 10677, 'wing': 10678, 'aromat': 10679, 'dhal': 10680, 'easytocook': 10681, 'supperclub': 10682, 'thingstohavewithric': 10683, 'boomgev': 10684, 'farnersmarket': 10685, 'huebner': 10686, 'oak': 10687, 'hashimotosdiseas': 10688, 'hashimotosthyroid': 10689, 'meghanor': 10690, 'khalid': 10691, 'potassiuum': 10692, 'plumcak': 10693, 'chicori': 10694, 'hluggah': 10695, 'jacket': 10696, 'nofilt': 10697, 'austrian': 10698, 'groundnut': 10699, 'kuli': 10700, 'northern': 10701, 'speck': 10702, 'rome': 10703, 'allulos': 10704, 'mouthfeel': 10705, 'tortellini': 10706, 'octopu': 10707, 'amatriciana': 10708, 'aditimalhotra': 10709, 'anujkrathour': 10710, 'gmkreddypspk': 10711, 'soniyaaajain': 10712, 'vaishalimaisur': 10713, 'holler': 10714, 'streamer': 10715, 'theflexiblewoll': 10716, 'discoveryvalid': 10717, 'peptid': 10718, 'proteom': 10719, 'vitro': 10720, 'internapoli': 10721, 'cocacola_gb': 10722, 'heartwarm': 10723, 'unlearn': 10724, 'avax': 10725, 'btsareamaz': 10726, 'lovestori': 10727, 'mufc': 10728, 'sunghoon': 10729, 'thankyouol': 10730, '𝙂𝙧𝙚𝙚𝙣': 10731, '𝙏𝙝𝙞𝙘𝙠': 10732, '𝙖𝙡𝙢𝙤𝙣𝙙': 10733, '𝙖𝙣𝙙': 10734, '𝙗𝙧𝙤𝙘𝙘𝙤𝙡𝙞': 10735, '𝙘𝙧𝙚𝙖𝙢': 10736, '𝙘𝙧𝙚𝙖𝙢𝙮': 10737, '𝙣𝙤': 10738, '𝙨𝙤𝙪𝙥': 10739, 'drinkkoia': 10740, 'braininjuri': 10741, 'braininjuryawar': 10742, 'tbi': 10743, 'futuremarketin': 10744, 'growplantbas': 10745, 'investor': 10746, 'worldallergi': 10747, 'shortterm': 10748, 'bhavikarajaswan': 10749, 'coolest_dipak': 10750, 'jayshreemalhot': 10751, 'luvyajoshi': 10752, 'shineysimar': 10753, 'singerusha': 10754, 'sakuraegypt': 10755, 'lkefir': 10756, 'bbq': 10757, 'bbqueenshamita': 10758, 'booktast': 10759, 'cometogeth': 10760, 'differentw': 10761, 'foodw': 10762, 'friendbut': 10763, 'friendswhat': 10764, 'react': 10765, 'yourchoic': 10766, 'berlin': 10767, 'britishcolombia': 10768, 'globalgo': 10769, 'goblu': 10770, 'waaw': 10771, '𝐀𝐰𝐚𝐫𝐞𝐧𝐞𝐬𝐬': 10772, '𝐑𝐞𝐬𝐢𝐬𝐭𝐚𝐧𝐜𝐞': 10773, '𝐒𝐩𝐫𝐞𝐚𝐝': 10774, '𝐒𝐭𝐨𝐩': 10775, 'dietaryroutin': 10776, 'piperin': 10777, 'correl': 10778, 'lifespan': 10779, 'tobasco': 10780, 'cseindia': 10781, 'foodlabelssavel': 10782, 'iabhimanyus': 10783, 'ji': 10784, 'mansukhmandviya': 10785, 'mla': 10786, 'mlaknsonkar': 10787, 'pipal_in': 10788, 'pvchr': 10789, 'saladfri': 10790, 'segreg': 10791, 'mickeymehta': 10792, 'bashir_gbmc': 10793, 'drajhaddad': 10794, 'gbmc': 10795, 'leenabuhijleh': 10796, 'foodforsoul': 10797, 'gharkakhana': 10798, 'kassa': 10799, 'kobi': 10800, 'phula': 10801, 'deepanshu': 10802, 'harsh_': 10803, 'subhbjp': 10804, 'abhay_yadav_': 10805, 'rinku_': 10806, 'bane': 10807, 'businessdigitaltransform': 10808, 'phosphat': 10809, 'vinodsapra': 10810, 'scorpioseason': 10811, 'chilledsup': 10812, 'guptaswati': 10813, 'juhi_jasw': 10814, 'priyaavni': 10815, 'plantbaseddiet': 10816, 'queensni': 10817, 'breez': 10818, 'mystic': 10819, 'hri': 10820, 'jay_parmar': 10821, 'kajal_pandit_': 10822, 'smiley_bharati': 10823, 'carpaccio': 10824, 'kataifi': 10825, 'anam_confid': 10826, 'jamaullah': 10827, 'krrish__rajput': 10828, 'pankajsingh': 10829, 'juve': 10830, 'lazio': 10831, 'laziojuv': 10832, 'tangerin': 10833, 'syeddmak': 10834, 'lettucewrap': 10835, 'carnivorelif': 10836, 'carnivorelifestyl': 10837, 'streetfair': 10838, 'cheboluvasantha': 10839, 'imarun': 10840, 'manikumar': 10841, 'subramanyamjk': 10842, 'stir': 10843, '__thatsjustme_': 10844, 'imluuckyyyy': 10845, 'mrs_sinhal': 10846, 'digitalhealth': 10847, 'medsm': 10848, 'woundcar': 10849, 'woundheal': 10850, 'cancerprev': 10851, 'cancerprevent': 10852, 'hearth': 10853, 'prostat': 10854, 'testicular': 10855, 'diptija': 10856, 'imchandana': 10857, 'poolif': 10858, 'shail': 10859, 'dayton': 10860, 'ohio': 10861, 'reimagin': 10862, 'brie': 10863, 'friendsgiv': 10864, 'redstoneol': 10865, 'shopsmal': 10866, 'vj_mukilarasan': 10867, 'club': 10868, 'almanac': 10869, 'bundl': 10870, 'coldwint': 10871, 'kyle': 10872, 'kylerittenhous': 10873, 'rittenhous': 10874, 'travisscott': 10875, 'youngdolph': 10876, 'browni': 10877, 'enthusiasm': 10878, 'itjoyoung': 10879, 'shareamealsharead': 10880, 'savingsplan': 10881, 'bonu': 10882, 'donationreiki': 10883, 'khushboo_khetan': 10884, 'vishal_vadoliya': 10885, 'butteri': 10886, 'novabutt': 10887, 'dhirajk': 10888, 'kartikm': 10889, 'mukeshanwala': 10890, 'mukeshj': 10891, 'mushtaq': 10892, 'sanjaybhadour': 10893, 'subha': 10894, 'artific': 10895, 'fieri': 10896, 'gimmick': 10897, 'homiest': 10898, 'kadaknath': 10899, 'saoji': 10900, 'tribal': 10901, '_ankit': 10902, '_priya_g': 10903, 'nameispmg': 10904, 'crust': 10905, 'thunderbay': 10906, 'coolkishor': 10907, 'godbl': 10908, 'godsowntalk': 10909, 'gurgaon_rang': 10910, 'danish': 10911, 'roastm': 10912, 'cookingoil': 10913, 'healthyoil': 10914, 'tirupati': 10915, 'tirupatiedibleoil': 10916, 'factoftheday': 10917, 'pranayam': 10918, 'ankurku': 10919, 'bhaskar': 10920, 'bismeetsingh': 10921, 'her': 10922, 'thedataanalys': 10923, 'umeshku': 10924, 'priyank': 10925, 'ruchikajain': 10926, 'sonik': 10927, 'sweetynsalt': 10928, 'chidambar': 10929, 'gsrana': 10930, 'kalpeshrana': 10931, 'khalidkvg': 10932, 'kumarshashi': 10933, 'marellamurthi': 10934, 'pareek': 10935, 'prashpatel_': 10936, 'rubyaga': 10937, 'healthyliciousk': 10938, 'pm_': 10939, 'prabhav': 10940, 'shruti_sup': 10941, 'dmdent': 10942, 'evsthetractor': 10943, 'garethwynjon': 10944, 'gate': 10945, 'gmoschem': 10946, 'guis': 10947, 'kindli': 10948, 'megalomaniac': 10949, 'philanthropist': 10950, 'sun_itssd': 10951, 'cjchiranjeevi': 10952, 'cutitweeti': 10953, 'panakj': 10954, 'pranay': 10955, 'divyarajsinh': 10956, 'gangarepraveen': 10957, 'yoursharri': 10958, 'contai': 10959, 'adityawakchaur': 10960, 'atak': 10961, 'heerala': 10962, 'imkraichand': 10963, 'ishaagg': 10964, 'kuldeep': 10965, 'meena': 10966, 'mukesh_chandan': 10967, 'poonampanwar': 10968, 'ramswaroopsaran': 10969, 'sureshhsaran': 10970, 'bharatmaheshw': 10971, 'rajivtech': 10972, 'sam__leez': 10973, 'star_ros': 10974, 'suppress': 10975, 'kalyani': 10976, 'urnli': 10977, 'vibgyor': 10978, 'austria': 10979, 'imumeshji': 10980, 'shreyanshi_': 10981, 'simadevi': 10982, 'voicesofyouth': 10983, 'worldchildrensday': 10984, 'ashkumar_singh': 10985, 'csohini': 10986, 'poonamsherni': 10987, 'kavita_': 10988, 'sanghviruchika': 10989, 'sucharita': 10990, 'sangeetha': 10991, 'abhishekiplfeak': 10992, 'chhbi': 10993, 'himanshrx': 10994, 'miralbhavsar': 10995, 'munmund': 10996, 'nitish_nix': 10997, 'prashpat': 10998, 'eatrighteverybit': 10999, 'kokum': 11000, 'sahiposhandeshroshan': 11001, 'sundarsastatikau': 11002, 'sundri': 11003, 'tangi': 11004, 'traditionaldiet': 11005, 'wd': 11006, 'ayurvedafood': 11007, 'ayurvedya': 11008, 'foodguid': 11009, 'prepard': 11010, 'strata': 11011, 'suppliment': 11012, 'sustin': 11013, 'detoxifi': 11014, 'recharg': 11015, 'doitwithtea': 11016, 'afterward': 11017, 'drumstick': 11018, 'duckleg': 11019, 'blvd': 11020, 'flowerchild': 11021, 'lasvega': 11022, 'nv': 11023, 'rampart': 11024, 'summerlin': 11025, 'vegasonair': 11026, 'visitvegasplac': 11027, 'cn': 11028, 'drgilada': 11029, 'elizabeth': 11030, 'hygetahun': 11031, 'liannegonsalv': 11032, 'omag': 11033, 'tayler': 11034, 'breastfe': 11035, 'breastmilk': 11036, 'postpartum': 11037, 'biden': 11038, 'businesstechnolog': 11039, 'controversi': 11040, 'outrag': 11041, 'cramp': 11042, 'bliss': 11043, 'circu': 11044, 'excoloni': 11045, 'excolonis': 11046, 'seamlessli': 11047, 'classicalmus': 11048, 'etern': 11049, 'lookforgood': 11050, 'timeless': 11051, 'beyondtheeat': 11052, 'notsureaboutthat': 11053, 'rawdick': 11054, 'sausageman': 11055, 'sausageparti': 11056, 'suspisci': 11057, 'wonderlab': 11058, 'wtfpost': 11059, 'doctors_kitchen': 11060, 'rdb': 11061, 'ecodiddley': 11062, 'edutwitt': 11063, 'epic': 11064, 'galor': 11065, 'gardeningtwitt': 11066, 'horticultur': 11067, 'loud': 11068, 'mindcellsoul': 11069, 'chiropract': 11070, 'adel': 11071, 'databas': 11072, 'hundr': 11073, 'unseen': 11074, 'phc': 11075, 'anonym': 11076, 'defect': 11077, 'filibust': 11078, 'leach': 11079, 'senat': 11080, 'unclear': 11081, 'iu': 11082, 'potatoesperfect': 11083, 'pillowdo': 11084, 'retent': 11085, 'elsiemt': 11086, 'greenrootsej': 11087, 'la_colaborativa': 11088, 'leadboston': 11089, 'lynncityhal': 11090, 'massgenbrigham': 11091, 'mghequiti': 11092, 'salemhospitalma': 11093, 'the_bmc': 11094, 'wywboston': 11095, 'healthfocus': 11096, 'whitepap': 11097, 'betterl': 11098, 'orderrevivesuperfood': 11099, 'revivesuperfood': 11100, 'rsfaniabasak': 11101, 'yyc': 11102, 'yycblogg': 11103, 'yycinfluenc': 11104, 'ingest': 11105, 'migrat': 11106, 'tube': 11107, 'digitalart': 11108, 'digitalartist': 11109, 'iiart': 11110, 'illustrationart': 11111, 'plantyou': 11112, 'sabinafenn': 11113, 'occasion': 11114, 'apena': 11115, 'caso': 11116, 'dizer': 11117, 'entenda': 11118, 'funcion': 11119, 'preciso': 11120, 'relato': 11121, 'é': 11122, 'cautiou': 11123, 'deceiv': 11124, 'healthequ': 11125, 'colombia': 11126, 'diana': 11127, 'esguerra': 11128, 'gil': 11129, 'niyireth': 11130, 'sore': 11131, 'ptsd': 11132, 'tier': 11133, 'tier_one_health': 11134, 'baconwrap': 11135, 'eclips': 11136, 'groundpork': 11137, 'yum²': 11138, 'famous': 11139, 'jicama': 11140, 'knowyourbit': 11141, 'mexican': 11142, '_feedspot': 11143, 'yay': 11144, 'healthyfoodi': 11145, 'goodmorningtwitterworld': 11146, 'rwanda': 11147, 'wfp_africa': 11148, 'wfp_media': 11149, 'kapoor': 11150, 'sanjeev': 11151, 'gw': 11152, 'humen': 11153, 'iamshaniera': 11154, 'legalaid': 11155, 'nutiriton': 11156, 'wegoty': 11157, 'coma': 11158, 'foodcoma': 11159, 'heathceram': 11160, 'mexicanfood': 11161, 'tacoinduc': 11162, 'wallow': 11163, 'bend': 11164, 'farmersbil': 11165, 'farmersprotest': 11166, 'politick': 11167, 'victoryforfarm': 11168, 'guesswho': 11169, 'tastythursday': 11170, 'emmastepup': 11171, 'gmmh_nh': 11172, 'helmeta': 11173, 'jess': 11174, 'newland': 11175, 'vmsmathew': 11176, 'hernehil': 11177, 'reel': 11178, 'blackfridaypreview': 11179, 'blackfridayteas': 11180, 'carbonneutr': 11181, 'consciousshop': 11182, 'onedayonli': 11183, 'todayonli': 11184, 'bestofvegan': 11185, 'friyay': 11186, 'upma': 11187, 'command': 11188, 'mid_day': 11189, 'revolutionis': 11190, 'fibrerich': 11191, 'minimis': 11192, 'successmagazin': 11193, 'inact': 11194, 'uricacid': 11195, 'foodchart': 11196, 'athleticperform': 11197, 'genetictest': 11198, 'personalizedhealthcar': 11199, 'conerlyrita': 11200, 'hitnhomeboy': 11201, 'hothuiuc': 11202, 'fifti': 11203, 'sixti': 11204, 'emma': 11205, 'xfactoritalia': 11206, 'manuelagnelli': 11207, 'mika': 11208, 'remeb': 11209, 'curesremedi': 11210, 'nutritwitt': 11211, 'worthless': 11212, 'yahooent': 11213, 'erio': 11214, 'flag': 11215, 'doi': 11216, 'mishi': 11217, 'mishidoi': 11218, 'mishti': 11219, 'healthydinn': 11220, 'cognitivehealth': 11221, 'gum': 11222, 'dietworld': 11223, 'english': 11224, 'playlist': 11225, 'greenpassobligatorio': 11226, 'lockdow': 11227, 'novavax': 11228, 'novax': 11229, 'lupin': 11230, 'workfromhom': 11231, 'webcast': 11232, 'flank': 11233, 'davidsmith': 11234, 'dcfegan': 11235, 'elenaforev': 11236, 'emiliazo': 11237, 'lisawilliam': 11238, 'pinksaltwal': 11239, 'gfvn': 11240, 'muchneed': 11241, 'exceedingli': 11242, 'soylent': 11243, 'healthstyl': 11244, 'draseemmalhotra': 11245, 'metabolichealth': 11246, 'rapidli': 11247, 'tobacco': 11248, 'rwot': 11249, 'blatant': 11250, 'classact': 11251, 'disregard': 11252, 'iowa': 11253, 'lawsuit': 11254, 'meatpack': 11255, 'slaughterhous': 11256, 'tysonfood': 11257, 'infograph': 11258, 'ελστατ': 11259, 'sciensano': 11260, 'systemat': 11261, 'stretch': 11262, 'smoothen': 11263, 'dietwithcar': 11264, 'vindic': 11265, 'bromhidrosi': 11266, 'b₂': 11267, 'odour': 11268, 'cookerybook': 11269, 'indianinspir': 11270, 'katona': 11271, 'mowgli': 11272, 'nisha': 11273, 'nishakatona': 11274, 'nourishbook': 11275, 'recipebook': 11276, 'antioxidants_oa': 11277, 'calaf': 11278, 'cgviguera': 11279, 'eugenia': 11280, 'lolobelch': 11281, 'maeugeniarom': 11282, 'foodcombo': 11283, 'goodlet': 11284, 'adjudg': 11285, 'chloemayn': 11286, 'edstrawbio': 11287, 'poshbee_eu': 11288, 'sphaerularia': 11289, 'supervis': 11290, 'unirdg_research': 11291, 'unirdg_urop': 11292, 'urop': 11293, 'cozi': 11294, 'slowcook': 11295, 'heathtip': 11296, 'hectic': 11297, 'aubergin': 11298, 'courgett': 11299, 'herbsandspic': 11300, 'thiamin': 11301, '_': 11302, 'evey': 11303, 'conquer': 11304, 'mono': 11305, 'debloat': 11306, 'जवणसबत': 11307, 'टळव': 11308, 'avula': 11309, 'icmrnin': 11310, 'laxmaiah': 11311, 'nin': 11312, 'ఆరగయ': 11313, 'పషకల': 11314, 'సకషమ': 11315, 'foodbeauti': 11316, 'icarindia': 11317, 'icmrdelhi': 11318, 'nddb': 11319, 'bizhour': 11320, 'businessgrowth': 11321, 'premis': 11322, 'protein_packag': 11323, 'westmidland': 11324, 'enthusiast': 11325, 'healthypl': 11326, 'houseofdiet': 11327, 'kesihatan': 11328, 'sukusukuseparuh': 11329, 'lasagna': 11330, 'expertbas': 11331, 'coli': 11332, 'mistaken': 11333, 'appg_diabet': 11334, 'britsoclm': 11335, 'dhscgovuk': 11336, 'gping_rcgp': 11337, 'healthresultsuk': 11338, 'obesityappg': 11339, 'phcukorg': 11340, 'rcgp': 11341, 'meirel': 11342, 'patricia': 11343, 'abernethybutt': 11344, 'michaelroseny': 11345, 'nigella_lawson': 11346, 'rhubarbrhubarb': 11347, 'aewdynamit': 11348, 'hawkey': 11349, 'matic': 11350, 'matrix': 11351, 'portland': 11352, 'rittenhousetri': 11353, 'rohithsharma': 11354, 'rollswrap': 11355, 'saifalikhan': 11356, 'seventeen': 11357, 'stockmarket': 11358, 'cantonesestyl': 11359, 'guavabenefit': 11360, 'guavafruit': 11361, 'guavajuic': 11362, 'healthledgerin': 11363, 'lungcancerawar': 11364, 'pranayama': 11365, 'gheebenefit': 11366, 'anytim': 11367, 'throwbackthrusday': 11368, 'toasti': 11369, 'colonoscopi': 11370, 'defend': 11371, 'etnowl': 11372, 'etnowplu': 11373, 'chefmantra': 11374, 'dehofoo': 11375, 'dehofookiyakya': 11376, 'foodgasm': 11377, 'foodmem': 11378, 'homecom': 11379, 'jeetna': 11380, 'joh': 11381, 'nashik': 11382, 'tastyfood': 11383, 'browserthanksgiv': 11384, 'asyousowsoyoureap': 11385, 'conceiv': 11386, 'joyofmotherhood': 11387, 'nutritionismedicin': 11388, 'powerofgoodnutrit': 11389, 'pregnancynutrit': 11390, 'romain': 11391, 'commoncold': 11392, 'dope': 11393, 'mucu': 11394, 'fallfood': 11395, 'foodfuel': 11396, 'szn': 11397, 'ip_urp': 11398, 'islandpress': 11399, 'takeoverkresg': 11400, 'appar': 11401, 'rx': 11402, 'fridaysforfutur': 11403, 'dcpcsb': 11404, 'deodor': 11405, 'friendshippc': 11406, 'southeast': 11407, 'tobewellf': 11408, 'toothbrush': 11409, 'toothpast': 11410, 'ontariobrain': 11411, 'publictalk': 11412, 'simplenoteasi': 11413, 'ginseng': 11414, 'gbnew': 11415, 'eupol': 11416, 'ukpol': 11417, 'stayhom': 11418, 'wellwisdomwhey': 11419, 'briton': 11420, 'meateat': 11421, 'megan': 11422, 'nowayhom': 11423, 'organicindia': 11424, 'standupforindia': 11425, 'lowincom': 11426, 'royalti': 11427, 'waiv': 11428, 'camnewton': 11429, 'dailybreadpodcast': 11430, 'healthyblackfood': 11431, 'tombradi': 11432, 'vonmil': 11433, 'weirdthought': 11434, 'gastronomi': 11435, 'hungari': 11436, 'hungarian': 11437, 'codliv': 11438, 'folloback': 11439, 'vitamina': 11440, 'miseri': 11441, 'hare': 11442, 'msw': 11443, 'nutritionandbeyond': 11444, 'oncologydietitian': 11445, 'rodney': 11446, 'urbanplan': 11447, 'greentech': 11448, 'freefrom': 11449, 'glutenfreeoat': 11450, 'rai': 11451, 'firstgen': 11452, 'grad': 11453, 'healthwealthmindset': 11454, 'latinx': 11455, 'lgbtqia': 11456, 'fadeclerck': 11457, 'fsec': 11458, 'balancedm': 11459, 'fooduc': 11460, 'nutritionfactsmatt': 11461, 'nutritionissci': 11462, 'teamcanqc': 11463, 'criminalcarb': 11464, 'energyimprov': 11465, 'personalcar': 11466, 'soyfre': 11467, 'slimmingworld': 11468, 'acidreflux': 11469, 'cbdbenefit': 11470, 'cbddaili': 11471, 'cbdeu': 11472, 'cbdforhealth': 11473, 'cbdinform': 11474, 'cbdmagazin': 11475, 'cbdnew': 11476, 'cbduk': 11477, 'theextract': 11478, 'costaadej': 11479, 'dreamday': 11480, 'dreamsaf': 11481, 'grantacand': 11482, 'poolday': 11483, 'tenerif': 11484, 'leanmuscl': 11485, 'testo': 11486, 'testosteron': 11487, 'digitalag': 11488, 'kaust_new': 11489, 'kaust_newsar': 11490, 'ksa': 11491, 'savethed': 11492, 'unvers': 11493, 'watersecur': 11494, 'wep': 11495, 'chocolateflapjack': 11496, 'demerara': 11497, 'flapjack': 11498, 'goldensyrup': 11499, 'grub': 11500, 'milkchocol': 11501, 'traybak': 11502, 'foto': 11503, 'lyfe': 11504, 'rabu': 11505, 'scluptur': 11506, 'steampunk': 11507, 'delegitimis': 11508, 'dilut': 11509, 'llopezgonzalez': 11510, 'btbycb': 11511, 'primaryschool': 11512, 'towerhamlet': 11513, 'acneproneskin': 11514, 'healingherb': 11515, 'arsen': 11516, 'hearthston': 11517, 'styletweet': 11518, 'domain_nam': 11519, 'domaininfo': 11520, 'vegancommun': 11521, 'veganmem': 11522, 'veganori': 11523, 'bedeniankri': 11524, 'mason': 11525, 'nestl': 11526, 'thedailycuppa': 11527, 'tightli': 11528, 'walkabout': 11529, 'growthbyjuli': 11530, 'copiou': 11531, 'piyushpuri': 11532, 'linkag': 11533, 'metabolom': 11534, 'microbiomeeu': 11535, 'mmm': 11536, 'harrybreen': 11537, 'antacid': 11538, 'feedingfatti': 11539, 'protocolsy': 11540, 'simplicityofwel': 11541, 'conjunct': 11542, 'karachi': 11543, 'naf': 11544, 'marva': 11545, 'riley': 11546, 'rn': 11547, 'urinari': 11548, 'uti': 11549, 'cuori': 11550, 'insensit': 11551, 'getjayeshjain': 11552, 'jinesh': 11553, 'punitbagla': 11554, 'cbdproduct': 11555, 'hightim': 11556, 'maryjan': 11557, 'sativa': 11558, 'stoner': 11559, 'strain': 11560, 'terpen': 11561, 'valencen': 11562, 'nationaldayc': 11563, 'nationalfastfoodday': 11564, '𝘯𝘰𝘵': 11565, '𝘿𝙖𝙮': 11566, '𝙁𝙖𝙨𝙩': 11567, '𝙁𝙤𝙤𝙙': 11568, '𝙉𝙖𝙩𝙞𝙤𝙣𝙖𝙡': 11569, 'piadina': 11570, 'romagnola': 11571, 'eatenerg': 11572, 'freshiiinnisfil': 11573, 'hrh': 11574, 'innisfil': 11575, 'innisfil_fir': 11576, 'innisfilecdev': 11577, 'innisfilidealab': 11578, 'innisfiltaxi': 11579, 'simco': 11580, 'warmup': 11581, 'bolton': 11582, 'boltonrecsport': 11583, 'caledon': 11584, 'ccswork': 11585, 'fineslincoln': 11586, 'freshiibolton': 11587, 'calciumrichfood': 11588, 'miilk': 11589, 'chaudharysajma': 11590, 'foodie_mahi_': 11591, 'mahmoodhasan': 11592, 'endocrinedisrupt': 11593, 'hormonedisrupt': 11594, 'destruct': 11595, 'foodwatermedecineenergyoil': 11596, 'lebanon': 11597, 'newworldord': 11598, 'povertyunemploymenthealth': 11599, 'sanction': 11600, 'angiekitchen': 11601, 'wholevegan': 11602, 'ʜᴏᴍᴇᴄᴏᴏᴋɪɴɢ': 11603, 'ᴀɴɢɪᴇ': 11604, '韓式拌飯': 11605, 'pooh': 11606, 'winni': 11607, 'hotpot': 11608, 'taiwanstyl': 11609, '天冷就是要吃鍋': 11610, 'taiwanfood': 11611, 'ᴠᴇɢᴀɴ': 11612, '𝗢𝘆𝘀𝘁𝗲𝗿': 11613, '𝗩𝗲𝗿𝗺𝗶𝗰𝗲𝗹𝗹𝗶': 11614, '韓式炒泡麵': 11615, 'coolnoodl': 11616, '日式蕎麥冷麵': 11617, 'outdat': 11618, 'taiwan': 11619, '疫情在家學會了各國料理也算是因禍得福': 11620, 'vlogsquad': 11621, '𝗳𝗼𝗿𝗺𝘂𝗹𝗮': 11622, '𝗶𝗻': 11623, '𝗺𝗲𝗱𝗶𝗰𝗶𝗻𝗲': 11624, '𝘀𝗶': 11625, '𝘁𝗮𝗻𝗴': 11626, '𝘁𝗼𝗻𝗶𝗰': 11627, '𝘁𝗿𝗮𝗱𝗶𝘁𝗶𝗼𝗻𝗮𝗹': 11628, '𝘂𝘀𝗲𝗱': 11629, '𝘄𝘂': 11630, '這灰紫真難調如果一個手抖就會變灰色': 11631, '𝗟𝗶𝗺𝗲': 11632, '𝗥𝗶𝘀𝗼𝘁𝘁𝗼': 11633, 'salami': 11634, '第一次做日式蕎麥拉麵加上蝶豆花好吃': 11635, '𝗺𝗶𝘀𝗼': 11636, '𝗿𝗮𝗺𝗲𝗻': 11637, '𝘀𝗼𝘆𝗺𝗶𝗹𝗸': 11638, 'kandm': 11639, 'lash': 11640, '𝗮𝗻𝗱': 11641, '𝗰𝗵𝗶𝗽𝗼𝘁𝗹𝗲': 11642, '𝗳𝗿𝗶𝗲𝗱': 11643, '𝗸𝗶𝗺𝗰𝗵𝗶': 11644, '𝗼𝗻𝗶𝗼𝗻': 11645, '𝘀𝗮l𝘀𝗮': 11646, '𝘀𝗮𝘂𝗰𝗲': 11647, '𝘁𝗼𝗳𝘂': 11648, '𝘄𝗶𝘁𝗵': 11649, '𝗰𝗿𝗮𝗯': 11650, '𝗺𝗲𝗮𝘁': 11651, '𝘀𝘁𝗲𝘄𝗲𝗱': 11652, 'ricecak': 11653, '蘿蔔糕': 11654, 'amici': 11655, 'pastorp': 11656, 'tvtime': 11657, 'ho': 11658, 'isabella': 11659, 'uominiedonn': 11660, '𝗯𝘂𝘁𝘁𝗲𝗿': 11661, '𝗽𝘂𝗺𝗽𝗸𝗶𝗻': 11662, '𝘀𝗼𝘂𝗽': 11663, 'smartphon': 11664, 'equival': 11665, 'foodandrink': 11666, 'vegetarianfood': 11667, 'bahriadastark': 11668, 'dastarkhwan': 11669, 'tirelessli': 11670, 'neck': 11671, 'naturalcompound': 11672, 'neurosciencenew': 11673, 'protectagainstdiseas': 11674, 'friction': 11675, 'bginseng': 11676, 'goodfoodforal': 11677, 'hey_its_amisha': 11678, 'kawai_jyoto': 11679, 'pista': 11680, 'sajidsilawat': 11681, 'soniakaurbindr': 11682, 'curryleav': 11683, 'chamberofsecret': 11684, 'harrypott': 11685, 'harrypotterthanniversari': 11686, 'alot': 11687, 'kikaboni': 11688, 'siberian': 11689, 'stepintomygreenworld': 11690, 'ahmedabad': 11691, 'bjpharyana': 11692, 'muncipalcorpor': 11693, 'nnews_network': 11694, 'healthierdiet': 11695, 'innopho': 11696, 'specialti': 11697, 'badhaaido': 11698, 'bhel': 11699, 'chen': 11700, 'dragula': 11701, 'endsar': 11702, 'hardik': 11703, 'jacquelinefernandez': 11704, 'lekkimassacr': 11705, 'pandya': 11706, 'sidharthmalhotra': 11707, 'helathi': 11708, 'feta': 11709, 'greenpepp': 11710, 'redonion': 11711, 'joey': 11712, 'hiit': 11713, 'celiacdiseas': 11714, 'lunchrecip': 11715, 'feroglobin': 11716, 'fizz': 11717, 'gentl': 11718, 'benni': 11719, 'valentina': 11720, 'yyceat': 11721, 'sw': 11722, 'veggiessound': 11723, 'yumm': 11724, 'columbu': 11725, 'coolbean': 11726, 'coolbeanproduct': 11727, 'yoooo': 11728, 'bonesday': 11729, 'dehofoooffici': 11730, 'spidermannowayhom': 11731, 'aroma': 11732, 'drlogi': 11733, 'amla': 11734, 'bittergourd': 11735, 'worlddiabetesday': 11736, 'worlddiabetesmonth': 11737, 'fullest': 11738, 'gloryforworld': 11739, 'livestream': 11740, 'circular': 11741, 'climatesolut': 11742, 'groundbeef': 11743, 'shear': 11744, 'strip': 11745, '_sweet_parul_': 11746, 'astrod': 11747, 'bound': 11748, 'gmg': 11749, 'hisamuddink': 11750, 'kauserseema': 11751, 'mdrafikhazi': 11752, 'religion': 11753, 'sa': 11754, 'snanda': 11755, 'sudarsh': 11756, 'uqxizyywzwjl': 11757, 'vikasmohanproac': 11758, 'cakemonst': 11759, 'fluffi': 11760, 'vivian_tv': 11761, 'acompáñano': 11762, 'alimentacionysalud': 11763, 'alimentación': 11764, 'dembska': 11765, 'dobl': 11766, 'dra': 11767, 'incmnsz': 11768, 'katarzyna': 11769, 'seminario': 11770, 'tecsalud': 11771, 'unam': 11772, 'lili': 11773, 'diadepupusa': 11774, 'dinero': 11775, 'pupusa': 11776, 'stevemaraboli': 11777, 'greenfood': 11778, 'muslim': 11779, 'nom': 11780, 'ahi': 11781, 'slaw': 11782, 'tjoesoffici': 11783, 'fee': 11784, 'irlandadelnord': 11785, 'irlandadelnorditalia': 11786, 'irlandaitalia': 11787, 'costcut': 11788, 'acknowledg': 11789, 'bent': 11790, 'motherearth': 11791, 'foodgiveaway': 11792, 'mattersofmen': 11793, 'pst': 11794, 'sacramento': 11795, 'sherest': 11796, 'whatsyourstori': 11797, 'lifethreaten': 11798, 'prompt': 11799, 'phytochem': 11800, 'sorrelrosel': 11801, 'temper': 11802, 'urbanagricultur': 11803, 'colosseum': 11804, 'isid': 11805, 'tempio': 11806, 'restur': 11807, 'quitsmok': 11808, 'stopsmok': 11809, 'feedm': 11810, 'dogstyl': 11811, 'eatarainbow': 11812, 'todayshow': 11813, 'christmasgift': 11814, 'hamper': 11815, 'teff': 11816, 'tobiateff': 11817, 'yeeeeesssssss': 11818, 'blank': 11819, 'greenpea': 11820, 'indianrecip': 11821, 'rs': 11822, 'lashow': 11823, 'imsys': 11824, 'alotto': 11825, 'eatplant': 11826, 'livehealth': 11827, 'morningglori': 11828, 'selfcareweek': 11829, 'nutritionsuzi': 11830, 'codfish': 11831, 'findu': 11832, 'calorierestrict': 11833, 'frailti': 11834, 'reinsur': 11835, 'bloodstream': 11836, 'nutritiousyeast': 11837, 'sunfloweroil': 11838, 'aviat': 11839, 'aviationdaili': 11840, 'aviationgeek': 11841, 'aviationindustri': 11842, 'aviationlov': 11843, 'aviationnew': 11844, 'foodonflight': 11845, 'healthministri': 11846, 'indianavi': 11847, 'inflight': 11848, 'knot': 11849, 'latestnew': 11850, 'latestupd': 11851, 'ministryofcivilavait': 11852, 'moca_goi': 11853, 'postcovidtravel': 11854, 'herehttpstcoutzvvggq': 11855, 'huel': 11856, 'guitar': 11857, 'broke': 11858, 'deport': 11859, 'holli': 11860, 'mythbustingmonday': 11861, '𝘼𝙡𝙡': 11862, '𝙖': 11863, '𝙖𝙧𝙚': 11864, '𝙘𝙤𝙣𝙩𝙧𝙞𝙗𝙪𝙩𝙚': 11865, '𝙙𝙖𝙮': 11866, '𝙛𝙤𝙧': 11867, '𝙜𝙤𝙤𝙙': 11868, '𝙝𝙚𝙖𝙡𝙩𝙝': 11869, '𝙟𝙪𝙞𝙘𝙚𝙨': 11870, '𝙨𝙢𝙤𝙤𝙩𝙝𝙞𝙚𝙨': 11871, '𝙩𝙤': 11872, '𝙮𝙤𝙪𝙧': 11873, 'goodmornign': 11874, 'eureport': 11875, 'europeancommiss': 11876, 'locustamigratoria': 11877, 'novelfood': 11878, 'tape': 11879, 'splash': 11880, 'wooden': 11881, 'banpfa': 11882, 'healthandsafeti': 11883, 'maam': 11884, 'malala': 11885, 'womenempower': 11886, 'dayyellow': 11887, 'ethereum': 11888, 'furri': 11889, 'happinessep': 11890, 'kanewilliamson': 11891, 'tejran': 11892, 'umarriaz': 11893, 'bond': 11894, 'impt': 11895, 'tulsivivah': 11896, 'vishnupriya': 11897, 'replay': 11898, 'conscienc': 11899, 'askdrranjeetbhu': 11900, 'ayurv': 11901, 'buttermilkतकर': 11902, 'milkपय': 11903, 'waterवर': 11904, 'retain': 11905, 'bam': 11906, 'bihi': 11907, 'quinc': 11908, 'tchoonth': 11909, 'twitterl': 11910, 'wurbal': 11911, 'mastic': 11912, 'nonrich': 11913, 'subtli': 11914, 'foodcook': 11915, 'fitnesslif': 11916, 'fitspir': 11917, 'hyleten': 11918, 'strongwomen': 11919, 'bodyawar': 11920, 'brittlebon': 11921, 'dailydevot': 11922, 'osteo': 11923, 'areck': 11924, 'artmarka': 11925, 'catheromano': 11926, 'elain': 11927, 'ian': 11928, 'jayrousedc': 11929, 'jtatkinson': 11930, 'lazycircl': 11931, 'lead_coalit': 11932, 'oscarbob': 11933, 'pcs_club': 11934, 'ausvsnz': 11935, 'chuda': 11936, 'dhan': 11937, 'greenish': 11938, 'katarnimalbhog': 11939, 'naya': 11940, 'nowthi': 11941, 'softsweet': 11942, 'gaga': 11943, 'ladygaga': 11944, 'chetempochefa': 11945, 'fazio': 11946, 'priceless': 11947, 'zucchiniwhat': 11948, 'amazonia': 11949, 'sushiswap': 11950, 'sushiup': 11951, 'akaeven': 11952, 'luigi': 11953, 'mattia': 11954, 'pescatora': 11955, 'stracciatella': 11956, 'urchin': 11957, 'bruschett': 11958, 'eatalyit': 11959, 'brazilgp': 11960, 'braziliangp': 11961, 'bari': 11962, 'tusiqueval': 11963, 'yogurtcreamcooki': 11964, 'sissi': 11965, 'bleu': 11966, 'lamour': 11967, 'cwf': 11968, 'elig': 11969, 'savin': 11970, 'selfmonitor': 11971, 'umnschulzediabetesinstitut': 11972, 'column': 11973, 'seawat': 11974, 'unrefin': 11975, 'childrensday': 11976, 'packetkeandarkyahai': 11977, 'pmoindia': 11978, 'pradesh': 11979, 'uttar': 11980, 'pigment': 11981, 'bloodsugarlevel': 11982, 'कय': 11983, 'कस': 11984, 'ठवयच': 11985, 'नमक': 11986, 'नयतरणत': 11987, 'मधमहच': 11988, 'लकषण': 11989, 'underwear': 11990, 'architectur': 11991, 'blogygold': 11992, 'band': 11993, 'chalaza': 11994, 'eggyolk': 11995, 'enclos': 11996, 'membran': 11997, 'spiral': 11998, 'chock': 11999, 'gpvalencia': 12000, 'valentino': 12001, 'valentinorossi': 12002, 'specialtip': 12003, 'annahar': 12004, 'annaharar': 12005, 'annaharhealth': 12006, 'الأرضي': 12007, 'التوتر': 12008, 'حدة': 12009, 'شوكي': 12010, 'لديك': 12011, 'يخفف': 12012, 'crsspak': 12013, 'imtiazgul': 12014, 'sameenadurrani': 12015, 'yougurt': 12016, 'greenchili': 12017, 'जबरदसत': 12018, 'मरच': 12019, 'हरव': 12020, 'ifnotnowwhen': 12021, 'publicawar': 12022, 'umar': 12023, 'wahab': 12024, 'wilsonspakistan': 12025, 'diabetesday': 12026, 'zuri': 12027, 'zuryforwomen': 12028, 'dang': 12029, 'guac': 12030, 'healthyskin': 12031, 'jalepeno': 12032, 'sideeffect': 12033, 'कनसरच': 12034, 'कलन': 12035, 'तळलल': 12036, 'धक': 12037, 'धकदयक': 12038, 'परमणत': 12039, 'groundturkey': 12040, 'turkeymeat': 12041, 'descubrecr': 12042, 'interfer': 12043, 'lovelif': 12044, 'diabeticactor': 12045, 'disabilityinclus': 12046, 'disabilityright': 12047, 'likea': 12048, 'questionbox': 12049, 'arisa': 12050, 'ballandoconlestel': 12051, 'rustica': 12052, 'saturdaynight': 12053, 'valeriafabrizi': 12054, 'shellfish': 12055, 'calamari': 12056, 'undecid': 12057, 'nigiri': 12058, 'graduat': 12059, 'milano': 12060, 'jufitnessloft': 12061, 'nutrtion': 12062, 'naario': 12063, 'sadgi': 12064, 'shoponshero': 12065, 'womensupportingwomen': 12066, 'firstcoastwel': 12067, 'glaze': 12068, 'korma': 12069, 'anubhavda': 12070, 'asimk': 12071, 'cleanfood': 12072, 'notjust': 12073, 'ohsofresh': 12074, 'otterfresh': 12075, 'redotterfarm': 12076, 'srishtimandaar': 12077, 'chickenbreast': 12078, 'cone': 12079, 'friedchicken': 12080, 'popcornjoyoung': 12081, 'sswexpo': 12082, 'justletmehavejuston': 12083, 'lifeatpurdu': 12084, 'purdueee': 12085, 'purdueindeng': 12086, 'kitcehn': 12087, 'pancetta': 12088, 'perceiv': 12089, 'cool': 12090, 'malaysia': 12091, 'aspireiq': 12092, 'immieat': 12093, 'kevin': 12094, 'kevinleem': 12095, 'sanguin': 12096, 'pkburian': 12097, 'vegetarian_dud': 12098, 'climb': 12099, 'stair': 12100, 'bitesizesdg': 12101, 'grader': 12102, 'greatgrandmoth': 12103, 'pronounc': 12104, 'teacherstrong': 12105, 'wendi': 12106, 'fuse': 12107, 'immunis': 12108, 'thirti': 12109, 'remembranceday': 12110, 'iheart': 12111, 'chemicalanalysi': 12112, 'diffus': 12113, 'tuntwin': 12114, 'tuntwinhtwin': 12115, 'fussi': 12116, 'flare': 12117, 'flareup': 12118, 'psoriat': 12119, 'arrayof': 12120, 'premrawat': 12121, 'prosperitydign': 12122, 'tprf': 12123, 'veganprotein': 12124, 'लगच': 12125, 'womenhealth': 12126, 'kanganaranuat': 12127, 'passingnetflix': 12128, 'prabha': 12129, 'qatar': 12130, 'radheshyam': 12131, 'smackdownl': 12132, 'staybless': 12133, 'tanni': 12134, 'usavmex': 12135, 'greennrggi': 12136, 'immunitysystem': 12137, 'yoghut': 12138, 'amanbaldia': 12139, 'gyansthan': 12140, 'rishabhshah': 12141, 'veda': 12142, 'groundlamb': 12143, 'lamburg': 12144, 'stirfri': 12145, 'angelsoflv': 12146, 'anthembcb': 12147, 'retreat': 12148, 'sandyscamman': 12149, 'sponsor': 12150, 'be': 12151, 'likewis': 12152, 'lifeboostfit': 12153, 'nbc': 12154, 'wel': 12155, 'foodiefriday': 12156, 'paprika': 12157, 'pinch': 12158, 'potatoday': 12159, 'smash': 12160, 'mealprepidea': 12161, 'cbc': 12162, 'cbcdoc': 12163, 'tysm': 12164, 'comedypodcast': 12165, 'dude': 12166, 'pixel': 12167, 'pornograph': 12168, 'testicl': 12169, 'shoppinglist': 12170, 'linwoodsfood': 12171, 'nacho': 12172, 'judgement': 12173, 'began': 12174, 'fiveingredi': 12175, 'capres': 12176, 'citylif': 12177, 'foshan': 12178, 'globetrott': 12179, 'guangdong': 12180, 'guangzhou': 12181, 'lifeisgood': 12182, 'nightfood': 12183, 'worldtravel': 12184, 'majest': 12185, 'contempl': 12186, 'nonindustri': 12187, 'filmdon': 12188, 'tttku': 12189, 'waterretent': 12190, 'swim': 12191, 'transcript': 12192, 'trek': 12193, 'environmentaldegrad': 12194, 'vector': 12195, 'waterqu': 12196, 'honeybe': 12197, 'pratic': 12198, 'propoer': 12199, 'ip': 12200, 'maiz': 12201, 'storyhttpstcofsplhdz': 12202, 'zerohung': 12203, 'jackieb': 12204, 'cigarett': 12205, 'wouldv': 12206, 'falahari': 12207, 'kuttu': 12208, 'igem': 12209, 'igemep': 12210, 'prize': 12211, 'utc': 12212, 'votenow': 12213, 'chickensoupforthesoulday': 12214, 'basin': 12215, 'janemadgwick': 12216, 'river': 12217, 'transboundari': 12218, 'waterclim': 12219, 'wetland': 12220, 'highqual': 12221, 'joinu': 12222, 'nodiet': 12223, 'relish': 12224, 'buyirish': 12225, 'funghi': 12226, 'gustopassion': 12227, 'instadaili': 12228, 'porcini': 12229, 'cocreat': 12230, 'coinnov': 12231, 'productdevelop': 12232, 'alarm': 12233, 'liliannyaega': 12234, 'lose_weight': 12235, 'eithealth': 12236, 'evidencebas': 12237, 'nevenahr': 12238, 'rotterdam': 12239, 'abischickendelight': 12240, 'biryanilov': 12241, 'foodlver': 12242, 'rajnandgaondist': 12243, 'bacteri': 12244, 'fungal': 12245, 'kettl': 12246, 'flaxseedoil': 12247, 'hydroxytyrosol': 12248, 'medalion': 12249, 'failsaf': 12250, 'holidayweightloss': 12251, 'howtolsoeweight': 12252, 'afterwhil': 12253, 'spicyfiid': 12254, 'whydowesweatafterwhileweeat': 12255, 'أخرى': 12256, 'البيض': 12257, 'تكافح': 12258, 'وأطعمة': 12259, 'admachocobitebiscuit': 12260, 'allah': 12261, 'baryarfood': 12262, 'blesseday': 12263, 'foodproductsonlin': 12264, 'jummah': 12265, 'jummahmubarak': 12266, 'mubarak': 12267, 'qualityfood': 12268, 'suffici': 12269, 'brush': 12270, 'elder': 12271, 'pierson': 12272, 'womenkid': 12273, 'akaushi': 12274, 'fridaynightfunkin': 12275, 'kumamoto': 12276, 'incompat': 12277, 'webstori': 12278, 'एकतर': 12279, 'कमबनशन': 12280, 'foodforheart': 12281, 'preventheartattack': 12282, 'fox': 12283, 'goodnot': 12284, 'असणऱयन': 12285, 'उचच': 12286, 'रकतदब': 12287, 'fa': 12288, 'labgrownmeat': 12289, 'angina': 12290, 'bypass': 12291, 'claudic': 12292, 'mum': 12293, 'woodlandhil': 12294, 'foodiecontest': 12295, 'hereamp': 12296, 'baton': 12297, 'batonroug': 12298, 'br': 12299, 'llena': 12300, 'llenafoodai': 12301, 'redstick': 12302, 'rougela': 12303, 'southernunivers': 12304, 'suagcent': 12305, 'fffindia': 12306, 'foe_u': 12307, 'fridaysfutur': 12308, 'kkuruganti': 12309, 'palmoil': 12310, 'pbhushan': 12311, 'mammographi': 12312, 'cafeteria': 12313, 'confess': 12314, 'hairnet': 12315, 'litmag': 12316, 'sassier': 12317, 'stylish': 12318, 'cocktail': 12319, 'adv': 12320, 'hellraton': 12321, 'cookingshow': 12322, 'poke': 12323, 'sustainablediet': 12324, 'fennel_se': 12325, 'flush': 12326, 'saliva': 12327, 'acidfruit': 12328, 'cookedfood': 12329, 'juicefast': 12330, 'juicefeast': 12331, 'livingfood': 12332, 'monom': 12333, 'americancanc': 12334, 'indiancancersoc': 12335, 'partial': 12336, 'sanatanprabhat': 12337, 'finland': 12338, 'customerfeedback': 12339, 'howdidwedo': 12340, 'township': 12341, 'cotta': 12342, 'dessertlifestyl': 12343, 'panna': 12344, 'recipelet': 12345, 'bnwlife': 12346, 'bnwphoto': 12347, 'bnwsoul': 12348, 'mdjamalphotographi': 12349, 'photojourn': 12350, 'rohingya': 12351, 'rohingyacrisi': 12352, 'rohingyaphotographi': 12353, 'agora': 12354, 'awa': 12355, 'sheera': 12356, 'hopexmarket': 12357, 'pexecollect': 12358, 'poppyse': 12359, 'clothesfre': 12360, 'shaw': 12361, 'waydon': 12362, 'ampus': 12363, 'immunolog': 12364, 'rekindl': 12365, '食品新聞': 12366, 'azeit': 12367, 'cobaia': 12368, 'dendê': 12369, 'descoberto': 12370, 'efeito': 12371, 'foram': 12372, 'negativo': 12373, 'nutella': 12374, 'os': 12375, 'brocolli': 12376, 'ach': 12377, 'diarrhoea': 12378, 'illeffect': 12379, 'mamey': 12380, 'antidot': 12381, 'psychosoci': 12382, 'asid': 12383, 'chilhavisto': 12384, 'dolartl': 12385, 'graphicsdesign': 12386, 'lazada': 12387, 'ranboospac': 12388, 'rbandm': 12389, 'straykid': 12390, 'topmodel': 12391, 'tshirt': 12392, 'tshirtshop': 12393, 'flight': 12394, 'surf': 12395, 'trip': 12396, 'turf': 12397, 'amuofficialpro': 12398, 'officeof_mm': 12399, 'ustmeghalaya': 12400, 'natashaslaw': 12401, 'tapioca': 12402, 'aruna': 12403, 'ddyadagiri': 12404, 'అదరక': 12405, 'ఇన': 12406, 'కరయకరమ': 12407, 'ఫన': 12408, 'లవ': 12409, 'changeyour': 12410, 'corrupt': 12411, 'impun': 12412, 'limpunité': 12413, 'nestlé': 12414, 'daymat': 12415, 'gaboron': 12416, 'healthgener': 12417, 'hg': 12418, 'junction': 12419, 'loneng': 12420, 'snackpack': 12421, 'aur': 12422, 'da': 12423, 'makki': 12424, 'pehla': 12425, 'saag': 12426, 'sarson': 12427, 'bass': 12428, 'seabass': 12429, 'icctworldcup': 12430, 'naatunaatu': 12431, 'permissiontogo': 12432, 'playtoearn': 12433, 'rednotic': 12434, 'redtaylorsvers': 12435, 'vickykaush': 12436, '𝘼𝙫𝙖𝙘𝙖𝙙𝙤': 12437, 'blockchain': 12438, 'cagefre': 12439, 'farmlif': 12440, 'leas': 12441, 'pasturedchicken': 12442, 'pasturedpoultri': 12443, 'ventur': 12444, 'bella': 12445, 'bellahadid': 12446, 'hadid': 12447, 'cavem': 12448, 'coefoodjustic': 12449, 'forest': 12450, 'makeda': 12451, 'ucghi': 12452, 'worldbeatcent': 12453, 'bioga': 12454, 'gau': 12455, 'panchgavya': 12456, 'repositori': 12457, 'chick': 12458, 'couch': 12459, 'grandpa': 12460, 'kiddo': 12461, 'supplier': 12462, 'fishoil': 12463, 'norwegian': 12464, 'anabol': 12465, 'kchimaev': 12466, 'leon_edwardsmma': 12467, 'shred': 12468, 'healthcanada': 12469, 'onionrecal': 12470, 'summon': 12471, 'azuki': 12472, 'noknow': 12473, 'leverag': 12474, 'prepackag': 12475, 'babyfood': 12476, 'childrenshealth': 12477, 'manmad': 12478, 'protectkidshealth': 12479, 'makeahead': 12480, 'dinosaur': 12481, 'hairstyl': 12482, 'pg': 12483, 'wrote': 12484, 'imag': 12485, 'imagesforsal': 12486, 'photographyart': 12487, 'photographylov': 12488, 'shopeeid': 12489, 'shopeeph': 12490, 'broughttoyoubypf': 12491, 'coof': 12492, 'fakenew': 12493, 'fastfoodn': 12494, 'foodworldord': 12495, 'lyingaboutcovid': 12496, 'mercola': 12497, 'morningmonarchi': 12498, 'nemojon': 12499, 'pb': 12500, 'pocahonta': 12501, 'popey': 12502, 'scamdem': 12503, 'truthmus': 12504, 'hurdl': 12505, 'yall': 12506, 'amileeveryyear': 12507, 'creativelifehappylif': 12508, 'bellalovesy': 12509, 'isbest': 12510, 'nevverrrrrr': 12511, 'closeup': 12512, 'foodpic': 12513, 'bagumart': 12514, 'decadeofact': 12515, 'hasten': 12516, 'mediaconsult': 12517, 'nutritionsecur': 12518, 'nutritionwin': 12519, 'howardsmil': 12520, 'sustainablefoodin': 12521, 'evolutionari': 12522, 'instinctu': 12523, 'mammal': 12524, 'bistechlink': 12525, 'bisvani': 12526, 'scienceandenviron': 12527, 'scienceandtechnolog': 12528, 'scienceeduc': 12529, 'cider': 12530, 'filter': 12531, 'litr': 12532, 'tbsp': 12533, 'shibi': 12534, 'anis': 12535, 'lemonlim': 12536, 'logodesign': 12537, 'busyfamili': 12538, 'christmasgiftidea': 12539, 'giftidea': 12540, 'timemanag': 12541, 'pleasehealth': 12542, 'wyou': 12543, 'psychiatr': 12544, 'edc': 12545, 'fatter': 12546, 'gwpublichealth': 12547, 'indisput': 12548, 'stopobes': 12549, 'necessarili': 12550, 'thirsti': 12551, 'herbertdorfmann': 12552, 'mep': 12553, 'multin': 12554, 'dietbut': 12555, 'fitnesslevel': 12556, 'buildmuscl': 12557, 'buildmuscleburnfat': 12558, 'dailythanthi': 12559, 'dt': 12560, 'உணவல': 12561, 'கரணஙகள': 12562, 'சரகக': 12563, 'தனசர': 12564, 'தயர': 12565, 'gelatin': 12566, 'halaal': 12567, 'shudh': 12568, 'unileversa': 12569, 'ada': 12570, 'luna': 12571, 'respectandapologizetojenni': 12572, 'hashimoto': 12573, 'healthyo': 12574, 'jeevamh': 12575, 'buyorgan': 12576, 'conform': 12577, 'sajeevan': 12578, 'sajeevanorgan': 12579, 'usdacertifiedorgan': 12580, 'usdaorgan': 12581, 'sole': 12582, 'bernard': 12583, 'lifechangingbook_ondiwali': 12584, 'moni': 12585, 'thoughtoftheday': 12586, 'करतत': 12587, 'ठवणयस': 12588, 'नयतरत': 12589, 'पतळ': 12590, 'रकततल': 12591, 'सखरच': 12592, 'admamari': 12593, 'admamariebiscuit': 12594, 'aarogyachemodernyug': 12595, 'cancertreat': 12596, 'kidneycur': 12597, 'kidneyfailur': 12598, 'cowghe': 12599, 'gheebuttt': 12600, 'pureghe': 12601, 'bioscienc': 12602, 'ar': 12603, 'com': 12604, 'extraterrestri': 12605, 'galaxi': 12606, 'gamedev': 12607, 'liftoff': 12608, 'lunar': 12609, 'lunarlift': 12610, 'vacuum': 12611, 'xr': 12612, 'fitnesstrain': 12613, 'medicalnutritiontherapi': 12614, 'nutrifit': 12615, 'cantaloup': 12616, 'minti': 12617, 'amenitieswork': 12618, 'andi_staub': 12619, 'cosmeticsgood': 12620, 'danho': 12621, 'haroldsinnott': 12622, 'healthenviron': 12623, 'ipfconlin': 12624, 'kingjen': 12625, 'moveessenti': 12626, 'oecd': 12627, 'psb_dc': 12628, 'russellwald': 12629, 'spirosmargari': 12630, 'stanfordhai': 12631, 'thehil': 12632, 'un_sdg': 12633, 'xbond': 12634, 'yuhelenyu': 12635, 'unhealthyfoodmarket': 12636, 'copglasgow': 12637, 'weightwatch': 12638, 'feminin': 12639, 'floral': 12640, 'nich': 12641, 'womenblog': 12642, 'yearn': 12643, 'bookshelv': 12644, 'childrensbook': 12645, 'doctoroo': 12646, 'louiellama': 12647, 'rachel': 12648, 'terrencetoad': 12649, 'wellner': 12650, 'skrilla': 12651, 'fitnessaddict': 12652, 'ottoemezzo': 12653, 'faculti': 12654, 'kpmedschool': 12655, 'neighborhood': 12656, 'nostalgia': 12657, 'victoriassecret': 12658, 'stomachach': 12659, 'amcoffe': 12660, 'heartthi': 12661, 'beam': 12662, 'michel': 12663, 'patel': 12664, 'stanc': 12665, 'politico': 12666, 'willfulneglect': 12667, 'futureceut': 12668, 'kantha': 12669, 'thc': 12670, 'middlemen': 12671, 'wholesal': 12672, 'asada': 12673, 'naima_raham': 12674, 'natashaswami': 12675, 'tacogirl': 12676, 'tacotuesdayfan': 12677, 'tortilla': 12678, 'compoent': 12679, 'indispens': 12680, 'waterforclim': 12681, 'meltinyourmouth': 12682, 'perogi': 12683, 'realingredi': 12684, 'traditionalflavour': 12685, 'conceptu': 12686, 'ludwig': 12687, 'md': 12688, 'plsrt': 12689, 'alternativemeat': 12690, 'bayarea': 12691, 'ca': 12692, 'oakland': 12693, 'foodlean': 12694, 'bluecal_': 12695, 'pipelin': 12696, 'postbiot': 12697, 'wellnesscoach': 12698, 'carpark': 12699, 'multistorey': 12700, '全粒粉パスタを見つけました': 12701, 'komof': 12702, 'daytim': 12703, 'wholem': 12704, 'chicknfood': 12705, 'yummy_yummi': 12706, 'administr': 12707, 'baramulla': 12708, 'todaymotiv': 12709, 'askmeanyth': 12710, 'lifegoeson': 12711, 'foodiesofindia': 12712, 'gujaratifood': 12713, 'inflammationfight': 12714, 'dembow': 12715, 'reggaeton': 12716, 'whatkcando': 12717, 'bodyjam': 12718, 'danc': 12719, 'likenina': 12720, 'reebok': 12721, 'diabetesasia': 12722, 'अकसर': 12723, 'जसम': 12724, 'टइप': 12725, 'मधमह': 12726, 'मलटस': 12727, 'रकतचप': 12728, 'सथ': 12729, 'हत': 12730, 'cardioworkout': 12731, 'juiceandtoya': 12732, 'करक': 12733, 'जच': 12734, 'डयबटज': 12735, 'पडत': 12736, 'परबधन': 12737, 'बलड': 12738, 'भजन': 12739, 'महलओ': 12740, 'महलय': 12741, 'शगर': 12742, 'सवसथ': 12743, 'drinkabl': 12744, 'butteryflavor': 12745, 'macadamianut': 12746, 'nutti': 12747, 'jeevamhealth': 12748, 'eatingplan': 12749, 'macrophag': 12750, 'sulfurcontain': 12751, 'tlymphocyt': 12752, 'eyelash': 12753, 'flaki': 12754, 'scalp': 12755, 'bream': 12756, 'ifstlaunchpad': 12757, 'genoa': 12758, 'genoes': 12759, 'genova': 12760, 'amberjack': 12761, 'bistro': 12762, 'cuttlefish': 12763, 'prawn': 12764, 'bazar': 12765, 'panpata': 12766, 'eggforwomen': 12767, 'iodin': 12768, 'elit': 12769, 'jug': 12770, 'liftstyl': 12771, 'newest': 12772, 'nutral': 12773, 'shaker': 12774, 'anthropolog': 12775, 'classicist': 12776, 'cybersecur': 12777, 'followphd': 12778, 'literatur': 12779, 'neurosci': 12780, 'quantummechan': 12781, 'eatlesssalt': 12782, 'iposol': 12783, 'lesssaltmorehealth': 12784, 'puresalt': 12785, 'saltmatt': 12786, 'eggetarian': 12787, 'savechildren': 12788, 'usag': 12789, 'mid': 12790, 'mildli': 12791, 'greet': 12792, 'exhibitor': 12793, 'gfm_pavilion': 12794, 'gulfoodmanufactur': 12795, 'sd': 12796, 'pracupdiabet': 12797, 'worlddiabetesf': 12798, 'custard': 12799, 'bakeryshop': 12800, 'html': 12801, 'templat': 12802, 'webstrot': 12803, 'bodypositivitymov': 12804, 'मटप': 12805, 'वजन_कम_कर': 12806, 'hon': 12807, 'puakenaboreham': 12808, 'prizefight': 12809, 'profightlif': 12810, 'ritual': 12811, 'cynthia': 12812, 'davi': 12813, 'seratonin': 12814, 'millionair': 12815, 'augustin': 12816, 'chm': 12817, 'datuk': 12818, 'emeritu': 12819, 'ir': 12820, 'kiat': 12821, 'monashmalaysia': 12822, 'mosta': 12823, 'mypalmoil': 12824, 'mysawit': 12825, 'ong': 12826, 'palmolein': 12827, 'popsig': 12828, 'qua': 12829, 'sawit': 12830, 'sawitanugerahtuhan': 12831, 'seng': 12832, 'sri': 12833, 'tan': 12834, 'gff': 12835, 'simpson': 12836, 'chinesepea': 12837, 'snowpea': 12838, 'everbowl': 12839, 'exponenti': 12840, 'jefffenstar': 12841, 'makingbank': 12842, 'vertic': 12843, 'gatlin': 12844, 'payitforward': 12845, 'preshow': 12846, 'turkeytim': 12847, 'vegansforclimatejustic': 12848, 'fishmarket': 12849, 'foodyou': 12850, 'peta': 12851, 'arizona': 12852, 'asu': 12853, 'frysfoodstor': 12854, 'gcu': 12855, 'studentleadership': 12856, 'uarizona': 12857, 'applebe': 12858, 'applebeessooo': 12859, 'behealthi': 12860, 'hollywood': 12861, 'homervillehound': 12862, 'justsay': 12863, 'medicalmarijuana': 12864, 'olgaroderick': 12865, 'onewithspirit': 12866, 'zen': 12867, 'haitian': 12868, 'prayer': 12869, 'unionofequ': 12870, 'wellplan': 12871, 'thaitrade_usa': 12872, 'ttcmiamigmailcom': 12873, 'edg': 12874, 'equipohealth': 12875, 'sugarbas': 12876, 'gelita_glob': 12877, 'gnosislesaffr': 12878, 'keminind': 12879, 'herbalnationllc': 12880, 'alkaloid': 12881, 'ecologicalenviron': 12882, 'nicotin': 12883, 'crusti': 12884, 'fireroast': 12885, 'vitaminrich': 12886, 'unlock': 12887, 'recipeshttpstcoptclngdcm': 12888, 'colistin': 12889, 'eu_commiss': 12890, 'hcwheurop': 12891, 'safeguardcolistin': 12892, 'memesdaili': 12893, 'samosa': 12894, 'sarcasm': 12895, 'sarcasm_machin': 12896, 'recipeoftoday': 12897, 'recipeswithpurpos': 12898, 'slimmingworldrecip': 12899, 'bbcgoodfood': 12900, 'poha': 12901, 'heid': 12902, 'markham': 12903, 'thenuanc': 12904, 'cargo': 12905, 'discgolf': 12906, 'golf': 12907, 'golfaddict': 12908, 'golfclub': 12909, 'golfcours': 12910, 'golfer': 12911, 'golfislif': 12912, 'golflif': 12913, 'golfpro': 12914, 'rock': 12915, 'animalfarm': 12916, 'antibioticstewardship': 12917, 'brexitr': 12918, 'chingford': 12919, 'huckleberri': 12920, 'yournhsneedsy': 12921, 'sugarawarenessweek': 12922, 'fairer': 12923, 'einchinanew': 12924, 'fraserrr': 12925, 'techcentr': 12926, 'healthadvic': 12927, 'sgi': 12928, 'shriramgi': 12929, 'costarican': 12930, 'enjo': 12931, 'foodexperi': 12932, 'kingori_njuguna': 12933, 'pantoast': 12934, 'revisit': 12935, 'superhealthi': 12936, 'tagin': 12937, 'mutton': 12938, 'muttonbiryani': 12939, 'muttondish': 12940, 'muttonlov': 12941, 'rajnandgao': 12942, 'endorphin': 12943, 'sleepwel': 12944, 'eatingdisordertwt': 12945, 'proteinfood': 12946, 'proteinpowd': 12947, 'proteinshak': 12948, 'birdsofprey': 12949, 'hawk': 12950, 'strongertogeth': 12951, 'talon': 12952, 'threadi': 12953, 'wildlifephotographi': 12954, 'beak': 12955, 'wipe': 12956, 'pole': 12957, 'prey': 12958, 'tail': 12959, 'warninggraph': 12960, 'finbow': 12961, 'unfccc': 12962, 'º': 12963, 'excersis': 12964, 'இரகக': 12965, 'எனன': 12966, 'கடபடகக': 12967, 'மரடபப': 12968, 'வணடய': 12969, 'வரமல': 12970, 'வழமறகள': 12971, 'cr_uk': 12972, 'teadrink': 12973, 'truehealth': 12974, 'wardrob': 12975, 'bali': 12976, 'musttri': 12977, 'hcp': 12978, 'htk': 12979, 'pharmacist': 12980, 'spaghettisquash': 12981, 'teachingkitchen': 12982, 'quicktocook': 12983, 'spelt': 12984, 'admashortcakebiscuit': 12985, 'ajaydevgn': 12986, 'akshaykumar': 12987, 'donald': 12988, 'hawley': 12989, 'josh': 12990, 'katrinakaif': 12991, 'lagalaxi': 12992, 'logan': 12993, 'lovehard': 12994, 'paytm': 12995, 'salmankhan': 12996, 'suryavanshi': 12997, '𝙁𝘼𝙏': 12998, '𝙇𝙊𝙒': 12999, '𝙋𝙧𝙤𝙙𝙪𝙘𝙩𝙨': 13000, '𝙖𝙡𝙬𝙖𝙮𝙨': 13001, '𝙖𝙨': 13002, '𝙝𝙚𝙖𝙡𝙩𝙝𝙞𝙚𝙨𝙩': 13003, '𝙢𝙖𝙧𝙠𝙚𝙩𝙚𝙙': 13004, '𝙤𝙥𝙩𝙞𝙤𝙣': 13005, '𝙩𝙝𝙚': 13006, 'chickenw': 13007, 'delect': 13008, 'टळणयसठ': 13009, 'नदरनश': 13010, 'gmofre': 13011, 'indiabeatsdiabet': 13012, 'saladchaat': 13013, 'thaifood': 13014, 'eleven': 13015, 'kah': 13016, 'kashmiri': 13017, 'kehwa': 13018, 'kehwah': 13019, 'morningvib': 13020, 'incas': 13021, 'chefcak': 13022, 'youtubevideo': 13023, 'discard': 13024, 'jalebi': 13025, 'stressawarenessday': 13026, 'twbookclub': 13027, 'veganday': 13028, 'bout': 13029, 'givebacktothene': 13030, 'myquest': 13031, 'ditch': 13032, 'feelgreat': 13033, 'ww': 13034, 'appetis': 13035, 'bioinformat': 13036, 'prorepublica': 13037, 'candyceut': 13038, 'traction': 13039, 'theetern': 13040, 'nuclearpow': 13041, 'suncemor': 13042, 'edamamco': 13043, 'sk': 13044, 'vpenev': 13045, 'alan': 13046, 'cabello': 13047, 'pexel': 13048, 'arabia': 13049, 'herm': 13050, 'hzpc': 13051, 'jordan': 13052, 'southafrican': 13053, 'suadia': 13054, 'algahealth': 13055, 'exitvalley': 13056, 'fucoxanthin': 13057, 'multibillion': 13058, 'tru': 13059, 'truethic': 13060, 'newindia': 13061, 'zuzkalight': 13062, 'frosti': 13063, 'amhara': 13064, 'tplf': 13065, 'unethiopia': 13066, 'unicefethiopia': 13067, 'waghimra': 13068, 'wfp_ethiopia': 13069, 'whoethiopia': 13070, 'wollo': 13071, 'dandelion': 13072, 'healthyveggi': 13073, 'vegetablesalad': 13074, 'veggiesmost': 13075, 'enjoylif': 13076, 'israel': 13077, 'theisraelyoudontse': 13078, 'toeat': 13079, 'tourism': 13080, 'visitisrael': 13081, 'arynew': 13082, 'cmpunjaboffici': 13083, 'expressnew': 13084, 'geonew': 13085, 'petroldieselpric': 13086, 'taunsa': 13087, 'vip': 13088, 'creator': 13089, 'japanesefood': 13090, 'plateupfortheplanet': 13091, 'asin': 13092, 'foodfortif': 13093, 'fortif': 13094, 'iodiz': 13095, 'nationalfoodforticficationday': 13096, 'panahontv': 13097, 'philippin': 13098, 'pronunci': 13099, 'tongu': 13100, 'twister': 13101, 'pitfal': 13102, 'plantprotein': 13103, 'proteinwhil': 13104, 'foodbank': 13105, 'richmondbc': 13106, 'datafus': 13107, 'regress': 13108, 'sensor': 13109, 'cornbread': 13110, 'corni': 13111, 'foodielif': 13112, 'itsu': 13113, 'lunchgood': 13114, 'saturdaytreat': 13115, 'suzeonamiss': 13116, 'everbown': 13117, 'fenstar': 13118, 'cuminjasmin': 13119, 'handicap': 13120, 'workstyl': 13121, 'つまらない日常の日記': 13122, '一応日記なのですが不定期更新です': 13123, '仕事': 13124, '働き方': 13125, '息抜きは究極の減塩メニュー開発': 13126, '日常': 13127, '日記': 13128, '生き方': 13129, '食べ物': 13130, 'criticalthinkingskil': 13131, 'scientificskeptic': 13132, 'skeptic': 13133, 'vers': 13134, 'ace': 13135, 'juvefiorentina': 13136, 'obvious': 13137, 'bienestar': 13138, 'mapl': 13139, 'hdl': 13140, 'luteolin': 13141, 'merveilleux': 13142, 'acropolisorg': 13143, 'tablespoon': 13144, 'behaviouralinsight': 13145, 'bethebesty': 13146, 'growthmindset': 13147, 'knowyourroot': 13148, 'saturdayselfi': 13149, 'nervou': 13150, 'agritech': 13151, 'biologicalamp': 13152, 'era': 13153, 'fungifriday': 13154, 'inpst': 13155, 'mhealth': 13156, 'opensci': 13157, 'womeninstem': 13158, 'novemberchalleng': 13159, 'childrel': 13160, 'incl': 13161, 'pkg': 13162, 'organicindiastori': 13163, 'peasantmonth': 13164, 'uttamkheti': 13165, 'spreadawar': 13166, 'fuller': 13167, 'bounti': 13168, 'dead': 13169, 'contrari': 13170, 'dogmat': 13171, 'secretli': 13172, 'alcoholawar': 13173, 'badhabit': 13174, 'mentalhealthawarenessweek': 13175, 'rough': 13176, 'liven': 13177, 'hearttransplantsurvivor': 13178, 'hearttreat': 13179, 'airdropalert': 13180, 'athiyashetti': 13181, 'bash': 13182, 'btsjin': 13183, 'diwali': 13184, 'iggi': 13185, 'jaibheem': 13186, 'munmci': 13187, 'peter': 13188, 'experiencefetchyourbodi': 13189, 'deercamp': 13190, 'ghana': 13191, 'hunt': 13192, 'hunter': 13193, 'inject': 13194, 'nickiminaj': 13195, 'notaboutaviru': 13196, 'sciencewin': 13197, 'wakey': 13198, 'lovel': 13199, 'mentalhealthph': 13200, 'searchengen': 13201, 'speech': 13202, 'atultankha': 13203, 'bhai': 13204, 'diwalicontest': 13205, 'diwaliwithtastydairi': 13206, 'dooj': 13207, 'fridayfreedom': 13208, 'ugli': 13209, 'uglifruit': 13210, 'healthbenifit': 13211, 'znaturalfood': 13212, 'bresaola': 13213, 'empoligenoa': 13214, 'climateeduc': 13215, 'clu': 13216, 'rankin': 13217, 'zerowastescot': 13218, 'akhilabegum': 13219, 'fiction': 13220, 'nutritionbar': 13221, 'snackbar': 13222, 'uncl': 13223, 'dishwash': 13224, 'fitnessfriday': 13225, 'vortex': 13226, 'starfruit': 13227, 'giejo': 13228, 'tight': 13229, 'coke': 13230, 'dye': 13231, 'traumat': 13232, 'ikann_glob': 13233, 'implic': 13234, 'muesli': 13235, 'apprenticeship': 13236, 'bethechang': 13237, 'helpkidsowntheirhealthi': 13238, 'instructor': 13239, 'jhonathan': 13240, 'sylvia': 13241, 'applecor': 13242, 'fampv': 13243, 'blender': 13244, 'csa': 13245, 'donnygreen': 13246, 'graham': 13247, 'vermont': 13248, 'arra': 13249, 'humanitarianaid': 13250, 'unhcr': 13251, 'lowsugar': 13252, 'similarli': 13253, 'agroecolog': 13254, 'diverticulosi': 13255, 'dhrupurohit': 13256, 'wendel': 13257, 'babybel': 13258, 'calciumdefici': 13259, 'smore': 13260, 'chotid': 13261, 'salmubarak': 13262, 'shib': 13263, 'caraway': 13264, 'hathorsutil': 13265, 'lixtl': 13266, 'naminycmetro': 13267, 'avon': 13268, 'avonuk': 13269, 'bodycream': 13270, 'dailyfoodfe': 13271, 'dryskincar': 13272, 'facecream': 13273, 'fmfragranc': 13274, 'fmuk': 13275, 'slimmingworlduk': 13276, 'swfood': 13277, 'swuk': 13278, 'brat': 13279, 'chit': 13280, 'const': 13281, 'holechomp': 13282, 'maxkmamtel': 13283, 'noon': 13284, 'rotatorcuff': 13285, 'tummyput': 13286, 'latam': 13287, 'misión': 13288, 'skimmedmilk': 13289, 'abt': 13290, 'brag': 13291, 'disabilitytwitt': 13292, 'disibilitytwt': 13293, 'urself': 13294, 'yakisoba': 13295, 'passioniscooki': 13296, 'rut': 13297, 'longlast': 13298, 'oursebabd': 13299, 'weightlos': 13300, 'bodili': 13301, 'ctp_video': 13302, 'saturatedfat': 13303, 'seemingli': 13304, 'healthythought': 13305, 'imaan': 13306, 'jumma': 13307, 'eng': 13308, 'protectbbm': 13309, 'coool_kashish': 13310, 'gstar': 13311, 'mehul_lm': 13312, 'ritindia': 13313, 'sagarnaik': 13314, 'handsomeraaj': 13315, 'mintoosapra': 13316, 'rajeshsapra': 13317, 'मटबलझम': 13318, 'रज': 13319, 'energyfor': 13320, 'foodwat': 13321, 'healthpl': 13322, 'timesav': 13323, 'wolbachia': 13324, 'wayanad': 13325, 'bettereap': 13326, 'humanresourcesmanag': 13327, '𝙎𝙤𝙮𝙡𝙚𝙣𝙩': 13328, 'moneymatt': 13329, 'funki': 13330, 'shave': 13331, 'umami': 13332, 'bluezon': 13333, 'yahey': 13334, 'ayulink': 13335, 'quicker': 13336, 'b₁₂': 13337, 'b₅': 13338, 'b₆': 13339, 'caviar': 13340, 'stamina': 13341, 'subaru': 13342, 'suprisingli': 13343, 'amen': 13344, 'discovertheb': 13345, 'ceh': 13346, 'cleanproact': 13347, 'ecoproduct': 13348, 'firstofitskind': 13349, 'greenscreencertifi': 13350, 'ware': 13351, 'promoteweightloss': 13352, 'foodcompass': 13353, 'agenda': 13354, 'agrofood': 13355, 'bluebiotech': 13356, 'mirri': 13357, 'mirri_l': 13358, 'rampi': 13359, 'intersect': 13360, 'itamargilboa': 13361, 'schweizer': 13362, 'stopwast': 13363, 'tafel': 13364, 'technionl': 13365, 'tidi': 13366, 'bioiberica': 13367, 'mold': 13368, 'moldi': 13369, 'bethgryl': 13370, 'blumberg': 13371, 'editor': 13372, 'jeffrey': 13373, 'megatrend': 13374, 'tuftsnutrit': 13375, 'meatsubstitut': 13376, 'tvp': 13377, 'rusk': 13378, 'foodact': 13379, 'foodiv': 13380, 'learnt': 13381, 'possiblecheck': 13382, 'ericadam': 13383, 'hardship': 13384, 'unitedkingdom': 13385, 'andrewidi': 13386, 'byzantin': 13387, 'byzantinech': 13388, 'cypriot': 13389, 'cypru': 13390, 'drystonewal': 13391, 'heritag': 13392, 'intang': 13393, 'lace': 13394, 'lefkaritika': 13395, 'meddiet': 13396, 'poeticduel': 13397, 'rhyme': 13398, 'tsiatista': 13399, 'unesco': 13400, 'bile': 13401, 'dissolv': 13402, 'estrogen': 13403, 'eufic': 13404, 'adriano': 13405, 'chief': 13406, 'mollica': 13407, 'scope': 13408, 'hedg': 13409, 'unus': 13410, 'edgyveg': 13411, 'gazettenigeria': 13412, 'itsstevenhudson': 13413, 'babyboom': 13414, 'retir': 13415, 'australian': 13416, 'disproportion': 13417, 'orthophthal': 13418, 'toxicsubst': 13419, 'boh': 13420, 'bohfan': 13421, 'dipawali': 13422, 'diwalidecor': 13423, 'diwalihamp': 13424, 'diwalioutfit': 13425, 'diya': 13426, 'firecrack': 13427, 'happydiwali': 13428, 'hug': 13429, 'woh': 13430, 'fgc': 13431, 'propos': 13432, 'limitless': 13433, 'meow': 13434, 'johnlewisadvert': 13435, 'lea': 13436, 'makethechang': 13437, 'heath': 13438, 'connectdiplomaci': 13439, 'ear': 13440, 'edb': 13441, 'globalcompact': 13442, 'instinct': 13443, 'iot': 13444, 'mediationsbot': 13445, 'nato': 13446, 'smartciti': 13447, 'wto': 13448, 'artsandnatur': 13449, 'mama': 13450, 'mediat': 13451, 'socialclub': 13452, 'urbangreen': 13453, 'تم_القبض': 13454, 'amazonaffilia': 13455, 'amazonbook': 13456, 'flipkart': 13457, 'immunityplu': 13458, 'westlandbook': 13459, 'caresom': 13460, 'genderbasedviol': 13461, 'somalia': 13462, 'countdown': 13463, 'lancetgh': 13464, 'medicalresearch': 13465, 'konkuk': 13466, 'lipophil': 13467, 'mdpifood': 13468, 'ramesh': 13469, 'saini': 13470, 'contracept': 13471, 'deplet': 13472, 'caboos': 13473, 'greenheart': 13474, 'lawn': 13475, 'rsvp': 13476, 'townofviennava': 13477, 'wellnessfeast': 13478, 'nationalsandwichday': 13479, 'manioka': 13480, 'cou': 13481, 'enhttpstcojfkfjuvw': 13482, 'lesffrebel': 13483, 'picant': 13484, 'verdura': 13485, 'registereddietitian': 13486, 'sucralos': 13487, 'arena': 13488, 'interfac': 13489, 'sciencepolici': 13490, 'shine': 13491, 'fuckem': 13492, 'horsesens': 13493, 'hypocrisi': 13494, 'jacinda': 13495, 'lgb': 13496, 'paperspleas': 13497, 'righttofood': 13498, 'selectionday': 13499, 'wrapper': 13500, 'macibookout': 13501, 'teenmom': 13502, 'teenmomog': 13503, 'dreami': 13504, 'loong': 13505, 'harrelson': 13506, 'owen': 13507, 'wilson': 13508, 'dwfwell': 13509, 'budgetfriendli': 13510, 'powerlift': 13511, 'beefoth': 13512, 'dayseniormenu': 13513, 'freez': 13514, 'greekyoghurt': 13515, 'saynosugar': 13516, 'tinfish': 13517, 'grandkid': 13518, 'storm': 13519, 'indianbreakfast': 13520, '___': 13521, 'la_fonceur': 13522, 'nourishorgan': 13523, 'prepahead': 13524, 'threecours': 13525, 'renown': 13526, 'deepavali': 13527, 'festivalvib': 13528, 'pollutionfreediwali': 13529, 'speaciallyfordog': 13530, 'collab': 13531, 'kalmunai': 13532, 'mc': 13533, 'mou': 13534, 'rrdh': 13535, 'generationrestor': 13536, 'ofamp': 13537, 'bambi': 13538, 'deer': 13539, 'indigenouslivesmatt': 13540, 'nativetwitt': 13541, 'nra': 13542, 'revisitingzombi': 13543, 'sourceindigen': 13544, 'suburbia': 13545, 'thruout': 13546, 'wander': 13547, 'worrisomehuntingseason': 13548, 'komen': 13549, 'komenitalia': 13550, 'prezript': 13551, 'greenbean': 13552, 'oliveoiol': 13553, 'smoothierecip': 13554, 'apparel': 13555, 'bb': 13556, 'consumergood': 13557, 'delveai': 13558, 'persona': 13559, 'dietitiansofinstagram': 13560, 'cellular': 13561, 'foodnavig': 13562, 'thoughtstudi': 13563, 'kothari': 13564, 'siddharth': 13565, 'backbritishfarm': 13566, 'eatbalanc': 13567, 'jonathanraym': 13568, 'pill': 13569, 'pop': 13570, 'vogu': 13571, 'mmc': 13572, 'mmch': 13573, 'uttarpradesh': 13574, 'compris': 13575, 'estonia': 13576, 'emergingthreat': 13577, 'onehealthday': 13578, 'researchimpacteu': 13579, 'zoonos': 13580, 'hurri': 13581, 'bizarr': 13582, 'meryl': 13583, 'iam_juhi': 13584, 'redchillies': 13585, 'socialev': 13586, 'traveltip': 13587, 'equit': 13588, 'rehabilit': 13589, 'chefdrmik': 13590, 'culinaryart': 13591, 'letcreativitypodcast': 13592, 'dilig': 13593, 'marriag': 13594, 'niv': 13595, 'rmission': 13596, 'optimist': 13597, 'healtylifestyl': 13598, 'wholecarb': 13599, 'pixabay': 13600, 'grassroot': 13601, 'wiilma': 13602, 'stove': 13603, 'youtubeshort': 13604, 'bevnet': 13605, 'infuseyourlif': 13606, 'heatwav': 13607, 'summertim': 13608, 'benefício': 13609, 'confira': 13610, 'confirmado': 13611, 'suplemento': 13612, 'zinco': 13613, 'calfresh': 13614, 'drivethru': 13615, 'flyer': 13616, 'nevhc': 13617, 'tasteaward': 13618, 'televis': 13619, 'thru': 13620, 'flash': 13621, 'lignan': 13622, 'romano': 13623, 'canola': 13624, 'epa': 13625, 'studentsncl': 13626, 'blaqazzrick': 13627, 'dc': 13628, 'infest': 13629, 'rat': 13630, 'rent': 13631, 'ricardoland': 13632, 'suspend': 13633, 'leukemia': 13634, 'worldveganday': 13635, 'beyourownhero': 13636, 'innerpeac': 13637, 'truthbetold': 13638, 'truthmatt': 13639, 'tuesdayselfi': 13640, 'douglasellenoff': 13641, 'seccommi': 13642, 'sequoia': 13643, 'sinwattana': 13644, 'sinwattanathai': 13645, 'softbankteamjpn': 13646, 'lincolnunivers': 13647, 'brb': 13648, 'hog': 13649, 'notbak': 13650, 'notfri': 13651, 'poppedchip': 13652, 'squad': 13653, 'argentina': 13654, 'foodrel': 13655, 'readytoeat': 13656, 'vend': 13657, 'approx': 13658, 'dohost': 13659, 'supergrain': 13660, 'thebeetoffici': 13661, 'tuesdayfeel': 13662, 'cuttingedg': 13663, 'delv': 13664, 'sria': 13665, 'caption': 13666, 'ikoyi': 13667, 'tumor': 13668, 'fluvic': 13669, 'numer': 13670, 'ardrasinett': 13671, 'cookingcoutureatlanta': 13672, 'coutur': 13673, 'afnutr': 13674, 'globalscishow': 13675, 'lynnburnsrnutr': 13676, 'uk_aso': 13677, 'averag': 13678, 'bookstagram': 13679, 'theforeverdogbook': 13680, 'diplomaci': 13681, 'nowthisnew': 13682, 'pnudfr': 13683, 'sdgsworld': 13684, 'supremaci': 13685, 'mustread': 13686, 'overweightandobes': 13687, 'unsalt': 13688, 'callwhatsapp': 13689, 'onlinelearn': 13690, 'dharmamovi': 13691, 'iamsrk': 13692, 'intown': 13693, 'pathan': 13694, 'samsungindia': 13695, 'superfit': 13696, 'vfx_redchilli': 13697, 'yrf': 13698, 'comorbid': 13699, 'farmbil': 13700, 'dongyu': 13701, 'qu': 13702, 'aajkinaari': 13703, 'dhantera': 13704, 'masterchefcelebr': 13705, 'preplan': 13706, 'tipstomakeadiffer': 13707, 'foodexplora': 13708, 'cleanlabel': 13709, 'bid': 13710, 'internationalveganday': 13711, 'pioneer': 13712, 'plantfluenc': 13713, 'cruncher': 13714, 'mondayfunday': 13715, 'africanmaerican': 13716, 'iuic': 13717, 'livercleans': 13718, 'nativeamerican': 13719, 'nativeindian': 13720, 'elizabethrid': 13721, 'jamescolquhoun': 13722, 'studynutrit': 13723, 'del': 13724, 'dzień': 13725, 'es': 13726, 'hoy': 13727, 'listopada': 13728, 'mundial': 13729, 'wegan': 13730, 'weganizm': 13731, 'światowi': 13732, '世界ビーガンデーは今日です月日です': 13733, 'sciatica': 13734, 'giftguid': 13735, 'manicdepress': 13736, 'mdd': 13737, 'seasonalaffectivedisord': 13738, 'toptenlist': 13739, 'marketingtokid': 13740, 'fitfood': 13741, 'snickerssatisfi': 13742, 'worldveganmonth': 13743, 'brainon': 13744, 'emerald': 13745, 'foodhack': 13746, 'mocca': 13747, 'superton': 13748, 'lustig': 13749, 'nafld': 13750, 'covidinduc': 13751, 'foodinsecur': 13752, 'animalsasia': 13753, 'dave': 13754, 'neal': 13755, 'onelif': 13756, 'gb': 13757, 'yougov': 13758, 'nationalpeppermonth': 13759, 'peppermonth': 13760, 'dredema': 13761, 'landscap': 13762, 'squaremea': 13763, 'hole': 13764, 'insuffici': 13765, 'pancrea': 13766, 'zap': 13767, 'lactoferrin': 13768, 'marketdata': 13769, 'marketdemand': 13770, 'marketforecast': 13771, 'hottiesauc': 13772, 'washingtondc': 13773, 'buddha': 13774, 'compos': 13775, 'industriallyproduc': 13776, 'onlinekhabar': 13777, 'chriscorn': 13778, 'qubfoodprof': 13779, 'astrazeneca': 13780, 'homeschool': 13781, 'learnenglish': 13782, 'staysaf': 13783, 'travelphotographi': 13784, 'microtrack': 13785, 'nutritiontrack': 13786, 'agrrro': 13787, 'eastern': 13788, 'erol': 13789, 'humanitarianmiss': 13790, 'indonesia': 13791, 'croakeynew': 13792, 'healthy_clim': 13793, 'healthycop': 13794, 'realtim': 13795, 'remi': 13796, 'wepublichealth': 13797, 'crossword_book': 13798, 'drhansaji': 13799, 'gaurdopald': 13800, 'omnipres': 13801, 'climatechag': 13802, 'fern': 13803, 'stepathon': 13804, 'teamchalleng': 13805, 'walkathon': 13806, 'maxwellbiotech': 13807, 'shardahospit': 13808, 'stayhomestaysaf': 13809, 'édoctor': 13810, 'diabetologist': 13811, 'healthwir': 13812, 'healthwirepk': 13813, '𝐃𝐢𝐚𝐁𝐞𝐚𝐭': 13814, 'parvez': 13815, 'qamar': 13816, 'rizvi': 13817, 'dailybenefitsofcoriand': 13818, 'eisamay': 13819, 'healthbenefitsofcoriand': 13820, 'একগচছ': 13821, 'ঔষধ': 13822, 'গণও': 13823, 'ধনপতর': 13824, 'রযছ': 13825, 'positiveenergi': 13826, 'abedi': 13827, 'ali': 13828, 'jafar': 13829, 'ncd': 13830, 'symbol': 13831, 'unregul': 13832, 'cryptofood': 13833, 'satieti': 13834, 'satvikfood': 13835, 'herbalproduct': 13836, 'naturaltreat': 13837, 'beforeandaft': 13838, 'qualifieddietitianonli': 13839, 'healthyquot': 13840, 'holisticnutrit': 13841, 'ynutritioncoach': 13842, 'goodnewsnetwork': 13843, 'trustthefungu': 13844, 'mous': 13845, 'neurodegener': 13846, 'uv': 13847, 'halloweenparti': 13848, 'sundaynight': 13849, 'assassin': 13850, 'blackout': 13851, 'exceed': 13852, 'freethemal': 13853, 'معركة_الامعاء_الخاوية': 13854, 'idealprotein': 13855, 'vienna': 13856, 'ottobr': 13857, 'chow': 13858, 'jalapeño': 13859, 'mien': 13860, 'lifesci': 13861, 'rawmeat': 13862, 'doum': 13863, 'goruba': 13864, 'businessgt': 13865, 'ltfew': 13866, 'plasticfreeoctob': 13867, 'eurogeosci': 13868, 'pico': 13869, 'ℹmore': 13870, 'contentfrom': 13871, 'snuggl': 13872, 'fsatfood': 13873, 'moroccan': 13874, 'consumerbehavior': 13875, 'hamesha': 13876, 'jwan': 13877, 'rakhey': 13878, 'shaljum': 13879, 'tandrust': 13880, 'ubqari': 13881, 'آپ': 13882, 'تندرست': 13883, 'جوان': 13884, 'رکھے': 13885, 'شلجم': 13886, 'ہمیشہ': 13887, 'boost_immun': 13888, 'green_bean': 13889, 'adityamendonca': 13890, 'drminalmohit': 13891, 'gautamchopra': 13892, 'republ': 13893, 'charact': 13894, 'insideout': 13895, 'outsidein': 13896, 'slap': 13897, 'fuss': 13898, 'motherhood': 13899, 'anatoli': 13900, 'hut': 13901, 'degc': 13902, 'meadow': 13903, 'orchardwildlif': 13904, 'planetcop': 13905, 'polytunnel': 13906, 'robin': 13907, 'marn': 13908, 'aligarh': 13909, 'amualigarh': 13910, 'onward': 13911, 'bok': 13912, 'choy': 13913, 'curli': 13914, 'farmersamson': 13915, 'pawpaw': 13916, 'soillessfarmlab': 13917, 'swish': 13918, 'workandlearn': 13919, 'dryfruitbaket': 13920, 'nutrtit': 13921, 'energyboost': 13922, 'ऊरज': 13923, 'रखणयसठ': 13924, 'सपय': 13925, 'dietmyth': 13926, 'justpuch': 13927, 'weekendfun': 13928, 'healthistruewealth': 13929, 'pwd': 13930, 'festivaloflight': 13931, 'bomb': 13932, 'foodrevolut': 13933, 'tick': 13934, 'blast': 13935, 'fruitsupport': 13936, 'built_bar': 13937, 'burgerk': 13938, 'pizzahut': 13939, 'rubber': 13940, 'furan': 13941, 'menjar': 13942, 'menjarbé': 13943, 'salut': 13944, 'understood': 13945, 'cottagepi': 13946, 'roastbeef': 13947, 'rootveget': 13948, 'rutabaga': 13949, 'croatia': 13950, 'greec': 13951, 'serbia': 13952, 'spain': 13953, 'bounc': 13954, 'kgcc': 13955, 'prehalloween': 13956, 'foodupd': 13957, 'આમતરણ': 13958, 'એટલ': 13959, 'જક': 13960, 'ફડ': 13961, 'બમરન': 13962, 'agrograc': 13963, 'backyardgarden': 13964, 'eatwhatyougrow': 13965, 'evergrow': 13966, 'greenthumb': 13967, 'growwhatyoueat': 13968, 'homegarden': 13969, 'realisticlifestylez': 13970, 'realisticlivinz': 13971, 'hanimecem': 13972, 'nonavers': 13973, 'lunchmenu': 13974, 'razzmatazz': 13975, 'assimil': 13976, 'saturdayfeel': 13977, 'biomolecular': 13978, 'circuitri': 13979, 'cnr': 13980, 'memorya': 13981, 'morehttpstcobzrbazi': 13982, 'pozzuoli': 13983, 'positive_prim': 13984, 'positiveprim': 13985, 'jump': 13986, 'beatdiabet': 13987, 'defeatdiabet': 13988, 'observ': 13989, 'congress': 13990, 'oblig': 13991, 'drugresist': 13992, 'pairsonnalit': 13993, 'laddu': 13994, 'saturdaysoci': 13995, 'wei': 13996, 'doggi': 13997, 'pup': 13998, 'puppi': 13999, 'fullon': 14000, 'halloweencostum': 14001, 'nuturemit': 14002, 'yogurtbenefit': 14003, 'wintercar': 14004, 'खणयच': 14005, 'मळ': 14006, 'healthplanet': 14007, 'abettertim': 14008, 'actofkind': 14009, 'askhow': 14010, 'foodrescu': 14011, 'helpushelp': 14012, 'orphanag': 14013, 'sos_bali': 14014, 'drarnavmukherje': 14015, 'fruitsalad': 14016, 'homeopathysaf': 14017, 'homeopathytreat': 14018, 'homoeopathicmedicin': 14019, 'teethstrong': 14020, 'lifechang': 14021, 'smallth': 14022, 'beatoapp': 14023, 'applepan': 14024, 'fridaynight': 14025, 'joekilling': 14026, 'stake': 14027, 'tonightlos': 14028, 'victori': 14029, 'bjj': 14030, 'fkn': 14031, 'inbetween': 14032, 'mma': 14033, 'muaythai': 14034, 'repairhormon': 14035, 'detroit': 14036, 'amt': 14037, 'bridgethemicronutrientgap': 14038, 'gestur': 14039, 'gv': 14040, 'hardli': 14041, 'will': 14042, 'llifestyl': 14043, 'kidneyston': 14044, 'fd': 14045, 'debon': 14046, 'mixstarch': 14047, 'thefoodproject': 14048, 'worcestermag': 14049, 'hukitchen': 14050, 'tgif': 14051, 'anti': 14052, 'ibuprofen': 14053, 'eventbrit': 14054, 'livepaint': 14055, 'oakpark': 14056, 'taylord': 14057, 'thebrickhousega': 14058, 'foodtank': 14059, 'invis': 14060, 'un_ncd': 14061, 'escamenu': 14062, 'yummyfood': 14063, 'unevenli': 14064, 'wealthiest': 14065, 'bcb': 14066, 'greengold': 14067, 'oevo': 14068, 'olio': 14069, 'olioextraverginedioliva': 14070, 'olivetre': 14071, 'oroverd': 14072, 'sicili': 14073, 'sicilia': 14074, 'sicilianfood': 14075, 'cox': 14076, 'tedxlambethsalon': 14077, 'tedxtalk': 14078, 'mosley': 14079, 'halloweekend': 14080, 'renpho': 14081, 'renphoscal': 14082, 'smarthealthyliv': 14083, 'smartscal': 14084, 'eva': 14085, 'geta': 14086, 'neva': 14087, 'saladgreen': 14088, 'enjoywrit': 14089, 'foodwrit': 14090, 'freelancewrit': 14091, 'recipedevelop': 14092, 'magnesiumdefici': 14093, 'stockphoto': 14094, 'watermark': 14095, 'commondream': 14096, 'cornucopia': 14097, 'csquiremagazin': 14098, 'dontweightup': 14099, 'paradis': 14100, 'unattain': 14101, 'organicpercept': 14102, 'thehomebeautytip': 14103, 'homeworkout': 14104, 'officejob': 14105, 'cute': 14106, 'destin': 14107, 'instalik': 14108, 'lifequot': 14109, 'northeast': 14110, 'firm': 14111, 'labl': 14112, 'redvelvet': 14113, 'chicaaggressor': 14114, 'hazesomm': 14115, 'loberger': 14116, 'blissandstar': 14117, 'cederberg': 14118, 'delport': 14119, 'melissa': 14120, 'melissadelport': 14121, 'melissadelport_': 14122, 'gardenlif': 14123, 'gardenlov': 14124, 'moestuin': 14125, 'carib': 14126, 'costarica': 14127, 'puravida': 14128, 'skinnyfoodco': 14129, 'drjoshax': 14130, 'actifit': 14131, 'binanc': 14132, 'bsc': 14133, 'cryptocurr': 14134, 'cryptoinvestor': 14135, 'cryptonew': 14136, 'dailymotiv': 14137, 'defi': 14138, 'diningout': 14139, 'funniesttweet': 14140, 'unhaldi': 14141, 'choc': 14142, 'carpentri': 14143, 'cryptomoneyma': 14144, 'cryptotrad': 14145, 'gitfit': 14146, 'holida': 14147, 'makemoney': 14148, 'plumber': 14149, 'swimwar': 14150, 'rebal': 14151, 'weightlosshormon': 14152, 'behav': 14153, 'brennan': 14154, 'categoris': 14155, 'int': 14156, 'nutr': 14157, 'phi': 14158, 'saint': 14159, 'sinner': 14160, 'gmgvoiv': 14161, 'workforc': 14162, 'worldstrokeday': 14163, 'covidupd': 14164, 'deltavari': 14165, 'vaccinecenturi': 14166, 'bigb': 14167, 'srbachchan': 14168, 'statur': 14169, 'cookingathom': 14170, 'fallingoffthebon': 14171, 'oxtail': 14172, 'everytim': 14173, 'hardest': 14174, 'southindian': 14175, 'aphiwe_': 14176, 'gomolemosa_': 14177, 'healthychoicescount': 14178, 'breastcancerawarenessmonth': 14179, 'misinform': 14180, 'bakedpumpkin': 14181, 'australianfresh': 14182, 'ausveg': 14183, 'csiro': 14184, 'educationveg': 14185, 'feedingtheworld': 14186, 'nutritionaust': 14187, 'vegkit': 14188, 'chilipepp': 14189, 'painrelief': 14190, 'consciouscapit': 14191, 'africanamerican': 14192, 'koemanout': 14193, 'irregular': 14194, 'wrestl': 14195, 'cape': 14196, 'cederbergtour': 14197, 'clanwilliam': 14198, 'cpt': 14199, 'physicl': 14200, 'usdafoodsafeti': 14201, 'soooo': 14202, 'winterwarm': 14203, 'milkyway': 14204, 'furbabi': 14205, 'seawal': 14206, 'pakladi': 14207, 'recipebiotin': 14208, 'fallseason': 14209, 'endocrin': 14210, 'nonplast': 14211, 'washingtonpost': 14212, 'rxbar': 14213, 'giant': 14214, 'carter': 14215, 'crusoniaforum': 14216, 'iselectfund': 14217, 'jcarterwil': 14218, 'recepi': 14219, 'conspiraci': 14220, 'pbpitch': 14221, 'unsweeten': 14222, 'tamil': 14223, 'ஆரககய': 14224, 'உடல': 14225, 'உதவம': 14226, 'எடய': 14227, 'எளதல': 14228, 'கறகக': 14229, 'டர': 14230, 'பணண': 14231, 'பனஙகள': 14232, 'பரஙக': 14233, 'igundeep': 14234, 'whatsappforward': 14235, 'willing': 14236, 'agotoronto': 14237, 'weetbix': 14238, 'strongbon': 14239, 'goldenblossom': 14240, 'matchalatt': 14241, 'morningroutin': 14242, 'tenzo': 14243, 'bansal': 14244, 'bansalnew': 14245, 'livercar': 14246, 'liverdiseas': 14247, 'livertranspl': 14248, 'hydropon': 14249, 'foodchat': 14250, 'instantpot': 14251, 'meatandpotato': 14252, 'pakistanshopa': 14253, 'sansbuiicrap': 14254, 'lokhandwala': 14255, 'rcl': 14256, 'rclokhandwala': 14257, 'rotaract': 14258, 'आरगयच': 14259, 'घणयसठ': 14260, 'dubaiindustrialc': 14261, 'dxbsciencepark': 14262, 'lithuanian': 14263, 'परकर': 14264, 'पसतच': 14265, 'महत': 14266, 'dubaiindc': 14267, 'dubaisciencepark': 14268, 'ekincar': 14269, 'birlaayurveda': 14270, 'bloggershut': 14271, 'dogsofinstagram': 14272, 'knowcan': 14273, 'scrutin': 14274, 'afghanichickentikka': 14275, 'chickendish': 14276, 'chickentikka': 14277, 'intim': 14278, 'spiritualis': 14279, 'transmiss': 14280, 'mct': 14281, 'noncommunic': 14282, 'broscienc': 14283, 'hypertrophi': 14284, 'musclebuild': 14285, 'kate': 14286, 'winslet': 14287, 'bkkm': 14288, 'kilogramm': 14289, 'malaysianew': 14290, 'microgramm': 14291, 'noorhisham': 14292, 'μgkg': 14293, 'naturopathicdoctor': 14294, 'naturopathicmedicin': 14295, 'naturopathicmom': 14296, 'arugulalollo': 14297, 'bionda': 14298, 'botavia': 14299, 'bun': 14300, 'deliciousmoist': 14301, 'dorchest': 14302, 'hotelpark': 14303, 'lanelondon': 14304, 'lollo': 14305, 'minc': 14306, 'rosso': 14307, 'eat_healthi': 14308, 'wuhan_food': 14309, 'mentalil': 14310, 'banish': 14311, 'cellulit': 14312, 'seekjob': 14313, 'thenewdailyau': 14314, 'alibaba': 14315, 'bevegan': 14316, 'cashmer': 14317, 'feather': 14318, 'friendsnotfood': 14319, 'leather': 14320, 'silk': 14321, 'wool': 14322, 'alhamdulillah': 14323, 'cc': 14324, 'halal': 14325, 'recit': 14326, 'aujla': 14327, 'rupi': 14328, 'horrormovi': 14329, 'spooki': 14330, 'naumanniaz': 14331, 'healthyherb': 14332, 'antibodi': 14333, 'cadmium': 14334, 'induc': 14335, 'ampmuchmor': 14336, 'cfr': 14337, 'dicklevin': 14338, 'dontquit': 14339, 'gupta': 14340, 'holdthelin': 14341, 'johnsonandjohnson': 14342, 'killercur': 14343, 'loudouncounti': 14344, 'ltl': 14345, 'magajab': 14346, 'makethemfirey': 14347, 'mamabear': 14348, 'raysteven': 14349, 'choosehealth': 14350, 'delicu': 14351, 'rack': 14352, 'asphyxi': 14353, 'dihydrogen': 14354, 'koala': 14355, 'monoxid': 14356, 'chefjherb': 14357, 'soodelici': 14358, 'nitric': 14359, 'chá': 14360, 'cientista': 14361, 'ingestão': 14362, 'recomendam': 14363, 'verd': 14364, 'foodphttpstcovtpcxi': 14365, 'garlicand': 14366, 'wednesdaymorn': 14367, 'bonappetit': 14368, 'hangri': 14369, 'stresseat': 14370, 'ddlzan': 14371, 'lightyear': 14372, 'stude': 14373, 'ty': 14374, 'afganistan': 14375, 'boarder': 14376, 'brandon': 14377, 'coviddeath': 14378, 'fauchi': 14379, 'gasolin': 14380, 'trumpinfl': 14381, 'flakyfit': 14382, 'healthyn': 14383, 'bodyweight': 14384, 'banay': 14385, 'bhi': 14386, 'chahe': 14387, 'cookathom': 14388, 'dhaniya': 14389, 'gravi': 14390, 'haldi': 14391, 'koi': 14392, 'lalmirch': 14393, 'mirchi': 14394, 'rpure': 14395, 'rpuremasala': 14396, 'rpureproduct': 14397, 'rpurespic': 14398, 'tastyspic': 14399, 'joshipura': 14400, 'poorva': 14401, 'sippingthought': 14402, 'andhrapradesh': 14403, 'bezawada': 14404, 'tworldcup': 14405, 'vijayawada': 14406, 'ngoindia': 14407, 'bloodpressurebreak': 14408, 'reformul': 14409, 'careerpath': 14410, 'meaningfulwork': 14411, 'freecodefridaycontest': 14412, 'averageheight': 14413, 'phaeurp': 14414, 'phtipstrick': 14415, 'sewer': 14416, 'sludg': 14417, 'clarifiedbutt': 14418, 'manorinfin': 14419, 'lull': 14420, 'jamieoliv': 14421, 'jenni': 14422, 'winterwarmth': 14423, 'brianlaundri': 14424, 'itsredseason': 14425, 'ladyboss': 14426, 'newhom': 14427, 'sofa': 14428, 'solotravel': 14429, 'womenentrepreneur': 14430, 'inorgan': 14431, 'character': 14432, 'frugal': 14433, 'overdon': 14434, 'icmr': 14435, 'glamour': 14436, 'gsbacademi': 14437, 'gsbdiet': 14438, 'gsbfit': 14439, 'gsblife': 14440, 'gsbmotiv': 14441, 'gsbpathi': 14442, 'gsbstyle': 14443, 'gsbworkout': 14444, 'brownbread': 14445, 'doctorow': 14446, 'dozen': 14447, 'greas': 14448, 'gwyrdhanmor': 14449, 'phil_lewis_': 14450, 'bellpeppersth': 14451, 'bathroom': 14452, 'brisban': 14453, 'queenslandhealth': 14454, 'blackston': 14455, 'realasset': 14456, 'selfdefens': 14457, 'socialunrsst': 14458, 'stephenschwarzman': 14459, 'cu': 14460, 'leak': 14461, 'mustv': 14462, 'repmcgovern': 14463, 'borat': 14464, 'swimsuit': 14465, 'weightcut': 14466, 'irrit': 14467, 'noappetit': 14468, 'homoeopathyorgan': 14469, 'importantprincecharl': 14470, 'pfizersh': 14471, 'queenelizabeth': 14472, 'repres': 14473, 'vaccinatedwa': 14474, 'rawsewag': 14475, 'nasem': 14476, 'ainda': 14477, 'centeio': 14478, 'cereai': 14479, 'comer': 14480, 'emagrecimento': 14481, 'integrai': 14482, 'melhor': 14483, 'obesidad': 14484, 'pãe': 14485, 'demograph': 14486, 'shipfor': 14487, 'thaigroov': 14488, 'thaitradeusa': 14489, 'vitaminbdefici': 14490, 'littlebearproduc': 14491, 'produceforbetterhealth': 14492, 'jaundic': 14493, 'newborn': 14494, 'alternativepaintreat': 14495, 'chronicpain': 14496, 'paintreat': 14497, 'reflector': 14498, 'cbsrd': 14499, 'molass': 14500, 'mulberri': 14501, 'pomegranatemolass': 14502, 'fruitjuic': 14503, 'healthyjuic': 14504, 'taylordmindstudio': 14505, 'yogaforthepeoplebythepeopl': 14506, 'bplcnyc': 14507, 'foodblogfe': 14508, 'soupoftheday': 14509, 'souprecip': 14510, 'weightlossrecip': 14511, 'momcierg': 14512, 'insurmount': 14513, 'womensright': 14514, 'stain': 14515, 'pakvsnz': 14516, 'swallow': 14517, 'tmobiletuesday': 14518, 'ヤクルト優勝': 14519, 'alumna': 14520, 'ikarede_etyang': 14521, 'mb': 14522, 'yali_busiak': 14523, 'yalitransform': 14524, 'diettim': 14525, 'healthydish': 14526, 'jog': 14527, 'nevergiveup': 14528, 'irl': 14529, 'smaaall': 14530, 'enjoyingeverydaylif': 14531, 'livingthedream': 14532, 'arun': 14533, 'fssai': 14534, 'shri': 14535, 'singhal': 14536, 'motivationmonday': 14537, 'dn': 14538, 'kai_is_com': 14539, 'morrison': 14540, 'nawabmalik': 14541, 'nobailtoaryankhan': 14542, 'panfri': 14543, 'savagethwin': 14544, 'simplydiwali': 14545, 'solskjaer': 14546, '방탄소년단rm': 14547, 'chalkboardmag': 14548, 'feichicago': 14549, 'foodpreneurscom': 14550, 'expiri': 14551, 'lizard': 14552, 'nellai': 14553, 'thanjavur': 14554, 'unhygen': 14555, 'அதரட': 14556, 'கடயல': 14557, 'சதன': 14558, 'சவடஸ': 14559, 'நலல': 14560, 'பககடவல': 14561, 'பலல': 14562, 'atherosclerosi': 14563, 'ayurvedictreat': 14564, 'guggulu': 14565, 'tipsसणसदचयकळ': 14566, 'ayurvediclif': 14567, 'fixo': 14568, 'fixoinj': 14569, 'ltd': 14570, 'marc': 14571, 'medicinedeliveri': 14572, 'ovamarc': 14573, 'ovamarcplu': 14574, 'pharmaci': 14575, 'rehabililt': 14576, 'bunkyo': 14577, 'janan': 14578, 'nezunoya': 14579, 'ward': 14580, 'cathi': 14581, 'johninnescentr': 14582, 'jubile': 14583, 'oct': 14584, 'multigrainflour': 14585, 'liverdiseaseawar': 14586, 'trave': 14587, 'foodart': 14588, 'foodpanda': 14589, 'おいしい': 14590, '右下のラーメンコントは東八郎が浅草で始めた店の支店です古いチェーン店ですが案外工夫して現代風に攻めてます': 14591, '食事': 14592, 'guypoppi': 14593, 'jduartelincolnacuk': 14594, 'quinoabenefit': 14595, 'कवनआच': 14596, 'जगणयसठ': 14597, 'जवन': 14598, 'babarazam': 14599, 'eth': 14600, 'spiritualsunday': 14601, 'थयरईडवर': 14602, 'रमबण': 14603, 'blackfood': 14604, 'mick': 14605, 'offenc': 14606, 'lenti': 14607, 'pistacho': 14608, 'commemor': 14609, 'worldfoodday': 14610, 'safest': 14611, 'wigmor': 14612, 'habitu': 14613, 'blackric': 14614, 'rash': 14615, 'chill': 14616, 'netflixth': 14617, 'bevegetarian': 14618, 'worldheartday': 14619, 'hometownchachacha': 14620, 'requisit': 14621, 'ancestr': 14622, 'ancestralliv': 14623, 'anscetr': 14624, 'couchscc': 14625, 'hyperaha': 14626, 'hyphip': 14627, 'outlin': 14628, 'localbusi': 14629, 'permissiontod': 14630, 'safemoon': 14631, 'sexi': 14632, 'ultimahora': 14633, 'aapta': 14634, 'ayurpost': 14635, 'ayushministri': 14636, 'anticip': 14637, 'rundown': 14638, 'alterntivemedicin': 14639, 'eatyourpumpkin': 14640, 'goraw': 14641, 'healthyfat': 14642, 'antigrip': 14643, 'bromelain': 14644, 'glucosamin': 14645, 'kurkuma': 14646, 'papain': 14647, 'quercetin': 14648, 'stingingnettl': 14649, 'turmerik': 14650, 'reducedsugar': 14651, 'slightest': 14652, 'toothdecay': 14653, 'hou': 14654, 'desk': 14655, 'characterist': 14656, 'climateweeksa': 14657, 'diaris': 14658, 'drmarianeira': 14659, 'edctp': 14660, 'elsabebrit': 14661, 'healthenew': 14662, 'healthza': 14663, 'kerrycullinan': 14664, 'pcopaloma': 14665, 'safoodsov': 14666, 'whoafro': 14667, 'sugarday': 14668, 'chyawanprash': 14669, 'corporategift': 14670, 'energybar': 14671, 'healthygift': 14672, 'snake': 14673, 'uniquegift': 14674, 'chamomil': 14675, 'ioftnetworkplu': 14676, 'societ': 14677, 'thequadram': 14678, 'demystifi': 14679, 'misunderstood': 14680, 'plummet': 14681, '_a': 14682, 'foodshaala': 14683, 'guidestar': 14684, 'guidestarindia': 14685, 'transparencykey': 14686, 'downsid': 14687, 'gallic': 14688, 'gallicacid': 14689, 'असणऱय': 14690, 'लकन': 14691, 'bebrav': 14692, 'befirst': 14693, 'bodyfreedom': 14694, 'bodylov': 14695, 'doitoctob': 14696, 'endthetrend': 14697, 'intuitionchalleng': 14698, 'joinm': 14699, 'incid': 14700, 'nutrients_mdpi': 14701, 'unieastfinland': 14702, 'aliz': 14703, 'alizfood': 14704, 'zaitoonoil': 14705, 'buster': 14706, 'cashewmilk': 14707, 'कजच': 14708, 'चगलय': 14709, 'झपसठ': 14710, 'दध': 14711, 'terribl': 14712, 'trio': 14713, 'aioli': 14714, 'wasabi': 14715, 'anchor': 14716, 'healthindia': 14717, 'coercion': 14718, 'informedcons': 14719, 'appleg': 14720, 'drinkolipop': 14721, 'foodinstitut': 14722, 'gothamgreen': 14723, 'indoorfarm': 14724, 'reducetarian': 14725, 'bacter': 14726, 'wisconsinit': 14727, 'amread': 14728, 'bookclub': 14729, 'denmarkopen': 14730, 'eatmorepl': 14731, 'plantbasedvib': 14732, 'nationalfoodday': 14733, 'overh': 14734, 'reducg': 14735, 'unheat': 14736, 'asda': 14737, 'tesco': 14738, 'koo': 14739, 'warthog': 14740, 'cheek': 14741, 'chubbi': 14742, 'onlyatgoldsgym': 14743, 'wellnessthatwork': 14744, 'btryptophan': 14745, 'cantioxid': 14746, 'cbetacarotenefol': 14747, 'eantioxid': 14748, 'foodandwin': 14749, 'omegavitamin': 14750, 'ofcours': 14751, 'rentfre': 14752, 'aiimsrishi': 14753, 'rdaaiimsr': 14754, 'dewi': 14755, 'ident': 14756, 'ingot': 14757, 'inspirationd': 14758, 'insprad': 14759, 'logotyp': 14760, 'foodhealthandfit': 14761, 'redplat': 14762, 'goyal': 14763, 'pooja': 14764, 'mayonnais': 14765, 'losingweight': 14766, 'revi': 14767, 'asparagusfern': 14768, 'babyspinach': 14769, 'celeryapplejuic': 14770, 'celeryjuic': 14771, 'cilantrolimeric': 14772, 'epsteinbarr': 14773, 'freshparsley': 14774, 'greensalad': 14775, 'healthieropt': 14776, 'helpheal': 14777, 'telugunew': 14778, 'ఉదరమ': 14779, 'జగరతత': 14780, 'సమmu': 14781, 'funthingstodo': 14782, 'gettoknowu': 14783, 'resiliencechalleng': 14784, 'wti': 14785, 'fitbank': 14786, 'avers': 14787, 'drranj': 14788, 'foodphobia': 14789, 'phobic': 14790, 'dailytheclimax': 14791, 'dearth': 14792, 'englisharticl': 14793, 'foodawar': 14794, 'foodinsecurityawar': 14795, 'foodpreserv': 14796, 'javeriaaslam': 14797, 'javeriasipra': 14798, 'newspap': 14799, 'comfi': 14800, 'keepwalk': 14801, 'youngster': 14802, 'indiafightscorona': 14803, 'goodlif': 14804, 'loseweightfast': 14805, 'cacfp': 14806, 'ffktx': 14807, 'fluremedi': 14808, 'dill': 14809, 'festivevib': 14810, 'karwachauth': 14811, 'sight': 14812, 'milestonesca': 14813, 'clairecmc': 14814, 'homini': 14815, 'juanitasfood': 14816, 'menudo': 14817, 'mjqueen': 14818, 'pozol': 14819, 'uh': 14820, 'bousquet': 14821, 'candid': 14822, 'heterogen': 14823, 'wiley': 14824, 'intercrop': 14825, 'patch': 14826, 'butterbiscuit': 14827, 'dei': 14828, 'farmerbrownthamc': 14829, 'johnhennryharri': 14830, 'marginalutil': 14831, 'landownership': 14832, 'token': 14833, 'ediblevaccin': 14834, 'impossiblemeat': 14835, 'mcplant': 14836, 'オレンジジュース': 14837, 'aniruddhsarkar': 14838, 'doctorstip': 14839, 'doteshop': 14840, 'kolkata': 14841, 'parthaskar': 14842, 'twitterspac': 14843, 'vani_mehrotra': 14844, 'gwillimdal': 14845, 'stack': 14846, 'consecut': 14847, 'ranikitchen': 14848, 'weightlossjuic': 14849, 'manchurian': 14850, 'aworldoftastesinstantli': 14851, 'swaduniya': 14852, 'mojika': 14853, 'papdi': 14854, 'soan': 14855, 'chakra': 14856, 'winwithasmil': 14857, 'yogainspir': 14858, 'essenc': 14859, 'clinicaldietician': 14860, 'dtreema': 14861, 'foodsynergi': 14862, 'gautamgambhir': 14863, 'rasoi': 14864, 'shakarpur': 14865, 'responsiblebiryani': 14866, 'waitless': 14867, 'infodxbusinessgroupcom': 14868, 'webdevelop': 14869, 'breakfasttim': 14870, 'lyche': 14871, 'andheri': 14872, 'bandra': 14873, 'churchgat': 14874, 'rotaract_msp': 14875, 'zumba': 14876, 'boostimmunesystem': 14877, 'fruitsveget': 14878, 'immunity_boostingfood': 14879, 'helathylif': 14880, 'termin': 14881, 'terminatorkit': 14882, 'traxag': 14883, 'traxage': 14884, 'traxagetab': 14885, 'lifetim': 14886, 'prerequisit': 14887, 'cerealsmiamiam': 14888, 'pollin': 14889, 'overheard': 14890, 'saturdaymood': 14891, 'slurrpoverheardkitchen': 14892, 'doze': 14893, 'coutinho': 14894, 'festive': 14895, 'luke': 14896, 'lukecoutinho': 14897, 'ashthewiz': 14898, 'bkum': 14899, 'chibskycoo': 14900, 'drshalinisdiet': 14901, 'gaurikasbekar': 14902, 'jbgokhal': 14903, 'monocularshark': 14904, 'nofilteranjali': 14905, 'payalnangia': 14906, 'rajeshsarrin': 14907, 'rspathania': 14908, 'choosetobehealthi': 14909, 'unlimitedfood': 14910, 'fisher': 14911, 'holdon': 14912, 'ouch': 14913, 'shepherd': 14914, 'chillvib': 14915, 'eatout': 14916, 'youngerwithmarsh': 14917, 'barrycallebaut': 14918, 'cacaofruit': 14919, 'callebaut': 14920, 'elix': 14921, 'fruitdrink': 14922, 'mmr': 14923, 'newswiretoday': 14924, 'cremini': 14925, 'soufflé': 14926, 'kitti': 14927, 'purina': 14928, 'attitudesact': 14929, 'ipso': 14930, 'prioritiesbehavior': 14931, 'shopper': 14932, 'tetrapak': 14933, 'animalsofinstagram': 14934, 'harmnon': 14935, 'witchtob': 14936, 'cottonwood': 14937, 'swore': 14938, 'tacobel': 14939, 'nationalnutday': 14940, 'impo': 14941, 'covidiot': 14942, 'fauci': 14943, 'germtheori': 14944, 'healthyself': 14945, 'mindsbodysoul': 14946, 'purgingtoxin': 14947, 'shivambu': 14948, 'urinetherapi': 14949, 'foodinfo': 14950, 'akwyz': 14951, 'betamoroney': 14952, 'fabriziobustama': 14953, 'frronconi': 14954, 'greenbiz': 14955, 'ianljon': 14956, 'pawlowskimario': 14957, 'sallyeav': 14958, 'theadityapatro': 14959, 'tobiaskintzel': 14960, 'treasadovand': 14961, 'arogya': 14962, 'aṣṭāṅgahṛdayam': 14963, 'drjvhebbar': 14964, 'easyayurveda': 14965, 'goodheath': 14966, 'goodnatur': 14967, 'pardon': 14968, 'sutrasthana': 14969, 'healthyopt': 14970, 'liber': 14971, 'yatesestatesga': 14972, 'concert': 14973, 'myvancouv': 14974, 'scene': 14975, 'theatr': 14976, 'vancouv': 14977, 'multist': 14978, 'julyaugust': 14979, 'animalhealth': 14980, 'fcahamppt': 14981, 'goatandsheep': 14982, 'morehttpstcojibmhui': 14983, 'nuffic': 14984, 'poultryfarm': 14985, 'provost': 14986, 'nonleg': 14987, 'ufoteach': 14988, 'readlabel': 14989, 'sentient_media': 14990, 'thinkaboutit': 14991, 'baysid': 14992, 'collegepoint': 14993, 'iloveni': 14994, 'kewgarden': 14995, 'throgsneck': 14996, 'whiteston': 14997, 'doonfood': 14998, 'kadhai': 14999, 'kafuli': 15000, 'knosh': 15001, 'erectiledysfunct': 15002, 'flavanon': 15003, 'flavon': 15004, 'octobernovemb': 15005, 'aloksharma': 15006, 'healthandclim': 15007, 'healthprior': 15008, 'iol': 15009, 'parisagr': 15010, 'sha_zar': 15011, 'topnigel': 15012, 'curtail': 15013, 'medi': 15014, 'remark': 15015, 'sciencecentr': 15016, 'sciencefact': 15017, 'badbunnytwitch': 15018, 'fiori_au': 15019, 'onegreenplanet': 15020, 'beveragereboot': 15021, 'breakfastreboot': 15022, 'fitnessregi': 15023, 'healthstatu': 15024, 'healthtest': 15025, 'healthtracka': 15026, 'ibadan': 15027, 'keepitr': 15028, 'healthnew': 15029, 'healthupd': 15030, 'lalluram': 15031, 'lalluramnew': 15032, 'viralnew': 15033, 'कटरल': 15034, 'चज': 15035, 'बरकफसट': 15036, 'मरज': 15037, 'रहग': 15038, 'हमश': 15039, 'bruschetta': 15040, 'aestheticedit': 15041, 'foodholiday': 15042, 'nationalholiday': 15043, 'retro': 15044, 'vintagestyl': 15045, 'sleephal': 15046, 'sugarandhealth': 15047, 'weeken': 15048, 'flashpoint': 15049, 'middleeast': 15050, 'pakistanindia': 15051, 'spermcount': 15052, 'celebritynutritionist': 15053, 'experttip': 15054, 'hfss': 15055, 'highfibr': 15056, 'kelloggcompani': 15057, 'newproductlaunch': 15058, 'portfolio': 15059, 'variat': 15060, 'cinnamomum': 15061, 'knowledgeshar': 15062, 'braindevelop': 15063, 'chawla': 15064, 'development': 15065, 'nuero': 15066, 'paediatr': 15067, 'vidhi': 15068, 'fastingforhealth': 15069, 'fastingforweightloss': 15070, 'hormonalhealth': 15071, 'alisonbrown__': 15072, 'julinlee_': 15073, 'madi_bering': 15074, 'meghan_finch': 15075, 'melhutchesson': 15076, 'nayerraapd': 15077, 'nutritiontessa': 15078, 'penelopevlov': 15079, 'proftburrow': 15080, 'rachelboakphd': 15081, 'rachsutherland': 15082, 'unsunghero': 15083, 'ovariancanc': 15084, 'ovariancancerawar': 15085, 'ovariancancersurvivor': 15086, 'spe': 15087, 'speshospit': 15088, 'unhealthylifestyl': 15089, 'artofliv': 15090, 'ihmahm': 15091, 'incredibleindia': 15092, 'readersdigest': 15093, 'singaporeair': 15094, 'singaporetouri': 15095, 'srisri': 15096, 'tourismgoi': 15097, 'wonderchef': 15098, 'yasministri': 15099, 'hea': 15100, 'dailyquot': 15101, 'dailywisdom': 15102, 'sadhguruquot': 15103, 'looov': 15104, '反差婊': 15105, 'intrigu': 15106, 'ritesh': 15107, 'bung': 15108, 'vanaspati': 15109, 'entri': 15110, 'kadai': 15111, 'monsooncompetitionalert': 15112, 'mummi': 15113, 'osam': 15114, 'fiendishli': 15115, 'spider': 15116, 'vampir': 15117, 'fuji': 15118, 'gala': 15119, 'granni': 15120, 'honeycrisp': 15121, 'nationalappleday': 15122, 'bleak': 15123, 'gordoncorera': 15124, 'tension': 15125, 'antiobes': 15126, 'obesityawar': 15127, 'avenu': 15128, 'nypdpct': 15129, 'raffl': 15130, 'therel': 15131, 'uniti': 15132, 'amazingli': 15133, 'dividend': 15134, 'factual': 15135, 'triciasilverman': 15136, 'mead': 15137, 'whitetea': 15138, 'uncoveringthenewu': 15139, 'ic': 15140, 'spicedigezt': 15141, 'trademark': 15142, 'ceso': 15143, 'cplp': 15144, 'guineabissau': 15145, 'paus': 15146, 'resum': 15147, 'undp': 15148, 'fairtrad': 15149, 'reckon': 15150, 'foodborneil': 15151, 'sabotag': 15152, 'shippingsuppli': 15153, 'checkup': 15154, 'email_': 15155, 'fitnesa': 15156, 'morgagroup': 15157, 'organicfoodfamili': 15158, 'organicfoodfamilypkgmailcom': 15159, 'organicqehwa': 15160, 'qehwa': 15161, 'diner': 15162, 'ligue_des_optimist': 15163, 'lovemyjob': 15164, 'medecin': 15165, 'medicalconfer': 15166, 'santé': 15167, 'bagillt': 15168, 'communitygarden': 15169, 'instagold': 15170, 'alphagalileo': 15171, 'tuftsunivers': 15172, 'haveapl': 15173, 'centra_irl': 15174, 'lidlireland': 15175, 'supervalu': 15176, 'पटशयमयकत': 15177, 'फडस': 15178, 'hungerhub': 15179, 'marijuanastock': 15180, 'otc': 15181, 'potstock': 15182, 'smallcap': 15183, 'yamchop': 15184, 'genx': 15185, 'sooooo': 15186, 'rampd': 15187, 'foodproduct': 15188, 'kisumu': 15189, 'daysmust': 15190, 'awwwwwww': 15191, 'cuppa': 15192, 'naturalskincar': 15193, 'sting': 15194, 'woke': 15195, 'lohit': 15196, 'mohan': 15197, 'naruradhakrish': 15198, 'ope': 15199, 'rao_safeharvest': 15200, 'safe_harvest': 15201, 'outlookposhan': 15202, 'chadduma': 15203, 'flakey': 15204, 'occas': 15205, 'naturebasedsolut': 15206, 'nationalapplepieday': 15207, 'farmtofork': 15208, 'penguinindia': 15209, 'penguinrandom': 15210, 'brainsupport': 15211, 'scrumptiou': 15212, 'shashuka': 15213, 'aihm_chd': 15214, 'arrang': 15215, 'uscanada': 15216, '吃要養生血壓才不會高': 15217, '病要早看心情就不會糟': 15218, 'foodenviron': 15219, 'healthhygien': 15220, 'jobsbusi': 15221, 'saniti': 15222, 'terawatt': 15223, 'fukui': 15224, 'wonderlust': 15225, '早朝': 15226, '最近は暗闇の中で早朝ジョギング': 15227, 'npr': 15228, 'qualityoflif': 15229, 'unbalanc': 15230, 'freshwat': 15231, 'emoji': 15232, 'dieteticintern': 15233, 'newjersey': 15234, 'rdbe': 15235, 'seiz': 15236, 'ayuwel': 15237, 'drvijay': 15238, 'herbalist': 15239, 'julia': 15240, 'murthi': 15241, 'ukhealthradio': 15242, 'cyclecam': 15243, 'dailylif': 15244, 'downtown': 15245, 'mealplanningbeautifulpeopleandplacesinindi': 15246, 'visitindi': 15247, 'kingarthurflour': 15248, 'organisationchildrenmiseryha': 15249, 'cv': 15250, 'humpday': 15251, 'iamablogg': 15252, 'wednesdaymood': 15253, 'cla': 15254, 'antibioticresist': 15255, 'herbaln': 15256, 'familyguy': 15257, 'pace': 15258, 'drought': 15259, 'underscor': 15260, 'costswyom': 15261, 'immigrantsareessenti': 15262, 'profitsusa': 15263, 'shortagestyson': 15264, 'where': 15265, 'foodfood': 15266, 'ambassador': 15267, 'frédéric': 15268, 'pdo': 15269, 'pélardon': 15270, 'owl': 15271, 'tranquil': 15272, 'mouthcanc': 15273, 'mouthdiseas': 15274, 'oralcanc': 15275, 'oralcancerawar': 15276, 'tonguecanc': 15277, 'audiovisu': 15278, 'boycott': 15279, 'currenc': 15280, 'olymp': 15281, 'devaaya_ayurv': 15282, 'goa': 15283, 'gofirstairway': 15284, 'mercurebangalor': 15285, 'sattvan': 15286, 'shibanikashyap': 15287, 'malaria': 15288, 'softdrink': 15289, 'marketingtwitt': 15290, 'publix': 15291, 'immunesupport': 15292, 'agribusin': 15293, 'gggi': 15294, 'kiribati': 15295, 'qatar_fund': 15296, 'brightlines': 15297, 'eatingdisorderrecoveri': 15298, 'veganfriendli': 15299, 'dignitystrik': 15300, 'freepalestin': 15301, 'humanrightsviol': 15302, 'israeliterror': 15303, 'palestin': 15304, 'terror': 15305, 'terrorist': 15306, 'deleteri': 15307, 'argu': 15308, 'nod': 15309, 'pediatrician': 15310, 'reprimand': 15311, 'son': 15312, 'celiac': 15313, 'lyme': 15314, 'hd': 15315, 'blackhealth': 15316, 'chorizo': 15317, 'proteinleverag': 15318, 'netherland': 15319, 'sustainableurbandelta': 15320, 'utrecht': 15321, 'whatsfordlnn': 15322, 'foodallergymom': 15323, 'babystep': 15324, 'blatantli': 15325, 'caramel': 15326, 'cooler': 15327, 'healthyaltern': 15328, 'skinni': 15329, 'sarahkimani': 15330, 'uji': 15331, 'accuratespeci': 15332, 'wfh': 15333, 'dietdoctor': 15334, 'xsugar': 15335, 'eatwith': 15336, 'eveningsnack': 15337, 'fya': 15338, 'promotersearch': 15339, 'rave': 15340, 'sticki': 15341, 'thispromot': 15342, 'xfactoruk': 15343, 'enact': 15344, 'goodnewspfa': 15345, 'pfasroadmap': 15346, 'biomass': 15347, 'soot': 15348, 'perfom': 15349, 'gdonn': 15350, 'inspiratit': 15351, 'psa': 15352, 'heartukchar': 15353, 'rinkisharma': 15354, 'transfatfreechildren': 15355, 'hjl': 15356, 'jd': 15357, 'tray': 15358, 'bigmac': 15359, 'britain': 15360, 'cheshir': 15361, 'mcflurri': 15362, 'trafford': 15363, 'traffordcentr': 15364, 'getfitwithjey': 15365, 'ayurvedalif': 15366, 'ayurvedalifestyl': 15367, 'dietfordosha': 15368, 'dietforpitta': 15369, 'dietforpittadosha': 15370, 'dosha': 15371, 'pittadiet': 15372, 'pittadosha': 15373, 'shreevarma': 15374, 'உணவ': 15375, 'சமநலயகக': 15376, 'சரயன': 15377, 'பதததத': 15378, 'பழககதத': 15379, 'மறகளள': 15380, 'வணடம': 15381, 'carrotspair': 15382, 'crinkl': 15383, 'johnni': 15384, 'macaroni': 15385, 'marzano': 15386, 'marzettii': 15387, 'okraitalian': 15388, 'spinoff': 15389, 'cookiedough': 15390, 'bittermelon': 15391, 'soyproduct': 15392, 'stark': 15393, 'asha': 15394, 'socialservic': 15395, 'circularyork': 15396, 'clarionlaw': 15397, 'textil': 15398, 'underpin': 15399, 'peterstefanovi': 15400, 'chappati': 15401, 'salaiva': 15402, 'எசசல': 15403, 'ஓடடலல': 15404, 'கத': 15405, 'சபபததயல': 15406, 'சமதத': 15407, 'சமயலகரர': 15408, 'தபப': 15409, 'eastdulwich': 15410, 'lewisham': 15411, 'dunia': 15412, 'duniakagyan': 15413, 'gyan': 15414, 'patanjali': 15415, 'quora': 15416, 'trendingnow': 15417, 'caution': 15418, 'bachchukadu': 15419, 'childdevelop': 15420, 'childspecialist': 15421, 'jayashreedeshmukh': 15422, 'maharashtra': 15423, 'pregnantmoth': 15424, 'rubalagarw': 15425, 'sproutsnew': 15426, 'tender': 15427, 'harkemayonnais': 15428, 'চললই': 15429, 'নযম': 15430, 'মন': 15431, 'সহজ': 15432, 'resort': 15433, 'swiggy_in': 15434, 'zomato': 15435, 'healthcarefoodserviceweek': 15436, 'quotient': 15437, 'byrdiebeauti': 15438, 'punch': 15439, 'bufvsten': 15440, 'calgaryelect': 15441, 'calgaryvot': 15442, 'dirtywat': 15443, 'dwt': 15444, 'redsox': 15445, 'titanup': 15446, 'wweraw': 15447, 'yyccc': 15448, 'yycvot': 15449, 'length': 15450, 'dropthefood': 15451, 'milkteaalli': 15452, 'ac': 15453, 'bloodwork': 15454, 'brick': 15455, 'drinksfood': 15456, 'labdata': 15457, 'mgdl': 15458, 'tortur': 15459, 'gilmor': 15460, 'interf': 15461, 'jaagograhakjaago': 15462, 'saynotounregulatedsocialmedia': 15463, 'cookin': 15464, 'gainz': 15465, 'monstermash': 15466, 'rhodeisland': 15467, 'jule': 15468, 'robson': 15469, 'soulfood': 15470, 'precursor': 15471, 'tryptophan': 15472, 'halfmarathon': 15473, 'runner': 15474, 'daunt': 15475, 'overhaul': 15476, 'multidimension': 15477, 'fighton': 15478, 'trojan': 15479, 'usc': 15480, 'wendinutritionwithwendicom': 15481, 'chokeberri': 15482, 'womenincrypto': 15483, 'memoryloss': 15484, 'artificialsweeten': 15485, 'foodcrav': 15486, 'sugaraltern': 15487, 'exhibit': 15488, 'frankfurt': 15489, 'categor': 15490, 'hallmark': 15491, 'noom': 15492, 'rigid': 15493, 'pelangs': 15494, 'rapese': 15495, 'roastpotato': 15496, 'applaud': 15497, 'context': 15498, 'wtfit': 15499, 'autumnfal': 15500, 'sniffli': 15501, 'lowdensitylipoprotein': 15502, 'roizen': 15503, 'coolest': 15504, 'xxl': 15505, 'charlott': 15506, 'denmark': 15507, 'jacobsen': 15508, 'microencapsul': 15509, 'technic': 15510, 'bred': 15511, 'perenni': 15512, 'daniel': 15513, 'danielplan': 15514, 'hopefulbreakfast': 15515, 'jessicasjourney': 15516, 'newadventur': 15517, 'recipesbut': 15518, 'bjp': 15519, 'जन': 15520, 'जर': 15521, 'blackpink': 15522, 'jaketiesl': 15523, 'jerretj': 15524, 'peopleb': 15525, 'trainenmetjerretj': 15526, 'beingbrigid': 15527, 'mealoftheday': 15528, 'teenag': 15529, 'deet': 15530, 'browntop': 15531, 'diversityinnutrit': 15532, 'pricey': 15533, 'fruitveg': 15534, 'simbrix': 15535, 'geekspinco': 15536, 'anger': 15537, 'barker': 15538, 'grass': 15539, 'grower': 15540, 'sofrito': 15541, 'dietworkout': 15542, 'lumaslim': 15543, 'reviewsmust': 15544, 'badenergi': 15545, 'vib': 15546, 'abisgold': 15547, 'axi': 15548, 'biocel': 15549, 'eatrightindia': 15550, 'eatrrighttiruvallur': 15551, 'foodsaf': 15552, 'chamomiletea': 15553, 'traffordfi': 15554, 'xonecol': 15555, 'vectorart': 15556, 'vectordesign': 15557, 'dabur': 15558, 'passionateinmarket': 15559, 'pim': 15560, 'calvit': 15561, 'calvit_hd': 15562, 'calvit_lc': 15563, 'calvit_lc_strong': 15564, 'marcogesic_oil': 15565, 'forwardassist': 15566, 'saluteheruk': 15567, 'puneetsharma': 15568, 'sampurnafound': 15569, 'tempeh': 15570, 'tempehrecip': 15571, 'adambandt': 15572, 'zerohedg': 15573, 'arab': 15574, 'empanada': 15575, 'alphameta': 15576, 'bzzworld': 15577, 'claraaguilera': 15578, 'deputi': 15579, 'filiera_italia': 15580, 'icsaireland': 15581, 'hafizjuicecorn': 15582, 'hamzaahoffici': 15583, 'kkb': 15584, 'uzairahmad': 15585, 'ahsleylauren': 15586, 'ceramiracl': 15587, 'invin': 15588, 'yourstylegroup': 15589, 'herbalsuppl': 15590, 'stopmyth': 15591, 'bettermood': 15592, 'vegconomist': 15593, 'usindia': 15594, 'worldfood': 15595, 'foodpyramid': 15596, 'akki': 15597, 'obesityfreen': 15598, 'riceflour': 15599, 'maze': 15600, 'mediblurb': 15601, 'ohiost': 15602, 'ref': 15603, 'newjunk': 15604, 'mycolog': 15605, 'kitchenwitch': 15606, 'memestagram': 15607, 'spite': 15608, 'itchi': 15609, 'drmarkhyman': 15610, 'projectdrawdown': 15611, 'chefjamesoakley': 15612, 'deoctubr': 15613, 'ensalada': 15614, 'felizdomingo': 15615, 'healtyfood': 15616, 'kl': 15617, 'thebatman': 15618, 'possess': 15619, 'dha': 15620, 'haha': 15621, 'homeeconom': 15622, 'idk': 15623, 'luckili': 15624, 'tlap': 15625, 'untouch': 15626, 'listsforal': 15627, 'smileswitch': 15628, 'justlif': 15629, 'greasefre': 15630, 'pastachees': 15631, 'potatochip': 15632, 'marbella': 15633, 'adrak': 15634, 'kadak': 15635, 'wali': 15636, 'bareilli': 15637, 'dietguru': 15638, 'fitnessguru': 15639, 'healthguru': 15640, 'nutritionguru': 15641, 'ratankumargupta': 15642, 'wellnessguru': 15643, 'compat': 15644, 'hb': 15645, 'amlajuic': 15646, 'amlapowd': 15647, 'marco': 15648, 'yogi': 15649, 'legit': 15650, 'meticor': 15651, 'reviewsscam': 15652, 'cellxrenew': 15653, 'complain': 15654, 'barefoot': 15655, 'bidensamerica': 15656, 'clotshot': 15657, 'spanish': 15658, 'voteblu': 15659, 'annalapp': 15660, 'lairmoredvmdean': 15661, 'myfoodallergi': 15662, 'advocaci': 15663, 'harvestfestiv': 15664, 'perk': 15665, 'aspir': 15666, 'cattreat': 15667, 'chickensoup': 15668, 'kitten': 15669, 'metabolismboost': 15670, 'चयपचय': 15671, 'यबददल': 15672, 'सवसतर': 15673, 'ecoplanetfarm': 15674, 'stingless': 15675, 'brainboostingfood': 15676, 'मदचय': 15677, 'मलचय': 15678, 'वकससठ': 15679, 'authackeray': 15680, 'banegaswasthind': 15681, 'chaitanya_pm': 15682, 'dighavkarkiran': 15683, 'mahimresid': 15684, 'mayor_mumbai': 15685, 'pbndtv': 15686, 'worldfooddayour': 15687, 'foodhero': 15688, 'peterrabbitfoodhero': 15689, 'reiter': 15690, 'fastandup_india': 15691, 'kailasa': 15692, 'nithyananda': 15693, 'nonviol': 15694, 'srinithyananda': 15695, 'regenerativeagricultur': 15696, 'corporatewel': 15697, 'corporatewellb': 15698, 'execfuel': 15699, 'plantabs': 15700, 'setback': 15701, 'contrast': 15702, 'necessitiessuch': 15703, 'undermin': 15704, 'feedyourbodi': 15705, 'faulti': 15706, 'foodwastag': 15707, 'beautifulpeopleandplacesinindi': 15708, 'indi': 15709, 'allrecip': 15710, 'loav': 15711, 'blanch': 15712, 'famreciperoot': 15713, 'kitchentrick': 15714, 'youtubegtgt': 15715, 'sponsorachild': 15716, 'handwa': 15717, 'navratri': 15718, 'biblia': 15719, 'godisgood': 15720, 'gratefulandbless': 15721, 'mornninhg': 15722, 'naturephotographi': 15723, 'seekingakidney': 15724, 'maha_tour': 15725, 'maharashtrian': 15726, 'modak': 15727, 'cstoryboard': 15728, 'toothach': 15729, 'mekel': 15730, 'sieg': 15731, 'soulwel': 15732, 'thesoulwellspot': 15733, 'wyntersweet': 15734, 'wyntersweetentertain': 15735, 'healthyplanet': 15736, 'karuyauniv': 15737, 'futureofhealth': 15738, 'jiffi': 15739, 'mealpprep': 15740, 'hip': 15741, 'bonesaf': 15742, 'bonesafe_plu': 15743, 'bonesafe_plus_syp': 15744, 'bonesafemax': 15745, 'bonesafemg': 15746, 'bonesafeplu': 15747, 'eggsegg': 15748, 'prostrat': 15749, 'hridayam': 15750, 'rasayan': 15751, 'shatavari': 15752, 'uplift': 15753, 'internationaldevelop': 15754, 'thenasiotrust': 15755, 'matej': 15756, 'percentof': 15757, 'slovenia': 15758, 'stegar': 15759, 'wmo_omm': 15760, 'worldspopul': 15761, 'foodday': 15762, 'airpurifi': 15763, 'atlantahealthcar': 15764, 'indoorpollut': 15765, 'bewisebewealthi': 15766, 'renzglob': 15767, 'vedicyug': 15768, 'foodal': 15769, 'virgina': 15770, 'woolf': 15771, 'cataract': 15772, 'optometri': 15773, 'fahaneo': 15774, 'rheumatoidarthr': 15775, 'rheumatoidarthritisawar': 15776, 'rheumatoidarthritiswarrior': 15777, 'freshest': 15778, 'faoknowledg': 15779, 'wfd': 15780, 'incontrol': 15781, 'teresa': 15782, 'takeact': 15783, 'biobas': 15784, 'click_nl': 15785, 'ddw': 15786, 'designembassi': 15787, 'designunitednl': 15788, 'drivefestiv': 15789, 'mariekeeyskoot': 15790, 'uphttpstcoywdwukn': 15791, 'prasanna': 15792, 'dontwastefood': 15793, 'getitqa': 15794, 'getitshop': 15795, 'qataronlinesal': 15796, 'savefood': 15797, 'savelif': 15798, 'pledg': 15799, 'wastag': 15800, 'tgp': 15801, 'fitnshap': 15802, 'mitadtunivers': 15803, 'worldclasseduc': 15804, 'chefalimandhri': 15805, 'farmeronfir': 15806, 'managu': 15807, 'ngwace': 15808, 'prioritis': 15809, 'sagaa': 15810, 'sdgadvocacyhub': 15811, 'noplanetb': 15812, 'lindadorghana': 15813, 'artworld': 15814, 'mural': 15815, 'picassau': 15816, 'streetart': 15817, 'dizzi': 15818, 'fitnessandhealth': 15819, 'ajmeranatur': 15820, 'appleev': 15821, 'bollywood': 15822, 'leeknow': 15823, 'lfc': 15824, 'shehnaazgil': 15825, 'lifelin': 15826, 'thinddent': 15827, 'thinddentalclin': 15828, 'world_food_day': 15829, 'amiridiwan': 15830, 'baladiya': 15831, 'khayrqatarna': 15832, 'tamimbinhamad': 15833, 'crumb': 15834, 'nook': 15835, 'nowast': 15836, 'sustainabledevelopmentgo': 15837, 'architecturalhardwar': 15838, 'lock': 15839, 'wastefood': 15840, 'happydashain': 15841, 'detriment': 15842, 'gobardhan': 15843, 'gobarga': 15844, 'rdwsd': 15845, 'reus': 15846, 'safefood': 15847, 'swachhbharat': 15848, 'swachhbharatgov': 15849, 'explorepag': 15850, 'reelsinstagram': 15851, 'tph': 15852, 'worldfoodday_': 15853, 'clutch': 15854, 'letseat': 15855, 'motionray': 15856, 'foodforal': 15857, 'bharath': 15858, 'narendramodi': 15859, 'racism': 15860, 'rateyourn': 15861, 'भरत': 15862, 'happyworldfoodday': 15863, 'nurit': 15864, 'reducewast': 15865, 'maadurga': 15866, 'mahisashur': 15867, 'puja': 15868, 'tastydairynavratricontest': 15869, 'haarveenkaaur': 15870, 'imtiyaz': 15871, 'mahisasur': 15872, 'racer_veb': 15873, 'anublu': 15874, 'ayush_bhakkad': 15875, 'im_sarang__': 15876, 'iambellfit': 15877, 'gruham': 15878, 'gruhamdevelop': 15879, 'diapointm': 15880, 'foodheaven': 15881, 'balancetonpost': 15882, 'godmorningsaturday': 15883, 'livelyyogita': 15884, 'अपर': 15885, 'एनरज': 15886, 'द': 15887, 'शरर': 15888, 'सतलत': 15889, 'midmealsnack': 15890, 'nofarmersnofood': 15891, 'worldfoodbank': 15892, 'keralalivenew': 15893, 'keralanew': 15894, 'malayalamlivenew': 15895, 'malayalamnew': 15896, 'newschannel': 15897, 'tatwamayi': 15898, 'tatwamayinew': 15899, 'tatwamayitv': 15900, 'അറഞഞരകകണ': 15901, 'ഈ': 15902, 'കഴകകമപൾ': 15903, 'ഗണങങൾ': 15904, 'മതതങങ': 15905, 'helen': 15906, 'invinc': 15907, 'keller': 15908, 'audaili': 15909, 'eathealthyfood': 15910, 'honesti': 15911, 'murugan': 15912, 'straw': 15913, 'coco': 15914, 'havingfun': 15915, 'pigout': 15916, 'healthyplateclub': 15917, 'inova': 15918, 'bulimia': 15919, 'couric': 15920, 'kati': 15921, 'katiecour': 15922, 'bioeconomi': 15923, 'infoday': 15924, 'times': 15925, 'mustardglaz': 15926, 'nakfi': 15927, 'falafel': 15928, 'bretman': 15929, 'ivermectin': 15930, 'livermectin': 15931, 'realelmaximo': 15932, 'realspikecohen': 15933, 'freak': 15934, 'fòod': 15935, 'mî': 15936, 'misdirect': 15937, 'howtoeattol': 15938, 'childrenneedhelp': 15939, 'haiti': 15940, 'poororphan': 15941, 'zig': 15942, 'ziglar': 15943, 'topstori': 15944, 'adaptogen': 15945, 'inositol': 15946, 'proprietari': 15947, 'fakefood': 15948, 'pebblebrain': 15949, 'shit': 15950, 'accus': 15951, 'deed': 15952, 'economicdevelop': 15953, 'fals': 15954, 'globalhungerindex': 15955, 'joblessgrowth': 15956, 'manipul': 15957, 'milligram': 15958, 'danon': 15959, 'aunt': 15960, 'creativenonfict': 15961, 'folli': 15962, 'nonfict': 15963, 'tracey': 15964, 'eggwhit': 15965, 'westham': 15966, 'agrifoodcapit': 15967, 'dutchfoodweek': 15968, 'hometown': 15969, 'tomorrowfrom': 15970, 'shockingli': 15971, 'bambino': 15972, 'dussehra': 15973, 'quickvermicelli': 15974, 'vermicelli': 15975, 'assam': 15976, 'bokajan': 15977, 'dimapur': 15978, 'keshab_mahanta': 15979, 'nagaland': 15980, 'nhm_assam': 15981, 'reportedli': 15982, 'timenew': 15983, 'carbohydratesbenefit': 15984, 'agnew': 15985, 'healthinform': 15986, 'rawrecip': 15987, 'charcuteri': 15988, 'highproteindiet': 15989, 'kidneyhealth': 15990, 'worldkidneyday': 15991, 'stimuli': 15992, 'sacrific': 15993, 'mensfashion': 15994, 'align': 15995, 'mimic': 15996, '𝐀𝐟𝐟𝐢𝐫𝐦𝐚𝐭𝐢𝐨𝐧': 15997, '𝐖𝐞𝐥𝐥𝐧𝐞𝐬𝐬': 15998, 'hv': 15999, 'moneywis': 16000, 'moversandshak': 16001, 'supposedli': 16002, 'wld': 16003, 'eufarmfork': 16004, 'dusshera': 16005, 'new': 16006, 'healthyteeth': 16007, 'teethcar': 16008, 'दत': 16009, 'सवचछ': 16010, 'हवत': 16011, 'ruralwomen': 16012, 'rushini': 16013, 'srilanka': 16014, 'un_women': 16015, 'unwomenasia': 16016, 'wfpasiapacif': 16017, 'wfpsrilanka': 16018, 'बमरय': 16019, 'lordrama': 16020, 'megaamoda': 16021, 'seafoodbusi': 16022, 'triumph': 16023, 'somethingnew': 16024, 'outwork': 16025, 'cookingwithspic': 16026, 'moistur': 16027, 'spicemix': 16028, 'spoil': 16029, 'athom': 16030, 'cere': 16031, 'padthai': 16032, 'stretfood': 16033, 'dussehraspeci': 16034, 'dussehrawish': 16035, 'vijayadashami': 16036, 'vijayadashmi': 16037, 'gamefi': 16038, 'gamergirl': 16039, 'gh': 16040, 'nobraday': 16041, 'nobraeveryday': 16042, 'nobranoproblem': 16043, 'nobrayday': 16044, 'provadofazendeiro': 16045, 'rexnctz': 16046, 'worldmentalhealthday': 16047, 'chao': 16048, 'reorgan': 16049, 'stank': 16050, 'epicbar': 16051, 'heirloom': 16052, 'tallow': 16053, 'अचछ': 16054, 'आखर': 16055, 'नह': 16056, 'बनत': 16057, 'सहत': 16058, 'multitud': 16059, 'sydperelmutt': 16060, 'deuc': 16061, 'pete': 16062, 'renaiss': 16063, 'aga_gastro': 16064, 'amergastroassn': 16065, 'authoorinterview': 16066, 'ecol': 16067, 'elif': 16068, 'evol': 16069, 'gut_bmj': 16070, 'gutmicrobiota': 16071, 'iitkanpur': 16072, 'naturemedicin': 16073, 'sankariitk': 16074, 'summar': 16075, 'tc': 16076, 'asku': 16077, 'fitnesschalleng': 16078, 'nutritionmatt': 16079, 'pushpavijay': 16080, 'weightlossinspir': 16081, 'appreciationpost': 16082, 'grosvenor': 16083, 'stephani': 16084, 'privatelabel': 16085, 'cooperston': 16086, 'cooperstonelab': 16087, 'emmanuel': 16088, 'hatzaki': 16089, 'osufoodsci': 16090, 'eattogeth': 16091, 'nevereatalon': 16092, 'settl': 16093, 'covidvaccin': 16094, 'lefti': 16095, 'panic': 16096, 'passport': 16097, 'pureblood': 16098, 'vaccinesideeffect': 16099, 'waitress': 16100, 'anamariamontero': 16101, 'changer': 16102, 'gamechang': 16103, 'unctad': 16104, 'wif': 16105, 'thxamelian': 16106, 'whopper': 16107, 'domin': 16108, 'dandiya': 16109, 'garba': 16110, 'navratrifast': 16111, 'appukuttan': 16112, 'indiafood': 16113, 'nutritionindia': 16114, 'parvathijr': 16115, 'moniquegoyen': 16116, 'ms': 16117, 'optimizingnutrit': 16118, 'soscnutrit': 16119, 'ramp': 16120, 'sevgitoplumuicinbirmesajdabend': 16121, 'जञनशकत_अभयन': 16122, 'booksonhindurashtra': 16123, 'intelect': 16124, 'localgov': 16125, 'savestarkholmesallot': 16126, 'signatur': 16127, 'starkallot': 16128, 'weightlosshealthyliv': 16129, 'agrifoodsystem': 16130, 'revenu': 16131, 'dietarysupplementsindustri': 16132, 'dietarysupplementsmarket': 16133, 'marketsmarket': 16134, 'bakingtray': 16135, 'natsionalnew': 16136, 'કર': 16137, 'છ': 16138, 'થળન': 16139, 'દશમન': 16140, 'બમર': 16141, 'foodsor': 16142, 'mentalhealh': 16143, 'khakra': 16144, 'kapha': 16145, 'neem': 16146, 'vatta': 16147, 'babycar': 16148, 'latha': 16149, 'shashi': 16150, 'బలతల': 16151, 'బలవరధకమన': 16152, 'ambit': 16153, 'foodfun': 16154, 'funfood': 16155, 'funtoeat': 16156, 'arania': 16157, 'grupo': 16158, 'weekup': 16159, 'binana': 16160, 'adipokin': 16161, 'anatom': 16162, 'hyperglycemia': 16163, 'panacademi': 16164, 'tnfa': 16165, 'hiatu': 16166, 'beehiv': 16167, 'radianc': 16168, 'sunset': 16169, '𝐁𝐞': 16170, '𝐂𝐚𝐧': 16171, '𝐄𝐚𝐭𝐢𝐧𝐠': 16172, '𝐅𝐨𝐨𝐝': 16173, '𝐇𝐞𝐚𝐥𝐭𝐡𝐲': 16174, '𝐏𝐚𝐜𝐤𝐚𝐠𝐞𝐝': 16175, '𝐏𝐫𝐨𝐝𝐮𝐜𝐭𝐬': 16176, '𝐏𝐫𝐨𝐮𝐝': 16177, '𝐒𝐩𝐥𝐞𝐧𝐝𝐢𝐝': 16178, '𝐘𝐨𝐮': 16179, '𝐨𝐟': 16180, 'cholesterollevel': 16181, 'drharshvardhan': 16182, 'drhvoffic': 16183, 'realdoctormik': 16184, 'carilal': 16185, 'danisco': 16186, 'hollandbek': 16187, 'pockycalpi': 16188, 'provitaeurotech': 16189, 'heartbeat': 16190, 'customin': 16191, 'middl': 16192, 'happynavaratra': 16193, 'navaratri': 16194, 'navaratrispeci': 16195, 'allday': 16196, 'battersea': 16197, 'believeandachiev': 16198, 'ruah': 16199, 'schooldinn': 16200, 'sjbc': 16201, 'thankfulthursday': 16202, 'wandsworth': 16203, 'iff': 16204, 'sensorialexperi': 16205, 'animalpolit': 16206, 'partijvddieren': 16207, 'pvddeuropa': 16208, 'teamplanet': 16209, 'toxicfre': 16210, 'ergothionein': 16211, 'schizophrenia': 16212, 'loui': 16213, 'oowww': 16214, 'pasteur': 16215, 'pasteuris': 16216, 'spank': 16217, 'vin': 16218, 'vino': 16219, 'borivali': 16220, 'chinesecuisin': 16221, 'chinesefood': 16222, 'chinesefoodlov': 16223, 'indianfoodblogg': 16224, 'juhu': 16225, 'kandivali': 16226, 'khar': 16227, 'latenight': 16228, 'malad': 16229, 'mumbaifood': 16230, 'mumbaifoodi': 16231, 'orderonlin': 16232, 'andohsaj': 16233, 'institutephoton': 16234, 'paramet': 16235, 'photon': 16236, 'uef': 16237, 'decay': 16238, 'democracynow': 16239, 'tanker': 16240, 'yemen': 16241, 'potatocheela': 16242, 'potatocheelarecip': 16243, 'चल': 16244, 'नशतयसठ': 16245, 'बटट': 16246, 'eyescar': 16247, 'eyeshealthi': 16248, 'आपल': 16249, 'ठवणयसठ': 16250, 'डळ': 16251, 'creatinin': 16252, 'imp': 16253, 'screatinin': 16254, 'steep': 16255, 'nonvegeterian': 16256, 'peraon': 16257, 'supportwomen': 16258, 'continent': 16259, 'labbipet': 16260, 'lotusleafdin': 16261, 'tantrum': 16262, 'fashionaccessori': 16263, 'homegood': 16264, 'jewelri': 16265, 'sunglass': 16266, 'thecloseout': 16267, 'nofood': 16268, 'trainyourbrainday': 16269, 'jujub': 16270, 'qanda': 16271, 'kaolin': 16272, 'kaopect': 16273, 'innoc': 16274, 'oblivi': 16275, 'clamp': 16276, 'coliflor': 16277, 'enhttpstcodqxzykti': 16278, 'mindbodygreen': 16279, 'pcosfocus': 16280, 'all': 16281, 'barcelona': 16282, 'barna': 16283, 'blockchaintechnolog': 16284, 'catalunya': 16285, 'goodtim': 16286, 'greenlif': 16287, 'nftcollector': 16288, 'nftcommun': 16289, 'sightse': 16290, 'smallcappick': 16291, 'foodmarket': 16292, 'freezi': 16293, 'icepop': 16294, 'pressedfruit': 16295, 'candoklifestyl': 16296, 'gma': 16297, 'saltintak': 16298, 'csestock': 16299, 'etail': 16300, 'otcmarket': 16301, 'stemaxconsult': 16302, 'bhaji': 16303, 'pav': 16304, 'pavbhaji': 16305, 'reviv': 16306, 'trafficlightlabel': 16307, 'selfconsci': 16308, 'clue': 16309, 'ayurvedatip': 16310, 'kidneywarrior': 16311, 'marcayurveda': 16312, 'marccur': 16313, 'खए': 16314, 'ड': 16315, 'पर': 16316, 'वटमन': 16317, 'onlinecoach': 16318, 'pushpersonaltrain': 16319, 'pushpt': 16320, 'theacademi': 16321, 'manjistha': 16322, 'raktashodhak': 16323, 'biggerthanfootbal': 16324, 'cmon': 16325, 'hm_sin': 16326, 'meninblaz': 16327, 'soccer': 16328, 'spursoffici': 16329, 'akshaybatra': 16330, 'drbatrashealth': 16331, 'drmukeshbatra': 16332, 'titlewav': 16333, 'devi': 16334, 'durga': 16335, 'durgapuja': 16336, 'jaimatadi': 16337, 'navratrispeci': 16338, 'momentum': 16339, 'ayurvedicherb': 16340, 'आयरवदक': 16341, 'औषध': 16342, 'वनसपत': 16343, 'aze': 16344, 'grisotti': 16345, 'jacquelin': 16346, 'barnyard': 16347, 'makemyfin': 16348, 'nicebiscuit': 16349, 'niceweek': 16350, 'lifetransform': 16351, 'harpercollin': 16352, 'masterchefuk': 16353, 'middlesex': 16354, 'mumbaisquar': 16355, 'asianfood': 16356, 'castl': 16357, 'himegi': 16358, 'himeji': 16359, 'japaneas': 16360, 'moco': 16361, 'spicecurri': 16362, 'spicesalon_moco': 16363, 'カレー': 16364, '内臓に染みるおいしさでした': 16365, '姫路市': 16366, 'unilad': 16367, 'entrepreneurlif': 16368, 'squidgamemem': 16369, 'changingl': 16370, 'femalelead': 16371, 'genderequ': 16372, 'inspiringgirlsf': 16373, 'neerash': 16374, 'vestag': 16375, 'wfp_nepal': 16376, 'wfpnepal': 16377, 'womeninleadership': 16378, 'janepearcewfp': 16379, 'monicaupadhyay': 16380, 'talkwith_trac': 16381, 'pate': 16382, 'sahealth': 16383, 'southaustralia': 16384, 'terrin': 16385, 'aura': 16386, 'ratkiewicz': 16387, 'chewi': 16388, 'crowdfundingcampaign': 16389, 'marcu': 16390, 'earlylearn': 16391, 'beansprout': 16392, 'healthwatch': 16393, 'soysprout': 16394, 'vegana': 16395, 'supportlocalfarm': 16396, 'aloha': 16397, 'bleach': 16398, 'seedysea': 16399, 'nicolecreatewellbeinggroupcom': 16400, 'iamgurmeet': 16401, 'rehanak': 16402, 'sanskrit': 16403, 'suscept': 16404, 'urolog': 16405, 'behanc': 16406, 'dribbbl': 16407, 'faisalahm': 16408, 'graphicanduiuxworld': 16409, 'logoawesom': 16410, 'logoicon': 16411, 'logomak': 16412, 'tattoo': 16413, 'laborshortag': 16414, 'outmeal': 16415, 'preworkout': 16416, 'excruci': 16417, 'miser': 16418, 'steadfast': 16419, 'dietaryguidelin': 16420, 'indrayaniric': 16421, 'limitedoff': 16422, 'ordnayn': 16423, 'residuefre': 16424, 'tastiest': 16425, 'taíba': 16426, 'eubic': 16427, 'horizon': 16428, 'sabino': 16429, 'sister': 16430, 'well_ris': 16431, 'icldc': 16432, 'getjoyfood': 16433, 'petlov': 16434, 'tridosh': 16435, 'vata': 16436, 'niger': 16437, 'mushroomtwitt': 16438, 'bhavnasingh': 16439, 'rk': 16440, 'calamansi': 16441, 'calamondin': 16442, 'herbs_encyclopedia': 16443, 'lactali': 16444, 'rancher': 16445, 'acnerosacea': 16446, 'acnetreat': 16447, 'rosaceatreat': 16448, 'amba': 16449, 'amzn': 16450, 'arkf': 16451, 'arkk': 16452, 'arkx': 16453, 'avav': 16454, 'ba': 16455, 'cloudi': 16456, 'drone': 16457, 'eh': 16458, 'ei': 16459, 'goog': 16460, 'gpro': 16461, 'isra': 16462, 'iteq': 16463, 'izrl': 16464, 'kto': 16465, 'lmt': 16466, 'noc': 16467, 'nvda': 16468, 'paotf': 16469, 'plrtf': 16470, 'telaviv': 16471, 'uav': 16472, 'up': 16473, 'arthritisday': 16474, 'worldarthritisday': 16475, 'अरथरइटस': 16476, 'त': 16477, 'न': 16478, 'infosafimexcom': 16479, 'safimex': 16480, 'tlfp': 16481, 'andrewtcalhoun': 16482, 'myformulari': 16483, 'veiru': 16484, 'freshg': 16485, 'chiariawar': 16486, 'chiariwarrior': 16487, 'betterhealth': 16488, 'totorbay': 16489, 'fitnesscoach': 16490, 'getfitwithj': 16491, 'milkman': 16492, 'असलल': 16493, 'ब': 16494, 'वहटमन': 16495, 'समदध': 16496, 'canolaoil': 16497, 'cartoonist': 16498, 'cornoil': 16499, 'inktob': 16500, 'soybeanoil': 16501, 'blackdal': 16502, 'blackgrap': 16503, 'blackliv': 16504, 'blackseam': 16505, 'cp': 16506, 'fortuneqingdao': 16507, 'irishheart_i': 16508, 'mainecelt': 16509, 'mn': 16510, 'morehttpstcozjdfogf': 16511, 'seasol': 16512, 'slate': 16513, 'immens': 16514, 'nutritit': 16515, 'butler': 16516, 'jimmi': 16517, 'jimmybutl': 16518, 'nba': 16519, 'reallif': 16520, 'wahlberg': 16521, 'delic': 16522, 'doktarobin': 16523, 'ajcnutrit': 16524, 'tcn_onlin': 16525, 'adelecastillon': 16526, 'combslavil': 16527, 'firstdat': 16528, 'rcbvkkr': 16529, 'vaccinati': 16530, '우리_행복돌_종호_생일축하해': 16531, 'ramsapra': 16532, 'provensci': 16533, 'sane': 16534, 'sanesolut': 16535, 'cnet': 16536, 'guelph': 16537, 'onpoli': 16538, 'repercuss': 16539, 'conditionspecif': 16540, 'givingthank': 16541, 'startupbusi': 16542, 'beforelink': 16543, 'byampbest': 16544, 'bylink': 16545, 'tweetaday': 16546, 'ull': 16547, 'acrescentar': 16548, 'dor': 16549, 'pena': 16550, 'salmão': 16551, 'sardinha': 16552, 'vale': 16553, 'veba': 16554, 'northwestern': 16555, 'intact': 16556, 'shea': 16557, 'pennstat': 16558, 'publichhealth': 16559, 'siyasharma': 16560, 'barka': 16561, 'breadbasket': 16562, 'eritrea': 16563, 'gash': 16564, 'strive': 16565, 'analog': 16566, 'legcrampscalcium': 16567, 'chickenkebab': 16568, 'healthandnutrit': 16569, 'agsaha': 16570, 'arceu': 16571, 'beuc': 16572, 'fianista': 16573, 'foodsuppl': 16574, 'foodwatch_eu': 16575, 'hercberg': 16576, 'pilargalan': 16577, 'safefoodeurop': 16578, 'yukaapp': 16579, 'ajwain': 16580, 'pacifi': 16581, 'slight': 16582, 'underton': 16583, 'sweetner': 16584, 'imran_sidra': 16585, 'repli': 16586, 'dailyharvest': 16587, 'flatbread': 16588, 'amaranth': 16589, 'lifesyl': 16590, 'आहरमधय': 16591, 'sattvic': 16592, 'thegroc': 16593, 'heighten': 16594, 'periodpain': 16595, 'dayofthegirlchild': 16596, 'girlchildday': 16597, 'internationalgirlchildday': 16598, 'frontofpack': 16599, 'deeptia': 16600, 'shaifali': 16601, 'shalinimanjhu': 16602, '𝘈': 16603, '𝘈𝘕𝘚': 16604, '𝘚𝘢𝘯𝘴𝘬𝘳𝘪𝘵': 16605, 'recognit': 16606, 'superior': 16607, 'mintoo': 16608, 'mycrunchtim': 16609, 'burnt': 16610, 'splatter': 16611, 'internationaldayofthegirl': 16612, 'neera': 16613, 'womenlead': 16614, 'driedfruit': 16615, 'driedjackfruit': 16616, 'lan': 16617, 'motivatioworkout': 16618, 'agrobiodivers': 16619, 'centerfordevelopmentandenviron': 16620, 'jujuba': 16621, 'nafri': 16622, 'phakhaolaoplatform': 16623, 'rhamnacea': 16624, 'universityofbern': 16625, 'ziziphu': 16626, 'ຕນໝາກກະທນ': 16627, 'former': 16628, 'lowsodium': 16629, 'corporatelobbi': 16630, 'profitsoverclim': 16631, 'vice': 16632, 'toolbox': 16633, 'babassu': 16634, 'lauric': 16635, 'myrist': 16636, 'oleic': 16637, 'palmit': 16638, 'stearic': 16639, 'asmr': 16640, 'friedric': 16641, 'selftaught': 16642, 'amazonhelp': 16643, 'climatepledg': 16644, 'atletaveg': 16645, 'comidasaudável': 16646, 'corrida': 16647, 'liveyourdream': 16648, 'pó': 16649, 'treino': 16650, 'lowqual': 16651, 'fotografi': 16652, 'frisch': 16653, 'lecker': 16654, 'dairymilk': 16655, 'milkadulter': 16656, 'घरच': 16657, 'तपस': 16658, 'दधत': 16659, 'पदधतन': 16660, 'भसळ': 16661, 'शदधत': 16662, 'arbihare': 16663, 'manqoolat': 16664, 'عربی': 16665, 'ہریس': 16666, 'justinbieb': 16667, 'kidlaroi': 16668, 'butterfield': 16669, 'hormel': 16670, 'jennieo': 16671, 'minnesota': 16672, 'mistreat': 16673, 'preity_grimoldi': 16674, 'affiliatemarket': 16675, 'healthdiet': 16676, 'masumbad': 16677, 'ponnohub': 16678, 'ponnohubmb': 16679, 'stickyquot': 16680, 'stickyquotesmb': 16681, 'stickyquotesmb_affili': 16682, 'rasayana': 16683, 'triphala': 16684, 'pimento': 16685, 'pimiento': 16686, 'eggaltern': 16687, 'meataltern': 16688, 'microminer': 16689, 'bovril': 16690, 'convalesc': 16691, 'shambl': 16692, 'herbalmedicin': 16693, 'ck': 16694, 'digestioncoriand': 16695, 'remedyrich': 16696, 'malnutritionrel': 16697, 'stc_india': 16698, 'immum': 16699, 'organicghe': 16700, 'user': 16701, 'fieryorang': 16702, 'ecclesiast': 16703, 'idl': 16704, 'rafter': 16705, 'sag': 16706, 'baconjerki': 16707, 'greasi': 16708, 'humanelyrais': 16709, 'melti': 16710, 'satisfyingli': 16711, 'msaludcr': 16712, 'socialinteract': 16713, 'sophist': 16714, 'cookinghealthi': 16715, 'foodheal': 16716, 'foodhealthi': 16717, 'foodnutrit': 16718, 'mg': 16719, 'nutritionadvic': 16720, 'kaep': 16721, 'aimc': 16722, 'dull': 16723, 'wrinkl': 16724, 'boswellia': 16725, 'johnrobbin': 16726, 'howtoeathealthi': 16727, 'robbin': 16728, 'saltmak': 16729, 'underway': 16730, 'naturebas': 16731, 'migrainerelief': 16732, 'healthconci': 16733, 'sovahealth': 16734, 'accor': 16735, 'psychotherapi': 16736, 'breathingexercis': 16737, 'sarvodayahealthcar': 16738, 'shrc': 16739, 'badlovestwin': 16740, 'busin': 16741, 'nestleindia': 16742, 'ruthless': 16743, 'spractic': 16744, 'convict': 16745, 'newsx': 16746, 'tvsn': 16747, 'holisticfit': 16748, 'lifebal': 16749, 'losangl': 16750, 'strengthtrain': 16751, 'zephyrkhambatta': 16752, '_saycut': 16753, 'champabegumm': 16754, 'mnkrsrma': 16755, 'burgerlov': 16756, 'foodaddict': 16757, 'foodahol': 16758, 'intag': 16759, 'fanat': 16760, 'mamosa': 16761, 'nanotechnolog': 16762, 'rockyscopel': 16763, 'cadospharma': 16764, 'plantbasednew': 16765, 'overreact': 16766, 'stimulu': 16767, 'nationalsalmonday': 16768, 'parmasian': 16769, 'bow': 16770, 'forthepoororphan': 16771, 'celebratinggccommun': 16772, 'gc': 16773, 'nacotweet': 16774, 'nyscounti': 16775, 'tompkin': 16776, 'tompkinstoday': 16777, 'getconnect': 16778, 'pierogi': 16779, 'fruitybasket': 16780, 'fruityday': 16781, 'fruityfriday': 16782, 'pk': 16783, 'samak': 16784, 'singhara': 16785, 'nutritionrich': 16786, 'georg': 16787, 'newyorkbariatricgroup': 16788, 'nybg': 16789, 'obesityhelp': 16790, 'sharon': 16791, 'snacker': 16792, 'baryar': 16793, 'chowaray': 16794, 'drieddat': 16795, 'ellaichi': 16796, 'humanrightscouncil': 16797, 'unbiodivers': 16798, 'unep': 16799, 'casestudi': 16800, 'medintu': 16801, 'nutritionrel': 16802, 'irctcoffici': 16803, 'jimmyrmistri': 16804, 'mickym': 16805, 'timesofindia': 16806, 'bayer': 16807, 'roundupglyphosatebut': 16808, 'fell': 16809, 'fornatur': 16810, 'savetheamazon': 16811, 'savethecongorainforest': 16812, 'anamoraguesf': 16813, 'conjugar': 16814, 'enric': 16815, 'lalimentació': 16816, 'sostenibilitat': 16817, 'tello': 16818, 'आपक': 16819, 'कपयटर': 16820, 'खकर': 16821, 'खन': 16822, 'चकलट': 16823, 'तज': 16824, 'दमग': 16825, 'फड': 16826, 'फयदमद': 16827, 'भ': 16828, 'मइड': 16829, 'हग': 16830, 'alaaizah': 16831, 'foreveryth': 16832, 'givethankstoallah': 16833, 'gratitudejourn': 16834, 'iman': 16835, 'positiveemot': 16836, '𝐀𝐥𝐥𝐚𝐡': 16837, '𝐆𝐢𝐯𝐞': 16838, '𝐓𝐡𝐚𝐧𝐤𝐬': 16839, '𝐭𝐨': 16840, 'kidneytranspl': 16841, 'join_zo': 16842, 'kingscollegelon': 16843, 'thebigmiddlepod': 16844, 'mealinon': 16845, 'mealsinabowl': 16846, 'powerbowl': 16847, 'monicasdogra': 16848, 'aggag': 16849, 'hybridturkey': 16850, 'weightlossmindset': 16851, 'bion': 16852, 'helicobact': 16853, 'pylori': 16854, 'weekhttpstcobvqkxdvo': 16855, '𝗙𝗢𝗢𝗗': 16856, '𝗠𝗔𝗗𝗘': 16857, '𝗥𝗔𝗪': 16858, '𝗦𝗘𝗟𝗙': 16859, 'foodandfestiv': 16860, 'happynavaratri': 16861, 'chemistrynight': 16862, 'ctober': 16863, 'hatem': 16864, 'zarroukhttpstcoyvubjqdh': 16865, 'unibarcelona': 16866, 'jez': 16867, 'overthecount': 16868, 'vicin': 16869, 'blow': 16870, 'kudo': 16871, 'brainstrok': 16872, 'जवनशलचय': 16873, 'बरन': 16874, 'वढव': 16875, 'शकतत': 16876, 'सटरकच': 16877, 'सवय': 16878, 'enforc': 16879, 'juristnew': 16880, 'aubreynpr': 16881, 'health_affair': 16882, 'irapastor': 16883, 'neurotech': 16884, 'progresspot': 16885, 'drinkrecip': 16886, 'ozg': 16887, 'dreamchildren': 16888, 'godblessy': 16889, 'lovechildren': 16890, 'calabria': 16891, 'tuscani': 16892, 'navrati': 16893, 'godblesschild': 16894, 'extrins': 16895, 'healthyimpact': 16896, 'hospitalstalktolovedon': 16897, 'molecules_mdpi': 16898, 'nationalday': 16899, 'vegetariandiet': 16900, 'dailyessenti': 16901, 'lifestylestor': 16902, 'lifeunlimit': 16903, 'topicalpost': 16904, 'trendingtop': 16905, 'coleslaw': 16906, 'hydraslim': 16907, 'ummmmm': 16908, 'friendlyfood': 16909, 'फडच': 16910, 'फरडल': 16911, 'twitchleak': 16912, 'whatifmarvel': 16913, 'bethlehem': 16914, 'garlicfestiv': 16915, 'legacyfinancialadvisorsinc': 16916, 'legacyinsurancebrokersllc': 16917, 'mybenigro': 16918, 'shoppingonlin': 16919, 'brainfunct': 16920, 'ballevr': 16921, 'olivi': 16922, 'succes': 16923, 'videoedit': 16924, 'rvlife': 16925, 'chewingfood': 16926, 'chewinghabit': 16927, 'revis': 16928, 'umbrella': 16929, 'usp': 16930, 'bhagwadgita': 16931, 'shloka': 16932, 'vedictal': 16933, 'beposit': 16934, 'happyhumpday': 16935, 'rap': 16936, 'pret': 16937, 'lebanes': 16938, 'ifit': 16939, 'sahakarnagar': 16940, 'arrahman': 16941, 'bro': 16942, 'alderman': 16943, 'ede': 16944, 'locati': 16945, 'meijer': 16946, 'veggiechip': 16947, 'neerajwellnesscoach': 16948, 'weightlosssolut': 16949, 'hypoleucum': 16950, 'korlan': 16951, 'kurz': 16952, 'nephelium': 16953, 'sapindacea': 16954, 'ຕນໝາກຄແລນ': 16955, 'divid': 16956, 'exploit': 16957, 'thermogenesi': 16958, 'theyll': 16959, 'saa': 16960, 'welln': 16961, 'danni': 16962, 'trejo': 16963, 'wsu': 16964, 'carbohydraterich': 16965, 'highcarbohydr': 16966, 'aroundtown': 16967, 'fortlauderdal': 16968, 'ftlauderdal': 16969, 'lifeextens': 16970, 'solauderdal': 16971, 'exposepf': 16972, 'yenibastan': 16973, 'applepick': 16974, 'sweetshttpstcoqrjzjcjqfk': 16975, 'wheyprotein': 16976, 'doncasterisgreat': 16977, 'gridiron': 16978, 'woop': 16979, 'dropship': 16980, 'shadowban': 16981, 'budgetm': 16982, 'foodpackag': 16983, 'toxicchem': 16984, 'thyroiddiseas': 16985, 'thyroidh': 16986, 'thyroidhealth': 16987, 'thyroidproblem': 16988, 'thyroidwarrior': 16989, 'refus': 16990, 'ummmbrain': 16991, 'longchain': 16992, 'godfirst': 16993, 'happili': 16994, 'needhelp': 16995, 'wenesday': 16996, 'wenevergiveup': 16997, 'chickeroast': 16998, 'حیدرآبادی': 16999, 'روسٹ': 17000, 'چکن': 17001, 'healthliv': 17002, 'everymomentmatt': 17003, 'loveprint': 17004, 'madeinnorthamerica': 17005, 'nationalkaleday': 17006, 'printmedia': 17007, 'stayconnect': 17008, 'teldonconnect': 17009, 'blackfarm': 17010, 'loan': 17011, 'betweeng': 17012, 'gkcal': 17013, 'hrc': 17014, 'hurbz': 17015, 'reengineeringhealth': 17016, 'phat': 17017, 'pipe': 17018, 'portabl': 17019, 'onto': 17020, 'homemadecak': 17021, 'loveback': 17022, 'prosandconsofavegetariandiet': 17023, 'folicacid': 17024, 'healthynutri': 17025, 'swedish': 17026, 'squeez': 17027, 'coral': 17028, 'eros': 17029, 'lifeunderwat': 17030, 'atta': 17031, 'kutu': 17032, 'azalea': 17033, 'bedford': 17034, 'humankind': 17035, 'joe': 17036, 'wesalutem': 17037, 'cemilan': 17038, 'intip': 17039, 'kolesterol': 17040, 'merahputihcom': 17041, 'yang': 17042, 'cyclist': 17043, 'இரணட': 17044, 'எத': 17045, 'ஓடடதல': 17046, 'ஓடதல': 17047, 'சககள': 17048, 'சறநதத': 17049, 'பயறசகளல': 17050, 'leaner': 17051, 'deshkaze': 17052, 'hpropertyguid': 17053, 'collegu': 17054, 'unwav': 17055, 'healthstepsonli': 17056, 'sweetteeth': 17057, 'commerc': 17058, 'crore': 17059, 'bandlagudajagir': 17060, 'manvimulityspecialityclin': 17061, 'veganbeauti': 17062, 'moodi': 17063, 'tiramisù': 17064, 'youtuberchannel': 17065, 'cheesechalleng': 17066, 'contemporari': 17067, 'homewar': 17068, 'middleclass': 17069, 'dailym': 17070, 'socialgood': 17071, 'oilghe': 17072, 'plz': 17073, 'tailor': 17074, 'tasteless': 17075, 'enrol': 17076, 'agreement': 17077, 'blueprint': 17078, 'dfat': 17079, 'iacepa': 17080, 'powerofpositiveaffirm': 17081, 'powerofpost': 17082, 'powerofvisualis': 17083, 'alliswel': 17084, 'attitudeofgratitud': 17085, 'dhunbadalketohdekho': 17086, 'proceed': 17087, 'healthyfamili': 17088, 'medimarkayurveda': 17089, 'jointpain': 17090, 'kana': 17091, 'açaí': 17092, 'eatnuttzo': 17093, 'bostonu': 17094, 'healthliteraci': 17095, 'davechappel': 17096, 'jacksonvil': 17097, 'minimalist': 17098, 'notimetodi': 17099, 'spooktob': 17100, 'supersizem': 17101, 'worldteachersday': 17102, '放送': 17103, '먹는': 17104, '먹방httpstcouedblcov': 17105, 'fancymouseear': 17106, 'ihsm_csic_uma': 17107, 'jewel': 17108, 'pitaya': 17109, 'cssd': 17110, 'fendhung': 17111, 'fooddriv': 17112, 'fs': 17113, 'fservic': 17114, 'ldn': 17115, 'rdn': 17116, 'skahan': 17117, 'cuttingboard': 17118, 'facebookdown': 17119, 'kidseatright': 17120, 'kidshealth': 17121, 'kidsmatterok': 17122, 'masterchefjunior': 17123, 'malodextrin': 17124, 'scishowkid': 17125, 'completecommunitiesh': 17126, 'autism': 17127, 'beechnut': 17128, 'behavioraldevelop': 17129, 'gerber': 17130, 'hain': 17131, 'gerberbabi': 17132, 'podcastepisod': 17133, 'podcastinterview': 17134, 'podcastshow': 17135, 'givewithheart': 17136, 'mandela': 17137, 'nelson': 17138, 'schoollif': 17139, 'greengag': 17140, 'iran': 17141, 'iranian': 17142, 'unripen': 17143, 'उपवससठ': 17144, 'नवरतरचय': 17145, 'rec': 17146, 'smoothiebowl': 17147, 'goddess': 17148, 'traderjo': 17149, 'jaypmd': 17150, 'ajinomoto': 17151, 'soupjust': 17152, 'vegetariandietfory': 17153, 'foodandmood': 17154, 'howtoliveyoug': 17155, 'womeninsci': 17156, 'hydrationawar': 17157, 'josefsberg': 17158, 'liz': 17159, 'csrindia': 17160, 'csriniti': 17161, 'planetthird': 17162, 'sustainabledevelop': 17163, 'shortlist': 17164, 'trendtoreview': 17165, 'boot': 17166, 'downtoearth': 17167, 'drqayumiitk': 17168, 'palaksarson': 17169, 'taxmanhelp': 17170, 'thymeoregano': 17171, 'medicinenet': 17172, 'happinessformula': 17173, 'rebalanc': 17174, 'smoothli': 17175, 'sync': 17176, 'जक': 17177, 'ललस': 17178, 'abctv': 17179, 'howtoliveyoung': 17180, 'sciencecommun': 17181, 'backtobas': 17182, 'backtoroot': 17183, 'tuesdaymorn': 17184, 'warbler': 17185, 'hench': 17186, 'कफचय': 17187, 'तकररवर': 17188, 'लसणच': 17189, 'हदयरग': 17190, 'dhoom': 17191, 'abisedibleoil': 17192, 'soyaoil': 17193, 'caloriesmatt': 17194, 'edamamebean': 17195, 'दनदन': 17196, 'बयचय': 17197, 'सयबन': 17198, 'fishtaco': 17199, 'nationaltacoday': 17200, 'tacomonday': 17201, 'bohpopcornbox': 17202, 'justyogath': 17203, 'popcorn': 17204, 'sash': 17205, 'healthysmoothi': 17206, 'जग': 17207, 'नशतयमधय': 17208, 'समद': 17209, 'समवषट': 17210, 'plusyear': 17211, 'unbeliev': 17212, 'controldiabet': 17213, 'bluediamond': 17214, 'geriatricnutrit': 17215, 'icdsmaharashtra': 17216, 'paediatricnutrit': 17217, 'poshanabhiyaan': 17218, 'ebisu': 17219, 'yakiniku': 17220, 'driedfish': 17221, 'fishmaw': 17222, 'maw': 17223, 'thehopehospit': 17224, 'thehopehospitalgreaternoida': 17225, 'askgoo': 17226, 'brutal': 17227, 'deeeeeeeeep': 17228, 'perpetu': 17229, 'scuse': 17230, 'xo': 17231, 'yooowwwwwwwww': 17232, 'bettingtip': 17233, 'bettingtipst': 17234, 'deletefacebook': 17235, 'gmail': 17236, 'luxurylifestyl': 17237, 'markzuckerberg': 17238, 'serverdown': 17239, 'socialmediadown': 17240, 'telegram': 17241, 'tipster': 17242, 'whatsappdown': 17243, 'yummiunivers': 17244, 'therooki': 17245, 'veganm': 17246, 'yup': 17247, 'betti': 17248, 'hawkinsretail': 17249, 'shekarraman': 17250, 'perch': 17251, 'raman': 17252, 'shekar': 17253, 'thttpstcoocevdncdjp': 17254, 'cocoveda': 17255, 'pahadi': 17256, 'uttrakhand': 17257, 'starchbas': 17258, 'healthyag': 17259, 'tribe': 17260, 'yurok': 17261, 'lifegood': 17262, 'promovideo': 17263, 'socialmediapost': 17264, 'videoanim': 17265, 'videopost': 17266, 'yt': 17267, 'educationiskey': 17268, 'godisgreat': 17269, 'madeinturkey': 17270, 'dailyremind': 17271, 'selfrespect': 17272, 'assembl': 17273, 'draft': 17274, 'publicconsult': 17275, 'unitedn': 17276, 'worldhealthorgan': 17277, 'nonewgmo': 17278, 'carob': 17279, 'lakenc': 17280, 'localbuzz': 17281, 'scholarship': 17282, 'actfoodglob': 17283, 'ghcorp': 17284, 'hphr': 17285, 'lacton': 17286, 'wensi': 17287, 'yangzhou': 17288, 'برگر': 17289, 'بیف': 17290, 'letmedream': 17291, 'marginalis': 17292, 'pandorapap': 17293, 'letsbeatbreastcanc': 17294, 'greatli': 17295, 'lossofappetit': 17296, 'असलयस': 17297, 'भक': 17298, 'लगणयच': 17299, 'healthquot': 17300, 'queenoftheworld': 17301, 'blackhistorymonth': 17302, 'choir': 17303, 'culturaldressday': 17304, 'filmnight': 17305, 'jcsfc': 17306, 'liveperform': 17307, 'textilesworkshop': 17308, 'walkingtour': 17309, 'takeout': 17310, 'fareham': 17311, 'asi': 17312, 'paypalbussi': 17313, 'paypalsupport': 17314, 'takecar': 17315, 'annacabeca': 17316, 'automaobil': 17317, 'beautyamppersonalcar': 17318, 'businessservic': 17319, 'consumerelectron': 17320, 'fabricationservic': 17321, 'foodampbeverag': 17322, 'giftsamphandicraft': 17323, 'healthampmed': 17324, 'homeampgarden': 17325, 'kulfi': 17326, 'goodquoteco': 17327, 'vegansofldn': 17328, 'चरब': 17329, 'पटवरच': 17330, 'लसण': 17331, 'becauseyouareworthit': 17332, 'acutangula': 17333, 'averrhoa': 17334, 'carambola': 17335, 'hallier': 17336, 'oxalidacea': 17337, 'philippica': 17338, 'sarcotheca': 17339, 'stoke': 17340, 'villar': 17341, 'ຕນໝາກເຟອງ': 17342, 'neednt': 17343, 'picturesaysital': 17344, 'unedit': 17345, 'filet': 17346, 'ounc': 17347, 'athen': 17348, 'ramsayamp': 17349, 'worldvegetarianday': 17350, 'smoker': 17351, 'auspoi': 17352, 'rspca': 17353, 'cookingtim': 17354, 'deco': 17355, 'scrub': 17356, 'tisan': 17357, 'priyanka': 17358, 'singh': 17359, 'eatwin': 17360, 'msd': 17361, 'mysportsdietitian': 17362, 'jeanbaptist': 17363, 'justvib': 17364, 'justyoga': 17365, 'justyogavib': 17366, 'jyv': 17367, 'poquelin': 17368, 'yogavib': 17369, 'balela': 17370, 'beg': 17371, 'samsclub': 17372, 'tater': 17373, 'citylit': 17374, 'enoch': 17375, 'femin': 17376, 'katiadulyss': 17377, 'krystalmack': 17378, 'pratt': 17379, 'rgay': 17380, 'toogood': 17381, 'unpackimprop': 17382, 'zomatocar': 17383, 'bohflaxse': 17384, 'baozi': 17385, 'italiangroceri': 17386, 'flurysindia': 17387, 'vika': 17388, 'sunflowerse': 17389, 'zambianfac': 17390, 'fortun': 17391, 'mumbaifoodtrail': 17392, 'citymarket': 17393, 'florist': 17394, 'foodgrad': 17395, 'overwaitea': 17396, 'pricesmart': 17397, 'saveon': 17398, 'thrifti': 17399, 'vegansuppli': 17400, 'captur': 17401, 'youmatt': 17402, 'mediumrar': 17403, 'porterhous': 17404, 'lemongarl': 17405, 'bouquet': 17406, 'farmfresh': 17407, 'flowerlov': 17408, 'unbirthday': 17409, 'jacob': 17410, 'masterpiec': 17411, 'foodrescuehero': 17412, 'naturessunshin': 17413, 'ordernow': 17414, 'sweetlif': 17415, 'sweetlifeonmax': 17416, 'sweettooth': 17417, 'xylitol': 17418, 'imdb': 17419, 'cheesepuff': 17420, 'figamp': 17421, 'puff': 17422, 'shortvideo': 17423, 'knoe': 17424, 'booshfood': 17425, 'dailyinspir': 17426, 'jimpakuli': 17427, 'makebank': 17428, 'newepisod': 17429, 'positivethink': 17430, 'decatur': 17431, 'dipfreshfood': 17432, 'internationalcoffeeday': 17433, 'vegasstrong': 17434, 'givetothechildren': 17435, 'needtolivebett': 17436, 'poorfamili': 17437, 'smileischar': 17438, 'smileislif': 17439, 'nick': 17440, 'healthth': 17441, 'shawn': 17442, 'stevenson': 17443, 'skincareproduct': 17444, 'sunscreen': 17445, 'childrenhealth': 17446, 'taint': 17447, 'thisisinsid': 17448, 'worldobes': 17449, 'ampsoon': 17450, 'danielbrasilia': 17451, 'elsenala': 17452, 'frighten': 17453, 'hgv': 17454, 'hilda_g': 17455, 'lorri': 17456, 'masonri': 17457, 'powergrab': 17458, 'queu': 17459, 'velocimvm': 17460, 'spectra': 17461, 'charit': 17462, 'fourleg': 17463, 'sloooow': 17464, 'vram': 17465, 'organicveget': 17466, 'veggiebarn': 17467, 'fellowship': 17468, 'mentor': 17469, 'anannya': 17470, 'anannyamagazin': 17471, 'dhaka': 17472, 'lifestylemagazin': 17473, 'circul': 17474, 'cushion': 17475, 'damp': 17476, 'gandhi': 17477, 'gandhijayanti': 17478, 'gandhiji': 17479, 'jayanti': 17480, 'anxietypil': 17481, 'balancelifein': 17482, 'clairvoy': 17483, 'dalailama': 17484, 'monitpahwa': 17485, 'numerolog': 17486, 'raisinwaterbenefit': 17487, 'आशचरयचकत': 17488, 'पणयच': 17489, 'मनकयचय': 17490, 'agathi': 17491, 'bittertast': 17492, 'keerai': 17493, 'localandseason': 17494, 'saturdaykeerai': 17495, 'traditionalfood': 17496, 'interiordesign': 17497, 'sashimi': 17498, 'lactoseintoler': 17499, 'bapu': 17500, 'fatherofthen': 17501, 'mahatmagandhi': 17502, 'foresighted': 17503, 'gandhijayanthi': 17504, 'forcibl': 17505, 'handmaid': 17506, 'jean': 17507, 'weeksit': 17508, 'smallfissamchan': 17509, 'thoughtsformulationlab': 17510, 'woodland': 17511, 'broadcast': 17512, 'directv': 17513, 'iosandroid': 17514, 'pdt': 17515, 'diamond': 17516, 'ade_go': 17517, 'adego': 17518, 'aden': 17519, 'alaaisam': 17520, 'octmp': 17521, 'voilog': 17522, 'voilogg': 17523, 'eguid': 17524, 'buddhahand': 17525, 'helathylifestyl': 17526, 'choppa': 17527, 'memphi': 17528, 'nle': 17529, 'nlechopp': 17530, 'preexistingcondit': 17531, 'rapper': 17532, 'sebi': 17533, 'std': 17534, 'currentev': 17535, 'photoof': 17536, 'unsplash': 17537, 'الراحه': 17538, 'النفسية': 17539, 'تحقق': 17540, 'كيف': 17541, 'deix': 17542, 'espinafr': 17543, 'sua': 17544, 'reshmikabab': 17545, 'ریشمی': 17546, 'کباب': 17547, 'ferritin': 17548, 'happyandhealthi': 17549, 'foodlif': 17550, 'foodplan': 17551, 'foodplann': 17552, 'healthymealplan': 17553, 'firmenich': 17554, 'kelco': 17555, 'proteinaltern': 17556, 'antitumor': 17557, 'antitumour': 17558, 'mosquito': 17559, 'चयनज': 17560, 'चव': 17561, 'वढवणर': 17562, 'giftsforh': 17563, 'womenwhocod': 17564, 'notabl': 17565, 'annapurna': 17566, 'monsoon': 17567, 'riot': 17568, 'worldsmileday': 17569, 'bestdish': 17570, 'focattia': 17571, 'homemaid': 17572, 'gameforfun': 17573, 'puzzl': 17574, 'abiyahmedali': 17575, 'allowaccess': 17576, 'stoptigray': 17577, 'nonmeat': 17578, 'lekker': 17579, 'onz': 17580, 'op': 17581, 'pagina': 17582, 'pokè': 17583, 'bodybuildingmotiv': 17584, 'savouri': 17585, 'hasslefre': 17586, 'prupala': 17587, 'club_gut': 17588, 'gmfhx': 17589, 'microbiomdigest': 17590, 'modul': 17591, 'muzzpol': 17592, 'ashapanch': 17593, 'contestalertindia': 17594, 'contestgiveaway': 17595, 'dairyindustri': 17596, 'deepaadhan': 17597, 'param_dairi': 17598, 'paramdairi': 17599, 'paramgyan': 17600, 'paramproduct': 17601, 'pritinivoriya': 17602, 'ramprasad': 17603, 'healthyfoo': 17604, 'anitaya': 17605, 'prachimana': 17606, 'raahi_supergirl': 17607, 'daysofcod': 17608, 'summerdiet': 17609, 'fooddeptgoi': 17610, 'moayush': 17611, 'mofpi_goi': 17612, 'वशव_शकहर_दवस': 17613, 'param': 17614, 'clearcal': 17615, 'gmsubbarao': 17616, 'nationalnutritionweek': 17617, 'arginin': 17618, 'belong': 17619, 'playinggarden': 17620, 'protain': 17621, 'protamin': 17622, 'amg': 17623, 'deterioratedm': 17624, 'tigrayfamin': 17625, 'saveena': 17626, 'dinnerd': 17627, 'wastemanag': 17628, 'asiancuisin': 17629, 'simply_suppl': 17630, 'augason': 17631, 'foodbeastfoodfight': 17632, 'freezedri': 17633, 'prolon': 17634, 'prolondiet': 17635, 'morehttpstcootwwnarjtc': 17636, 'dutch': 17637, 'eatforum': 17638, 'ridlv': 17639, 'chefett': 17640, 'hall': 17641, 'reinvigor': 17642, 'ketogenicdiet': 17643, 'stoptigrayfamin': 17644, 'eww': 17645, 'fetus': 17646, 'senomyx': 17647, 'sleepbett': 17648, 'adana': 17649, 'semi': 17650, 'bediffer': 17651, 'knowingli': 17652, 'healthyandfitn': 17653, 'carbsgloriouscarb': 17654, 'dhiraj': 17655, 'dhirajson': 17656, 'megastor': 17657, 'newdish': 17658, 'newfood': 17659, 'yummiest': 17660, 'yummymummi': 17661, 'anek': 17662, 'cheez': 17663, 'ek': 17664, 'faayd': 17665, 'haryana': 17666, 'kisanandolan': 17667, 'kisanmahapanchayat': 17668, 'madhyapradesh': 17669, 'punjab': 17670, 'healthyy': 17671, 'sleephealth': 17672, 'dermatolog': 17673, 'factsonli': 17674, 'fruitattract': 17675, 'dtmt': 17676, 'exquisit': 17677, 'golgappa': 17678, 'gourmetexperi': 17679, 'drdenwalk': 17680, 'accorhotel': 17681, 'mercur': 17682, 'draya': 17683, 'hippi': 17684, 'kindasound': 17685, 'wendydj': 17686, 'cibusparma': 17687, 'simplist': 17688, 'officinali': 17689, 'packagetyp': 17690, 'sageleaf': 17691, 'sagepowd': 17692, 'salvia': 17693, 'purewow': 17694, 'eurotox_': 17695, 'iea': 17696, 'riskassess': 17697, 'outfit': 17698, 'hadith': 17699, 'frout': 17700, 'vegit': 17701, 'biotechnolog': 17702, 'maitak': 17703, 'maitakemushroom': 17704, 'farmwat': 17705, 'poshan': 17706, 'poshanmaah': 17707, 'dishesh': 17708, 'imli': 17709, 'pudina': 17710, 'caroten': 17711, 'kiranhospit': 17712, 'drsiddharthroyhomeopathi': 17713, 'iediet': 17714, 'sleephygien': 17715, 'connechttpstcombkqfivbx': 17716, 'vegandal': 17717, 'babiesfood': 17718, 'congression': 17719, 'oversightdemssinc': 17720, 'wt': 17721, 'eatingclean': 17722, 'pcosawarenessmonth': 17723, 'bobo': 17724, 'croptrak': 17725, 'pma': 17726, 'vonni': 17727, 'organicseptemb': 17728, 'organicuk': 17729, 'soilassoci': 17730, 'customprintedbox': 17731, 'impost': 17732, 'juiceplu': 17733, 'butt': 17734, 'hemorrhoid': 17735, 'cleverli': 17736, 'konsciou': 17737, 'healthynationproductiven': 17738, 'hide': 17739, 'gallbladd': 17740, 'gallston': 17741, 'povertypremium': 17742, 'sammrchant': 17743, 'incent': 17744, 'legitim': 17745, 'unproven': 17746, 'meditteranean': 17747, 'lisheliv': 17748, 'emori': 17749, 'emorycshh': 17750, 'foodiepharma': 17751, 'nationalcoffeeday': 17752, 'springmann': 17753, 'trajectori': 17754, 'healthywat': 17755, 'waterpurifi': 17756, 'darin': 17757, 'mindbodi': 17758, 'olien': 17759, 'potter': 17760, 'ross': 17761, 'employeebenefit': 17762, 'pizzamania': 17763, 'castro': 17764, 'ivan': 17765, 'glutarama': 17766, 'veganupd': 17767, 'arjun': 17768, 'arjunkapoor': 17769, 'bfizz': 17770, 'bollywoodactor': 17771, 'bollywoodupd': 17772, 'brandambassador': 17773, 'cooldrink': 17774, 'newjourney': 17775, 'parleagro': 17776, 'seetageeta': 17777, 'moist': 17778, 'middaym': 17779, 'खलवड': 17780, 'बचच': 17781, 'expectajon': 17782, 'gorg': 17783, 'sschurig': 17784, 'presum': 17785, 'rigor': 17786, 'gerd': 17787, 'beefbrexithasfail': 17788, 'foodstuff': 17789, 'slipperi': 17790, 'yearsnext': 17791, 'foodloss': 17792, 'foodlossandwast': 17793, 'pubm': 17794, 'gingernut': 17795, 'ikozw': 17796, 'muri': 17797, 'tangawizi': 17798, 'mutual': 17799, 'manchow': 17800, 'ghazipur': 17801, 'glimps': 17802, 'benfit': 17803, 'heartday': 17804, 'कलसटरल': 17805, 'गषटच': 17806, 'airtelindia': 17807, 'epicchannelin': 17808, 'epicon': 17809, 'in_media': 17810, 'leadstart_p': 17811, 'learningtolowercholesterol': 17812, 'sahajretail': 17813, 'showboxchannel': 17814, 'tataskybing': 17815, 'brekfast': 17816, 'foccatia': 17817, 'nessmuk': 17818, 'kitchendecor': 17819, 'kitchengarden': 17820, 'पधदतन': 17821, 'सबजच': 17822, 'heartdiseaseawar': 17823, 'ex': 17824, 'heartinvestmentday': 17825, 'farther': 17826, 'maxliv': 17827, 'slightedg': 17828, 'bbb_institut': 17829, 'bbbcentralon': 17830, 'bs': 17831, 'customerexperi': 17832, 'fridgerecal': 17833, 'govcanhealth': 17834, 'merclovedhov': 17835, 'samsung': 17836, 'samsungcanada': 17837, 'samsungdefect': 17838, 'hypoxia': 17839, 'hypoxiaseason': 17840, 'oceanwat': 17841, 'oregon': 17842, 'seattletim': 17843, 'silent': 17844, 'healthguid': 17845, 'weightlosscoach': 17846, 'cỏn': 17847, 'b_pritchard': 17848, 'phillipadams_': 17849, 'pritchard': 17850, 'facilit': 17851, 'andrewsack': 17852, 'yewsual': 17853, 'fruitsandveggi': 17854, 'lemontre': 17855, 'foodwis': 17856, 'lennyandlarri': 17857, 'jim': 17858, 'mysteri': 17859, 'intolerancetest': 17860, 'midwaypharmaci': 17861, 'wheatfre': 17862, 'bloodmatt': 17863, 'fisheri': 17864, 'easter': 17865, 'easteregg': 17866, 'lifetip': 17867, 'planmeal': 17868, 'savemoney': 17869, 'unl_ianr': 17870, 'overtak': 17871, 'alleyesonthepr': 17872, 'finalist': 17873, 'globalhighschool': 17874, 'zay': 17875, 'zayedsustainabilitypr': 17876, 'commend': 17877, 'ffrc_fssai': 17878, 'tata': 17879, 'tatatrust': 17880, 'upon': 17881, 'carpediem': 17882, 'asses': 17883, 'aua': 17884, 'crete': 17885, 'msc': 17886, 'researchg': 17887, 'sf': 17888, 'goodandbad': 17889, 'discoveri': 17890, 'reluct': 17891, 'entitl': 17892, 'puttheforkdown': 17893, 'selfcontrol': 17894, 'spin': 17895, 'unhealthytuesdaymotiv': 17896, 'whatsonyourfork': 17897, 'wheelsamp': 17898, 'jharana': 17899, 'junglerul': 17900, 'junglesafari': 17901, 'lodg': 17902, 'tadobaandharitigerreserv': 17903, 'tadobajungl': 17904, 'tadobasafari': 17905, 'ihwaward': 17906, 'ihwsummit': 17907, 'freshfruit': 17908, 'egglunch': 17909, 'eyehealth': 17910, 'healthyey': 17911, 'lutein': 17912, 'winwin': 17913, 'zeaxathin': 17914, 'andrewsuniveristi': 17915, 'lust': 17916, 'subsist': 17917, 'hackney': 17918, 'shoreditch': 17919, 'socialenterpris': 17920, 'tzatziki': 17921, 'youngpeopl': 17922, 'rubi': 17923, 'businessdevelop': 17924, 'harar': 17925, 'playafrikatv': 17926, 'toff': 17927, 'zimbabw': 17928, 'zimbabwean': 17929, 'calcutta': 17930, 'surrey': 17931, 'kokomi': 17932, 'gill': 17933, 'hyslop': 17934, 'unec': 17935, 'unsustain': 17936, 'stripper': 17937, 'diabetesmellitu': 17938, 'stayinghealthi': 17939, 'bobbybobblin': 17940, 'natashaiswidey': 17941, 'bodyrequir': 17942, 'fitbodi': 17943, 'foodtyp': 17944, 'healthcondit': 17945, 'healthconstitut': 17946, 'ripe': 17947, 'romant': 17948, 'valentin': 17949, 'trusttheprocess': 17950, 'wellnessjourney': 17951, 'evidencebasedmedicin': 17952, 'truestori': 17953, 'peroxid': 17954, 'goodmorningtuesday': 17955, 'thankfultuesday': 17956, 'tipstostopfoodwastag': 17957, 'dadimakenuskh': 17958, 'stopfoodwastag': 17959, 'sudden': 17960, 'agroforestri': 17961, 'hipagricultur': 17962, 'ageingprocess': 17963, 'createwellbeinggroup': 17964, 'healthyglow': 17965, 'liverdetoxif': 17966, 'liverfunct': 17967, 'nicolemcauliff': 17968, 'copingskil': 17969, 'emotionalwellb': 17970, 'anti_ag': 17971, 'algaebloom': 17972, 'chemicalfarm': 17973, 'gulfcoast': 17974, 'herbicid': 17975, 'redtid': 17976, 'chinmayeegg': 17977, 'sharmajyot': 17978, 'buildinglead': 17979, 'jenniferbroxterman': 17980, 'nutritionrx': 17981, 'mincemeat': 17982, 'porkburg': 17983, 'turkeyburg': 17984, 'bidenharri': 17985, 'nexxu': 17986, 'fitmodu': 17987, 'fitspor': 17988, 'instafit': 17989, 'berni': 17990, 'breadlin': 17991, 'democrat': 17992, 'mu': 17993, 'sander': 17994, 'cdr': 17995, 'chaindrugreview': 17996, 'rite': 17997, 'riteaid': 17998, 'uber': 17999, 'bolster': 18000, 'communithi': 18001, 'questionnair': 18002, 'cittaindia': 18003, 'drmohanavamsi': 18004, 'incurablecanc': 18005, 'omegahospit': 18006, 'typesofcanc': 18007, 'breastfeedingmom': 18008, 'momanddaught': 18009, 'newmom': 18010, 'parentinghack': 18011, 'unclog': 18012, 'agnes_kalibata': 18013, 'consumerconto': 18014, 'stockstowatch': 18015, 'hosteri': 18016, 'naarderm': 18017, 'nationalpark': 18018, 'stadzigt': 18019, 'hindinew': 18020, 'करबइड': 18021, 'कल': 18022, 'खरब': 18023, 'पक': 18024, 'रह': 18025, 'लइफसटइल': 18026, 'लवर': 18027, 'mindsetcoach': 18028, 'foodwatchat': 18029, 'sigwatch': 18030, 'ingredientssourcedprepar': 18031, 'jobeda': 18032, 'squar': 18033, 'housew': 18034, 'असव': 18035, 'कत': 18036, 'मठ': 18037, 'सवयपकत': 18038, 'disifect': 18039, 'healtcar': 18040, 'tir': 18041, 'bernardchickey': 18042, 'fortitudehxc': 18043, 'ggcat': 18044, 'petamov': 18045, 'readmeat': 18046, 'saveanim': 18047, 'russel': 18048, 'sharman': 18049, 'amilk': 18050, 'pasteurizedmilk': 18051, 'rawamilk': 18052, 'realmilk': 18053, 'erect': 18054, 'sexlif': 18055, 'iarc': 18056, 'irremedi': 18057, 'rift': 18058, 'udon': 18059, 'oneeu': 18060, 'brainandbrawnsydney': 18061, 'musclebeauti': 18062, 'urbanfoodsystem': 18063, 'urbanlif': 18064, 'dairycow': 18065, 'dairyfarm': 18066, 'drsamathatulla': 18067, 'eatingbeforeb': 18068, 'gethealthywithdrsam': 18069, 'heavydinn': 18070, 'latedinn': 18071, 'nighttime': 18072, 'healthyandfit': 18073, 'तदरसत': 18074, 'davidasinclair': 18075, 'resveratrol': 18076, 'mede': 18077, 'lifestyleadjustmentshealthydiet': 18078, 'organicskincar': 18079, 'judgment': 18080, 'sensual': 18081, 'affankutti': 18082, 'eartohear': 18083, 'marinedr': 18084, 'richamehta': 18085, 'kathi': 18086, 'weightlostip': 18087, 'डएट': 18088, 'तर': 18089, 'mahoney': 18090, 'parentip': 18091, 'recommendationstheir': 18092, 'abusedthey': 18093, 'neglectd': 18094, 'species': 18095, 'spacex': 18096, 'lsn': 18097, 'marina': 18098, 'toxix': 18099, 'avoidjunk': 18100, 'sneaker': 18101, 'agrochem': 18102, 'spreadlov': 18103, 'staffingshortag': 18104, 'memor': 18105, 'neutral': 18106, 'burpe': 18107, 'registri': 18108, 'farmbc': 18109, 'healthesoil': 18110, 'greatblackdetox': 18111, 'zululand': 18112, 'biochemistri': 18113, 'stresstostrength': 18114, 'tho': 18115, 'ampgrind': 18116, 'chatni': 18117, 'pudi': 18118, 'tamarind': 18119, 'urad': 18120, 'bom': 18121, 'causada': 18122, 'dent': 18123, 'dentistri': 18124, 'mancha': 18125, 'mirtilo': 18126, 'pelo': 18127, 'permanec': 18128, 'podem': 18129, 'por': 18130, 'sabia': 18131, 'tempo': 18132, 'um': 18133, 'ramadabywyndham': 18134, 'shi': 18135, 'surajbhai': 18136, 'दवसत': 18137, 'दसल': 18138, 'परणम': 18139, 'joni_look': 18140, 'rubenivangaalen': 18141, 'healthysunday': 18142, 'abraham': 18143, 'bipartisan': 18144, 'maslow': 18145, 'healthyskincar': 18146, 'skincareroutin': 18147, 'diabetesuk': 18148, 'emption': 18149, 'extravirginoliveoil': 18150, 'homemadepickl': 18151, 'redchilli': 18152, 'coldchain': 18153, 'coldchainf': 18154, 'fdf': 18155, 'jarnmagazin': 18156, 'prestigi': 18157, 'firsttim': 18158, 'gabbiscook': 18159, 'reddragonfruit': 18160, 'strangefruit': 18161, 'sundayfunday': 18162, 'minari': 18163, 'waterparsley': 18164, 'bmi': 18165, 'bodyfat': 18166, 'healthyfoodforal': 18167, 'fate': 18168, 'fatego': 18169, 'fatspo': 18170, 'buzzfeedfood': 18171, 'eatthi': 18172, 'personalchef': 18173, 'screenshotsaturday': 18174, 'shrink': 18175, 'foodcost': 18176, 'nycmayor': 18177, 'nycsanit': 18178, 'nypdnew': 18179, 'spotlightonmalnutrit': 18180, 'vendorpow': 18181, 'fermentationist': 18182, 'foggi': 18183, 'sustmov': 18184, 'animalslivesmatt': 18185, 'veganworld': 18186, 'pbnhc': 18187, 'wfpbme': 18188, 'amb': 18189, 'deilici': 18190, 'iberianham': 18191, 'iberico': 18192, 'ibèric': 18193, 'ibérico': 18194, 'jamon': 18195, 'jamón': 18196, 'meló': 18197, 'melón': 18198, 'pernil': 18199, 'perniliber': 18200, 'gavinthoma': 18201, 'sensitivityintoler': 18202, 'khandwa': 18203, 'kidsfood': 18204, 'kidslearn': 18205, 'mic': 18206, 'mic_organis': 18207, 'micorganisationindia': 18208, 'parmarthi': 18209, 'sansthan': 18210, 'forb': 18211, 'shrimpless': 18212, 'inthekitchen': 18213, 'mealidea': 18214, 'nationalcookingday': 18215, 'seniorscook': 18216, 'bharat': 18217, 'handwrit': 18218, 'swasthabharat': 18219, 'worldpharmacistday': 18220, 'avo': 18221, 'sept': 18222, 'sumptuou': 18223, 'oolong': 18224, 'cherriesandinflamm': 18225, 'cherriesforgout': 18226, 'cherriesforsleep': 18227, 'cherriesforuricacidlevel': 18228, 'cherriesloweringuricacid': 18229, 'cherryjuic': 18230, 'cherryjuiceconcentr': 18231, 'goorgan': 18232, 'amerchemsocieti': 18233, 'easdnew': 18234, 'glycat': 18235, 'ifclinchem': 18236, 'imar': 18237, 'machinelearn': 18238, 'masterbadg': 18239, 'roysocchem': 18240, 'buyer': 18241, 'cartallum': 18242, 'deeptech': 18243, 'cannabiscultur': 18244, 'highlif': 18245, 'ipad': 18246, 'lgt': 18247, 'maskup': 18248, 'mtf': 18249, 'smokewe': 18250, 'curryleavesbenefit': 18251, 'आरगयसठच': 18252, 'कढपतत': 18253, 'नहतर': 18254, 'carrousel': 18255, 'powdered_milk': 18256, 'formbi': 18257, 'formbyhealthroom': 18258, 'covidwash': 18259, 'newsnz': 18260, 'barleyjuic': 18261, 'madipur': 18262, 'rationkit': 18263, 'vitaminerichfood': 18264, 'ई': 18265, 'तवच': 18266, 'मळवणयसठ': 18267, 'सदर': 18268, 'cha': 18269, 'chahpmc': 18270, 'foodsafetyeducationmonth': 18271, 'foodsafetytip': 18272, 'horowitz': 18273, 'hpmc': 18274, 'bigot': 18275, 'computersci': 18276, 'dalek': 18277, 'denier': 18278, 'environmentalsci': 18279, 'materialsci': 18280, 'scienceprogress': 18281, 'scientificcommun': 18282, 'terd': 18283, 'caremoli': 18284, 'caremoliglutenfre': 18285, 'inspo': 18286, 'indefinit': 18287, 'kingcamil': 18288, 'millroadbridg': 18289, 'millroadpeopl': 18290, 'nonalcoholuc': 18291, 'romseymil': 18292, 'toiletri': 18293, 'fsbat': 18294, 'recipesand': 18295, 'medicalpl': 18296, 'medicinalpl': 18297, 'turmericmilk': 18298, 'sałatka': 18299, 'wegańska': 18300, 'ビーガンサラダ': 18301, 'healthybodyhealthymind': 18302, 'lifestylefruit': 18303, 'autoc': 18304, 'foodqual': 18305, 'iso': 18306, 'pvt': 18307, 'salesautocalnet': 18308, 'abolitionist': 18309, 'systemth': 18310, 'yoga_pos': 18311, 'yogaasana': 18312, 'ooooooh': 18313, 'upscal': 18314, 'blockpor': 18315, 'eviemagazin': 18316, 'pastuerizeddairi': 18317, 'skincondit': 18318, 'arbor': 18319, 'foxnut': 18320, 'humairasadaf_': 18321, 'indianfoxnut': 18322, 'makhana': 18323, 'caminoportugu': 18324, 'celiacdiseaseawar': 18325, 'coeliac': 18326, 'coeliacdiseas': 18327, 'eatandtravel': 18328, 'glutenfreetravel': 18329, 'falter': 18330, 'temptat': 18331, 'predat': 18332, 'diprat': 18333, 'unbeat': 18334, 'lifestyletrain': 18335, 'billon': 18336, 'fitnesschef': 18337, 'lioisystem': 18338, 'anardana': 18339, 'goli': 18340, 'magicbullet': 18341, 'myupgradeinprogress': 18342, 'xanthum': 18343, 'universityoforegon': 18344, 'taketwo': 18345, 'mustdo': 18346, 'husbandri': 18347, 'notifi': 18348, 'veterinarymedicin': 18349, 'grace': 18350, 'philemon': 18351, 'preview': 18352, 'vitafood': 18353, 'skincaretip': 18354, 'chipmunk': 18355, 'critter': 18356, 'lao': 18357, 'tzu': 18358, 'glucosefructos': 18359, 'verizon': 18360, 'eatingforweightloss': 18361, 'weightlosfood': 18362, 'brewarrina': 18363, 'nsw': 18364, 'eggfre': 18365, 'organicingredi': 18366, 'sponsorship': 18367, 'globoil': 18368, 'kute': 18369, 'tirumalla': 18370, 'organicherbalextractsmarket': 18371, 'fascorp': 18372, 'artistontwitt': 18373, 'chippingcampden': 18374, 'cotswold': 18375, 'gloucestershir': 18376, 'gorgeou': 18377, 'jackietrott': 18378, 'veg_matt': 18379, 'foodless': 18380, 'hpt': 18381, 'echinacea': 18382, 'flavanoid': 18383, 'limitedtim': 18384, 'sunbasket': 18385, 'gardentour': 18386, 'sibl': 18387, 'internationalfilmfestiv': 18388, 'livingmybestlif': 18389, 'lúcuma': 18390, 'flip': 18391, 'selfdisciplin': 18392, 'childbirth': 18393, 'naturalbirth': 18394, 'naturaldeliveri': 18395, 'pregyanam': 18396, 'chronicallygina': 18397, 'abbrevi': 18398, 'pho': 18399, 'unfss': 18400, 'internetofth': 18401, 'peterasing': 18402, 'bodyfact': 18403, 'foodsan': 18404, 'youarewhatyoueat': 18405, 'firesid': 18406, 'kannan': 18407, 'sitaram': 18408, 'handson': 18409, 'orgakawach': 18410, 'landcar': 18411, 'aviod': 18412, 'परवसत': 18413, 'मसहर': 18414, 'dailyhealth': 18415, 'sova': 18416, 'operationalpoweroutag': 18417, 'problemat': 18418, 'macki': 18419, 'happeningnow': 18420, 'magara': 18421, 'rbosworkshop': 18422, 'alookaparatha': 18423, 'آلوکے': 18424, 'پراٹھے': 18425, 'goldenbloggerz': 18426, 'trjforblogg': 18427, 'bnfevent': 18428, 'emiliecombet': 18429, 'blitz': 18430, 'poach': 18431, 'saltpepp': 18432, 'uppin': 18433, 'vati': 18434, 'ठव': 18435, 'पय': 18436, 'बडशप': 18437, 'यकत': 18438, 'रगन': 18439, 'beyoubeorgan': 18440, 'greenberri': 18441, 'greenberryorgan': 18442, 'himalaya': 18443, 'multi': 18444, 'austdietaryguidelin': 18445, 'bigcongratulationsto': 18446, 'emantziori': 18447, 'universitysa': 18448, 'travelban': 18449, 'healthysleep': 18450, 'जलद': 18451, 'रत': 18452, 'goodbut': 18453, 'illnesseshigh': 18454, 'jeffereyjaxen': 18455, 'sunshine_to': 18456, 'coronavaccin': 18457, 'hairloss': 18458, 'glycoprotein': 18459, 'mucin': 18460, 'alphalipoicacid': 18461, 'bodyi': 18462, 'nda': 18463, 'stss': 18464, 'catchthemyoung': 18465, 'backach': 18466, 'beatobes': 18467, 'fattyliv': 18468, 'jagrutbharatmov': 18469, 'sayyestogoodhealth': 18470, 'againt': 18471, 'canlightsourc': 18472, 'chairman': 18473, 'exit': 18474, 'fata': 18475, 'food_centr': 18476, 'globalfoodsecur': 18477, 'innovationplac': 18478, 'manitoba': 18479, 'ceat': 18480, 'diagnost': 18481, 'ppb': 18482, 'unmet': 18483, 'essentialwork': 18484, 'varicosevein': 18485, 'veinhealth': 18486, 'tso': 18487, 'applaus': 18488, 'commissionsopen': 18489, 'fitnessday': 18490, 'singleingredi': 18491, 'netiquett': 18492, 'greenhousegas': 18493, 'mooloo': 18494, 'pottytrain': 18495, 'calen': 18496, 'otto': 18497, 'pescetarian': 18498, 'marcgoichot': 18499, 'wwfleadwat': 18500, 'antileukaemia': 18501, 'cosmaceut': 18502, 'estrogenlik': 18503, 'hypolipidem': 18504, 'kingoystermushroom': 18505, 'nurtraceut': 18506, 'foodtalkseu': 18507, 'suscof': 18508, 'fatal': 18509, 'purdueunivers': 18510, 'crusonia': 18511, 'barriqu': 18512, 'firstli': 18513, 'secondli': 18514, 'chri': 18515, 'foster': 18516, 'glutenfr': 18517, 'glutenfreeliv': 18518, 'schar': 18519, 'drifuit': 18520, 'frut': 18521, 'fiberfil': 18522, 'lifeexpect': 18523, 'करणयपरव': 18524, 'घत': 18525, 'goodbacteria': 18526, 'hurbzindia': 18527, 'prebioticfood': 18528, 'charityev': 18529, 'donatetoday': 18530, 'donationsneed': 18531, 'martinluth': 18532, 'savel': 18533, 'silenc': 18534, 'socialwork': 18535, 'lowest': 18536, 'moderna_tx': 18537, 'akshardham': 18538, 'hotjist': 18539, 'hotjistnaija': 18540, 'booststamina': 18541, 'सटमन': 18542, 'abdul': 18543, 'golinga': 18544, 'moham': 18545, 'schoolboy': 18546, 'bearsnacksuk': 18547, 'childrensocieti': 18548, 'coopuk': 18549, 'progsport': 18550, 'staffordshir': 18551, 'bestmasalaindia': 18552, 'bestmasalaup': 18553, 'powderpack': 18554, 'rajshahi': 18555, 'rajshahimasala': 18556, 'rajshahimasalaspicesofindia': 18557, 'spicerecip': 18558, 'tasteofliferajshahipariwarmasal': 18559, 'varanasimasalevaranasifoodspicelov': 18560, 'makhanahealthbenefit': 18561, 'आयषय': 18562, 'मखण': 18563, 'मठभर': 18564, 'aljazeerahealth': 18565, 'declar': 18566, 'doha': 18567, 'qf': 18568, 'qnrf': 18569, 'wishqatar': 18570, 'cherryblossom': 18571, 'groceryandgourmetfoodsin': 18572, 'groceryshop': 18573, 'makhayo': 18574, 'हदयसठ': 18575, 'ecolabel': 18576, 'animalpharma': 18577, 'unfoodsystemssummit': 18578, 'healthblog': 18579, 'contrarian': 18580, 'aajtak': 18581, 'abpnew': 18582, 'altbalaji': 18583, 'bts_bighit': 18584, 'nischaymalhanwinningheart': 18585, 'tellychakkar': 18586, 'weightlloss': 18587, 'shopnow': 18588, 'digihealth': 18589, 'embark': 18590, 'yourstori': 18591, 'florocia': 18592, 'immunityhealth': 18593, 'immunitysupport': 18594, 'oilfield': 18595, 'helpm': 18596, 'loveyal': 18597, 'climatesmart': 18598, 'farmbureau': 18599, 'uswest': 18600, 'wildfir': 18601, 'plump': 18602, 'saltwat': 18603, 'goodformankind': 18604, 'newreal': 18605, 'remakingtheworld': 18606, 'factcheck': 18607, 'fakenewsfilt': 18608, 'oigetit': 18609, 'covidau': 18610, 'icelandfood': 18611, 'lasagn': 18612, 'jedi': 18613, 'wsea': 18614, 'kozhuharov': 18615, 'petyo': 18616, 'fatlossjourney': 18617, 'jelli': 18618, 'pbampj': 18619, 'schoolchild': 18620, 'throwback': 18621, 'dnde': 18622, 'haiku': 18623, 'micropoetri': 18624, 'wizards_dnd': 18625, 'allfoodsfit': 18626, 'versu': 18627, 'eylüldünyaalzheimergünü': 18628, 'gündem': 18629, 'haber': 18630, 'kitap': 18631, 'medya': 18632, 'storytel': 18633, 'teknofest': 18634, 'worldalzheimersday': 18635, 'chiangmai': 18636, 'aerofitz': 18637, 'fitnesspartn': 18638, 'rddesign': 18639, 'bentonle': 18640, 'jitana': 18641, 'gapsdiet': 18642, 'gapsyndrom': 18643, 'insertsyring': 18644, 'earthprotector': 18645, 'endfrackingecocid': 18646, 'envrion': 18647, 'new_fortress': 18648, 'voiceless': 18649, 'healthposit': 18650, 'अजबत': 18651, 'जवणनतर': 18652, 'नय': 18653, 'bellyyummi': 18654, 'hook': 18655, 'kettleman': 18656, 'svelt': 18657, 'swelli': 18658, 'tg': 18659, 'underweight': 18660, 'fitrtoken': 18661, 'desinatur': 18662, 'desinaturalfood': 18663, 'telangana': 18664, 'foodrat': 18665, 'aitdsh': 18666, 'aitnurs': 18667, 'of_ait': 18668, 'penandspoon': 18669, 'telegraph': 18670, 'onlineadvertisingghana': 18671, 'socialmediamarket': 18672, 'healcookbook': 18673, 'believeinsci': 18674, 'creatingourfutur': 18675, 'publicdiscuss': 18676, 'scienceandsocieti': 18677, 'blacksalt': 18678, 'anchovi': 18679, 'characterfishsauc': 18680, 'fishsauc': 18681, 'frement': 18682, 'dextrocardiac': 18683, 'ketpan': 18684, 'muralipiy': 18685, 'ritudoshi': 18686, 'singh_shif': 18687, 'tailormad': 18688, 'themanalivora': 18689, 'aeee': 18690, 'anukr': 18691, 'pathak': 18692, 'tarungarg': 18693, 'dishtv_india': 18694, 'medifoodz': 18695, 'officialdh': 18696, 'watcho': 18697, 'saynotorefinedoil': 18698, 'devswad': 18699, 'casmb': 18700, 'casmbgmailcom': 18701, 'presidentcasmborgin': 18702, 'snrassystem': 18703, 'approxim': 18704, 'chrissi': 18705, 'metz': 18706, 'selfimag': 18707, 'boseman': 18708, 'chadwick': 18709, 'proteinwealthi': 18710, 'blackmoresat': 18711, 'chemistpharmacist': 18712, 'duopoli': 18713, 'highpric': 18714, 'nswpol': 18715, 'overpr': 18716, 'rangeinvari': 18717, 'tweedhead': 18718, 'choclat': 18719, 'chefgruel': 18720, 'instantgratif': 18721, 'multifactori': 18722, 'afrecho': 18723, 'arepa': 18724, 'itll': 18725, 'saynotoinstantgratif': 18726, 'localcouncil': 18727, 'wyndham': 18728, 'wyndhamcitycouncil': 18729, 'drmiroslaw': 18730, 'manicki': 18731, 'michał': 18732, 'modro': 18733, 'uncheck': 18734, 'eb': 18735, 'ediberyl': 18736, 'ediberylltd': 18737, 'gbnutra': 18738, 'gmp': 18739, 'lookingfor': 18740, 'ministryofhealth': 18741, 'sku': 18742, 'cruiser': 18743, 'tabbouleh': 18744, 'cityofpg': 18745, 'ckpg': 18746, 'ckpgtoday': 18747, 'ckpgtv': 18748, 'comingsoon': 18749, 'newshow': 18750, 'northernbc': 18751, 'princegeorg': 18752, 'quesnel': 18753, 'smither': 18754, 'talkshow': 18755, 'barbiesway': 18756, 'brontyman': 18757, 'butterflylove_': 18758, 'chronicpaindad': 18759, 'elianatardio': 18760, 'helenresist': 18761, 'kraven_raven': 18762, 'mhallnin': 18763, 'nevermore_': 18764, 'pmurttrump': 18765, 'putmygamefaceon': 18766, 'skartveitn': 18767, 'thompsonb': 18768, 'walterp': 18769, 'desireeowritergmailcom': 18770, 'megadrought': 18771, 'populationcontrol': 18772, 'thomasmalthu': 18773, 'autocr': 18774, 'caraca': 18775, 'celiaco': 18776, 'celiacosvenezuela': 18777, 'emprendimiento': 18778, 'gran': 18779, 'guairasolo': 18780, 'hasta': 18781, 'invitan': 18782, 'playa': 18783, 'si': 18784, 'singluten': 18785, 'singlutengrancaraca': 18786, 'tacc': 18787, 'brief': 18788, 'unfoodsystemsummit': 18789, 'boristheliar': 18790, 'brexitdisast': 18791, 'elect': 18792, 'kickback': 18793, 'ashaangi': 18794, 'cardano': 18795, 'gethealthi': 18796, 'healthtalk': 18797, 'worldathleticsu': 18798, 'bjthom': 18799, 'buildabetteru': 18800, 'ischem': 18801, 'mrpeanut': 18802, 'frenchtoast': 18803, 'fairtrademarku': 18804, 'umassamherst': 18805, 'univofnotredam': 18806, 'yale': 18807, 'lifter': 18808, 'massag': 18809, 'teetreeoil': 18810, 'peppermint': 18811, 'rever': 18812, 'prestig': 18813, 'clarif': 18814, 'dietarysupplemen': 18815, 'healthit': 18816, 'musclepain': 18817, 'smallerwhich': 18818, 'childhoodcancerawarenessmonth': 18819, 'cuddl': 18820, 'doctorsay': 18821, 'fightlikeakid': 18822, 'jll': 18823, 'kidswithcanc': 18824, 'skim': 18825, 'aquacultur': 18826, 'pelag': 18827, 'lay': 18828, 'بچوں': 18829, 'نگٹس': 18830, 'پسندیدہ': 18831, 'highereduc': 18832, 'unipadova': 18833, 'ast': 18834, 'clinicalresearch': 18835, 'foodprocess': 18836, 'yourhealthpartn': 18837, 'peoplefirst': 18838, 'bangalorediari': 18839, 'oyedeliveri': 18840, 'onebigreason': 18841, 'onetoon': 18842, 'hypoglycemia': 18843, 'lowbloodsugar': 18844, 'medimarkayurv': 18845, 'childpoverti': 18846, 'togetherwecan': 18847, 'transferstax': 18848, 'letsfightdiabet': 18849, 'helpingeachoth': 18850, 'helpinghand': 18851, 'unnati_found': 18852, 'अनय': 18853, 'कषतर': 18854, 'गई': 18855, 'गरमण': 18856, 'धयन': 18857, 'पन': 18858, 'बडत': 18859, 'रखत': 18860, 'वयवसथ': 18861, 'सफ': 18862, 'हए': 18863, 'bengaluru': 18864, 'doodh': 18865, 'giloy': 18866, 'antoni': 18867, 'sustainablelifestylemodif': 18868, 'breadrank': 18869, 'ayurvedaeveryday': 18870, 'ayurvediclifestyl': 18871, 'challengeaccept': 18872, 'lifego': 18873, 'teamdhuni': 18874, 'unwant': 18875, 'bn': 18876, 'dsm': 18877, 'nervosa': 18878, 'orthorexia': 18879, 'audac': 18880, 'dancer': 18881, 'gentrifi': 18882, 'inconsider': 18883, 'ital': 18884, 'jamaican': 18885, 'rude': 18886, 'singer': 18887, 'songwrit': 18888, 'stupid': 18889, 'stvincent': 18890, 'trini': 18891, 'anatomi': 18892, 'gym': 18893, 'kristina': 18894, 'meatlessfarm': 18895, 'omarimcqueen': 18896, 'goodfreeadvic': 18897, 'visitgtgt': 18898, 'insidepn': 18899, 'unifi': 18900, 'bl': 18901, 'cola': 18902, 'cpi': 18903, 'elderabus': 18904, '_ninadomingo': 18905, 'airqualityrel': 18906, 'beyondwho': 18907, 'pnasnew': 18908, 'hypothesi': 18909, 'nina': 18910, 'sortedfood': 18911, 'teicholz': 18912, 'emrich': 18913, 'memrich': 18914, 'foodfororalhealth': 18915, 'oralhealth': 18916, 'lhim': 18917, 'termplan': 18918, 'naturalflavor': 18919, 'ramladdu': 18920, 'dragonfli': 18921, 'identif': 18922, 'inhibitor': 18923, 'aj': 18924, 'alganaa': 18925, 'flood': 18926, 'jabalain': 18927, 'reloc': 18928, 'sudan': 18929, 'sudanes': 18930, 'furthest': 18931, 'wthe': 18932, 'bufa': 18933, 'cotton': 18934, 'humanher': 18935, 'importsel': 18936, 'propoganda': 18937, 'pufa': 18938, 'purehealthi': 18939, 'tufa': 18940, 'apoyaloloc': 18941, 'cultura': 18942, 'foodcultur': 18943, 'foodfilmmenu': 18944, 'igcat': 18945, 'regionaldevelop': 18946, 'regionsofgastronomi': 18947, 'supportyourloc': 18948, 'sustainabletour': 18949, 'turismososten': 18950, 'celiactravel': 18951, 'glutenfreeb': 18952, 'ipa': 18953, 'jekyllskitchen': 18954, 'nomeat': 18955, 'anjeer': 18956, 'burner': 18957, 'burnxt': 18958, 'kokanssr': 18959, 'newdiet': 18960, 'newdietcok': 18961, 'thermogen': 18962, 'applepodcast': 18963, 'podacst': 18964, 'keepdoingwhatisright': 18965, 'notwhattheworldperceivedascult': 18966, 'peculiarpeopl': 18967, 'pipsqueak': 18968, 'trustgod': 18969, 'aptitud': 18970, 'cellphon': 18971, 'cellphoneaddict': 18972, 'cerveau': 18973, 'childhealth': 18974, 'doctorado': 18975, 'doctorsofinstagram': 18976, 'ejercicio': 18977, 'exercic': 18978, 'neuro': 18979, 'übung': 18980, 'khadar': 18981, 'valli': 18982, 'यईल': 18983, 'रगणन': 18984, 'वजनह': 18985, 'chywanprash': 18986, 'healthydrink': 18987, 'madeinindia': 18988, 'openforbusi': 18989, 'rocksugar': 18990, 'sabrosa': 18991, 'sitopaladi': 18992, 'tikda': 18993, 'toffe': 18994, 'cholesterolfre': 18995, 'israelipm': 18996, 'mohidzeeshan': 18997, 'statedept': 18998, 'zeeshanamjad': 18999, 'apekshasandesh': 19000, 'foodhabit': 19001, 'louder': 19002, 'penni': 19003, 'queue': 19004, 'climateactioninthekitchen': 19005, 'coddl': 19006, 'dcaw': 19007, 'dubcitycouncil': 19008, 'eatthestreet': 19009, 'mezz': 19010, 'comidacasera': 19011, 'comidasana': 19012, 'blister': 19013, 'epicur': 19014, 'foreground': 19015, 'glacé': 19016, 'reflex': 19017, 'wet': 19018, 'bakeryswap': 19019, 'levi': 19020, 'homegym': 19021, 'moreweight': 19022, 'peoriaillinoi': 19023, 'peoriailpersonaltrain': 19024, 'successfit': 19025, 'successisgolden': 19026, 'ihl': 19027, 'myanmar': 19028, 'syria': 19029, 'unga': 19030, 'arrellfoodinst': 19031, 'onecgiar': 19032, 'trinidad': 19033, 'worldfishcent': 19034, 'greendeal': 19035, 'quantit': 19036, 'unfavour': 19037, 'arisk': 19038, 'decaffein': 19039, 'happyman': 19040, 'sky': 19041, 'streetlight': 19042, 'wallpap': 19043, 'muscleboy': 19044, 'findyourth': 19045, 'aqui': 19046, 'calabacin': 19047, 'muestro': 19048, 'pasticho': 19049, 'reverseosmosi': 19050, 'waterfiltr': 19051, 'viscer': 19052, 'chlorophyl': 19053, 'intdiabetesf': 19054, 'login': 19055, 'naturemeast': 19056, 'ashok': 19057, 'benefitsofmedit': 19058, 'dhyankelabh': 19059, 'explan': 19060, 'meditat': 19061, 'pmc': 19062, 'pmclive': 19063, 'pyramidmast': 19064, 'pancreaticcanc': 19065, 'dietformula': 19066, 'कठलयह': 19067, 'परकरच': 19068, 'फरमल': 19069, 'वरकआउट': 19070, 'aircondit': 19071, 'botanist': 19072, 'miniatur': 19073, 'jaggerybenefit': 19074, 'करणयपरयत': 19075, 'करणयपसन': 19076, 'गळ': 19077, 'डटकस': 19078, 'newflavor': 19079, 'beautybenefit': 19080, 'complexion': 19081, 'skinbenefit': 19082, 'twa': 19083, 'twasnt': 19084, 'assistedliv': 19085, 'villageeldercaregoldenag': 19086, 'jaggi': 19087, 'pestisidefre': 19088, 'vasudev': 19089, 'arjandewagt': 19090, 'naturesbounti': 19091, 'ncdirindia': 19092, 'toifood': 19093, 'healtheconom': 19094, 'healthscienc': 19095, 'primaryhealthcar': 19096, 'socialcar': 19097, 'lastli': 19098, 'thelancet': 19099, 'thelancetplanet': 19100, 'amarillo': 19101, 'sjl': 19102, 'stjudelab': 19103, 'juicejuic': 19104, 'mixer': 19105, 'featurefriday': 19106, 'fridayintroduct': 19107, 'discovermag': 19108, 'twin': 19109, 'greenhouseemiss': 19110, 'foodprint': 19111, 'copper_cloth': 19112, 'blood_pressur': 19113, 'yummier': 19114, 'antioxidantsbut': 19115, 'cornchipsand': 19116, 'organicthey': 19117, 'fiberprotein': 19118, 'malvani': 19119, 'nutritionweek': 19120, 'sneha': 19121, 'uphc': 19122, 'nutritiousmind': 19123, 'consolid': 19124, 'pretium': 19125, 'eccp': 19126, 'een_eu': 19127, 'ipisg': 19128, 'readytomarket': 19129, 'techinnov': 19130, 'underr': 19131, 'bk': 19132, 'forgo': 19133, 'profevansmarket': 19134, 'ᖇᑌᒪe': 19135, 'ᖴooᗪ': 19136, 'darfur': 19137, 'galena': 19138, 'grandson': 19139, 'idp': 19140, 'ismael': 19141, 'luthworldrelief': 19142, 'newli': 19143, 'nyala': 19144, 'otash': 19145, 'outskirt': 19146, 'settlement': 19147, 'southdarfur': 19148, 'swaddl': 19149, 'doctre': 19150, 'itrat': 19151, 'तरस': 19152, 'फळचय': 19153, 'बदधकषठतच': 19154, 'सवनन': 19155, 'cleaningservic': 19156, 'deepclean': 19157, 'itfor': 19158, 'leisur': 19159, 'goodbad': 19160, 'tuck': 19161, 'elabor': 19162, 'groundnutoil': 19163, 'harini': 19164, 'pachaiyappan': 19165, 'preethi': 19166, 'rahul': 19167, 'welllik': 19168, 'adbhutgyan': 19169, 'fluid': 19170, 'periyar': 19171, 'चकनह': 19172, 'फरजमधय': 19173, 'फळ': 19174, 'centerlf': 19175, 'eğitim': 19176, 'kpss': 19177, 'motiva': 19178, 'okul': 19179, 'sağlık': 19180, 'aug': 19181, 'chutki': 19182, 'moringapowd': 19183, 'organicliv': 19184, 'sehatbharichutki': 19185, 'triphalapowd': 19186, 'tulsipowd': 19187, 'anemiaproblem': 19188, 'bovaer': 19189, 'canolapro': 19190, 'eversweet': 19191, 'glycom': 19192, 'veramari': 19193, 'verax': 19194, 'healthapp': 19195, 'healthfreak': 19196, 'mysehat': 19197, 'bookrecommend': 19198, 'chalterahosubhashaam': 19199, 'exerciseismedicin': 19200, 'fitnessroutineathom': 19201, 'jeevanchalnekanaam': 19202, 'weekday': 19203, 'leah': 19204, 'tuppi': 19205, 'undernourish': 19206, 'tendencia': 19207, 'deciph': 19208, 'avi': 19209, 'baxley_amb': 19210, 'biggdoggsupaman': 19211, 'chstechgirl': 19212, 'davidaylor': 19213, 'davidgmiley': 19214, 'dsmith': 19215, 'houseofbullock': 19216, 'jahdeg': 19217, 'laurasomersmith': 19218, 'missericapag': 19219, 'misspow': 19220, 'nikkitajohnson': 19221, 'nowroozyani': 19222, 'onecoydiva': 19223, 'qweenzamunda': 19224, 'southrnbratu': 19225, 'foodpolici': 19226, 'ecologicalemerg': 19227, 'oxongrowthboard': 19228, 'southoxon': 19229, 'theoxfordmail': 19230, 'whitehorsedc': 19231, 'peoplespharmaci': 19232, 'visceralfat': 19233, 'veganburg': 19234, 'zog': 19235, 'zoglos_offici': 19236, 'zucchinibenefit': 19237, 'bottlespackag': 19238, 'pepsico': 19239, 'pepsiconeg': 19240, '_charlotte_gs_': 19241, 'anna_isaac': 19242, 'corinnahawk': 19243, 'jesssicabrock': 19244, 'metaphor': 19245, 'nesta_uk': 19246, 'futureoffoodorg': 19247, 'matiesgymnasium': 19248, 'stellenbosch': 19249, 'converg': 19250, 'joanna': 19251, 'rte': 19252, 'bestbrand': 19253, 'tomatoketchup': 19254, 'topbrand': 19255, 'animalshaveright': 19256, 'victor': 19257, 'timeplu': 19258, 'animallawyersuk': 19259, 'kathleensbarn': 19260, 'danbarb': 19261, 'rowse': 19262, 'stonebarn': 19263, 'newdelhi': 19264, 'cagchennai': 19265, 'frontofpackag': 19266, 'productswould': 19267, 'profici': 19268, 'pixeliasdotcom': 19269, 'mahatma': 19270, 'mithi': 19271, 'roadsid': 19272, 'tharparkar': 19273, 'leaderinnutrit': 19274, 'nationalnutritionmonth': 19275, 'nutritionmonth': 19276, 'nutritionprogram': 19277, 'nutritionzon': 19278, 'drarvindkumarpresidentindiawaterfound': 19279, 'moefcc': 19280, 'moesgoi': 19281, 'ozonedaylay': 19282, 'planttre': 19283, 'saveozonelay': 19284, 'savetheearth': 19285, 'whatonearth': 19286, 'worldozoneday': 19287, 'dolly_fridah': 19288, 'letstalkwithdolli': 19289, 'mkoji': 19290, 'theallnewlookupradiok': 19291, 'cookierun': 19292, 'meditatenavig': 19293, 'schoolunch': 19294, 'ozon': 19295, 'ozoneday': 19296, 'alf': 19297, 'borderbottom': 19298, 'dadada': 19299, 'marginbottom': 19300, 'paddingbottom': 19301, 'px': 19302, 'rssgtitl': 19303, 'rssgtitlesonli': 19304, 'gdp': 19305, 'moa_ethiopia': 19306, 'zborkena': 19307, 'badthes': 19308, 'likesharecom': 19309, 'nutritionalwel': 19310, 'nutritiontwitt': 19311, 'dieticician': 19312, 'heartnew': 19313, 'stealth': 19314, 'ajax': 19315, 'bbnajia': 19316, 'freeafghanistan': 19317, 'halamadrid': 19318, 'kabulhasfallen': 19319, 'krpkab': 19320, 'metgala': 19321, 'mnakwethumzansi': 19322, 'nffc': 19323, 'thecirclenetflix': 19324, 'veocomocanta': 19325, 'wwenxt': 19326, 'mimick': 19327, 'catherin': 19328, 'drflav': 19329, 'ianbreakspear': 19330, 'itsiopol': 19331, 'realign': 19332, 'customiz': 19333, 'seamless': 19334, 'beastmod': 19335, 'w_karv': 19336, 'nb': 19337, 'selfassess': 19338, 'animaloutlook': 19339, 'avmavet': 19340, 'awionlin': 19341, 'drlegitthevet': 19342, 'howardu': 19343, 'nphw': 19344, 'vetnew': 19345, 'weforg': 19346, 'fastship': 19347, 'gifski': 19348, 'lowpric': 19349, 'mvssale': 19350, 'werbl': 19351, 'comicsforclim': 19352, 'cropsaredi': 19353, 'eatm': 19354, 'extremeweatherchang': 19355, 'peoplearedi': 19356, 'peoplearesick': 19357, 'myselfcarerx': 19358, 'oneshttpswwwfitandwellcomnewswhyyoushouldntcutallcarbsfromyourdietjustthelowqualityon': 19359, 'buzzword': 19360, 'gybn_cbd': 19361, 'mirnaif': 19362, 'qrgsuperspecialityhospit': 19363, 'toll': 19364, 'jharkhand': 19365, 'keralacovidupd': 19366, 'vaccinationdr': 19367, 'आशचरयकरक': 19368, 'एक': 19369, 'calloi': 19370, 'dhanyawaad': 19371, 'jjg': 19372, 'prose': 19373, 'thewritingcow': 19374, 'twc': 19375, 'writerscaf': 19376, 'appstat': 19377, 'danoneresearch': 19378, 'heidelbergu': 19379, 'mcmasteru': 19380, 'nutritionoff': 19381, 'bbsrc': 19382, 'ctp': 19383, 'fullyfund': 19384, 'inquisit': 19385, 'lab_edward': 19386, 'sep': 19387, 'ukri_new': 19388, 'hazel': 19389, 'liftstylechoic': 19390, 'sirmvisvesaraya': 19391, 'augustseptemb': 19392, 'darrenturnermedium': 19393, 'xdt': 19394, 'goodespeci': 19395, 'pnw': 19396, 'raini': 19397, 'soo': 19398, 'vegandish': 19399, 'abolish': 19400, 'mumbaidelhi': 19401, 'optimizedget': 19402, 'chirplosangel': 19403, 'countyofla': 19404, 'ebt': 19405, 'pebt': 19406, 'thrivemarket': 19407, 'vineg': 19408, 'boar': 19409, 'crowdcow': 19410, 'groceryhaul': 19411, 'groundmeat': 19412, 'unbox': 19413, 'wagyu': 19414, 'jdm': 19415, 'stancen': 19416, 'analystassoci': 19417, 'pangaea': 19418, 'phoenix': 19419, 'venturecapit': 19420, 'awana': 19421, 'debut': 19422, 'resortsworldlv': 19423, 'sauna': 19424, 'spa': 19425, 'vegaspublicity_': 19426, 'untru': 19427, 'conagen': 19428, 'scaleup': 19429, 'insan': 19430, 'endspecies': 19431, 'hormonefre': 19432, 'shango': 19433, 'shangocannabi': 19434, 'lumilifestyl': 19435, 'winelov': 19436, 'therenov': 19437, 'agrav': 19438, 'joven': 19439, 'latinamerica': 19440, 'onu': 19441, 'pandemia': 19442, 'sobrepeso': 19443, 'fooddesert': 19444, 'livingwel': 19445, 'mealprepar': 19446, 'mealstorag': 19447, 'tupperwar': 19448, 'goodsamaritan': 19449, 'davidludwigmd': 19450, 'earlysimplifi': 19451, 'homeofepicur': 19452, 'updatedexpand': 19453, 'packagedesign': 19454, 'scratchboard': 19455, 'traditionalart': 19456, 'brexitserfdom': 19457, 'globalbritain': 19458, 'ironi': 19459, 'foodlik': 19460, 'uncanni': 19461, 'yogahealthexpo': 19462, 'wmi': 19463, 'waterpollut': 19464, 'ishs_hort': 19465, 'eruvaaka': 19466, 'eruvaakamagzin': 19467, 'ఏడ': 19468, 'గరచ': 19469, 'ట': 19470, 'తలసకద': 19471, 'పరయజనల': 19472, 'బద': 19473, 'లన': 19474, 'dietarysourc': 19475, 'ussllc': 19476, 'antisept': 19477, 'blogger_amelia': 19478, 'digestiveenzym': 19479, 'masszym': 19480, 'cnbci': 19481, 'eternitynew': 19482, 'heathermichaud': 19483, 'percentag': 19484, 'competitionsza': 19485, 'competiton': 19486, 'giveawaysa': 19487, 'kiwikook': 19488, 'kookbox': 19489, 'krazikiwikook': 19490, 'productrecommend': 19491, 'czechia': 19492, 'foreign': 19493, 'tulasitulsi': 19494, 'fastedcardio': 19495, 'zeaxanthin': 19496, 'betterchoic': 19497, 'onehumanspeci': 19498, 'oneplanet': 19499, 'lyric': 19500, 'michaeljackson': 19501, 'visualis': 19502, 'bravo': 19503, 'greeneconomi': 19504, 'contentwrit': 19505, 'onlineearn': 19506, 'chase': 19507, 'drvandanashiva': 19508, 'foodsafetycultur': 19509, 'foodsafetyfirst': 19510, 'pacakgedfood': 19511, 'oceanplast': 19512, 'pescavegan': 19513, 'saveoursea': 19514, 'sealif': 19515, 'capacitybuild': 19516, 'caritas_id': 19517, 'dioces': 19518, 'larantuka': 19519, 'serojacylon': 19520, 'kidsbook': 19521, 'liveev': 19522, '__________________________________': 19523, 'rohit': 19524, 'actionaidindia': 19525, 'akshayapatra': 19526, 'ashram': 19527, 'august': 19528, 'fooddistribut': 19529, 'iod': 19530, 'jasola': 19531, 'nagrik': 19532, 'shanti': 19533, 'vihar': 19534, 'largestvaccinationdr': 19535, 'vaccinepassport': 19536, 'goodhom': 19537, 'seniorliv': 19538, 'fifa': 19539, 'whatif': 19540, 'xfaktor': 19541, 'youthtoday': 19542, 'freefolk': 19543, 'motov': 19544, 'procrastin': 19545, 'statstori': 19546, 'sm': 19547, 'wendi_irlbeck': 19548, 'arden': 19549, 'indigenousfood': 19550, 'lodi': 19551, 'smartcrop': 19552, 'dailynew': 19553, 'healthli': 19554, 'butcher': 19555, 'dellapietra': 19556, 'bait': 19557, 'fella': 19558, 'intraven': 19559, 'hydroaeropon': 19560, 'altmedicin': 19561, 'rawdiet': 19562, 'tofunni': 19563, 'tofurecip': 19564, 'tofuscrambl': 19565, 'dite': 19566, 'hyderabadi': 19567, 'wth': 19568, 'arlenedavila': 19569, 'marionnestl': 19570, 'suppressappetit': 19571, 'opensea': 19572, 'veganc': 19573, 'campuskulmbach': 19574, 'unibt': 19575, 'compliant': 19576, 'microlearn': 19577, 'aluminium': 19578, 'aluminum': 19579, 'chi': 19580, 'kri': 19581, 'calday': 19582, 'bellaskininst': 19583, 'guanch': 19584, 'healthintpod': 19585, 'iwasinterrupt': 19586, 'zenfood': 19587, 'illuminati': 19588, 'killuminati': 19589, 'redpil': 19590, 'gulab': 19591, 'shahi': 19592, 'goodu': 19593, 'globalregulatoryservic': 19594, 'gr': 19595, 'grsglobalregulatoryservicescom': 19596, 'novelfoodregul': 19597, 'regulatorysupport': 19598, 'foodrelief': 19599, 'kitofjoy': 19600, 'mainten': 19601, 'mode': 19602, 'happymonday': 19603, 'doctor_oxford': 19604, 'homemadetradit': 19605, '川菜': 19606, '猪肝面': 19607, 'whr': 19608, 'sudanurg': 19609, 'babyledwean': 19610, 'blw': 19611, 'familym': 19612, 'fouryearold': 19613, 'fussyeat': 19614, 'fussykid': 19615, 'percept': 19616, 'sixyearold': 19617, 'muscleman': 19618, 'supplements_are_not_natur': 19619, 'yogalov': 19620, 'reid': 19621, 'tao': 19622, 'summertomato': 19623, 'tferriss': 19624, 'intestinehealth': 19625, 'आत': 19626, 'फरमटड': 19627, 'plantrich': 19628, 'plantrichdiet': 19629, 'mythvsfact': 19630, 'afghanrefuge': 19631, 'doforself': 19632, 'repar': 19633, 'thebidenadministr': 19634, 'amol': 19635, 'flourmil': 19636, 'modi': 19637, 'modiji': 19638, 'wtrmlnwtr': 19639, 'acim': 19640, 'acimbdinfo': 19641, 'acimbdinfogmailcom': 19642, 'drhaqu': 19643, 'drmojibulhaqu': 19644, 'yummyyyyyyi': 19645, 'self_car': 19646, 'dietblog': 19647, 'itwork': 19648, 'sunchat': 19649, 'chocolatemilkshakeday': 19650, 'jo': 19651, 'cart': 19652, 'indianpdf': 19653, 'kalonji': 19654, 'आपलय': 19655, 'कलज': 19656, 'joghurt': 19657, 'thick': 19658, 'bpd': 19659, 'crp': 19660, 'piriod': 19661, 'trimest': 19662, 'civicprid': 19663, 'humid': 19664, 'infotreepeopl': 19665, 'onetreepl': 19666, 'shade': 19667, 'treeapp_uk': 19668, 'treepeople_org': 19669, 'waterpenetr': 19670, 'cinnamontea': 19671, 'चह': 19672, 'दलचन': 19673, 'bohmovi': 19674, 'bohonionpowd': 19675, 'foodjok': 19676, 'foodmovi': 19677, 'foodpun': 19678, 'minion': 19679, 'netflixandchil': 19680, 'onionpowd': 19681, 'pyaaz': 19682, 'scroll': 19683, 'plantfood': 19684, 'polishfood': 19685, 'mae': 19686, 'unlockingthefutureofsteelbuild': 19687, 'ajudar': 19688, 'bastant': 19689, 'contra': 19690, 'healhi': 19691, 'mai': 19692, 'pode': 19693, 'mindfulavocado': 19694, 'tahini': 19695, 'covidhelp': 19696, 'nhan': 19697, 'marcusrashford': 19698, 'ev': 19699, 'beautyskinyourn': 19700, 'dice': 19701, 'healthstor': 19702, 'expresso': 19703, 'unexplain': 19704, 'bidenadministr': 19705, 'asa': 19706, 'curs': 19707, 'immunehealth': 19708, '𝐄𝐚𝐭': 19709, '𝐋𝐢𝐯𝐞': 19710, '𝐑𝐢𝐠𝐡𝐭': 19711, 'diseaseincreas': 19712, 'allen': 19713, 'apfel': 19714, 'bienen': 19715, 'bringen': 19716, 'cidr': 19717, 'ein': 19718, 'ernt': 19719, 'glücklich': 19720, 'leben': 19721, 'nahrung': 19722, 'pomm': 19723, 'saft': 19724, 'und': 19725, 'डरकस': 19726, 'तवचसठ': 19727, 'हलद': 19728, 'a_w_glob': 19729, 'jenn': 19730, 'natto': 19731, 'shawarma': 19732, 'beautifi': 19733, 'zerofoodmil': 19734, 'slimminggroup': 19735, 'liverhealthi': 19736, 'tvmarathi': 19737, 'करयकषमत': 19738, 'कश': 19739, 'घयल': 19740, 'नसरगक': 19741, 'यकतच': 19742, 'mkstalin': 19743, 'neet': 19744, 'priest': 19745, 'primeminist': 19746, 'taliban': 19747, 'tngovt': 19748, 'கல': 19749, 'சயதகள': 19750, 'மககய': 19751, 'catechin': 19752, 'mediterraneaninspir': 19753, 'centroamerica': 19754, 'chatbot': 19755, 'hairstylist': 19756, 'islasdelcarib': 19757, 'llave': 19758, 'khayyam': 19759, 'omar': 19760, 'bifidobacterium': 19761, 'lactobacilli': 19762, 'permeabl': 19763, 'shortchain': 19764, 'makeinindia': 19765, 'terracotta': 19766, 'antimalari': 19767, 'chymopapain': 19768, 'health_benefit': 19769, 'akonnect': 19770, 'healthylifehttpstcokihohsvj': 19771, 'bhajiyaonion': 19772, 'kaanda': 19773, 'pakauda': 19774, 'bienetr': 19775, 'cannabislegal': 19776, 'agada': 19777, 'ehttpstcowotqtn': 19778, 'ene': 19779, 'himach': 19780, 'oman': 19781, 'saudiarabia': 19782, 'tenner': 19783, 'theresa': 19784, 'birria': 19785, 'avocadose': 19786, 'drmichaellbrown': 19787, 'strengthenyourwalk': 19788, 'stronghold': 19789, 'rebel': 19790, 'telomer': 19791, 'tryit': 19792, 'mnt': 19793, 'chc': 19794, 'thealexchc': 19795, 'wraparound': 19796, 'familydoctor': 19797, 'familyhealth': 19798, 'familymedicin': 19799, 'healthinfo': 19800, 'montevistamed': 19801, 'counsel': 19802, 'qualit': 19803, 'bfren': 19804, 'german': 19805, 'feelal': 19806, 'sonybbcearth': 19807, 'whatarewefeedingourkid': 19808, 'escoffierschool': 19809, 'normasaund': 19810, 'veganella_': 19811, 'castlemain': 19812, 'cork': 19813, 'killorglin': 19814, 'limerick': 19815, 'trale': 19816, 'boxfresh': 19817, 'endur': 19818, 'fashionweek': 19819, 'calfit': 19820, 'daliya': 19821, 'acib': 19822, 'divert': 19823, 'luley': 19824, 'repurpos': 19825, 'sugarsurplu': 19826, 'reactiv': 19827, 'superhero': 19828, 'differentfood': 19829, 'tedtalkfriday': 19830, 'cr': 19831, 'jessfanzo': 19832, 'l_haddad': 19833, 'ganeshchaturthi': 19834, 'ganeshotsav': 19835, 'samajhdaartyohaar': 19836, 'bappajibless': 19837, 'ganpatibappamorya': 19838, 'happinesz': 19839, 'ammoniapollut': 19840, 'hippocrat': 19841, 'grubsterscom': 19842, 'boy_card': 19843, 'dobett': 19844, 'dowhatyouc': 19845, 'nofix': 19846, 'samsungfridg': 19847, 'samsungkorea': 19848, 'samsungmoneypit': 19849, 'cleanfoodpow': 19850, 'hydroponic_system': 19851, 'cavil': 19852, 'mdcommun': 19853, 'musculardystrophi': 19854, 'quitsugar': 19855, 'sugarfreechalleng': 19856, 'sugarfreeformd': 19857, 'sugarfreeseptemb': 19858, 'dietenvironmenthealth': 19859, 'interconnectedrisk': 19860, 'trilemma': 19861, 'hemispher': 19862, 'nofat': 19863, 'thursdaytip': 19864, 'readourblog': 19865, 'betteron': 19866, 'midwest': 19867, 'nebraska': 19868, 'defrachiefscien': 19869, 'hurrah': 19870, 'innovationforag': 19871, 'blackwork': 19872, 'communityfridg': 19873, 'whoever': 19874, 'fairli': 19875, 'futerra': 19876, 'smallscal': 19877, 'wbcsd': 19878, 'foodgillysmith': 19879, 'action_homeless': 19880, 'foodbankdon': 19881, 'foodbanksuk': 19882, 'vegannew': 19883, 'feedthehungri': 19884, 'foodbankday': 19885, 'impressionvil': 19886, 'dietalami': 19887, 'dryfig': 19888, 'anurudh': 19889, 'anurudhkhanna': 19890, 'khanna': 19891, 'industrydata': 19892, 'agit': 19893, 'fare': 19894, 'bentleyurbanfarm': 19895, 'may_gdn': 19896, 'permaculturemagazin': 19897, 'lehighhvac': 19898, 'penal': 19899, 'tofish': 19900, 'vegannutrit': 19901, 'nhsprivatis': 19902, 'pharm': 19903, 'savethenh': 19904, 'statement': 19905, 'toryliar': 19906, 'thorough': 19907, 'essex': 19908, 'localproduc': 19909, 'madebycarob': 19910, 'pompeii': 19911, 'recreat': 19912, 'hiland': 19913, 'splice': 19914, 'sureti': 19915, 'sportsuppl': 19916, 'dysfunct': 19917, 'staycat': 19918, 'zenbev': 19919, 'zenbevuk': 19920, 'digimag': 19921, 'heritageday': 19922, 'homemak': 19923, 'wanderlust': 19924, 'menhow': 19925, '___________________________': 19926, 'bisa': 19927, 'ini': 19928, 'mengatasi': 19929, 'penyakit': 19930, 'resep': 19931, 'londen': 19932, 'italianstallion': 19933, 'angioplasti': 19934, 'betterlatethannev': 19935, 'mgnt': 19936, 'tang': 19937, 'freshlymad': 19938, 'idol': 19939, 'leonie_chaofong': 19940, 'univmiami': 19941, 'almondblackpepp': 19942, 'almondmasala': 19943, 'thedatehous': 19944, 'owo': 19945, 'mealwaysy': 19946, 'basebal': 19947, 'careabout': 19948, 'yanke': 19949, 'cacaonib': 19950, 'nib': 19951, 'syhealth': 19952, 'easytoprepar': 19953, 'essentialvitamin': 19954, 'fatsolublevitamin': 19955, 'vitamink': 19956, 'watersolublevitamin': 19957, 'fsem': 19958, 'preach': 19959, 'deliverzero': 19960, 'yorker': 19961, 'ilovemyfeetday': 19962, 'goodpractic': 19963, 'policylearningplatform': 19964, 'ofliv': 19965, 'diwekar': 19966, 'rujuta': 19967, 'wheatbread': 19968, 'whitebread': 19969, 'alkab': 19970, 'alkabeergroup': 19971, 'globalliteracyday': 19972, 'babyproduct': 19973, 'cardlinegift': 19974, 'dokodemo': 19975, 'drdarylgioffr': 19976, 'natashamillersf': 19977, 'pace_pr': 19978, 'ego': 19979, 'cakewalk': 19980, 'heartfriendlyfood': 19981, 'घयच': 19982, 'धकयपसन': 19983, 'वचयचय': 19984, 'हदयवकरचय': 19985, 'retweeetplease_n_spreadtheworld': 19986, 'vkcoe_irma': 19987, 'அவசயமன': 19988, 'ஊடடசசததககள': 19989, 'பணகளகக': 19990, 'reltionship': 19991, 'shoulder': 19992, 'uow': 19993, 'wic': 19994, 'yarn': 19995, 'arig': 19996, 'border': 19997, 'cecinhasantto': 19998, 'hsnklil': 19999, 'nealhailey': 20000, 'otrogoga': 20001, 'princjan_': 20002, 'queen__eliz': 20003, 'raeisiayoub': 20004, 'supourt': 20005, 'accessori': 20006, 'cashback': 20007, 'marqt': 20008, 'paisawapa': 20009, 'prepaid': 20010, 'upto': 20011, 'पलय': 20012, 'biindia': 20013, 'krittiiii': 20014, 'sahipakdehain': 20015, 'sodiumfre': 20016, 'swarajkaran': 20017, 'williamshakespear': 20018, 'durban': 20019, 'kwazulu': 20020, 'safmradio': 20021, 'sapoliceservic': 20022, 'tin': 20023, 'tomco': 20024, 'infecti': 20025, 'informationoverload': 20026, 'jagrutbharat': 20027, 'cbi': 20028, 'uscpharmaci': 20029, 'bbnaijashineyaey': 20030, 'latestori': 20031, 'gastral': 20032, 'germin': 20033, 'phytic': 20034, 'daisi': 20035, 'simoni': 20036, 'boe': 20037, 'cdchealthyschool': 20038, 'nced': 20039, 'ncpol': 20040, 'ponder': 20041, 'questionsa': 20042, 'studentsfacultyschool': 20043, 'wcpss': 20044, 'cath_collinson': 20045, 'notsogreat': 20046, 'transamerica': 20047, 'char': 20048, 'ecofriendlyfact': 20049, 'fivepoint': 20050, 'dananessel': 20051, 'thehealthytart': 20052, 'brandario': 20053, 'forsal': 20054, 'catalog': 20055, 'mealplann': 20056, 'eatwellglob': 20057, 'ewgff': 20058, 'tradingsymbol': 20059, 'aweekinclud': 20060, 'hkandd': 20061, 'needw': 20062, 'thabk': 20063, 'the_veteranshub': 20064, 'veteranshelpingveteran': 20065, 'blueberriesblackberri': 20066, 'breakfastdaili': 20067, 'breakfastwasfantast': 20068, 'extremeweath': 20069, 'groundlevel': 20070, 'getrepost': 20071, 'musclemakergril': 20072, 'coldiretti': 20073, 'madeinitali': 20074, 'prandini': 20075, 'sticker': 20076, 'proanthocyanidin': 20077, 'frozenyoghurt': 20078, 'dunkindonut': 20079, 'amman': 20080, 'familyflavour': 20081, 'bakecook': 20082, 'likelihood': 20083, 'sideeffectsofceleri': 20084, 'अनयथ': 20085, 'ओव': 20086, 'दषपरणम': 20087, 'वयकतन': 20088, 'farewel': 20089, 'urbangarden': 20090, 'abisgoldsoybeanoil': 20091, 'tusedaythought': 20092, '_______': 20093, 'drunkard': 20094, 'muse': 20095, 'ecours': 20096, 'endang': 20097, 'negoti': 20098, 'fundingnew': 20099, 'newsoftheday': 20100, 'newstoday': 20101, 'proeon': 20102, 'punebas': 20103, 'illinois_alma': 20104, 'qsan': 20105, 'buzz': 20106, 'amphealthi': 20107, 'klastri': 20108, 'klastrypolski': 20109, 'mrpit_gov_pl': 20110, 'parpgovpl': 20111, 'polski': 20112, 'udziału': 20113, 'zapraszami': 20114, 'zgłoszenia': 20115, 'deeptissu': 20116, 'massagegun': 20117, 'massageonthego': 20118, 'streettaco': 20119, 'workidea': 20120, 'atyp': 20121, 'industrialfarm': 20122, 'jb': 20123, 'madcowdiseas': 20124, 'aster': 20125, 'digi': 20126, 'kenstar': 20127, 'kenstar_india': 20128, 'preset': 20129, 'bharatnutritionweek': 20130, 'indiannutritionweek': 20131, 'merricart': 20132, 'bohcabulari': 20133, 'boketosuru': 20134, 'boketto': 20135, 'daydream': 20136, 'dayfoodi': 20137, 'daze': 20138, 'ખવ': 20139, 'જઈએ': 20140, 'ન': 20141, 'પછ': 20142, 'ફળ': 20143, 'મટ': 20144, 'શ': 20145, 'સરયસત': 20146, 'foodenergi': 20147, 'steveubl': 20148, 'vyaparapp': 20149, 'calendar': 20150, 'fallsemest': 20151, 'fruitsoflov': 20152, 'longan': 20153, 'qi': 20154, 'spleen': 20155, 'boostfertil': 20156, 'bbnaija': 20157, 'clicktweet': 20158, 'girlsplanet': 20159, 'jackochalleng': 20160, 'kykyurt': 20161, 'lucifernetflix': 20162, 'manifsseptembr': 20163, 'oxyd': 20164, 'powerful': 20165, 'stayc는_케이팝을_찢어': 20166, 'yourboyfriendgam': 20167, 'betteryourbusi': 20168, 'tyler': 20169, 'arteri': 20170, 'tbhq': 20171, 'fast_food': 20172, 'stay_healthy_fit': 20173, 'stay_young': 20174, 'ilovemydog': 20175, 'bridgettewest': 20176, 'bulldog': 20177, 'lyricoldrap': 20178, 'dailydiet': 20179, 'eatingl': 20180, 'frozenproduc': 20181, 'mythbust': 20182, 'haddad': 20183, 'salfiti': 20184, 'sonia': 20185, 'ericteichmil': 20186, 'nikonphotographi': 20187, 'chronicallyil': 20188, 'kaki': 20189, 'okumura': 20190, 'dentalcar': 20191, 'edinburgh': 20192, 'edinburghvegan': 20193, 'pacari': 20194, 'palmoilfre': 20195, 'visitscotland': 20196, 'correctinform': 20197, 'patuanelli': 20198, 'stefano': 20199, 'coneyislanq': 20200, '¼': 20201, '½': 20202, 'thoughtfortheday': 20203, 'womenpuls': 20204, 'greenveget': 20205, 'mondaywisdom': 20206, 'badfood': 20207, 'vascular': 20208, 'bloodpurif': 20209, 'करल': 20210, 'रकत': 20211, 'शदध': 20212, 'pregnancycar': 20213, 'itzi': 20214, 'moneyheist': 20215, 'chickenishealthi': 20216, 'rajnandgaon': 20217, 'yearlong': 20218, 'indiandutch': 20219, 'nlinindia': 20220, 'nlinmumbai': 20221, 'rvo_innovati': 20222, 'rvo_nederland': 20223, 'greenworld': 20224, 'inquir': 20225, 'andhra': 20226, 'daal': 20227, 'dosa': 20228, 'colder': 20229, 'arlaingredi': 20230, 'amani': 20231, 'connectmarketsagroecolog': 20232, 'deeper': 20233, 'hambangolwazi': 20234, 'emkambo': 20235, 'pelum': 20236, 'blind': 20237, 'stunt': 20238, 'bhindi': 20239, 'chowli': 20240, 'geeli': 20241, 'ki': 20242, 'mutter': 20243, 'turai': 20244, 'wala': 20245, 'naturalecosystem': 20246, 'makesabett': 20247, 'siyabuya': 20248, 'contd': 20249, 'humansarenotguineapig': 20250, 'saynotonautanki': 20251, 'avontix': 20252, 'avontixglob': 20253, 'motivationalmonday': 20254, 'careforyourheart': 20255, 'drankur': 20256, 'heartspecialist': 20257, 'tfa': 20258, 'abistbi': 20259, 'agrigoi': 20260, 'angrauposhan': 20261, 'farmz': 20262, 'kau_rabi': 20263, 'nutrihubtbi': 20264, 'rkvy_hq': 20265, 'sendriya': 20266, 'showrijm': 20267, 'www': 20268, 'itsallinthemind': 20269, 'paralympicstokyo': 20270, 'wherethereisawillthereisaway': 20271, 'freemium': 20272, 'sustainabilti': 20273, 'styleupnow': 20274, 'dietsoda': 20275, 'grandmaknowsbest': 20276, 'dashdiet': 20277, 'breakthecod': 20278, 'usana': 20279, 'vonnesthealthyz': 20280, 'usanaact': 20281, 'barnard': 20282, 'naturopath': 20283, 'ihealthtub': 20284, 'dring': 20285, 'lifestylewithsharon': 20286, 'youtubechannel': 20287, 'rawhoney': 20288, 'somethin': 20289, 'wisk': 20290, 'bestgyminnairobi': 20291, 'gyminnairobi': 20292, 'dymat': 20293, 'autumnfair': 20294, 'channa': 20295, 'chickpeasalad': 20296, 'happyteachersday': 20297, 'healthyactivelifestyl': 20298, 'musica': 20299, 'newmus': 20300, 'harriss': 20301, 'idli': 20302, 'kamala': 20303, 'muaawin': 20304, 'wepromiselight': 20305, '𝑭𝒆𝒆𝒅𝒊𝒏𝒈': 20306, '𝑭𝒓𝒐𝒎': 20307, '𝑹𝒊𝒈𝒉𝒕': 20308, '𝑺𝒎𝒂𝒓𝒕': 20309, '𝑺𝒕𝒂𝒓𝒕': 20310, 'teachersday': 20311, 'yogabar': 20312, 'hem': 20313, 'iamyoustudio': 20314, 'imparato': 20315, 'lauren': 20316, 'narrow': 20317, 'retox': 20318, 'playingggard': 20319, '疲劳': 20320, 'followback': 20321, 'hubbi': 20322, 'luv': 20323, 'luvli': 20324, 'numpang': 20325, 'nyimpan': 20326, 'vitaanddodi': 20327, 'wifey': 20328, 'supplychaindisrupt': 20329, 'sysco': 20330, 'psychologist': 20331, 'saladsometim': 20332, 'onu_': 20333, 'bhappylovelaugh': 20334, 'childcar': 20335, 'jessicam': 20336, 'probirth': 20337, 'prolif': 20338, 'underfund': 20339, 'labordayweekend': 20340, 'pcosawar': 20341, 'cesar': 20342, 'avena': 20343, 'comersalud': 20344, 'cucharada': 20345, 'lech': 20346, 'liquidsoya': 20347, 'oatstr': 20348, 'orangenaranja': 20349, 'tipo': 20350, 'abpoli': 20351, 'elxn': 20352, 'ndp': 20353, 'overus': 20354, 'pei': 20355, 'peipoli': 20356, 'signshar': 20357, 'skpoli': 20358, 'trudeau': 20359, 'diagnos': 20360, 'debtrelief': 20361, 'farmersofcoloract': 20362, 'johnboyd': 20363, 'taxpay': 20364, 'daisho': 20365, 'duh': 20366, 'maccha': 20367, 'hazelnut': 20368, 'naturallikenya': 20369, 'illnessrel': 20370, 'vet': 20371, 'healthylifetyl': 20372, 'vitam': 20373, 'beyoncebirthday': 20374, 'shaperepubl': 20375, 'izzathusain': 20376, 'righttim': 20377, 'wherein': 20378, 'bohcod': 20379, 'cocinando': 20380, 'cuidemostodosdetodo': 20381, 'cuinant': 20382, 'fideuet': 20383, 'marisc': 20384, 'marta': 20385, 'nutricionistaparatodo': 20386, 'nutricionistasbarcelona': 20387, 'airprotect': 20388, 'bluelightand': 20389, 'drugseat': 20390, 'emremf': 20391, 'exclud': 20392, 'foodfilt': 20393, 'illnesstak': 20394, 'franz': 20395, 'kafka': 20396, 'macadamianutday': 20397, 'nationalmacadamianutday': 20398, 'jkhbd_cook': 20399, 'orderbook': 20400, 'drizzl': 20401, 'fir': 20402, 'kuch': 20403, 'paranth': 20404, 'payeng': 20405, 'tumhara': 20406, 'ukhaad': 20407, 'ehsan': 20408, 'hagu': 20409, 'sehgal': 20410, 'chefsforlouisiana': 20411, 'cookingcraz': 20412, 'elon': 20413, 'recipea': 20414, 'sidharthshukla': 20415, 'fitnessmotiva': 20416, 'beanslegumespea': 20417, 'waterbottl': 20418, 'healthyfoodlov': 20419, 'gunvant': 20420, 'hari': 20421, 'savour': 20422, 'yeola': 20423, 'varier': 20424, 'immunityamp': 20425, 'drtrust': 20426, 'drtrusttrustedbyrohitsharma': 20427, 'disappoint': 20428, 'chlorpyrifosfre': 20429, 'seren': 20430, 'subsummit': 20431, 'bush': 20432, 'foliag': 20433, 'americaisonthemov': 20434, 'alimentacionsalud': 20435, 'alimentazionesalut': 20436, 'healthylunch': 20437, 'jengibr': 20438, 'menta': 20439, 'sandia': 20440, 'sopa': 20441, 'watermelonday': 20442, 'watermelonsoup': 20443, 'glblctznimpact': 20444, 'sunrisemvmt': 20445, 'womensmarch': 20446, 'feedccl': 20447, 'partnerssupport': 20448, 'cadperson': 20449, 'discoverya': 20450, 'elmirani': 20451, 'horsehead': 20452, 'jubileefood': 20453, 'jublie': 20454, 'control_diabet': 20455, 'improvebonehealth': 20456, 'quit_sugar': 20457, 'reduceheartdiseas': 20458, 'catdillonrhn': 20459, 'debra': 20460, 'debraeckerl': 20461, 'drmeghaworth': 20462, 'eckerl': 20463, 'thedebmethod': 20464, 'worldneedspi': 20465, 'yourgoalguid': 20466, 'azgop': 20467, 'donaldtrump': 20468, 'dougducey': 20469, 'ama': 20470, 'boostyourimmun': 20471, 'sattvikcertifi': 20472, 'sattvikhealthrevolut': 20473, 'antonio': 20474, 'pizzeria': 20475, 'verv': 20476, 'acidbas': 20477, 'dietcompont': 20478, 'goodforhealth': 20479, 'beautycar': 20480, 'moisturis': 20481, 'clinician': 20482, 'lavel': 20483, 'lindsey': 20484, 'sera': 20485, 'greeno': 20486, 'greenojuic': 20487, 'jamshedpur': 20488, 'xxiv': 20489, 'noniorganicfood': 20490, 'organiccertif': 20491, 'registraton': 20492, 'artificialfood': 20493, 'fooddy': 20494, 'bakin': 20495, 'fruitfriday': 20496, 'nutzaboutm': 20497, 'nutzabouty': 20498, 'morocco': 20499, 'catv': 20500, 'cignfarm': 20501, 'hempcret': 20502, 'rope': 20503, 'timelin': 20504, 'nearbi': 20505, 'stampaprint': 20506, 'berrima': 20507, 'bowral': 20508, 'goulburn': 20509, 'mossval': 20510, 'nepot': 20511, 'newberrima': 20512, 'southernhighland': 20513, 'wingecarribe': 20514, 'foodfreedom': 20515, 'divya': 20516, 'gautam': 20517, 'healthyhormn': 20518, 'eggoftheunivers': 20519, 'murdochbook': 20520, 'cmc': 20521, 'cmcmohali': 20522, '𝐍𝐚𝐭𝐢𝐨𝐧𝐚𝐥': 20523, '𝐍𝐮𝐭𝐫𝐢𝐭𝐢𝐨𝐧': 20524, '𝐖𝐞𝐞𝐤': 20525, 'breakthefast': 20526, 'toilet': 20527, 'abad': 20528, 'faolandwat': 20529, 'harmon': 20530, 'icelucm': 20531, 'koooshima': 20532, 'montserrat': 20533, 'ndychairfutur': 20534, 'onewat': 20535, 'sasha': 20536, 'ucm': 20537, 'phycocyanin': 20538, 'cgf_health': 20539, 'sharonbligh': 20540, 'daysto': 20541, 'noncommunicablediseas': 20542, 'arifromel': 20543, 'deepto': 20544, 'deeptotv': 20545, 'farmingfuturebd': 20546, 'krishi': 20547, 'sanglap': 20548, 'sarah_evanega': 20549, 'scienceal': 20550, 'shreetmt': 20551, 'steelmanufactur': 20552, 'steelsuppli': 20553, 'tmtsteel': 20554, 'ahanagynaecar': 20555, 'nutrionweek': 20556, 'असल': 20557, 'उठन': 20558, 'खत': 20559, 'रतरअपरतर': 20560, 'वह': 20561, 'सवध': 20562, 'dogood': 20563, 'bugspeak': 20564, '_______________________________': 20565, '_health_inform': 20566, 'adarak': 20567, 'bloodflow': 20568, 'boostimmun': 20569, 'ealthi': 20570, 'gingertea': 20571, 'hygienehealthfoodenergywat': 20572, 'weekendmood': 20573, 'sororedit': 20574, 'maryellen': 20575, 'mcgroarti': 20576, 'theag': 20577, 'thx': 20578, 'fragranc': 20579, 'gospel': 20580, 'healthhttpstcowikgppiqa': 20581, 'eatrealfoodfoodismedicin': 20582, 'phu': 20583, 'quang': 20584, 'cnnlunch': 20585, 'evalu': 20586, 'healthbas': 20587, 'jolliet': 20588, 'boostershot': 20589, 'coersion': 20590, 'eugen': 20591, 'resign': 20592, 'unagenda': 20593, 'smiletwtselfieday': 20594, 'alta': 20595, 'fructosa': 20596, 'latinodiabet': 20597, 'nivel': 20598, 'provocar': 20599, 'pueden': 20600, 'sdri': 20601, 'billdoddca': 20602, 'casencaballero': 20603, 'pansw': 20604, 'pot': 20605, 'righttoknow': 20606, 'steve_glaz': 20607, 'yesonab': 20608, 'goodtoknow': 20609, 'veganzinc': 20610, 'yougotthi': 20611, 'foreverchem': 20612, 'philt': 20613, 'stevebradford': 20614, 'taller': 20615, 'futureproof': 20616, 'accordingli': 20617, 'deliciouslyella': 20618, 'ella': 20619, 'familybusi': 20620, 'futureblog': 20621, 'breakfastrecip': 20622, 'draryavrat': 20623, 'aapka': 20624, 'bola': 20625, 'dil': 20626, 'kya': 20627, 'betterbreakfastmonth': 20628, 'breakfastm': 20629, 'breakfastmonth': 20630, 'thursdaytrivia': 20631, 'brent': 20632, 'eal': 20633, 'harrow': 20634, 'rapidleak': 20635, 'rapidleaksindia': 20636, 'stressrelievingfood': 20637, 'heart_attack': 20638, 'onlinehealthcar': 20639, 'रजन': 20640, 'सब': 20641, 'worldnew': 20642, 'nightwalk': 20643, 'महततव': 20644, 'शतपवलच': 20645, 'जवण': 20646, 'रचकर': 20647, 'हणयसठ': 20648, 'हय': 20649, 'yogaforwel': 20650, 'emrindustri': 20651, 'emrsoftwar': 20652, 'appétit': 20653, 'bon': 20654, 'cebula': 20655, 'czosnek': 20656, 'karmelem': 20657, 'repa': 20658, 'smacznego': 20659, 'soczewica': 20660, 'szczęście': 20661, 'słodkim': 20662, 'ze': 20663, 'ボナペティ': 20664, '幸運のレンズ豆玉ねぎにんにくと甘いキャラメル': 20665, 'anganwadi': 20666, 'governmentpolici': 20667, 'grampanchayat': 20668, 'plantationdr': 20669, 'sapl': 20670, 'contract': 20671, 'industrylead': 20672, 'intelligentindustri': 20673, 'benzoapyren': 20674, 'tentamu': 20675, 'unter': 20676, 'abdelatidinar': 20677, 'banger': 20678, 'fussyaboutfood': 20679, 'pickytoddl': 20680, 'toddler': 20681, 'honeycomb': 20682, 'mahabaleshwar': 20683, 'colddrink': 20684, 'baingan': 20685, 'bharta': 20686, 'bishowparajuli': 20687, 'worldcoconutday': 20688, 'aalamqadri': 20689, 'bhuppithakur': 20690, 'healthylifestyleour': 20691, 'rightwish': 20692, 'sultan': 20693, 'worldnutritionweek': 20694, 'tragedi': 20695, 'kalpasudha': 20696, 'nationalnutritionmiss': 20697, 'nutritionday': 20698, 'badam': 20699, 'kesar': 20700, 'unitefightcorona': 20701, 'diabetescontroltip': 20702, 'grownincanada': 20703, 'climaterisk': 20704, 'drjeffmast': 20705, 'caa_arizona': 20706, 'pinnacleprev': 20707, 'speakuphom': 20708, 'bcaa': 20709, 'levelup': 20710, 'nutridyn': 20711, 'backtohogwart': 20712, 'backtoschool': 20713, 'ruchi': 20714, 'scientificsens': 20715, 'septemberst': 20716, 'vege': 20717, 'everynevadanrecov': 20718, 'nevada': 20719, 'nevadarecov': 20720, 'reno': 20721, 'washoecounti': 20722, 'foodmattersdocumentari': 20723, 'hungryforchang': 20724, 'hungryforchangedocumentari': 20725, 'transcend': 20726, 'transcendencefullmovi': 20727, 'containergarden': 20728, 'cratechalleng': 20729, 'eerili': 20730, 'resembl': 20731, 'soylentgreen': 20732, 'squareeat': 20733, 'nameandfam': 20734, 'assoc': 20735, 'kelsey': 20736, 'mangano': 20737, 'uml_zch': 20738, 'cookingpass': 20739, 'ishafound': 20740, 'klaper': 20741, 'meatspecif': 20742, 'medicineisfood': 20743, 'deceas': 20744, 'meatcentr': 20745, 'burnout': 20746, 'communi': 20747, 'standinthegap': 20748, 'enactu': 20749, 'enactuschandigarh': 20750, 'enactusindia': 20751, 'enactusssbuicet': 20752, 'nutritinousfood': 20753, 'weallwin': 20754, 'weareenactu': 20755, 'climateresili': 20756, 'diseasefre': 20757, 'farmerprotest': 20758, 'waterconserv': 20759, 'rashtriyaposhanabhiyan': 20760, 'ro': 20761, 'acutabov': 20762, 'environn': 20763, 'brandexperi': 20764, 'cowork': 20765, 'dogslif': 20766, 'dogsoflinkedin': 20767, 'escrow': 20768, 'fsahion': 20769, 'perfum': 20770, 'uxuri': 20771, 'adbanao': 20772, 'prajapat': 20773, 'wellnessadvisor': 20774, 'आओ': 20775, 'नरमण': 20776, 'apathi': 20777, 'brittl': 20778, 'automobil': 20779, 'मरग': 20780, 'रगपरतकरक': 20781, 'सपप': 20782, 'cskspeak': 20783, 'digitalcoach': 20784, 'edupreneur': 20785, 'maah': 20786, 'walkthrough': 20787, 'goodfoodtalkshow': 20788, 'kidsstoppress': 20789, 'mansizaveri': 20790, 'pedant': 20791, 'preachi': 20792, 'nairgeni': 20793, 'पदरथमळ': 20794, 'फडसह': 20795, 'msvandhana': 20796, 'அதகமக': 20797, 'உணவம': 20798, 'சபபட': 20799, 'தனறவத': 20800, 'தமழ': 20801, 'நலமம': 20802, 'பரசனய': 20803, 'மனநல': 20804, 'aangan': 20805, 'youfirst': 20806, 'nutrtionweekwithwel': 20807, 'wellnessforev': 20808, 'chairperson': 20809, 'divuhema': 20810, 'drsanjivkumar': 20811, 'goi': 20812, 'ihw_tv': 20813, 'ishikhosla': 20814, 'kamalom': 20815, 'mohfw': 20816, 'nihfw': 20817, 'teamworkpr': 20818, 'ihwcouncil': 20819, 'behindthescen': 20820, 'cvdrelat': 20821, 'curcumin': 20822, 'haldikefayd': 20823, 'challengegt': 20824, 'cowspiraci': 20825, 'thestarchsolut': 20826, 'whatthehealth': 20827, '_eat': 20828, '_futur': 20829, 'aktu_lucknow': 20830, 'mgh': 20831, 'aadhya': 20832, 'sujani': 20833, 'beverlyhil': 20834, 'brentwood': 20835, 'endofsumm': 20836, 'gladwinstreet': 20837, 'cookingwithlov': 20838, 'cookingwithpari': 20839, 'ketodietplan': 20840, 'drmichaelbrown': 20841, 'godslov': 20842, 'rob': 20843, 'duncan': 20844, 'oonagh': 20845, 'strictli': 20846, 'corporatehealth': 20847, 'fishbas': 20848, 'serval': 20849, 'barilla': 20850, 'changehabit': 20851, 'motivationaltuesday': 20852, 'clynn': 20853, 'inspirationalquot': 20854, 'nutriut': 20855, 'backpain': 20856, 'eremedium': 20857, 'jointpainrelief': 20858, 'kneepain': 20859, 'loveyourbon': 20860, 'unbear': 20861, 'bland': 20862, 'bohfact': 20863, 'chillyflak': 20864, 'bjpgujarat': 20865, 'ia': 20866, 'iasassoci': 20867, 'prio': 20868, 'vijayrupanibjp': 20869, 'leadmagnet': 20870, 'onlinesal': 20871, 'popup': 20872, 'shopifi': 20873, 'foodl': 20874, 'healthheadlin': 20875, 'madurai': 20876, 'bittern': 20877, 'consortia': 20878, 'granapadanodop': 20879, 'parmigianoreggiano': 20880, 'theonlyparmesan': 20881, 'vaibhavspeak': 20882, 'archuleta': 20883, 'soil_health': 20884, 'cap': 20885, 'commonagriculturalpolici': 20886, 'gottlieb': 20887, 'scott': 20888, 'stint': 20889, 'dxb': 20890, 'medgulfua': 20891, 'iambenikay': 20892, 'ppiai': 20893, 'salmansohn': 20894, 'baltimor': 20895, 'blackown': 20896, 'cajou': 20897, 'creameri': 20898, 'howard': 20899, 'appleoflif': 20900, 'independenceday': 20901, 'nippon': 20902, 'pepperidg': 20903, 'ayurvedictip': 20904, 'fareshareuk': 20905, 'trusselltrust': 20906, 'lactat': 20907, 'miycn': 20908, 'complimentari': 20909, 'quorn': 20910, 'seitan': 20911, 'emallrwanda': 20912, 'kigali': 20913, 'shortli': 20914, 'postcovid': 20915, 'खरखरच': 20916, 'वपरव': 20917, 'सखरऐवज': 20918, 'nammaalvaar': 20919, 'tamilspac': 20920, 'அறபதமன': 20921, 'இனற': 20922, 'நமமழவரன': 20923, 'நய': 20924, 'பசச': 20925, 'ரகசயம': 20926, 'வழம': 20927, 'ganeshkapoor': 20928, 'garmi': 20929, 'hatti': 20930, 'maza': 20931, 'thandak': 20932, 'alloc': 20933, 'capex': 20934, 'railway': 20935, 'sme': 20936, 'foodthread': 20937, 'gjgtwt': 20938, 'formulawhol': 20939, 'seriesspeci': 20940, 'yearsachihighachivisomtwo': 20941, 'developmentpartn': 20942, 'towardsgreenb': 20943, 'roughli': 20944, 'shove': 20945, 'aplantbasedco': 20946, 'holycrapcer': 20947, 'modernhealthnrd': 20948, 'superse': 20949, 'vegn': 20950, 'animalprotect': 20951, 'animalrescu': 20952, 'captaind': 20953, 'longjohnsilv': 20954, 'mhm': 20955, 'sac': 20956, 'students_against_covid': 20957, 'agav': 20958, 'beautician': 20959, 'lowcost': 20960, 'lowrisk': 20961, 'ketobeastbeauti': 20962, 'hempse': 20963, 'groceryeshop': 20964, 'denstartupweek': 20965, 'denverpavilion': 20966, 'outdoorrecr': 20967, 'nathan': 20968, 'kushi': 20969, 'dynadot': 20970, 'fitnutrit': 20971, 'aftruckcent': 20972, 'cbdcoffe': 20973, 'coffeechew': 20974, 'coffeeyoueat': 20975, 'gocbd': 20976, 'gocoffeeenergi': 20977, 'madeinusa': 20978, 'northlak': 20979, 'refuel': 20980, 'truckdriv': 20981, 'pizzasalad': 20982, 'comrad': 20983, 'worksheet': 20984, 'mmmm': 20985, 'septmeb': 20986, 'deutchland': 20987, 'isst': 20988, 'tkare': 20989, 'tkareberlin': 20990, 'wie': 20991, 'bohrecip': 20992, 'chaa': 20993, 'foodbabi': 20994, 'breakfastfood': 20995, 'robyntyrasantaf': 20996, 'behealthybehappi': 20997, 'gaumata': 20998, 'gir': 20999, 'jaivikjeevanpariwar': 21000, 'kiranj': 21001, 'sahiw': 21002, 'keepingfit': 21003, 'blemish': 21004, 'offerregist': 21005, 'foodtidbit': 21006, 'toyourgoodhealth': 21007, 'animalresearch': 21008, 'eara': 21009, 'inmic': 21010, 'sloveniancroatian': 21011, 'harveymslat': 21012, 'deck': 21013, 'fresco': 21014, 'pool': 21015, 'builtin': 21016, 'cob': 21017, 'fyiplu': 21018, 'husk': 21019, 'gilbert': 21020, 'thesueatkinsbookclub': 21021, 'animalderiv': 21022, 'veganbusi': 21023, 'veganfortheanim': 21024, 'veganproduct': 21025, 'whiten': 21026, 'bonusdetail': 21027, 'healersworld': 21028, 'safebodi': 21029, 'sciencefocu': 21030, 'springer_anz': 21031, 'nirvana': 21032, 'nirvanaorgan': 21033, 'donda': 21034, 'tokyoparalymp': 21035, 'cosmicnutraco': 21036, 'gaia': 21037, 'vaishnavi': 21038, 'happyjanmashtami': 21039, 'jaishrikrishna': 21040, 'janmashtami': 21041, 'krishna': 21042, 'lordkrishna': 21043, 'boldi': 21044, 'positiveag': 21045, 'theboldag': 21046, 'benefitskala': 21047, 'chamatkar': 21048, 'पढर': 21049, 'भत': 21050, 'हणयस': 21051, 'chronicfatigu': 21052, 'architecturedesign': 21053, 'creativewrit': 21054, 'curangel': 21055, 'gardenersworld': 21056, 'badighadi': 21057, 'hottest': 21058, 'lap': 21059, 's_sivakumar': 21060, 'tankbundroad': 21061, 'tower': 21062, 'onestepatatim': 21063, 'yogaexercisemedit': 21064, 'schaferwillow': 21065, 'eatrightpro': 21066, 'sporad': 21067, 'booksbooksbook': 21068, 'healthbook': 21069, 'paperback': 21070, 'exchang': 21071, 'organicgarden': 21072, 'ltlt': 21073, 'peachi': 21074, 'tee': 21075, 'threadless': 21076, 'myhealthygift': 21077, 'kidsnutrit': 21078, 'lcec': 21079, 'farmworkersjustic': 21080, 'farmwrjustic': 21081, 'farmwrkrjustic': 21082, 'maldef': 21083, 'thomas_saenz': 21084, 'erad': 21085, 'garliclov': 21086, 'weislelovesunday': 21087, 'nationalchopsueyday': 21088, 'ruler': 21089, 'powerbreakfast': 21090, 'seedless': 21091, 'rankss': 21092, 'chlorpyrifo': 21093, 'conversationu': 21094, 'okinawaflatbellyton': 21095, 'करयचय': 21096, 'कव': 21097, 'डएटगशवय': 21098, 'acd': 21099, 'financetak': 21100, 'livestransport': 21101, 'realestateeduc': 21102, 'reinvent': 21103, 'territori': 21104, 'unchart': 21105, 'englishman': 21106, 'gs': 21107, 'feelgoodfactor': 21108, 'kulcha': 21109, 'mathi': 21110, 'pandit': 21111, 'betterhealthwellnessjourney': 21112, 'academyeyesmart': 21113, 'localoptician': 21114, 'crate': 21115, 'paterson': 21116, 'lehsun': 21117, 'tentaran': 21118, 'जस': 21119, 'दलत': 21120, 'नजत': 21121, 'परशर': 21122, 'लहसन': 21123, 'हई': 21124, 'wildcraft': 21125, 'desighiza': 21126, 'ghiza': 21127, 'khajoor': 21128, 'shoponlin': 21129, 'sukkari': 21130, 'lowcal': 21131, 'gallo': 21132, 'sunnyval': 21133, 'fo': 21134, 'mindfulnessmt': 21135, 'autophagi': 21136, 'llbhealthi': 21137, 'catastroph': 21138, 'collectivewest': 21139, 'destitut': 21140, 'unfreez': 21141, 'unparallel': 21142, 'ductitian': 21143, 'fitnesstwitt': 21144, 'healthyandsmartrecip': 21145, 'waukeshaschool': 21146, 'wisconsin': 21147, 'poshan_offici': 21148, 'socialmediainfluenc': 21149, 'prefix': 21150, 'weekendwisdom': 21151, 'bankholidayweekend': 21152, 'indoorag': 21153, 'shopsmallbusi': 21154, 'sustainablebusi': 21155, 'supportwilcannia': 21156, 'benefitsofpistachio': 21157, 'पसत': 21158, 'pimlicat': 21159, 'fitnessnutrit': 21160, 'agoni': 21161, 'banksgovern': 21162, 'healthhygieneaccess': 21163, 'ieaunworld': 21164, 'usindiaeu': 21165, 'sanjeevani': 21166, 'hormonebal': 21167, 'hormonon': 21168, 'strimscap': 21169, 'motivaiton': 21170, 'bours': 21171, 'fasion': 21172, 'grafic': 21173, 'happin': 21174, 'happybirthday': 21175, 'passeng': 21176, 'romanc': 21177, 'cystic': 21178, 'investnow': 21179, 'lntmutualfund': 21180, 'mutualfund': 21181, 'gargi': 21182, 'heathylifestyl': 21183, 'oatstikki': 21184, 'fitnessindustri': 21185, 'orlando': 21186, 'verygoodmorn': 21187, 'weekendsunshin': 21188, 'arzt': 21189, 'docteur': 21190, 'epilepsyawar': 21191, 'geneeeskund': 21192, 'lakar': 21193, 'lijek': 21194, 'medicina': 21195, 'neurolog': 21196, 'neurologist': 21197, 'neurosurgeri': 21198, 'जदग': 21199, 'बड': 21200, 'यग': 21201, 'शकषक': 21202, 'सबस': 21203, 'badminton': 21204, 'fruitsglucosefructos': 21205, 'judo': 21206, 'karat': 21207, 'tkd': 21208, 'monasharma': 21209, 'precisioneclin': 21210, 'precisionom': 21211, 'rescueyourhealth': 21212, 'asianitalian': 21213, 'fusion': 21214, 'fitmom': 21215, 'keepsitsimpl': 21216, 'errat': 21217, 'mumbairain': 21218, 'slowday': 21219, 'unpeel': 21220, 'whosaid': 21221, 'actonncd': 21222, 'occupationalhealth': 21223, 'populationhealth': 21224, 'urbandesign': 21225, 'feedlot': 21226, 'babyfat': 21227, 'getridofbabyfat': 21228, 'slideshar': 21229, 'problemsnow': 21230, 'lifemo': 21231, 'inspireddecorbytatiana': 21232, 'mychildmag': 21233, 'fruitfulfriday': 21234, 'ampm': 21235, 'ave': 21236, 'basicne': 21237, 'baytown': 21238, 'covidrelief': 21239, 'feedingpeopl': 21240, 'freefood': 21241, 'walkup': 21242, 'campbook': 21243, 'opportunitytob': 21244, 'fecal': 21245, 'francisco': 21246, 'needless': 21247, 'rabi': 21248, 'aol': 21249, 'aprilmac': 21250, 'peculiar': 21251, 'chenna': 21252, 'murki': 21253, 'thevieinfo': 21254, 'goncalv': 21255, 'overconsumpt': 21256, 'fridayread': 21257, 'acupuntur': 21258, 'belmont': 21259, 'chiropractor': 21260, 'neighbor': 21261, 'ador': 21262, 'hitfor': 21263, 'whatsinyourshoppingbag': 21264, 'エリンギを炒める': 21265, 'aeon': 21266, 'dianasegantini': 21267, 'rainbowfood': 21268, 'healthyspic': 21269, 'nkcdc': 21270, 'phljob': 21271, 'neurotechnolog': 21272, 'regenerativemedicin': 21273, 'spaceexplor': 21274, 'hamont': 21275, 'mediterraneanstyl': 21276, 'nutritionalpsycholog': 21277, 'avil': 21278, 'bhavaniswaminathan': 21279, 'noodlespasta': 21280, 'payasam': 21281, 'semiya': 21282, 'sevaiyyan': 21283, 'shemai': 21284, 'uppucheedai': 21285, 'vellacheedai': 21286, 'vermicillikh': 21287, 'bettery': 21288, 'moresleep': 21289, 'promotehealth': 21290, 'chennaj': 21291, 'caribbeanproduct': 21292, 'chefsofthecaribbean': 21293, 'cotc': 21294, 'islandlif': 21295, 'ctvtoronto': 21296, 'patio': 21297, 'trench': 21298, 'bjthomp': 21299, 'theveganco': 21300, 'veganco': 21301, 'vegansofbangalor': 21302, 'vegansofbengaluru': 21303, 'vegansofdelhi': 21304, 'vegansofindia': 21305, 'vegansofmumbai': 21306, 'fckd': 21307, 'mandi': 21308, 'agarwallasc': 21309, 'aicpdf': 21310, 'bcbhartia': 21311, 'caitindia': 21312, 'hardeepspuri': 21313, 'kirenrijiju': 21314, 'piyushgoy': 21315, 'praveendel': 21316, 'rajnathsingh': 21317, 'smritiirani': 21318, 'sumitagarwal_': 21319, 'diabadass': 21320, 'livingwithdiabet': 21321, 'diabetesnigeria': 21322, 'flier': 21323, 'amazonmus': 21324, 'tra': 21325, 'omega_x': 21326, 'aluminumfoil': 21327, 'aluminumpap': 21328, 'foilमधय': 21329, 'अनन': 21330, 'आध': 21331, 'थब': 21332, 'दतय': 21333, 'बतम': 21334, '_day_rice_diet': 21335, 'healthy_food': 21336, 'rice_diet': 21337, 'rice_diet_for_weight_loss': 21338, 'ricebowl': 21339, 'the_rice_diet': 21340, 'eritreaprevail': 21341, 'merkeb': 21342, 'bitesoftransfoodm': 21343, 'bot': 21344, 'crea_ricerca': 21345, 'iyp': 21346, 'proplanet': 21347, 'undeclar': 21348, 'benef': 21349, 'दरघयषय': 21350, 'लभत': 21351, 'शकहर': 21352, 'laziz': 21353, 'broad': 21354, 'nigeltopp': 21355, 'siwi_www': 21356, 'mendozawomen': 21357, 'nora': 21358, 'naturalsugarorartificialsweetenerswhichoneishealthi': 21359, 'melatonin': 21360, 'femalehealth': 21361, 'gutglori': 21362, 'muller': 21363, 'müller': 21364, 'productlaunch': 21365, 'standalon': 21366, 'pregnancytip': 21367, 'pregnantlif': 21368, 'khopperyoga': 21369, 'veganjunk': 21370, 'achetesonlin': 21371, 'quickdeliveri': 21372, 'homeremediesforheadach': 21373, 'डकदखच': 21374, 'पह': 21375, 'वरवर': 21376, 'हतय': 21377, 'beanefici': 21378, 'वटणयच': 21379, 'हरवय': 21380, 'veganjunkfood': 21381, 'croissant': 21382, 'alkg': 21383, 'aluminiumfoil': 21384, 'foil': 21385, 'provision': 21386, 'ministrywcd': 21387, 'paramdairyindia': 21388, 'summervib': 21389, 'hairfal': 21390, 'hairlos': 21391, 'अग': 21392, 'इसक': 21393, 'जनए': 21394, 'लभकर': 21395, 'सभ': 21396, 'healingfood': 21397, 'csu': 21398, 'denver': 21399, 'spur': 21400, 'wherev': 21401, 'linkedindaili': 21402, 'soybeansm': 21403, 'wheatflour': 21404, 'publicschool': 21405, 'waukesha': 21406, 'diego': 21407, 'mtv': 21408, 'tb': 21409, 'tecuentounsecreto': 21410, 'pathankot': 21411, 'demo': 21412, 'heartdoc': 21413, 'redstickspic': 21414, 'zach': 21415, 'colorectalcanc': 21416, 'dali': 21417, 'disabilityadjust': 21418, 'lifeyear': 21419, 'onethird': 21420, 'aggi': 21421, 'cnhc': 21422, 'dipnt': 21423, 'mbant': 21424, 'mccabe': 21425, 'thyroidcoach': 21426, 'underact': 21427, 'underactivethyroid': 21428, 'sultana': 21429, 'footpain': 21430, 'इलज': 21431, 'एव': 21432, 'कपन': 21433, 'तथ': 21434, 'दरद': 21435, 'बमर': 21436, 'veggiegarden': 21437, 'predigest': 21438, 'winsletnarr': 21439, 'antipasto': 21440, 'italianstyl': 21441, 'prosciutto': 21442, 'counterfeit': 21443, 'purs': 21444, 'bodycoach': 21445, 'educatedchoicesprogram': 21446, 'kcurvepr': 21447, 'laureat': 21448, 'mongabay': 21449, 'grainfarm': 21450, 'onag': 21451, 'cyberculturenet': 21452, 'spatial': 21453, 'wilt': 21454, 'antiinflammatorydiet': 21455, 'oceanrobbin': 21456, 'bind': 21457, 'standin': 21458, 'cherrypopsicleday': 21459, 'popsicl': 21460, 'kahn': 21461, 'quizz': 21462, 'sonyliv': 21463, 'rub': 21464, 'sazon': 21465, 'geekchicpolitiq': 21466, 'iainle': 21467, 'oklute_eng': 21468, 'beattheheat': 21469, 'beatthesummerheat': 21470, 'dinnerinspir': 21471, 'eatclen': 21472, 'foodbloog': 21473, 'foodiesfe': 21474, 'foodsumm': 21475, 'preunivers': 21476, 'thefitnessfound': 21477, 'brandnam': 21478, 'wellnehttpstcogfjhcck': 21479, 'chaatmasala': 21480, 'adi': 21481, 'ayurvedaathom': 21482, 'imfitbeyond': 21483, 'lenhartlynn': 21484, 'setz_unlimit': 21485, 'youtubetwitchpatreon': 21486, 'antimicrobialstewardship': 21487, 'multistakehold': 21488, 'oieanimalhealth': 21489, 'tripartit': 21490, 'cupboard': 21491, 'purest': 21492, 'srikrishnaghe': 21493, 'betterlif': 21494, 'areyoueven': 21495, 'tripletreat': 21496, 'glgamr': 21497, 'covidisnotov': 21498, 'foodscovid': 21499, 'bookschannel': 21500, 'cookbookclub': 21501, 'covidrespons': 21502, 'hungerrelief': 21503, 'sankalp': 21504, 'moodfood': 21505, 'আগ': 21506, 'এব': 21507, 'করন': 21508, 'তরতজ': 21509, 'পজর': 21510, 'মনক': 21511, 'শরর': 21512, 'besthealth': 21513, 'thenprd': 21514, 'setup': 21515, 'socialproof': 21516, 'websitestoolz': 21517, 'glowup': 21518, 'delimeat': 21519, 'ampsatur': 21520, 'ampsoft': 21521, 'astudi': 21522, 'saltsugar': 21523, 'snarf': 21524, 'niddkgov': 21525, 'preliminari': 21526, 'aliveeven': 21527, 'ketodinn': 21528, 'keton': 21529, 'eatfreshrefresh': 21530, 'healthcaretech': 21531, 'healthyfoodvideo': 21532, 'nocarb': 21533, 'homeimprov': 21534, 'lawyer': 21535, 'bem': 21536, 'exemplo': 21537, 'faz': 21538, 'mediterraneo': 21539, 'mediterrânea': 21540, 'glazianow': 21541, 'home_remedi': 21542, 'चहए': 21543, 'leanbellyxreview': 21544, 'sop': 21545, 'anxiou': 21546, 'dd': 21547, 'dirtydozen': 21548, 'progr': 21549, 'worldwaterweek': 21550, 'cuz': 21551, 'threw': 21552, 'endureindustri': 21553, 'icar': 21554, 'medicalcompani': 21555, 'publichealthmatt': 21556, 'curv': 21557, 'tednaiman': 21558, 'bodygo': 21559, 'southb': 21560, 'uhurupark': 21561, 'communit': 21562, 'fac': 21563, 'physe': 21564, 'groom': 21565, 'paulag': 21566, 'foodhygien': 21567, 'wwwwrightsafetyi': 21568, 'horizoneurop': 21569, 'birthrightlivinglegaci': 21570, 'blackwallstreet': 21571, 'foodonthemov': 21572, 'thirdwav': 21573, 'warningsand': 21574, 'bigcommerc': 21575, 'carolin': 21576, 'fibromyalgia': 21577, 'positiveoutlook': 21578, 'healthyhabitsparentsshouldteachtheirkid': 21579, 'demystifyhealth': 21580, 'handwash': 21581, 'shigella': 21582, 'stomachbug': 21583, 'stomachupset': 21584, 'upsetstomach': 21585, 'washyourhand': 21586, 'yhtogo': 21587, 'tystriomobilcom': 21588, 'kachori': 21589, 'udupi': 21590, 'lnpfail': 21591, 'ashdindoc': 21592, 'bantofu': 21593, 'hussainsadaf': 21594, 'ivmpodcast': 21595, 'naancurri': 21596, 'nordenen': 21597, 'ping': 21598, 'seiforskn': 21599, 'sthlmresili': 21600, 'gainweight': 21601, 'revolv': 21602, 'stomachproblem': 21603, 'soildeplet': 21604, 'वढलल': 21605, 'eucalyptu': 21606, 'mustardoil': 21607, 'endiv': 21608, 'rupchick': 21609, 'biomolecul': 21610, 'nonessenti': 21611, 'driedsweetpotato': 21612, 'driedveget': 21613, 'agro': 21614, 'taj': 21615, 'correspond': 21616, 'donotbefixatedwithnumb': 21617, 'eatat': 21618, 'portionsizesmatt': 21619, 'foodtempt': 21620, 'contentamp': 21621, 'gobi': 21622, 'ambrosia': 21623, 'greenari': 21624, 'drinksuppl': 21625, 'liftingweight': 21626, 'nutuutritionist': 21627, 'workingout': 21628, 'southwark': 21629, 'personalisedsupport': 21630, 'bewellbaytown': 21631, 'heartsandhandsbaytown': 21632, 'cakefor': 21633, 'ketouk': 21634, 'readytoheat': 21635, 'greenca': 21636, 'cobbler': 21637, 'kaizen': 21638, 'rishaskitchen': 21639, 'usprotein': 21640, 'augustiswellnessmonth': 21641, 'panda': 21642, 'proposit': 21643, 'edufab': 21644, 'utensil': 21645, 'bethemag': 21646, 'bodyconfid': 21647, 'livebett': 21648, 'livenow': 21649, 'loveyourbodi': 21650, 'selfcarelov': 21651, 'selfconfid': 21652, 'selfloveisessenti': 21653, 'chandrakala': 21654, 'अभ': 21655, 'इस': 21656, 'कई': 21657, 'कहत': 21658, 'चदरकल': 21659, 'तक': 21660, 'पपर': 21661, 'मठई': 21662, 'यह': 21663, 'रसरच': 21664, 'वस': 21665, 'हमर': 21666, 'bettereveryday': 21667, 'cs': 21668, 'healthrenew': 21669, 'periodvalid': 21670, 'ucook': 21671, 'ucookrenew': 21672, 'foodshar': 21673, 'foxtail': 21674, 'kodomillet': 21675, 'milletpong': 21676, 'pongal': 21677, 'recipesintamil': 21678, 'rickysamay': 21679, 'watchonyoutub': 21680, 'milton': 21681, 'tagyourmilton': 21682, 'tiffin': 21683, 'xanthan': 21684, 'xanthangum': 21685, 'i': 21686, 'indianeducationalservic': 21687, 'cornflak': 21688, 'pediatr': 21689, 'staysafestayhealthi': 21690, 'belov': 21691, 'recipesgtgt': 21692, 'expertlifestyl': 21693, 'fingerprint': 21694, 'zyephr': 21695, 'maharashtrapolit': 21696, 'meanwhil': 21697, 'whichev': 21698, 'bircher': 21699, 'healthkick': 21700, 'healthystart': 21701, 'lightbreakfast': 21702, 'joshfrydenberg': 21703, 'proterabio': 21704, 'scottmorrisonmp': 21705, 'sofinnovavc': 21706, 'bloggersw': 21707, 'foodcrush': 21708, 'pomfret': 21709, 'eatwis': 21710, 'fitnessnutritionist': 21711, 'choppingfor': 21712, 'gentli': 21713, 'pluck': 21714, 'quickstirfri': 21715, 'fattyacid': 21716, 'omegafattyacid': 21717, 'असडच': 21718, 'ओमग': 21719, 'शकहरसठ': 21720, 'सरत': 21721, 'cane': 21722, 'scorch': 21723, 'valuethebrand': 21724, 'trifectasystem': 21725, 'foodampnutrit': 21726, 'fyte': 21727, 'industryampmanufactur': 21728, 'mainland': 21729, 'mba': 21730, 'morganphilip': 21731, 'morganphilipsgroup': 21732, 'mpg': 21733, 'salesbudget': 21734, 'salesestim': 21735, 'salesmanag': 21736, 'vaso': 21737, 'anmlsetc': 21738, 'bath': 21739, 'આ': 21740, 'કનસરન': 21741, 'ખરક': 21742, 'ખવન': 21743, 'જરર': 21744, 'રકવ': 21745, 'સતન': 21746, 'bastion': 21747, 'rhizom': 21748, 'taro': 21749, 'compton': 21750, 'vanguard': 21751, 'healthspan': 21752, 'miamibeach': 21753, 'shakespearemel': 21754, 'nypost': 21755, 'thenationalnew': 21756, 'wellnew': 21757, 'drshad': 21758, 'drshadwel': 21759, 'worldplantmilkday': 21760, 'pfizer_': 21761, 'blackhealthmatt': 21762, 'mejia': 21763, 'moreno': 21764, 'rainf': 21765, 'siwi_wat': 21766, 'कलशयम': 21767, 'भरपर': 21768, 'हडडय': 21769, 'barbecuetl': 21770, 'bbqtwt': 21771, 'greatcyclec': 21772, 'i_tweet_cat': 21773, 'loisvilla': 21774, 'paw': 21775, 'teachmind': 21776, 'pleasert': 21777, 'subscribetomychannel': 21778, 'haircareregim': 21779, 'haircareroutin': 21780, 'brusselssprout': 21781, 'veganifestyl': 21782, 'steelbitepro': 21783, 'toothfairyday': 21784, 'bmr': 21785, 'ep': 21786, 'exact': 21787, 'enoughalreadi': 21788, 'jeffreyluscomb': 21789, 'jewelowisdom': 21790, 'northyorkblond': 21791, 'samsungnewsu': 21792, 'samsungu': 21793, 'poweredup': 21794, 'vitalfarm': 21795, 'cayman': 21796, 'caymanisland': 21797, 'haul': 21798, 'healthyish': 21799, 'homemadebbqsauc': 21800, 'proteinbas': 21801, 'tw': 21802, 'udn': 21803, 'allium': 21804, 'arnomorisson': 21805, 'challengeand': 21806, 'interregeurop': 21807, 'missionori': 21808, 'nutritionfood': 21809, 'caramelis': 21810, 'cheftash': 21811, 'nomeatmonday': 21812, 'yourfoodmoth': 21813, 'cholestrol': 21814, 'healthissu': 21815, 'nutan': 21816, 'saurashtra': 21817, 'behindwood': 21818, 'behindwoodsmem': 21819, 'doctorsivaraman': 21820, 'ku': 21821, 'prachana': 21822, 'sapudalana': 21823, 'feministfp': 21824, 'marissakconway': 21825, 'cadila': 21826, 'ethealthworld': 21827, 'usfda': 21828, 'zydu': 21829, 'zyduscadila': 21830, 'zydusunivers': 21831, 'ટવ': 21832, 'ફસટન': 21833, 'બનવવન': 21834, 'બરક': 21835, 'hank': 21836, 'oodl': 21837, 'snickerdoodl': 21838, 'amsport': 21839, 'barmer': 21840, 'body_kitchen': 21841, 'computerspiel': 21842, 'dietechnik': 21843, 'esport': 21844, 'esportsplayerf': 21845, 'mlli': 21846, 'moritv': 21847, 'sportspsycfabro': 21848, 'timfeldn': 21849, 'creativecommun': 21850, 'creativemarket': 21851, 'creativepackag': 21852, 'indigenouseduc': 21853, 'physicalmarket': 21854, 'videobrochur': 21855, 'videopack': 21856, 'videopak': 21857, 'videopaksa': 21858, 'खजर': 21859, 'chutneysandwich': 21860, 'indiapublickhabar': 21861, 'ipkhabar': 21862, 'चटन': 21863, 'बनय': 21864, 'सडवच': 21865, 'espresso': 21866, 'pitstop': 21867, 'food_found': 21868, 'bigag': 21869, 'healthdestroy': 21870, 'subsidis': 21871, 'rubyr': 21872, 'iposolcom': 21873, 'scienceback': 21874, 'आरगयस': 21875, 'ठरतत': 21876, 'दह': 21877, 'यवळत': 21878, 'megafattyacid': 21879, 'omegafatti': 21880, 'रगपसन': 21881, 'रहल': 21882, 'mealstoeatinmonsoon': 21883, 'tipsingujarati': 21884, 'fajitasstuf': 21885, 'bacterium': 21886, 'fever': 21887, 'transmit': 21888, 'typhi': 21889, 'typhoid': 21890, 'againstm': 21891, 'flava': 21892, 'prospereat': 21893, 'barrel': 21894, 'crystalis': 21895, 'hm': 21896, 'mme': 21897, 'truelov': 21898, 'climateactivist': 21899, 'climatebrawl': 21900, 'industrialagricultur': 21901, 'foodisinform': 21902, 'honestteentalk': 21903, 'alfr': 21904, 'dazn': 21905, 'effzeh': 21906, 'jato': 21907, 'mimba': 21908, 'pa': 21909, 'humanbodi': 21910, 'netflixuk': 21911, 'foodinequ': 21912, 'watershortag': 21913, 'worldhung': 21914, 'businessmarket': 21915, 'onlinemarket': 21916, 'eatapeachday': 21917, 'charak': 21918, 'samhita': 21919, 'आधर': 21920, 'करड': 21921, 'कवल': 21922, 'चयवनपरश': 21923, 'चरक': 21924, 'बजर': 21925, 'बन': 21926, 'रपय': 21927, 'सतर': 21928, 'plantbasedhoppa': 21929, 'gingerbread': 21930, 'ecodiet': 21931, 'subvert': 21932, 'timerestrict': 21933, 'fatfre': 21934, 'trailer': 21935, 'intermittentfastingweightloss': 21936, 'houseofbreadchurchtz': 21937, 'muro': 21938, 'neema': 21939, 'overtrain': 21940, 'dansil': 21941, 'dorcas_mahlats': 21942, 'emporiayen': 21943, 'evelynnnana': 21944, 'its__vk': 21945, 'majozi': 21946, 'makuamapul': 21947, 'penelop': 21948, 'refilwe_mabusan': 21949, 'samatrazimu': 21950, 'sizwekunen': 21951, 'zithelo': 21952, 'campperrin': 21953, 'lesanglai': 21954, 'lescay': 21955, 'mm_org': 21956, 'tarp': 21957, 'enverion': 21958, 'fakemeat': 21959, 'ronfarra': 21960, 'tracy_d_chamoun': 21961, 'abpmajhatv': 21962, 'bbcnewsmarathi': 21963, 'consumeloc': 21964, 'mataonlin': 21965, 'milokmat': 21966, 'जव': 21967, 'नशत': 21968, 'लगल': 21969, 'सकळच': 21970, 'समर': 21971, 'समसयन': 21972, 'appleaday': 21973, 'awaybut': 21974, 'beacondeck': 21975, 'coffeeteasnackfriend': 21976, 'staysaveandhealthyiloveyoutodayhealthi': 21977, 'पयव': 21978, 'लबपण': 21979, 'वळल': 21980, 'वशषट': 21981, 'anastasiasmihai': 21982, 'askdrshashank': 21983, 'chillibeanboy': 21984, 'delou': 21985, 'eddiej': 21986, 'feralislandbud': 21987, 'firefli': 21988, 'jenuwin': 21989, 'kimmi': 21990, 'rbjron': 21991, 'sachin': 21992, 'sar_oso': 21993, 'vetsquar': 21994, 'eatwithit': 21995, 'forwardforeveryon': 21996, 'selfdevelop': 21997, 'fastfoodpunk': 21998, 'grandturk': 21999, 'islandman': 22000, 'keepcalm': 22001, 'turksandcaico': 22002, 'perperson': 22003, 'prepandem': 22004, 'bandhan': 22005, 'everlast': 22006, 'raksha': 22007, 'rakshabandhan': 22008, 'seafoodindustri': 22009, 'seafoodprocess': 22010, 'bolt': 22011, 'parter': 22012, 'ithaka_org': 22013, 'dataessenti': 22014, 'sweettart': 22015, 'minutespush': 22016, 'pullup': 22017, 'ครง': 22018, 'นาทวดพน': 22019, 'หลงจากออกกำลงกายปนจกรยาน': 22020, 'โหนบาร': 22021, 'grahanim': 22022, 'inlifenolimit': 22023, 'customketodiet': 22024, 'getheadstrt': 22025, 'generationgen': 22026, 'lazyroo': 22027, 'parcel': 22028, 'potatoeswhen': 22029, 'curfew': 22030, 'distributor': 22031, 'sideeffectsofchilli': 22032, 'आरगयल': 22033, 'पहच': 22034, 'मरचच': 22035, 'पवसळयत': 22036, 'फयबर': 22037, 'exerci': 22038, 'primal': 22039, 'onam': 22040, 'secular': 22041, 'studyfindsorg': 22042, 'canopi': 22043, 'cm': 22044, 'cylindr': 22045, 'diamet': 22046, 'elong': 22047, 'taper': 22048, 'vine': 22049, 'intermittend': 22050, 'intermittendfast': 22051, 'waterfast': 22052, 'counterpart': 22053, 'unsprout': 22054, 'boynton': 22055, 'manzanita': 22056, 'fussfre': 22057, 'bloomberg': 22058, 'centralbank': 22059, 'ecb': 22060, 'fiat': 22061, 'kashkari': 22062, 'mkt': 22063, 'powel': 22064, 'scrimp': 22065, 'cortex': 22066, 'frontal': 22067, 'ordinari': 22068, 'volt': 22069, 'arcgi': 22070, 'esri': 22071, 'wishlist': 22072, 'gotten': 22073, 'nwo': 22074, 'recomend': 22075, 'jendza': 22076, 'tef': 22077, 'thermic': 22078, 'electricalgood': 22079, 'foodampdrink': 22080, 'healthampbeauti': 22081, 'tradegovuk_nw': 22082, 'climatefact': 22083, 'regenerativeranch': 22084, 'belvieu': 22085, 'fridaynew': 22086, 'hillsid': 22087, 'mont': 22088, 'envhist': 22089, 'likew': 22090, 'standinth': 22091, 'chocolatepecanpieday': 22092, 'espn': 22093, 'timberlak': 22094, 'dropoff': 22095, 'brettsholti': 22096, 'bodymassindex': 22097, 'muscel': 22098, 'fridaymusicfun': 22099, 'laborday': 22100, 'agri_hik': 22101, 'agrihik': 22102, 'juiceworld': 22103, 'fatburningdiet': 22104, 'howtoburnfat': 22105, 'devoid': 22106, 'digestionsupport': 22107, 'personalizedfood': 22108, 'abislazizchicken': 22109, 'carrotjuic': 22110, 'spinachjuic': 22111, 'जयसच': 22112, 'दषट': 22113, 'mindbodyspirit': 22114, 'pamper': 22115, 'dispers': 22116, 'worldhumanitarianday': 22117, 'samoa': 22118, 'tiapapata': 22119, 'agsdpilescaulc': 22120, 'alcoholdrug': 22121, 'bat': 22122, 'crueldang': 22123, 'diszshprobgouthigh': 22124, 'foodq': 22125, 'livetc': 22126, 'meatetchard': 22127, 'pplhealth': 22128, 'pplveri': 22129, 'sugcholganosyphhb': 22130, 'talibansamp': 22131, 'cardiohealth': 22132, 'swasthya': 22133, 'mindhelp': 22134, 'beepollen': 22135, 'beetwt': 22136, 'edtwt': 22137, 'mdpiopenaccess': 22138, 'statusamp': 22139, 'therapeuticpotenti': 22140, 'dial': 22141, 'dontwait': 22142, 'startnow': 22143, 'robertson': 22144, 'tom': 22145, 'commonsens': 22146, 'aajtakextra': 22147, 'atvert': 22148, 'shwetajhaanchor': 22149, 'खतरनक': 22150, 'चतवन': 22151, 'तल': 22152, 'दबर': 22153, 'newcom': 22154, 'bcppartner': 22155, 'cleanhoact': 22156, 'nrdc': 22157, 'olivierjolliet': 22158, 'cafeauszeitfulda': 22159, 'hess': 22160, 'coronari': 22161, 'totalsportstherapi': 22162, 'tst': 22163, 'tablewar': 22164, 'healyourself': 22165, 'physicaltherapi': 22166, 'physicaltherapist': 22167, 'physio': 22168, 'physiotherapist': 22169, 'excis': 22170, 'exciseduti': 22171, 'veganlifestyl': 22172, 'delicioushttpstcoidaaeqeu': 22173, 'crossbordertrad': 22174, 'cusma': 22175, 'nafta': 22176, 'usmca': 22177, 'bjth': 22178, 'iammiketodd': 22179, 'brian': 22180, 'nationalsofticecreamday': 22181, 'regan': 22182, 'pattyhajdu': 22183, 'brilliantli': 22184, 'foodpr': 22185, 'cdnag': 22186, 'graphen': 22187, 'kindacommun': 22188, 'nano_particl': 22189, 'sovereign': 22190, 'admin': 22191, 'thirdshift': 22192, 'alexcart': 22193, 'butterfli': 22194, 'theholycatof_': 22195, 'bonito': 22196, 'corpo': 22197, 'mesmo': 22198, 'poder': 22199, 'pra': 22200, 'só': 22201, 'ter': 22202, 'treinam': 22203, 'verdad': 22204, 'você': 22205, 'churma': 22206, 'disha': 22207, 'ezeonsoft': 22208, 'koya': 22209, 'munawwarrana': 22210, 'namjoon': 22211, 'nhrc': 22212, 'nirajchopra': 22213, 'thano': 22214, 'vespa': 22215, 'worldphotographyday': 22216, 'चरम': 22217, 'लकhttpstcowkdepoahc': 22218, 'sandwhich': 22219, 'घरचय': 22220, 'सनडवच': 22221, 'gastronomiayfit': 22222, 'space_st': 22223, 'spacest': 22224, 'ncbi': 22225, 'permethrin': 22226, 'palawan': 22227, 'scariest': 22228, 'tamilok': 22229, 'mukteshwar': 22230, 'rediscov': 22231, 'concret': 22232, 'healthychapati': 22233, 'कटळल': 22234, 'खऊन': 22235, 'चपतय': 22236, 'परठ': 22237, 'सधय': 22238, 'ironrichfood': 22239, 'लह': 22240, 'federico': 22241, 'indipendent': 22242, 'mongardi': 22243, 'अपचन': 22244, 'गरदरपणत': 22245, 'गसच': 22246, 'पययलयन': 22247, 'लकषत': 22248, 'वढत': 22249, 'bestcheck': 22250, 'bestcheckindia': 22251, 'bestof': 22252, 'riboflavin': 22253, 'tipoftheday': 22254, 'mikeyperk': 22255, 'chapman': 22256, 'newstudi': 22257, 'yourbodi': 22258, 'breakingfast': 22259, 'fastedst': 22260, 'metabolicr': 22261, 'kindl': 22262, 'straightforward': 22263, 'stateoftheart': 22264, 'eatingbehavior': 22265, 'mayjun': 22266, 'aquafe': 22267, 'palat': 22268, 'convid': 22269, 'cooti': 22270, 'holocaust': 22271, 'ibm': 22272, 'magashot': 22273, 'newhexico': 22274, 'pepsi': 22275, 'slavenewworld': 22276, 'vaxworldord': 22277, 'worldgovern': 22278, 'wuhanlujan': 22279, 'dietculturerebellion': 22280, 'gateway': 22281, 'foodielov': 22282, 'glutenintoler': 22283, 'psyllium': 22284, 'cleanser': 22285, 'exe': 22286, 'backlog': 22287, 'euthan': 22288, 'olymel': 22289, 'processor': 22290, 'slaughter': 22291, 'sensori': 22292, 'godaboveal': 22293, 'godhasthelastword': 22294, 'federalreserv': 22295, 'hardwork': 22296, 'lisaabramowicz': 22297, 'aerial': 22298, 'errant': 22299, 'ont': 22300, 'wingham': 22301, 'beaten': 22302, 'humanefarm': 22303, 'dineout': 22304, 'nifti': 22305, 'restaurantqu': 22306, 'restaurantstyl': 22307, 'buttriss': 22308, 'judith': 22309, 'sublim': 22310, 'cardiovasculardiseas': 22311, 'icrisat': 22312, 'smartfood': 22313, 'आयरवदनसर': 22314, 'वढवणयच': 22315, 'alp': 22316, 'aspampfelectrohomeopathi': 22317, 'curesafefastbest': 22318, 'homeo': 22319, 'manythidden': 22320, 'maskvasthuveg': 22321, 'pampfayr': 22322, 'stndrdetc': 22323, 'tranfer': 22324, 'isand': 22325, 'maybebut': 22326, 'yogadowndabay': 22327, 'sugarcanejuic': 22328, 'ऊसच': 22329, 'रस': 22330, 'mediocr': 22331, 'mundan': 22332, 'beautifulsouthm': 22333, 'hellohampshiremediagroupcouk': 22334, 'coliti': 22335, 'crohnsdiseas': 22336, 'dermat': 22337, 'doctorchrisvt': 22338, 'heartwrench': 22339, 'xand': 22340, 'xandvt': 22341, 'ovariancancertreat': 22342, 'overiancanc': 22343, '_nvwa': 22344, 'isola': 22345, 'wiki': 22346, 'withdraw': 22347, 'diabetemanagementprogram': 22348, 'rarewhat': 22349, 'thefitmonk': 22350, 'bigreason': 22351, 'जवलयबरबर': 22352, 'डलक': 22353, 'लगत': 22354, 'हवतच': 22355, 'askclinik': 22356, 'bbnaijashineyourey': 22357, 'medicalmedium': 22358, 'kohehealthtip': 22359, 'आजरपसन': 22360, 'आतड': 22361, 'internationalyouthday': 22362, 'quickpicklekit': 22363, 'spreadlovenotfear': 22364, 'blackboyjoy': 22365, 'blackwrit': 22366, 'normani': 22367, 'screenwrit': 22368, 'skylar_writ': 22369, 'alltherumorsaretru': 22370, 'bodybrav': 22371, 'bodysham': 22372, 'lizzo': 22373, 'tiyaapp': 22374, 'tiyatalk': 22375, 'tiyaworld': 22376, 'marksandspencerfood': 22377, 'paulasfoodanddrinktip': 22378, 'paulasfoodtip': 22379, 'paulaspl': 22380, 'sainsburysfood': 22381, 'smokedsalmon': 22382, 'smokedsalmonsalad': 22383, 'tescofood': 22384, 'foodsmartbyzip': 22385, 'beyondmilk': 22386, 'copyright': 22387, 'snact': 22388, 'glowingskin': 22389, 'supermodel': 22390, 'gardenfresh': 22391, 'gardensalad': 22392, 'consumerproduct': 22393, 'forij': 22394, 'strtupboost': 22395, 'miduki': 22396, 'nat': 22397, 'mubroom': 22398, 'pkr': 22399, 'tzatzikiol': 22400, 'ifunni': 22401, 'turbo': 22402, 'booth': 22403, 'phenomen': 22404, 'shelley': 22405, 'beefindustri': 22406, 'wsj': 22407, 'arg': 22408, 'quo': 22409, 'scum': 22410, 'uneth': 22411, 'ctv': 22412, 'newbrunswick': 22413, 'nl': 22414, 'novascotia': 22415, 'heartless': 22416, 'foodlabel': 22417, 'whatyoueat': 22418, 'nutshel': 22419, 'checkplant': 22420, 'fami': 22421, 'planthealth': 22422, 'robocrop': 22423, 'robocroptom': 22424, 'usinggp': 22425, 'isw': 22426, 'planettruth': 22427, 'eatwellforless': 22428, 'freeapp': 22429, 'mealboard': 22430, 'yoda': 22431, 'food_safeti': 22432, 'food_scienc': 22433, 'foodsummit': 22434, 'dancoop': 22435, 'edgarpineda': 22436, 'peacefmonlin': 22437, 'nutricer': 22438, 'ffl': 22439, 'lfl': 22440, 'dialoguesmedia': 22441, 'lifest': 22442, 'naa': 22443, 'pant': 22444, 'friesso': 22445, 'frx': 22446, 'klv': 22447, 'nafti': 22448, 'oishi': 22449, 'youc': 22450, 'nationalfoodstrategi': 22451, 'cheeseplatt': 22452, 'chefgunta': 22453, 'middleeasterndip': 22454, 'abnehmen': 22455, 'arbeit': 22456, 'büro': 22457, 'bürojob': 22458, 'diät': 22459, 'einfach': 22460, 'essen': 22461, 'fragen': 22462, 'gesund': 22463, 'homeoffic': 22464, 'krise': 22465, 'wellspr': 22466, 'confident_queen': 22467, 'learningeveryday': 22468, 'leedsahwn': 22469, 'ncduk': 22470, 'timeoutsid': 22471, 'vegpatch': 22472, 'birthright': 22473, 'eduminofindia': 22474, 'itna': 22475, 'jimohfw_india': 22476, 'khwab': 22477, 'licens': 22478, 'jowarri': 22479, 'feedli': 22480, 'marketfood': 22481, 'spate': 22482, 'eatfruit': 22483, 'redbeanhospitalti': 22484, 'startupindia': 22485, 'chhotichhotibatein': 22486, 'coloursoflif': 22487, 'capsicum': 22488, 'tastebhihealthbhi': 22489, 'vibrant': 22490, 'ladder': 22491, 'jessicacoachj': 22492, 'justkeep': 22493, 'timefory': 22494, 'greensmoothi': 22495, 'highbloodsugar': 22496, 'relaxationday': 22497, 'slash': 22498, 'sueatkin': 22499, '________': 22500, 'sisson': 22501, 'unwis': 22502, 'cobcounti': 22503, 'cannabisindustri': 22504, 'datesyrup': 22505, 'zachbush': 22506, 'dum': 22507, 'shudhata': 22508, 'swaad': 22509, 'congratul': 22510, 'healthytravel': 22511, 'paradigmpick': 22512, 'walmartcanada': 22513, 'अननस': 22514, 'घतल': 22515, 'थकक': 22516, 'वहल': 22517, 'atmanirbharkrishi': 22518, 'checkitout': 22519, 'farmto': 22520, 'geecom': 22521, 'desifood': 22522, 'delhincr': 22523, 'directfromfarm': 22524, 'farmerconsum': 22525, 'fridabad': 22526, 'gurugram': 22527, 'hepkaspur': 22528, 'karnhttpstcosupephijo': 22529, 'noida': 22530, 'panipat': 22531, 'redvelox': 22532, 'sonipat': 22533, 'smartnew': 22534, 'anda': 22535, 'eggday': 22536, 'mondayfeel': 22537, 'peppi': 22538, 'beactiv': 22539, 'kiwikisamwindow': 22540, 'waterrel': 22541, 'healthidea': 22542, 'aia': 22543, 'shravan': 22544, 'shravanmaa': 22545, 'shrawansomvar': 22546, 'खदड': 22547, 'शरवणतल': 22548, 'norateen': 22549, 'timetest': 22550, 'banglamagazin': 22551, 'lunchhttpstcodaemkzf': 22552, 'navroz': 22553, 'navrozmubarak': 22554, 'nutstoy': 22555, 'parsi': 22556, 'parsinewyear': 22557, 'foodsubstitut': 22558, 'masschallengech': 22559, 'negat': 22560, 'desikhana': 22561, 'phulka': 22562, 'ridg': 22563, 'sabji': 22564, 'taroi': 22565, 'mariela': 22566, 'stewart': 22567, 'dermatos': 22568, 'soyabeanoil': 22569, 'worldfoodprogramm': 22570, 'cairo': 22571, 'egypt': 22572, 'fashionstyl': 22573, 'blogwebsit': 22574, 'ecoawar': 22575, 'ecod': 22576, 'evolveyourpassioninspirechang': 22577, 'getinvolv': 22578, 'nkrcja': 22579, 'justifi': 22580, 'carv': 22581, 'kara': 22582, 'karaswish': 22583, 'swisher': 22584, 'distancelearn': 22585, 'nationalscienceweekdetail': 22586, 'sampleshealthi': 22587, 'redefin': 22588, 'storebought': 22589, 'berilsirmacek': 22590, 'drugdeal': 22591, 'endbigagsubsidi': 22592, 'indiancuisin': 22593, 'texascovid': 22594, 'anushakv': 22595, 'bestbefor': 22596, 'expiryd': 22597, 'vox': 22598, 'ceris': 22599, 'chicon': 22600, 'cidess': 22601, 'cliquant': 22602, 'lien': 22603, 'midi': 22604, 'partagez': 22605, 'projetaufildeleau': 22606, 'soutenez': 22607, 'tomat': 22608, 'tomaté': 22609, 'vinegrett': 22610, 'cağasaneczacılar': 22611, 'eczacılık': 22612, 'merhemdergi': 22613, 'sciencenew': 22614, 'majida': 22615, 'makhamreh': 22616, 'nasrawi': 22617, 'iyop': 22618, 'myanmarmilitarycoup': 22619, 'unrest': 22620, 'vedusha': 22621, 'vedushafood': 22622, 'hustl': 22623, 'instoreapp': 22624, 'fromfarmtofork': 22625, 'indiandish': 22626, 'kitchenstori': 22627, 'odisha': 22628, 'odishatrail': 22629, 'auspici': 22630, 'accuraci': 22631, 'occurr': 22632, 'multisector': 22633, 'soba': 22634, 'indiaindependenceday': 22635, 'satviklif': 22636, 'actorslif': 22637, 'afrikan': 22638, 'mansanzingaproduct': 22639, 'updatenew': 22640, 'wellnesshub': 22641, 'bandung': 22642, 'chinesebroccoli': 22643, 'hidroponik': 22644, 'kailan': 22645, 'augment': 22646, 'haahrmariann': 22647, 'insurtech': 22648, 'jasonwelham': 22649, 'jaypalt': 22650, 'marinasini': 22651, 'peggymangot': 22652, 'rshevlin': 22653, 'therudingroup': 22654, 'orthopedicsurgeon': 22655, 'surgeon': 22656, 'eatbanza': 22657, 'harvestinnov': 22658, 'tam': 22659, 'thien': 22660, 'painfre': 22661, 'clog': 22662, 'randomfact': 22663, 'ampmay': 22664, 'bhakri': 22665, 'flame': 22666, 'idiot': 22667, 'mucho': 22668, 'oya': 22669, 'returnedmom': 22670, 'smartfoodindia': 22671, 'andalucia': 22672, 'europeanqu': 22673, 'zeroadulter': 22674, 'aap': 22675, 'aapk': 22676, 'azadikaamritmahotsav': 22677, 'cheeg': 22678, 'hone': 22679, 'hote': 22680, 'hoti': 22681, 'independencedayindia': 22682, 'kharab': 22683, 'mote': 22684, 'par': 22685, 'rehta': 22686, 'sath': 22687, 'swasay': 22688, 'writingcommnun': 22689, 'gulp': 22690, 'pepsidaygtgmcan': 22691, 'ampit': 22692, 'carbohydratesxwhil': 22693, 'gmcan': 22694, 'mgould': 22695, 'pepsiday': 22696, 'yah': 22697, 'sueatkinsbookclub': 22698, 'dmkanpur': 22699, 'eatrightkanpur': 22700, 'fsdakanpur': 22701, 'mygovindia': 22702, 'myogiadityanath': 22703, 'primamag': 22704, 'wwweek': 22705, 'ez': 22706, 'foodtechproduct': 22707, 'neerajchopra': 22708, 'solopreneur': 22709, 'nicolaksdavi': 22710, 'bluntthediabetescurv': 22711, 'indiaesi': 22712, 'nutritionkaamrutmahotsav': 22713, 'onepotm': 22714, 'rssdi_offici': 22715, 'timesfood': 22716, 'michiko': 22717, 'terada': 22718, 'unv_rowca': 22719, 'ancora': 22720, 'kauai': 22721, 'menlyn': 22722, 'menlynmain': 22723, 'pretoria': 22724, 'healtysnack': 22725, 'tejcelibr': 22726, 'raandhanchhath': 22727, 'sitlasaatm': 22728, 'worldprediabetesday': 22729, 'chuck': 22730, 'ellendegener': 22731, 'schumer': 22732, 'staysehatmand': 22733, 'balanga': 22734, 'खओ': 22735, 'मसत': 22736, 'chihuahua': 22737, 'unitedst': 22738, 'brais': 22739, 'bbcworld': 22740, 'cbsnew': 22741, 'cdcgov': 22742, 'cheerio': 22743, 'triscuit': 22744, 'betterplanet': 22745, 'futurefood': 22746, 'bbcradio': 22747, 'dispirit': 22748, 'threshold': 22749, 'fridayth': 22750, 'organdonorday': 22751, 'pretend': 22752, 'bx': 22753, 'jadakiss': 22754, 'juicesforlif': 22755, 'lifeislov': 22756, 'loveislov': 22757, 'stylesp': 22758, 'thelox': 22759, 'verzuz': 22760, 'yonker': 22761, 'rootbit': 22762, 'standout': 22763, 'topnotch': 22764, 'servings': 22765, 'fridaytheth': 22766, 'sardinian': 22767, 'sheep': 22768, 'cbdhealth': 22769, 'cbdlife': 22770, 'cbdwell': 22771, 'fullspectrum': 22772, 'hempseedoil': 22773, 'isolateoil': 22774, 'ebola': 22775, 'faoafrica': 22776, 'foreignpolici': 22777, 'guinea': 22778, 'infectiousdiseas': 22779, 'fuelup': 22780, 'questnutrit': 22781, 'studentathlet': 22782, 'healthism': 22783, 'foodcur': 22784, 'suboptim': 22785, 'elsevierconnect': 22786, 'costbo': 22787, 'irfanshealthsur': 22788, 'promocod': 22789, 'spinach_salad': 22790, 'cranwel': 22791, 'outperform': 22792, 'highin': 22793, 'nuffood': 22794, 'dietaryintak': 22795, 'favour': 22796, 'ocl_edp': 22797, 'uncommon': 22798, 'bronchiti': 22799, 'copd': 22800, 'cureh': 22801, 'healthcareit': 22802, 'pneumonia': 22803, 'covidー': 22804, 'malaikaarora': 22805, 'healthegg': 22806, 'animalwelfarelaw': 22807, 'canadiangreen': 22808, 'wellnessforal': 22809, 'ﬁtness': 22810, 'animalfe': 22811, 'animalnutrit': 22812, 'aqua': 22813, 'ecvv': 22814, 'feedaddit': 22815, 'phytas': 22816, 'phytaseht': 22817, 'rumin': 22818, 'winovazym': 22819, 'eatr': 22820, '𝘈𝘮𝘦𝘳𝘪𝘤𝘢𝘯': 22821, '𝘥𝘪𝘦𝘵': 22822, '𝘴𝘵𝘢𝘯𝘥𝘢𝘳𝘥': 22823, 'disassoci': 22824, 'coachgaulk': 22825, 'arroz': 22826, 'brócoli': 22827, 'carboidrato': 22828, 'chiken': 22829, 'geniusfitwatch': 22830, 'pechuga': 22831, 'childwelfar': 22832, 'futureofworld': 22833, 'nutrition': 22834, 'jayku': 22835, 'leeann': 22836, 'anthroinsight': 22837, 'ccacoalit': 22838, 'cccpakistan': 22839, 'cleangreenpk': 22840, 'cleanpak': 22841, 'climateactionpk': 22842, 'moccpak': 22843, 'munazahassan': 22844, 'pakistansdg': 22845, 'wpc_pak': 22846, 'zartajgulwazir': 22847, 'abdo': 22848, 'paraguayan': 22849, 'shareahol': 22850, 'middlechildday': 22851, 'cocain': 22852, 'noncalor': 22853, 'saccharin': 22854, 'theyd': 22855, 'chandra': 22856, 'unescounevocamitava': 22857, 'youthday': 22858, 'deepen': 22859, 'immediatetyp': 22860, 'clan': 22861, 'jermainedupri': 22862, 'plantgrant': 22863, 'rza': 22864, 'sosodef': 22865, 'violif': 22866, 'wutang': 22867, 'wutangclan': 22868, 'greatfutur': 22869, 'kabob': 22870, 'tvseri': 22871, 'watchingtv': 22872, 'portal': 22873, 'naysay': 22874, 'thursdaymood': 22875, 'meitei': 22876, 'romi': 22877, 'verticalfarm': 22878, 'healthymeat': 22879, 'reporthttpstcotalixdsm': 22880, 'drydat': 22881, 'accucomp': 22882, 'accucompstrategi': 22883, 'darryl': 22884, 'holliday': 22885, 'nola': 22886, 'oneweek': 22887, 'orlean': 22888, 'resettransformsuccess': 22889, 'bungalow': 22890, 'ordnyan': 22891, 'sikkim': 22892, 'flock': 22893, 'knit': 22894, 'ret': 22895, 'nitrit': 22896, 'wecanlearnfromourbodi': 22897, 'rupertmy': 22898, 'iyd': 22899, 'thursdaytruth': 22900, 'centuriesold': 22901, 'journorequest': 22902, 'prlead': 22903, 'entrepreneuri': 22904, 'systemsyouth': 22905, 'youthth': 22906, 'summerfood': 22907, 'bant': 22908, 'kdt_sport': 22909, 'kdtcomm': 22910, 'mojom': 22911, 'mojome_lchf': 22912, 'mojomeambassador': 22913, 'yummmmmm': 22914, 'checklist': 22915, 'tuberculosi': 22916, 'unicefindia': 22917, 'gastriti': 22918, 'eko': 22919, 'cocohealth': 22920, 'richmond': 22921, 'urbantilth': 22922, 'fastcompani': 22923, 'manner': 22924, 'highflavonoid': 22925, 'lessen': 22926, 'postnat': 22927, 'mockeri': 22928, 'mud': 22929, 'repel': 22930, 'sacrileg': 22931, 'sung': 22932, 'harmlessharvest': 22933, 'immunoglobulin': 22934, 'kang': 22935, 'tack': 22936, 'healthun': 22937, 'transformingeduc': 22938, 'chocolatecak': 22939, 'foodispow': 22940, 'bicycl': 22941, 'greatdepress': 22942, 'hrcolaben': 22943, 'mainst': 22944, 'megaeconomicdepress': 22945, 'mfg': 22946, 'ponziprint': 22947, 'shelterenergyfoodwat': 22948, 'csr': 22949, 'planteatshq': 22950, 'theghostofdoc': 22951, 'veganchatroom': 22952, 'veganol': 22953, 'vegansuk': 22954, 'yh': 22955, 'biochem': 22956, 'dietsa': 22957, 'underli': 22958, 'anthrax': 22959, 'biowarfar': 22960, 'botulinu': 22961, 'casolarodidntkillhimself': 22962, 'dannycasolaro': 22963, 'drgate': 22964, 'farmland': 22965, 'fortdetrick': 22966, 'ftdetrick': 22967, 'allergykidsdoc': 22968, 'peanutfre': 22969, 'pediatricrdn': 22970, 'onlyorgan': 22971, 'organictrad': 22972, 'rainieraveradio': 22973, 'sucros': 22974, 'sugarinduc': 22975, 'crystalstairsla': 22976, 'sjli': 22977, 'sullivan': 22978, 'irvin': 22979, 'mendocino': 22980, 'blocker': 22981, 'gymrat': 22982, 'youshouldknow': 22983, 'rockefellerfdn': 22984, 'tomphilpott': 22985, 'nitl': 22986, 'wednesdaythough': 22987, 'distress': 22988, 'interestingli': 22989, 'meghana': 22990, 'mythali': 22991, 'ndtv': 22992, 'pasi': 22993, 'dominica': 22994, 'foodfraud': 22995, 'roseau': 22996, 'transparentsystem': 22997, 'dayswithpalesa': 22998, 'nutritionwednesday': 22999, 'rake': 23000, 'tyson': 23001, 'childhoodcanc': 23002, 'cuddlesfound': 23003, 'saksham': 23004, 'kidneystonesdietchart': 23005, 'kidneystonestreat': 23006, 'bkchospit': 23007, 'doc_health': 23008, 'healthnewsindia': 23009, 'healthreactive': 23010, 'indiahealthwis': 23011, 'nhpindia': 23012, 'thephfi': 23013, 'womenshealthind': 23014, 'उमर': 23015, 'बद': 23016, 'भलकर': 23017, 'breakfastchalleng': 23018, 'nabeel': 23019, 'saima': 23020, 'igd_health': 23021, 'dayskeep': 23022, 'schoolbas': 23023, 'diseaselink': 23024, 'connectedbodymindspirit': 23025, 'loveunderstand': 23026, 'mouthwhat': 23027, 'locumpress': 23028, '一年ぶりくらいに外食京都ラーメン': 23029, '料理': 23030, '明大前店で冷やし中華大盛り無料だったやはり外食はうまい': 23031, '森井': 23032, 'आजच': 23033, 'वढवयचय': 23034, 'तलजल': 23035, 'दय': 23036, 'बनवतत': 23037, 'मड': 23038, 'रगट': 23039, 'सवयन': 23040, 'armor': 23041, 'healthierimmunesystem': 23042, 'insectderivednaturalproduct': 23043, 'magicalhealingpot': 23044, 'popularhomeremedi': 23045, 'significantweightreduct': 23046, 'terkinikalbar': 23047, 'vitamincserum': 23048, 'wwwblog': 23049, 'yacu': 23050, 'मलच': 23051, 'broccolini': 23052, 'japcha': 23053, 'kalbi': 23054, 'hommi': 23055, 'jeera': 23056, 'weightlossmistak': 23057, 'आपण': 23058, 'लठठपण': 23059, 'begdach': 23060, 'freq': 23061, 'patrissi': 23062, 'fionaharvey': 23063, 'intergovernment': 23064, 'nonfood': 23065, 'officesnack': 23066, 'workplacewel': 23067, 'maverick': 23068, 'carbsstarch': 23069, 'fist': 23070, 'proteïn': 23071, 'calabacín': 23072, 'enhttpstconldztnjxg': 23073, 'tallarin': 23074, 'southprovid': 23075, 'streetstori': 23076, 'withsadhguru': 23077, 'buat': 23078, 'cocok': 23079, 'dan': 23080, 'jeni': 23081, 'lezat': 23082, 'sehat': 23083, 'seluruh': 23084, 'bigdata': 23085, 'datasci': 23086, 'nerdout': 23087, 'woot': 23088, 'ironphyt': 23089, 'kimberleypayn': 23090, 'elijahmuhammadinshot': 23091, 'farrakhan': 23092, 'howtoeattolivechalleng': 23093, 'nationofislam': 23094, 'disneyspr': 23095, 'orlandoflorida': 23096, 'pharmabox': 23097, 'vineland': 23098, 'vinelandpremiumoutlet': 23099, 'futurist': 23100, 'jaibajrangbali': 23101, 'jaivikgurugram': 23102, 'socialrack': 23103, 'hindustantim': 23104, 'postworkoutfood': 23105, 'postworkoutm': 23106, 'slurp': 23107, 'slurrpht': 23108, 'contest_alert': 23109, 'contest_hub': 23110, 'contest_in': 23111, 'contest_tim': 23112, 'contestfoodi': 23113, 'contestindia': 23114, 'contestindiaa': 23115, 'contestsshar': 23116, 'contesttim': 23117, 'contestworld': 23118, 'indiacontest': 23119, 'indicontest': 23120, 'maalfreekaa': 23121, 'donsacarino': 23122, 'empanado': 23123, 'buyingcont': 23124, 'gapfh': 23125, 'paintmenak': 23126, 'parker': 23127, 'rashida': 23128, 'slider': 23129, 'tlaib': 23130, 'tuesdsythought': 23131, 'broward': 23132, 'cleveland': 23133, 'felizmartesatodo': 23134, 'galicia': 23135, 'masterchefcelebritycolombia': 23136, 'greeksalad': 23137, 'tokio': 23138, 'pistacchio': 23139, 'cookreviewfl': 23140, 'apeda': 23141, 'उपश': 23142, 'रगच': 23143, 'रहण': 23144, 'वढ': 23145, 'हनकरक': 23146, 'animalcross': 23147, 'animalkingdom': 23148, 'lidlgb': 23149, 'nowrongpath': 23150, 'tinyvoicetalk': 23151, 'biflex': 23152, 'esterc': 23153, 'pride': 23154, 'puritan': 23155, 'solgar': 23156, 'sundown': 23157, 'thebountiful_co': 23158, 'doidealsnow': 23159, 'fitn': 23160, 'blur': 23161, 'musclestrengthchalleng': 23162, 'beirut': 23163, 'eatyourgreen': 23164, 'lovewhatyoueat': 23165, 'powerlunch': 23166, 'salata': 23167, 'जवनशलमधय': 23168, 'बदल': 23169, 'climateenerg': 23170, 'clinatecrisi': 23171, 'falseadvertis': 23172, 'whomemad': 23173, 'worgan': 23174, 'newbrooklyn': 23175, 'willpowerstudio': 23176, 'tomboy': 23177, 'flickonclick': 23178, 'primalkitchenco': 23179, 'sheetpan': 23180, 'cancernutrit': 23181, 'cso': 23182, 'jennif': 23183, 'nutritionunc': 23184, 'lifedonebett': 23185, 'theearthdiet': 23186, 'undu': 23187, 'mentaldisord': 23188, 'لبنان': 23189, 'deannaminich': 23190, 'drdeannaminich': 23191, 'handbook': 23192, 'quantum': 23193, 'quantumhealinghandbook': 23194, 'wive': 23195, 'fluxergi': 23196, 'pcrtest': 23197, 'farmshop': 23198, 'independentretail': 23199, 'closest': 23200, 'bookloversday': 23201, 'rosaesrojo': 23202, 'superv': 23203, 'holder': 23204, 'childish': 23205, 'tonedeaf': 23206, 'arrozcaldo': 23207, 'conge': 23208, 'cronkit': 23209, 'lessgovern': 23210, 'mybodymychoic': 23211, 'overnightoat': 23212, 'walter': 23213, 'smoothlikebutt': 23214, 'appnow': 23215, 'eatento': 23216, 'scfa': 23217, 'cultfitoffici': 23218, 'fitnessfood': 23219, 'fitnessmagazin': 23220, 'mjfit': 23221, 'blaster': 23222, 'dogmeat': 23223, 'enddogmeattrad': 23224, 'inconveni': 23225, 'kbsnew': 23226, 'namikim_dogssk': 23227, 'savekoreandog': 23228, 'skorea': 23229, 'southkorea': 23230, 'stopbokn': 23231, 'dogmeattrad': 23232, 'mindhack': 23233, 'highrisk': 23234, 'caeh': 23235, 'lu': 23236, 'lucer': 23237, 'bias': 23238, 'downright': 23239, 'entireti': 23240, 'headlin': 23241, 'misguid': 23242, 'comm': 23243, 'multifacet': 23244, 'mlumsdontaylor': 23245, 'rpg': 23246, 'sugartax': 23247, 'familysupermarket': 23248, 'ratnadeep': 23249, 'ratnadeepsupermarket': 23250, 'batman': 23251, 'booklov': 23252, 'loveread': 23253, 'deliciouseveryd': 23254, 'dusanka': 23255, 'canin': 23256, 'extrud': 23257, 'superbowl': 23258, 'awazthevoic': 23259, 'jnjnew': 23260, 'johnshopkin': 23261, 'feedchain': 23262, 'nanosci': 23263, 'lotsa': 23264, 'unusu': 23265, 'chlamydia': 23266, 'eucalyptustre': 23267, 'greatergood': 23268, 'rainforest': 23269, 'savekoala': 23270, 'buzztown': 23271, 'nutritionalse': 23272, 'getfitwithmansoor': 23273, 'thenacentr': 23274, 'stephaniec': 23275, 'चगल': 23276, 'तदळ': 23277, 'तदळमधय': 23278, 'बरऊन': 23279, 'बलक': 23280, 'रड': 23281, 'वचच': 23282, 'वहईट': 23283, 'खललयन': 23284, 'hectar': 23285, 'oceania': 23286, 'fleet': 23287, 'halalinjapan': 23288, 'marium': 23289, 'mariumsfood': 23290, 'tastyjapan': 23291, 'thokku': 23292, 'mindgut': 23293, 'batter': 23294, 'paczki': 23295, 'shouldv': 23296, 'winespect': 23297, 'partli': 23298, 'sundaymealprep': 23299, 'fruitsshar': 23300, 'childtak': 23301, 'doughi': 23302, 'mediums': 23303, 'snowyowl': 23304, 'ghar': 23305, 'khana': 23306, 'rajama': 23307, 'edchat': 23308, 'elemchat': 23309, 'pbl': 23310, 'rosaryschoolrajkot': 23311, 'rozarit': 23312, 'welldon': 23313, 'rosacea': 23314, 'weightlo': 23315, 'pelajau': 23316, 'timber': 23317, 'foodsovereignti': 23318, 'forjust': 23319, 'healthysustain': 23320, 'localfutures_': 23321, 'ofourfoodsystem': 23322, 'peasant': 23323, 'seriespart': 23324, 'newreleas': 23325, 'nobelpr': 23326, 'profmsrao': 23327, 'cyndi': 23328, 'dale': 23329, 'dana': 23330, 'pagan': 23331, 'zodiac': 23332, 'mmol': 23333, 'synlab': 23334, 'facommunityshield': 23335, 'premierleagu': 23336, 'shield': 23337, 'foodpsycholog': 23338, 'healthywel': 23339, 'intuative': 23340, 'posativemindset': 23341, 'enhttpstcolqbwihfdm': 23342, 'gazpacho': 23343, 'melocotón': 23344, 'hoboatemygyro': 23345, 'nerdspork': 23346, 'mermaidcook': 23347, 'preventabsorpt': 23348, 'norirol': 23349, 'snackidea': 23350, 'yogilachi': 23351, 'silli': 23352, 'coconutmilk': 23353, 'onlyfor': 23354, 'terminolog': 23355, 'purefitnesslif': 23356, 'oneself': 23357, 'kimbal': 23358, 'mayemusk': 23359, 'milliongarden': 23360, 'modfarm': 23361, 'chkickpea': 23362, 'garyhgoodridg': 23363, 'gabrcatz': 23364, 'flavorchem': 23365, 'fonio': 23366, 'colorfulfood': 23367, 'energyfood': 23368, 'healthycarbohydr': 23369, 'healthyprotein': 23370, 'positivemood': 23371, 'englandbrand': 23372, 'monopolypharmabusi': 23373, 'offersinm': 23374, 'बयच': 23375, 'भपळयचय': 23376, 'drill': 23377, 'saturdayhealthdril': 23378, 'shallot': 23379, 'sizzl': 23380, 'supergood': 23381, 'thoren': 23382, 'aquabion': 23383, 'limescal': 23384, 'havardstudi': 23385, 'beneficialforskin': 23386, 'rocksaltbenefit': 23387, 'खप': 23388, 'सधव': 23389, 'corianderleav': 23390, 'कथबरच': 23391, 'pomac': 23392, 'funfactfriday': 23393, 'globaltrad': 23394, 'herbaliferesult': 23395, 'inicia': 23396, 'arcticseaic': 23397, 'celsiu': 23398, 'coralreef': 23399, 'extremeheat': 23400, 'netzeroemiss': 23401, 'paristarget': 23402, 'sealevelris': 23403, 'weatherextrem': 23404, 'healthyfoodshar': 23405, 'vegrecip': 23406, 'dowchem': 23407, 'syngenta': 23408, 'cdnagsoldusout': 23409, 'conservativepartysoldusout': 23410, 'healthcanadasoldusout': 23411, 'liberalpartysoldusout': 23412, 'uturn': 23413, 'goodsleep': 23414, 'drawn': 23415, 'parallel': 23416, 'pathway': 23417, 'femina': 23418, 'bizcocho': 23419, 'chocolatelesfrrebel': 23420, 'clara': 23421, 'enhttpstcollumbkq': 23422, 'healthbenefici': 23423, 'lloydampm': 23424, 'scallion': 23425, 'bifold': 23426, 'brochur': 23427, 'brochuredesign': 23428, 'businessfly': 23429, 'flyerdesign': 23430, 'trifold': 23431, 'bmj': 23432, 'breathbust': 23433, 'ebay_canada': 23434, 'pedigre': 23435, 'petshop': 23436, 'aubainesenlign': 23437, 'bihari': 23438, 'harsh': 23439, 'indiaruralcolloquy': 23440, 'localitydevelop': 23441, 'migrant': 23442, 'sdgatloc': 23443, 'snr': 23444, 'undp_india': 23445, 'ancientrishi': 23446, 'bj': 23447, 'quickest': 23448, 'sinceindepend': 23449, 'kidsgetcancertoo': 23450, 'kidsofinsta': 23451, 'stressrelief': 23452, 'coeur': 23453, 'conscioushealthsolut': 23454, 'loeil': 23455, 'ne': 23456, 'quand': 23457, 'souffr': 23458, 'voit': 23459, 'drchatterjeeuk': 23460, 'celestebemora': 23461, 'skook': 23462, 'tradeflo': 23463, 'eatgood': 23464, 'foodmil': 23465, 'gavinjdali': 23466, 'incentivis': 23467, 'ultraprocessedfoodstuff': 23468, 'gutmincrobiota': 23469, 'nant': 23470, 'fernando': 23471, 'ryan': 23472, 'hne_index': 23473, 'lithuanianamerican': 23474, 'niacin': 23475, 'maida': 23476, 'zinga': 23477, 'efficaci': 23478, 'fnscloudeu': 23479, 'fooddrug': 23480, 'imdeaalimenta': 23481, 'ceremoni': 23482, 'eroica': 23483, 'koicha': 23484, 'erupt': 23485, 'sportplu': 23486, 'africanswinefev': 23487, 'swine': 23488, 'wildboar': 23489, 'cannib': 23490, 'mermaid': 23491, 'bnn': 23492, 'dominicanrepubl': 23493, 'slog': 23494, 'brasseri': 23495, 'jardin': 23496, 'paella': 23497, 'yummm': 23498, 'ecologist': 23499, 'plantbasedeconomi': 23500, 'cookwithkagom': 23501, 'freshtomato': 23502, 'gurante': 23503, 'kagom': 23504, 'kagomefoodsindia': 23505, 'spreadhappi': 23506, 'baz': 23507, 'calv': 23508, 'lifeofacow': 23509, 'macdonald': 23510, 'milkandmoney': 23511, 'poo': 23512, 'climatecrimin': 23513, 'askthedoctor': 23514, 'hwc': 23515, 'letnaturebeyourdoctor': 23516, 'oja': 23517, 'ojashwc': 23518, 'asianm': 23519, 'shope': 23520, 'beempecc': 23521, 'empecc': 23522, 'baldwin': 23523, 'brooksid': 23524, 'highway': 23525, 'milburn': 23526, 'sunris': 23527, 'clariti': 23528, 'greennewd': 23529, 'saltreduct': 23530, 'gen': 23531, 'soggi': 23532, 'nutrionist': 23533, 'sclinic': 23534, 'assureasmil': 23535, 'holisticdentist': 23536, 'treeline_chees': 23537, 'buildimmun': 23538, 'increaseenergi': 23539, 'reducestress': 23540, 'atla': 23541, 'freshn': 23542, 'gettyimag': 23543, 'nikon': 23544, 'portrait': 23545, 'thephotohour': 23546, 'womanhelp': 23547, 'toxinfreeliv': 23548, 'douga': 23549, 'todaywith': 23550, 'electrohypersensit': 23551, 'emf': 23552, 'foodboost': 23553, 'mostamaz': 23554, 'onesecondtest': 23555, 'qra': 23556, 'cahil': 23557, 'porter': 23558, 'repackag': 23559, 'ガーリックブレッドマレーシアのお菓子業務スーパーで買った': 23560, 'giveawaycontestlegit': 23561, 'medal': 23562, 'paramselfieonlymp': 23563, 'socialsamosa': 23564, 'benefitsofging': 23565, 'gingerbenefit': 23566, 'gingerfact': 23567, 'pessimist': 23568, 'trustworthi': 23569, 'chakdeindia': 23570, 'ind': 23571, 'awe': 23572, 'reverseag': 23573, 'shiv': 23574, 'gifthealth': 23575, 'vitalvers': 23576, '𝗕𝗲': 23577, '𝗘𝗮𝘁': 23578, '𝗛𝗲𝗮𝗹𝘁𝗵𝘆': 23579, 'freeenergi': 23580, 'greenhom': 23581, 'ekkadamhealthkiaur': 23582, 'greencoffe': 23583, 'greencoffeebean': 23584, 'greencoffeepowd': 23585, 'nutrov': 23586, 'brezz': 23587, '𝑩𝒓𝒆𝒂𝒔𝒕𝒇𝒆𝒆𝒅𝒊𝒏𝒈': 23588, '𝑾𝒆𝒆𝒌': 23589, '𝑾𝒐𝒓𝒍𝒅': 23590, 'chawli': 23591, 'usal': 23592, 'curriculumalign': 23593, 'integratedlearn': 23594, 'nationalscienceweek': 23595, 'पचनशकत': 23596, 'सधर': 23597, 'डरय': 23598, 'फरटसच': 23599, 'mitochondri': 23600, 'suger': 23601, 'ffp': 23602, 'largescal': 23603, 'lsff': 23604, 'nutritionintl': 23605, 'herehttpstcosirdobui': 23606, 'antidiabet': 23607, 'dairyon': 23608, 'yogurton': 23609, 'खतन': 23610, 'घययल': 23611, 'हव': 23612, 'fooddiv': 23613, 'just_food': 23614, 'hlpf': 23615, 'saveourocean': 23616, 'sdgreport': 23617, 'undesa': 23618, 'endfoodpoverti': 23619, 'kristen': 23620, 'lawrenc': 23621, 'liveposit': 23622, 'taxthemea': 23623, 'veganrick': 23624, 'benefitsofghe': 23625, 'clown': 23626, 'realpatchadam': 23627, 'sigh': 23628, 'taxthemeat': 23629, 'आजरन': 23630, 'गरसत': 23631, 'नयत': 23632, 'corporatestrategi': 23633, 'foodsdrink': 23634, 'misbloc': 23635, 'abisstarsoyachunk': 23636, 'gmsoya': 23637, 'soyafarm': 23638, 'europehealthylif': 23639, 'gingergarl': 23640, 'breakup': 23641, 'lick': 23642, 'longcovid': 23643, 'healthcanadanoc': 23644, 'itsjasonrraynor': 23645, 'pseudo': 23646, 'buyamerican': 23647, 'madeinamerica': 23648, 'benefitsphys': 23649, 'entail': 23650, 'uphold': 23651, 'avocadolov': 23652, 'thunderstorm': 23653, 'briberi': 23654, 'fuckyourconcert': 23655, 'fuckyourmask': 23656, 'fuckyourrestaur': 23657, 'qrcode': 23658, 'nationalwellnessmonth': 23659, 'nutra': 23660, 'nutravita': 23661, 'cleanup': 23662, 'instil': 23663, 'worklifebal': 23664, 'toxicfreepackag': 23665, 'agroprocess': 23666, 'grainf': 23667, 'acfusa': 23668, 'congoles': 23669, 'incentiv': 23670, 'mtavis': 23671, 'pla': 23672, 'redistribut': 23673, 'wellf': 23674, 'nothanky': 23675, 'clash': 23676, 'indiaweightloss': 23677, 'buoy': 23678, 'burundi': 23679, 'mackerelfish': 23680, '_diabet': 23681, 'puvinathan': 23682, 'inew': 23683, 'cityofatlanta': 23684, 'unstabl': 23685, 'postconsum': 23686, 'preconsum': 23687, 'chickencurri': 23688, 'chickenmasalacurri': 23689, 'simpler': 23690, 'weighloss': 23691, 'heart_diseas': 23692, 'concern_korea': 23693, 'concernni': 23694, 'concernuk': 23695, 'coxsbazar': 23696, 'cov': 23697, 'epsilon': 23698, 'lambda': 23699, 'peruvian_potato': 23700, 'shamimi': 23701, 'sofia': 23702, 'cakeappi': 23703, 'cakeappyapp': 23704, 'ilovecak': 23705, 'gampt': 23706, 'dieteticindian': 23707, 'jagograhakjago': 23708, 'earthen': 23709, 'fresh_n_frozen': 23710, 'trout': 23711, 'anaaditv': 23712, 'garammasala': 23713, 'hindinewschannel': 23714, 'अगर': 23715, 'गरम': 23716, 'नकसन': 23717, 'ल': 23718, 'nythealth': 23719, 'palkisu': 23720, 'gitwitt': 23721, 'microbiotaaccess': 23722, 'foodwel': 23723, 'gofalhari': 23724, 'centreforsocialimpact': 23725, 'hartley': 23726, 'homeless': 23727, 'unsw': 23728, 'monashchemeng': 23729, 'offshor': 23730, 'onshor': 23731, 'changeforchicken': 23732, 'kfc_canada': 23733, 'goldenrainbowlv': 23734, 'hivaid': 23735, 'saludmbt': 23736, 'tequila': 23737, 'automot': 23738, 'epick': 23739, 'inspacco': 23740, 'keero': 23741, 'knorish': 23742, 'knowledgeplatform': 23743, 'lucknow': 23744, 'mamaearth': 23745, 'redesyn': 23746, 'vc': 23747, 'droom': 23748, 'elearn': 23749, 'financialservic': 23750, 'ourbetterplanet': 23751, 'altiplano': 23752, 'infield': 23753, 'zoglo': 23754, 'simplysuppl': 23755, 'highfructos': 23756, 'dairyallergi': 23757, 'foodallergyawar': 23758, 'richardhrbenyon': 23759, 'wendelldaili': 23760, 'bacreria': 23761, 'thegut': 23762, 'barn': 23763, 'deshond': 23764, 'litter': 23765, 'outside_to': 23766, 'provok': 23767, 'soonand': 23768, 'algun': 23769, 'famoso': 23770, 'produto': 23771, 'publi': 23772, 'realidad': 23773, 'saudávei': 23774, 'seu': 23775, 'verita': 23776, 'benefitsoffib': 23777, 'hopereclaim': 23778, 'wwf_act': 23779, 'alternativeprotein': 23780, 'greatgreatgrandmoth': 23781, 'indigeni': 23782, 'newmexico': 23783, 'pouch': 23784, 'pueblo': 23785, 'santaclarapueblo': 23786, 'homag': 23787, 'greekenglish': 23788, 'refugeesgr': 23789, 'watersh': 23790, 'healthtipsdaili': 23791, 'healthtipsoftheday': 23792, 'healthtipstamil': 23793, 'healthylifestyletip': 23794, 'newstamilonlin': 23795, 'நனமகள': 23796, 'நயயன': 23797, 'indiagatefood': 23798, 'raghavbagai': 23799, 'sociowash': 23800, 'getinmybelli': 23801, 'hypocrit': 23802, 'keiser': 23803, 'आठवण': 23804, 'करणयबरबरच': 23805, 'दईल': 23806, 'बलपणच': 23807, 'orzo': 23808, 'pennsylvania': 23809, 'haemoglobin': 23810, 'haemoglobin_high': 23811, 'health_and_fit': 23812, 'women_health_car': 23813, 'alltech': 23814, 'allegedli': 23815, 'creepi': 23816, 'gymfit': 23817, 'musclegain': 23818, 'tuesdaytempt': 23819, 'wordpressdotcom': 23820, 'pcosdiet': 23821, 'pcoslif': 23822, 'pcosweightloss': 23823, 'sweetlemon': 23824, 'मसब': 23825, 'रसच': 23826, 'kothu': 23827, 'pittu': 23828, 'heathyfood': 23829, 'पचनततर': 23830, 'सधरल': 23831, 'bfndma': 23832, 'ieee': 23833, 'ketoplanetdiet': 23834, 'researchhttpsprobioticsconferenceseriescom': 23835, 'kiwisalad': 23836, 'kiwisaladrecip': 23837, 'कवचय': 23838, 'तयच': 23839, 'सलडच': 23840, 'bayermonsanto': 23841, 'buri': 23842, 'lymphoma': 23843, 'nonhodgkin': 23844, 'restrictivediet': 23845, 'भड': 23846, 'मधमहचय': 23847, 'रगणसठ': 23848, 'badbecom': 23849, 'itabashi_vb_i': 23850, 'japanintercult': 23851, 'japantim': 23852, 'japantimes_lif': 23853, 'japantoday': 23854, 'jpn_pmo': 23855, 'jpo_jpn': 23856, 'kikoman': 23857, 'nhkworld_new': 23858, 'productfail': 23859, 'sourspoilgo': 23860, 'tokyo_gov': 23861, 'twitterkorea': 23862, 'gutproblem': 23863, 'importantamp': 23864, 'catsoftwitt': 23865, 'kidswil': 23866, 'saideveryon': 23867, 'systemsampservic': 23868, 'bushfir': 23869, 'cyclon': 23870, 'rational': 23871, 'renewableenergi': 23872, 'ecowatch': 23873, 'goveg': 23874, 'ourplanet': 23875, 'decarbon': 23876, 'envdefensefund': 23877, 'soilcarbon': 23878, 'swift': 23879, 'drdebbiekara': 23880, 'naturalhealthycar': 23881, 'epicuri': 23882, 'maddyeat': 23883, 'atún': 23884, 'cocina': 23885, 'espexquisita': 23886, 'gastronomia': 23887, 'nutritiva': 23888, 'atout': 23889, 'du': 23890, 'pharmaprixha': 23891, 'pour': 23892, 'visitez': 23893, 'sunbutt': 23894, 'elyss': 23895, 'elyssepoeti': 23896, 'ontarioegg': 23897, 'organicegg': 23898, 'arashemamzadeh': 23899, 'funseek': 23900, 'impuls': 23901, 'indecis': 23902, 'psychtoday': 23903, 'influentialmagazin': 23904, 'brinknewsnow': 23905, 'poorqual': 23906, 'culinaryhistori': 23907, 'foodhistori': 23908, 'gastronom': 23909, 'stipend': 23910, 'twitterstorian': 23911, 'greenjuic': 23912, 'subscribehealth': 23913, 'dieterbrumm': 23914, 'tha': 23915, 'thaistyl': 23916, 'weeekli': 23917, 'อรอย': 23918, 'hota': 23919, 'kism': 23920, 'uss': 23921, 'अरथत': 23922, 'परटन': 23923, 'सथन': 23924, 'सरवपरथम': 23925, 'foodchemist': 23926, 'slot': 23927, 'latoya_leoni': 23928, 'pogla': 23929, 'sprat': 23930, 'cheerindiia': 23931, 'nalamudan': 23932, 'tokyoolymp': 23933, 'emergencyrespons': 23934, 'ingo': 23935, 'agreek': 23936, 'easytous': 23937, 'emulsifi': 23938, 'aganwadi': 23939, 'economia': 23940, 'tci': 23941, 'womendietari': 23942, 'futurefoodmak': 23943, 'smallbusinessown': 23944, 'worcestershirehour': 23945, 'covidweight': 23946, 'benefitsofsoyachunk': 23947, 'chunk': 23948, 'soyachunk': 23949, 'चकस': 23950, 'सय': 23951, 'avanigo': 23952, 'foodshighincopp': 23953, 'कपर': 23954, 'csrinitit': 23955, 'servesafefood': 23956, 'synergieappreci': 23957, 'samunnati': 23958, 'carthamu': 23959, 'oldest': 23960, 'safflow': 23961, 'tinctoriu': 23962, 'govtpriv': 23963, 'nessari': 23964, 'alt': 23965, 'automet': 23966, 'onfood': 23967, 'अतसवन': 23968, 'कफच': 23969, 'ठरल': 23970, 'नकसनदय': 23971, 'झपटयन': 23972, 'पलन': 23973, 'सवयच': 23974, 'spinalog': 23975, 'spinalogyclin': 23976, 'spinalogypun': 23977, 'आरगयश': 23978, 'सबधत': 23979, 'foodchemistri': 23980, 'banker': 23981, 'cal': 23982, 'calorieincalorieout': 23983, 'irrespectiveof': 23984, 'spreadfactsnotfear': 23985, 'baggag': 23986, 'frankenstein': 23987, 'piyaz': 23988, 'tabouli': 23989, 'lakshmi': 23990, 'padma': 23991, 'activtyspac': 23992, 'vegancat': 23993, 'friedshrimp': 23994, 'brainbodi': 23995, 'icebeani': 23996, 'migrainelifestyl': 23997, 'migrainesupport': 23998, 'alright': 23999, 'webcom': 24000, 'anumalik': 24001, 'arrestkunalsharma': 24002, 'belgiumflood': 24003, 'benefitsfowat': 24004, 'deadlyfood': 24005, 'galaxyag': 24006, 'goforgold': 24007, 'pushpa': 24008, 'conscienti': 24009, 'foodstylist': 24010, 'zagreb': 24011, 'zagrebc': 24012, 'hepat': 24013, 'calgari': 24014, 'canadian_food': 24015, 'domen': 24016, 'pedulla': 24017, 'yycbiz': 24018, 'jayz': 24019, 'bulgogi': 24020, 'mirin': 24021, 'runningmotiv': 24022, 'runningtim': 24023, 'kenja': 24024, 'maidousa': 24025, 'shokutaku': 24026, 'erri': 24027, 'jordin': 24028, 'raspberrycreampieday': 24029, 'bosu': 24030, 'khand': 24031, 'खडच': 24032, 'linguist': 24033, 'intermediari': 24034, 'mancat': 24035, 'mancatetropicalfruitgmailcom': 24036, 'ditchthemeat': 24037, 'prop': 24038, 'pssstanyon': 24039, 'iherb': 24040, 'strengthenbon': 24041, 'हड': 24042, 'jj': 24043, 'karuna': 24044, 'maharashtraflood': 24045, 'reliefwork': 24046, 'tithibhoj': 24047, 'slt': 24048, 'speechandlanguag': 24049, 'tbc': 24050, 'vocal': 24051, 'dominican': 24052, 'porkindustri': 24053, 'yourquoteapp': 24054, 'maax': 24055, 'maaxhospit': 24056, 'shimoga': 24057, 'shivamogga': 24058, 'sundaybreakfast': 24059, 'superspeci': 24060, 'rotichapatiphulka': 24061, 'funnyanim': 24062, 'ilovetravel': 24063, 'suzytheexplor': 24064, 'tblogger': 24065, 'iyengar': 24066, 'breakfastofchampion': 24067, 'bugbas': 24068, 'fruitthem': 24069, 'trendi': 24070, 'avocadolim': 24071, 'chefroblak': 24072, 'facebookgam': 24073, 'guild': 24074, 'inthezon': 24075, 'thekitchen': 24076, 'allbodiesaregoodbodi': 24077, 'eatintut': 24078, 'endemotional': 24079, 'livetolov': 24080, 'martha': 24081, 'nourishtoflourish': 24082, 'eba': 24083, 'morehttpstcoyxybgvg': 24084, 'masculinitysaturday': 24085, 'metalheath': 24086, 'civilhospit': 24087, 'gandhinagar': 24088, 'gandhinagarcivilhospit': 24089, 'navgujaratsamay': 24090, 'autonomi': 24091, 'billionaireclass': 24092, 'localeconomi': 24093, 'oligopoli': 24094, 'plutocraci': 24095, 'smallfarm': 24096, 'ishalif': 24097, 'pranic': 24098, 'analyticalmethod': 24099, 'tipsdecor': 24100, 'ewe': 24101, 'gbfoodrevolut': 24102, 'hollandais': 24103, 'poachedegg': 24104, 'richyolk': 24105, 'runnyyolk': 24106, 'softegg': 24107, 'albothealth': 24108, 'athelet': 24109, 'basketbal': 24110, 'cade': 24111, 'cunningham': 24112, 'clinicrajkot': 24113, 'dieticianneutrofit': 24114, 'git': 24115, 'kagatharaclin': 24116, 'wdcgit': 24117, 'wheresuccessisatradit': 24118, 'nocooksnack': 24119, 'lifeafterlockup': 24120, 'blogdreamrt': 24121, 'cosybloggersclub': 24122, 'lifestyleblogg': 24123, 'checkin': 24124, 'fridayinspir': 24125, 'baptist': 24126, 'bayou': 24127, 'cedar': 24128, 'healthwellb': 24129, 'unavail': 24130, 'hawthorn': 24131, 'heap': 24132, 'pad': 24133, 'refe': 24134, 'bluechees': 24135, 'casein': 24136, 'jetsfourcornerpizza': 24137, 'justlunch': 24138, 'smack': 24139, 'acv': 24140, 'amitshah': 24141, 'ammend': 24142, 'cast': 24143, 'cinstistut': 24144, 'tabletalk': 24145, 'gcnich': 24146, 'zdnet': 24147, 'amazingselfimprov': 24148, 'equalshealth': 24149, 'haf': 24150, 'monkscop': 24151, 'schoolholiday': 24152, 'ivinfus': 24153, 'packedlunch': 24154, 'milletbas': 24155, 'milletbaseddiet': 24156, 'healthcheck': 24157, 'redbellpepp': 24158, 'slurrp': 24159, 'slurrpapp': 24160, 'badmintalktokyo': 24161, 'beltarodi': 24162, 'besa': 24163, 'dhantoli': 24164, 'indiaattokyo': 24165, 'indiatodayatolymp': 24166, 'istifa': 24167, 'mbb': 24168, 'mihan': 24169, 'ramdaspeth': 24170, 'shankarpur': 24171, 'sidnaaz': 24172, 'sonusood': 24173, 'zomatoipo': 24174, 'barambah': 24175, 'businessbut': 24176, 'healthbut': 24177, 'qldpol': 24178, 'hifasdaterra': 24179, 'medicinalmushroom': 24180, 'micotherapi': 24181, 'naturalorigin': 24182, 'ihd': 24183, 'ischaem': 24184, 'subhasre': 24185, 'drinkingwat': 24186, 'खललयनतर': 24187, 'coshan': 24188, 'atika': 24189, 'eastbali': 24190, 'eastbalipovertyproject': 24191, 'ebpp': 24192, 'udayanaunivers': 24193, 'sideeffectsofskippingbreakfast': 24194, 'suzann': 24195, 'brownegg': 24196, 'tibits_uk': 24197, 'localshop': 24198, 'bayleaftea': 24199, 'tejpatta': 24200, 'tejpattateabenefit': 24201, 'तमलपतरच': 24202, 'healthkid': 24203, 'slp': 24204, 'aglobbi': 24205, 'veterinarian': 24206, 'nerv': 24207, 'chimichurri': 24208, 'skirt': 24209, 'festivalev': 24210, 'cehhealth': 24211, 'ditchingdispos': 24212, 'enorm': 24213, 'healthprotect': 24214, 'singleus': 24215, 'toolkit': 24216, 'exoticfruit': 24217, 'anthonylocascio': 24218, 'livingfullout': 24219, 'nanci': 24220, 'nancysolari': 24221, 'solari': 24222, 'anaheim': 24223, 'hoaghealth': 24224, 'lafound': 24225, 'ochlthyschool': 24226, 'sunfamilyfdn': 24227, 'unitedwayoc': 24228, 'chocci': 24229, 'palmoildetect': 24230, 'drsebi': 24231, 'freddarick': 24232, 'jeffreymerrihu': 24233, 'restauranteur': 24234, 'xtremefoodi': 24235, 'slimbodytip': 24236, 'inshap': 24237, 'authoritymgzin': 24238, 'jrlumpkin': 24239, 'givingback': 24240, 'kindnessmatt': 24241, 'nogo': 24242, 'placebo': 24243, 'scobi': 24244, 'unavoid': 24245, 'keen': 24246, 'atl': 24247, 'flocka': 24248, 'waka': 24249, 'wakaflocka': 24250, 'foodquot': 24251, 'myfitterbetterlif': 24252, 'quotesaboutfood': 24253, 'gase': 24254, 'libido': 24255, 'ambica': 24256, 'cookingdiari': 24257, 'factsofkoh': 24258, 'hughes_jacki': 24259, 'bahrain': 24260, 'equin': 24261, 'short_commun': 24262, 'dietarypattern': 24263, 'healthsuppl': 24264, 'nibbl': 24265, 'vigorousherb': 24266, 'excessiron': 24267, 'hemochromatosi': 24268, 'hemoekroemuhtoesi': 24269, 'hereditari': 24270, 'ironoverload': 24271, 'lightpeacelov': 24272, 'सरवतकषट': 24273, 'abcd': 24274, 'abdomin': 24275, 'abdominalcanc': 24276, 'abdominalcancerday': 24277, 'sundeepjain': 24278, 'plantpowerff': 24279, 'alexf': 24280, 'conversationblog': 24281, 'intrins': 24282, 'melyoung': 24283, 'thenew': 24284, 'landslid': 24285, 'smallstreamercommun': 24286, 'zmwbvcio': 24287, 'freshfield': 24288, 'deit': 24289, 'physioeaset': 24290, 'vitb': 24291, 'fundingalert': 24292, 'wholetruthfood': 24293, 'toughest': 24294, 'womenshealthi': 24295, 'instatea': 24296, 'masti': 24297, 'mjrajasthani': 24298, 'papad': 24299, 'rajasthaninamkeen': 24300, 'spicemixtur': 24301, 'spicysnack': 24302, 'teacup': 24303, 'tealif': 24304, 'animalfat': 24305, 'healthydiettip': 24306, 'geneticdiseas': 24307, 'customdiet': 24308, 'customdietplan': 24309, 'kurnool': 24310, 'nellor': 24311, 'stronghair': 24312, 'deem': 24313, 'unafford': 24314, 'doug': 24315, 'larson': 24316, 'leap': 24317, 'badgood': 24318, 'ste': 24319, 'crueltyfreeegg': 24320, 'lupinbean': 24321, 'nabatifood': 24322, 'nocag': 24323, 'cloak': 24324, 'felic': 24325, 'mucoidplaqu': 24326, 'commaffair': 24327, 'deniecebarn': 24328, 'intheknow': 24329, 'jazzi': 24330, 'nashvil': 24331, 'cree': 24332, 'filmmak': 24333, 'gaymer': 24334, 'iamodmk': 24335, 'princ': 24336, 'saskatchewan': 24337, 'twospirit': 24338, 'unfollow': 24339, 'donna': 24340, 'harissa': 24341, 'hay': 24342, 'hammonton': 24343, 'jerseyshor': 24344, 'upick': 24345, 'batteri': 24346, 'microgrid': 24347, 'kajabi': 24348, 'learndash': 24349, 'onlinecours': 24350, 'podia': 24351, 'teachabl': 24352, 'thinkif': 24353, 'udemi': 24354, 'clownshow': 24355, 'fuckyourlockdown': 24356, 'gainoffunct': 24357, 'genetherapi': 24358, 'iqtest': 24359, 'medicalmartiallaw': 24360, 'warpspe': 24361, 'enhttpstcowoqgtkjyb': 24362, 'soja': 24363, 'fsi': 24364, 'aiimsnagpur': 24365, 'cloudburst': 24366, 'covidindiahelp': 24367, 'cricket': 24368, 'dhoni': 24369, 'farmersparlia': 24370, 'ipl': 24371, 'norafatehi': 24372, 'worldhepatitisday': 24373, 'aandm': 24374, 'advertisinglaw': 24375, 'healthandsocialcarebil': 24376, 'lewissilkin': 24377, 'nearer': 24378, 'ofcom': 24379, 'passl': 24380, 'dai': 24381, 'mia': 24382, 'propoli': 24383, 'su': 24384, 'twentyapp': 24385, 'unocchiata': 24386, 'constipação': 24387, 'dicassaudávei': 24388, 'ebookgratuito': 24389, 'freeebook': 24390, 'gripe': 24391, 'increaseyourimmun': 24392, 'flipboard': 24393, 'bbc_cumbria': 24394, 'cfmradionew': 24395, 'cumbria': 24396, 'dreamcatch': 24397, 'drivesaf': 24398, 'englandfan': 24399, 'gregg': 24400, 'itvbord': 24401, 'skynewsbreak': 24402, 'diabetesdiet': 24403, 'conc': 24404, 'crook': 24405, 'sahikhaoindia': 24406, 'thesi': 24407, 'godbless': 24408, 'americandentistinpun': 24409, 'crippl': 24410, 'dentalimpl': 24411, 'dentur': 24412, 'implant': 24413, 'invalu': 24414, 'teethreplac': 24415, 'saam': 24416, 'homemademedicin': 24417, 'milkchocolateday': 24418, 'echo_asia': 24419, 'euclimateact': 24420, 'nfi': 24421, 'rainfal': 24422, 'dykconsum': 24423, 'youngag': 24424, 'उच': 24425, 'मसकपळ': 24426, 'महतवच': 24427, 'लहन': 24428, 'वढणर': 24429, 'वयतच': 24430, 'petroleum': 24431, 'feedmark': 24432, 'meankeep': 24433, 'peppadewstuna': 24434, 'करतय': 24435, 'गषटपसन': 24436, 'पच': 24437, 'परगनस': 24438, 'पलनग': 24439, 'reversemanag': 24440, 'allergyfriendli': 24441, 'nutfre': 24442, 'quicksnack': 24443, 'ideallyglob': 24444, 'proudlysouthafrican': 24445, 'sabusi': 24446, 'warehous': 24447, 'acai': 24448, 'gojiberri': 24449, 'breakfastmenu': 24450, 'foodwithflavour': 24451, 'recoveryposs': 24452, 'eldercar': 24453, 'seniorcar': 24454, 'undergo': 24455, 'hake': 24456, 'fomo': 24457, 'ओटस': 24458, 'womancrusheveryday': 24459, 'womanphotograph': 24460, 'feminist': 24461, 'dengu': 24462, 'doenjangjjiga': 24463, 'kbakun': 24464, 'bedtea': 24465, 'bedteasideeffect': 24466, 'घणयच': 24467, 'ट': 24468, 'तमचयसठ': 24469, 'तमहलह': 24470, 'mealdeliveri': 24471, 'sakaralif': 24472, 'xoatom': 24473, 'mari': 24474, 'coconutgrat': 24475, 'coconutscrap': 24476, 'scraper': 24477, 'slab': 24478, 'tredi': 24479, 'tredyfood': 24480, 'columbia': 24481, 'halliegolden': 24482, 'lesion': 24483, 'recordshatt': 24484, 'unliv': 24485, 'caregiverfe': 24486, 'affan': 24487, 'alternativehealth': 24488, 'herbalremedi': 24489, 'naturalwel': 24490, 'antiradi': 24491, 'elijahmuhammad': 24492, 'noi': 24493, 'fuur': 24494, 'osendpnutrit': 24495, 'standupwomen': 24496, 'dominospizza': 24497, 'foodwork': 24498, 'jubil': 24499, 'quich': 24500, 'beekeep': 24501, 'britishbe': 24502, 'farminguk': 24503, 'margaretginman': 24504, 'suffolk': 24505, 'skinformul': 24506, 'alo': 24507, 'foodblogeat': 24508, 'foodiefeatur': 24509, 'foodtographi': 24510, 'healthandbeauti': 24511, 'healthyfoodidea': 24512, 'healthymindset': 24513, 'daftyinthegard': 24514, 'happy': 24515, 'chickenrecip': 24516, 'chickenthigh': 24517, 'debzdelici': 24518, 'debzrecip': 24519, 'lemonbutt': 24520, 'foodtipsfory': 24521, 'youtubegtgtgthttpstcohbbuqsmj': 24522, 'dominospizzainc': 24523, 'dominospizzaplc': 24524, 'kfccanada': 24525, 'mcdonaldscanada': 24526, 'nando': 24527, 'foodhal': 24528, 'retailnew': 24529, 'rgis_uk': 24530, 'richard': 24531, 'drwilliamli': 24532, 'कवनआ': 24533, 'सवसथय': 24534, 'brazilian': 24535, 'diaper': 24536, 'globo': 24537, 'darwinian': 24538, 'eusci': 24539, 'relaunch': 24540, 'antrin': 24541, 'peacox': 24542, 'jalapeno': 24543, 'banglor': 24544, 'hairdietplan': 24545, 'vizag': 24546, 'கடதவரகள': 24547, 'சபபடக': 24548, 'பயற': 24549, 'monsoonhealth': 24550, 'rainyseason': 24551, 'life': 24552, 'तयन': 24553, 'नरप': 24554, 'रहयच': 24555, 'dermatoxin': 24556, 'foodthrough': 24557, 'morrn': 24558, 'neurotoxin': 24559, 'yourselfthrough': 24560, 'lycopersicum': 24561, 'solanum': 24562, 'g_stordalen': 24563, 'phanew': 24564, 'martinpenn': 24565, 'ananyafound': 24566, 'famil': 24567, 'nonprofitorgan': 24568, 'अमर': 24569, 'एनजओ': 24570, 'गरब': 24571, 'जड': 24572, 'दन': 24573, 'reesewitherspoon': 24574, 'आजर': 24575, 'आपलयल': 24576, 'तवरत': 24577, 'थबवव': 24578, 'proftimlang': 24579, 'sucroseglucos': 24580, 'अलसर': 24581, 'खट': 24582, 'खर': 24583, 'सपयस': 24584, 'udooooooooooon': 24585, 'dietitianapprov': 24586, 'brownsugar': 24587, 'bengalururain': 24588, 'delhirain': 24589, 'maharashtrarain': 24590, 'yogaeverydamnday': 24591, 'yogapractic': 24592, 'alcoholban': 24593, 'glucan': 24594, 'ayushmannha': 24595, 'helpnow': 24596, 'mybmchealthdept': 24597, 'crustric': 24598, '口磨鍋巴湯': 24599, '火腿': 24600, '營養豐富': 24601, '蘑菇': 24602, '鍋巴': 24603, '食譜': 24604, '食譜口磨鍋巴湯': 24605, '高湯': 24606, 'confuciu': 24607, 'answery': 24608, 'healthyindia': 24609, 'journlist': 24610, 'ulcerativecol': 24611, 'lauri': 24612, 'marba': 24613, 'mothership': 24614, 'plug': 24615, 'telehealth': 24616, 'foodscal': 24617, 'blackbotanistsweek': 24618, 'blkbotanistswk': 24619, 'ethnobotani': 24620, 'globalbotani': 24621, 'plantsaroundtheglob': 24622, 'creativebizhour': 24623, 'lotz_humtso': 24624, 'modrnhealthcr': 24625, 'eattol': 24626, 'livetoeat': 24627, 'footmassag': 24628, 'humidifi': 24629, 'levoit': 24630, 'lvpur': 24631, 'vesync': 24632, 'gabl': 24633, 'lisag': 24634, 'bezosback': 24635, 'chile': 24636, 'lewi': 24637, 'questlov': 24638, 'lengthi': 24639, 'tad': 24640, 'blaylock': 24641, 'itobes': 24642, 'underweightth': 24643, 'greed': 24644, 'hijack': 24645, 'badhta': 24646, 'jaaniya': 24647, 'kais': 24648, 'kam': 24649, 'karn': 24650, 'motapa': 24651, 'upay': 24652, 'अतयधक': 24653, 'अनयतरत': 24654, 'benefitswithout': 24655, 'cardiometabol': 24656, 'olderadult': 24657, 'acupunctura': 24658, 'ekyoopankchar': 24659, 'kalyaan': 24660, 'l_acupunctur': 24661, 'lebienetr': 24662, 'fitforlif': 24663, 'chickencordonbleu': 24664, 'sammi': 24665, 'biomanufactur': 24666, 'iftfirst': 24667, 'barbequ': 24668, 'casual': 24669, 'mashroom': 24670, 'henrydimblebi': 24671, 'rasam': 24672, 'rasampowd': 24673, 'saaru': 24674, 'foodpaulnewnham': 24675, 'anthropologist': 24676, 'bstp': 24677, 'cullen': 24678, 'ethnobotanist': 24679, 'makalé': 24680, 'pstpm': 24681, 'sast': 24682, 'steward': 24683, 'cucumberstuf': 24684, 'อาหารไทย': 24685, 'cancerrisk': 24686, 'lahariandchanakya': 24687, 'missioncancercar': 24688, 'londonfood': 24689, 'londonfoodi': 24690, 'northlondon': 24691, 'mung': 24692, 'pinakinsbroadway': 24693, 'aahaarkranti': 24694, 'ashuto': 24695, 'forumgist': 24696, 'mit_manip': 24697, 'prinsciadvgoi': 24698, 'usm_': 24699, 'vibha_india': 24700, 'vigyanprasar': 24701, 'अगरफल': 24702, 'नई': 24703, 'पदधत': 24704, 'फगल': 24705, 'बचन': 24706, 'वकसत': 24707, 'शधकरतओ': 24708, 'सकरमण': 24709, 'likelik': 24710, 'sene': 24711, 'palazzi': 24712, 'philipp': 24713, 'vespa_jami': 24714, 'onzeexpert': 24715, 'roosenda': 24716, 'sensu': 24717, 'sensusfib': 24718, 'vacatur': 24719, 'zie': 24720, 'rememberthi': 24721, 'கர': 24722, 'கறபபகள': 24723, 'பறறய': 24724, 'करणयच': 24725, 'चरबच': 24726, 'पटचय': 24727, 'lowprotein': 24728, 'travelvlogg': 24729, 'gishya': 24730, 'icyerekezo': 24731, 'inzitizi': 24732, 'nazo': 24733, 'ntabwo': 24734, 'shaka': 24735, 'uriguhura': 24736, 'zizahoraho': 24737, 'zose': 24738, 'ail': 24739, 'conting': 24740, 'shirish': 24741, 'upadhyay': 24742, 'valueaddit': 24743, 'ikumar': 24744, 'indiantomatosalad': 24745, 'kitchensancari': 24746, 'maulikdr': 24747, 'indiakagom': 24748, 'exploremor': 24749, 'francais': 24750, 'yesyou': 24751, 'yogateach': 24752, 'deathkil': 24753, 'smoking_is_injurious_to_health': 24754, 'nutritionst': 24755, 'delhimetro': 24756, 'adtech': 24757, 'autonomousvehicl': 24758, 'av': 24759, 'mampa': 24760, 'missunivers': 24761, 'chandigarh': 24762, 'freshpea': 24763, 'kinnaur': 24764, 'kinnaurappl': 24765, 'vegetarianhttpstconcrxxkwl': 24766, 'waycool': 24767, 'sapol': 24768, 'southaustraliapolic': 24769, 'edt': 24770, 'drritamari': 24771, 'loscalzo': 24772, 'basiclivelihood': 24773, 'breakingfad': 24774, 'choosey': 24775, 'itsanaturalchoic': 24776, 'myrtlebeachsc': 24777, 'takecharg': 24778, 'cannabiscommun': 24779, 'highcalori': 24780, 'nither': 24781, 'sould': 24782, 'thea': 24783, 'weevil': 24784, 'wheatnor': 24785, 'alephfarm': 24786, 'kalsecinc': 24787, 'beautifuly': 24788, 'justicepoeticj': 24789, 'lazarsamantha': 24790, 'readthelabel': 24791, 'soyfarm': 24792, 'soymilk': 24793, 'soyprotein': 24794, 'snackfood': 24795, 'supernutrit': 24796, 'honeywhatscook': 24797, 'plantfact': 24798, 'natureposit': 24799, 'unccd': 24800, 'fudg': 24801, 'gooey': 24802, 'hotfudgesundaeday': 24803, 'sunda': 24804, 'monologu': 24805, 'torment': 24806, 'healthquiz': 24807, 'healthylivingquiz': 24808, 'medicalquiz': 24809, 'catherineeat': 24810, 'donnellystephen': 24811, 'kitchenclassroom': 24812, 'normafoleytd': 24813, 'stc': 24814, 'ageold': 24815, 'brightcolor': 24816, 'cookeasylif': 24817, 'bartsimpson_bot': 24818, 'botanichka': 24819, 'conceptsbot': 24820, 'hyacinth_bot': 24821, 'maggie_bot': 24822, 'mr_burns_bot': 24823, 'scone': 24824, 'deregul': 24825, 'knr_nutrit': 24826, 'monsoonhealthtip': 24827, 'पवसळयचय': 24828, 'हगमत': 24829, 'rosemaryosha': 24830, 'covojilearn': 24831, 'parentsday': 24832, 'कमकवत': 24833, 'हडच': 24834, 'drinkingo': 24835, 'instgramreel': 24836, 'reelitfeelit': 24837, 'reelkarofeelkaro': 24838, 'becoz': 24839, 'foodforlif': 24840, 'vitaminm': 24841, 'odd': 24842, 'remot': 24843, 'facad': 24844, 'epadi': 24845, 'kollu': 24846, 'lemonric': 24847, 'podi': 24848, 'satham': 24849, 'seivathu': 24850, 'இறவனன': 24851, 'கரண': 24852, 'breakfastcult': 24853, 'dougla': 24854, 'ambipalm': 24855, 'ambul': 24856, 'bookanambul': 24857, 'forthepeopl': 24858, 'gratitudetoourpartn': 24859, 'yourpric': 24860, 'cardiac': 24861, 'potassiumrich': 24862, 'aiko': 24863, 'dismount': 24864, 'gymnast': 24865, 'isit': 24866, 'moi': 24867, 'wellplay': 24868, 'frutescen': 24869, 'inactiv': 24870, 'perilla': 24871, 'researchtarget': 24872, 'sciencedirect': 24873, 'bio_lifesecret': 24874, 'greekexport': 24875, 'greekproduct': 24876, 'lavend': 24877, 'lifesecret': 24878, 'mountaintea': 24879, 'agosci': 24880, 'cancerscvdetc': 24881, 'cupsday': 24882, 'dementiaparkinsonsmani': 24883, 'jsolomonreport': 24884, 'mth': 24885, 'nowcoffe': 24886, 'shrinkingdementiaglaucomaosteoporosi': 24887, 'bayan': 24888, 'healthy_lifestyl': 24889, 'palstin': 24890, 'staying_healthi': 24891, 'احكولي': 24892, 'الوزن': 24893, 'او': 24894, 'بنقصان': 24895, 'تجاربكم': 24896, 'زيادتو': 24897, 'comidasaudadvel': 24898, 'foodtriff': 24899, 'hidradenitissuppurativa': 24900, 'hswarrior': 24901, 'anaphylaxi': 24902, 'britishfoodallergyawar': 24903, 'crosscontamin': 24904, 'foodallergyfamili': 24905, 'foodallergylif': 24906, 'nurseri': 24907, 'foodwastewarrior': 24908, 'olio_ex': 24909, 'olio_stori': 24910, 'southal': 24911, 'golda': 24912, 'poretski': 24913, 'thefarmpur': 24914, 'fiveyear': 24915, 'increaseslif': 24916, 'strange_sound': 24917, 'properdiet': 24918, 'आहरतन': 24919, 'टळल': 24920, 'पटफग': 24921, 'तन': 24922, 'पषटक': 24923, 'सलड': 24924, 'comedyskit': 24925, 'comedyvideo': 24926, 'satir': 24927, 'sketchcomedi': 24928, 'अमरक': 24929, 'एकसपजर': 24930, 'नगरन': 24931, 'मकपकस': 24932, 'सडस': 24933, 'सभवत': 24934, 'welovebreakingfad': 24935, 'பயனகள': 24936, 'மதத': 24937, 'மனன': 24938, 'plantmedicin': 24939, 'rebuild': 24940, 'jaunt': 24941, 'sharethem': 24942, 'sharethemealorg': 24943, 'morehttpstcofrjdtml': 24944, 'kothimbir': 24945, 'wadi': 24946, 'जररतमद': 24947, 'जह': 24948, 'सहर': 24949, 'हम': 24950, 'selfprotect': 24951, 'ting': 24952, 'anticounterfeit': 24953, 'aspa': 24954, 'bhind': 24955, 'solutionprovid': 24956, 'खदय': 24957, 'चर': 24958, 'छप': 24959, 'टम': 24960, 'नकल': 24961, 'नषट': 24962, 'पलस': 24963, 'लटर': 24964, 'सरकष': 24965, 'हजर': 24966, 'meatindustri': 24967, 'nitrogen': 24968, 'biofit': 24969, 'fightmalaria': 24970, 'worldmalariaday': 24971, 'foodsandflavor': 24972, 'fruitnut': 24973, 'emilykwong': 24974, 'groundwat': 24975, 'watercrisi': 24976, 'earbud': 24977, 'hearabl': 24978, 'hearinghealth': 24979, 'internationalselfcareday': 24980, 'musiclov': 24981, 'nuheara': 24982, 'wirelessearbud': 24983, 'derekgilbert': 24984, 'sharonkgilbert': 24985, 'skywatch_tv': 24986, 'gelnail': 24987, 'lush': 24988, 'foodiesofinstagram': 24989, 'vía': 24990, 'discoveryimag': 24991, 'ericgarcetti': 24992, 'jenpaski': 24993, 'koriesuicid': 24994, 'marvelstudio': 24995, 'talibán': 24996, 'michaelangelocaruso': 24997, 'renepothet': 24998, 'juegosolimpico': 24999, 'halv': 25000, 'unhygien': 25001, 'unverifi': 25002, 'chefcynthiaeat': 25003, 'unleash': 25004, 'spinachdip': 25005, 'spinachsalad': 25006, 'spinachsmoothi': 25007, 'teamdb': 25008, 'haphazard': 25009, 'preschool': 25010, 'urda': 25011, 'wort': 25012, 'agerel': 25013, 'degener': 25014, 'macular': 25015, 'effortless': 25016, 'buah': 25017, 'naga': 25018, 'betterattitud': 25019, 'crazyjoykid': 25020, 'dinnermakesadiffer': 25021, 'happykid': 25022, 'diabeteslif': 25023, 'diabetestip': 25024, 'amanfreerunn': 25025, 'packagedfood': 25026, 'kardong': 25027, 'vanillaicecreamday': 25028, 'atrialfibril': 25029, 'gimm': 25030, 'kmhr': 25031, 'ozwk': 25032, 'socket': 25033, 'banzai': 25034, 'economicskm': 25035, 'inhous': 25036, 'itoldyouso': 25037, 'kmchit': 25038, 'openingceremoni': 25039, 'samurai': 25040, 'bourbonbiscuit': 25041, 'coffeeaddict': 25042, 'eveganrecip': 25043, 'mntryjoseph': 25044, 'pizzamarktplac': 25045, 'மளகயன': 25046, 'csircftri': 25047, 'pulsetoday': 25048, 'earthencart': 25049, 'indianbrand': 25050, 'mallikgraphicsk': 25051, 'complianc': 25052, 'produkt': 25053, 'produktsicherheit': 25054, 'bingo': 25055, 'fridayfun': 25056, 'innovfoodtech': 25057, 'pelsmaek': 25058, 'protak': 25059, 'sara': 25060, 'karibuni': 25061, 'biologica': 25062, 'biomlecul': 25063, 'boi': 25064, 'cessa': 25065, 'foodplay': 25066, 'forex': 25067, 'googledoodl': 25068, 'jansen': 25069, 'kanyewest': 25070, 'kavanaugh': 25071, 'lilna': 25072, 'marti': 25073, 'permissiontodancernbremix': 25074, 'roddi': 25075, 'ruidiaz': 25076, 'smiley': 25077, 'somi': 25078, 'stanton': 25079, 'tedlasso': 25080, 'tlop': 25081, 'tommytorr': 25082, 'carindustri': 25083, 'travelervehicl': 25084, 'unsaturatedpolyesterresin': 25085, 'vigor': 25086, 'pingdem': 25087, 'safefguard': 25088, 'everythingisconnect': 25089, 'lalann': 25090, 'zym': 25091, 'beefjerki': 25092, 'burgerjerki': 25093, 'onslaught': 25094, 'gowri': 25095, 'gynecologist': 25096, 'எபபட': 25097, 'தரம': 25098, 'பணணனம': 25099, 'வளககம': 25100, 'grinder': 25101, 'tastydip': 25102, 'adoptm': 25103, 'breakthechain': 25104, 'bringthemhom': 25105, 'eleph': 25106, 'environmentaljustic': 25107, 'nooneleftbehind': 25108, 'whatshappeninginthailand': 25109, 'gra_ghg': 25110, 'seiresearch': 25111, 'stopstoringfat': 25112, 'nz': 25113, 'simplylack': 25114, 'montsanto': 25115, 'newvideo': 25116, 'smallyoutubercommun': 25117, 'supportm': 25118, 'onesecond': 25119, 'vid': 25120, 'healthyfact': 25121, 'aromaretail': 25122, 'scentyourspac': 25123, 'silverton': 25124, 'mindbodyl': 25125, 'earthshak': 25126, 'birriataco': 25127, 'catfish': 25128, 'cinnamonrol': 25129, 'lefthandhealerz': 25130, 'lefthandveganz': 25131, 'weld': 25132, 'castanha': 25133, 'comi': 25134, 'estava': 25135, 'fiquei': 25136, 'fome': 25137, 'mandaram': 25138, 'quando': 25139, 'sentiss': 25140, 'anindita': 25141, 'suhasini': 25142, 'prelim': 25143, 'upsc': 25144, 'afoodrevolut': 25145, 'fenc': 25146, 'goodgutlif': 25147, 'gleonhard': 25148, 'neurodevelopment': 25149, 'கயய': 25150, 'பழததன': 25151, 'midaugust': 25152, 'midjuli': 25153, 'devcommun': 25154, 'fineeeeee': 25155, 'drsineadfurey': 25156, 'indebted': 25157, 'martincarah': 25158, 'seasonalfruit': 25159, 'crisismanag': 25160, 'disastermanag': 25161, 'rdwave': 25162, 'emin': 25163, 'foodchemistrycongressmeetingsnexpocom': 25164, 'healthysnackfood': 25165, 'monoton': 25166, 'wallet': 25167, 'ethicalcloth': 25168, 'slowfashion': 25169, 'veganoutfitt': 25170, 'vegansofinstagram': 25171, 'reversefactor': 25172, 'industrytrend': 25173, 'jjingredi': 25174, 'mustasa': 25175, 'covidprevent': 25176, 'jugaad': 25177, 'jugaadrasoi': 25178, 'garg': 25179, 'usha': 25180, 'abisshrimpfe': 25181, 'fisheriesgoi': 25182, 'happycustom': 25183, 'livestockfe': 25184, 'shrimpcultur': 25185, 'shrimpfe': 25186, 'bongbong': 25187, 'pasalubong': 25188, 'piaya': 25189, 'specialpiaya': 25190, 'healthyl': 25191, 'rainyday': 25192, 'टरय': 25193, 'सनकस': 25194, 'homeostasi': 25195, 'neuroinflamm': 25196, 'chatkharey': 25197, 'daar': 25198, 'kaleji': 25199, 'ambrosiaveri': 25200, 'b_holmer': 25201, 'pf': 25202, 'plentygratitud': 25203, 'carmenrodg': 25204, 'chillot': 25205, 'doobiepowel': 25206, 'iv': 25207, 'ramseylewi': 25208, 'ronk': 25209, 'treatoftheday': 25210, 'oystercrab': 25211, 'softshel': 25212, 'softshellcrab': 25213, 'yuck': 25214, 'choosept': 25215, 'sportspt': 25216, 'blogof': 25217, 'daystogo': 25218, 'livinghealthi': 25219, 'aiia_ndelhi': 25220, 'betel': 25221, 'betl': 25222, 'giddi': 25223, 'heathi': 25224, 'pypayurv': 25225, 'wisewomanayurv': 25226, 'healthampm': 25227, 'healthandm': 25228, 'mythfact': 25229, 'issan': 25230, 'jamessyhabout': 25231, 'laotian': 25232, 'michelin': 25233, 'syhabout': 25234, 'foodandhealth': 25235, 'msuagbio': 25236, 'msuresearch': 25237, 'vitivicultur': 25238, 'interpret': 25239, 'onlineclass': 25240, 'team_morelif': 25241, 'airlin': 25242, 'uhoh': 25243, 'pseudofood': 25244, 'benicek': 25245, 'cupofuji': 25246, 'cupofujikenya': 25247, 'myjesusstori': 25248, 'partnershipsforgood': 25249, 'खल': 25250, 'परशनय': 25251, 'सए': 25252, 'nationaljunkfoodday': 25253, 'nanitauy': 25254, 'pennie_rees': 25255, 'stefi': 25256, 'impli': 25257, 'mcoomikid': 25258, 'fsa': 25259, 'nf': 25260, 'printindustri': 25261, 'apo': 25262, 'certific': 25263, 'foodbox': 25264, 'foodcontain': 25265, 'kr': 25266, 'madbehold': 25267, 'madpos': 25268, 'pri': 25269, 'silikon': 25270, 'stk': 25271, 'assunção': 25272, 'hpm': 25273, 'nutrição': 25274, 'ricardo': 25275, 'jrmt': 25276, 'kun': 25277, 'ntakudohoka': 25278, 'healthyliv': 25279, 'livingfre': 25280, 'saifi': 25281, 'jul': 25282, 'eidadhamubarak': 25283, 'eid': 25284, 'eidaladha': 25285, 'eidaladhamubarak': 25286, 'eiduladha': 25287, 'eatlessmeat': 25288, 'eidmessag': 25289, 'naturalnewsblog': 25290, 'turmericging': 25291, 'croprot': 25292, 'organicfarminf': 25293, 'hardthen': 25294, 'aspampfayrhomeo': 25295, 'evrnaik': 25296, 'foodtru': 25297, 'orgq': 25298, 'resrch': 25299, 'resrcheramp': 25300, 'svpso': 25301, 'svri': 25302, 'yogabest': 25303, 'emotionfit': 25304, 'physicallyfit': 25305, 'dilema': 25306, 'plantmilk': 25307, 'potatobas': 25308, 'familyrecip': 25309, 'glaciernationalpark': 25310, 'goodmood': 25311, 'montana': 25312, 'braid': 25313, 'cop_coalit': 25314, 'semilla': 25315, 'downfal': 25316, 'bakingsoda': 25317, 'indiatoday': 25318, 'stretchmark': 25319, 'boycot': 25320, 'foodbiz': 25321, 'pandaexpress': 25322, 'theinformedb': 25323, 'thetruth': 25324, 'butcherbox': 25325, 'redmondrealsalt': 25326, 'uswellnessmeat': 25327, 'economicgrowth': 25328, 'humandevelop': 25329, 'jeopard': 25330, 'pandemicrel': 25331, 'creme': 25332, 'cruch': 25333, 'powercrunch': 25334, 'alwaysdoublecheck': 25335, 'environmentalhealth': 25336, 'albertogarzon': 25337, 'invigor': 25338, 'meatconsumpt': 25339, 'plantbasedmov': 25340, 'prematuredeath': 25341, 'theveganreview': 25342, 'homeschoolingteen': 25343, 'homeschoolteen': 25344, 'debbi': 25345, 'clinicaltri': 25346, 'doubleblind': 25347, 'larginin': 25348, 'nigella': 25349, 'βalanin': 25350, 'cai': 25351, 'germanyflood': 25352, 'überschwemmung': 25353, 'aliciasilv': 25354, 'booksnbl': 25355, 'gtskombucha': 25356, 'lablin': 25357, 'mlo': 25358, 'stanford': 25359, 'stanfordm': 25360, 'vikombucha': 25361, 'antihung': 25362, 'mitpress': 25363, 'hiddenlaketrail': 25364, 'onthetrail': 25365, 'blacklov': 25366, 'brownhounddowntown': 25367, 'corset': 25368, 'empirestateofmind': 25369, 'museum': 25370, 'கரட': 25371, 'ofif': 25372, 'thegreatest': 25373, 'goood': 25374, 'franco': 25375, 'headtrauma': 25376, 'mao': 25377, 'neurodegen': 25378, 'psych': 25379, 'riskfactor': 25380, 'vegetarain': 25381, 'mètode': 25382, 'avocadotoast': 25383, 'एवकड': 25384, 'estep': 25385, 'bioplast': 25386, 'evenviron': 25387, 'weast': 25388, 'bridgend': 25389, 'cardiff': 25390, 'pastoralist': 25391, 'siraad': 25392, 'un_news_centr': 25393, 'firstday': 25394, 'galactogogu': 25395, 'malunggay': 25396, 'paan': 25397, 'paanaroma': 25398, 'pimpri': 25399, 'default': 25400, 'busineshttpstcoriojgotj': 25401, 'gruh': 25402, 'imprison': 25403, 'rajkot': 25404, 'udhyog': 25405, 'isrgrajan': 25406, 'foodonlineindia': 25407, 'talktomed': 25408, 'kitchenessenti': 25409, 'gayday': 25410, 'lgbtqproud': 25411, 'friendsyou': 25412, 'glutton': 25413, 'pnc': 25414, 'startedhttpstcozywvmftl': 25415, 'affluent': 25416, 'median': 25417, 'flourish': 25418, 'ourfood': 25419, 'fdn': 25420, 'clickbank': 25421, 'climatecoverup': 25422, 'climatewash': 25423, 'naturefynd': 25424, 'vegansnack': 25425, 'volcanicfungiprotein': 25426, '___________________________________': 25427, 'meadowland': 25428, 'animaltest': 25429, 'chronicwastingdiseas': 25430, 'elk': 25431, 'moos': 25432, 'oreo': 25433, 'bestmultivitamin': 25434, 'bestvegan': 25435, 'bestveganfood': 25436, 'bestveganmultivitamin': 25437, 'afeem': 25438, 'back_pain': 25439, 'teeth_pain': 25440, 'अफम': 25441, 'birthdaygirl': 25442, 'birthdayparti': 25443, 'eshi': 25444, 'ohc': 25445, 'ohcenvironmentalengin': 25446, 'whattoeattoday': 25447, 'cholulahotsauc': 25448, 'iamtabithabrown': 25449, 'imccormick': 25450, 'mccormick': 25451, 'mccormickcorp': 25452, 'reopen': 25453, 'newlif': 25454, 'attach': 25455, 'chilleddinn': 25456, 'colddinn': 25457, 'cooldinn': 25458, 'hotnight': 25459, 'saladfruit': 25460, 'globalpandem': 25461, 'weatherchang': 25462, 'आ': 25463, 'ऐस': 25464, 'गय': 25465, 'मनसन': 25466, 'pursu': 25467, 'courag': 25468, 'hajj': 25469, 'hajjmabroor': 25470, 'hajjmubarak': 25471, 'mabroor': 25472, 'muhammad': 25473, 'prophet': 25474, '𝗛𝗮𝗷𝗷': 25475, '𝗠𝘂𝗯𝗮𝗿𝗮𝗸': 25476, 'marleyspoonau': 25477, 'mealkit': 25478, 'sydneylif': 25479, 'libano': 25480, 'spilio': 25481, 'viabil': 25482, 'env': 25483, 'prod': 25484, 'cutdown': 25485, 'healthlyliv': 25486, 'toptip': 25487, 'dot': 25488, 'greattewest': 25489, 'nutritank': 25490, 'nutritionmed': 25491, 'trailblaz': 25492, 'millennium': 25493, 'thisfood': 25494, 'saltawarenessweek': 25495, 'roastedmuesli': 25496, 'rotisseri': 25497, 'tastyfix': 25498, 'zesti': 25499, 'gdpgrowth': 25500, 'aslinaklichehra': 25501, 'ducktitian': 25502, 'healthhazzard': 25503, 'asianinspir': 25504, 'miketyson': 25505, 'beatsforsal': 25506, 'beatssal': 25507, 'beatstar': 25508, 'djakademik': 25509, 'djmapvini': 25510, 'flstudio': 25511, 'goldcup': 25512, 'mapvinibeat': 25513, 'soursop': 25514, 'trapbeat': 25515, 'trapbeatsforsal': 25516, 'usavcan': 25517, 'wshh': 25518, 'แบนfoodpanda': 25519, 'deiti': 25520, 'soulfulsunday': 25521, 'weightlosejourney': 25522, '___________________': 25523, 'activeto': 25524, 'slime': 25525, 'filler': 25526, 'beprepar': 25527, 'dadbod': 25528, 'dadstrong': 25529, 'mealprepsunday': 25530, 'notyournormaldad': 25531, 'preparedm': 25532, 'wolf': 25533, 'nutritionsavvi': 25534, 'onlinesurvey': 25535, 'sharingsunday': 25536, 'vonnesthealthyzon': 25537, 'ericka': 25538, 'huggin': 25539, 'maria': 25540, 'thekitchn': 25541, 'nooil': 25542, 'simpleveg': 25543, 'salttax': 25544, 'antivaxx': 25545, 'babychicken': 25546, 'engvpak': 25547, 'fitnessfun': 25548, 'freedomdayuk': 25549, 'goldenchild': 25550, 'mandeladay': 25551, 'onepiec': 25552, 'ec': 25553, 'drasmitasaw': 25554, 'rejoicewel': 25555, 'coward': 25556, 'marmalad': 25557, 'nationalcaviarday': 25558, 'vganori': 25559, 'comma': 25560, 'istan': 25561, 'kellybundi': 25562, 'marriedwithchildren': 25563, 'nightshift': 25564, 'करतन': 25565, 'नट': 25566, 'पळत': 25567, 'omellet': 25568, 'thali': 25569, 'euagri': 25570, 'foodwatch_nl': 25571, 'fyeg': 25572, 'rockefellerfound': 25573, 'fooddeliveryapp': 25574, 'fooddeliverybusi': 25575, 'bestproduct': 25576, 'calico': 25577, 'theopen': 25578, 'dcscinc': 25579, 'easy_recip': 25580, 'foodfriendsfri': 25581, 'gbshomeshop': 25582, 'home_recip': 25583, 'my_recip': 25584, 'recipedottv': 25585, 'recipesidea': 25586, 'simplyrecip': 25587, 'top__food': 25588, 'underthesea': 25589, 'spam': 25590, 'caroiineand': 25591, 'heatweav': 25592, 'mona': 25593, 'facemask': 25594, 'jakarta': 25595, 'pkp': 25596, 'quarantinelif': 25597, 'quarentena': 25598, 'ramadhan': 25599, 'viruscorona': 25600, 'tricep': 25601, 'youdeservefood': 25602, 'postwork': 25603, 'animalbas': 25604, 'hui': 25605, 'sbakermd': 25606, 'pureveg': 25607, 'tastyeasi': 25608, 'ushaskitchen': 25609, 'solarcycl': 25610, 'solarminimum': 25611, 'greatreset': 25612, 'unnecessarili': 25613, 'wick': 25614, 'weed': 25615, 'dharameth': 25616, 'gmchnagpur': 25617, 'gme': 25618, 'indianarmi': 25619, 'manishnagar': 25620, 'mardnagpur': 25621, 'nagpurfightscorona': 25622, 'nagpursosiyc': 25623, 'vidarbha': 25624, 'vnit': 25625, 'cakesofinstagram': 25626, 'iphoneonli': 25627, 'patisseri': 25628, 'appetito': 25629, 'bucatini': 25630, 'buon': 25631, 'italyengland': 25632, 'optionsbagel': 25633, 'smoothiescan': 25634, 'treacher': 25635, 'laurastallard': 25636, 'menopausemov': 25637, 'freebi': 25638, 'vegetari': 25639, 'qaenat': 25640, 'اشتر': 25641, 'الالكتروني': 25642, 'الزعفران': 25643, 'الزكية': 25644, 'العطرة': 25645, 'الفاخر': 25646, 'الملكي': 25647, 'بالنكهة': 25648, 'قائنات': 25649, 'متجر': 25650, 'واستمتع': 25651, 'والرائحة': 25652, 'peer': 25653, 'middayentertain': 25654, 'viscou': 25655, 'sdgsummerchalleng': 25656, 'uncclearn': 25657, 'deltaplusvari': 25658, 'jun': 25659, 'mila': 25660, 'miraclewaternow': 25661, 'solapur': 25662, 'chocosandricekh': 25663, 'kheerrecip': 25664, 'minuterecip': 25665, 'newkheerrecip': 25666, 'recipeshar': 25667, 'sukuskitchen': 25668, 'sunandakaushik': 25669, 'pedia_fact': 25670, 'qrg': 25671, 'qrghealthciti': 25672, 'riddl': 25673, 'worldemojiday': 25674, 'channelnew': 25675, 'ukpolit': 25676, 'eidulazhasend': 25677, 'lifeshar': 25678, 'pakistanfew': 25679, 'happyweekend': 25680, 'fooditem': 25681, 'marathi_twitt': 25682, 'सवधन': 25683, 'indiangooseberri': 25684, 'gymflow': 25685, 'healthyeatin': 25686, 'howtobethirti': 25687, 'desertssugarsweet': 25688, 'edta': 25689, 'infanc': 25690, 'sother': 25691, 'sucrulos': 25692, 'lreiley': 25693, 'sejorg': 25694, 'methodist': 25695, 'blackseedoil': 25696, 'applesauc': 25697, 'cle': 25698, 'ethan': 25699, 'holm': 25700, 'shakerheight': 25701, 'valuead': 25702, 'manniefresh': 25703, 'socialmarket': 25704, 'thang': 25705, 'cuba': 25706, 'growhard': 25707, 'fungibas': 25708, 'jeffbezo': 25709, 'meatproduct': 25710, 'naturesfynd': 25711, 'बस': 25712, 'systematicrac': 25713, 'tennesse': 25714, 'nori': 25715, 'wellbeingy': 25716, 'flightattend': 25717, 'mintyoghurt': 25718, 'raita': 25719, 'tikka': 25720, 'chefjasonhoward': 25721, 'fruitpunch': 25722, 'instgood': 25723, 'koppertcressuk': 25724, 'antiagingtool': 25725, 'availablea': 25726, 'delayedag': 25727, 'nosurgeri': 25728, 'poliquin': 25729, 'poliquingroup': 25730, 'poliquinperform': 25731, 'men_valu': 25732, 'burke_professor': 25733, 'cdcfound': 25734, 'drjbalbu': 25735, 'healthyamerica': 25736, 'jefielding_md': 25737, 'johnshopkinseh': 25738, 'kauffmanjohnson': 25739, 'livablefutur': 25740, 'uclafsph': 25741, 'alexu_edu_eg': 25742, 'denfer': 25743, 'maell': 25744, 'saray': 25745, 'uphfofficiel': 25746, 'grillingandchil': 25747, 'anni': 25748, 'nicholtown': 25749, 'javascript': 25750, 'linux': 25751, 'microsoft': 25752, 'python': 25753, 'bulletproofexec': 25754, 'cipro': 25755, 'floxiehop': 25756, 'fluroquinolon': 25757, 'coughlanclim': 25758, 'dmozaffarian': 25759, 'batao': 25760, 'mmg': 25761, 'musclemak': 25762, 'cruelli': 25763, 'worldanimalprotectionindia': 25764, 'amazonquiz': 25765, 'childtaxcredit': 25766, 'fearstreet': 25767, 'jungwoo': 25768, 'loki': 25769, 'lokifinal': 25770, 'lovefnb': 25771, 'nbafin': 25772, 'spacejam': 25773, 'twibbon': 25774, 'ziraatbankasi': 25775, 'masterclass': 25776, 'thr': 25777, 'healthcrisi': 25778, 'slowfoodhq': 25779, 'desireforwel': 25780, 'navararic': 25781, 'oryagenu': 25782, 'panchakarma': 25783, 'मसळ': 25784, 'nationalpersonalchefday': 25785, 'drupe': 25786, 'heirarchyofne': 25787, 'intouch': 25788, 'intouchcommunityservic': 25789, 'itc': 25790, 'marcomm': 25791, 'uniofhert': 25792, 'leaf_educ': 25793, 'await': 25794, 'eatingdisorderawar': 25795, 'eatingdisordersupport': 25796, 'fallinginlovewithfoodagain': 25797, 'janecdevonshir': 25798, 'thriveandsurv': 25799, 'doubleb': 25800, 'woodenb': 25801, 'woodenfurnitur': 25802, 'woodenstreet': 25803, 'belt': 25804, 'bin': 25805, 'conveyor': 25806, 'hydraul': 25807, 'apac': 25808, 'asean': 25809, 'beverageprocess': 25810, 'iiot': 25811, 'smartpackag': 25812, 'fromigd': 25813, 'igd': 25814, 'retailanalysi': 25815, 'unforgett': 25816, 'allergyfre': 25817, 'isth': 25818, 'shutitdowngladi': 25819, 'masterdoc': 25820, 'fridaytip': 25821, 'gastroesophag': 25822, 'healthfact': 25823, 'coachlif': 25824, 'fitcamp': 25825, 'groupfit': 25826, 'gown': 25827, 'inevit': 25828, 'zocdoc': 25829, 'alga': 25830, 'bluespirulina': 25831, 'shatpavli': 25832, 'emeranamay': 25833, 'ribillota': 25834, 'ambo': 25835, 'brazo': 25836, 'cgm': 25837, 'controlar': 25838, 'important': 25839, 'presión': 25840, 'beeresearch': 25841, 'mite': 25842, 'varroa': 25843, 'bigbicep': 25844, 'curl': 25845, 'healthmyth': 25846, 'thursdaymyth': 25847, 'beardedvillain': 25848, 'charitywork': 25849, 'staybeard': 25850, 'bladderwrack': 25851, 'phlorotannin': 25852, 'seamossislif': 25853, 'nepales': 25854, 'barillacfn': 25855, 'fixingfood': 25856, 'theeiu': 25857, 'exposom': 25858, 'wholemixtur': 25859, 'aiim': 25860, 'bmw': 25861, 'ima': 25862, 'mercedesbenz': 25863, 'nagpurfood': 25864, 'nagpurso': 25865, 'nitingadkari': 25866, 'rbi': 25867, 'switch_on': 25868, 'zee': 25869, 'extent': 25870, 'elpaso': 25871, 'pasosparaprevenircanc': 25872, 'pppelpaso': 25873, 'symptomswithout': 25874, 'troublesom': 25875, 'ahemdabad': 25876, 'ymca': 25877, 'montreal': 25878, 'pizzadeliveri': 25879, 'suburban': 25880, 'westisland': 25881, 'cubalibr': 25882, 'universecitizenparti': 25883, 'vinaybiradar': 25884, 'gringreen': 25885, 'middleton': 25886, 'nationscal': 25887, 'tedxswansea': 25888, 'wale': 25889, 'walestransitionlab': 25890, 'downingstreet': 25891, 'unattract': 25892, 'malfunct': 25893, 'grofer': 25894, 'ondeal': 25895, 'squeasi': 25896, 'zandu': 25897, 'zanducar': 25898, 'vile': 25899, 'averyggg': 25900, 'jordan_flynn_': 25901, 'lexayyyg': 25902, '_kattyl': 25903, 'knifeskills_': 25904, 'mrspa_c': 25905, 'tholowac': 25906, 'tayshaco': 25907, 'beecaveroad': 25908, 'merrydevo': 25909, 'humankineticseu': 25910, 'peymama': 25911, 'quorn_nutrit': 25912, 'youcar': 25913, 'persist': 25914, 'handsonlearn': 25915, 'readingsmil': 25916, 'tanzania': 25917, 'acha': 25918, 'baarish': 25919, 'ise': 25920, 'pakod': 25921, 'skta': 25922, 'canadafoodguid': 25923, 'timeforchang': 25924, 'daawat': 25925, 'bmbeyondthescreen': 25926, 'getoutsid': 25927, 'aarghther': 25928, 'dismiss': 25929, 'food_strategi': 25930, 'cancerfighitingfood': 25931, 'healthbenefitsofavacado': 25932, 'dharampeth': 25933, 'hoogwat': 25934, 'indiansmustfal': 25935, 'inond': 25936, 'studia': 25937, 'zomatoindia': 25938, 'csr_india': 25939, 'csrboxorg': 25940, 'csreuropeorg': 25941, 'thecsrjourn': 25942, 'grapetreefood': 25943, 'bulgarellidavid': 25944, 'ngt': 25945, 'drugsfreecountri': 25946, 'envisag': 25947, 'plea': 25948, 'prearrest': 25949, 'twomor': 25950, 'byron': 25951, 'aristotl': 25952, 'degen': 25953, 'scandinavian': 25954, 'growingfood': 25955, 'victorian': 25956, 'thinkingn': 25957, 'fruitandveg': 25958, 'gmb': 25959, 'goodmorningbritain': 25960, 'rot': 25961, 'rtoday': 25962, 'sideway': 25963, 'jagadish': 25964, 'masterdoctor': 25965, 'arreymbongayaivogmailcom': 25966, 'ethnomedicin': 25967, 'hehttpstcofemtxizspq': 25968, 'ivoarrey': 25969, 'oldboyarretyahoocom': 25970, 'buopso': 25971, 'easyeat_ai': 25972, 'agriafrica': 25973, 'rivet': 25974, 'scidev': 25975, 'subsaharan': 25976, 'drag': 25977, 'ghostfishinggear': 25978, 'illegalfish': 25979, 'chocolatechip': 25980, 'eatwhatyoulov': 25981, 'sweetbit': 25982, 'treatyoself': 25983, 'moto': 25984, 'twenti': 25985, 'amazinghimach': 25986, 'iamsoexcitedwithmct': 25987, 'keisfoodfacthttpstcoserkakz': 25988, 'knifeskil': 25989, 'mobilecookingteach': 25990, 'mychefrock': 25991, 'recipemagik': 25992, 'brandartica': 25993, 'nffti': 25994, 'planetclassroom': 25995, 'youthvoic': 25996, 'metabólicament': 25997, 'kent': 25998, 'lorrydriv': 25999, 'pcscbill': 26000, 'global_nomad': 26001, 'bookcreatorapp': 26002, 'xtalksorg': 26003, 'reishi': 26004, 'foodampdrinkindustri': 26005, 'healthpolici': 26006, 'windowsil': 26007, 'cue': 26008, 'technom': 26009, 'britishcolumba': 26010, 'businessforsal': 26011, 'cad': 26012, 'okanagan': 26013, 'sculptur': 26014, 'wellnessday': 26015, 'agw': 26016, 'angrynorth': 26017, 'healthscar': 26018, 'scariant': 26019, 'thescienc': 26020, 'avoidfoodwast': 26021, 'bedroomdecor': 26022, 'beforeb': 26023, 'greger': 26024, 'kampala': 26025, 'uot': 26026, 'farmoveryond': 26027, 'deerma': 26028, 'multifunct': 26029, 'nu': 26030, 'paydaysal': 26031, 'php': 26032, 'portablejuic': 26033, 'decisiondatabas': 26034, 'superfoodsmarket': 26035, 'reddit': 26036, 'redditinvestor': 26037, 'stockstobuy': 26038, 'theverygoodfood': 26039, 'verri': 26040, 'verygoodbutch': 26041, 'wallstreetbets_': 26042, 'alho': 26043, 'alimentaciónsalud': 26044, 'excesso': 26045, 'nutricao': 26046, 'prejudici': 26047, 'saiba': 26048, 'ser': 26049, 'andhbhakt': 26050, 'ankita___inc': 26051, 'bebakvijay': 26052, 'croromei': 26053, 'gupta_pooj': 26054, 'incghogha': 26055, 'khud': 26056, 'lakhanjorw': 26057, 'lijy': 26058, 'makhanpathak': 26059, 'mat': 26060, 'nhi': 26061, 'officekcbarm': 26062, 'parastanvesh': 26063, 'sab': 26064, 'sojao': 26065, 'utao': 26066, 'yogeshm': 26067, 'livabl': 26068, 'நஙகன': 26069, 'பன': 26070, 'chemicalprocess': 26071, 'full_lengtharticl': 26072, 'shortcommuniact': 26073, 'corporatefin': 26074, 'financeandeconomi': 26075, 'ggv': 26076, 'fragrant': 26077, 'sounf': 26078, 'kiss': 26079, 'blood_donor': 26080, 'blood_group': 26081, 'blood_plasma': 26082, 'blood_typ': 26083, 'plasma_donor': 26084, 'citrusfruit': 26085, 'workingwomen': 26086, 'मयगरनच': 26087, 'healthcarecent': 26088, 'stopbeinglazi': 26089, 'tesladiagnost': 26090, 'kanji': 26091, 'molecular': 26092, 'blackcurr': 26093, 'cmg': 26094, 'corkbas': 26095, 'fsc': 26096, 'irishbusi': 26097, 'irishown': 26098, 'mee': 26099, 'qauisit': 26100, 'takeov': 26101, 'eggalbumen': 26102, 'eggpowd': 26103, 'drjamesdin': 26104, 'underus': 26105, 'healthywisdom': 26106, 'healthyd': 26107, 'seedshttpstcotwgkvkku': 26108, 'loveisland': 26109, 'athe_homeec': 26110, 'jc': 26111, 'kirstiemcadoo': 26112, 'lc': 26113, 'wearewhatweeat': 26114, 'barista': 26115, 'selfjudg': 26116, 'morningbreakfast': 26117, 'पचयल': 26118, 'हलक': 26119, 'britchamsg': 26120, 'konw': 26121, 'kane': 26122, 'tanaka': 26123, 'signifi': 26124, 'cookwareset': 26125, 'nonstick': 26126, 'potsandpan': 26127, 'sardel': 26128, 'skillet': 26129, 'stainless': 26130, 'hobbi': 26131, 'poashanabhiyan': 26132, 'collagevideo': 26133, 'homefit': 26134, 'aamirkhan': 26135, 'fortnit': 26136, 'ramadan': 26137, 'snbshoutout': 26138, 'crossroadshop': 26139, 'ketter': 26140, 'managediet': 26141, 'managesideeffect': 26142, 'sloan': 26143, 'agridulc': 26144, 'cerdo': 26145, 'costilla': 26146, 'enhttpstconzjzmmhi': 26147, 'bodega': 26148, 'ricket': 26149, 'abolishthefilibust': 26150, 'affordableh': 26151, 'americanfamiliesplan': 26152, 'americanjobsplan': 26153, 'usedexcept': 26154, 'landscapephotographi': 26155, 'soy_milk': 26156, 'soyamilk': 26157, 'smartfoodscal': 26158, 'plasticfreejuli': 26159, 'girlfriend': 26160, 'cdoh': 26161, 'coloni': 26162, 'bromleycross': 26163, 'fulltimeparttim': 26164, 'technician': 26165, 'turton': 26166, 'turtonschool': 26167, 'turtonsixthform': 26168, 'dietmicrobiomeimmun': 26169, 'acyl': 26170, 'downregul': 26171, 'ghrelin': 26172, 'hyperthyroid': 26173, 'lenomorelin': 26174, 'ra': 26175, 'jaisanaamwaisakaam': 26176, 'இஞசயன': 26177, 'cretan': 26178, 'eac': 26179, 'unsuit': 26180, 'coinvestig': 26181, 'epidemiologist': 26182, 'marinakurian': 26183, 'primarycar': 26184, 'rachel_rdn': 26185, 'willett': 26186, 'danispe': 26187, 'gymnasiumpost': 26188, 'humanint': 26189, 'daymcdonald': 26190, 'favoritefrenchfri': 26191, 'frenchfryahol': 26192, 'frenchfrylov': 26193, 'frenchi': 26194, 'frieslov': 26195, 'frylov': 26196, 'kryptonit': 26197, 'loadedfri': 26198, 'illhealthespeci': 26199, 'foodadventur': 26200, 'fruitlov': 26201, 'fruitoftheday': 26202, 'seaurchin': 26203, 'kalpnutrit': 26204, 'nowgroceri': 26205, 'onlinegroceri': 26206, 'deepdiv': 26207, 'recipesbestcraz': 26208, 'spong': 26209, 'sasalik': 26210, 'shojn': 26211, 'stalk': 26212, 'ranchi': 26213, 'pexelhub': 26214, 'pexelhubbest': 26215, 'spicedr': 26216, 'cowboy': 26217, 'earsfrom': 26218, 'litchfieldfund': 26219, 'lockdownfood': 26220, 'multidrug': 26221, 'euronew': 26222, 'almighti': 26223, 'loveisnottour': 26224, 'morningbliss': 26225, 'amemici': 26226, 'brasil': 26227, 'bts_butter': 26228, 'dontbuythesun': 26229, 'exam': 26230, 'prayforsouthafrica': 26231, 'racistengland': 26232, 'soscubalibr': 26233, 'فيلم_مش_انا': 26234, '大谷翔平': 26235, 'hachi': 26236, 'hara': 26237, 'overeat': 26238, 'undereat': 26239, 'cb': 26240, 'chugachforestak': 26241, 'girdwood': 26242, 'haida': 26243, 'turnagain': 26244, 'whittier': 26245, 'goodhabit': 26246, 'driedmeat': 26247, 'sirloin': 26248, 'biosearch_lif': 26249, 'foodfuturist': 26250, 'ceasarsalad': 26251, 'hermina': 26252, 'whyte': 26253, 'loha': 26254, 'ideasartchildreneducationfoodhealthkidsschoolideamillidea': 26255, 'sculpt': 26256, 'grime': 26257, 'allergyasthmahq': 26258, 'foodbudget': 26259, 'melissajoyrd': 26260, 'enhttpstcowrnndwg': 26261, 'rellena': 26262, 'medicalschool': 26263, 'acnecaus': 26264, 'cyst': 26265, 'lysosom': 26266, 'bringbackbaba': 26267, 'fantastico': 26268, 'herdimmun': 26269, 'safemoonwallet': 26270, 'twitchaffili': 26271, 'virtualr': 26272, 'impoverish': 26273, 'nickhedley': 26274, 'nakedfood': 26275, 'federallyapprov': 26276, 'appdevelop': 26277, 'businesssolut': 26278, 'ctvnew': 26279, 'globalnew': 26280, 'omit': 26281, 'horsemeat': 26282, 'chach': 26283, 'alexjon': 26284, 'byu': 26285, 'gamestop': 26286, 'lsu': 26287, 'avali': 26288, 'boclient': 26289, 'cavendish': 26290, 'exim': 26291, 'fruitsexport': 26292, 'roialler': 26293, 'roiallerintern': 26294, 'chaupal': 26295, 'gadhha': 26296, 'indianslum': 26297, 'machhi': 26298, 'pathsala': 26299, 'secondwav': 26300, 'sewa_intl': 26301, 'slum': 26302, 'nationalpecanpieday': 26303, 'elisaallen': 26304, 'greener': 26305, 'petauk': 26306, 'surrend': 26307, 'மதளம': 26308, 'rathyatra': 26309, 'tandoor': 26310, 'गव_गव_भजप': 26311, 'convini': 26312, 'accomplish': 26313, 'foodcolour': 26314, 'maltvinegar': 26315, 'thespicyrd': 26316, 'yourkreideprinz': 26317, 'pierrelabmn': 26318, 'quail': 26319, 'trim': 26320, 'autumnremedi': 26321, 'greenlifestyl': 26322, 'mindbodysoul': 26323, 'motherbrownsremedi': 26324, 'nontoxicliv': 26325, 'nourishyourself': 26326, 'entic': 26327, 'frooti': 26328, 'kidsspeci': 26329, 'nochem': 26330, 'ntarirarenga': 26331, 'pyaj': 26332, 'rajmachawalrotiachari': 26333, 'saibaba': 26334, 'saishraddhasaburi': 26335, 'seva': 26336, 'cbg': 26337, 'realnew': 26338, 'devalu': 26339, 'villain': 26340, 'ceampfda': 26341, 'fulvicacid': 26342, 'khumic': 26343, 'melisakhumiccomhttpstcoxbvtrbyw': 26344, 'oem': 26345, 'belagavikarnataka': 26346, 'compendium': 26347, 'housingcrisi': 26348, 'tamar_ez': 26349, 'treati': 26350, 'alliedmarketresearch': 26351, 'herehttpstcoqxmwngnsuv': 26352, 'dreddyclin': 26353, 'drschweig': 26354, 'meno': 26355, 'proteinamino': 26356, 'exercisemotiv': 26357, 'quotestagram': 26358, 'brianfarn': 26359, 'sugarsideeffect': 26360, 'अत': 26361, 'इफकटस': 26362, 'खणऱयन': 26363, 'गड': 26364, 'महणज': 26365, 'वष': 26366, 'सईड': 26367, 'सखर': 26368, 'ajmera': 26369, 'cheesecutlet': 26370, 'copaamericafin': 26371, 'copaoro': 26372, 'englandvsitali': 26373, 'globalh': 26374, 'masterchefau': 26375, 'academia': 26376, '東京五輪の中止を求めます': 26377, 'arch': 26378, 'fasciiti': 26379, 'foot': 26380, 'plantar': 26381, 'felin': 26382, 'bottledwat': 26383, 'boxedwat': 26384, 'chemicalsinwat': 26385, 'coachjeremi': 26386, 'drinkwat': 26387, 'glasswat': 26388, 'heavymetalsinwat': 26389, 'workingmomof': 26390, 'compassion': 26391, 'rawfarmbyop': 26392, 'sundayfeel': 26393, 'dogfood': 26394, 'cheaphealthym': 26395, 'trepid': 26396, 'ceas': 26397, 'nutsandhealth': 26398, 'dontsupplementiron': 26399, 'getironfromfood': 26400, 'herbsheal': 26401, 'fatli': 26402, 'noguilt': 26403, 'veganrecipehour': 26404, 'historylook': 26405, 'outlookand': 26406, 'weebli': 26407, 'checkmedindia': 26408, 'juri': 26409, 'liveabl': 26410, 'olu': 26411, 'foodhygieneismust': 26412, 'fruitwash': 26413, 'healhtylifestyl': 26414, 'hyge': 26415, 'hygeorganowash': 26416, 'pulsewash': 26417, 'veggiewash': 26418, 'vegwash': 26419, 'blueberrymuffinday': 26420, 'alhawa': 26421, 'bab': 26422, 'veto': 26423, 'cookingwithm': 26424, 'forzaitalia': 26425, 'theowlhous': 26426, 'winetr': 26427, 'नइट': 26428, 'भख': 26429, 'लग': 26430, 'लट': 26431, 'cinderella': 26432, 'wtach': 26433, 'dibrail': 26434, 'ecatr': 26435, 'irctc': 26436, 'onlinefooddeliveri': 26437, 'affirmationoftheday': 26438, 'mindfulliv': 26439, 'theahamov': 26440, 'basecamp': 26441, 'foodaid': 26442, 'lebaneseveganssocialhub': 26443, 'gymshark': 26444, 'sundaylunch': 26445, 'thechoff': 26446, 'cucumbersalad': 26447, 'incurs': 26448, 'indigenousland': 26449, 'indigenouspeopl': 26450, 'johnnacrid': 26451, 'goproject': 26452, 'commffestradio': 26453, 'kidsfirstmedia': 26454, 'voiceamericatrn': 26455, 'covidnl': 26456, 'stainlesssteelcookwar': 26457, 'stainlesssteelutensil': 26458, 'fitnessmani': 26459, 'honeyfeast': 26460, 'pgf': 26461, 'actinidain': 26462, 'balanced_diet': 26463, 'freshju': 26464, 'kiwifruit': 26465, 'dermatologist': 26466, 'abeg': 26467, 'agriculture_result': 26468, 'agriculturenew': 26469, 'oooo': 26470, 'savemanifest': 26471, 'tcmparti': 26472, 'tweeterworld': 26473, 'ahanow': 26474, 'nest': 26475, 'crashdiet': 26476, 'dietsdontwork': 26477, 'persever': 26478, 'theonionpatch': 26479, 'brainstuff': 26480, 'instant_energi': 26481, 'errr': 26482, 'rabbit': 26483, 'wanker': 26484, 'patienc': 26485, 'philosoph': 26486, 'stoic': 26487, 'stoicmindset': 26488, 'thinker': 26489, 'vicki': 26490, 'ignit': 26491, 'tempera': 26492, 'bsp': 26493, 'dastak': 26494, 'politican': 26495, 'populationcontrolbil': 26496, 'upelect': 26497, 'yogiadityanath': 26498, 'bhfuil': 26499, 'bia': 26500, 'dinnéir': 26501, 'dtaca': 26502, 'eagla': 26503, 'ith': 26504, 'ort': 26505, 'pháistí': 26506, 'piocach': 26507, 'roimh': 26508, 'tuistityroneproductionsi': 26509, 'ठवयचय': 26510, 'पचन': 26511, 'ससथ': 26512, 'eatfruitseveryday': 26513, 'fruitishealthi': 26514, 'fruitplat': 26515, 'juicyfruit': 26516, 'nodaywithoutfruit': 26517, 'bananabread': 26518, 'scenario': 26519, 'plasticfre': 26520, 'sweetest': 26521, 'unnatfound': 26522, 'उननत': 26523, 'पढओ': 26524, 'पहल': 26525, 'फउडशन': 26526, 'बढओ': 26527, 'लडक': 26528, 'हसस': 26529, 'misbrand': 26530, 'shameless': 26531, 'swinefev': 26532, 'milkcream': 26533, 'notsounhealthi': 26534, 'anem': 26535, 'healthsquad': 26536, 'wealthsquad': 26537, 'bodyimageissu': 26538, 'michmed': 26539, 'mihealthforum': 26540, 'selfesteem': 26541, 'toofat': 26542, 'tooskinni': 26543, 'umich': 26544, 'noslip': 26545, 'cnbcmakeit': 26546, 'mt': 26547, 'nope': 26548, 'bbwinch': 26549, 'hosta': 26550, 'mothernatur': 26551, 'shoot': 26552, 'treesquar': 26553, 'abdomen': 26554, 'dyslipidemia': 26555, 'akiloforuji': 26556, 'prhutc': 26557, 'fett': 26558, 'sortastuff': 26559, 'cleaner': 26560, 'wtoxic': 26561, 'intimid': 26562, 'nerd': 26563, 'sciam': 26564, 'coffeepowd': 26565, 'elaajsabkeliy': 26566, 'ari': 26567, 'estherblum': 26568, 'clann': 26569, 'cur': 26570, 'leat': 26571, 'mhaith': 26572, 'sláint': 26573, 'theaghlach': 26574, 'mustardi': 26575, 'lactobacillu': 26576, 'pakhala': 26577, 'secretori': 26578, 'torani': 26579, 'funfriday': 26580, 'thewilnergroup': 26581, 'joyou': 26582, 'fced': 26583, 'givenow': 26584, 'manila': 26585, 'passitforward': 26586, 'grilledfood': 26587, 'foodchemistrymeet': 26588, 'bink': 26589, 'love_my_human': 26590, 'grantham': 26591, 'katakata': 26592, 'firsthand': 26593, 'blood_circul': 26594, 'blood_vessel': 26595, 'fitnesstim': 26596, 'heartcar': 26597, 'appal': 26598, 'cpu': 26599, 'hearhear': 26600, 'nssummer': 26601, 'bookboost': 26602, 'how': 26603, 'garglekarogermfreeraho': 26604, 'bhttpstcokjbxhr': 26605, 'diet_chart': 26606, 'cannabisoil': 26607, 'liferetreat': 26608, 'liferetreatlelc': 26609, 'lifestyleshoponlin': 26610, 'fssc': 26611, 'greeninvesthttpstcoqzfufiuv': 26612, 'monet': 26613, 'untap': 26614, 'antiallergi': 26615, 'antihistamin': 26616, 'sulfur': 26617, 'strengtheningtaj': 26618, 'watanab': 26619, 'yasuo': 26620, 'universalcredit': 26621, 'footwear': 26622, 'inaugur': 26623, 'propak': 26624, 'imamali': 26625, 'quotesaboutlif': 26626, 'quotesdaili': 26627, 'quotestolivebi': 26628, 'wordsofwisdom': 26629, 'hurdletechnolog': 26630, 'temperaturemonitor': 26631, 'wateract': 26632, 'carmak': 26633, 'clinch': 26634, 'toyota': 26635, 'volkswagen': 26636, 'functionalfit': 26637, 'rejuvenateandtransformmonsoon': 26638, 'selfcareisahabit': 26639, 'biotox': 26640, 'cstore': 26641, 'riski': 26642, 'zeekalak': 26643, 'આદત': 26644, 'ખસ': 26645, 'તમન': 26646, 'ફરજમ': 26647, 'મકવન': 26648, 'રખ': 26649, 'વચ': 26650, 'વધલ': 26651, 'હય': 26652, 'fdaapprov': 26653, 'glucoflow': 26654, 'restroom': 26655, 'effectivelast': 26656, 'karefield': 26657, 'livingbusi': 26658, 'quickguarante': 26659, 'victoryinnovco': 26660, 'drzachbush': 26661, 'indoctrin': 26662, 'willebanon': 26663, 'ihemp': 26664, 'industrialhemp': 26665, 'nzhemp': 26666, 'nacamulli': 26667, 'tede': 26668, 'tedtalk': 26669, 'champiñon': 26670, 'enhttpstcoxlkbkfsl': 26671, 'ñoqui': 26672, 'crowdfir': 26673, 'healthampfit': 26674, 'rasevskaya': 26675, 'derog': 26676, 'nonchem': 26677, 'nationalblueberryday': 26678, 'weatherwel': 26679, 'dollargener': 26680, 'lineup': 26681, 'rclnle': 26682, 'rockford': 26683, 'rockfordcrunchyladi': 26684, 'rockfordil': 26685, 'dispensari': 26686, 'iriecoughe': 26687, 'okc': 26688, 'medicalsuppli': 26689, 'cafreeland': 26690, 'thetye': 26691, 'ukgovern': 26692, 'staywok': 26693, 'summerbodi': 26694, 'wordincontext': 26695, 'wordoftheday': 26696, 'embarrass': 26697, 'covidnewstoday': 26698, 'covidsitu': 26699, 'naturalsweeten': 26700, 'strawberrysess': 26701, 'ஸடரபரரயன': 26702, 'pfrc': 26703, 'pfrctn': 26704, 'poultryfood': 26705, 'chefeitanraz': 26706, 'dubrov': 26707, 'joekerr': 26708, 'cashewnut': 26709, 'gincofood': 26710, 'foodcompli': 26711, 'foodinspect': 26712, 'takethiscours': 26713, 'aussi': 26714, 'crimin': 26715, 'gang': 26716, 'ktpil': 26717, 'sunric': 26718, 'trackpack': 26719, 'whitepepperpowd': 26720, '𝗕𝗮𝗿𝘆𝗮𝗿𝘀': 26721, '𝗣𝗲𝗽𝗽𝗲𝗿': 26722, '𝗣𝗼𝘄𝗱𝗲𝗿': 26723, '𝗪𝗵𝗶𝘁𝗲': 26724, 'organicsnack': 26725, 'chandrashekhar': 26726, 'doctorsday': 26727, 'ganguli': 26728, 'momo': 26729, 'nagpurpolic': 26730, 'sauravganguli': 26731, 'womenpow': 26732, 'healthekaa': 26733, 'lowcostdiet': 26734, 'weaker': 26735, 'oneindianewsdigest': 26736, 'ಕರನ': 26737, 'ಕಲದಲಲ': 26738, 'ಪಷಕರ': 26739, 'ಮಕಕಳ': 26740, 'ಮಡಬಕಗದದನ': 26741, 'ಹಚಚಳ': 26742, 'budgetfood': 26743, 'jointsrapidli': 26744, 'losewaight': 26745, 'skinand': 26746, 'weightwhil': 26747, 'inwast': 26748, 'sharan': 26749, 'wstori': 26750, 'bulg': 26751, 'proteinac': 26752, 'ashatheblessedavocado': 26753, 'hass': 26754, 'groceryindustri': 26755, 'grocerytech': 26756, 'nationalgrocerss': 26757, 'pointofsal': 26758, 'workgroup': 26759, 'chuch': 26760, 'semifin': 26761, 'sportsnew': 26762, 'highcalcium': 26763, 'univhealthnew': 26764, 'ctvsaskatoonl': 26765, 'webbernatur': 26766, 'labelsunwrap': 26767, 'thirdparti': 26768, 'premad': 26769, 'preminc': 26770, 'iss': 26771, 'nasa_': 26772, 'chocahol': 26773, 'healthychocol': 26774, 'lindt': 26775, 'lindtexcel': 26776, 'supremedark': 26777, 'celebritychef': 26778, 'chefjamesbarri': 26779, 'méxico': 26780, 'instacart': 26781, 'ediblerx': 26782, 'foodiefriendli': 26783, 'worldchocolateday': 26784, 'अजर': 26785, 'परष': 26786, 'greenax': 26787, 'storebreak': 26788, 'unrecogn': 26789, 'kite': 26790, 'undisclos': 26791, 'juliansjulian': 26792, 'medicalcannabi': 26793, 'industrialis': 26794, 'wefeedtheworld': 26795, 'fightinflamm': 26796, 'foodsthatfightinflamm': 26797, 'asharam': 26798, 'flabbi': 26799, 'cbridg': 26800, 'sugarri': 26801, 'adlaw': 26802, 'brewdog': 26803, 'geraintlt': 26804, 'பணடன': 26805, 'tinachisa': 26806, 'westafrica': 26807, 'wizkid': 26808, 'dsfranc': 26809, 'fredd': 26810, 'futura_gaia': 26811, 'futurasci': 26812, 'marion_moreau': 26813, 'vivatech': 26814, 'uhhhhhh': 26815, 'vmaxfit': 26816, 'floodsw': 26817, 'massiveth': 26818, 'severebut': 26819, 'undpclim': 26820, 'waterhealth': 26821, 'meatfish': 26822, 'domainindusti': 26823, 'premiumnam': 26824, 'wednesdaytip': 26825, 'd_a_robson': 26826, 'psychmag': 26827, 'latestarticl': 26828, 'handtorn': 26829, 'ovenroast': 26830, 'flavouredmilk': 26831, 'daniel_kraft': 26832, 'doctornen': 26833, 'evankirstel': 26834, 'evirahealth': 26835, 'imaginationxyz': 26836, 'wearabl': 26837, 'चहऱयवरल': 26838, 'वदधतवच': 26839, 'coviduk': 26840, 'tiktokdown': 26841, 'tubbospac': 26842, 'officeworkout': 26843, 'breakfastclub': 26844, 'milkpowd': 26845, 'jamapediatr': 26846, 'businesswithheart': 26847, 'businesswithpurpos': 26848, 'minorityown': 26849, 'nationalpicklemonth': 26850, 'socialrespons': 26851, 'womanown': 26852, 'eatyourveggi': 26853, 'easycook': 26854, 'fishcurri': 26855, 'gymlov': 26856, 'ju': 26857, 'juskitchenstudio': 26858, 'jusnyc': 26859, 'juspunjabi': 26860, 'justv': 26861, 'manhattan': 26862, 'minrecip': 26863, 'quickmakingfood': 26864, 'amazonprimeday': 26865, 'ceram': 26866, 'impot': 26867, 'telfon': 26868, 'eggprotein': 26869, 'eggyolksguarante': 26870, 'machinedri': 26871, 'powderegg': 26872, 'anticarcinogen': 26873, 'sengonzalez': 26874, 'competitor': 26875, 'theteashor': 26876, 'importanceq': 26877, 'nonceliac': 26878, 'np': 26879, 'seniorh': 26880, 'lifesti': 26881, 'guestpost': 26882, 'writeforu': 26883, 'healthyho': 26884, 'கரமபன': 26885, 'பககவளவகள': 26886, 'ahttpstcokllojubp': 26887, 'backlash': 26888, 'reput': 26889, 'soviet': 26890, 'vitriol': 26891, 'vkusvil': 26892, 'withdrawn': 26893, 'weightlosssecret': 26894, 'antarct': 26895, 'seabird': 26896, 'southeastasia': 26897, 'stopplasticpollut': 26898, 'turtl': 26899, 'caloriedefecit': 26900, 'kitchenwithkoh': 26901, 'itsnot_recip': 26902, 'roikinney': 26903, 'audiobook': 26904, 'iboook': 26905, 'readnow': 26906, 'medsurgeindia': 26907, 'parl': 26908, 'prepost': 26909, 'blogo': 26910, 'copaamerica': 26911, 'writerscommun': 26912, 'ohlala': 26913, 'janesco': 26914, 'rajgeera': 26915, 'assign': 26916, '𝗚𝗿𝗲𝗲𝗻': 26917, '𝗧𝗲𝗮': 26918, 'chefsinschool': 26919, 'tfp': 26920, 'tfpfoundat': 26921, 'thefoodpeopl': 26922, 'yearsintrend': 26923, 'baithak': 26924, 'bastar': 26925, 'cgsrlm': 26926, 'kolchur': 26927, 'parivar': 26928, 'sakhi': 26929, 'louisvuitton': 26930, 'xbox': 26931, 'naturalsugar': 26932, 'nuvovivo': 26933, 'anise': 26934, 'jenvoh_am': 26935, 'largestev': 26936, 'princesscharm': 26937, 'raducanu': 26938, 'skeemsaam': 26939, 'survivorgreec': 26940, 'yosstop': 26941, 'folklor': 26942, 'theslowapp': 26943, 'daddi': 26944, 'longleg': 26945, 'astronomi': 26946, 'healcountri': 26947, 'naidocweek': 26948, 'rmit': 26949, 'real_news_ch': 26950, 'humic': 26951, 'methik': 26952, 'nutralici': 26953, 'vishwa': 26954, 'adrakwalichai': 26955, 'agreeabl': 26956, 'adulto': 26957, 'aumentan': 26958, 'comen': 26959, 'cuando': 26960, 'niño': 26961, 'ultraprocesado': 26962, 'healingjourney': 26963, 'nutritiontherapi': 26964, 'wellnessfromwithin': 26965, 'wellnessj': 26966, 'giftcard': 26967, 'lecithin': 26968, 'प': 26969, 'anybodyspil': 26970, 'suzellesantosw': 26971, 'fedup': 26972, 'middleagespread': 26973, 'postmenopaus': 26974, 'abudhabirestaur': 26975, 'dubairestaur': 26976, 'upfield': 26977, 'billionrath': 26978, 'creamsom': 26979, 'brendan_brazi': 26980, 'chuckcarrollwlc': 26981, 'therealchefaj': 26982, 'dipper': 26983, 'organichoney': 26984, 'sheesham': 26985, 'cannaspa': 26986, 'cinema': 26987, 'cineworld': 26988, 'empirecinema': 26989, 'everymancinema': 26990, 'garrettpopcorn': 26991, 'kernel': 26992, 'odeoncinema': 26993, 'orvillepopcorn': 26994, 'sweetpopcorn': 26995, 'theskinnypop': 26996, 'vuecinema': 26997, 'calorie_intak': 26998, 'should_eat': 26999, 'techgoodhealth': 27000, 'collabon': 27001, 'foodindia': 27002, 'nivaansen': 27003, 'thankufood': 27004, 'aldeera': 27005, 'chickensatay': 27006, 'kavimang': 27007, 'thaadimama': 27008, 'triplican': 27009, 'vloger': 27010, 'viabbcgoodfood': 27011, 'chefsforflorida': 27012, 'ankl': 27013, 'nbaplayoff': 27014, 'neuromuscular': 27015, 'psw': 27016, 'zuck': 27017, 'zuckerberg': 27018, 'myasthenia': 27019, 'myastheniagravi': 27020, 'weightlossplan': 27021, 'skinnyfat': 27022, 'foodsofindia': 27023, 'deg': 27024, 'justeatuk': 27025, 'panini': 27026, 'coach___amanda': 27027, 'eeeeeat': 27028, 'hungov': 27029, 'julyth': 27030, 'viewsandattitud': 27031, 'fastandupfitsquad': 27032, 'fastandupindia': 27033, 'smothi': 27034, 'veggieshealth': 27035, 'eucodeofconduct': 27036, 'skyriakideseu': 27037, 'musclefit': 27038, 'brusselsprout': 27039, 'jokesandoutdoor': 27040, 'mentaltreadmil': 27041, 'thiswasdelici': 27042, 'julythweekend': 27043, 'thofjulyweekend': 27044, 'dietaryfat': 27045, 'dietbook': 27046, 'dietfad': 27047, 'endocrinolog': 27048, 'fatchanc': 27049, 'appleturnoverday': 27050, 'muchbut': 27051, 'hisandhersjuic': 27052, 'previous': 27053, 'rawsport': 27054, 'wedocar': 27055, 'ldlcholesterol': 27056, 'amulprideofindia': 27057, 'indiedev': 27058, 'indiegam': 27059, 'maa': 27060, 'xboxseriesx': 27061, 'bbk': 27062, 'captainamerica': 27063, 'exo': 27064, 'tdg_trek': 27065, 'karina': 27066, 'wearemitu': 27067, 'facebookindia': 27068, 'drjocker': 27069, 'jocker': 27070, 'ketomediterranean': 27071, 'indoethiopian': 27072, 'rue': 27073, 'நலலககயன': 27074, 'foer': 27075, 'jonathan': 27076, 'sofran': 27077, 'bermuda': 27078, 'அரகமபல': 27079, 'சற': 27080, 'fromdsei': 27081, 'stablemind': 27082, 'stayhealthydsei': 27083, 'aajta': 27084, 'happybirthdaynkr': 27085, 'helplin': 27086, 'humstyleaward': 27087, 'kalyanram': 27088, 'lic': 27089, 'sbi': 27090, 'vicco': 27091, 'wake_up_wbpsc': 27092, '방탄소년단': 27093, '엑소디오': 27094, 'familystyl': 27095, 'johnnaescobar': 27096, 'expoeurop': 27097, 'septemberpari': 27098, 'chefkunalkapur': 27099, 'i_am_ankush_': 27100, 'rasoidil': 27101, 'rasoidils': 27102, 'sales_manoj': 27103, 'thevikaskhanna': 27104, 'youtubepremiumราคาถก': 27105, 'ytcreatorsindia': 27106, 'bch': 27107, 'bitcoinwid': 27108, 'ltc': 27109, 'mayan': 27110, 'merida': 27111, 'gtgthttpstcoujvkwlet': 27112, 'bellydietplan': 27113, 'agchatoz': 27114, 'chaotic': 27115, 'chefcur': 27116, 'chefspeci': 27117, 'crispyfri': 27118, 'crispyfriedchicken': 27119, 'crispyfrymix': 27120, 'readytocook': 27121, 'readytocookfood': 27122, 'lsulforaphan': 27123, 'cholesterolfreefood': 27124, 'helthcar': 27125, 'helthylif': 27126, 'medicaltour': 27127, 'somaticalli': 27128, 'tophealthcareinworld': 27129, 'whohealth': 27130, 'whohealthtopiclist': 27131, 'batatavada': 27132, 'nellydrab': 27133, 'piglet': 27134, 'gooder': 27135, 'nobel': 27136, 'parentscoz': 27137, 'banglyphos': 27138, 'parkland': 27139, 'thofjuli': 27140, 'abrahamlincoln': 27141, 'gara': 27142, 'prakriti': 27143, 'visha': 27144, 'compot': 27145, 'fruitslovetoeat': 27146, 'gruyér': 27147, 'greekstyl': 27148, 'jessegrirfith': 27149, 'spotifypodcast': 27150, 'thejoeroganexperi': 27151, 'charlatan': 27152, 'qualif': 27153, 'toothiologist': 27154, 'dod': 27155, 'industrialfood': 27156, 'waderocksgam': 27157, 'weetibix': 27158, 'yummybreakfastgam': 27159, 'circulatori': 27160, 'thecreativedesignart': 27161, 'demandezmoi': 27162, 'détox': 27163, 'légume': 27164, 'mangez': 27165, 'pourquoi': 27166, 'probiothttpstcouqyqbencz': 27167, 'programme_minceur': 27168, 'bicyclist': 27169, 'these': 27170, 'footballscominghom': 27171, 'nesquik': 27172, 'teamnesquik': 27173, 'pcmc': 27174, 'enslav': 27175, 'friendless': 27176, 'remembr': 27177, 'vanburen': 27178, 'regularexercis': 27179, 'metoo': 27180, 'avocadobananayogurt': 27181, 'juicewat': 27182, 'liveclean': 27183, 'moringaoil': 27184, 'coland': 27185, 'rins': 27186, 'carnivore_styl': 27187, 'deputypm_canada': 27188, 'herbalifejamaica': 27189, 'manger': 27190, 'montag': 27191, 'nourritur': 27192, 'economist': 27193, 'foodbeveragerank': 27194, 'malleret': 27195, 'thierri': 27196, 'wellnesshospit': 27197, 'synagogu': 27198, 'applefruit': 27199, 'appletre': 27200, 'bunchofappl': 27201, 'fruitbowl': 27202, 'fruitphotographi': 27203, 'veganweightloss': 27204, 'thorn': 27205, 'superwe': 27206, 'weedlif': 27207, 'nationaleatyourbeansday': 27208, 'lemontea': 27209, 'ட': 27210, 'லமன': 27211, 'ottawa': 27212, 'ottciti': 27213, 'ottnew': 27214, 'goldenmilk': 27215, 'multilay': 27216, 'palestinian': 27217, 'upa': 27218, 'upaconnect': 27219, 'clovesi': 27220, 'eugenol': 27221, 'bsant': 27222, 'godairyfre': 27223, 'tamaleonlin': 27224, 'autosom': 27225, 'childhoodfoodlifestylehealth': 27226, 'cobalamin': 27227, 'imerslundgrasbeck': 27228, 'malabsorpt': 27229, 'megaloblast': 27230, 'recess': 27231, 'fatten': 27232, 'mythbreak': 27233, 'motivação': 27234, 'mentalhealthawarenessmonth': 27235, 'doriskhumiccom': 27236, 'fulvic': 27237, 'hanf': 27238, 'karott': 27239, 'komplett': 27240, 'myweedo': 27241, 'rezept': 27242, 'salat': 27243, 'weedo': 27244, 'assert': 27245, 'flaw': 27246, 'livingjeweljin': 27247, 'mnc': 27248, 'mncchannel': 27249, 'mncplay': 27250, 'playbox': 27251, 'visionpicturesid': 27252, 'visionplu': 27253, 'lifestyleampfashionchannel': 27254, 'mncpay': 27255, 'mncvision': 27256, 'eufarm': 27257, 'callmydoctor': 27258, 'instantappoint': 27259, 'breach': 27260, 'newsouthwal': 27261, 'nswpolic': 27262, 'veganchicken': 27263, 'vegcapit': 27264, 'vfc': 27265, 'vfcfood': 27266, 'morehttpstcojonmnxczj': 27267, 'zs': 27268, 'zsassoci': 27269, 'firework': 27270, 'fourthofjuli': 27271, 'happythofjuli': 27272, 'happyusaindependenceday': 27273, 'hostasthi': 27274, 'rdntip': 27275, 'rdtip': 27276, 'urui': 27277, 'victorygarden': 27278, 'dietingtip': 27279, 'easkm': 27280, 'gauravkumar': 27281, 'plantaltern': 27282, 'revitaa': 27283, 'declici': 27284, 'kiwiartichokescherri': 27285, 'rawmeal': 27286, 'tomatosblackberriesand': 27287, 'veganglutenfre': 27288, 'vegatarian': 27289, 'calorierich': 27290, 'buynow': 27291, 'dopur': 27292, 'undevelop': 27293, 'resolvingdiseas': 27294, 'rootcaus': 27295, 'saltblock': 27296, 'viabl': 27297, 'skinnytast': 27298, 'bariatricsurgeri': 27299, 'chocolati': 27300, 'captiv': 27301, 'pragati': 27302, 'eighti': 27303, 'henni': 27304, 'nationalanisetteday': 27305, 'youngman': 27306, 'எரமபபலன': 27307, 'malabari': 27308, 'mambazam': 27309, 'morkootan': 27310, 'nizam': 27311, 'seafoodcuisin': 27312, 'southindianfood': 27313, 'tumour': 27314, 'cram': 27315, 'multicolour': 27316, 'resatur': 27317, 'suncoast': 27318, 'winonnajudd': 27319, 'cruellyproduc': 27320, 'unawar': 27321, 'simoneholz': 27322, 'foodladd': 27323, 'socent': 27324, 'socimp': 27325, 'stophung': 27326, 'cheeseonion': 27327, 'cheesiest': 27328, 'tint': 27329, 'yuzu': 27330, 'transformativechang': 27331, 'climatedisast': 27332, 'dwallacewel': 27333, 'fireseason': 27334, 'fibrou': 27335, 'glucosemonitor': 27336, 'bloodvessel': 27337, 'nutritionhttpstcovppeltph': 27338, 'usanalifestyl': 27339, 'starchi': 27340, 'iriecougheeshop': 27341, 'daytrad': 27342, 'forextrad': 27343, 'stockmarketnew': 27344, 'stocktrad': 27345, 'trader': 27346, 'wallstreet': 27347, 'abel': 27348, 'abeljam': 27349, 'fatburningman': 27350, 'rebelfriend': 27351, 'fbendisch': 27352, 'l_mon': 27353, 'liorbarhai': 27354, 'meitalstavinski': 27355, 'springtim': 27356, 'stinki': 27357, 'kiltz': 27358, 'life_styl': 27359, 'healthybrandman': 27360, 'mushroomcup': 27361, 'thedrinktank': 27362, 'apr': 27363, 'ssubscript': 27364, 'catalyz': 27365, 'epitom': 27366, 'ansambl': 27367, 'dotlgbt': 27368, 'punctuat': 27369, 'stink': 27370, 'scd': 27371, 'anex': 27372, 'healthykrav': 27373, 'lemongrass': 27374, 'lemongrasstea': 27375, 'beforesleep': 27376, 'enquiri': 27377, 'நவல': 27378, 'abuj': 27379, 'fmcgproduct': 27380, 'fmch': 27381, 'portharcourt': 27382, 'fastlern': 27383, 'theintercept': 27384, 'adulthoodsocieti': 27385, 'justblendingin': 27386, 'macquari': 27387, 'facebookl': 27388, 'pangramc': 27389, 'maintenanceindia': 27390, 'spicesthem': 27391, 'almondmilk': 27392, 'healthytreat': 27393, 'proteinicecream': 27394, 'veganicecream': 27395, 'vegantreat': 27396, 'foodintrain': 27397, 'onlinefoodintrain': 27398, 'bling': 27399, 'responsiblysourc': 27400, 'veganopt': 27401, 'glanc': 27402, 'foray': 27403, 'frenchyogurt': 27404, 'heatneat': 27405, 'heritagefood': 27406, 'mamieyova': 27407, 'omnichanneldistribut': 27408, 'tikkapan': 27409, 'eggi': 27410, 'goodfory': 27411, 'steweegg': 27412, 'superegg': 27413, 'hollow': 27414, 'scotch': 27415, 'tastingspoon': 27416, 'coldpressedflour': 27417, 'faridabad': 27418, 'freehomedeliveri': 27419, 'haathkichakki': 27420, 'naturalfoodprocess': 27421, 'nopreserv': 27422, 'sattvicgrain': 27423, 'thebestflour': 27424, 'timetochang': 27425, 'usd': 27426, 'edison': 27427, 'beautyhair': 27428, 'skimmilk': 27429, 'skinloveskinlov': 27430, 'cordycep': 27431, 'thursdaytrip': 27432, 'colah': 27433, 'penalti': 27434, 'pin': 27435, 'chilligarl': 27436, 'spiciest': 27437, 'functioninterest': 27438, 'albertoemachado': 27439, 'bimedotcom': 27440, 'evasmartai': 27441, 'isglobalorg': 27442, 'mdrechsler': 27443, 'miriamasensi': 27444, 'nicochan': 27445, 'wbetter': 27446, 'whiteheartv': 27447, 'belikenikeandjustdoit': 27448, 'herbedbbq': 27449, 'globalgoalsun': 27450, 'reducedinequ': 27451, 'vp': 27452, 'nutricraft': 27453, 'academiclif': 27454, 'powerpoint': 27455, 'temporari': 27456, 'sugarsweeten': 27457, 'cambodia': 27458, 'covidkh': 27459, 'moy': 27460, 'imadethi': 27461, 'videojourn': 27462, 'iamalright': 27463, 'newearth': 27464, 'newera': 27465, 'jepper': 27466, 'nationalfreshfruitandvegetablesmonth': 27467, 'nationaljunemonth': 27468, 'occass': 27469, 'cmichaelgibson': 27470, 'drnasrien': 27471, 'cuilapa': 27472, 'guatemala': 27473, 'bandrug': 27474, 'dontmindbekind': 27475, 'sanatanadharma': 27476, 'humpdayhumor': 27477, 'communityservic': 27478, 'heartofmey': 27479, 'jra': 27480, 'meyergivesback': 27481, 'meyerinspir': 27482, 'kidsact': 27483, 'kidsweek': 27484, 'jyotib': 27485, 'systemicchang': 27486, 'victoriatopham': 27487, 'easytoscan': 27488, 'duls': 27489, 'kombu': 27490, 'seamossgel': 27491, 'panach': 27492, 'actoncool': 27493, 'aeee_india': 27494, 'overprocess': 27495, 'fica': 27496, 'gostosa': 27497, 'madrugada': 27498, 'parec': 27499, 'nojunkfood_stayhealthi': 27500, 'sneaki': 27501, 'pridemonth': 27502, 'wednesdayweight': 27503, 'banosehatmannd': 27504, 'mannmahatva': 27505, 'mindmatt': 27506, 'nidhipundhir': 27507, 'partneringforchang': 27508, 'safewat': 27509, 'selfasses': 27510, 'yearsofhclf': 27511, 'superbe': 27512, 'wabt': 27513, 'vitalitymuscl': 27514, 'manga': 27515, 'மமபழததன': 27516, 'lennonreturn': 27517, 'theextractuk': 27518, 'sixth': 27519, 'teas': 27520, 'crostoli': 27521, 'togethertastesbett': 27522, 'altroconsumo': 27523, 'condemn': 27524, 'euroconsum': 27525, 'raidu': 27526, 'vitaday': 27527, 'lawandnaturedialogu': 27528, 'morgera': 27529, 'healthmotiv': 27530, 'fantasi': 27531, 'bourbonweek': 27532, 'beyourbest': 27533, 'yourtim': 27534, 'nicois': 27535, 'ovoveggi': 27536, 'zing': 27537, 'cucumbersandwich': 27538, 'restoreoldpens': 27539, 'socialmediaday': 27540, 'thegreatboschgiveaway': 27541, 'plantherer': 27542, 'aceboogieebmw': 27543, 'ashantiaiken': 27544, 'houseofaiken': 27545, 'louisfarrakhan': 27546, 'healthsaarthi': 27547, 'homeopath': 27548, 'livesci': 27549, 'sciencedaili': 27550, 'milesthey': 27551, 'wednesdaywalk': 27552, 'newsvhdm': 27553, 'satvikaahar': 27554, 'yog': 27555, 'इमयन': 27556, 'जरर': 27557, 'नयटरशन': 27558, 'वल': 27559, 'ससटम': 27560, 'padmasre': 27561, 'whatyouar': 27562, 'diseaseresist': 27563, 'immunityenhanc': 27564, 'chinesemedicin': 27565, 'supplant': 27566, 'animetwt': 27567, 'dbz': 27568, 'nevertheless': 27569, 'sayian': 27570, 'ecast': 27571, 'ja': 27572, 'realoverrich': 27573, 'اطباق': 27574, 'الفجل': 27575, 'تعرفون': 27576, 'خضار': 27577, 'سلطة': 27578, 'صحة': 27579, 'طعام': 27580, 'فجل': 27581, 'كم': 27582, 'نبات': 27583, 'نباتات': 27584, 'نوعا': 27585, 'bgr': 27586, 'bao': 27587, 'mantou': 27588, '馒头': 27589, 'goodnutrit': 27590, 'healthyjamaican': 27591, 'healthypeopl': 27592, 'hertsfarmerthink': 27593, 'whitehous': 27594, 'arecomplet': 27595, 'barnyardmillet': 27596, 'littlemillet': 27597, 'saamai': 27598, 'moodboost': 27599, 'moodoftheday': 27600, 'sta': 27601, 'adrianvl': 27602, 'criticis': 27603, 'dysphagia_manag': 27604, 'cougheeshop': 27605, 'gutbrain': 27606, 'unnecessari': 27607, 'complexwal': 27608, 'noelito': 27609, 'ch': 27610, 'houmou': 27611, 'speddingcharli': 27612, 'stacymalkan': 27613, 'foodvlogg': 27614, 'doyoungweneedeachoth': 27615, 'engger': 27616, 'eunseo': 27617, 'kazuha': 27618, 'onew': 27619, 'seulgi': 27620, '달페이스junecoupdreadfulcovidamidmilitarycoup': 27621, 'fullbodi': 27622, 'eoe': 27623, 'eosinophil': 27624, 'esophag': 27625, 'twitchstream': 27626, 'pmpmagtoday': 27627, 'poorer': 27628, 'postbrexit': 27629, 'creditcard': 27630, 'een': 27631, 'graag': 27632, 'maritimepollut': 27633, 'opeten': 27634, 'whod': 27635, 'willingli': 27636, 'zou': 27637, 'srivastav': 27638, 'thefoodie_dietit': 27639, 'vriti': 27640, 'brinjal': 27641, 'nonstop': 27642, 'handdryer': 27643, 'mediclin': 27644, 'mediclinics_sa': 27645, 'strictest': 27646, 'un_nutrit': 27647, 'reducedrink': 27648, 'enhttpstcoeniroqgyib': 27649, 'lamaletademaggi': 27650, 'paraguaya': 27651, 'nutritionalsustain': 27652, 'lightwork': 27653, 'healthspecialist': 27654, 'salubrityclin': 27655, 'saurabh': 27656, 'sinha': 27657, 'knodel': 27658, 'nutel': 27659, 'nutrhttpstcokdtxzui': 27660, 'northyorkshir': 27661, 'selbi': 27662, 'blanket': 27663, 'malawi': 27664, 'discern': 27665, 'behaviourchang': 27666, 'foodmattersl': 27667, 'gulbanukaptan': 27668, 'jamiecrummi': 27669, 'rickschifferstein': 27670, 'ylva_haglund': 27671, 'ovovegetarian': 27672, 'infoshakonlinecouk': 27673, 'kilburn': 27674, 'doingourpart': 27675, 'wearecommit': 27676, 'blacktown': 27677, 'blacktowncitycouncil': 27678, 'doonsid': 27679, 'hillend': 27680, 'advert': 27681, 'besthomeopathinahmedabad': 27682, 'besthomeopathingujarat': 27683, 'drmunjalthakar': 27684, 'homoeopathi': 27685, 'homoeopathygujarat': 27686, 'interactingar': 27687, 'naturaltherapi': 27688, 'confidenti': 27689, 'confidenttuesday': 27690, 'amyloidbeta': 27691, 'neurofibrillari': 27692, 'tangl': 27693, 'amritsar': 27694, 'amritsari': 27695, 'amritsarifood': 27696, 'isrgkb': 27697, 'arksurvivalsurplu': 27698, 'divinebynatur': 27699, 'healthbeauti': 27700, 'nutritiondiet': 27701, 'sitetempl': 27702, 'cognitivefunct': 27703, 'afterparti': 27704, 'mamav': 27705, 'seltzer': 27706, 'spritzer': 27707, 'iniciamo': 27708, 'julio': 27709, 'nuevo': 27710, 'reto': 27711, 'vien': 27712, 'articleblogpost': 27713, 'hispanic_feder': 27714, 'houstonchron': 27715, 'roxannesukolmd': 27716, 'vumedi': 27717, 'hunk': 27718, 'ranch': 27719, 'publicgood': 27720, 'wherefoodcomesfrom': 27721, 'dannon': 27722, 'artphotographi': 27723, 'bbcfood': 27724, 'menshealthstyl': 27725, 'menshealthuk': 27726, 'timeoutart': 27727, 'herbi': 27728, 'javad': 27729, 'nangsetsang': 27730, 'tashi': 27731, 'thezoomertv': 27732, 'visiontv': 27733, 'daysofmov': 27734, 'thomasdelau': 27735, 'fleme': 27736, 'ilfornello': 27737, 'margiecook': 27738, 'mgr': 27739, 'shaunalindzonrd': 27740, 'thezoom': 27741, 'allud': 27742, 'cryolipolysi': 27743, 'methodolog': 27744, 'noncar': 27745, 'ordinarili': 27746, 'kuwait': 27747, 'luxurypremium': 27748, 'negin': 27749, 'existtrib': 27750, 'yogapod': 27751, 'yogasleepnod': 27752, 'tinctur': 27753, 'paulkagam': 27754, 'alexandroupoli': 27755, 'algecira': 27756, 'carlow': 27757, 'rurban': 27758, 'deoil': 27759, 'deoiledlecithin': 27760, 'stan': 27761, 'nationaltapiocaday': 27762, 'onlinemarketingtopeur': 27763, 'coachchandl': 27764, 'thrivenowwel': 27765, 'wellnessadvoc': 27766, 'wellnesslifestyl': 27767, 'jaw': 27768, 'mondaymeat': 27769, 'nutrientsthi': 27770, 'nutritionaldiet': 27771, 'cookprepar': 27772, 'dailyamp': 27773, 'watereat': 27774, 'bookmark': 27775, 'flavorresearch': 27776, 'flavourresearch': 27777, 'giract': 27778, 'givaudan': 27779, 'kikkomanuk': 27780, 'lesaffre_group': 27781, 'phdaward': 27782, 'nationalhydrationday': 27783, 'stiritupmag': 27784, 'coruña': 27785, 'urbact_it': 27786, 'keyston': 27787, 'profoundli': 27788, 'postop': 27789, 'tarragon': 27790, 'groovi': 27791, 'thoughtprovok': 27792, 'unspecif': 27793, 'fandbrecip': 27794, 'antiquarian': 27795, 'bhfypp': 27796, 'greenpow': 27797, 'androbliz': 27798, 'official_okenwa': 27799, 'researchpap': 27800, 'multispecialityclin': 27801, 'dietstyl': 27802, 'pacificisland': 27803, 'spc_cp': 27804, 'anxio': 27805, 'tulleken': 27806, 'wk': 27807, 'bomaderri': 27808, 'shoalhaven': 27809, 'shoalhavencitycouncil': 27810, 'mondaymus': 27811, 'covilliorgan': 27812, 'infinityorganicfood': 27813, 'organicfoodstor': 27814, 'pounds_read': 27815, 'followthesil': 27816, 'teamjustic': 27817, 'leahstok': 27818, 'elevens': 27819, 'milkthistlem': 27820, 'smarteat': 27821, 'smarthealth': 27822, 'lifestylechalleng': 27823, 'chilisisrotten': 27824, 'consumerprotect': 27825, 'deliverusfromevil': 27826, 'doordash_help': 27827, 'doordashimpact': 27828, 'ew': 27829, 'peopleoverprofit': 27830, 'shieldvoc': 27831, 't_xu': 27832, 'worstcustomerservic': 27833, 'hccvc': 27834, 'healthycaribbean': 27835, 'eatstrateg': 27836, 'easysummersalad': 27837, 'recipesforcook': 27838, 'sherrymcguinn': 27839, 'shortform': 27840, 'eatyou': 27841, 'freepalastin': 27842, 'germania': 27843, 'hitusup': 27844, 'irishfoodi': 27845, 'loosewomen': 27846, 'westcork': 27847, 'dimsumthink': 27848, 'mangot': 27849, 'masalaherb': 27850, 'matchajust': 27851, 'matchatea': 27852, 'springrol': 27853, 'springrollsusa': 27854, 'sundayand': 27855, 'teadrunknyc': 27856, 'ucc': 27857, 'linktree_': 27858, 'artificialflavor': 27859, 'osteoporos': 27860, 'samosachahiy': 27861, 'jaisi': 27862, 'bloggerbuddi': 27863, 'nutrivolutionsit': 27864, 'ruha': 27865, 'chartwel': 27866, 'chartwellsh': 27867, 'compassgroupusa': 27868, 'lastgasppm': 27869, 'mcclenaghan': 27870, 'blakemor': 27871, 'compassgroupuk': 27872, 'heathlyeat': 27873, 'lisamceuen': 27874, 'pleaser': 27875, 'instagramreel': 27876, 'instareel': 27877, 'make_repost': 27878, 'reelsofinstagram': 27879, 'galleri': 27880, 'propheticart': 27881, 'wallart': 27882, 'आल': 27883, 'बखर': 27884, 'बमसल': 27885, 'gomantk': 27886, 'preganc': 27887, 'pregnantwomen': 27888, 'आहरयत': 27889, 'गरभधरण': 27890, 'सबध': 27891, 'menlu_ri': 27892, 'moral': 27893, 'rolemodel': 27894, '𓆉': 27895, '𝐁𝐚𝐧𝐚𝐧𝐚': 27896, '𝐏𝐁': 27897, '𝐓𝐨𝐚𝐬𝐭': 27898, 'gabrysch': 27899, 'iemseminar': 27900, 'pik_klima': 27901, 'prescott': 27902, 'promin': 27903, 'sabin': 27904, 'susan': 27905, 'happybirthdayariana': 27906, 'sweethom': 27907, 'fingerprintp': 27908, 'sought': 27909, 'swapna': 27910, 'dhruvwebdevseo': 27911, 'evolutionaryeat': 27912, 'fame': 27913, 'paraphras': 27914, 'webster': 27915, 'gayathrideviclin': 27916, 'gdclinic': 27917, 'healtylif': 27918, 'hypotens': 27919, 'rajarajeshwarinagar': 27920, 'codecheck_info': 27921, 'gabriel': 27922, 'ottino': 27923, 'cottagecor': 27924, '𝘕𝘰𝘶𝘳𝘪𝘴𝘩': 27925, '𝘣𝘰𝘸𝘭': 27926, 'hellofreshuk': 27927, 'panzanella': 27928, 'selfpromosaturday': 27929, 'supers': 27930, 'subwaytuna': 27931, 'wpi': 27932, 'eatingrel': 27933, 'aimandconqu': 27934, 'avvanosh': 27935, 'intrafast': 27936, 'rumbl': 27937, 'shuttl': 27938, 'enlarg': 27939, 'ashgourd': 27940, 'ashgourdjuic': 27941, 'dietfriendli': 27942, 'natureisstressedoutbyhuman': 27943, 'lipman': 27944, 'sewag': 27945, 'untreat': 27946, 'wastewat': 27947, 'wastewatertreat': 27948, 'watertreat': 27949, 'familymedicineprofession': 27950, 'lonestarfamilyhealthcent': 27951, 'lsfhc': 27952, 'medicaid': 27953, 'comeback': 27954, 'conciou': 27955, 'conciouscomeback': 27956, 'letsgettravel': 27957, 'rhythm': 27958, 'worldtourismindustri': 27959, 'இலயன': 27960, 'கததமலல': 27961, 'bmz_bund': 27962, 'ethiohrc': 27963, 'gerembaddi': 27964, 'humanrightsdk': 27965, 'johnhknox': 27966, 'srenviron': 27967, 'khakhra': 27968, 'खयल': 27969, 'दल': 27970, 'रख': 27971, 'apnakarachifm': 27972, 'artistactivistproducerwritervoic': 27973, 'artisthost': 27974, 'asmatauhe': 27975, 'printradio': 27976, 'econtwitt': 27977, 'theft': 27978, 'maillard': 27979, 'sciencemagazin': 27980, 'evergreenpost': 27981, 'nodivilleblogg': 27982, 'normalpoopcolor': 27983, 'stool': 27984, 'congratulatori': 27985, 'iccseoul': 27986, 'indiainrok': 27987, 'trivedi_sonu': 27988, 'wonkwangdigitalunivers': 27989, 'yogaforal': 27990, 'girla': 27991, 'पळबददल': 27992, 'मसक': 27993, 'cannabiscommunit': 27994, 'chainlinkgod': 27995, 'chuckapevil': 27996, 'brainpoweromega': 27997, 'usccb': 27998, 'ccharitiesusa': 27999, '_chris_brown': 28000, 'fib': 28001, 'jerrydeluca': 28002, 'bhajan': 28003, 'bhakthigroup': 28004, 'devinegroup': 28005, 'freeastrologyconsult': 28006, 'gettogeth': 28007, 'mentalpeac': 28008, 'spiritualgroup': 28009, 'savethechildren': 28010, 'khanaintrain': 28011, 'northindianthali': 28012, 'dinneridea': 28013, 'chickenmarinad': 28014, 'fishmarinad': 28015, 'pepperi': 28016, 'endeavor': 28017, 'happinessdabba': 28018, 'saddleback': 28019, 'nonmemb': 28020, 'behealth': 28021, 'realtalk': 28022, 'pain_no': 28023, 'brandolf': 28024, 'postpon': 28025, 'andvic': 28026, 'baloney': 28027, 'versa': 28028, 'ganoderma': 28029, '_biomega': 28030, 'bergstrommsm': 28031, 'cv_scienc': 28032, 'verduresci': 28033, 'amitkumar_jtt': 28034, 'wejointogether_': 28035, 'nightshad': 28036, 'epilogu': 28037, 'rawlifestyl': 28038, 'behrouzbiryani': 28039, 'eatsur': 28040, 'eatsureapp': 28041, 'foodapp': 28042, 'foodcourt': 28043, 'onlineord': 28044, 'tvad': 28045, 'coop': 28046, 'obesitycrisi': 28047, 'spent': 28048, 'distinguish': 28049, 'aseeem': 28050, 'malhotra': 28051, 'am_buffalo': 28052, 'ambuffalo': 28053, 'wkbw': 28054, 'belowwer': 28055, 'curryleaf': 28056, 'கறவபபலயன': 28057, 'locallygrown': 28058, 'rdindia': 28059, 'readersdigestindia': 28060, 'sumiakt': 28061, 'postcard': 28062, 'cannabiscommuni': 28063, 'neom': 28064, 'lynnthoman': 28065, 'matinasbio': 28066, 'danoneri': 28067, 'sciencearoundthegut': 28068, 'clictoprint': 28069, 'foregt': 28070, 'postiv': 28071, 'printer': 28072, 'safnhealthylif': 28073, 'nicefriday': 28074, 'stupidest': 28075, 'vgpatisseri': 28076, 'growthhack': 28077, 'marketingtip': 28078, 'donutinventor': 28079, 'internationalseafarersday': 28080, 'lovedonut': 28081, 'ronandron': 28082, 'ronrons_ind': 28083, 'seafarerslif': 28084, 'loadedbear': 28085, 'loadedbear_ind': 28086, 'bhanbamastar': 28087, 'cowsh': 28088, 'harileela': 28089, 'fridayfact': 28090, 'support_u': 28091, 'जररत': 28092, 'मनद': 28093, 'शकषत': 28094, 'सहयग': 28095, 'inund': 28096, 'ashleigh': 28097, 'nationalstrawberryparfaitday': 28098, 'cumberland': 28099, 'healthcanadafail': 28100, 'rod': 28101, 'mfp': 28102, 'bodyhack': 28103, 'scishow': 28104, 'smartvideo': 28105, 'magnet': 28106, 'globalist': 28107, 'jerkygun': 28108, '𝘢𝘳𝘦': 28109, 'dieteticsstud': 28110, 'azucarada': 28111, 'bebida': 28112, 'demanda': 28113, 'impuesto': 28114, 'sodatax': 28115, 'medico': 28116, 'migran': 28117, 'covidemergencyindia': 28118, 'punekar': 28119, 'juneteenth': 28120, 'junteenthcelebr': 28121, 'slaveri': 28122, 'arunachalpradesh': 28123, 'breakvishwakitchenbhubaneswar': 28124, 'deomali': 28125, 'digboi': 28126, 'helthyfood': 28127, 'odiafoodblogg': 28128, 'odiainstagram': 28129, 'tinsukia': 28130, 'vishwakitchenbhubaneswar': 28131, 'vkb': 28132, 'beautylifestyl': 28133, 'ketoweightloss': 28134, 'macnchees': 28135, 'rpurepasta': 28136, 'electricvehicl': 28137, 'thursdaytreat': 28138, 'ishayoga': 28139, 'covidemerg': 28140, 'sassoon': 28141, 'howmuchistoomuch': 28142, 'knowyournumb': 28143, 'nhweek': 28144, 'nutritionandhydrationweek': 28145, 'fu': 28146, 'dop': 28147, 'govuk': 28148, 'mall': 28149, 'carrierhvac': 28150, 'hlde': 28151, 'worldbank': 28152, 'acoruña': 28153, 'efua_eu': 28154, 'fusilli_project': 28155, 'ru_rban': 28156, 'urbanresili': 28157, 'acspressroom': 28158, 'amdiabetesassn': 28159, 'biochemsoc': 28160, 'sebiolog': 28161, 'mcd': 28162, 'mcdmalaysia': 28163, 'bgsulincoln': 28164, 'food_lincoln': 28165, 'foodpolicyc': 28166, 'lincolnsu': 28167, 'sartorialfoodi': 28168, 'uoldocschool': 28169, 'farmersprid': 28170, 'organifood': 28171, 'amlamurabba': 28172, 'benefitsofamlamurabba': 28173, 'murabba': 28174, 'nex': 28175, 'nex_int': 28176, 'fitindiaoff': 28177, 'अनसर': 28178, 'गत': 28179, 'परयपत': 28180, 'बढन': 28181, 'बहर': 28182, 'यद': 28183, 'सफरश': 28184, 'हदय': 28185, 'loadedbearsalad': 28186, 'saladbowl': 28187, 'saladsofinstagram': 28188, 'familyfun': 28189, 'internationalyogaday': 28190, 'kcalcontrol': 28191, 'menshealthweek': 28192, 'attari': 28193, 'cwfphilli': 28194, 'emporioverd': 28195, 'lombri': 28196, 'yummymeheshin': 28197, 'diabeti': 28198, 'jt': 28199, 'rubbish': 28200, 'vitay': 28201, 'gymfood': 28202, 'levant': 28203, 'marketbasket': 28204, 'tahina': 28205, 'healthinyourhand': 28206, 'hopper': 28207, 'tomhopp': 28208, 'viom': 28209, 'vri': 28210, 'costofliv': 28211, 'mailonlin': 28212, 'nydiavelazquez': 28213, 'plantbasedclim': 28214, 'schoolsfocus': 28215, 'iitbhubaneswar': 28216, 'kiitunivers': 28217, 'mori': 28218, 'neatur': 28219, 'soaunivers': 28220, 'ahei': 28221, 'aquariu': 28222, 'boxd': 28223, 'boxdhealthuk': 28224, 'capricorn': 28225, 'libra': 28226, 'starsign': 28227, 'tauru': 28228, 'concis': 28229, 'insulinal': 28230, 'mazur': 28231, 'rick': 28232, 'biomed': 28233, 'cleantech': 28234, 'launch_ni': 28235, 'launchhour': 28236, 'workplacesafeti': 28237, 'biocontrolbreakthrough': 28238, 'dayjoin': 28239, 'hulot_jf': 28240, 'ibma': 28241, 'ieep': 28242, 'ieep_eu': 28243, 'spectrumwhi': 28244, 'erieri': 28245, 'ethiopianamerican': 28246, 'habesha': 28247, 'liyu': 28248, 'wirdaw': 28249, 'wuha': 28250, 'yirdaw': 28251, 'baseadher': 28252, 'bladder': 28253, 'gall': 28254, 'mobeast': 28255, 'bites': 28256, 'nationalpecansandiesday': 28257, 'sandra': 28258, 'bissex': 28259, 'janic': 28260, 'janicebissex': 28261, 'practiction': 28262, 'உரளககழஙகன': 28263, 'biom': 28264, 'gotcont': 28265, 'mihealthsummit': 28266, 'milken': 28267, 'milkeninstitut': 28268, 'eurocup': 28269, 'ronaldo': 28270, 'booksandboba': 28271, 'kniveschef': 28272, 'rfunivers': 28273, 'choconana': 28274, 'fruitvegetablepowd': 28275, 'healthlifestyl': 28276, 'herbalextractpowd': 28277, 'naturalingredi': 28278, 'cienciaurv': 28279, 'brainfit': 28280, 'cohort': 28281, 'habitatdegrad': 28282, 'barssuppl': 28283, 'supplemetbar': 28284, 'streptococcu': 28285, 'ludhiana': 28286, 'spshospit': 28287, 'wednesdayworkout': 28288, 'bloodtypeo': 28289, 'chaiwai': 28290, 'influenti': 28291, 'swiftnlift': 28292, 'swiftnliftmagazin': 28293, 'vaai': 28294, 'visithttpstcorvzeyoscj': 28295, 'primed': 28296, 'primeday': 28297, 'foodparcel': 28298, 'travelerfood': 28299, 'glp': 28300, 'gprotein': 28301, 'pulp': 28302, 'exceris': 28303, 'purg': 28304, 'tuesdaytalk': 28305, 'delgadoprotocol': 28306, 'rawfish': 28307, 'puppet': 28308, 'digitalchamb': 28309, 'techcrunch': 28310, 'kendra': 28311, 'sbk': 28312, 'swasth': 28313, 'éclair': 28314, 'waitlist': 28315, 'jongun': 28316, 'northkorea': 28317, 'restday': 28318, 'printservic': 28319, 'wordporn': 28320, 'quickmdcar': 28321, 'grootswag': 28322, 'lind': 28323, 'prij': 28324, 'rijnaart': 28325, 'basavanna': 28326, 'healthylifesty': 28327, 'kiru': 28328, 'mahesh': 28329, 'orgtre': 28330, 'gitali': 28331, 'foodforearth': 28332, 'fathersday': 28333, 'uniform': 28334, 'finegrain': 28335, 'velveti': 28336, 'waterhold': 28337, 'wellmarbl': 28338, 'வஙகயததன': 28339, 'evapor': 28340, 'food': 28341, 'mudga': 28342, 'mumbaimonsoon': 28343, 'ksla_academi': 28344, 'nordicfoodpol': 28345, 'slufuturefood': 28346, 'fought': 28347, 'nitrosamin': 28348, 'processedmeat': 28349, 'twoyear': 28350, 'irishtim': 28351, 'asylum': 28352, 'pakistani': 28353, 'psl': 28354, 'saif': 28355, 'switzerland': 28356, 'thetruthintern': 28357, 'topchef': 28358, 'colocasaia': 28359, 'lucia': 28360, 'outdoorpromo': 28361, 'dicoccum': 28362, 'christianoronaldo': 28363, 'cocacolaindia': 28364, 'cocacolamem': 28365, 'cocacolaronaldo': 28366, 'digitalindia': 28367, 'funnymem': 28368, 'milesweb': 28369, 'ronaldococacola': 28370, 'ronaldoeffect': 28371, 'ronaldomem': 28372, 'webhost': 28373, 'bordercrisi': 28374, 'foodcrisi': 28375, 'kimjongun': 28376, 'tens': 28377, 'fiveacrefarm': 28378, 'tfsundaymarket': 28379, 'tobacco_factori': 28380, 'bloodgroup': 28381, 'neutron': 28382, 'craveabl': 28383, 'petmilk': 28384, 'இலசசறன': 28385, 'பபபள': 28386, 'eel': 28387, 'tamago': 28388, 'yellowtail': 28389, 'cloutplatform': 28390, 'carboncredit': 28391, 'mcdemic': 28392, 'realusa': 28393, 'ussupremecourt': 28394, 'ayuda': 28395, 'digestivo': 28396, 'evacuación': 28397, 'fibra': 28398, 'hidratación': 28399, 'ingesta': 28400, 'má': 28401, 'permiten': 28402, 'proceso': 28403, 'también': 28404, 'canon': 28405, 'canonphotographi': 28406, 'strawberrypick': 28407, 'haunt': 28408, 'offput': 28409, 'abroad': 28410, 'procoach': 28411, 'diabetescampaign': 28412, 'diabetesstori': 28413, 'buzzfeednew': 28414, 'cherrybomb': 28415, 'zuccini': 28416, '𝑪𝒉𝒆𝒓𝒓𝒚': 28417, '𝑪𝒐𝒖𝒓𝒈𝒆𝒕𝒕𝒆': 28418, '𝑺𝒐𝒖𝒑': 28419, '𝑻𝒐𝒎𝒂𝒕𝒐': 28420, 'veganfestiv': 28421, 'daisa': 28422, 'policychang': 28423, 'produceprescript': 28424, 'wholesomewav': 28425, 'animalagcoverup': 28426, 'getthefact': 28427, 'abbeyskitchen': 28428, 'happybirthdaythalapathi': 28429, 'happybirthdaythalapathyvijay': 28430, 'thalapathi': 28431, 'thalapathyfirstlook': 28432, 'mrcabdriv': 28433, 'yasmin': 28434, 'yasmincook': 28435, 'yogaday': 28436, 'covidimpact': 28437, 'dayway': 28438, 'indialet': 28439, 'balancedlif': 28440, 'marmit': 28441, 'tarlik': 28442, 'instahealth': 28443, 'eathttpstcocqbizudsl': 28444, 'ingeni': 28445, 'annatto': 28446, 'botanicunivers': 28447, 'slightli': 28448, 'tastearoma': 28449, 'youngliv': 28450, 'linecaught': 28451, 'subwaymenu': 28452, 'vrk': 28453, 'vrkdiet': 28454, 'defeat': 28455, 'foodmood': 28456, 'healingpow': 28457, 'healthnois': 28458, 'medicalprofession': 28459, 'wellnessblog': 28460, 'mondaym': 28461, 'foofight': 28462, 'cristiano': 28463, 'cristianoronaldo': 28464, 'momentpromo': 28465, 'vyomatyourhom': 28466, 'vyomfit': 28467, 'kington': 28468, 'nationalpeachesncreamday': 28469, 'bloodsugarbal': 28470, 'eboocart': 28471, 'fatbelli': 28472, 'ahadzaidi': 28473, 'amarujalanew': 28474, 'anonymoushopefound': 28475, 'humanityfirst': 28476, 'livemint': 28477, 'nbtlucknow': 28478, 'soni': 28479, 'the_hindu': 28480, 'thewire_in': 28481, 'calciumtablet': 28482, 'தககளயன': 28483, 'chrishemsworth': 28484, 'mod': 28485, 'chickenflavour': 28486, 'alhudaydah': 28487, 'idpsneedhelpnowmorethanev': 28488, 'cisco': 28489, 'foodsystemstransform': 28490, 'npc_india_gov': 28491, 'webex': 28492, 'aahaar': 28493, 'abdaal': 28494, 'ananyadasia': 28495, 'cmccuttack': 28496, 'cuttack': 28497, 'cuttackdm': 28498, 'facilitiesal': 28499, 'pamelasatpathi': 28500, 'teamsilverc': 28501, 'tenur': 28502, 'wcdodisha': 28503, 'acnefre': 28504, 'brightskin': 28505, 'goatmilk': 28506, 'researchstudi': 28507, 'buildingmuscl': 28508, 'advicefind': 28509, 'mynew': 28510, 'abcbb': 28511, 'vitaminfit': 28512, 'creas': 28513, 'discolor': 28514, 'forourheart': 28515, 'yellowishorang': 28516, 'askusanyth': 28517, 'nutritionliveonlin': 28518, 'questionoftheweek': 28519, 'brightest': 28520, 'mondayquot': 28521, 'infact': 28522, 'nvr': 28523, 'oligofructos': 28524, 'attch': 28525, 'string': 28526, 'worldmus': 28527, 'worldmusicday': 28528, 'fricass': 28529, 'cheenikam': 28530, 'drnavhya': 28531, 'emotionalwel': 28532, 'knowma': 28533, 'relationshiphealth': 28534, 'thehappyhealthytrib': 28535, 'verygood': 28536, 'condens': 28537, 'eatdessertfirst': 28538, 'lowcaloriedessert': 28539, 'mochi': 28540, 'patbingsu': 28541, '팥빙수': 28542, 'uninindia': 28543, 'withrefuge': 28544, 'worldrefugeeday': 28545, 'fruitchutney': 28546, 'fruitpreserv': 28547, 'fruitsauc': 28548, 'kinkssunni': 28549, 'oversightdem': 28550, 'pelosi': 28551, 'toxicmet': 28552, 'angeleyez': 28553, 'bigal': 28554, 'eden_vox': 28555, 'fhlforkid': 28556, 'jennifersterri': 28557, 'ladydob': 28558, 'maegutz': 28559, 'marciadaughtr': 28560, 'paulmcclintock': 28561, 'stevenerick': 28562, 'brittne': 28563, 'griev': 28564, 'plantlif': 28565, 'covidorigin': 28566, 'usrighttoknow': 28567, 'aztec': 28568, 'sticksnsushi': 28569, 'sushilov': 28570, 'jangalajangwa': 28571, 'laclar': 28572, 'otter': 28573, 'edibleeast': 28574, 'chardpok': 28575, 'roasti': 28576, 'brocolicricket': 28577, 'lorca': 28578, 'murcia': 28579, 'padel': 28580, 'pattytxu': 28581, 'productoespañol': 28582, 'agroprotein': 28583, 'endus': 28584, 'sweetlov': 28585, 'mydoghasnonos': 28586, 'porkchop': 28587, 'morningweight': 28588, 'bhopal': 28589, 'coronahero': 28590, 'coronamem': 28591, 'indianew': 28592, 'jantacurfew': 28593, 'cornfield': 28594, 'cropcircl': 28595, 'justtooriski': 28596, 'ufo': 28597, 'jeddah': 28598, 'اكسبلور': 28599, 'الرياض': 28600, 'السعودية': 28601, 'تصويري': 28602, 'جدة': 28603, 'bench': 28604, 'slept': 28605, 'marilyn': 28606, 'monro': 28607, 'vanillamilkshak': 28608, 'thinklbn': 28609, 'atlantiat': 28610, 'businessposthq': 28611, 'powerpack': 28612, 'cevich': 28613, 'summerdish': 28614, 'mutat': 28615, 'thirdwavecovid': 28616, 'refugeestori': 28617, 'jennifergrebow': 28618, 'sbdhiman': 28619, 'doctorendr': 28620, 'gunther': 28621, 'infectionfre': 28622, 'imo': 28623, 'bellybe': 28624, 'bellybeesfood': 28625, 'coconutwaterbenefit': 28626, 'colombo': 28627, 'aarp': 28628, 'caravan': 28629, 'healthminist': 28630, 'palaszczuk': 28631, 'fishkillfarm': 28632, 'drcoopmd': 28633, 'hangingwithdrcoop': 28634, 'amenclin': 28635, 'brainfriendlydiet': 28636, 'recoverwis': 28637, 'recoveryisposs': 28638, 'sobercuri': 28639, 'soberlif': 28640, 'chefmichaelsfoodhack': 28641, 'ideo': 28642, 'joannekcheung': 28643, 'ode': 28644, 'susten': 28645, 'tim': 28646, 'yun': 28647, 'bewithyogabeathom': 28648, 'blessingsfornewlif': 28649, 'co_co_mo': 28650, 'drmuradpti': 28651, 'jobistan': 28652, 'mortalkombat': 28653, 'realgdt': 28654, 'burrow': 28655, 'calledtoserv': 28656, 'everychildcount': 28657, 'homa': 28658, 'leadingyoung': 28659, 'nyatwer': 28660, 'oyugi': 28661, 'ambulatori': 28662, 'geneticist': 28663, 'tum': 28664, 'foodsec': 28665, '𝙇𝙞𝙠𝙚': 28666, '𝙊𝙧𝙙𝙚𝙧': 28667, '𝙎𝙞𝙯𝙚': 28668, '𝙎𝙪𝙥𝙚𝙧': 28669, '𝙒𝙤𝙪𝙡𝙙': 28670, '𝙔𝙤𝙪': 28671, '𝙔𝙤𝙪𝙧': 28672, 'careerladd': 28673, 'cloudyski': 28674, 'fiberx': 28675, 'sharingiscar': 28676, 'chashmah': 28677, 'ooltah': 28678, 'taarak': 28679, 'nonveg': 28680, 'justicematt': 28681, 'commu': 28682, 'களனன': 28683, 'deliciousfruit': 28684, 'fruitbasket': 28685, 'instamood': 28686, 'premiumfruit': 28687, 'asansol': 28688, 'brotherhood': 28689, 'indiffer': 28690, 'nutritionalfact': 28691, 'boohootreat': 28692, 'happyfathersday': 28693, 'fitternotbett': 28694, 'tandoori': 28695, 'ugh': 28696, 'watercress': 28697, 'cutleri': 28698, 'ediblecutleri': 28699, 'reporthttpstcooilxymlfw': 28700, 'retriev': 28701, 'theamicablenutritionist': 28702, 'baconthecookbook': 28703, 'cutest': 28704, 'eatlikeagirl': 28705, 'fullofbeansltd': 28706, 'jkehoehealth': 28707, 'riacann': 28708, 'satcaff': 28709, 'jumla': 28710, 'karna': 28711, 'timilsina': 28712, 'travelgram': 28713, 'vdiabet': 28714, 'vdiabeticindia': 28715, 'victoryoverdiabet': 28716, 'olympian': 28717, 'popularli': 28718, 'sikhth': 28719, 'मलखसह': 28720, 'besttweetoftheday': 28721, 'consensu': 28722, 'keepitintheground': 28723, 'thoughtforfood': 28724, 'bmc': 28725, 'mumbaipolic': 28726, 'policebrut': 28727, 'washingtonunivers': 28728, 'turkish': 28729, 'dcm': 28730, 'sportsdevelopmemt': 28731, 'youthwork': 28732, 'flint': 28733, 'perdi': 28734, 'ghc': 28735, 'optimizehealth': 28736, 'ampthink': 28737, 'calld': 28738, 'mixd': 28739, 'slaughterd': 28740, 'wastd': 28741, 'healthiswealrh': 28742, 'partn': 28743, 'sustainablegastronomyday': 28744, 'mindsoul': 28745, 'freeish': 28746, 'healthmentalhealth': 28747, 'himherthem': 28748, 'referr': 28749, 'veteransinc': 28750, 'السكري': 28751, 'الصحة': 28752, 'جرعة_طبية': 28753, 'صحتك': 28754, 'لصحتك': 28755, 'bbnutrit': 28756, 'wwyb': 28757, 'dubaifoodi': 28758, 'thebestdoctor': 28759, 'markt': 28760, 'appeas': 28761, 'bodymetabol': 28762, 'healthyeatingweek': 28763, 'insercur': 28764, 'wendy_j_wil': 28765, 'wyfoodpoverti': 28766, 'wyhpartnership': 28767, 'சளததன': 28768, 'egghealth': 28769, 'eggitarian': 28770, 'eggmask': 28771, 'eggric': 28772, 'eggsoup': 28773, 'morehttpstcohgucdhpnx': 28774, 'ecosystemstodiscov': 28775, 'informurcia': 28776, 'investmentopportun': 28777, 'murciaclust': 28778, 'openinnov': 28779, 'soyjoaquingomez': 28780, 'foodstgram': 28781, 'munchbett': 28782, 'queensquinoa': 28783, 'quinoachip': 28784, 'quinoacrisp': 28785, 'quinoapuff': 28786, 'freeday': 28787, 'noodlesalad': 28788, 'planlink': 28789, 'plantbasedeat': 28790, 'sataydress': 28791, 'veganeat': 28792, 'vegannoodl': 28793, 'veganpow': 28794, 'veganshar': 28795, 'dlrjo': 28796, 'foodalchemistonair': 28797, 'leiree_': 28798, 'pacomeryma': 28799, 'intellect': 28800, 'chefkun': 28801, 'cheesburg': 28802, 'iberian': 28803, 'parmigiano': 28804, 'reggiano': 28805, 'kokumi': 28806, 'symega': 28807, 'symegafoodingredi': 28808, 'analogu': 28809, 'biospring': 28810, 'gtgthttpstcogdzrbztgz': 28811, 'meatlik': 28812, 'accraghana': 28813, 'ghanabusi': 28814, 'poultryindustri': 28815, 'shoprit': 28816, 'feelthepow': 28817, 'longhairdontcar': 28818, 'woohoo': 28819, 'actforhuman': 28820, 'naturalweightloss': 28821, 'eugloh': 28822, 'laser': 28823, 'sustainablegastronomi': 28824, 'cico': 28825, 'leanhabit': 28826, 'swasthrahomasthraho': 28827, 'ravitsemu': 28828, 'ruokailoa': 28829, 'exhal': 28830, 'ktrtr': 28831, 'shipster': 28832, 'authenticorigin': 28833, 'magnetchalleng': 28834, 'regimen': 28835, 'itbecaus': 28836, 'athelt': 28837, 'electrolty': 28838, 'fitnessenthusiast': 28839, 'healthyroot': 28840, 'hpp': 28841, 'maglio': 28842, 'mightymelon': 28843, 'milwauke': 28844, 'prosport': 28845, 'realjuic': 28846, 'purefood': 28847, 'vegiatiran': 28848, 'menshealthmonth': 28849, 'gilesyeo': 28850, 'ri_scienc': 28851, 'whycaloriesdontcount': 28852, 'besmart': 28853, 'bigflex': 28854, 'bigtalk': 28855, 'blkbeverag': 28856, 'coolb': 28857, 'doyou': 28858, 'fijiwat': 28859, 'thanksgod': 28860, 'torn': 28861, 'waiakea': 28862, 'fussypicki': 28863, 'cia': 28864, 'coup': 28865, 'nicaragua': 28866, 'sandinista': 28867, 'selfsuffici': 28868, 'csufedtech': 28869, 'informationalliteraci': 28870, 'medialiteraci': 28871, 'mooc': 28872, 'huot': 28873, 'isabel': 28874, 'readym': 28875, 'cocacolag': 28876, 'reuter': 28877, 'tgi': 28878, 'farmersh': 28879, 'fruitgrow': 28880, 'microclim': 28881, 'medli': 28882, 'cashless': 28883, 'ctcbyte': 28884, 'ctcwtf': 28885, 'collegebound': 28886, 'legacyearlyc': 28887, 'thelegacyway': 28888, 'spotpair': 28889, '𝗚𝗼𝗼𝗱': 28890, '𝗳𝗲𝗲𝗹𝗶𝗻𝗴𝘀': 28891, '𝗳𝗼𝗼𝗱': 28892, 'ghanaian': 28893, 'adai': 28894, 'ayusmat': 28895, 'daysgvofferswithvino': 28896, 'gvonlinetrad': 28897, 'healthyfoodrecip': 28898, 'milletrecip': 28899, 'murungai': 28900, 'traditionalric': 28901, 'vadivelu': 28902, 'zerorupeemarket': 28903, 'hotmeal': 28904, 'inmeal': 28905, 'morehttpstcozjjxjritad': 28906, 'printondemand': 28907, 'eatyourvegetablesday': 28908, 'mozarella': 28909, 'avocadogoodfat': 28910, 'freshveggiesday': 28911, 'personalcoach': 28912, 'keepitsimpl': 28913, 'simpleasthat': 28914, 'anemiamuktbharat': 28915, 'awc': 28916, 'healthcorn': 28917, 'leavenoonebehind': 28918, 'nutritionfirst': 28919, 'ruralhealthmiss': 28920, 'tamilhealth': 28921, 'எலமசசயன': 28922, 'otcqb': 28923, 'otcstock': 28924, 'uplist': 28925, 'chitkarainternationalschool': 28926, 'chitkaraschool': 28927, 'ci': 28928, 'dietitiansofig': 28929, 'rdchat': 28930, 'healthiermatt': 28931, 'artistico': 28932, 'cavallino': 28933, 'claudio': 28934, 'dreamer': 28935, 'francy_': 28936, 'gardatour': 28937, 'intruso': 28938, 'iren': 28939, 'loveboat': 28940, 'parcotermal': 28941, 'patrimonio': 28942, 'pensavopeggiocon': 28943, 'scovato': 28944, 'simpa': 28945, 'storico': 28946, 'termedisirmion': 28947, 'vivmilano': 28948, 'font': 28949, 'happoo': 28950, 'hurtmî': 28951, 'pyri': 28952, 'wksinst': 28953, 'yoyo': 28954, 'coimbator': 28955, 'nadu': 28956, 'usget': 28957, 'lifetsyl': 28958, 'holybasil': 28959, 'tulsibenefit': 28960, 'desertif': 28961, 'naturalforest': 28962, 'spiritexam': 28963, 'economicaldecis': 28964, 'scripti': 28965, 'fitindiamov': 28966, 'இளமயன': 28967, 'உணவகள': 28968, 'கடல': 28969, 'சறநத': 28970, 'தறறம': 28971, 'மரநத': 28972, 'cossack': 28973, 'iqbud': 28974, 'thetkennedi': 28975, 'canadianmarket': 28976, 'locoric': 28977, 'studyfood': 28978, 'tonkabean': 28979, 'unpasteur': 28980, 'waterloo': 28981, 'sugaraddict': 28982, 'mealreplac': 28983, 'morehttpstcovppeltph': 28984, 'propheticpractic': 28985, 'pacemak': 28986, 'subgeyinthekitchen': 28987, 'subgeysaab': 28988, 'gourmand': 28989, 'yogaforhealth': 28990, 'coloncleans': 28991, 'digestivetract': 28992, 'largeintestin': 28993, 'prolongedfast': 28994, 'waterhttpstcozslcmgu': 28995, 'lowfib': 28996, 'aasthami': 28997, 'deepikapadukon': 28998, 'gmc': 28999, 'gmcconf': 29000, 'haldiram': 29001, 'lokmat': 29002, 'maratha': 29003, 'momproud': 29004, 'pmnarendramodi': 29005, 'ratantata': 29006, 'suruchi': 29007, 'viratkohli': 29008, 'vithoba': 29009, 'consumptionresult': 29010, 'happinessinfood': 29011, 'joshapptamil': 29012, 'joshmeinaaja': 29013, 'officialjoshapp': 29014, 'peashoot': 29015, 'friggin': 29016, 'moicont': 29017, 'juvenil': 29018, 'stemax': 29019, 'stemaxconsulthealthcareservic': 29020, 'therapypartn': 29021, 'energytransit': 29022, 'terraforma': 29023, 'anuga': 29024, 'anugacologn': 29025, 'anugahom': 29026, 'tastethefutur': 29027, '𝓒𝓱𝓮𝓮𝓼𝓮': 29028, '𝓟𝓸𝓽𝓪𝓽𝓸': 29029, '𝓢𝓪𝓵𝓪𝓭': 29030, '𝓢𝓽𝓾𝓯𝓯𝓮𝓭': 29031, '𝓪𝓽': 29032, '𝓼𝓮𝓻𝓿𝓲𝓬𝓮': 29033, '𝔂𝓸𝓾𝓻': 29034, 'artificialaddit': 29035, 'musclesandhealthybodi': 29036, 'musclesandhealthybodyquiz': 29037, 'selfemploy': 29038, 'usahealth': 29039, 'usahealthinsur': 29040, 'usahealthinsuranceplan': 29041, 'usainsur': 29042, 'workformyself': 29043, 'beatncd': 29044, 'crysp': 29045, 'wakeupwednesday': 29046, 'bauer': 29047, 'hildi': 29048, 'joan': 29049, 'nationalfudgeday': 29050, 'dataanalysi': 29051, 'fi_fieurop': 29052, 'jayakumaar': 29053, 'krishnakumari': 29054, 'milletmag': 29055, 'pv': 29056, 'socialsci': 29057, 'themat': 29058, 'supplantcompani': 29059, 'படடணயன': 29060, 'ndsu': 29061, 'neuralnetwork': 29062, 'sul_ross': 29063, 'coloectomi': 29064, 'colonremov': 29065, 'bokuvienna': 29066, 'mycotoxin': 29067, 'namibia': 29068, 'qubigf': 29069, 'labour': 29070, 'exagger': 29071, 'aipow': 29072, 'fitza': 29073, 'hiddenhung': 29074, 'nutritionapp': 29075, 'richli': 29076, 'scrumptious': 29077, 'umamii_umamii': 29078, 'drinking_ninja': 29079, 'po': 29080, 'richardjdsouza': 29081, 'beefa': 29082, 'sidebysid': 29083, 'badmintonplay': 29084, 'करबहइडरट': 29085, 'जलन': 29086, 'धम': 29087, 'बनस': 29088, 'रक': 29089, 'रजम': 29090, 'वदध': 29091, 'शरकर': 29092, 'हwork': 29093, 'slowburn': 29094, 'beneficialrecip': 29095, 'ideasbrandingeatingfoodfruithealthhealthyfoodnutsveganveggieideamillidea': 29096, 'rebrand': 29097, 'faber': 29098, 'hannek': 29099, 'bartend': 29100, 'mafia': 29101, 'topof': 29102, 'yahh': 29103, 'besthealthyfoodchannel': 29104, 'foodchannel': 29105, 'healthyfoodchannel': 29106, 'ahaar': 29107, 'aushad': 29108, 'haifood': 29109, 'lentecarb': 29110, 'pehchankaun': 29111, 'broadleaf': 29112, 'ediblewildfood': 29113, 'chefsmanifesto': 29114, 'dashboard': 29115, 'deakinhealth': 29116, 'rpcvic': 29117, 'womeninag': 29118, 'sawdust': 29119, 'colbyvot': 29120, 'divasdelit': 29121, 'drcswilliam': 29122, 'dunedin_media': 29123, 'fotograffa': 29124, 'jdjongumzidenga': 29125, 'karaoke_': 29126, 'michelleroseg': 29127, 'mongoos': 29128, 'rrunsworth': 29129, 'timetowinga': 29130, 'villagewordsith': 29131, 'wendydshaff': 29132, 'phycolog': 29133, 'hungercovid': 29134, 'ihitafightshung': 29135, 'societaluplift': 29136, 'unitednationssustainabledevelopmentgo': 29137, 'adjac': 29138, 'cownet': 29139, 'foodamp': 29140, 'grid': 29141, 'humansafeti': 29142, 'mthiel': 29143, 'pipelinesspac': 29144, 'publicamp': 29145, 'sarbjeetjoh': 29146, 'subset': 29147, 'zehicl': 29148, 'medicineor': 29149, 'puremichigan': 29150, 'southhaven': 29151, 'cushwak': 29152, 'rebusi': 29153, 'wd_partner': 29154, 'responsibilti': 29155, 'acaibowl': 29156, 'highpot': 29157, 'immuno': 29158, 'londonlif': 29159, 'gotmilk': 29160, 'stylinspo': 29161, 'batconintl': 29162, 'creaf_ecologia': 29163, 'insidenatgeo': 29164, 'mcngranol': 29165, 'merlinsbat': 29166, 'natgeofest': 29167, 'territoricat': 29168, 'daysofwalk': 29169, 'mock': 29170, 'dubaifoodfestiv': 29171, 'londonc': 29172, 'compil': 29173, 'forksoverkn': 29174, 'childandnutritioncar': 29175, 'diseasemanagmentdiet': 29176, 'achildisachild': 29177, 'nochildinwar': 29178, 'bodysculpt': 29179, 'acidcur': 29180, 'ajwainhoney': 29181, 'superbeehoney': 29182, 'stockup': 29183, 'animalabus': 29184, 'animaltortur': 29185, 'adamrog': 29186, 'connectaid_int': 29187, 'dylanbrain': 29188, 'gaellemogli': 29189, 'helenclarknz': 29190, 'kambojananya': 29191, 'kentpag': 29192, 'ulrikamod': 29193, '𝗺𝘂𝗹𝘁𝗶𝗱𝗶𝗺𝗲𝗻𝘀𝗶𝗼𝗻𝗮𝗹': 29194, 'nestlè': 29195, 'bbceuro': 29196, 'isopur': 29197, 'enjoythelittleth': 29198, 'fotd': 29199, 'fresca': 29200, 'gezond': 29201, 'ver': 29202, 'verfrissend': 29203, 'occupi': 29204, 'organicprotein': 29205, 'physicalfit': 29206, 'projectvitamin': 29207, 'schoolchildrendiet': 29208, 'sicklecellanemia': 29209, 'cakenbak': 29210, 'corianderse': 29211, 'dalkhastakachori': 29212, 'moongdal': 29213, 'nidhiagarw': 29214, 'nationallobsterday': 29215, 'atmanirbharbharat': 29216, 'baraioversea': 29217, 'langra': 29218, 'mangoindia': 29219, 'earthel': 29220, 'elementsoffood': 29221, 'fireel': 29222, 'foodel': 29223, 'metalel': 29224, 'mob': 29225, 'nestivahospit': 29226, 'tel': 29227, 'waterel': 29228, 'woodel': 29229, 'weightlossthatwork': 29230, 'tweat': 29231, 'reporthttpstcoklybthqi': 29232, 'leadsbusi': 29233, 'cheeselov': 29234, 'wholli': 29235, 'freegan': 29236, 'digitalev': 29237, 'cellularmedicin': 29238, 'agrifact': 29239, 'agrilearn': 29240, 'onionbenefit': 29241, 'onioncultiv': 29242, 'onionoil': 29243, 'wearespid': 29244, 'protienbenefit': 29245, 'kyowah': 29246, 'nutritionalo': 29247, 'feelgoodcoffe': 29248, 'fg_coffe': 29249, 'friendsquench': 29250, 'machonejack': 29251, 'pestochampion': 29252, 'videoblogg': 29253, 'afghani': 29254, 'chickenafghani': 29255, 'preeclampsia': 29256, 'kidscantwait': 29257, 'medipark': 29258, 'mediparkhospit': 29259, 'patna': 29260, 'banjara': 29261, 'gor': 29262, 'gorbhai': 29263, 'healthworld': 29264, 'lambadi': 29265, 'raiputh': 29266, 'rajputh': 29267, 'sugali': 29268, 'worldq': 29269, 'महमर': 29270, 'वतरण': 29271, 'सव': 29272, 'cavatelli': 29273, 'hine': 29274, 'mariahin': 29275, 'snag': 29276, 'sunvalley': 29277, 'healthinstagramlovelifestylelivelifecanadanewyorkmiamihollywoodfoodfitnessmotivationgymsportstayhomeswaggswaggerfashionbeverlyhillbeautystarschicagoshopmoneycarsrollsroycebugatti': 29278, 'badg': 29279, 'emblem': 29280, 'nationalavocadoday': 29281, '_skryl_': 29282, 'analyz': 29283, 'nutrisenseio': 29284, 'diabetesindia': 29285, 'nupurlalvani': 29286, 'weightlossfriendli': 29287, 'hp': 29288, 'tunbridg': 29289, 'naturalchoic': 29290, 'annalsofepi': 29291, 'bufferbas': 29292, 'magnitud': 29293, 'inher': 29294, 'jaca': 29295, 'uggh': 29296, 'lockdownextens': 29297, 'aduaba': 29298, 'aduabafresh': 29299, 'citinewsroom': 29300, 'ayurvedha': 29301, 'godaddi': 29302, 'vedic': 29303, 'ebtb': 29304, 'lifestly': 29305, 'foodiechat': 29306, 'caswapnilkabra': 29307, 'lifeafterfi': 29308, 'simplif': 29309, 'sneh_kagrana': 29310, 'wealthyhealthyl': 29311, 'marketingmind': 29312, 'regnant': 29313, 'sanitis': 29314, 'familyfood': 29315, 'familytim': 29316, 'highestqu': 29317, 'kyowahakkousa': 29318, 'alexandra': 29319, 'audreynlnguyen': 29320, 'healththrough': 29321, 'heritageand': 29322, 'parth': 29323, 'entr': 29324, 'sarm': 29325, 'henderson': 29326, 'nonmajor': 29327, 'motivationlov': 29328, 'ecommerch': 29329, 'fiverr': 29330, 'gig': 29331, 'shopmycloset': 29332, 'pois': 29333, 'erasmu': 29334, 'terrilevin': 29335, 'udo': 29336, 'udoerasmu': 29337, 'udoschoic': 29338, 'velmagal': 29339, 'developmen': 29340, 'deliou': 29341, 'coloncanc': 29342, 'dy': 29343, 'highfatdiet': 29344, 'customizedm': 29345, 'deliveryfood': 29346, 'nucro': 29347, 'bombeck': 29348, 'erma': 29349, 'strawberryshortcakeday': 29350, 'titan': 29351, 'cogx': 29352, 'cogx_festiv': 29353, 'deepfak': 29354, 'hardchoic': 29355, 'burchel': 29356, 'jambhul': 29357, 'jambul': 29358, 'drugdeliveri': 29359, 'dysphagia': 29360, 'eira': 29361, 'innovationmonth': 29362, 'seaweedproduct': 29363, 'animallov': 29364, 'likemost': 29365, 'amti': 29366, 'bhat': 29367, 'shrikhand': 29368, 'vikramkarv': 29369, 'vikramkarvefood': 29370, 'novapan': 29371, 'liptonicedteaday': 29372, 'mondaymunchi': 29373, 'dehradun': 29374, 'april': 29375, 'endometri': 29376, 'anitapratapsingh': 29377, 'basmatiric': 29378, 'emir': 29379, 'mondayblu': 29380, 'yakhni': 29381, 'zeebabasmatiric': 29382, 'homefarm': 29383, 'terracefarm': 29384, 'weightlossprogram': 29385, 'nutrafi': 29386, 'bajpayeemanoj': 29387, 'chellam': 29388, 'thefamilyman': 29389, 'agedashi': 29390, 'nutricraftcookwar': 29391, 'crepe': 29392, 'ghavan': 29393, 'recipewithpinakin': 29394, 'blacktotday': 29395, 'aveloair': 29396, 'bozemanchamb': 29397, 'chatelainechoco': 29398, 'lifeexperi': 29399, 'rukkutrail': 29400, 'thrice': 29401, 'sumdaythought': 29402, 'queensbirthdayhonour': 29403, 'womeninhealth': 29404, 'bangkok': 29405, 'chaga': 29406, 'chagatea': 29407, 'auto': 29408, 'casino': 29409, 'generalblog': 29410, 'generalblogg': 29411, 'generalblogpost': 29412, 'generalguestpost': 29413, 'freston': 29414, 'weedyourgardenday': 29415, 'aidan': 29416, 'phosphor': 29417, 'tetrapleura': 29418, 'tetraptera': 29419, 'inter': 29420, 'proteinabsorpt': 29421, 'myrtl': 29422, 'subtrop': 29423, 'bayareaeat': 29424, 'waterfront': 29425, 'foodsourc': 29426, 'thecenteroftheyounivers': 29427, 'bob': 29428, 'cupcakeloversday': 29429, 'sedat': 29430, 'thave': 29431, 'artchef': 29432, 'eggplanet': 29433, 'hoteli': 29434, 'hotelmanag': 29435, 'ice_cream': 29436, 'mutabl': 29437, 'novotel_jazan': 29438, 'summerholiday': 29439, 'pastafuel': 29440, 'bde': 29441, 'field_armi': 29442, 'findyourhealthiery': 29443, 'hew': 29444, 'infbd': 29445, 'junior': 29446, 'ukarmylogist': 29447, 'ukdivis': 29448, 'wearetherlc': 29449, 'wesustain': 29450, 'rhshydehal': 29451, 'sunnysunday': 29452, 'instantfood': 29453, 'margarita': 29454, 'prebottl': 29455, 'undigest': 29456, 'technologiesinsci': 29457, 'eloqu': 29458, 'hysteria': 29459, 'unassail': 29460, 'cdmx': 29461, 'suplement': 29462, 'contagi': 29463, 'belton': 29464, 'killeen': 29465, 'waco': 29466, 'wednesdaypickup': 29467, 'twistx': 29468, 'nostalgiachat': 29469, 'oxidativestress': 29470, 'juna': 29471, 'fattoush': 29472, 'furnac': 29473, 'ubi': 29474, 'awardwinn': 29475, '𝘉𝘖𝘋𝘠': 29476, '𝘞𝘌𝘓𝘓𝘕𝘌𝘚𝘚': 29477, 'pythonfit': 29478, 'amptea': 29479, 'inch': 29480, 'kaadha': 29481, 'kadha': 29482, 'wuhan': 29483, 'globalwellnessday': 29484, 'ha': 29485, 'privaci': 29486, 'fintech_matt': 29487, 'freshsinc': 29488, 'impossiblefood': 29489, 'mti': 29490, 'otli': 29491, 'recp': 29492, 'ttcf': 29493, 'fitwomen': 29494, 'funnygym': 29495, 'healthywomen': 29496, 'weightless': 29497, 'justcookandtravel': 29498, 'carriecollin': 29499, 'garlicki': 29500, 'stretchchi': 29501, 'stretchchiwithcarriecollin': 29502, 'biohackerchick': 29503, 'novelidea': 29504, 'sonkevllen': 29505, 'deliverytakeout': 29506, 'itz': 29507, 'wanthealth': 29508, 'foodforgoodvis': 29509, 'foodforhealthyey': 29510, 'foodgoodforeyesight': 29511, 'onecup': 29512, 'pesticideladen': 29513, 'sabbath': 29514, 'selfpreserv': 29515, 'novadairywhiten': 29516, '_sivasai': 29517, 'marinenew': 29518, 'plast': 29519, 'travelblogg': 29520, 'travelnew': 29521, 'plasticpollutio': 29522, 'mededbot': 29523, 'plasticpollu': 29524, 'kitchenv': 29525, 'plasticpol': 29526, 'jayaisal': 29527, 'telehealthbot': 29528, 'medstudent_bot': 29529, 'plasti': 29530, 'scicommbot': 29531, 'markj_ohnson': 29532, 'plasticp': 29533, 'btsci': 29534, 'plasticpolluti': 29535, 'pollutio': 29536, 'comali': 29537, 'cwc': 29538, 'juneberri': 29539, 'truefoodtv': 29540, 'intralifei': 29541, 'activefib': 29542, 'prebe': 29543, 'snackkiwi': 29544, 'onair': 29545, 'bonebroth': 29546, 'eggdelight': 29547, 'kelpseason': 29548, 'tossedveget': 29549, 'insepar': 29550, 'resurfac': 29551, 'ckd': 29552, 'vie': 29553, 'adelaide_hous': 29554, 'beginningsi': 29555, 'bishopsgarden': 29556, 'ellenloudon': 29557, 'feedinglpool': 29558, 'greenanglican': 29559, 'gricelindsey': 29560, 'juststewardship': 29561, 'liverpoolfo': 29562, 'togethliv': 29563, 'fullfat': 29564, 'krispi': 29565, 'oatmealcooki': 29566, 'trythi': 29567, 'fishfriday': 29568, 'ripen': 29569, 'smellywe': 29570, 'somani': 29571, 'ingredion': 29572, 'teenadvocaci': 29573, 'expel': 29574, 'fart': 29575, 'youtubepremium': 29576, 'wehttpstcorbjcprayv': 29577, 'mykartavya': 29578, 'reborn': 29579, 'anderson': 29580, 'annierbt': 29581, 'campbellgr': 29582, 'foodswanson': 29583, 'hampi': 29584, 'lambi': 29585, 'mimetechltd': 29586, 'ppukscotland': 29587, 'scotlandisnow': 29588, 'sitekit': 29589, 'strathbusi': 29590, 'biomega': 29591, 'healthpak': 29592, 'nutrim': 29593, 'proflavanol': 29594, 'pshttpstcovppeltph': 29595, 'laurenjonik': 29596, 'lessinjuri': 29597, 'myjetdoc': 29598, 'thw': 29599, 'youngev': 29600, 'moderateprotein': 29601, 'zoonoticdiseas': 29602, 'solareclips': 29603, 'visit_prescott': 29604, 'fatherless': 29605, 'widow': 29606, 'aiam_': 29607, 'entiti': 29608, 'sail': 29609, 'mediband': 29610, 'medicalid': 29611, 'novashudhghe': 29612, 'incomplet': 29613, 'merel': 29614, 'adren': 29615, 'sodelhi': 29616, 'bengal': 29617, 'आतरक': 29618, 'उबरन': 29619, 'कपय': 29620, 'कलक': 29621, 'कवड': 29622, 'मदद': 29623, 'funvideo': 29624, 'healthycandi': 29625, 'healthysweet': 29626, 'roadto': 29627, 'southafricanyoutub': 29628, 'youtubesouthafrica': 29629, 'foodkeepsyouhealthi': 29630, 'instantenergyboost': 29631, 'agglomer': 29632, 'hainanftp': 29633, 'port': 29634, 'yangpu': 29635, 'healthinstagramlovelifestylelivelifecanadanewyorkmiamihollywoodfoodfitnessmotivationgymsportstayhomeswaggswaggerfashionbeverlyhillbeautystarschicagoshopmoneycarsrollsroycebugattifitnessmotivationlouisvuitton': 29636, 'andcheat': 29637, 'biodiversitywaterfoodhealth': 29638, 'iisd': 29639, 'cryptoart': 29640, 'handsom': 29641, 'jen': 29642, 'sprint': 29643, 'walsh': 29644, 'año': 29645, 'vacunación': 29646, 'vandanashiva': 29647, 'banpesticid': 29648, 'bonefish': 29649, 'bonefishgril': 29650, 'ediblepl': 29651, 'lambsquart': 29652, 'purslan': 29653, 'saveyourlif': 29654, 'elt': 29655, 'esl': 29656, 'vocabulari': 29657, 'herbsandspicesday': 29658, 'herbsw': 29659, 'mealsherbsandspic': 29660, 'nationalherbsandspicesday': 29661, 'cynic': 29662, 'newsfe': 29663, '𝘽𝙡𝙪𝙚𝙗𝙚𝙧𝙧𝙮': 29664, '𝙂𝙧𝙚𝙚𝙠': 29665, '𝙃𝙤𝙢𝙚𝙢𝙖𝙙𝙚': 29666, '𝙞𝙘𝙚': 29667, '𝙮𝙤𝙜𝙪𝙧𝙩': 29668, 'cheasi': 29669, 'veganchees': 29670, 'demari': 29671, 'rvn': 29672, 'rvntv': 29673, 'sherilynn': 29674, 'dcpublicschool': 29675, 'nordic': 29676, 'sweden': 29677, 'vincegray': 29678, 'enhttpstcoymwhfslwi': 29679, 'gamba': 29680, 'guisant': 29681, 'ale': 29682, 'hasami': 29683, 'karaag': 29684, 'paprikagirl_jp': 29685, 'renkon': 29686, 'zenjapanes': 29687, 'から揚げ': 29688, '蓮根のはさみ揚げ': 29689, 'teaaddict': 29690, 'teattm': 29691, 'anxietyrelief': 29692, 'sleepless': 29693, 'organiclif': 29694, 'vigour': 29695, 'energygum': 29696, 'energysuppl': 29697, 'northamerican': 29698, 'supplementsgum': 29699, 'amirit': 29700, 'shittyfood': 29701, 'coffeeshop': 29702, 'nationaleggrollday': 29703, 'caribbeancuisin': 29704, 'digitaltrust': 29705, 'swissnexsf': 29706, 'swisstech': 29707, 'foundationihita': 29708, 'couponcod': 29709, 'discountcod': 29710, 'healthbox': 29711, 'natureshealthbox': 29712, 'cocao': 29713, 'burnthecarb': 29714, 'carbburn': 29715, 'flatbelli': 29716, 'dietitiansweek': 29717, 'healthbackup': 29718, '中國': 29719, '中國菜': 29720, '中華美食': 29721, '低卡美味便當墜入凡間的美味健康又好吃china': 29722, '食物': 29723, 'charityuk': 29724, 'foodforchildren': 29725, 'noaddedsugar': 29726, 'sugarawar': 29727, 'sugarwis': 29728, 'sugarwiseteam': 29729, 'accredit': 29730, 'bestmaggi': 29731, 'indianconsum': 29732, 'maggi': 29733, 'masalamaggi': 29734, 'nabl': 29735, 'voucherist': 29736, 'bananafruit': 29737, 'dainikgomanatak': 29738, 'goanew': 29739, 'gomantak': 29740, 'healthcarenew': 29741, 'तट': 29742, 'तदरसतसठ': 29743, 'coincid': 29744, 'og': 29745, 'delirium': 29746, 'dodgi': 29747, 'instt': 29748, 'pyrip': 29749, 'asn': 29750, 'steponeinhealth': 29751, 'invert': 29752, 'tajagro': 29753, 'tajagroproduct': 29754, 'ajwayein': 29755, 'caromse': 29756, 'carbonhydr': 29757, 'gopur': 29758, 'pathogen': 29759, 'perish': 29760, 'nutrilit': 29761, 'religi': 29762, 'coolgirl': 29763, 'saladlov': 29764, 'sh': 29765, 'matur': 29766, 'deadlysin': 29767, 'kirwkc': 29768, 'mydailythought': 29769, 'oldyou': 29770, 'therapysessh': 29771, 'causat': 29772, 'chest': 29773, 'boycottseafood': 29774, 'sentient': 29775, 'drjengunt': 29776, 'poop': 29777, 'wias': 29778, 'wiaseresearch': 29779, 'bodymeheshin': 29780, 'now': 29781, 'clubnext': 29782, 'seasonalveget': 29783, 'seasonalveggi': 29784, 'xposur': 29785, 'xposureclubx': 29786, 'onlinefood': 29787, 'putrid': 29788, 'aee': 29789, 'ayogikitchen': 29790, 'postl': 29791, 'drinkhandsanit': 29792, 'phastphood': 29793, 'pridepand': 29794, 'vaccinatedandfat': 29795, 'arisen': 29796, 'avocadoindustri': 29797, 'annualfoodagenda': 29798, 'rebecca': 29799, 'ajudam': 29800, 'carolsisson': 29801, 'cinco': 29802, 'conheça': 29803, 'estress': 29804, 'estressado': 29805}\n"
          ]
        },
        {
          "output_type": "stream",
          "name": "stderr",
          "text": [
            "/usr/local/lib/python3.10/dist-packages/ipykernel/ipkernel.py:283: DeprecationWarning:\n",
            "\n",
            "`should_run_async` will not call `transform_cell` automatically in the future. Please pass the result to `transformed_cell` argument and any exception that happen during thetransform in `preprocessing_exc_tuple` in IPython 7.17 and above.\n",
            "\n"
          ]
        }
      ]
    },
    {
      "cell_type": "code",
      "source": [
        "# Convert the text dictionary to bag of words model\n",
        "corpus = [dictionary.doc2bow(text) for text in tweets]"
      ],
      "metadata": {
        "colab": {
          "base_uri": "https://localhost:8080/"
        },
        "id": "QdrZJFhcKwuO",
        "outputId": "532d46af-9ab8-493c-b54b-fb7c35a5d3a1"
      },
      "execution_count": null,
      "outputs": [
        {
          "output_type": "stream",
          "name": "stderr",
          "text": [
            "/usr/local/lib/python3.10/dist-packages/ipykernel/ipkernel.py:283: DeprecationWarning:\n",
            "\n",
            "`should_run_async` will not call `transform_cell` automatically in the future. Please pass the result to `transformed_cell` argument and any exception that happen during thetransform in `preprocessing_exc_tuple` in IPython 7.17 and above.\n",
            "\n"
          ]
        }
      ]
    },
    {
      "cell_type": "markdown",
      "source": [
        "### Generating Topic Model"
      ],
      "metadata": {
        "id": "q7gB4HV8LCs9"
      }
    },
    {
      "cell_type": "code",
      "source": [
        "# Construct TF-IDF features from the dictionary.\n",
        "tfidf = models.TfidfModel(corpus)\n",
        "\n",
        "# Transform the tweets as TF-IDF feature vectors\n",
        "corpus_tfidf = tfidf[corpus]\n",
        "\n",
        "# Set how many topics are required\n",
        "total_topics = 40"
      ],
      "metadata": {
        "colab": {
          "base_uri": "https://localhost:8080/"
        },
        "id": "pE3IL-PRLAP1",
        "outputId": "4dca1c26-f157-4b23-efe1-ba52ba192547"
      },
      "execution_count": null,
      "outputs": [
        {
          "output_type": "stream",
          "name": "stderr",
          "text": [
            "/usr/local/lib/python3.10/dist-packages/ipykernel/ipkernel.py:283: DeprecationWarning:\n",
            "\n",
            "`should_run_async` will not call `transform_cell` automatically in the future. Please pass the result to `transformed_cell` argument and any exception that happen during thetransform in `preprocessing_exc_tuple` in IPython 7.17 and above.\n",
            "\n"
          ]
        }
      ]
    },
    {
      "cell_type": "code",
      "source": [
        "lda = models.LdaModel(corpus, id2word=dictionary, num_topics=total_topics)\n",
        "corpus_lda = lda[corpus_tfidf] # create a double wrapper over the original corpus: bow->tfidf->fold-in-lsi\n",
        "\n",
        "# Print the Keyword in the 10 topics\n",
        "lda.show_topics(total_topics, num_words=6)"
      ],
      "metadata": {
        "colab": {
          "base_uri": "https://localhost:8080/"
        },
        "id": "mOIwY9tNLh29",
        "outputId": "bfc276b2-94dc-4961-8ac2-6da41d4d53bb"
      },
      "execution_count": null,
      "outputs": [
        {
          "output_type": "stream",
          "name": "stderr",
          "text": [
            "/usr/local/lib/python3.10/dist-packages/ipykernel/ipkernel.py:283: DeprecationWarning:\n",
            "\n",
            "`should_run_async` will not call `transform_cell` automatically in the future. Please pass the result to `transformed_cell` argument and any exception that happen during thetransform in `preprocessing_exc_tuple` in IPython 7.17 and above.\n",
            "\n",
            "WARNING:gensim.models.ldamodel:too few updates, training might not converge; consider increasing the number of passes or iterations to improve accuracy\n"
          ]
        },
        {
          "output_type": "execute_result",
          "data": {
            "text/plain": [
              "[(0,\n",
              "  '0.051*\"fresh\" + 0.030*\"weightlossjourney\" + 0.029*\"lunch\" + 0.022*\"serv\" + 0.017*\"sundayvib\" + 0.016*\"sunday\"'),\n",
              " (1,\n",
              "  '0.059*\"usa\" + 0.051*\"uk\" + 0.030*\"gut\" + 0.022*\"salad\" + 0.021*\"check\" + 0.019*\"eathealthi\"'),\n",
              " (2,\n",
              "  '0.060*\"daili\" + 0.047*\"muscl\" + 0.043*\"heart\" + 0.041*\"visit\" + 0.037*\"improv\" + 0.034*\"thank\"'),\n",
              " (3,\n",
              "  '0.038*\"women\" + 0.035*\"nutrit\" + 0.031*\"calori\" + 0.026*\"oil\" + 0.021*\"review\" + 0.019*\"simpl\"'),\n",
              " (4,\n",
              "  '0.053*\"foodblogg\" + 0.047*\"mind\" + 0.041*\"motiv\" + 0.041*\"inspir\" + 0.038*\"japan\" + 0.030*\"soup\"'),\n",
              " (5,\n",
              "  '0.036*\"everi\" + 0.033*\"thing\" + 0.028*\"commun\" + 0.025*\"help\" + 0.022*\"consum\" + 0.019*\"educ\"'),\n",
              " (6,\n",
              "  '0.042*\"creat\" + 0.033*\"energi\" + 0.031*\"environ\" + 0.031*\"sustain\" + 0.019*\"dr\" + 0.019*\"climatechang\"'),\n",
              " (7,\n",
              "  '0.052*\"healthtip\" + 0.043*\"quot\" + 0.038*\"diet\" + 0.034*\"chang\" + 0.030*\"research\" + 0.025*\"part\"'),\n",
              " (8,\n",
              "  '0.050*\"keto\" + 0.049*\"top\" + 0.045*\"footbal\" + 0.042*\"brain\" + 0.024*\"function\" + 0.022*\"articl\"'),\n",
              " (9,\n",
              "  '0.062*\"children\" + 0.042*\"veganfood\" + 0.027*\"nutrient\" + 0.021*\"white\" + 0.018*\"treatment\" + 0.017*\"coronaviru\"'),\n",
              " (10,\n",
              "  '0.032*\"strong\" + 0.028*\"selfcar\" + 0.026*\"care\" + 0.024*\"idea\" + 0.023*\"photographi\" + 0.023*\"hair\"'),\n",
              " (11,\n",
              "  '0.102*\"shop\" + 0.076*\"fitnessmotiv\" + 0.070*\"train\" + 0.051*\"bodybuild\" + 0.047*\"fitfam\" + 0.035*\"onlineshop\"'),\n",
              " (12,\n",
              "  '0.050*\"woman\" + 0.044*\"avocado\" + 0.041*\"appl\" + 0.037*\"banana\" + 0.035*\"mango\" + 0.033*\"cherri\"'),\n",
              " (13,\n",
              "  '0.048*\"say\" + 0.042*\"asthma\" + 0.039*\"selfi\" + 0.034*\"breadth\" + 0.033*\"dental\" + 0.028*\"restaur\"'),\n",
              " (14,\n",
              "  '0.029*\"parent\" + 0.026*\"person\" + 0.026*\"pandem\" + 0.023*\"show\" + 0.021*\"cbd\" + 0.018*\"ayurveda\"'),\n",
              " (15,\n",
              "  '0.048*\"medic\" + 0.048*\"pain\" + 0.048*\"yummi\" + 0.039*\"walk\" + 0.031*\"asia\" + 0.025*\"fatloss\"'),\n",
              " (16,\n",
              "  '0.071*\"offer\" + 0.030*\"caus\" + 0.026*\"valu\" + 0.025*\"fish\" + 0.025*\"innov\" + 0.024*\"week\"'),\n",
              " (17,\n",
              "  '0.127*\"sport\" + 0.091*\"music\" + 0.030*\"trend\" + 0.025*\"farmer\" + 0.023*\"produc\" + 0.022*\"present\"'),\n",
              " (18,\n",
              "  '0.060*\"youtub\" + 0.059*\"mumbai\" + 0.049*\"blog\" + 0.044*\"blogger\" + 0.042*\"delhi\" + 0.033*\"see\"'),\n",
              " (19,\n",
              "  '0.047*\"vitamin\" + 0.045*\"your\" + 0.033*\"onlin\" + 0.031*\"sweet\" + 0.029*\"that\" + 0.018*\"obes\"'),\n",
              " (20,\n",
              "  '0.059*\"homemad\" + 0.033*\"stop\" + 0.026*\"detox\" + 0.022*\"un\" + 0.021*\"seafood\" + 0.021*\"turmer\"'),\n",
              " (21,\n",
              "  '0.069*\"christian\" + 0.048*\"inspir\" + 0.043*\"wrong\" + 0.042*\"websit\" + 0.035*\"gratitud\" + 0.033*\"genesi\"'),\n",
              " (22,\n",
              "  '0.057*\"veggi\" + 0.051*\"heal\" + 0.049*\"seed\" + 0.045*\"garden\" + 0.037*\"remedi\" + 0.034*\"chemic\"'),\n",
              " (23,\n",
              "  '0.081*\"summer\" + 0.055*\"snack\" + 0.050*\"coupon\" + 0.048*\"discount\" + 0.032*\"age\" + 0.026*\"deal\"'),\n",
              " (24,\n",
              "  '0.040*\"fiber\" + 0.038*\"high\" + 0.036*\"antioxid\" + 0.030*\"salt\" + 0.027*\"bone\" + 0.023*\"cannabi\"'),\n",
              " (25,\n",
              "  '0.084*\"medicin\" + 0.038*\"eatclean\" + 0.038*\"kid\" + 0.033*\"nation\" + 0.029*\"educ\" + 0.027*\"common\"'),\n",
              " (26,\n",
              "  '0.060*\"share\" + 0.044*\"salmon\" + 0.040*\"tuna\" + 0.032*\"lobster\" + 0.032*\"oyster\" + 0.031*\"crab\"'),\n",
              " (27,\n",
              "  '0.044*\"lose\" + 0.029*\"nut\" + 0.025*\"bio\" + 0.023*\"weightlossdiet\" + 0.023*\"recipeoftheday\" + 0.022*\"step\"'),\n",
              " (28,\n",
              "  '0.088*\"fashion\" + 0.033*\"type\" + 0.028*\"amaz\" + 0.027*\"work\" + 0.025*\"ketogen\" + 0.025*\"secur\"'),\n",
              " (29,\n",
              "  '0.050*\"carb\" + 0.034*\"low\" + 0.029*\"see\" + 0.023*\"salad\" + 0.020*\"th\" + 0.018*\"possibl\"'),\n",
              " (30,\n",
              "  '0.050*\"qualiti\" + 0.040*\"choic\" + 0.038*\"bake\" + 0.036*\"organicfood\" + 0.024*\"industri\" + 0.023*\"ingredi\"'),\n",
              " (31,\n",
              "  '0.039*\"nutritionist\" + 0.036*\"allergi\" + 0.028*\"burnfat\" + 0.027*\"joy\" + 0.024*\"trend\" + 0.024*\"lean\"'),\n",
              " (32,\n",
              "  '0.056*\"becom\" + 0.050*\"publish\" + 0.048*\"medium\" + 0.047*\"complic\" + 0.045*\"egg\" + 0.044*\"firstworldproblem\"'),\n",
              " (33,\n",
              "  '0.042*\"juic\" + 0.040*\"healthylif\" + 0.032*\"intern\" + 0.031*\"pregnanc\" + 0.029*\"superfood\" + 0.026*\"nova\"'),\n",
              " (34,\n",
              "  '0.045*\"book\" + 0.032*\"milk\" + 0.025*\"no\" + 0.023*\"mood\" + 0.023*\"dairi\" + 0.020*\"contain\"'),\n",
              " (35,\n",
              "  '0.059*\"rice\" + 0.057*\"deal\" + 0.054*\"grain\" + 0.047*\"muscl\" + 0.045*\"lamuscl\" + 0.040*\"black\"'),\n",
              " (36,\n",
              "  '0.055*\"blood\" + 0.045*\"risk\" + 0.042*\"reduc\" + 0.039*\"meal\" + 0.035*\"sleep\" + 0.033*\"chef\"'),\n",
              " (37,\n",
              "  '0.074*\"immun\" + 0.033*\"natur\" + 0.030*\"tea\" + 0.025*\"boost\" + 0.020*\"thyroid\" + 0.019*\"system\"'),\n",
              " (38,\n",
              "  '0.035*\"farm\" + 0.029*\"sustain\" + 0.024*\"design\" + 0.024*\"agricultur\" + 0.021*\"climat\" + 0.017*\"brand\"'),\n",
              " (39,\n",
              "  '0.035*\"tomato\" + 0.033*\"sprout\" + 0.033*\"potato\" + 0.029*\"garlic\" + 0.029*\"red\" + 0.027*\"sweet\"')]"
            ]
          },
          "metadata": {},
          "execution_count": 46
        }
      ]
    },
    {
      "cell_type": "code",
      "source": [],
      "metadata": {
        "id": "TiRmpyoxFZHf"
      },
      "execution_count": null,
      "outputs": []
    },
    {
      "cell_type": "markdown",
      "source": [
        "### Interactive Topic Analyser"
      ],
      "metadata": {
        "id": "pgM6YuGALOlw"
      }
    },
    {
      "cell_type": "code",
      "source": [
        "pyLDAvis.enable_notebook()\n",
        "panel = pyLDAvis.gensim_models.prepare(lda, corpus_lda, dictionary, mds='tsne')\n",
        "panel"
      ],
      "metadata": {
        "colab": {
          "base_uri": "https://localhost:8080/"
        },
        "id": "X7hp5naSMT5P",
        "outputId": "61bdacf5-b072-497c-b235-3089561c0a29"
      },
      "execution_count": null,
      "outputs": [
        {
          "output_type": "stream",
          "name": "stderr",
          "text": [
            "/usr/local/lib/python3.10/dist-packages/ipykernel/ipkernel.py:283: DeprecationWarning:\n",
            "\n",
            "`should_run_async` will not call `transform_cell` automatically in the future. Please pass the result to `transformed_cell` argument and any exception that happen during thetransform in `preprocessing_exc_tuple` in IPython 7.17 and above.\n",
            "\n"
          ]
        }
      ]
    },
    {
      "cell_type": "markdown",
      "source": [
        "# Extracting CSV file"
      ],
      "metadata": {
        "id": "Zks424FKJyFi"
      }
    },
    {
      "cell_type": "code",
      "source": [
        "df.to_csv('nlp.csv')"
      ],
      "metadata": {
        "id": "-rQoInRPJ5fv"
      },
      "execution_count": null,
      "outputs": []
    },
    {
      "cell_type": "code",
      "source": [
        "text_both = df.drop(['Username','Datetime','Tweet Id','Text_lemmatised','Text_stemmed','Text'], axis=1)"
      ],
      "metadata": {
        "id": "cPCvssjXu69Q"
      },
      "execution_count": null,
      "outputs": []
    },
    {
      "cell_type": "code",
      "source": [
        "Text_both = text_both"
      ],
      "metadata": {
        "id": "svbW84gUw4dx"
      },
      "execution_count": null,
      "outputs": []
    },
    {
      "cell_type": "code",
      "source": [
        "Text_both.head()"
      ],
      "metadata": {
        "id": "GIBcAhOLw1QT"
      },
      "execution_count": null,
      "outputs": []
    },
    {
      "cell_type": "code",
      "source": [
        "Text_both['Text_both'].str.split()"
      ],
      "metadata": {
        "id": "hUJb0v1mv525"
      },
      "execution_count": null,
      "outputs": []
    }
  ]
}